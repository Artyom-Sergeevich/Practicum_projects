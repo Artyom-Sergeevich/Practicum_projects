{
 "cells": [
  {
   "cell_type": "markdown",
   "id": "80d3da6a",
   "metadata": {},
   "source": [
    "## Описание проекта"
   ]
  },
  {
   "cell_type": "markdown",
   "id": "b842553e",
   "metadata": {},
   "source": [
    "### Проект \"Прогнозирование температуры звезды\""
   ]
  },
  {
   "cell_type": "markdown",
   "id": "02539819",
   "metadata": {},
   "source": [
    "Нам пришла задача от обсерватории «Небо на ладони»: придумать, как с помощью нейросети определять температуру на поверхности обнаруженных звёзд. \n",
    "<br>\n",
    "Обычно для расчёта температуры учёные пользуются следующими методами:\n",
    "<br>Закон смещения Вина.\n",
    "<br>Закон Стефана-Больцмана.\n",
    "<br>Спектральный анализ.\n",
    "<br>Каждый из них имеет плюсы и минусы. Обсерватория хочет внедрить технологии машинного обучения для предсказания температуры звёзд, надеясь, что этот метод будет наиболее точным и удобным.\n",
    "В базе обсерватории есть характеристики уже изученных 240 звёзд."
   ]
  },
  {
   "cell_type": "markdown",
   "id": "corresponding-armstrong",
   "metadata": {
    "ExecuteTime": {
     "end_time": "2022-05-05T04:58:05.692448Z",
     "start_time": "2022-05-05T04:58:05.688565Z"
    }
   },
   "source": [
    "## Загрузка данных"
   ]
  },
  {
   "cell_type": "code",
   "execution_count": 1,
   "id": "d0e7799c",
   "metadata": {},
   "outputs": [
    {
     "name": "stdout",
     "output_type": "stream",
     "text": [
      "Requirement already satisfied: category_encoders in /opt/conda/lib/python3.9/site-packages (2.6.4)\n",
      "Requirement already satisfied: pandas>=1.0.5 in /opt/conda/lib/python3.9/site-packages (from category_encoders) (1.2.4)\n",
      "Requirement already satisfied: patsy>=0.5.1 in /opt/conda/lib/python3.9/site-packages (from category_encoders) (0.5.2)\n",
      "Requirement already satisfied: scikit-learn>=0.20.0 in /opt/conda/lib/python3.9/site-packages (from category_encoders) (1.1.3)\n",
      "Requirement already satisfied: statsmodels>=0.9.0 in /opt/conda/lib/python3.9/site-packages (from category_encoders) (0.13.2)\n",
      "Requirement already satisfied: scipy>=1.0.0 in /opt/conda/lib/python3.9/site-packages (from category_encoders) (1.9.1)\n",
      "Requirement already satisfied: numpy>=1.14.0 in /opt/conda/lib/python3.9/site-packages (from category_encoders) (1.21.1)\n",
      "Requirement already satisfied: python-dateutil>=2.7.3 in /opt/conda/lib/python3.9/site-packages (from pandas>=1.0.5->category_encoders) (2.8.1)\n",
      "Requirement already satisfied: pytz>=2017.3 in /opt/conda/lib/python3.9/site-packages (from pandas>=1.0.5->category_encoders) (2021.1)\n",
      "Requirement already satisfied: six in /opt/conda/lib/python3.9/site-packages (from patsy>=0.5.1->category_encoders) (1.16.0)\n",
      "Requirement already satisfied: joblib>=1.0.0 in /opt/conda/lib/python3.9/site-packages (from scikit-learn>=0.20.0->category_encoders) (1.1.0)\n",
      "Requirement already satisfied: threadpoolctl>=2.0.0 in /opt/conda/lib/python3.9/site-packages (from scikit-learn>=0.20.0->category_encoders) (3.1.0)\n",
      "Requirement already satisfied: packaging>=21.3 in /opt/conda/lib/python3.9/site-packages (from statsmodels>=0.9.0->category_encoders) (21.3)\n",
      "Requirement already satisfied: pyparsing!=3.0.5,>=2.0.2 in /opt/conda/lib/python3.9/site-packages (from packaging>=21.3->statsmodels>=0.9.0->category_encoders) (2.4.7)\n"
     ]
    }
   ],
   "source": [
    "# Загрузим необходимые библиотеки\n",
    "!pip install scikit-learn==1.1.3 -q\n",
    "!pip -q install phik\n",
    "!pip install category_encoders"
   ]
  },
  {
   "cell_type": "code",
   "execution_count": 2,
   "id": "12604d5a",
   "metadata": {},
   "outputs": [],
   "source": [
    "# Импортируем необходимые нам библиотеки\n",
    "import pandas as pd\n",
    "import seaborn as sns\n",
    "import numpy as np\n",
    "import matplotlib.pyplot as plt\n",
    "import phik\n",
    "from phik import phik_matrix\n",
    "from phik.report import plot_correlation_matrix\n",
    "from sklearn.model_selection import train_test_split\n",
    "from sklearn.preprocessing import OneHotEncoder, OrdinalEncoder, StandardScaler\n",
    "from sklearn.compose import ColumnTransformer\n",
    "\n",
    "\n",
    "import torch\n",
    "import torch.nn as nn\n",
    "import torch.optim as optim\n",
    "from torch.utils.data import DataLoader\n",
    "import random\n",
    "random.seed(42)\n",
    "np.random.seed(42)\n",
    "torch.manual_seed(42)\n",
    "torch.use_deterministic_algorithms(True)\n",
    "\n",
    "# снимим ограничение на ширину столбцов\n",
    "pd.set_option('display.max_colwidth', None)"
   ]
  },
  {
   "cell_type": "code",
   "execution_count": 3,
   "id": "spectacular-folder",
   "metadata": {},
   "outputs": [
    {
     "name": "stdout",
     "output_type": "stream",
     "text": [
      "<class 'pandas.core.frame.DataFrame'>\n",
      "RangeIndex: 240 entries, 0 to 239\n",
      "Data columns (total 7 columns):\n",
      " #   Column                  Non-Null Count  Dtype  \n",
      "---  ------                  --------------  -----  \n",
      " 0   Unnamed: 0              240 non-null    int64  \n",
      " 1   Temperature (K)         240 non-null    int64  \n",
      " 2   Luminosity(L/Lo)        240 non-null    float64\n",
      " 3   Radius(R/Ro)            240 non-null    float64\n",
      " 4   Absolute magnitude(Mv)  240 non-null    float64\n",
      " 5   Star type               240 non-null    int64  \n",
      " 6   Star color              240 non-null    object \n",
      "dtypes: float64(3), int64(3), object(1)\n",
      "memory usage: 13.2+ KB\n"
     ]
    },
    {
     "data": {
      "text/html": [
       "<div>\n",
       "<style scoped>\n",
       "    .dataframe tbody tr th:only-of-type {\n",
       "        vertical-align: middle;\n",
       "    }\n",
       "\n",
       "    .dataframe tbody tr th {\n",
       "        vertical-align: top;\n",
       "    }\n",
       "\n",
       "    .dataframe thead th {\n",
       "        text-align: right;\n",
       "    }\n",
       "</style>\n",
       "<table border=\"1\" class=\"dataframe\">\n",
       "  <thead>\n",
       "    <tr style=\"text-align: right;\">\n",
       "      <th></th>\n",
       "      <th>Unnamed: 0</th>\n",
       "      <th>Temperature (K)</th>\n",
       "      <th>Luminosity(L/Lo)</th>\n",
       "      <th>Radius(R/Ro)</th>\n",
       "      <th>Absolute magnitude(Mv)</th>\n",
       "      <th>Star type</th>\n",
       "      <th>Star color</th>\n",
       "    </tr>\n",
       "  </thead>\n",
       "  <tbody>\n",
       "    <tr>\n",
       "      <th>0</th>\n",
       "      <td>0</td>\n",
       "      <td>3068</td>\n",
       "      <td>0.002400</td>\n",
       "      <td>0.1700</td>\n",
       "      <td>16.12</td>\n",
       "      <td>0</td>\n",
       "      <td>Red</td>\n",
       "    </tr>\n",
       "    <tr>\n",
       "      <th>1</th>\n",
       "      <td>1</td>\n",
       "      <td>3042</td>\n",
       "      <td>0.000500</td>\n",
       "      <td>0.1542</td>\n",
       "      <td>16.60</td>\n",
       "      <td>0</td>\n",
       "      <td>Red</td>\n",
       "    </tr>\n",
       "    <tr>\n",
       "      <th>2</th>\n",
       "      <td>2</td>\n",
       "      <td>2600</td>\n",
       "      <td>0.000300</td>\n",
       "      <td>0.1020</td>\n",
       "      <td>18.70</td>\n",
       "      <td>0</td>\n",
       "      <td>Red</td>\n",
       "    </tr>\n",
       "    <tr>\n",
       "      <th>3</th>\n",
       "      <td>3</td>\n",
       "      <td>2800</td>\n",
       "      <td>0.000200</td>\n",
       "      <td>0.1600</td>\n",
       "      <td>16.65</td>\n",
       "      <td>0</td>\n",
       "      <td>Red</td>\n",
       "    </tr>\n",
       "    <tr>\n",
       "      <th>4</th>\n",
       "      <td>4</td>\n",
       "      <td>1939</td>\n",
       "      <td>0.000138</td>\n",
       "      <td>0.1030</td>\n",
       "      <td>20.06</td>\n",
       "      <td>0</td>\n",
       "      <td>Red</td>\n",
       "    </tr>\n",
       "  </tbody>\n",
       "</table>\n",
       "</div>"
      ],
      "text/plain": [
       "   Unnamed: 0  Temperature (K)  Luminosity(L/Lo)  Radius(R/Ro)  \\\n",
       "0           0             3068          0.002400        0.1700   \n",
       "1           1             3042          0.000500        0.1542   \n",
       "2           2             2600          0.000300        0.1020   \n",
       "3           3             2800          0.000200        0.1600   \n",
       "4           4             1939          0.000138        0.1030   \n",
       "\n",
       "   Absolute magnitude(Mv)  Star type Star color  \n",
       "0                   16.12          0        Red  \n",
       "1                   16.60          0        Red  \n",
       "2                   18.70          0        Red  \n",
       "3                   16.65          0        Red  \n",
       "4                   20.06          0        Red  "
      ]
     },
     "execution_count": 3,
     "metadata": {},
     "output_type": "execute_result"
    }
   ],
   "source": [
    "# Загрузим данные /datasets/6_class.csv. \n",
    "# Ознакомимся с содержимым.\n",
    "data = pd.read_csv('/datasets/6_class.csv')\n",
    "data.info()\n",
    "data.head(5)"
   ]
  },
  {
   "cell_type": "markdown",
   "id": "ea96a273",
   "metadata": {},
   "source": [
    "Данные загрузились корректно. Информация по 240 звездам, по 6 признакам. Явных пропусков в данных нет. Тип данных определился верно."
   ]
  },
  {
   "cell_type": "markdown",
   "id": "20681731",
   "metadata": {},
   "source": [
    "У нас есть описание предоставленных для проекта данных:\n",
    "<br>Абсолютная температура T(K) — температура на поверхности звезды в Кельвинах (наш целевой признак).\n",
    "<br>Относительная светимость L/Lo — светимость звезды относительно Солнца.\n",
    "<br>Относительный радиус R/Ro — радиус звезды относительно радиуса Солнца.\n",
    "<br>Абсолютная звёздная величина Mv — физическая величина, характеризующая блеск звезды.\n",
    "<br>Звёздный цвет (white, red, blue, yellow, yellow-orange и др.) — цвет звезды, который определяют на основе спектрального анализа.\n",
    "<br>Тип звезды, где номер, соответствует типу:\n",
    "    <br>Коричневый карлик\t0\n",
    "    <br>Красный карлик\t1\n",
    "    <br>Белый карлик\t2\n",
    "    <br>Звёзды главной последовательности\t3\n",
    "    <br>Сверхгигант\t4\n",
    "    <br>Гипергигант\t5\n",
    "<br><br>\n",
    "Столбец 'Unnamed: 0' - это прежний индекс датасета, у нас создан новый при загрузке, так что можем старый удалить."
   ]
  },
  {
   "cell_type": "code",
   "execution_count": 4,
   "id": "b40dad12",
   "metadata": {},
   "outputs": [
    {
     "data": {
      "text/html": [
       "<div>\n",
       "<style scoped>\n",
       "    .dataframe tbody tr th:only-of-type {\n",
       "        vertical-align: middle;\n",
       "    }\n",
       "\n",
       "    .dataframe tbody tr th {\n",
       "        vertical-align: top;\n",
       "    }\n",
       "\n",
       "    .dataframe thead th {\n",
       "        text-align: right;\n",
       "    }\n",
       "</style>\n",
       "<table border=\"1\" class=\"dataframe\">\n",
       "  <thead>\n",
       "    <tr style=\"text-align: right;\">\n",
       "      <th></th>\n",
       "      <th>Temperature (K)</th>\n",
       "      <th>Luminosity(L/Lo)</th>\n",
       "      <th>Radius(R/Ro)</th>\n",
       "      <th>Absolute magnitude(Mv)</th>\n",
       "      <th>Star type</th>\n",
       "    </tr>\n",
       "  </thead>\n",
       "  <tbody>\n",
       "    <tr>\n",
       "      <th>count</th>\n",
       "      <td>240.000000</td>\n",
       "      <td>240.000000</td>\n",
       "      <td>240.000000</td>\n",
       "      <td>240.000000</td>\n",
       "      <td>240.000000</td>\n",
       "    </tr>\n",
       "    <tr>\n",
       "      <th>mean</th>\n",
       "      <td>10497.462500</td>\n",
       "      <td>107188.361635</td>\n",
       "      <td>237.157781</td>\n",
       "      <td>4.382396</td>\n",
       "      <td>2.500000</td>\n",
       "    </tr>\n",
       "    <tr>\n",
       "      <th>std</th>\n",
       "      <td>9552.425037</td>\n",
       "      <td>179432.244940</td>\n",
       "      <td>517.155763</td>\n",
       "      <td>10.532512</td>\n",
       "      <td>1.711394</td>\n",
       "    </tr>\n",
       "    <tr>\n",
       "      <th>min</th>\n",
       "      <td>1939.000000</td>\n",
       "      <td>0.000080</td>\n",
       "      <td>0.008400</td>\n",
       "      <td>-11.920000</td>\n",
       "      <td>0.000000</td>\n",
       "    </tr>\n",
       "    <tr>\n",
       "      <th>25%</th>\n",
       "      <td>3344.250000</td>\n",
       "      <td>0.000865</td>\n",
       "      <td>0.102750</td>\n",
       "      <td>-6.232500</td>\n",
       "      <td>1.000000</td>\n",
       "    </tr>\n",
       "    <tr>\n",
       "      <th>50%</th>\n",
       "      <td>5776.000000</td>\n",
       "      <td>0.070500</td>\n",
       "      <td>0.762500</td>\n",
       "      <td>8.313000</td>\n",
       "      <td>2.500000</td>\n",
       "    </tr>\n",
       "    <tr>\n",
       "      <th>75%</th>\n",
       "      <td>15055.500000</td>\n",
       "      <td>198050.000000</td>\n",
       "      <td>42.750000</td>\n",
       "      <td>13.697500</td>\n",
       "      <td>4.000000</td>\n",
       "    </tr>\n",
       "    <tr>\n",
       "      <th>max</th>\n",
       "      <td>40000.000000</td>\n",
       "      <td>849420.000000</td>\n",
       "      <td>1948.500000</td>\n",
       "      <td>20.060000</td>\n",
       "      <td>5.000000</td>\n",
       "    </tr>\n",
       "  </tbody>\n",
       "</table>\n",
       "</div>"
      ],
      "text/plain": [
       "       Temperature (K)  Luminosity(L/Lo)  Radius(R/Ro)  \\\n",
       "count       240.000000        240.000000    240.000000   \n",
       "mean      10497.462500     107188.361635    237.157781   \n",
       "std        9552.425037     179432.244940    517.155763   \n",
       "min        1939.000000          0.000080      0.008400   \n",
       "25%        3344.250000          0.000865      0.102750   \n",
       "50%        5776.000000          0.070500      0.762500   \n",
       "75%       15055.500000     198050.000000     42.750000   \n",
       "max       40000.000000     849420.000000   1948.500000   \n",
       "\n",
       "       Absolute magnitude(Mv)   Star type  \n",
       "count              240.000000  240.000000  \n",
       "mean                 4.382396    2.500000  \n",
       "std                 10.532512    1.711394  \n",
       "min                -11.920000    0.000000  \n",
       "25%                 -6.232500    1.000000  \n",
       "50%                  8.313000    2.500000  \n",
       "75%                 13.697500    4.000000  \n",
       "max                 20.060000    5.000000  "
      ]
     },
     "execution_count": 4,
     "metadata": {},
     "output_type": "execute_result"
    }
   ],
   "source": [
    "# Удалим старый индекс и выведем информацию о распределении признаков\n",
    "data = data.drop(columns='Unnamed: 0')\n",
    "data.describe()"
   ]
  },
  {
   "cell_type": "markdown",
   "id": "simple-subdivision",
   "metadata": {},
   "source": [
    "## Предобработка и анализ данных"
   ]
  },
  {
   "cell_type": "markdown",
   "id": "ca3dbe8d",
   "metadata": {},
   "source": [
    "Предобработку и анализ данных начнем с числовых признаков."
   ]
  },
  {
   "cell_type": "code",
   "execution_count": 5,
   "id": "flush-dream",
   "metadata": {},
   "outputs": [],
   "source": [
    "# Создадим функцию вывода гистограммы распределения для числовых данных\n",
    "def hist_num (df, col, title, label, bins):\n",
    "    plt.figure(figsize=(10, 6))\n",
    "    df[col].plot(kind = 'hist', grid=True, bins=bins)\n",
    "    plt.title(f'{title}')\n",
    "    plt.ylabel('Частота')\n",
    "    plt.xlabel(f'{label}')\n",
    "    plt.show()\n",
    "    display(df[col].describe())"
   ]
  },
  {
   "cell_type": "markdown",
   "id": "3f4dfda7",
   "metadata": {},
   "source": [
    "Сперва целевой признак 'Temperature (K)'"
   ]
  },
  {
   "cell_type": "code",
   "execution_count": 6,
   "id": "544d90cc",
   "metadata": {},
   "outputs": [
    {
     "data": {
      "image/png": "[encoded data removed]",
      "text/plain": [
       "<Figure size 720x432 with 1 Axes>"
      ]
     },
     "metadata": {
      "needs_background": "light"
     },
     "output_type": "display_data"
    },
    {
     "data": {
      "text/plain": [
       "count      240.000000\n",
       "mean     10497.462500\n",
       "std       9552.425037\n",
       "min       1939.000000\n",
       "25%       3344.250000\n",
       "50%       5776.000000\n",
       "75%      15055.500000\n",
       "max      40000.000000\n",
       "Name: Temperature (K), dtype: float64"
      ]
     },
     "metadata": {},
     "output_type": "display_data"
    }
   ],
   "source": [
    "# Выведем диаграмму распределения температуры звезд \n",
    "df=data\n",
    "col='Temperature (K)'\n",
    "title='Распределение температуры звезд'\n",
    "label='Температура, К'\n",
    "bins=50\n",
    "hist_num(df, col, title, label, bins)"
   ]
  },
  {
   "cell_type": "markdown",
   "id": "367fbf9d",
   "metadata": {},
   "source": [
    "В датасете преобладают относительно холодные звезды с температурой 3000-4000 К (как у ламп с \"теплым\" светом). Большего про целевой признак отметить нечего. Продолжим анализ остальных числовых признаков."
   ]
  },
  {
   "cell_type": "code",
   "execution_count": 7,
   "id": "1850ed58",
   "metadata": {},
   "outputs": [
    {
     "data": {
      "image/png": "[encoded data removed]",
      "text/plain": [
       "<Figure size 720x432 with 1 Axes>"
      ]
     },
     "metadata": {
      "needs_background": "light"
     },
     "output_type": "display_data"
    },
    {
     "data": {
      "text/plain": [
       "count       240.000000\n",
       "mean     107188.361635\n",
       "std      179432.244940\n",
       "min           0.000080\n",
       "25%           0.000865\n",
       "50%           0.070500\n",
       "75%      198050.000000\n",
       "max      849420.000000\n",
       "Name: Luminosity(L/Lo), dtype: float64"
      ]
     },
     "metadata": {},
     "output_type": "display_data"
    }
   ],
   "source": [
    "# Выведем диаграмму распределения относительной светимости звезды относительно Солнца \n",
    "df=data\n",
    "col='Luminosity(L/Lo)'\n",
    "title='Относительная светимость звезд'\n",
    "label='L/Lo'\n",
    "bins=50\n",
    "hist_num(df, col, title, label, bins)"
   ]
  },
  {
   "cell_type": "markdown",
   "id": "ea1c0b56",
   "metadata": {},
   "source": [
    "Распределение демонстрирует существенную несбалансированность по данному признаку."
   ]
  },
  {
   "cell_type": "code",
   "execution_count": 8,
   "id": "fb4d1b5b",
   "metadata": {},
   "outputs": [
    {
     "data": {
      "image/png": "[encoded data removed]",
      "text/plain": [
       "<Figure size 720x432 with 1 Axes>"
      ]
     },
     "metadata": {
      "needs_background": "light"
     },
     "output_type": "display_data"
    },
    {
     "data": {
      "text/plain": [
       "count    121.000000\n",
       "mean       0.003523\n",
       "std        0.010154\n",
       "min        0.000080\n",
       "25%        0.000437\n",
       "50%        0.000870\n",
       "75%        0.001800\n",
       "max        0.085000\n",
       "Name: Luminosity(L/Lo), dtype: float64"
      ]
     },
     "metadata": {},
     "output_type": "display_data"
    }
   ],
   "source": [
    "# Выведем диаграмму распределения с минимальной относительной светимости\n",
    "df=data[data['Luminosity(L/Lo)'] < 0.1]\n",
    "col='Luminosity(L/Lo)'\n",
    "title='Относительная светимость звезд'\n",
    "label='L/Lo'\n",
    "bins=50\n",
    "hist_num(df, col, title, label, bins)"
   ]
  },
  {
   "cell_type": "markdown",
   "id": "88c7c1c5",
   "metadata": {},
   "source": [
    "121 звезда из 240 имеют светимость менее 0.1 относительно Солнца. Еще одно свидетельство несбалансированности в характеристиках звезд. Отметим это и продолжим."
   ]
  },
  {
   "cell_type": "code",
   "execution_count": 9,
   "id": "53a006de",
   "metadata": {},
   "outputs": [
    {
     "data": {
      "image/png": "[encoded data removed]",
      "text/plain": [
       "<Figure size 720x432 with 1 Axes>"
      ]
     },
     "metadata": {
      "needs_background": "light"
     },
     "output_type": "display_data"
    },
    {
     "data": {
      "text/plain": [
       "count     240.000000\n",
       "mean      237.157781\n",
       "std       517.155763\n",
       "min         0.008400\n",
       "25%         0.102750\n",
       "50%         0.762500\n",
       "75%        42.750000\n",
       "max      1948.500000\n",
       "Name: Radius(R/Ro), dtype: float64"
      ]
     },
     "metadata": {},
     "output_type": "display_data"
    }
   ],
   "source": [
    "# Выведем диаграмму распределения относительного радиуса R/Ro звезд относительно радиуса Солнца \n",
    "df=data\n",
    "col='Radius(R/Ro)'\n",
    "title='Относительный радиус звезд'\n",
    "label='R/Ro'\n",
    "bins=50\n",
    "hist_num(df, col, title, label, bins)"
   ]
  },
  {
   "cell_type": "markdown",
   "id": "dfdbca4b",
   "metadata": {},
   "source": [
    "Та же история с несбалансированностью датасета, значительная часть звезд имеют минимальный радиус."
   ]
  },
  {
   "cell_type": "code",
   "execution_count": 10,
   "id": "181cb3df",
   "metadata": {},
   "outputs": [
    {
     "data": {
      "image/png": "[encoded data removed]",
      "text/plain": [
       "<Figure size 720x432 with 1 Axes>"
      ]
     },
     "metadata": {
      "needs_background": "light"
     },
     "output_type": "display_data"
    },
    {
     "data": {
      "text/plain": [
       "count    240.000000\n",
       "mean       4.382396\n",
       "std       10.532512\n",
       "min      -11.920000\n",
       "25%       -6.232500\n",
       "50%        8.313000\n",
       "75%       13.697500\n",
       "max       20.060000\n",
       "Name: Absolute magnitude(Mv), dtype: float64"
      ]
     },
     "metadata": {},
     "output_type": "display_data"
    }
   ],
   "source": [
    "# Выведем диаграмму распределения абсолютной звёздной величины, Mv \n",
    "df=data\n",
    "col='Absolute magnitude(Mv)'\n",
    "title='Абсолютная звёздная величина Mv'\n",
    "label='Mv'\n",
    "bins=30\n",
    "hist_num(df, col, title, label, bins)"
   ]
  },
  {
   "cell_type": "markdown",
   "id": "06a2bb45",
   "metadata": {},
   "source": [
    "Распределение отдаленно похожее на бимодальное, с отрицательным Mv и положительным Mv. Далее на очереди категориальные признаки."
   ]
  },
  {
   "cell_type": "code",
   "execution_count": 11,
   "id": "10d7f9d0",
   "metadata": {},
   "outputs": [],
   "source": [
    "# Создадим функцию вывода круговой диаграммы для категориальных данных\n",
    "def pie_cat (df, col, title, label):\n",
    "    group_tab = df.groupby(col).size()/len(df)\n",
    "    group_tab = group_tab.sort_values(ascending=True)\n",
    "    group_tab.plot(kind='pie', autopct = '%1.0f%%', normalize=False)\n",
    "    plt.title(f'{title}')\n",
    "    plt.ylabel(f'{label}')\n",
    "    plt.show() "
   ]
  },
  {
   "cell_type": "code",
   "execution_count": 12,
   "id": "1f770468",
   "metadata": {},
   "outputs": [
    {
     "data": {
      "image/png": "[encoded data removed]",
      "text/plain": [
       "<Figure size 432x288 with 1 Axes>"
      ]
     },
     "metadata": {},
     "output_type": "display_data"
    }
   ],
   "source": [
    "# Выведем диаграмму соотношения по типам звезд\n",
    "df=data\n",
    "col='Star type'\n",
    "title='Соотношение по типам звезд'\n",
    "label='тип звезды'\n",
    "pie_cat(df, col, title, label)"
   ]
  },
  {
   "cell_type": "markdown",
   "id": "971d9f14",
   "metadata": {},
   "source": [
    "Распределение указывает на равные доли типов звезд в датасете. Посмотрим звездный свет."
   ]
  },
  {
   "cell_type": "markdown",
   "id": "75bc5a95",
   "metadata": {},
   "source": [
    "Тут неожиданное разнообразие цветов. Диаграмма не может отразить его полностью, но видны явные опечатки и дублирования в названии цветов. Воспользуемся табличным представлением данных."
   ]
  },
  {
   "cell_type": "code",
   "execution_count": 13,
   "id": "3aeab9a1",
   "metadata": {},
   "outputs": [
    {
     "data": {
      "image/png": "[encoded data removed]",
      "text/plain": [
       "<Figure size 576x432 with 1 Axes>"
      ]
     },
     "metadata": {
      "needs_background": "light"
     },
     "output_type": "display_data"
    }
   ],
   "source": [
    "# Выведем диаграмму соотношения по звездному свету\n",
    "group_tab = data.groupby('Star color').size()/len(data)\n",
    "group_tab = group_tab.sort_values(ascending=True)\n",
    "plt.figure(figsize=(8, 6))\n",
    "group_tab.plot(kind='barh')\n",
    "plt.title('Распределение звезд по цвету')\n",
    "plt.xlabel('Доля от общего количества')\n",
    "plt.ylabel('Цвет звезды')\n",
    "plt.tight_layout()\n",
    "plt.show()\n"
   ]
  },
  {
   "cell_type": "code",
   "execution_count": 14,
   "id": "4a1f566d",
   "metadata": {},
   "outputs": [
    {
     "data": {
      "text/plain": [
       "Red                   112\n",
       "Blue                   55\n",
       "Blue-white             26\n",
       "Blue White             10\n",
       "yellow-white            8\n",
       "White                   7\n",
       "Blue white              3\n",
       "Yellowish White         3\n",
       "white                   3\n",
       "Orange                  2\n",
       "yellowish               2\n",
       "Whitish                 2\n",
       "Yellowish               1\n",
       "Pale yellow orange      1\n",
       "Blue-White              1\n",
       "Blue white              1\n",
       "White-Yellow            1\n",
       "Orange-Red              1\n",
       "Blue                    1\n",
       "Name: Star color, dtype: int64"
      ]
     },
     "execution_count": 14,
     "metadata": {},
     "output_type": "execute_result"
    }
   ],
   "source": [
    "# Выведем список уникальных значений звездных цветов\n",
    "data['Star color'].value_counts()"
   ]
  },
  {
   "cell_type": "code",
   "execution_count": 15,
   "id": "5b86ee4c",
   "metadata": {},
   "outputs": [],
   "source": [
    "# Приведем все цвета к нижнему регистру, уберем пробелы. Для удаления дублирования объединим по оттенкам.\n",
    "data['Star color'] = data['Star color'].replace('Red', 'red')\n",
    "data['Star color'] = data['Star color'].replace(('Blue', 'Blue '), 'blue')\n",
    "data['Star color'] = data['Star color'].replace(('Blue White', 'Blue white', 'Blue-white', 'Blue white ', 'Blue-White'), 'blue_white')\n",
    "data['Star color'] = data['Star color'].replace('White', 'white')\n",
    "data['Star color'] = data['Star color'].replace('Whitish', 'whitish')\n",
    "data['Star color'] = data['Star color'].replace(('Yellowish White', 'yellow-white', 'White-Yellow'), 'yellow_white')\n",
    "data['Star color'] = data['Star color'].replace('Yellowish', 'yellowish')\n",
    "data['Star color'] = data['Star color'].replace('Orange-Red', 'orange_red')\n",
    "data['Star color'] = data['Star color'].replace('Pale yellow orange','pale_yellow_orange')\n",
    "data['Star color'] = data['Star color'].replace('Orange', 'orange')\n"
   ]
  },
  {
   "cell_type": "code",
   "execution_count": 16,
   "id": "58267cd7",
   "metadata": {},
   "outputs": [
    {
     "data": {
      "text/plain": [
       "red                   112\n",
       "blue                   56\n",
       "blue_white             41\n",
       "yellow_white           12\n",
       "white                  10\n",
       "yellowish               3\n",
       "orange                  2\n",
       "whitish                 2\n",
       "orange_red              1\n",
       "pale_yellow_orange      1\n",
       "Name: Star color, dtype: int64"
      ]
     },
     "execution_count": 16,
     "metadata": {},
     "output_type": "execute_result"
    }
   ],
   "source": [
    "# Выведем список уникальных значений звездных цветов после обработки\n",
    "data['Star color'].value_counts()"
   ]
  },
  {
   "cell_type": "markdown",
   "id": "3f512299",
   "metadata": {},
   "source": [
    "Теперь с звездным цветом у нас порядок. Для корреляционного анализа воспользуемся матрицей корреляции."
   ]
  },
  {
   "cell_type": "code",
   "execution_count": 17,
   "id": "26e904ed",
   "metadata": {},
   "outputs": [
    {
     "data": {
      "image/png": "[encoded data removed]",
      "text/plain": [
       "<Figure size 1440x720 with 2 Axes>"
      ]
     },
     "metadata": {
      "needs_background": "light"
     },
     "output_type": "display_data"
    }
   ],
   "source": [
    "# Обозначим количественные признаки для матрицы\n",
    "interval_cols = ['Temperature (K)', 'Luminosity(L/Lo)', 'Radius(R/Ro)', 'Absolute magnitude(Mv)']\n",
    "\n",
    "# Выведем матрицу корреляции\n",
    "target_matrix = data.phik_matrix(interval_cols = interval_cols)\n",
    "plt.figure(figsize=(20, 10))\n",
    "sns.heatmap(target_matrix, annot=True, cmap='Greens')\n",
    "plt.title('Матрица корреляции $\\phi_K$')\n",
    "plt.show()"
   ]
  },
  {
   "cell_type": "code",
   "execution_count": 18,
   "id": "9245c3ec",
   "metadata": {},
   "outputs": [
    {
     "data": {
      "text/plain": [
       "Temperature (K)           1.000000\n",
       "Star color                0.806195\n",
       "Absolute magnitude(Mv)    0.710472\n",
       "Star type                 0.603924\n",
       "Luminosity(L/Lo)          0.562667\n",
       "Radius(R/Ro)              0.236637\n",
       "Name: Temperature (K), dtype: float64"
      ]
     },
     "execution_count": 18,
     "metadata": {},
     "output_type": "execute_result"
    }
   ],
   "source": [
    "# Выделим и отсортируем коэффициенты корреляции с нашим целевым признаком\n",
    "target_matrix['Temperature (K)'].sort_values(ascending=False)"
   ]
  },
  {
   "cell_type": "markdown",
   "id": "bdc89895",
   "metadata": {},
   "source": [
    "Наилучшую корреляцию с целевым признаком 'Temperature (K)' имеет 'Star color'. Признаки 'Absolute magnitude(Mv)', 'Star type' и 'Luminosity(L/Lo)' тоже имеют устойчивую связь с 'Temperature (K)'.\n",
    "<br>\n",
    "Для себя отметим во первых, что 'Star color' имеет очевидную иерархическую связь по видимому спектру излучения с температурой (известное физическое явление). И поэтому кодироваться будет с помощью OrdinalEncoder с передачей иерархии списком.\n",
    "<br>\n",
    "Во вторых, 'Star type' хоть и категориальный признак, но уже по сути закодирован в числовом виде и с корректной иерархией, что подтверждается отличной корреляцией (с коэф. 0.92) с признаком 'Absolute magnitude(Mv)'. Поэтому не будем его кодировать, в сеть он пойдет в неизменном виде."
   ]
  },
  {
   "cell_type": "code",
   "execution_count": 19,
   "id": "33d130de",
   "metadata": {},
   "outputs": [
    {
     "data": {
      "text/plain": [
       "Star color\n",
       "blue                  19921.5\n",
       "blue_white            14100.0\n",
       "white                  8879.5\n",
       "whitish                8876.0\n",
       "pale_yellow_orange     7230.0\n",
       "yellow_white           6928.5\n",
       "orange_red             5112.0\n",
       "yellowish              4526.0\n",
       "orange                 4018.0\n",
       "red                    3324.0\n",
       "Name: Temperature (K), dtype: float64"
      ]
     },
     "execution_count": 19,
     "metadata": {},
     "output_type": "execute_result"
    }
   ],
   "source": [
    "# Выведем медианные значения температуры по цветам звезд для составления корректного списка для OrdinalEncoder\n",
    "grouped = data.groupby('Star color')['Temperature (K)'] \\\n",
    "    .agg('median') \\\n",
    "    .sort_values(ascending=False) \n",
    "grouped"
   ]
  },
  {
   "cell_type": "code",
   "execution_count": 20,
   "id": "872e65fd",
   "metadata": {},
   "outputs": [
    {
     "data": {
      "image/png": "[encoded data removed]",
      "text/plain": [
       "<Figure size 1152x864 with 4 Axes>"
      ]
     },
     "metadata": {
      "needs_background": "light"
     },
     "output_type": "display_data"
    }
   ],
   "source": [
    "# Выведем диаграммы рассеивания, разделив цветом звезды по типу \n",
    "plt.figure(figsize=(16, 12))\n",
    "\n",
    "# График 1: Температура vs Светимость\n",
    "plt.subplot(2, 2, 1)\n",
    "sns.scatterplot(data=data, \n",
    "                x='Temperature (K)', \n",
    "                y='Luminosity(L/Lo)', \n",
    "                hue='Star type', \n",
    "                palette='viridis',\n",
    "                alpha=0.7)\n",
    "plt.title('Температура vs Светимость')\n",
    "plt.xscale('log')  # Используем логарифмический масштаб\n",
    "plt.yscale('log')\n",
    "plt.xlabel('Температура (K)')\n",
    "plt.ylabel('Светимость (L/Lo)')\n",
    "\n",
    "# График 2: Температура vs Радиус\n",
    "plt.subplot(2, 2, 2)\n",
    "sns.scatterplot(data=data, \n",
    "                x='Temperature (K)', \n",
    "                y='Radius(R/Ro)', \n",
    "                hue='Star type', \n",
    "                palette='plasma',\n",
    "                alpha=0.7)\n",
    "plt.title('Температура vs Радиус')\n",
    "plt.xscale('log')\n",
    "plt.yscale('log')\n",
    "plt.xlabel('Температура (K)')\n",
    "plt.ylabel('Радиус (R/Ro)')\n",
    "\n",
    "# График 3: Светимость vs Радиус\n",
    "plt.subplot(2, 2, 3)\n",
    "sns.scatterplot(data=data, \n",
    "                x='Luminosity(L/Lo)', \n",
    "                y='Radius(R/Ro)', \n",
    "                hue='Star type', \n",
    "                palette='magma',\n",
    "                alpha=0.7)\n",
    "plt.title('Светимость vs Радиус')\n",
    "plt.xscale('log')\n",
    "plt.yscale('log')\n",
    "plt.xlabel('Светимость (L/Lo)')\n",
    "plt.ylabel('Радиус (R/Ro)')\n",
    "\n",
    "# График 4: Абсолютная величина vs Температура\n",
    "plt.subplot(2, 2, 4)\n",
    "sns.scatterplot(data=data, \n",
    "                x='Temperature (K)', \n",
    "                y='Absolute magnitude(Mv)', \n",
    "                hue='Star type', \n",
    "                palette='inferno',\n",
    "                alpha=0.7)\n",
    "plt.title('Температура vs Абсолютная величина')\n",
    "plt.xscale('log')\n",
    "plt.gca().invert_yaxis()  # Инвертируем ось Y для величины\n",
    "plt.xlabel('Температура (K)')\n",
    "plt.ylabel('Абсолютная величина (Mv)')\n",
    "\n",
    "plt.tight_layout()\n",
    "plt.show()"
   ]
  },
  {
   "cell_type": "markdown",
   "id": "6fe56eed",
   "metadata": {},
   "source": [
    "Диаграммы рассеивания демонстрируют различия в свойствах звезд в зависимости от их типа, явно локализуя на графиках отдельные типы. "
   ]
  },
  {
   "cell_type": "markdown",
   "id": "funded-electric",
   "metadata": {},
   "source": [
    "## Построение базовой нейронной сети"
   ]
  },
  {
   "cell_type": "markdown",
   "id": "c3ee1e31",
   "metadata": {},
   "source": [
    "Подготовим тренировочные и тестовые выборки. Преобразуем их в тензоры."
   ]
  },
  {
   "cell_type": "code",
   "execution_count": 21,
   "id": "51569d8e",
   "metadata": {},
   "outputs": [],
   "source": [
    "# Подготовим выборки для обучения моделей\n",
    "\n",
    "# Разделим датасет на входные признаки и целевой\n",
    "X = data.drop('Temperature (K)', axis=1)\n",
    "y = data['Temperature (K)']\n",
    "\n",
    "#categorical_cols = ['Star type', 'Star color']\n",
    "\n",
    "#X = pd.get_dummies(X, columns=categorical_cols, drop_first=True)\n",
    "\n",
    "# Разделим данные на тренировочные и тестовые выборки\n",
    "X_train, X_test, y_train, y_test = train_test_split(X, y, test_size=0.25, random_state=42)\n",
    "\n",
    "# Кодирование OrdinalEncoder для 'Star color'\n",
    "categorical_cols = ['Star color']\n",
    "# Создадим категориальный последовательный список \n",
    "colors = ['red', 'orange_red', 'orange', 'pale_yellow_orange', 'yellowish', 'yellow_white', 'white', 'whitish', 'blue_white', 'blue']\n",
    "\n",
    "# Применяем OrdinalEncoder\n",
    "ordinal_encoder = OrdinalEncoder(categories=[colors])\n",
    "\n",
    "# Применим кодирование к тренировочной выборке\n",
    "X_train[categorical_cols] = ordinal_encoder.fit_transform(X_train[categorical_cols])\n",
    "\n",
    "# Применим то же кодирование к тестовой выборке\n",
    "X_test[categorical_cols] = ordinal_encoder.transform(X_test[categorical_cols])\n",
    "\n",
    "# Стандартизируем числовые признаки\n",
    "numerical_cols = ['Luminosity(L/Lo)', 'Radius(R/Ro)', 'Absolute magnitude(Mv)']\n",
    "scaler = StandardScaler()\n",
    "\n",
    "# Применим масштабирование к тренировочной выборке\n",
    "X_train[numerical_cols] = scaler.fit_transform(X_train[numerical_cols])\n",
    "\n",
    "# Применим то же масштабирование к тестовой выборке\n",
    "X_test[numerical_cols] = scaler.transform(X_test[numerical_cols])\n",
    "\n",
    "# Преобразуем в тензоры наши выборки\n",
    "X_train = torch.FloatTensor(X_train.values)\n",
    "X_test = torch.FloatTensor(X_test.values)\n",
    "y_train = torch.FloatTensor(y_train.values)\n",
    "y_test = torch.FloatTensor(y_test.values)"
   ]
  },
  {
   "cell_type": "markdown",
   "id": "ddc7eaf1",
   "metadata": {},
   "source": [
    "В качетсве базовой нейронной сети выберем полносвязную сеть с двумя скрытыми слоями с 8-ю и 5-ю нейронами. "
   ]
  },
  {
   "cell_type": "code",
   "execution_count": 22,
   "id": "3a73db42",
   "metadata": {},
   "outputs": [
    {
     "data": {
      "text/plain": [
       "5"
      ]
     },
     "execution_count": 22,
     "metadata": {},
     "output_type": "execute_result"
    }
   ],
   "source": [
    "X_train.shape[1]"
   ]
  },
  {
   "cell_type": "code",
   "execution_count": 23,
   "id": "4581e0c9",
   "metadata": {},
   "outputs": [],
   "source": [
    "# Зададим количество нейронов в слоях\n",
    "n_in_neurons = X_train.shape[1]\n",
    "n_hidden_neurons_1 = 8\n",
    "n_hidden_neurons_2 = 5\n",
    "n_out_neurons = 1"
   ]
  },
  {
   "cell_type": "code",
   "execution_count": 24,
   "id": "924b54ea",
   "metadata": {},
   "outputs": [],
   "source": [
    "# Создадим класс и архитектуру нейронной сети\n",
    "class NeuralNet(nn.Module):\n",
    "    def __init__(self, in_neurons, hidden_neurons_1, hidden_neurons_2, out_neurons):\n",
    "        super(NeuralNet, self).__init__()\n",
    "        self.fc1 = nn.Linear(in_neurons, hidden_neurons_1)\n",
    "        self.ac1 = nn.LeakyReLU()\n",
    "        self.fc2 = nn.Linear(hidden_neurons_1, hidden_neurons_2)\n",
    "        self.ac2 = nn.LeakyReLU()\n",
    "        self.fc3 = nn.Linear(hidden_neurons_2, out_neurons)\n",
    "        self.ac3 = nn.LeakyReLU()\n",
    "\n",
    "    def forward(self, x):\n",
    "        x = self.fc1(x)\n",
    "        x = self.ac1(x)\n",
    "        x = self.fc2(x)\n",
    "        x = self.ac2(x)\n",
    "        x = self.fc3(x)\n",
    "        x = self.ac3(x)\n",
    "        return x"
   ]
  },
  {
   "cell_type": "code",
   "execution_count": 25,
   "id": "0d06fa80",
   "metadata": {},
   "outputs": [],
   "source": [
    "# Инициализируем модель, зададим оптимизацию и функцию потерь\n",
    "net = NeuralNet(n_in_neurons, n_hidden_neurons_1, n_hidden_neurons_2, n_out_neurons)\n",
    "optimizer = torch.optim.Adam(net.parameters(), lr=2e-3)\n",
    "loss = nn.MSELoss()"
   ]
  },
  {
   "cell_type": "code",
   "execution_count": 26,
   "id": "664e0aa6",
   "metadata": {},
   "outputs": [
    {
     "data": {
      "text/plain": [
       "NeuralNet(\n",
       "  (fc1): Linear(in_features=5, out_features=8, bias=True)\n",
       "  (ac1): LeakyReLU(negative_slope=0.01)\n",
       "  (fc2): Linear(in_features=8, out_features=5, bias=True)\n",
       "  (ac2): LeakyReLU(negative_slope=0.01)\n",
       "  (fc3): Linear(in_features=5, out_features=1, bias=True)\n",
       "  (ac3): LeakyReLU(negative_slope=0.01)\n",
       ")"
      ]
     },
     "execution_count": 26,
     "metadata": {},
     "output_type": "execute_result"
    }
   ],
   "source": [
    "# Инициализируем начальные веса и смещения\n",
    "def init_weights(layer):\n",
    "    if type(layer) == nn.Linear: # Проверка, что слой – полносвязный\n",
    "        nn.init.kaiming_uniform_(layer.weight, mode='fan_in', nonlinearity='relu')\n",
    "\n",
    "net.apply(init_weights)"
   ]
  },
  {
   "cell_type": "code",
   "execution_count": 27,
   "id": "d65a9474",
   "metadata": {},
   "outputs": [
    {
     "name": "stdout",
     "output_type": "stream",
     "text": [
      "Epoch #: 0\n",
      "RMSE = 14625.48828125 \n",
      "\n",
      "Epoch #: 1000\n",
      "RMSE = 8015.13427734375 \n",
      "\n",
      "Epoch #: 2000\n",
      "RMSE = 5872.34423828125 \n",
      "\n",
      "Epoch #: 3000\n",
      "RMSE = 5672.89404296875 \n",
      "\n",
      "Epoch #: 4000\n",
      "RMSE = 5484.7822265625 \n",
      "\n",
      "Epoch #: 5000\n",
      "RMSE = 5288.9345703125 \n",
      "\n",
      "Epoch #: 6000\n",
      "RMSE = 5108.53759765625 \n",
      "\n",
      "Epoch #: 7000\n",
      "RMSE = 4831.93310546875 \n",
      "\n",
      "Epoch #: 8000\n",
      "RMSE = 4584.49658203125 \n",
      "\n",
      "Epoch #: 9000\n",
      "RMSE = 4303.6416015625 \n",
      "\n",
      "Epoch #: 10000\n",
      "RMSE = 4068.40869140625 \n",
      "\n"
     ]
    }
   ],
   "source": [
    "# Запустим цикл обучения\n",
    "\n",
    "num_epochs = 10001\n",
    "\n",
    "for epoch in range(num_epochs):\n",
    "    \n",
    "    optimizer.zero_grad()\n",
    "    \n",
    "    preds = net.forward(X_train).flatten()    \n",
    "    \n",
    "    # Регуляризация весов\n",
    "    #l1_lambda = 0.0005\n",
    "    #l1_norm = sum(p.abs().sum() for p in net.parameters())\n",
    "    l2_lambda = 0.01\n",
    "    l2_norm = sum(p.pow(2.0).sum() for p in net.parameters())\n",
    "    loss_value = torch.sqrt(loss(preds, y_train)) + l2_lambda * l2_norm #+ l1_lambda * l1_norm\n",
    "    loss_value.backward()\n",
    "\n",
    "    optimizer.step()\n",
    "\n",
    "    if epoch % 1000 == 0:\n",
    "        net.eval()\n",
    "        y_pred = net.forward(X_test).flatten()\n",
    "        print('Epoch #:', epoch)\n",
    "        print('RMSE =', torch.sqrt(loss(y_pred, y_test)).item(), '\\n')\n",
    "   "
   ]
  },
  {
   "cell_type": "code",
   "execution_count": 28,
   "id": "37b8e8dd",
   "metadata": {},
   "outputs": [],
   "source": [
    "# Функция для построения графика\n",
    "def plot_results(y_test, y_pred):\n",
    "    n = len(y_test)\n",
    "    plt.figure(figsize=(10, 6))\n",
    "    plt.bar(range(1, n+1), y_pred.detach().numpy(), color='orange', label='Прогноз')\n",
    "    plt.bar(range(1, n+1), y_test.detach().numpy(), color='blue', width=0.5, label='Факт')\n",
    "    \n",
    "    plt.title('Сравнение фактических и предсказанных температур звезд')\n",
    "    plt.xlabel('Номер звезды в таблице данных')\n",
    "    plt.ylabel('Температура (K)')\n",
    "    plt.legend()\n",
    "    plt.grid()\n",
    "    plt.show()\n",
    "\n"
   ]
  },
  {
   "cell_type": "code",
   "execution_count": 29,
   "id": "36f8f8d1",
   "metadata": {},
   "outputs": [
    {
     "data": {
      "image/png": "[encoded data removed]",
      "text/plain": [
       "<Figure size 720x432 with 1 Axes>"
      ]
     },
     "metadata": {
      "needs_background": "light"
     },
     "output_type": "display_data"
    }
   ],
   "source": [
    "# Выведем график сравнения результатов\n",
    "plot_results(y_test, y_pred)"
   ]
  },
  {
   "cell_type": "markdown",
   "id": "f05720cb",
   "metadata": {},
   "source": [
    "Базовая модель реализована, результаты демонстрируют наличие потенциала в ее улучшении. Метрика RMSE на 9000-й эпохе составила 4303.6 К. На графике сравнения видно, что диапазоне низких температур модель хорошо работает, затем в среднем диапазоне начинает завышать, а в области высоких значений - занижать температуру звезд относительно факта. "
   ]
  },
  {
   "cell_type": "markdown",
   "id": "growing-supply",
   "metadata": {},
   "source": [
    "## Улучшение нейронной сети"
   ]
  },
  {
   "cell_type": "markdown",
   "id": "a1e93126",
   "metadata": {},
   "source": [
    "В качестве направлений для улучшения качества нейронной сети применим методы Dropout и Batch sizes с перебором гиперпараметров."
   ]
  },
  {
   "cell_type": "code",
   "execution_count": 30,
   "id": "acceptable-forwarding",
   "metadata": {
    "scrolled": false
   },
   "outputs": [
    {
     "name": "stdout",
     "output_type": "stream",
     "text": [
      "\n",
      "Training with Dropout: 0.0, Batch Size: 30\n",
      "Epoch #: 0, RMSE = 14625.3681640625\n",
      "Epoch #: 1000, RMSE = 5670.55908203125\n",
      "Epoch #: 2000, RMSE = 5514.99267578125\n",
      "Epoch #: 3000, RMSE = 5317.376953125\n",
      "Epoch #: 4000, RMSE = 5121.21533203125\n",
      "Epoch #: 5000, RMSE = 4919.35693359375\n",
      "Epoch #: 6000, RMSE = 4729.779296875\n",
      "Epoch #: 7000, RMSE = 4549.17333984375\n",
      "Epoch #: 8000, RMSE = 4448.29443359375\n",
      "Epoch #: 9000, RMSE = 4351.6435546875\n",
      "Epoch #: 10000, RMSE = 4269.478515625\n",
      "\n",
      "Training with Dropout: 0.0, Batch Size: 60\n",
      "Epoch #: 0, RMSE = 14621.806640625\n",
      "Epoch #: 1000, RMSE = 5833.724609375\n",
      "Epoch #: 2000, RMSE = 5618.384765625\n",
      "Epoch #: 3000, RMSE = 5467.4501953125\n",
      "Epoch #: 4000, RMSE = 5317.111328125\n",
      "Epoch #: 5000, RMSE = 5161.529296875\n",
      "Epoch #: 6000, RMSE = 5005.5830078125\n",
      "Epoch #: 7000, RMSE = 4798.7958984375\n",
      "Epoch #: 8000, RMSE = 4603.15966796875\n",
      "Epoch #: 9000, RMSE = 4456.8876953125\n",
      "Epoch #: 10000, RMSE = 4406.798828125\n",
      "\n",
      "Training with Dropout: 0.0, Batch Size: 90\n",
      "Epoch #: 0, RMSE = 14626.3232421875\n",
      "Epoch #: 1000, RMSE = 5980.5380859375\n",
      "Epoch #: 2000, RMSE = 5736.326171875\n",
      "Epoch #: 3000, RMSE = 5578.263671875\n",
      "Epoch #: 4000, RMSE = 5477.15380859375\n",
      "Epoch #: 5000, RMSE = 5407.7958984375\n",
      "Epoch #: 6000, RMSE = 5329.50146484375\n",
      "Epoch #: 7000, RMSE = 5267.35205078125\n",
      "Epoch #: 8000, RMSE = 5174.5849609375\n",
      "Epoch #: 9000, RMSE = 5045.47021484375\n",
      "Epoch #: 10000, RMSE = 4862.82861328125\n",
      "\n",
      "Training with Dropout: 0.2, Batch Size: 30\n",
      "Epoch #: 0, RMSE = 14626.87109375\n",
      "Epoch #: 1000, RMSE = 5703.79150390625\n",
      "Epoch #: 2000, RMSE = 5512.68359375\n",
      "Epoch #: 3000, RMSE = 5340.7392578125\n",
      "Epoch #: 4000, RMSE = 5157.3037109375\n",
      "Epoch #: 5000, RMSE = 4923.89501953125\n",
      "Epoch #: 6000, RMSE = 4651.2216796875\n",
      "Epoch #: 7000, RMSE = 4431.5166015625\n",
      "Epoch #: 8000, RMSE = 4320.27685546875\n",
      "Epoch #: 9000, RMSE = 4276.03076171875\n",
      "Epoch #: 10000, RMSE = 4261.169921875\n",
      "\n",
      "Training with Dropout: 0.2, Batch Size: 60\n",
      "Epoch #: 0, RMSE = 14625.9658203125\n",
      "Epoch #: 1000, RMSE = 5923.39990234375\n",
      "Epoch #: 2000, RMSE = 5708.3056640625\n",
      "Epoch #: 3000, RMSE = 5569.29931640625\n",
      "Epoch #: 4000, RMSE = 5490.56787109375\n",
      "Epoch #: 5000, RMSE = 5442.6162109375\n",
      "Epoch #: 6000, RMSE = 5384.828125\n",
      "Epoch #: 7000, RMSE = 5331.595703125\n",
      "Epoch #: 8000, RMSE = 5280.18701171875\n",
      "Epoch #: 9000, RMSE = 5193.4052734375\n",
      "Epoch #: 10000, RMSE = 5085.37646484375\n",
      "\n",
      "Training with Dropout: 0.2, Batch Size: 90\n",
      "Epoch #: 0, RMSE = 14626.5302734375\n",
      "Epoch #: 1000, RMSE = 6280.4609375\n",
      "Epoch #: 2000, RMSE = 5849.62744140625\n",
      "Epoch #: 3000, RMSE = 5675.517578125\n",
      "Epoch #: 4000, RMSE = 5582.1708984375\n",
      "Epoch #: 5000, RMSE = 5506.63037109375\n",
      "Epoch #: 6000, RMSE = 5460.49609375\n",
      "Epoch #: 7000, RMSE = 5415.05419921875\n",
      "Epoch #: 8000, RMSE = 5366.8701171875\n",
      "Epoch #: 9000, RMSE = 5323.1171875\n",
      "Epoch #: 10000, RMSE = 5281.21875\n",
      "\n",
      "Training with Dropout: 0.4, Batch Size: 30\n",
      "Epoch #: 0, RMSE = 14616.5263671875\n",
      "Epoch #: 1000, RMSE = 5673.791015625\n",
      "Epoch #: 2000, RMSE = 5489.14599609375\n",
      "Epoch #: 3000, RMSE = 5308.03955078125\n",
      "Epoch #: 4000, RMSE = 5115.12451171875\n",
      "Epoch #: 5000, RMSE = 4888.30810546875\n",
      "Epoch #: 6000, RMSE = 4604.265625\n",
      "Epoch #: 7000, RMSE = 4399.26416015625\n",
      "Epoch #: 8000, RMSE = 4301.11083984375\n",
      "Epoch #: 9000, RMSE = 4266.0078125\n",
      "Epoch #: 10000, RMSE = 4254.6142578125\n",
      "\n",
      "Training with Dropout: 0.4, Batch Size: 60\n",
      "Epoch #: 0, RMSE = 14626.86328125\n",
      "Epoch #: 1000, RMSE = 6085.63330078125\n",
      "Epoch #: 2000, RMSE = 5775.333984375\n",
      "Epoch #: 3000, RMSE = 5635.72412109375\n",
      "Epoch #: 4000, RMSE = 5556.7158203125\n",
      "Epoch #: 5000, RMSE = 5486.68359375\n",
      "Epoch #: 6000, RMSE = 5444.3095703125\n",
      "Epoch #: 7000, RMSE = 5396.51416015625\n",
      "Epoch #: 8000, RMSE = 5346.595703125\n",
      "Epoch #: 9000, RMSE = 5302.95654296875\n",
      "Epoch #: 10000, RMSE = 5270.33642578125\n",
      "\n",
      "Training with Dropout: 0.4, Batch Size: 90\n",
      "Epoch #: 0, RMSE = 14621.3486328125\n",
      "Epoch #: 1000, RMSE = 6088.4990234375\n",
      "Epoch #: 2000, RMSE = 5723.080078125\n",
      "Epoch #: 3000, RMSE = 5617.44384765625\n",
      "Epoch #: 4000, RMSE = 5535.04443359375\n",
      "Epoch #: 5000, RMSE = 5472.080078125\n",
      "Epoch #: 6000, RMSE = 5402.48876953125\n",
      "Epoch #: 7000, RMSE = 5325.91748046875\n",
      "Epoch #: 8000, RMSE = 5212.13916015625\n",
      "Epoch #: 9000, RMSE = 5091.53466796875\n",
      "Epoch #: 10000, RMSE = 4966.3818359375\n",
      "\n",
      "Лучшие параметры:\n",
      "Dropout: 0.4\n",
      "Batch Size: 30\n",
      "Достигнутый RMSE: 4254.61\n"
     ]
    }
   ],
   "source": [
    "# Функция для обеспечения воспроизводимости\n",
    "def set_seeds(seed=42):\n",
    "    torch.manual_seed(seed)\n",
    "    if torch.cuda.is_available():\n",
    "        torch.cuda.manual_seed(seed)\n",
    "        torch.cuda.manual_seed_all(seed)  # для multi-GPU.\n",
    "    np.random.seed(seed)  # для numpy\n",
    "    torch.backends.cudnn.deterministic = True\n",
    "    torch.backends.cudnn.benchmark = False\n",
    "\n",
    "# Устанавливаем seeds\n",
    "set_seeds()\n",
    "\n",
    "# Обновленная архитектура с Dropout\n",
    "class NeuralNet(nn.Module):\n",
    "    def __init__(self, in_neurons, hidden_neurons_1, hidden_neurons_2, out_neurons, dropout_rate):\n",
    "        super(NeuralNet, self).__init__()\n",
    "        self.fc1 = nn.Linear(in_neurons, hidden_neurons_1)\n",
    "        self.ac1 = nn.LeakyReLU()\n",
    "        self.dropout1 = nn.Dropout(dropout_rate)\n",
    "        self.fc2 = nn.Linear(hidden_neurons_1, hidden_neurons_2)\n",
    "        self.ac2 = nn.LeakyReLU()\n",
    "        self.dropout2 = nn.Dropout(dropout_rate)\n",
    "        self.fc3 = nn.Linear(hidden_neurons_2, out_neurons)\n",
    "        self.ac3 = nn.LeakyReLU()\n",
    "\n",
    "    def forward(self, x):\n",
    "        x = self.fc1(x)\n",
    "        x = self.ac1(x)\n",
    "        x = self.dropout1(x)\n",
    "        x = self.fc2(x)\n",
    "        x = self.ac2(x)\n",
    "        x = self.dropout2(x)\n",
    "        x = self.fc3(x)\n",
    "        x = self.ac3(x)\n",
    "        return x\n",
    "\n",
    "# Параметры для перебора\n",
    "dropout_values = [0.0, 0.2, 0.4]\n",
    "batch_sizes = [30, 60, 90]\n",
    "\n",
    "# results для сохранения результатов\n",
    "results = []\n",
    "\n",
    "# Перебор параметров\n",
    "for dropout in dropout_values:\n",
    "    for batch_size in batch_sizes:\n",
    "        print(f\"\\nTraining with Dropout: {dropout}, Batch Size: {batch_size}\")\n",
    "        \n",
    "        # Инициализация модели\n",
    "        n_in_neurons = X_train.shape[1]\n",
    "        n_hidden_neurons_1 = 8\n",
    "        n_hidden_neurons_2 = 5\n",
    "        n_out_neurons = 1\n",
    "        \n",
    "        net = NeuralNet(n_in_neurons, n_hidden_neurons_1, n_hidden_neurons_2, n_out_neurons, dropout)\n",
    "        optimizer = torch.optim.Adam(net.parameters(), lr=2e-3, weight_decay=0.01)\n",
    "        loss = nn.MSELoss()\n",
    "        \n",
    "        # Инициализация весов\n",
    "        def init_weights(layer):\n",
    "            if type(layer) == nn.Linear:\n",
    "                nn.init.kaiming_uniform_(layer.weight, mode='fan_in', nonlinearity='relu')\n",
    "        \n",
    "        net.apply(init_weights)\n",
    "        \n",
    "        # Обучение\n",
    "        num_epochs = 10001\n",
    "        train_loader = torch.utils.data.DataLoader(list(zip(X_train, y_train)), \n",
    "                                                   batch_size=batch_size, \n",
    "                                                   shuffle=True, \n",
    "                                                   worker_init_fn=lambda worker_id: np.random.seed(42 + worker_id))\n",
    "        \n",
    "        for epoch in range(num_epochs):\n",
    "            for batch_x, batch_y in train_loader:\n",
    "                optimizer.zero_grad()\n",
    "                preds = net.forward(batch_x).flatten()\n",
    "                loss_value = loss(preds, batch_y)\n",
    "                                          \n",
    "                loss_value.backward()\n",
    "                optimizer.step()\n",
    "            \n",
    "            \n",
    "            if epoch % 1000 == 0:\n",
    "                net.eval()\n",
    "                y_pred = net.forward(X_test).flatten()\n",
    "                current_rmse = torch.sqrt(loss(y_pred, y_test)).item()\n",
    "                print(f'Epoch #: {epoch}, RMSE = {current_rmse}')\n",
    "\n",
    "            # После обучения сохраняем результаты\n",
    "            final_rmse = torch.sqrt(loss(y_pred, y_test)).item()\n",
    "            results.append({\n",
    "                'dropout': dropout,\n",
    "                'batch_size': batch_size,\n",
    "                'final_rmse': final_rmse,\n",
    "                'y_pred': y_pred  # Сохраняем предсказания\n",
    "            })\n",
    "\n",
    "            \n",
    "\n",
    "# Выводим таблицу результатов\n",
    "results_df = pd.DataFrame(results)\n",
    "\n",
    "# Находим лучшие параметры и соответствующие предсказания\n",
    "best_params = results_df.loc[results_df['final_rmse'].idxmin()]\n",
    "best_y_pred = best_params['y_pred']\n",
    "\n",
    "print(\"\\nЛучшие параметры:\")\n",
    "print(f\"Dropout: {best_params['dropout']}\")\n",
    "print(f\"Batch Size: {best_params['batch_size']}\")\n",
    "print(f\"Достигнутый RMSE: {best_params['final_rmse']:.2f}\")"
   ]
  },
  {
   "cell_type": "code",
   "execution_count": 31,
   "id": "3610d142",
   "metadata": {},
   "outputs": [
    {
     "data": {
      "text/html": [
       "<style  type=\"text/css\" >\n",
       "#T_48476_row0_col0{\n",
       "            background-color:  #030303;\n",
       "            color:  #f1f1f1;\n",
       "        }#T_48476_row0_col1{\n",
       "            background-color:  #2c2c2c;\n",
       "            color:  #f1f1f1;\n",
       "        }#T_48476_row0_col2{\n",
       "            background-color:  #b3b3b3;\n",
       "            color:  #000000;\n",
       "        }#T_48476_row1_col0{\n",
       "            background-color:  #010101;\n",
       "            color:  #f1f1f1;\n",
       "        }#T_48476_row1_col1{\n",
       "            background-color:  #e4e4e4;\n",
       "            color:  #000000;\n",
       "        }#T_48476_row1_col2{\n",
       "            background-color:  #ffffff;\n",
       "            color:  #000000;\n",
       "        }#T_48476_row2_col0{\n",
       "            background-color:  #000000;\n",
       "            color:  #f1f1f1;\n",
       "        }#T_48476_row2_col1{\n",
       "            background-color:  #fefefe;\n",
       "            color:  #000000;\n",
       "        }#T_48476_row2_col2{\n",
       "            background-color:  #cccccc;\n",
       "            color:  #000000;\n",
       "        }</style><table id=\"T_48476_\" ><thead>    <tr>        <th class=\"index_name level0\" >batch_size</th>        <th class=\"col_heading level0 col0\" >30</th>        <th class=\"col_heading level0 col1\" >60</th>        <th class=\"col_heading level0 col2\" >90</th>    </tr>    <tr>        <th class=\"index_name level0\" >dropout</th>        <th class=\"blank\" ></th>        <th class=\"blank\" ></th>        <th class=\"blank\" ></th>    </tr></thead><tbody>\n",
       "                <tr>\n",
       "                        <th id=\"T_48476_level0_row0\" class=\"row_heading level0 row0\" >0.0</th>\n",
       "                        <td id=\"T_48476_row0_col0\" class=\"data row0 col0\" >4269.478516</td>\n",
       "                        <td id=\"T_48476_row0_col1\" class=\"data row0 col1\" >4406.798828</td>\n",
       "                        <td id=\"T_48476_row0_col2\" class=\"data row0 col2\" >4862.828613</td>\n",
       "            </tr>\n",
       "            <tr>\n",
       "                        <th id=\"T_48476_level0_row1\" class=\"row_heading level0 row1\" >0.2</th>\n",
       "                        <td id=\"T_48476_row1_col0\" class=\"data row1 col0\" >4261.169922</td>\n",
       "                        <td id=\"T_48476_row1_col1\" class=\"data row1 col1\" >5085.376465</td>\n",
       "                        <td id=\"T_48476_row1_col2\" class=\"data row1 col2\" >5281.218750</td>\n",
       "            </tr>\n",
       "            <tr>\n",
       "                        <th id=\"T_48476_level0_row2\" class=\"row_heading level0 row2\" >0.4</th>\n",
       "                        <td id=\"T_48476_row2_col0\" class=\"data row2 col0\" >4254.614258</td>\n",
       "                        <td id=\"T_48476_row2_col1\" class=\"data row2 col1\" >5270.336426</td>\n",
       "                        <td id=\"T_48476_row2_col2\" class=\"data row2 col2\" >4966.381836</td>\n",
       "            </tr>\n",
       "    </tbody></table>"
      ],
      "text/plain": [
       "<pandas.io.formats.style.Styler at 0x7f8a486ed040>"
      ]
     },
     "execution_count": 31,
     "metadata": {},
     "output_type": "execute_result"
    }
   ],
   "source": [
    "# Веведем сводную таблицу с лучшими результатами для каждой комбинации\n",
    "pivot_table = results_df.pivot_table(\n",
    "    index='dropout', \n",
    "    columns='batch_size', \n",
    "    values='final_rmse', \n",
    "    aggfunc='min'\n",
    ")\n",
    "styled_pivot = pivot_table.style.background_gradient(\n",
    "    cmap='Greys_r',  # цветовая карта\n",
    "    axis=None,       # применять ко всей таблице\n",
    "    vmin=pivot_table.min().min(),  # минимальное значение\n",
    "    vmax=pivot_table.max().max()   # максимальное значение\n",
    ")\n",
    "styled_pivot"
   ]
  },
  {
   "cell_type": "code",
   "execution_count": 32,
   "id": "e62ad31d",
   "metadata": {
    "scrolled": false
   },
   "outputs": [
    {
     "data": {
      "image/png": "[encoded data removed]",
      "text/plain": [
       "<Figure size 720x432 with 1 Axes>"
      ]
     },
     "metadata": {
      "needs_background": "light"
     },
     "output_type": "display_data"
    }
   ],
   "source": [
    "# Выведем график сравнения результатов лучшей нейронной сети по результатам перебора гиперпараметров\n",
    "plot_results(y_test, best_y_pred)"
   ]
  },
  {
   "cell_type": "code",
   "execution_count": 33,
   "id": "947b1368",
   "metadata": {
    "scrolled": false
   },
   "outputs": [
    {
     "data": {
      "image/png": "[encoded data removed]",
      "text/plain": [
       "<Figure size 720x432 with 1 Axes>"
      ]
     },
     "metadata": {
      "needs_background": "light"
     },
     "output_type": "display_data"
    }
   ],
   "source": [
    "# Выведем график сравнения результатов базовой нейронной сети\n",
    "plot_results(y_test, y_pred)"
   ]
  },
  {
   "cell_type": "markdown",
   "id": "10b26e8e",
   "metadata": {},
   "source": [
    "По результатам перебора гиперпараметров\n",
    "dropout_values = [0.0, 0.2, 0.4]\n",
    "batch_sizes = [30, 60, 90]\n",
    "<br>Лучшие параметры оказались при:\n",
    "<br>Dropout: 0.4\n",
    "<br>Batch Size: 30\n",
    "<br>Достигнутый RMSE: 4254.6\n",
    "<br><br>\n",
    "В таблице с результатами видно, что наилучшие метрики у batch_sizes = 30, dropout_values в свою очередь не меняет существенно качество нейронной сети.\n",
    "<br><br>\n",
    "При сравнении на графиках заметно незначительное улучшение в прогнозировании, наличие потенциала по улучшению тоже просматривается. Добавим нормализацию батчей в скрытые слои нейронной сети и посмотрим что получится."
   ]
  },
  {
   "cell_type": "code",
   "execution_count": 34,
   "id": "ca341e55",
   "metadata": {
    "scrolled": false
   },
   "outputs": [
    {
     "name": "stdout",
     "output_type": "stream",
     "text": [
      "\n",
      "Training with Dropout: 0.0, Batch Size: 30\n",
      "Epoch #: 0, RMSE = 14626.521484375\n",
      "Epoch #: 1000, RMSE = 5350.70068359375\n",
      "Epoch #: 2000, RMSE = 4767.8798828125\n",
      "Epoch #: 3000, RMSE = 4381.14453125\n",
      "Epoch #: 4000, RMSE = 4255.787109375\n",
      "Epoch #: 5000, RMSE = 4267.31494140625\n",
      "Epoch #: 6000, RMSE = 4314.9658203125\n",
      "Epoch #: 7000, RMSE = 4350.94091796875\n",
      "Epoch #: 8000, RMSE = 4365.6083984375\n",
      "Epoch #: 9000, RMSE = 4381.2548828125\n",
      "Epoch #: 10000, RMSE = 4397.97705078125\n",
      "\n",
      "Training with Dropout: 0.0, Batch Size: 60\n",
      "Epoch #: 0, RMSE = 14624.517578125\n",
      "Epoch #: 1000, RMSE = 5538.0146484375\n",
      "Epoch #: 2000, RMSE = 5042.73828125\n",
      "Epoch #: 3000, RMSE = 4409.46728515625\n",
      "Epoch #: 4000, RMSE = 4275.79443359375\n",
      "Epoch #: 5000, RMSE = 4127.689453125\n",
      "Epoch #: 6000, RMSE = 3937.8828125\n",
      "Epoch #: 7000, RMSE = 3985.14697265625\n",
      "Epoch #: 8000, RMSE = 4065.3486328125\n",
      "Epoch #: 9000, RMSE = 4143.21240234375\n",
      "Epoch #: 10000, RMSE = 4149.404296875\n",
      "\n",
      "Training with Dropout: 0.0, Batch Size: 90\n",
      "Epoch #: 0, RMSE = 14626.2900390625\n",
      "Epoch #: 1000, RMSE = 5685.33544921875\n",
      "Epoch #: 2000, RMSE = 5447.39697265625\n",
      "Epoch #: 3000, RMSE = 5164.36474609375\n",
      "Epoch #: 4000, RMSE = 4686.05029296875\n",
      "Epoch #: 5000, RMSE = 4271.77685546875\n",
      "Epoch #: 6000, RMSE = 4122.873046875\n",
      "Epoch #: 7000, RMSE = 4135.115234375\n",
      "Epoch #: 8000, RMSE = 4130.31494140625\n",
      "Epoch #: 9000, RMSE = 4093.75146484375\n",
      "Epoch #: 10000, RMSE = 4067.616455078125\n",
      "\n",
      "Training with Dropout: 0.2, Batch Size: 30\n",
      "Epoch #: 0, RMSE = 14626.859375\n",
      "Epoch #: 1000, RMSE = 5430.025390625\n",
      "Epoch #: 2000, RMSE = 4682.89013671875\n",
      "Epoch #: 3000, RMSE = 4422.34716796875\n",
      "Epoch #: 4000, RMSE = 4416.064453125\n",
      "Epoch #: 5000, RMSE = 4415.6259765625\n",
      "Epoch #: 6000, RMSE = 4428.4296875\n",
      "Epoch #: 7000, RMSE = 4431.02099609375\n",
      "Epoch #: 8000, RMSE = 4443.84619140625\n",
      "Epoch #: 9000, RMSE = 4449.83056640625\n",
      "Epoch #: 10000, RMSE = 4456.966796875\n",
      "\n",
      "Training with Dropout: 0.2, Batch Size: 60\n",
      "Epoch #: 0, RMSE = 14626.3427734375\n",
      "Epoch #: 1000, RMSE = 5667.93115234375\n",
      "Epoch #: 2000, RMSE = 5523.74658203125\n",
      "Epoch #: 3000, RMSE = 5404.69775390625\n",
      "Epoch #: 4000, RMSE = 5215.494140625\n",
      "Epoch #: 5000, RMSE = 4890.265625\n",
      "Epoch #: 6000, RMSE = 4441.1484375\n",
      "Epoch #: 7000, RMSE = 4225.15087890625\n",
      "Epoch #: 8000, RMSE = 4164.5078125\n",
      "Epoch #: 9000, RMSE = 4142.13671875\n",
      "Epoch #: 10000, RMSE = 4140.33837890625\n",
      "\n",
      "Training with Dropout: 0.2, Batch Size: 90\n",
      "Epoch #: 0, RMSE = 14626.58984375\n",
      "Epoch #: 1000, RMSE = 5740.78759765625\n",
      "Epoch #: 2000, RMSE = 5580.10498046875\n",
      "Epoch #: 3000, RMSE = 5440.74658203125\n",
      "Epoch #: 4000, RMSE = 5281.4833984375\n",
      "Epoch #: 5000, RMSE = 5113.455078125\n",
      "Epoch #: 6000, RMSE = 4970.0048828125\n",
      "Epoch #: 7000, RMSE = 4568.05810546875\n",
      "Epoch #: 8000, RMSE = 4277.08984375\n",
      "Epoch #: 9000, RMSE = 4171.37158203125\n",
      "Epoch #: 10000, RMSE = 4117.08544921875\n",
      "\n",
      "Training with Dropout: 0.4, Batch Size: 30\n",
      "Epoch #: 0, RMSE = 14624.6572265625\n",
      "Epoch #: 1000, RMSE = 5437.697265625\n",
      "Epoch #: 2000, RMSE = 4766.78466796875\n",
      "Epoch #: 3000, RMSE = 4321.86181640625\n",
      "Epoch #: 4000, RMSE = 4297.9990234375\n",
      "Epoch #: 5000, RMSE = 4296.755859375\n",
      "Epoch #: 6000, RMSE = 4292.4931640625\n",
      "Epoch #: 7000, RMSE = 4293.86083984375\n",
      "Epoch #: 8000, RMSE = 4293.658203125\n",
      "Epoch #: 9000, RMSE = 4245.7373046875\n",
      "Epoch #: 10000, RMSE = 4210.251953125\n",
      "\n",
      "Training with Dropout: 0.4, Batch Size: 60\n",
      "Epoch #: 0, RMSE = 14626.859375\n",
      "Epoch #: 1000, RMSE = 5706.42626953125\n",
      "Epoch #: 2000, RMSE = 5528.3349609375\n",
      "Epoch #: 3000, RMSE = 5411.6884765625\n",
      "Epoch #: 4000, RMSE = 5311.87255859375\n",
      "Epoch #: 5000, RMSE = 5230.6240234375\n",
      "Epoch #: 6000, RMSE = 5042.12158203125\n",
      "Epoch #: 7000, RMSE = 4620.50927734375\n",
      "Epoch #: 8000, RMSE = 4236.09912109375\n",
      "Epoch #: 9000, RMSE = 4119.47412109375\n",
      "Epoch #: 10000, RMSE = 4051.57421875\n",
      "\n",
      "Training with Dropout: 0.4, Batch Size: 90\n",
      "Epoch #: 0, RMSE = 14624.03515625\n",
      "Epoch #: 1000, RMSE = 5652.8681640625\n",
      "Epoch #: 2000, RMSE = 5480.767578125\n",
      "Epoch #: 3000, RMSE = 5245.16162109375\n",
      "Epoch #: 4000, RMSE = 4814.82568359375\n",
      "Epoch #: 5000, RMSE = 4247.83984375\n",
      "Epoch #: 6000, RMSE = 4068.298583984375\n",
      "Epoch #: 7000, RMSE = 4018.0625\n",
      "Epoch #: 8000, RMSE = 4087.281005859375\n",
      "Epoch #: 9000, RMSE = 4115.93310546875\n",
      "Epoch #: 10000, RMSE = 4133.49853515625\n",
      "\n",
      "Лучшие параметры:\n",
      "Dropout: 0.0\n",
      "Batch Size: 60\n",
      "Достигнутый RMSE: 3937.88\n"
     ]
    }
   ],
   "source": [
    "# Функция для обеспечения воспроизводимости\n",
    "def set_seeds(seed=42):\n",
    "    torch.manual_seed(seed)\n",
    "    if torch.cuda.is_available():\n",
    "        torch.cuda.manual_seed(seed)\n",
    "        torch.cuda.manual_seed_all(seed)  # для multi-GPU.\n",
    "    np.random.seed(seed)  # для numpy\n",
    "    torch.backends.cudnn.deterministic = True\n",
    "    torch.backends.cudnn.benchmark = False\n",
    "\n",
    "# Устанавливаем seeds\n",
    "set_seeds()\n",
    "\n",
    "# Обновленная архитектура с Dropout и Batch Normalization\n",
    "class NeuralNet(nn.Module):\n",
    "    def __init__(self, in_neurons, hidden_neurons_1, hidden_neurons_2, out_neurons, dropout_rate):\n",
    "        super(NeuralNet, self).__init__()\n",
    "        self.fc1 = nn.Linear(in_neurons, hidden_neurons_1)\n",
    "        self.bn1 = nn.BatchNorm1d(hidden_neurons_1)  # Добавляем BatchNorm после первого слоя\n",
    "        self.ac1 = nn.LeakyReLU()\n",
    "        self.dropout1 = nn.Dropout(dropout_rate)\n",
    "        \n",
    "        self.fc2 = nn.Linear(hidden_neurons_1, hidden_neurons_2)\n",
    "        self.bn2 = nn.BatchNorm1d(hidden_neurons_2)  # Добавляем BatchNorm после второго слоя\n",
    "        self.ac2 = nn.LeakyReLU()\n",
    "        self.dropout2 = nn.Dropout(dropout_rate)\n",
    "        \n",
    "        self.fc3 = nn.Linear(hidden_neurons_2, out_neurons)\n",
    "        self.ac3 = nn.LeakyReLU()\n",
    "\n",
    "    def forward(self, x):\n",
    "        x = self.fc1(x)\n",
    "        x = self.bn1(x)  # Применяем BatchNorm\n",
    "        x = self.ac1(x)\n",
    "        x = self.dropout1(x)\n",
    "        \n",
    "        x = self.fc2(x)\n",
    "        x = self.bn2(x)  # Применяем BatchNorm\n",
    "        x = self.ac2(x)\n",
    "        x = self.dropout2(x)\n",
    "        \n",
    "        x = self.fc3(x)\n",
    "        x = self.ac3(x)\n",
    "        return x\n",
    "\n",
    "# Параметры для перебора\n",
    "dropout_values = [0.0, 0.2, 0.4]\n",
    "batch_sizes = [30, 60, 90]\n",
    "\n",
    "# results для сохранения результатов\n",
    "results = []\n",
    "\n",
    "# Перебор параметров\n",
    "for dropout in dropout_values:\n",
    "    for batch_size in batch_sizes:\n",
    "        print(f\"\\nTraining with Dropout: {dropout}, Batch Size: {batch_size}\")\n",
    "        \n",
    "        # Инициализация модели\n",
    "        n_in_neurons = X_train.shape[1]\n",
    "        n_hidden_neurons_1 = 8\n",
    "        n_hidden_neurons_2 = 5\n",
    "        n_out_neurons = 1\n",
    "        \n",
    "        net = NeuralNet(n_in_neurons, n_hidden_neurons_1, n_hidden_neurons_2, n_out_neurons, dropout)\n",
    "        optimizer = torch.optim.Adam(net.parameters(), lr=2e-3, weight_decay=0.01)\n",
    "        loss = nn.MSELoss()\n",
    "        \n",
    "        # Инициализация весов\n",
    "        def init_weights(layer):\n",
    "            if type(layer) == nn.Linear:\n",
    "                nn.init.kaiming_uniform_(layer.weight, mode='fan_in', nonlinearity='relu')\n",
    "        \n",
    "        net.apply(init_weights)\n",
    "        \n",
    "        # Обучение\n",
    "        num_epochs = 10001\n",
    "        train_loader = torch.utils.data.DataLoader(list(zip(X_train, y_train)), \n",
    "                                                   batch_size=batch_size, \n",
    "                                                   shuffle=True, \n",
    "                                                   worker_init_fn=lambda worker_id: np.random.seed(42 + worker_id))\n",
    "        \n",
    "        for epoch in range(num_epochs):\n",
    "            for batch_x, batch_y in train_loader:\n",
    "                optimizer.zero_grad()\n",
    "                preds = net.forward(batch_x).flatten()\n",
    "                loss_value = loss(preds, batch_y)\n",
    "                                          \n",
    "                loss_value.backward()\n",
    "                optimizer.step()\n",
    "            \n",
    "            \n",
    "            if epoch % 1000 == 0:\n",
    "                net.eval()\n",
    "                y_pred = net.forward(X_test).flatten()\n",
    "                current_rmse = torch.sqrt(loss(y_pred, y_test)).item()\n",
    "                print(f'Epoch #: {epoch}, RMSE = {current_rmse}')\n",
    "\n",
    "            # После обучения сохраняем результаты\n",
    "            final_rmse = torch.sqrt(loss(y_pred, y_test)).item()\n",
    "            results.append({\n",
    "                'dropout': dropout,\n",
    "                'batch_size': batch_size,\n",
    "                'final_rmse': final_rmse,\n",
    "                'y_pred': y_pred  # Сохраняем предсказания\n",
    "            })\n",
    "\n",
    "            \n",
    "\n",
    "# Выводим таблицу результатов\n",
    "results_df = pd.DataFrame(results)\n",
    "\n",
    "# Находим лучшие параметры и соответствующие предсказания\n",
    "best_params = results_df.loc[results_df['final_rmse'].idxmin()]\n",
    "best_y_pred = best_params['y_pred']\n",
    "\n",
    "print(\"\\nЛучшие параметры:\")\n",
    "print(f\"Dropout: {best_params['dropout']}\")\n",
    "print(f\"Batch Size: {best_params['batch_size']}\")\n",
    "print(f\"Достигнутый RMSE: {best_params['final_rmse']:.2f}\")"
   ]
  },
  {
   "cell_type": "code",
   "execution_count": 35,
   "id": "2567a01a",
   "metadata": {},
   "outputs": [
    {
     "data": {
      "text/html": [
       "<style  type=\"text/css\" >\n",
       "#T_15f62_row0_col0{\n",
       "            background-color:  #c6c6c6;\n",
       "            color:  #000000;\n",
       "        }#T_15f62_row0_col1{\n",
       "            background-color:  #000000;\n",
       "            color:  #f1f1f1;\n",
       "        }#T_15f62_row0_col2{\n",
       "            background-color:  #575757;\n",
       "            color:  #f1f1f1;\n",
       "        }#T_15f62_row1_col0{\n",
       "            background-color:  #ffffff;\n",
       "            color:  #000000;\n",
       "        }#T_15f62_row1_col1{\n",
       "            background-color:  #818181;\n",
       "            color:  #000000;\n",
       "        }#T_15f62_row1_col2{\n",
       "            background-color:  #737373;\n",
       "            color:  #000000;\n",
       "        }#T_15f62_row2_col0{\n",
       "            background-color:  #ababab;\n",
       "            color:  #000000;\n",
       "        }#T_15f62_row2_col1{\n",
       "            background-color:  #4d4d4d;\n",
       "            color:  #f1f1f1;\n",
       "        }#T_15f62_row2_col2{\n",
       "            background-color:  #333333;\n",
       "            color:  #f1f1f1;\n",
       "        }</style><table id=\"T_15f62_\" ><thead>    <tr>        <th class=\"index_name level0\" >batch_size</th>        <th class=\"col_heading level0 col0\" >30</th>        <th class=\"col_heading level0 col1\" >60</th>        <th class=\"col_heading level0 col2\" >90</th>    </tr>    <tr>        <th class=\"index_name level0\" >dropout</th>        <th class=\"blank\" ></th>        <th class=\"blank\" ></th>        <th class=\"blank\" ></th>    </tr></thead><tbody>\n",
       "                <tr>\n",
       "                        <th id=\"T_15f62_level0_row0\" class=\"row_heading level0 row0\" >0.0</th>\n",
       "                        <td id=\"T_15f62_row0_col0\" class=\"data row0 col0\" >4255.787109</td>\n",
       "                        <td id=\"T_15f62_row0_col1\" class=\"data row0 col1\" >3937.882812</td>\n",
       "                        <td id=\"T_15f62_row0_col2\" class=\"data row0 col2\" >4067.616455</td>\n",
       "            </tr>\n",
       "            <tr>\n",
       "                        <th id=\"T_15f62_level0_row1\" class=\"row_heading level0 row1\" >0.2</th>\n",
       "                        <td id=\"T_15f62_row1_col0\" class=\"data row1 col0\" >4415.625977</td>\n",
       "                        <td id=\"T_15f62_row1_col1\" class=\"data row1 col1\" >4140.338379</td>\n",
       "                        <td id=\"T_15f62_row1_col2\" class=\"data row1 col2\" >4117.085449</td>\n",
       "            </tr>\n",
       "            <tr>\n",
       "                        <th id=\"T_15f62_level0_row2\" class=\"row_heading level0 row2\" >0.4</th>\n",
       "                        <td id=\"T_15f62_row2_col0\" class=\"data row2 col0\" >4210.251953</td>\n",
       "                        <td id=\"T_15f62_row2_col1\" class=\"data row2 col1\" >4051.574219</td>\n",
       "                        <td id=\"T_15f62_row2_col2\" class=\"data row2 col2\" >4018.062500</td>\n",
       "            </tr>\n",
       "    </tbody></table>"
      ],
      "text/plain": [
       "<pandas.io.formats.style.Styler at 0x7f8a4b3fe310>"
      ]
     },
     "execution_count": 35,
     "metadata": {},
     "output_type": "execute_result"
    }
   ],
   "source": [
    "# Веведем сводную таблицу с лучшими результатами для каждой комбинации\n",
    "pivot_table = results_df.pivot_table(\n",
    "    index='dropout', \n",
    "    columns='batch_size', \n",
    "    values='final_rmse', \n",
    "    aggfunc='min'\n",
    ")\n",
    "styled_pivot = pivot_table.style.background_gradient(\n",
    "    cmap='Greys_r',  # цветовая карта\n",
    "    axis=None,       # применять ко всей таблице\n",
    "    vmin=pivot_table.min().min(),  # минимальное значение\n",
    "    vmax=pivot_table.max().max()   # максимальное значение\n",
    ")\n",
    "styled_pivot"
   ]
  },
  {
   "cell_type": "code",
   "execution_count": 36,
   "id": "c43d8da2",
   "metadata": {},
   "outputs": [
    {
     "data": {
      "image/png": "[encoded data removed]",
      "text/plain": [
       "<Figure size 720x432 with 1 Axes>"
      ]
     },
     "metadata": {
      "needs_background": "light"
     },
     "output_type": "display_data"
    }
   ],
   "source": [
    "# Выведем график сравнения результатов лучшей нейронной сети после добавления нормализации батчей\n",
    "plot_results(y_test, best_y_pred)"
   ]
  },
  {
   "cell_type": "code",
   "execution_count": 37,
   "id": "2e36ee7d",
   "metadata": {},
   "outputs": [
    {
     "data": {
      "image/png": "[encoded data removed]",
      "text/plain": [
       "<Figure size 720x432 with 1 Axes>"
      ]
     },
     "metadata": {
      "needs_background": "light"
     },
     "output_type": "display_data"
    }
   ],
   "source": [
    "# Выведем график сравнения результатов базовой нейронной сети\n",
    "plot_results(y_test, y_pred)"
   ]
  },
  {
   "cell_type": "markdown",
   "id": "aec4a373",
   "metadata": {},
   "source": [
    "По результатам применения нормализации батчей лучшие параметры оказались при:\n",
    "<br>Dropout: 0.0\n",
    "<br>Batch Size: 60\n",
    "<br>Достигнутый RMSE: 3937.88\n",
    "<br><br>\n",
    "В таблице с результатами видно, что наилучшие метрики уже у batch_sizes = 60 и batch_sizes = 90, что вероятно свидетельствует о незначительном влиянии гиперпараметра Batch Size в целом на метрики RMSE, а выявленные различия обусловлены выбранным SEEMS.\n",
    "<br>\n",
    "Dropout, в свою очередь, опять не оказал существенного влияния на качество нейронной сети.\n",
    "<br>\n",
    "Графики визуально отличаются незначительно, но отличия имеются. Улучшилось прогнозирование в зоне высоких и средних температур."
   ]
  },
  {
   "cell_type": "markdown",
   "id": "accurate-infrastructure",
   "metadata": {},
   "source": [
    "## Выводы"
   ]
  },
  {
   "cell_type": "markdown",
   "id": "9f731995",
   "metadata": {},
   "source": [
    "В процессе работы над проектом мы загрузили предоставленные данные, провели их предобработку и анализ. В процессе подготовки исправили опечатки в данных цвета звезд. Вывели матрицу корреляции, проанализировали корреляцию с целевым признаком. На основании корреляционного анализа определили подход к кодировке данных для нейронной сети.\n",
    "<br><br>\n",
    "С целью предсказания температуры звезд была создана базовая нейронная сеть, с двумя скрытыми слоями, с 8-ю и 5-ю нейронами соответствено. Лучшая метрика RMSE получена на 9000-й эпохе и составила 4303.6 К.\n",
    "<br><br>\n",
    "С целью повышения качества нейронной сети мы реализовали применение методов Dropout и Batch sizes с перебором гиперпараметров dropout_values = [0.0, 0.2, 0.4] batch_sizes = [30, 60, 90]. Этот подход не привел к существенному росту качества нейронной сети. \n",
    "<br>Лучшие параметры оказались при гиперпараметрах:\n",
    "<br>Dropout: 0.4\n",
    "<br>Batch Size: 30\n",
    "<br>Достигнутый RMSE: 4254.6\n",
    "<br><br>\n",
    "Далее добавили нормализацию батчей в скрытые слои нейронной сети. Это существенно повысило ее качество. Достигнутый RMSE составил 3937.88 К. Именно данная реализация нейронной сети рекомендуется к применению.\n",
    "<br><br>\n",
    "В задании к проекту указан целевой уровень метрики RMSE на уровне 4500 К. Благодаря разумному подходу к предобработке данных и к кодированию категориальных признаков данный уровень был с запасом превзойден даже базовой моделью нейронной сети. Применение методов Dropout и Batch sizes с перебором гиперпараметров не повысило качество модели, а незначительный рост качества по RMSE (около 50 К) обусловлен скорее выбранным значением SEEMS (для воспроизводимости результатов). Применение нормализации батчей позволило снизить RMSE более чем на 300 К, что можно признать отличным результатом.\n",
    "<br><br>\n",
    "Также необходимо отметить сильную несбалансированность данных по некоторым признакам и очень малый объем предоставленных данных. Датасет на 240 строк и при таком содержании не позволяет получить репрезентативную тестовую выборку при test_size=0.2. Необходимо выбирать test_size=0.25, иначе не получить корректные метрики RMSE при прохождении по эпохам. О репрезентативной валидационной выборке и при этом достаточной тренировочной выборке и говорить не приходится. Поэтому рекомендуется обогатить исходный набор данных для ликвидации несбалансированности в данных и реализации подхлда с репрезентативной валидационной выборкой."
   ]
  }
 ],
 "metadata": {
  "ExecuteTimeLog": [
   {
    "duration": 1358,
    "start_time": "2025-06-12T19:25:27.578Z"
   },
   {
    "duration": 10,
    "start_time": "2025-06-12T19:25:38.472Z"
   },
   {
    "duration": 316,
    "start_time": "2025-06-12T19:25:50.224Z"
   },
   {
    "duration": 14,
    "start_time": "2025-06-12T19:26:07.248Z"
   },
   {
    "duration": 5,
    "start_time": "2025-06-12T19:26:12.221Z"
   },
   {
    "duration": 37,
    "start_time": "2025-06-12T19:26:14.996Z"
   },
   {
    "duration": 19,
    "start_time": "2025-06-12T19:36:38.058Z"
   },
   {
    "duration": 9,
    "start_time": "2025-06-12T19:36:59.455Z"
   },
   {
    "duration": 18,
    "start_time": "2025-06-12T19:37:06.726Z"
   },
   {
    "duration": 13,
    "start_time": "2025-06-12T19:40:00.347Z"
   },
   {
    "duration": 22,
    "start_time": "2025-06-12T19:40:19.616Z"
   },
   {
    "duration": 42,
    "start_time": "2025-06-12T19:57:19.418Z"
   },
   {
    "duration": 31,
    "start_time": "2025-06-12T19:57:33.022Z"
   },
   {
    "duration": 30,
    "start_time": "2025-06-12T20:02:23.741Z"
   },
   {
    "duration": 29,
    "start_time": "2025-06-12T20:02:55.043Z"
   },
   {
    "duration": 3,
    "start_time": "2025-06-12T20:08:19.356Z"
   },
   {
    "duration": 201,
    "start_time": "2025-06-12T20:10:16.233Z"
   },
   {
    "duration": 258,
    "start_time": "2025-06-12T20:10:42.469Z"
   },
   {
    "duration": 259,
    "start_time": "2025-06-12T20:10:55.984Z"
   },
   {
    "duration": 192,
    "start_time": "2025-06-12T20:12:02.885Z"
   },
   {
    "duration": 210,
    "start_time": "2025-06-12T20:23:13.225Z"
   },
   {
    "duration": 227,
    "start_time": "2025-06-12T20:24:45.866Z"
   },
   {
    "duration": 209,
    "start_time": "2025-06-12T20:24:55.373Z"
   },
   {
    "duration": 208,
    "start_time": "2025-06-12T20:25:50.027Z"
   },
   {
    "duration": 189,
    "start_time": "2025-06-12T20:34:07.017Z"
   },
   {
    "duration": 194,
    "start_time": "2025-06-12T20:35:13.603Z"
   },
   {
    "duration": 197,
    "start_time": "2025-06-12T20:35:18.949Z"
   },
   {
    "duration": 279,
    "start_time": "2025-06-12T20:35:32.415Z"
   },
   {
    "duration": 14,
    "start_time": "2025-06-12T20:41:55.747Z"
   },
   {
    "duration": 229,
    "start_time": "2025-06-12T20:43:23.740Z"
   },
   {
    "duration": 201,
    "start_time": "2025-06-12T20:51:26.949Z"
   },
   {
    "duration": 178,
    "start_time": "2025-06-12T20:51:41.554Z"
   },
   {
    "duration": 166,
    "start_time": "2025-06-12T20:51:45.281Z"
   },
   {
    "duration": 4,
    "start_time": "2025-06-12T20:54:21.248Z"
   },
   {
    "duration": 95,
    "start_time": "2025-06-12T20:55:25.136Z"
   },
   {
    "duration": 231,
    "start_time": "2025-06-12T20:59:02.879Z"
   },
   {
    "duration": 90,
    "start_time": "2025-06-12T21:01:12.722Z"
   },
   {
    "duration": 4,
    "start_time": "2025-06-12T21:04:08.874Z"
   },
   {
    "duration": 20,
    "start_time": "2025-06-12T21:06:37.316Z"
   },
   {
    "duration": 181,
    "start_time": "2025-06-12T21:08:24.987Z"
   },
   {
    "duration": 5,
    "start_time": "2025-06-12T21:21:46.699Z"
   },
   {
    "duration": 17,
    "start_time": "2025-06-12T21:24:15.662Z"
   },
   {
    "duration": 16,
    "start_time": "2025-06-12T21:24:52.654Z"
   },
   {
    "duration": 10,
    "start_time": "2025-06-12T21:29:17.805Z"
   },
   {
    "duration": 4,
    "start_time": "2025-06-12T21:48:21.026Z"
   },
   {
    "duration": 4,
    "start_time": "2025-06-12T21:48:35.219Z"
   },
   {
    "duration": 11,
    "start_time": "2025-06-12T22:00:04.455Z"
   },
   {
    "duration": 4,
    "start_time": "2025-06-12T22:00:05.790Z"
   },
   {
    "duration": 121,
    "start_time": "2025-06-12T22:00:29.795Z"
   },
   {
    "duration": 4,
    "start_time": "2025-06-12T22:01:30.088Z"
   },
   {
    "duration": 9,
    "start_time": "2025-06-12T22:01:57.598Z"
   },
   {
    "duration": 9,
    "start_time": "2025-06-12T22:02:23.104Z"
   },
   {
    "duration": 10,
    "start_time": "2025-06-12T22:02:28.296Z"
   },
   {
    "duration": 6,
    "start_time": "2025-06-12T22:02:41.080Z"
   },
   {
    "duration": 10,
    "start_time": "2025-06-12T22:03:51.453Z"
   },
   {
    "duration": 6,
    "start_time": "2025-06-12T22:03:53.986Z"
   },
   {
    "duration": 8,
    "start_time": "2025-06-12T22:04:16.506Z"
   },
   {
    "duration": 6,
    "start_time": "2025-06-12T22:04:19.279Z"
   },
   {
    "duration": 8,
    "start_time": "2025-06-12T22:04:30.838Z"
   },
   {
    "duration": 31,
    "start_time": "2025-06-12T22:04:47.551Z"
   },
   {
    "duration": 102,
    "start_time": "2025-06-12T22:04:56.780Z"
   },
   {
    "duration": 5,
    "start_time": "2025-06-12T22:04:59.433Z"
   },
   {
    "duration": 99,
    "start_time": "2025-06-12T22:05:17.052Z"
   },
   {
    "duration": 5,
    "start_time": "2025-06-12T22:08:00.918Z"
   },
   {
    "duration": 59,
    "start_time": "2025-06-12T22:08:00.925Z"
   },
   {
    "duration": 21,
    "start_time": "2025-06-12T22:08:00.986Z"
   },
   {
    "duration": 10,
    "start_time": "2025-06-12T22:08:01.009Z"
   },
   {
    "duration": 238,
    "start_time": "2025-06-12T22:08:01.021Z"
   },
   {
    "duration": 218,
    "start_time": "2025-06-12T22:08:01.265Z"
   },
   {
    "duration": 203,
    "start_time": "2025-06-12T22:08:01.485Z"
   },
   {
    "duration": 224,
    "start_time": "2025-06-12T22:08:01.689Z"
   },
   {
    "duration": 305,
    "start_time": "2025-06-12T22:08:01.914Z"
   },
   {
    "duration": 3,
    "start_time": "2025-06-12T22:08:02.221Z"
   },
   {
    "duration": 149,
    "start_time": "2025-06-12T22:08:02.226Z"
   },
   {
    "duration": 229,
    "start_time": "2025-06-12T22:08:02.376Z"
   },
   {
    "duration": 5,
    "start_time": "2025-06-12T22:08:02.606Z"
   },
   {
    "duration": 22,
    "start_time": "2025-06-12T22:08:02.613Z"
   },
   {
    "duration": 64,
    "start_time": "2025-06-12T22:08:02.637Z"
   },
   {
    "duration": 34,
    "start_time": "2025-06-12T22:08:02.703Z"
   },
   {
    "duration": 0,
    "start_time": "2025-06-12T22:08:02.739Z"
   },
   {
    "duration": 112,
    "start_time": "2025-06-12T22:10:31.618Z"
   },
   {
    "duration": 17854,
    "start_time": "2025-06-12T22:21:25.383Z"
   },
   {
    "duration": 1307,
    "start_time": "2025-06-12T22:21:43.239Z"
   },
   {
    "duration": 36,
    "start_time": "2025-06-12T22:21:44.548Z"
   },
   {
    "duration": 22,
    "start_time": "2025-06-12T22:21:44.586Z"
   },
   {
    "duration": 4,
    "start_time": "2025-06-12T22:21:44.610Z"
   },
   {
    "duration": 267,
    "start_time": "2025-06-12T22:21:44.615Z"
   },
   {
    "duration": 209,
    "start_time": "2025-06-12T22:21:44.883Z"
   },
   {
    "duration": 183,
    "start_time": "2025-06-12T22:21:45.094Z"
   },
   {
    "duration": 223,
    "start_time": "2025-06-12T22:21:45.279Z"
   },
   {
    "duration": 269,
    "start_time": "2025-06-12T22:21:45.505Z"
   },
   {
    "duration": 4,
    "start_time": "2025-06-12T22:21:45.776Z"
   },
   {
    "duration": 125,
    "start_time": "2025-06-12T22:21:45.781Z"
   },
   {
    "duration": 210,
    "start_time": "2025-06-12T22:21:45.907Z"
   },
   {
    "duration": 5,
    "start_time": "2025-06-12T22:21:46.119Z"
   },
   {
    "duration": 15,
    "start_time": "2025-06-12T22:21:46.125Z"
   },
   {
    "duration": 119,
    "start_time": "2025-06-12T22:21:46.141Z"
   },
   {
    "duration": 13,
    "start_time": "2025-06-12T22:21:46.261Z"
   },
   {
    "duration": 719,
    "start_time": "2025-06-12T22:23:01.493Z"
   },
   {
    "duration": 6,
    "start_time": "2025-06-12T22:23:56.165Z"
   },
   {
    "duration": 856,
    "start_time": "2025-06-12T22:41:01.130Z"
   },
   {
    "duration": 890,
    "start_time": "2025-06-12T22:41:34.326Z"
   },
   {
    "duration": 543,
    "start_time": "2025-06-12T22:44:59.854Z"
   },
   {
    "duration": 1033,
    "start_time": "2025-06-12T22:45:23.766Z"
   },
   {
    "duration": 23,
    "start_time": "2025-06-12T23:38:16.699Z"
   },
   {
    "duration": 20,
    "start_time": "2025-06-12T23:38:45.187Z"
   },
   {
    "duration": 667,
    "start_time": "2025-06-13T00:22:08.467Z"
   },
   {
    "duration": 4,
    "start_time": "2025-06-13T00:22:20.054Z"
   },
   {
    "duration": 4,
    "start_time": "2025-06-13T01:39:55.932Z"
   },
   {
    "duration": 3280,
    "start_time": "2025-06-13T20:12:54.999Z"
   },
   {
    "duration": 2220,
    "start_time": "2025-06-13T20:12:58.282Z"
   },
   {
    "duration": 73,
    "start_time": "2025-06-13T20:13:00.504Z"
   },
   {
    "duration": 26,
    "start_time": "2025-06-13T20:13:00.579Z"
   },
   {
    "duration": 4,
    "start_time": "2025-06-13T20:13:00.608Z"
   },
   {
    "duration": 254,
    "start_time": "2025-06-13T20:13:00.614Z"
   },
   {
    "duration": 222,
    "start_time": "2025-06-13T20:13:00.870Z"
   },
   {
    "duration": 222,
    "start_time": "2025-06-13T20:13:01.094Z"
   },
   {
    "duration": 258,
    "start_time": "2025-06-13T20:13:01.318Z"
   },
   {
    "duration": 225,
    "start_time": "2025-06-13T20:13:01.578Z"
   },
   {
    "duration": 4,
    "start_time": "2025-06-13T20:13:01.804Z"
   },
   {
    "duration": 249,
    "start_time": "2025-06-13T20:13:01.811Z"
   },
   {
    "duration": 236,
    "start_time": "2025-06-13T20:13:02.061Z"
   },
   {
    "duration": 7,
    "start_time": "2025-06-13T20:13:02.301Z"
   },
   {
    "duration": 36,
    "start_time": "2025-06-13T20:13:02.309Z"
   },
   {
    "duration": 119,
    "start_time": "2025-06-13T20:13:02.346Z"
   },
   {
    "duration": 796,
    "start_time": "2025-06-13T20:13:02.467Z"
   },
   {
    "duration": 8,
    "start_time": "2025-06-13T20:13:03.265Z"
   },
   {
    "duration": 41,
    "start_time": "2025-06-13T20:13:03.275Z"
   },
   {
    "duration": 156,
    "start_time": "2025-06-13T20:13:03.317Z"
   },
   {
    "duration": 4060,
    "start_time": "2025-06-16T14:52:32.088Z"
   },
   {
    "duration": 2441,
    "start_time": "2025-06-16T14:52:36.152Z"
   },
   {
    "duration": 50,
    "start_time": "2025-06-16T14:52:38.594Z"
   },
   {
    "duration": 35,
    "start_time": "2025-06-16T14:52:38.647Z"
   },
   {
    "duration": 37,
    "start_time": "2025-06-16T14:52:38.684Z"
   },
   {
    "duration": 246,
    "start_time": "2025-06-16T14:52:38.723Z"
   },
   {
    "duration": 236,
    "start_time": "2025-06-16T14:52:38.971Z"
   },
   {
    "duration": 212,
    "start_time": "2025-06-16T14:52:39.209Z"
   },
   {
    "duration": 248,
    "start_time": "2025-06-16T14:52:39.422Z"
   },
   {
    "duration": 201,
    "start_time": "2025-06-16T14:52:39.671Z"
   },
   {
    "duration": 5,
    "start_time": "2025-06-16T14:52:39.875Z"
   },
   {
    "duration": 244,
    "start_time": "2025-06-16T14:52:39.882Z"
   },
   {
    "duration": 278,
    "start_time": "2025-06-16T14:52:40.128Z"
   },
   {
    "duration": 6,
    "start_time": "2025-06-16T14:52:40.409Z"
   },
   {
    "duration": 28,
    "start_time": "2025-06-16T14:52:40.418Z"
   },
   {
    "duration": 125,
    "start_time": "2025-06-16T14:52:40.448Z"
   },
   {
    "duration": 889,
    "start_time": "2025-06-16T14:52:40.575Z"
   },
   {
    "duration": 7,
    "start_time": "2025-06-16T14:52:41.467Z"
   },
   {
    "duration": 21,
    "start_time": "2025-06-16T14:52:41.476Z"
   },
   {
    "duration": 228,
    "start_time": "2025-06-16T14:52:41.499Z"
   },
   {
    "duration": 0,
    "start_time": "2025-06-16T14:52:41.729Z"
   },
   {
    "duration": 0,
    "start_time": "2025-06-16T14:52:41.730Z"
   },
   {
    "duration": 0,
    "start_time": "2025-06-16T14:52:41.737Z"
   },
   {
    "duration": 0,
    "start_time": "2025-06-16T14:52:41.739Z"
   },
   {
    "duration": 0,
    "start_time": "2025-06-16T14:52:41.740Z"
   },
   {
    "duration": 3394,
    "start_time": "2025-06-17T13:41:56.412Z"
   },
   {
    "duration": 2328,
    "start_time": "2025-06-17T13:41:59.809Z"
   },
   {
    "duration": 48,
    "start_time": "2025-06-17T13:42:02.139Z"
   },
   {
    "duration": 24,
    "start_time": "2025-06-17T13:42:02.189Z"
   },
   {
    "duration": 4,
    "start_time": "2025-06-17T13:42:02.215Z"
   },
   {
    "duration": 241,
    "start_time": "2025-06-17T13:42:02.220Z"
   },
   {
    "duration": 230,
    "start_time": "2025-06-17T13:42:02.463Z"
   },
   {
    "duration": 209,
    "start_time": "2025-06-17T13:42:02.695Z"
   },
   {
    "duration": 246,
    "start_time": "2025-06-17T13:42:02.905Z"
   },
   {
    "duration": 198,
    "start_time": "2025-06-17T13:42:03.153Z"
   },
   {
    "duration": 4,
    "start_time": "2025-06-17T13:42:03.353Z"
   },
   {
    "duration": 232,
    "start_time": "2025-06-17T13:42:03.359Z"
   },
   {
    "duration": 236,
    "start_time": "2025-06-17T13:42:03.592Z"
   },
   {
    "duration": 10,
    "start_time": "2025-06-17T13:42:03.831Z"
   },
   {
    "duration": 31,
    "start_time": "2025-06-17T13:42:03.843Z"
   },
   {
    "duration": 126,
    "start_time": "2025-06-17T13:42:03.876Z"
   },
   {
    "duration": 923,
    "start_time": "2025-06-17T13:42:04.004Z"
   },
   {
    "duration": 10,
    "start_time": "2025-06-17T13:42:04.929Z"
   },
   {
    "duration": 18,
    "start_time": "2025-06-17T13:42:04.941Z"
   },
   {
    "duration": 161,
    "start_time": "2025-06-17T13:42:04.961Z"
   },
   {
    "duration": 0,
    "start_time": "2025-06-17T13:42:05.124Z"
   },
   {
    "duration": 0,
    "start_time": "2025-06-17T13:42:05.126Z"
   },
   {
    "duration": 0,
    "start_time": "2025-06-17T13:42:05.127Z"
   },
   {
    "duration": 0,
    "start_time": "2025-06-17T13:42:05.128Z"
   },
   {
    "duration": 0,
    "start_time": "2025-06-17T13:42:05.138Z"
   },
   {
    "duration": 3703,
    "start_time": "2025-06-19T08:48:09.702Z"
   },
   {
    "duration": 2416,
    "start_time": "2025-06-19T08:48:13.408Z"
   },
   {
    "duration": 85,
    "start_time": "2025-06-19T08:48:15.827Z"
   },
   {
    "duration": 26,
    "start_time": "2025-06-19T08:48:15.915Z"
   },
   {
    "duration": 5,
    "start_time": "2025-06-19T08:48:15.943Z"
   },
   {
    "duration": 262,
    "start_time": "2025-06-19T08:48:15.950Z"
   },
   {
    "duration": 247,
    "start_time": "2025-06-19T08:48:16.214Z"
   },
   {
    "duration": 219,
    "start_time": "2025-06-19T08:48:16.463Z"
   },
   {
    "duration": 271,
    "start_time": "2025-06-19T08:48:16.684Z"
   },
   {
    "duration": 321,
    "start_time": "2025-06-19T08:48:16.960Z"
   },
   {
    "duration": 4,
    "start_time": "2025-06-19T08:48:17.283Z"
   },
   {
    "duration": 135,
    "start_time": "2025-06-19T08:48:17.289Z"
   },
   {
    "duration": 265,
    "start_time": "2025-06-19T08:48:17.426Z"
   },
   {
    "duration": 13,
    "start_time": "2025-06-19T08:48:17.694Z"
   },
   {
    "duration": 14,
    "start_time": "2025-06-19T08:48:17.710Z"
   },
   {
    "duration": 162,
    "start_time": "2025-06-19T08:48:17.727Z"
   },
   {
    "duration": 918,
    "start_time": "2025-06-19T08:48:17.891Z"
   },
   {
    "duration": 8,
    "start_time": "2025-06-19T08:48:18.811Z"
   },
   {
    "duration": 16,
    "start_time": "2025-06-19T08:48:18.821Z"
   },
   {
    "duration": 182,
    "start_time": "2025-06-19T08:48:18.861Z"
   },
   {
    "duration": 1,
    "start_time": "2025-06-19T08:48:19.045Z"
   },
   {
    "duration": 0,
    "start_time": "2025-06-19T08:48:19.047Z"
   },
   {
    "duration": 0,
    "start_time": "2025-06-19T08:48:19.048Z"
   },
   {
    "duration": 0,
    "start_time": "2025-06-19T08:48:19.060Z"
   },
   {
    "duration": 0,
    "start_time": "2025-06-19T08:48:19.062Z"
   },
   {
    "duration": 21,
    "start_time": "2025-06-19T12:00:13.438Z"
   },
   {
    "duration": 24,
    "start_time": "2025-06-19T12:01:12.771Z"
   },
   {
    "duration": 22,
    "start_time": "2025-06-19T12:02:26.272Z"
   },
   {
    "duration": 6,
    "start_time": "2025-06-19T12:04:46.330Z"
   },
   {
    "duration": 28,
    "start_time": "2025-06-19T12:04:53.546Z"
   },
   {
    "duration": 23,
    "start_time": "2025-06-19T12:05:09.212Z"
   },
   {
    "duration": 11045,
    "start_time": "2025-06-19T12:06:57.450Z"
   },
   {
    "duration": 6,
    "start_time": "2025-06-19T12:07:16.291Z"
   },
   {
    "duration": 41,
    "start_time": "2025-06-19T12:07:35.260Z"
   },
   {
    "duration": 23,
    "start_time": "2025-06-19T12:07:46.190Z"
   },
   {
    "duration": 8963,
    "start_time": "2025-06-19T12:08:13.468Z"
   },
   {
    "duration": 6,
    "start_time": "2025-06-19T12:08:24.441Z"
   },
   {
    "duration": 35,
    "start_time": "2025-06-19T12:08:30.167Z"
   },
   {
    "duration": 8440,
    "start_time": "2025-06-19T12:08:44.117Z"
   },
   {
    "duration": 2270,
    "start_time": "2025-06-19T12:08:52.559Z"
   },
   {
    "duration": 46,
    "start_time": "2025-06-19T12:08:54.830Z"
   },
   {
    "duration": 28,
    "start_time": "2025-06-19T12:08:54.878Z"
   },
   {
    "duration": 4,
    "start_time": "2025-06-19T12:08:54.909Z"
   },
   {
    "duration": 295,
    "start_time": "2025-06-19T12:08:54.915Z"
   },
   {
    "duration": 258,
    "start_time": "2025-06-19T12:08:55.212Z"
   },
   {
    "duration": 228,
    "start_time": "2025-06-19T12:08:55.474Z"
   },
   {
    "duration": 293,
    "start_time": "2025-06-19T12:08:55.704Z"
   },
   {
    "duration": 218,
    "start_time": "2025-06-19T12:08:55.999Z"
   },
   {
    "duration": 5,
    "start_time": "2025-06-19T12:08:56.218Z"
   },
   {
    "duration": 259,
    "start_time": "2025-06-19T12:08:56.225Z"
   },
   {
    "duration": 276,
    "start_time": "2025-06-19T12:08:56.486Z"
   },
   {
    "duration": 13,
    "start_time": "2025-06-19T12:08:56.766Z"
   },
   {
    "duration": 15,
    "start_time": "2025-06-19T12:08:56.781Z"
   },
   {
    "duration": 152,
    "start_time": "2025-06-19T12:08:56.798Z"
   },
   {
    "duration": 887,
    "start_time": "2025-06-19T12:08:56.952Z"
   },
   {
    "duration": 6,
    "start_time": "2025-06-19T12:08:57.841Z"
   },
   {
    "duration": 88,
    "start_time": "2025-06-19T12:08:57.848Z"
   },
   {
    "duration": 25,
    "start_time": "2025-06-19T12:08:57.938Z"
   },
   {
    "duration": 6,
    "start_time": "2025-06-19T12:08:57.965Z"
   },
   {
    "duration": 13,
    "start_time": "2025-06-19T12:08:57.973Z"
   },
   {
    "duration": 199,
    "start_time": "2025-06-19T12:08:57.988Z"
   },
   {
    "duration": 0,
    "start_time": "2025-06-19T12:08:58.189Z"
   },
   {
    "duration": 86,
    "start_time": "2025-06-19T13:22:10.969Z"
   },
   {
    "duration": 89,
    "start_time": "2025-06-19T13:23:03.747Z"
   },
   {
    "duration": 100,
    "start_time": "2025-06-19T13:23:24.647Z"
   },
   {
    "duration": 23,
    "start_time": "2025-06-19T13:23:32.241Z"
   },
   {
    "duration": 4,
    "start_time": "2025-06-19T13:24:02.886Z"
   },
   {
    "duration": 5,
    "start_time": "2025-06-19T13:24:08.073Z"
   },
   {
    "duration": 425,
    "start_time": "2025-06-19T13:24:09.258Z"
   },
   {
    "duration": 6,
    "start_time": "2025-06-19T13:24:37.071Z"
   },
   {
    "duration": 37768,
    "start_time": "2025-06-19T13:24:38.207Z"
   },
   {
    "duration": 13,
    "start_time": "2025-06-19T13:25:51.181Z"
   },
   {
    "duration": 4,
    "start_time": "2025-06-19T13:26:12.425Z"
   },
   {
    "duration": 5,
    "start_time": "2025-06-19T13:26:15.945Z"
   },
   {
    "duration": 38809,
    "start_time": "2025-06-19T13:26:16.865Z"
   },
   {
    "duration": 6,
    "start_time": "2025-06-19T13:27:42.539Z"
   },
   {
    "duration": 38102,
    "start_time": "2025-06-19T13:27:53.970Z"
   },
   {
    "duration": 6,
    "start_time": "2025-06-19T13:28:56.635Z"
   },
   {
    "duration": 6,
    "start_time": "2025-06-19T13:28:59.263Z"
   },
   {
    "duration": 37507,
    "start_time": "2025-06-19T13:29:04.864Z"
   },
   {
    "duration": 5,
    "start_time": "2025-06-19T13:30:06.841Z"
   },
   {
    "duration": 6,
    "start_time": "2025-06-19T13:30:15.298Z"
   },
   {
    "duration": 36060,
    "start_time": "2025-06-19T13:30:16.913Z"
   },
   {
    "duration": 7,
    "start_time": "2025-06-19T13:33:52.320Z"
   },
   {
    "duration": 41396,
    "start_time": "2025-06-19T13:33:58.985Z"
   },
   {
    "duration": 15,
    "start_time": "2025-06-19T13:36:30.644Z"
   },
   {
    "duration": 23,
    "start_time": "2025-06-19T13:36:53.331Z"
   },
   {
    "duration": 26,
    "start_time": "2025-06-19T13:37:26.238Z"
   },
   {
    "duration": 58014,
    "start_time": "2025-06-19T13:39:37.752Z"
   },
   {
    "duration": 42,
    "start_time": "2025-06-19T13:40:35.769Z"
   },
   {
    "duration": 7981,
    "start_time": "2025-06-19T14:05:37.396Z"
   },
   {
    "duration": 6,
    "start_time": "2025-06-19T14:05:45.381Z"
   },
   {
    "duration": 55,
    "start_time": "2025-06-19T14:05:45.389Z"
   },
   {
    "duration": 27,
    "start_time": "2025-06-19T14:05:45.446Z"
   },
   {
    "duration": 47,
    "start_time": "2025-06-19T14:05:45.475Z"
   },
   {
    "duration": 266,
    "start_time": "2025-06-19T14:05:45.524Z"
   },
   {
    "duration": 240,
    "start_time": "2025-06-19T14:05:45.792Z"
   },
   {
    "duration": 211,
    "start_time": "2025-06-19T14:05:46.034Z"
   },
   {
    "duration": 248,
    "start_time": "2025-06-19T14:05:46.246Z"
   },
   {
    "duration": 348,
    "start_time": "2025-06-19T14:05:46.496Z"
   },
   {
    "duration": 14,
    "start_time": "2025-06-19T14:05:46.846Z"
   },
   {
    "duration": 115,
    "start_time": "2025-06-19T14:05:46.862Z"
   },
   {
    "duration": 239,
    "start_time": "2025-06-19T14:05:46.979Z"
   },
   {
    "duration": 6,
    "start_time": "2025-06-19T14:05:47.221Z"
   },
   {
    "duration": 41,
    "start_time": "2025-06-19T14:05:47.229Z"
   },
   {
    "duration": 140,
    "start_time": "2025-06-19T14:05:47.272Z"
   },
   {
    "duration": 717,
    "start_time": "2025-06-19T14:05:47.413Z"
   },
   {
    "duration": 5,
    "start_time": "2025-06-19T14:05:48.132Z"
   },
   {
    "duration": 27,
    "start_time": "2025-06-19T14:05:48.139Z"
   },
   {
    "duration": 25,
    "start_time": "2025-06-19T14:05:48.168Z"
   },
   {
    "duration": 135,
    "start_time": "2025-06-19T14:05:48.194Z"
   },
   {
    "duration": 4,
    "start_time": "2025-06-19T14:05:48.330Z"
   },
   {
    "duration": 5,
    "start_time": "2025-06-19T14:05:48.335Z"
   },
   {
    "duration": 5,
    "start_time": "2025-06-19T14:05:48.342Z"
   },
   {
    "duration": 30,
    "start_time": "2025-06-19T14:05:48.349Z"
   },
   {
    "duration": 0,
    "start_time": "2025-06-19T14:05:48.381Z"
   },
   {
    "duration": 5,
    "start_time": "2025-06-19T14:06:09.418Z"
   },
   {
    "duration": 5,
    "start_time": "2025-06-19T14:06:11.028Z"
   },
   {
    "duration": 55003,
    "start_time": "2025-06-19T14:06:12.477Z"
   },
   {
    "duration": 7896,
    "start_time": "2025-06-19T14:08:36.551Z"
   },
   {
    "duration": 7,
    "start_time": "2025-06-19T14:08:44.450Z"
   },
   {
    "duration": 42,
    "start_time": "2025-06-19T14:08:44.458Z"
   },
   {
    "duration": 25,
    "start_time": "2025-06-19T14:08:44.502Z"
   },
   {
    "duration": 4,
    "start_time": "2025-06-19T14:08:44.529Z"
   },
   {
    "duration": 249,
    "start_time": "2025-06-19T14:08:44.535Z"
   },
   {
    "duration": 236,
    "start_time": "2025-06-19T14:08:44.786Z"
   },
   {
    "duration": 218,
    "start_time": "2025-06-19T14:08:45.024Z"
   },
   {
    "duration": 246,
    "start_time": "2025-06-19T14:08:45.244Z"
   },
   {
    "duration": 385,
    "start_time": "2025-06-19T14:08:45.492Z"
   },
   {
    "duration": 4,
    "start_time": "2025-06-19T14:08:45.879Z"
   },
   {
    "duration": 125,
    "start_time": "2025-06-19T14:08:45.885Z"
   },
   {
    "duration": 251,
    "start_time": "2025-06-19T14:08:46.012Z"
   },
   {
    "duration": 6,
    "start_time": "2025-06-19T14:08:46.266Z"
   },
   {
    "duration": 66,
    "start_time": "2025-06-19T14:08:46.273Z"
   },
   {
    "duration": 112,
    "start_time": "2025-06-19T14:08:46.341Z"
   },
   {
    "duration": 783,
    "start_time": "2025-06-19T14:08:46.455Z"
   },
   {
    "duration": 6,
    "start_time": "2025-06-19T14:08:47.240Z"
   },
   {
    "duration": 26,
    "start_time": "2025-06-19T14:08:47.247Z"
   },
   {
    "duration": 24,
    "start_time": "2025-06-19T14:08:47.275Z"
   },
   {
    "duration": 5,
    "start_time": "2025-06-19T14:08:47.301Z"
   },
   {
    "duration": 4,
    "start_time": "2025-06-19T14:08:47.308Z"
   },
   {
    "duration": 5,
    "start_time": "2025-06-19T14:08:47.314Z"
   },
   {
    "duration": 41,
    "start_time": "2025-06-19T14:08:47.321Z"
   },
   {
    "duration": 54314,
    "start_time": "2025-06-19T14:08:47.364Z"
   },
   {
    "duration": 101,
    "start_time": "2025-06-19T14:09:41.681Z"
   },
   {
    "duration": 5360,
    "start_time": "2025-06-19T14:52:51.385Z"
   },
   {
    "duration": 87361,
    "start_time": "2025-06-19T14:53:11.320Z"
   },
   {
    "duration": 8,
    "start_time": "2025-06-19T14:55:12.766Z"
   },
   {
    "duration": 6,
    "start_time": "2025-06-19T14:55:15.012Z"
   },
   {
    "duration": 1941,
    "start_time": "2025-06-19T14:55:16.526Z"
   },
   {
    "duration": 1778,
    "start_time": "2025-06-19T14:55:27.498Z"
   },
   {
    "duration": 1658,
    "start_time": "2025-06-19T14:55:47.927Z"
   },
   {
    "duration": 10,
    "start_time": "2025-06-19T14:56:32.168Z"
   },
   {
    "duration": 7,
    "start_time": "2025-06-19T14:56:33.369Z"
   },
   {
    "duration": 17739,
    "start_time": "2025-06-19T14:56:34.748Z"
   },
   {
    "duration": 5,
    "start_time": "2025-06-19T14:57:18.149Z"
   },
   {
    "duration": 6,
    "start_time": "2025-06-19T14:57:20.813Z"
   },
   {
    "duration": 69702,
    "start_time": "2025-06-19T14:57:22.684Z"
   },
   {
    "duration": 6,
    "start_time": "2025-06-19T15:00:12.683Z"
   },
   {
    "duration": 6,
    "start_time": "2025-06-19T15:00:14.723Z"
   },
   {
    "duration": 73246,
    "start_time": "2025-06-19T15:00:19.736Z"
   },
   {
    "duration": 5324,
    "start_time": "2025-06-19T15:02:18.474Z"
   },
   {
    "duration": 6,
    "start_time": "2025-06-19T15:02:34.852Z"
   },
   {
    "duration": 5,
    "start_time": "2025-06-19T15:02:35.707Z"
   },
   {
    "duration": 1448,
    "start_time": "2025-06-19T15:02:36.836Z"
   },
   {
    "duration": 6,
    "start_time": "2025-06-19T15:08:04.424Z"
   },
   {
    "duration": 5,
    "start_time": "2025-06-19T15:08:07.906Z"
   },
   {
    "duration": 16,
    "start_time": "2025-06-19T15:08:11.809Z"
   },
   {
    "duration": 7184,
    "start_time": "2025-06-19T15:08:27.200Z"
   },
   {
    "duration": 8,
    "start_time": "2025-06-19T15:09:01.024Z"
   },
   {
    "duration": 15,
    "start_time": "2025-06-19T15:09:01.958Z"
   },
   {
    "duration": 85033,
    "start_time": "2025-06-19T15:09:03.230Z"
   },
   {
    "duration": 6,
    "start_time": "2025-06-19T15:13:53.792Z"
   },
   {
    "duration": 6,
    "start_time": "2025-06-19T15:13:54.968Z"
   },
   {
    "duration": 70427,
    "start_time": "2025-06-19T15:13:56.245Z"
   },
   {
    "duration": 67899,
    "start_time": "2025-06-19T15:17:40.178Z"
   },
   {
    "duration": 4,
    "start_time": "2025-06-19T15:18:55.541Z"
   },
   {
    "duration": 5,
    "start_time": "2025-06-19T15:18:58.269Z"
   },
   {
    "duration": 69195,
    "start_time": "2025-06-19T15:18:59.472Z"
   },
   {
    "duration": 8,
    "start_time": "2025-06-19T15:20:39.772Z"
   },
   {
    "duration": 12,
    "start_time": "2025-06-19T15:22:00.710Z"
   },
   {
    "duration": 15,
    "start_time": "2025-06-19T15:22:44.280Z"
   },
   {
    "duration": 22,
    "start_time": "2025-06-19T15:28:09.868Z"
   },
   {
    "duration": 12,
    "start_time": "2025-06-19T15:28:38.725Z"
   },
   {
    "duration": 6,
    "start_time": "2025-06-19T15:31:07.406Z"
   },
   {
    "duration": 6,
    "start_time": "2025-06-19T15:32:01.358Z"
   },
   {
    "duration": 4,
    "start_time": "2025-06-19T15:32:01.934Z"
   },
   {
    "duration": 4,
    "start_time": "2025-06-19T15:32:04.923Z"
   },
   {
    "duration": 9,
    "start_time": "2025-06-19T15:32:09.059Z"
   },
   {
    "duration": 71283,
    "start_time": "2025-06-19T15:32:11.901Z"
   },
   {
    "duration": 4,
    "start_time": "2025-06-19T15:33:59.094Z"
   },
   {
    "duration": 20,
    "start_time": "2025-06-19T15:34:00.118Z"
   },
   {
    "duration": 95,
    "start_time": "2025-06-19T15:35:23.441Z"
   },
   {
    "duration": 94,
    "start_time": "2025-06-19T15:35:43.670Z"
   },
   {
    "duration": 111216,
    "start_time": "2025-06-19T15:35:49.254Z"
   },
   {
    "duration": 4,
    "start_time": "2025-06-19T15:40:43.314Z"
   },
   {
    "duration": 5,
    "start_time": "2025-06-19T15:40:45.099Z"
   },
   {
    "duration": 9,
    "start_time": "2025-06-19T15:40:47.566Z"
   },
   {
    "duration": 4,
    "start_time": "2025-06-19T15:40:50.931Z"
   },
   {
    "duration": 14,
    "start_time": "2025-06-19T15:40:53.275Z"
   },
   {
    "duration": 117627,
    "start_time": "2025-06-19T15:40:56.777Z"
   },
   {
    "duration": 199,
    "start_time": "2025-06-19T15:44:27.028Z"
   },
   {
    "duration": 4,
    "start_time": "2025-06-19T15:54:04.038Z"
   },
   {
    "duration": 19,
    "start_time": "2025-06-19T15:54:04.876Z"
   },
   {
    "duration": 13,
    "start_time": "2025-06-19T15:54:15.392Z"
   },
   {
    "duration": 35,
    "start_time": "2025-06-19T15:54:40.167Z"
   },
   {
    "duration": 24,
    "start_time": "2025-06-19T15:55:55.161Z"
   },
   {
    "duration": 4,
    "start_time": "2025-06-19T15:58:12.397Z"
   },
   {
    "duration": 196,
    "start_time": "2025-06-19T15:58:13.660Z"
   },
   {
    "duration": 5,
    "start_time": "2025-06-19T15:58:53.299Z"
   },
   {
    "duration": 29,
    "start_time": "2025-06-19T15:58:54.071Z"
   },
   {
    "duration": 6,
    "start_time": "2025-06-19T16:00:11.127Z"
   },
   {
    "duration": 204,
    "start_time": "2025-06-19T16:00:22.129Z"
   },
   {
    "duration": 7,
    "start_time": "2025-06-19T16:01:51.356Z"
   },
   {
    "duration": 19,
    "start_time": "2025-06-19T16:01:53.390Z"
   },
   {
    "duration": 5,
    "start_time": "2025-06-19T16:02:16.148Z"
   },
   {
    "duration": 23,
    "start_time": "2025-06-19T16:02:16.823Z"
   },
   {
    "duration": 6,
    "start_time": "2025-06-19T16:03:49.880Z"
   },
   {
    "duration": 21,
    "start_time": "2025-06-19T16:03:52.281Z"
   },
   {
    "duration": 5,
    "start_time": "2025-06-19T16:04:49.424Z"
   },
   {
    "duration": 200,
    "start_time": "2025-06-19T16:04:50.481Z"
   },
   {
    "duration": 6,
    "start_time": "2025-06-19T16:05:52.796Z"
   },
   {
    "duration": 408,
    "start_time": "2025-06-19T16:05:53.914Z"
   },
   {
    "duration": 5,
    "start_time": "2025-06-19T16:06:48.837Z"
   },
   {
    "duration": 363,
    "start_time": "2025-06-19T16:06:49.532Z"
   },
   {
    "duration": 9,
    "start_time": "2025-06-19T16:14:33.074Z"
   },
   {
    "duration": 18,
    "start_time": "2025-06-19T16:14:34.905Z"
   },
   {
    "duration": 5,
    "start_time": "2025-06-19T16:14:50.595Z"
   },
   {
    "duration": 269,
    "start_time": "2025-06-19T16:14:51.721Z"
   },
   {
    "duration": 7,
    "start_time": "2025-06-19T16:15:39.062Z"
   },
   {
    "duration": 228,
    "start_time": "2025-06-19T16:15:40.008Z"
   },
   {
    "duration": 96,
    "start_time": "2025-06-19T16:16:16.163Z"
   },
   {
    "duration": 7,
    "start_time": "2025-06-19T16:16:25.072Z"
   },
   {
    "duration": 285,
    "start_time": "2025-06-19T16:16:25.747Z"
   },
   {
    "duration": 5,
    "start_time": "2025-06-19T16:17:04.015Z"
   },
   {
    "duration": 158,
    "start_time": "2025-06-19T16:17:04.865Z"
   },
   {
    "duration": 4,
    "start_time": "2025-06-19T16:17:32.096Z"
   },
   {
    "duration": 257,
    "start_time": "2025-06-19T16:17:32.788Z"
   },
   {
    "duration": 5,
    "start_time": "2025-06-19T16:18:09.832Z"
   },
   {
    "duration": 150,
    "start_time": "2025-06-19T16:18:10.469Z"
   },
   {
    "duration": 5,
    "start_time": "2025-06-19T16:18:28.406Z"
   },
   {
    "duration": 141,
    "start_time": "2025-06-19T16:18:29.292Z"
   },
   {
    "duration": 9,
    "start_time": "2025-06-19T16:18:40.982Z"
   },
   {
    "duration": 274,
    "start_time": "2025-06-19T16:18:41.716Z"
   },
   {
    "duration": 5,
    "start_time": "2025-06-19T16:20:01.316Z"
   },
   {
    "duration": 265,
    "start_time": "2025-06-19T16:20:02.340Z"
   },
   {
    "duration": 8364,
    "start_time": "2025-06-19T16:20:57.448Z"
   },
   {
    "duration": 9,
    "start_time": "2025-06-19T16:21:05.816Z"
   },
   {
    "duration": 76,
    "start_time": "2025-06-19T16:21:05.827Z"
   },
   {
    "duration": 26,
    "start_time": "2025-06-19T16:21:05.904Z"
   },
   {
    "duration": 5,
    "start_time": "2025-06-19T16:21:05.932Z"
   },
   {
    "duration": 280,
    "start_time": "2025-06-19T16:21:05.939Z"
   },
   {
    "duration": 434,
    "start_time": "2025-06-19T16:21:06.221Z"
   },
   {
    "duration": 248,
    "start_time": "2025-06-19T16:21:06.659Z"
   },
   {
    "duration": 291,
    "start_time": "2025-06-19T16:21:06.909Z"
   },
   {
    "duration": 212,
    "start_time": "2025-06-19T16:21:07.202Z"
   },
   {
    "duration": 4,
    "start_time": "2025-06-19T16:21:07.416Z"
   },
   {
    "duration": 129,
    "start_time": "2025-06-19T16:21:07.421Z"
   },
   {
    "duration": 263,
    "start_time": "2025-06-19T16:21:07.552Z"
   },
   {
    "duration": 6,
    "start_time": "2025-06-19T16:21:07.818Z"
   },
   {
    "duration": 13,
    "start_time": "2025-06-19T16:21:07.825Z"
   },
   {
    "duration": 150,
    "start_time": "2025-06-19T16:21:07.839Z"
   },
   {
    "duration": 804,
    "start_time": "2025-06-19T16:21:07.991Z"
   },
   {
    "duration": 6,
    "start_time": "2025-06-19T16:21:08.797Z"
   },
   {
    "duration": 124,
    "start_time": "2025-06-19T16:21:08.804Z"
   },
   {
    "duration": 24,
    "start_time": "2025-06-19T16:21:08.930Z"
   },
   {
    "duration": 7,
    "start_time": "2025-06-19T16:21:08.957Z"
   },
   {
    "duration": 10,
    "start_time": "2025-06-19T16:21:08.966Z"
   },
   {
    "duration": 6,
    "start_time": "2025-06-19T16:21:08.983Z"
   },
   {
    "duration": 7,
    "start_time": "2025-06-19T16:21:08.991Z"
   },
   {
    "duration": 4,
    "start_time": "2025-06-19T16:21:08.999Z"
   },
   {
    "duration": 8,
    "start_time": "2025-06-19T16:21:09.005Z"
   },
   {
    "duration": 101586,
    "start_time": "2025-06-19T16:21:09.014Z"
   },
   {
    "duration": 7,
    "start_time": "2025-06-19T16:22:50.602Z"
   },
   {
    "duration": 285,
    "start_time": "2025-06-19T16:22:50.666Z"
   },
   {
    "duration": 8447,
    "start_time": "2025-06-19T20:07:24.863Z"
   },
   {
    "duration": 8,
    "start_time": "2025-06-19T20:07:33.313Z"
   },
   {
    "duration": 64,
    "start_time": "2025-06-19T20:07:33.323Z"
   },
   {
    "duration": 188,
    "start_time": "2025-06-19T20:07:33.388Z"
   },
   {
    "duration": 4,
    "start_time": "2025-06-19T20:07:33.579Z"
   },
   {
    "duration": 247,
    "start_time": "2025-06-19T20:07:33.584Z"
   },
   {
    "duration": 238,
    "start_time": "2025-06-19T20:07:33.833Z"
   },
   {
    "duration": 226,
    "start_time": "2025-06-19T20:07:34.072Z"
   },
   {
    "duration": 261,
    "start_time": "2025-06-19T20:07:34.300Z"
   },
   {
    "duration": 201,
    "start_time": "2025-06-19T20:07:34.563Z"
   },
   {
    "duration": 4,
    "start_time": "2025-06-19T20:07:34.766Z"
   },
   {
    "duration": 124,
    "start_time": "2025-06-19T20:07:34.772Z"
   },
   {
    "duration": 266,
    "start_time": "2025-06-19T20:07:34.898Z"
   },
   {
    "duration": 7,
    "start_time": "2025-06-19T20:07:35.167Z"
   },
   {
    "duration": 168,
    "start_time": "2025-06-19T20:07:35.176Z"
   },
   {
    "duration": 218,
    "start_time": "2025-06-19T20:07:35.346Z"
   },
   {
    "duration": 938,
    "start_time": "2025-06-19T20:07:35.566Z"
   },
   {
    "duration": 6,
    "start_time": "2025-06-19T20:07:36.506Z"
   },
   {
    "duration": 18,
    "start_time": "2025-06-19T20:07:36.513Z"
   },
   {
    "duration": 41,
    "start_time": "2025-06-19T20:07:36.533Z"
   },
   {
    "duration": 3,
    "start_time": "2025-06-19T20:07:36.576Z"
   },
   {
    "duration": 3,
    "start_time": "2025-06-19T20:07:36.581Z"
   },
   {
    "duration": 5,
    "start_time": "2025-06-19T20:07:36.585Z"
   },
   {
    "duration": 5,
    "start_time": "2025-06-19T20:07:36.592Z"
   },
   {
    "duration": 8,
    "start_time": "2025-06-19T20:07:36.599Z"
   },
   {
    "duration": 102165,
    "start_time": "2025-06-19T20:07:36.609Z"
   },
   {
    "duration": 5,
    "start_time": "2025-06-19T20:09:18.775Z"
   },
   {
    "duration": 304,
    "start_time": "2025-06-19T20:09:18.782Z"
   },
   {
    "duration": 916777,
    "start_time": "2025-06-19T20:43:12.402Z"
   },
   {
    "duration": 1097963,
    "start_time": "2025-06-19T21:00:38.935Z"
   },
   {
    "duration": 5,
    "start_time": "2025-06-19T21:58:45.115Z"
   },
   {
    "duration": 40,
    "start_time": "2025-06-19T22:27:57.164Z"
   },
   {
    "duration": 4,
    "start_time": "2025-06-19T22:28:03.025Z"
   },
   {
    "duration": 4,
    "start_time": "2025-06-19T22:28:09.087Z"
   },
   {
    "duration": 5,
    "start_time": "2025-06-19T22:28:11.036Z"
   },
   {
    "duration": 4,
    "start_time": "2025-06-19T22:28:12.386Z"
   },
   {
    "duration": 5,
    "start_time": "2025-06-19T22:28:16.292Z"
   },
   {
    "duration": 125462,
    "start_time": "2025-06-19T22:28:19.629Z"
   },
   {
    "duration": 8,
    "start_time": "2025-06-19T22:30:41.863Z"
   },
   {
    "duration": 254,
    "start_time": "2025-06-19T22:30:41.874Z"
   },
   {
    "duration": 1214314,
    "start_time": "2025-06-19T22:30:42.130Z"
   },
   {
    "duration": 8256,
    "start_time": "2025-06-19T23:01:10.796Z"
   },
   {
    "duration": 2227,
    "start_time": "2025-06-19T23:01:19.055Z"
   },
   {
    "duration": 38,
    "start_time": "2025-06-19T23:01:21.284Z"
   },
   {
    "duration": 25,
    "start_time": "2025-06-19T23:01:21.324Z"
   },
   {
    "duration": 14,
    "start_time": "2025-06-19T23:01:21.351Z"
   },
   {
    "duration": 280,
    "start_time": "2025-06-19T23:01:21.367Z"
   },
   {
    "duration": 238,
    "start_time": "2025-06-19T23:01:21.649Z"
   },
   {
    "duration": 223,
    "start_time": "2025-06-19T23:01:21.889Z"
   },
   {
    "duration": 274,
    "start_time": "2025-06-19T23:01:22.114Z"
   },
   {
    "duration": 225,
    "start_time": "2025-06-19T23:01:22.389Z"
   },
   {
    "duration": 4,
    "start_time": "2025-06-19T23:01:22.615Z"
   },
   {
    "duration": 252,
    "start_time": "2025-06-19T23:01:22.620Z"
   },
   {
    "duration": 265,
    "start_time": "2025-06-19T23:01:22.874Z"
   },
   {
    "duration": 6,
    "start_time": "2025-06-19T23:01:23.142Z"
   },
   {
    "duration": 26,
    "start_time": "2025-06-19T23:01:23.150Z"
   },
   {
    "duration": 157,
    "start_time": "2025-06-19T23:01:23.178Z"
   },
   {
    "duration": 816,
    "start_time": "2025-06-19T23:01:23.337Z"
   },
   {
    "duration": 9,
    "start_time": "2025-06-19T23:01:24.160Z"
   },
   {
    "duration": 6,
    "start_time": "2025-06-19T23:01:24.171Z"
   },
   {
    "duration": 17,
    "start_time": "2025-06-19T23:01:24.180Z"
   },
   {
    "duration": 211,
    "start_time": "2025-06-19T23:01:24.198Z"
   },
   {
    "duration": 0,
    "start_time": "2025-06-19T23:01:24.411Z"
   },
   {
    "duration": 0,
    "start_time": "2025-06-19T23:01:24.412Z"
   },
   {
    "duration": 0,
    "start_time": "2025-06-19T23:01:24.413Z"
   },
   {
    "duration": 0,
    "start_time": "2025-06-19T23:01:24.414Z"
   },
   {
    "duration": 0,
    "start_time": "2025-06-19T23:01:24.414Z"
   },
   {
    "duration": 0,
    "start_time": "2025-06-19T23:01:24.415Z"
   },
   {
    "duration": 0,
    "start_time": "2025-06-19T23:01:24.416Z"
   },
   {
    "duration": 0,
    "start_time": "2025-06-19T23:01:24.417Z"
   },
   {
    "duration": 0,
    "start_time": "2025-06-19T23:01:24.419Z"
   },
   {
    "duration": 25,
    "start_time": "2025-06-19T23:04:47.015Z"
   },
   {
    "duration": 5,
    "start_time": "2025-06-19T23:04:47.042Z"
   },
   {
    "duration": 3,
    "start_time": "2025-06-19T23:04:47.049Z"
   },
   {
    "duration": 10,
    "start_time": "2025-06-19T23:04:47.053Z"
   },
   {
    "duration": 9,
    "start_time": "2025-06-19T23:04:47.067Z"
   },
   {
    "duration": 13,
    "start_time": "2025-06-19T23:04:47.079Z"
   },
   {
    "duration": 99282,
    "start_time": "2025-06-19T23:04:47.093Z"
   },
   {
    "duration": 6,
    "start_time": "2025-06-19T23:06:26.378Z"
   },
   {
    "duration": 286,
    "start_time": "2025-06-19T23:06:26.385Z"
   },
   {
    "duration": 1218274,
    "start_time": "2025-06-19T23:06:26.673Z"
   },
   {
    "duration": 8,
    "start_time": "2025-06-19T23:37:05.458Z"
   },
   {
    "duration": 8323,
    "start_time": "2025-06-19T23:40:50.314Z"
   },
   {
    "duration": 8,
    "start_time": "2025-06-19T23:40:58.640Z"
   },
   {
    "duration": 49,
    "start_time": "2025-06-19T23:40:58.650Z"
   },
   {
    "duration": 27,
    "start_time": "2025-06-19T23:40:58.701Z"
   },
   {
    "duration": 5,
    "start_time": "2025-06-19T23:40:58.730Z"
   },
   {
    "duration": 273,
    "start_time": "2025-06-19T23:40:58.736Z"
   },
   {
    "duration": 410,
    "start_time": "2025-06-19T23:40:59.012Z"
   },
   {
    "duration": 230,
    "start_time": "2025-06-19T23:40:59.424Z"
   },
   {
    "duration": 267,
    "start_time": "2025-06-19T23:40:59.656Z"
   },
   {
    "duration": 204,
    "start_time": "2025-06-19T23:40:59.925Z"
   },
   {
    "duration": 4,
    "start_time": "2025-06-19T23:41:00.131Z"
   },
   {
    "duration": 208,
    "start_time": "2025-06-19T23:41:00.136Z"
   },
   {
    "duration": 253,
    "start_time": "2025-06-19T23:41:00.346Z"
   },
   {
    "duration": 6,
    "start_time": "2025-06-19T23:41:00.602Z"
   },
   {
    "duration": 80,
    "start_time": "2025-06-19T23:41:00.610Z"
   },
   {
    "duration": 130,
    "start_time": "2025-06-19T23:41:00.693Z"
   },
   {
    "duration": 802,
    "start_time": "2025-06-19T23:41:00.824Z"
   },
   {
    "duration": 7,
    "start_time": "2025-06-19T23:41:01.628Z"
   },
   {
    "duration": 8,
    "start_time": "2025-06-19T23:41:01.636Z"
   },
   {
    "duration": 23,
    "start_time": "2025-06-19T23:41:01.662Z"
   },
   {
    "duration": 28,
    "start_time": "2025-06-19T23:41:01.687Z"
   },
   {
    "duration": 9,
    "start_time": "2025-06-19T23:41:01.717Z"
   },
   {
    "duration": 11,
    "start_time": "2025-06-19T23:41:01.728Z"
   },
   {
    "duration": 27,
    "start_time": "2025-06-19T23:41:01.740Z"
   },
   {
    "duration": 13,
    "start_time": "2025-06-19T23:41:01.769Z"
   },
   {
    "duration": 5,
    "start_time": "2025-06-19T23:41:01.785Z"
   },
   {
    "duration": 135483,
    "start_time": "2025-06-19T23:41:01.792Z"
   },
   {
    "duration": 6,
    "start_time": "2025-06-19T23:43:17.277Z"
   },
   {
    "duration": 307,
    "start_time": "2025-06-19T23:43:17.285Z"
   },
   {
    "duration": 800241,
    "start_time": "2025-06-19T23:43:17.594Z"
   },
   {
    "duration": 247153,
    "start_time": "2025-06-20T00:02:46.030Z"
   },
   {
    "duration": 795846,
    "start_time": "2025-06-20T00:07:15.122Z"
   },
   {
    "duration": 3,
    "start_time": "2025-06-20T00:45:53.591Z"
   },
   {
    "duration": 2643085,
    "start_time": "2025-06-20T00:47:38.352Z"
   },
   {
    "duration": 660453,
    "start_time": "2025-06-20T07:00:45.310Z"
   },
   {
    "duration": 644850,
    "start_time": "2025-06-20T07:12:01.426Z"
   },
   {
    "duration": 50,
    "start_time": "2025-06-20T07:23:36.146Z"
   },
   {
    "duration": 35,
    "start_time": "2025-06-20T07:24:59.737Z"
   },
   {
    "duration": 587240,
    "start_time": "2025-06-20T07:26:07.272Z"
   },
   {
    "duration": 8260,
    "start_time": "2025-06-20T07:37:37.927Z"
   },
   {
    "duration": 8,
    "start_time": "2025-06-20T07:37:46.190Z"
   },
   {
    "duration": 45,
    "start_time": "2025-06-20T07:37:46.200Z"
   },
   {
    "duration": 26,
    "start_time": "2025-06-20T07:37:46.247Z"
   },
   {
    "duration": 4,
    "start_time": "2025-06-20T07:37:46.275Z"
   },
   {
    "duration": 261,
    "start_time": "2025-06-20T07:37:46.281Z"
   },
   {
    "duration": 246,
    "start_time": "2025-06-20T07:37:46.544Z"
   },
   {
    "duration": 231,
    "start_time": "2025-06-20T07:37:46.792Z"
   },
   {
    "duration": 262,
    "start_time": "2025-06-20T07:37:47.025Z"
   },
   {
    "duration": 222,
    "start_time": "2025-06-20T07:37:47.289Z"
   },
   {
    "duration": 4,
    "start_time": "2025-06-20T07:37:47.513Z"
   },
   {
    "duration": 281,
    "start_time": "2025-06-20T07:37:47.519Z"
   },
   {
    "duration": 264,
    "start_time": "2025-06-20T07:37:47.802Z"
   },
   {
    "duration": 8,
    "start_time": "2025-06-20T07:37:48.070Z"
   },
   {
    "duration": 22,
    "start_time": "2025-06-20T07:37:48.079Z"
   },
   {
    "duration": 153,
    "start_time": "2025-06-20T07:37:48.103Z"
   },
   {
    "duration": 869,
    "start_time": "2025-06-20T07:37:48.261Z"
   },
   {
    "duration": 7,
    "start_time": "2025-06-20T07:37:49.132Z"
   },
   {
    "duration": 21,
    "start_time": "2025-06-20T07:37:49.141Z"
   },
   {
    "duration": 16,
    "start_time": "2025-06-20T07:37:49.164Z"
   },
   {
    "duration": 27,
    "start_time": "2025-06-20T07:37:49.182Z"
   },
   {
    "duration": 5,
    "start_time": "2025-06-20T07:37:49.210Z"
   },
   {
    "duration": 4,
    "start_time": "2025-06-20T07:37:49.217Z"
   },
   {
    "duration": 40,
    "start_time": "2025-06-20T07:37:49.222Z"
   },
   {
    "duration": 8,
    "start_time": "2025-06-20T07:37:49.264Z"
   },
   {
    "duration": 6,
    "start_time": "2025-06-20T07:37:49.273Z"
   },
   {
    "duration": 67702,
    "start_time": "2025-06-20T07:37:49.281Z"
   },
   {
    "duration": 76,
    "start_time": "2025-06-20T07:38:56.985Z"
   },
   {
    "duration": 239,
    "start_time": "2025-06-20T07:38:57.063Z"
   },
   {
    "duration": 460359,
    "start_time": "2025-06-20T07:38:57.304Z"
   },
   {
    "duration": 3,
    "start_time": "2025-06-20T07:47:03.246Z"
   },
   {
    "duration": 6,
    "start_time": "2025-06-20T07:47:08.658Z"
   },
   {
    "duration": 4,
    "start_time": "2025-06-20T07:47:16.200Z"
   },
   {
    "duration": 6,
    "start_time": "2025-06-20T07:47:19.783Z"
   },
   {
    "duration": 92158,
    "start_time": "2025-06-20T07:47:32.212Z"
   },
   {
    "duration": 5,
    "start_time": "2025-06-20T07:55:43.622Z"
   },
   {
    "duration": 229,
    "start_time": "2025-06-20T07:55:46.457Z"
   },
   {
    "duration": 332437,
    "start_time": "2025-06-20T07:55:52.835Z"
   },
   {
    "duration": 7,
    "start_time": "2025-06-20T08:02:33.865Z"
   },
   {
    "duration": 8253,
    "start_time": "2025-06-20T08:18:56.595Z"
   },
   {
    "duration": 10,
    "start_time": "2025-06-20T08:19:04.851Z"
   },
   {
    "duration": 62,
    "start_time": "2025-06-20T08:19:04.862Z"
   },
   {
    "duration": 38,
    "start_time": "2025-06-20T08:19:04.926Z"
   },
   {
    "duration": 5,
    "start_time": "2025-06-20T08:19:04.967Z"
   },
   {
    "duration": 256,
    "start_time": "2025-06-20T08:19:04.974Z"
   },
   {
    "duration": 397,
    "start_time": "2025-06-20T08:19:05.232Z"
   },
   {
    "duration": 277,
    "start_time": "2025-06-20T08:19:05.631Z"
   },
   {
    "duration": 256,
    "start_time": "2025-06-20T08:19:05.910Z"
   },
   {
    "duration": 212,
    "start_time": "2025-06-20T08:19:06.167Z"
   },
   {
    "duration": 4,
    "start_time": "2025-06-20T08:19:06.381Z"
   },
   {
    "duration": 132,
    "start_time": "2025-06-20T08:19:06.387Z"
   },
   {
    "duration": 262,
    "start_time": "2025-06-20T08:19:06.521Z"
   },
   {
    "duration": 7,
    "start_time": "2025-06-20T08:19:06.786Z"
   },
   {
    "duration": 10,
    "start_time": "2025-06-20T08:19:13.732Z"
   },
   {
    "duration": 158,
    "start_time": "2025-06-20T08:19:17.845Z"
   },
   {
    "duration": 8,
    "start_time": "2025-06-20T08:19:27.488Z"
   },
   {
    "duration": 814,
    "start_time": "2025-06-20T08:19:44.041Z"
   },
   {
    "duration": 12,
    "start_time": "2025-06-20T08:21:14.290Z"
   },
   {
    "duration": 10,
    "start_time": "2025-06-20T08:21:21.082Z"
   },
   {
    "duration": 927,
    "start_time": "2025-06-20T08:21:24.709Z"
   },
   {
    "duration": 7,
    "start_time": "2025-06-20T08:21:33.272Z"
   },
   {
    "duration": 6,
    "start_time": "2025-06-20T08:25:43.355Z"
   },
   {
    "duration": 7,
    "start_time": "2025-06-20T08:25:45.408Z"
   },
   {
    "duration": 758,
    "start_time": "2025-06-20T08:25:51.002Z"
   },
   {
    "duration": 7,
    "start_time": "2025-06-20T08:25:58.904Z"
   },
   {
    "duration": 146,
    "start_time": "2025-06-20T08:28:45.024Z"
   },
   {
    "duration": 153,
    "start_time": "2025-06-20T08:29:26.477Z"
   },
   {
    "duration": 162,
    "start_time": "2025-06-20T08:29:36.140Z"
   },
   {
    "duration": 151,
    "start_time": "2025-06-20T08:30:00.450Z"
   },
   {
    "duration": 8702,
    "start_time": "2025-06-20T08:31:25.814Z"
   },
   {
    "duration": 8,
    "start_time": "2025-06-20T08:31:34.519Z"
   },
   {
    "duration": 74,
    "start_time": "2025-06-20T08:31:34.530Z"
   },
   {
    "duration": 38,
    "start_time": "2025-06-20T08:31:34.607Z"
   },
   {
    "duration": 5,
    "start_time": "2025-06-20T08:31:34.648Z"
   },
   {
    "duration": 283,
    "start_time": "2025-06-20T08:31:34.654Z"
   },
   {
    "duration": 282,
    "start_time": "2025-06-20T08:31:34.939Z"
   },
   {
    "duration": 255,
    "start_time": "2025-06-20T08:31:35.223Z"
   },
   {
    "duration": 290,
    "start_time": "2025-06-20T08:31:35.481Z"
   },
   {
    "duration": 425,
    "start_time": "2025-06-20T08:31:35.774Z"
   },
   {
    "duration": 4,
    "start_time": "2025-06-20T08:31:36.200Z"
   },
   {
    "duration": 143,
    "start_time": "2025-06-20T08:31:36.206Z"
   },
   {
    "duration": 300,
    "start_time": "2025-06-20T08:31:36.350Z"
   },
   {
    "duration": 10,
    "start_time": "2025-06-20T08:31:36.660Z"
   },
   {
    "duration": 17,
    "start_time": "2025-06-20T08:31:36.674Z"
   },
   {
    "duration": 8,
    "start_time": "2025-06-20T08:31:36.693Z"
   },
   {
    "duration": 846,
    "start_time": "2025-06-20T08:31:36.703Z"
   },
   {
    "duration": 16,
    "start_time": "2025-06-20T08:31:37.550Z"
   },
   {
    "duration": 33,
    "start_time": "2025-06-20T08:31:37.568Z"
   },
   {
    "duration": 17,
    "start_time": "2025-06-20T08:31:37.603Z"
   },
   {
    "duration": 26,
    "start_time": "2025-06-20T08:31:37.622Z"
   },
   {
    "duration": 0,
    "start_time": "2025-06-20T08:31:37.660Z"
   },
   {
    "duration": 0,
    "start_time": "2025-06-20T08:31:37.661Z"
   },
   {
    "duration": 0,
    "start_time": "2025-06-20T08:31:37.664Z"
   },
   {
    "duration": 0,
    "start_time": "2025-06-20T08:31:37.665Z"
   },
   {
    "duration": 0,
    "start_time": "2025-06-20T08:31:37.668Z"
   },
   {
    "duration": 0,
    "start_time": "2025-06-20T08:31:37.669Z"
   },
   {
    "duration": 0,
    "start_time": "2025-06-20T08:31:37.672Z"
   },
   {
    "duration": 0,
    "start_time": "2025-06-20T08:31:37.675Z"
   },
   {
    "duration": 0,
    "start_time": "2025-06-20T08:31:37.678Z"
   },
   {
    "duration": 5,
    "start_time": "2025-06-20T08:48:27.381Z"
   },
   {
    "duration": 9,
    "start_time": "2025-06-20T08:51:44.031Z"
   },
   {
    "duration": 10,
    "start_time": "2025-06-20T08:54:54.892Z"
   },
   {
    "duration": 6,
    "start_time": "2025-06-20T08:54:57.380Z"
   },
   {
    "duration": 757,
    "start_time": "2025-06-20T08:55:01.440Z"
   },
   {
    "duration": 6,
    "start_time": "2025-06-20T08:55:36.598Z"
   },
   {
    "duration": 8175,
    "start_time": "2025-06-20T09:02:17.459Z"
   },
   {
    "duration": 9,
    "start_time": "2025-06-20T09:02:25.637Z"
   },
   {
    "duration": 81,
    "start_time": "2025-06-20T09:02:25.648Z"
   },
   {
    "duration": 28,
    "start_time": "2025-06-20T09:02:25.731Z"
   },
   {
    "duration": 5,
    "start_time": "2025-06-20T09:02:25.762Z"
   },
   {
    "duration": 289,
    "start_time": "2025-06-20T09:02:25.769Z"
   },
   {
    "duration": 245,
    "start_time": "2025-06-20T09:02:26.060Z"
   },
   {
    "duration": 220,
    "start_time": "2025-06-20T09:02:26.307Z"
   },
   {
    "duration": 275,
    "start_time": "2025-06-20T09:02:26.529Z"
   },
   {
    "duration": 400,
    "start_time": "2025-06-20T09:02:26.805Z"
   },
   {
    "duration": 5,
    "start_time": "2025-06-20T09:02:27.207Z"
   },
   {
    "duration": 130,
    "start_time": "2025-06-20T09:02:27.214Z"
   },
   {
    "duration": 251,
    "start_time": "2025-06-20T09:02:27.347Z"
   },
   {
    "duration": 6,
    "start_time": "2025-06-20T09:02:27.602Z"
   },
   {
    "duration": 79,
    "start_time": "2025-06-20T09:02:27.609Z"
   },
   {
    "duration": 8,
    "start_time": "2025-06-20T09:02:27.690Z"
   },
   {
    "duration": 814,
    "start_time": "2025-06-20T09:02:27.700Z"
   },
   {
    "duration": 7,
    "start_time": "2025-06-20T09:02:28.517Z"
   },
   {
    "duration": 6,
    "start_time": "2025-06-20T09:02:28.526Z"
   },
   {
    "duration": 40,
    "start_time": "2025-06-20T09:02:28.534Z"
   },
   {
    "duration": 9,
    "start_time": "2025-06-20T09:02:28.577Z"
   },
   {
    "duration": 26,
    "start_time": "2025-06-20T09:04:51.671Z"
   },
   {
    "duration": 4,
    "start_time": "2025-06-20T09:04:54.568Z"
   },
   {
    "duration": 3,
    "start_time": "2025-06-20T09:04:59.002Z"
   },
   {
    "duration": 5,
    "start_time": "2025-06-20T09:05:00.656Z"
   },
   {
    "duration": 5,
    "start_time": "2025-06-20T09:05:04.562Z"
   },
   {
    "duration": 5,
    "start_time": "2025-06-20T09:05:17.363Z"
   },
   {
    "duration": 15,
    "start_time": "2025-06-20T09:05:17.370Z"
   },
   {
    "duration": 68591,
    "start_time": "2025-06-20T09:05:17.387Z"
   },
   {
    "duration": 5,
    "start_time": "2025-06-20T09:06:25.980Z"
   },
   {
    "duration": 293,
    "start_time": "2025-06-20T09:06:25.988Z"
   },
   {
    "duration": 25498,
    "start_time": "2025-06-20T09:06:26.283Z"
   },
   {
    "duration": 759755,
    "start_time": "2025-06-20T09:07:35.495Z"
   },
   {
    "duration": 590633,
    "start_time": "2025-06-20T09:35:14.945Z"
   },
   {
    "duration": 22,
    "start_time": "2025-06-20T09:49:36.242Z"
   },
   {
    "duration": 22,
    "start_time": "2025-06-20T09:50:37.162Z"
   },
   {
    "duration": 4,
    "start_time": "2025-06-20T09:50:39.501Z"
   },
   {
    "duration": 3,
    "start_time": "2025-06-20T09:50:51.391Z"
   },
   {
    "duration": 6,
    "start_time": "2025-06-20T09:50:54.520Z"
   },
   {
    "duration": 4,
    "start_time": "2025-06-20T09:50:56.253Z"
   },
   {
    "duration": 5,
    "start_time": "2025-06-20T09:51:11.971Z"
   },
   {
    "duration": 24,
    "start_time": "2025-06-20T09:51:11.979Z"
   },
   {
    "duration": 59183,
    "start_time": "2025-06-20T09:51:12.005Z"
   },
   {
    "duration": 75,
    "start_time": "2025-06-20T09:52:11.190Z"
   },
   {
    "duration": 256,
    "start_time": "2025-06-20T09:52:11.268Z"
   },
   {
    "duration": 332460,
    "start_time": "2025-06-20T09:52:11.526Z"
   },
   {
    "duration": 4,
    "start_time": "2025-06-20T10:00:45.709Z"
   },
   {
    "duration": 7,
    "start_time": "2025-06-20T10:00:45.716Z"
   },
   {
    "duration": 16,
    "start_time": "2025-06-20T10:00:45.727Z"
   },
   {
    "duration": 11,
    "start_time": "2025-06-20T10:00:45.748Z"
   },
   {
    "duration": 78903,
    "start_time": "2025-06-20T10:00:45.764Z"
   },
   {
    "duration": 4,
    "start_time": "2025-06-20T10:02:04.669Z"
   },
   {
    "duration": 275,
    "start_time": "2025-06-20T10:02:04.675Z"
   },
   {
    "duration": 714988,
    "start_time": "2025-06-20T10:02:04.952Z"
   },
   {
    "duration": 66128,
    "start_time": "2025-06-20T10:22:32.054Z"
   },
   {
    "duration": 40745,
    "start_time": "2025-06-20T10:23:47.839Z"
   },
   {
    "duration": 22087,
    "start_time": "2025-06-20T10:24:32.788Z"
   },
   {
    "duration": 5,
    "start_time": "2025-06-20T10:25:13.320Z"
   },
   {
    "duration": 5,
    "start_time": "2025-06-20T10:25:15.044Z"
   },
   {
    "duration": 6,
    "start_time": "2025-06-20T10:25:16.332Z"
   },
   {
    "duration": 67362,
    "start_time": "2025-06-20T10:25:17.917Z"
   },
   {
    "duration": 6,
    "start_time": "2025-06-20T10:27:02.370Z"
   },
   {
    "duration": 245,
    "start_time": "2025-06-20T10:27:02.378Z"
   },
   {
    "duration": 787391,
    "start_time": "2025-06-20T10:27:02.625Z"
   },
   {
    "duration": 643613,
    "start_time": "2025-06-20T10:41:04.060Z"
   },
   {
    "duration": 619725,
    "start_time": "2025-06-20T10:53:32.113Z"
   },
   {
    "duration": 708148,
    "start_time": "2025-06-20T11:05:57.182Z"
   },
   {
    "duration": 19,
    "start_time": "2025-06-20T11:23:34.419Z"
   },
   {
    "duration": 15,
    "start_time": "2025-06-20T11:37:06.995Z"
   },
   {
    "duration": 22,
    "start_time": "2025-06-20T11:37:14.457Z"
   },
   {
    "duration": 483321,
    "start_time": "2025-06-20T11:52:39.323Z"
   },
   {
    "duration": 519764,
    "start_time": "2025-06-20T12:01:35.189Z"
   },
   {
    "duration": 100081,
    "start_time": "2025-06-20T12:13:42.490Z"
   },
   {
    "duration": 151760,
    "start_time": "2025-06-20T12:15:47.492Z"
   },
   {
    "duration": 654625,
    "start_time": "2025-06-20T12:18:29.522Z"
   },
   {
    "duration": 124472,
    "start_time": "2025-06-20T12:37:55.402Z"
   },
   {
    "duration": 243921,
    "start_time": "2025-06-20T12:40:16.018Z"
   },
   {
    "duration": 64771,
    "start_time": "2025-06-20T12:44:30.772Z"
   },
   {
    "duration": 666326,
    "start_time": "2025-06-20T12:45:45.208Z"
   },
   {
    "duration": 593187,
    "start_time": "2025-06-20T12:57:51.627Z"
   },
   {
    "duration": 5513,
    "start_time": "2025-06-20T13:13:15.978Z"
   },
   {
    "duration": 3,
    "start_time": "2025-06-20T13:13:25.687Z"
   },
   {
    "duration": 6,
    "start_time": "2025-06-20T13:13:26.711Z"
   },
   {
    "duration": 5,
    "start_time": "2025-06-20T13:13:28.700Z"
   },
   {
    "duration": 5,
    "start_time": "2025-06-20T13:13:30.329Z"
   },
   {
    "duration": 81869,
    "start_time": "2025-06-20T13:13:31.916Z"
   },
   {
    "duration": 4447,
    "start_time": "2025-06-20T13:15:23.234Z"
   },
   {
    "duration": 7,
    "start_time": "2025-06-20T13:15:31.662Z"
   },
   {
    "duration": 7,
    "start_time": "2025-06-20T13:15:33.064Z"
   },
   {
    "duration": 11,
    "start_time": "2025-06-20T13:15:34.665Z"
   },
   {
    "duration": 101899,
    "start_time": "2025-06-20T13:15:38.077Z"
   },
   {
    "duration": 82591,
    "start_time": "2025-06-20T13:23:17.810Z"
   },
   {
    "duration": 4512,
    "start_time": "2025-06-20T13:24:58.862Z"
   },
   {
    "duration": 4,
    "start_time": "2025-06-20T13:25:08.981Z"
   },
   {
    "duration": 5,
    "start_time": "2025-06-20T13:25:09.501Z"
   },
   {
    "duration": 5,
    "start_time": "2025-06-20T13:25:10.292Z"
   },
   {
    "duration": 5,
    "start_time": "2025-06-20T13:25:14.125Z"
   },
   {
    "duration": 66110,
    "start_time": "2025-06-20T13:25:15.268Z"
   },
   {
    "duration": 131906,
    "start_time": "2025-06-20T13:27:03.185Z"
   },
   {
    "duration": 22,
    "start_time": "2025-06-20T13:29:22.736Z"
   },
   {
    "duration": 5,
    "start_time": "2025-06-20T13:29:24.030Z"
   },
   {
    "duration": 4,
    "start_time": "2025-06-20T13:29:25.778Z"
   },
   {
    "duration": 5,
    "start_time": "2025-06-20T13:29:28.023Z"
   },
   {
    "duration": 5,
    "start_time": "2025-06-20T13:29:31.422Z"
   },
   {
    "duration": 6,
    "start_time": "2025-06-20T13:29:32.765Z"
   },
   {
    "duration": 63090,
    "start_time": "2025-06-20T13:29:34.581Z"
   },
   {
    "duration": 392538,
    "start_time": "2025-06-20T13:32:24.937Z"
   },
   {
    "duration": 22,
    "start_time": "2025-06-20T13:39:33.744Z"
   },
   {
    "duration": 56,
    "start_time": "2025-06-20T13:44:48.186Z"
   },
   {
    "duration": 28,
    "start_time": "2025-06-20T13:46:29.670Z"
   },
   {
    "duration": 22,
    "start_time": "2025-06-20T13:47:40.724Z"
   },
   {
    "duration": 17,
    "start_time": "2025-06-20T13:48:06.358Z"
   },
   {
    "duration": 20,
    "start_time": "2025-06-20T13:48:35.217Z"
   },
   {
    "duration": 17,
    "start_time": "2025-06-20T13:49:43.016Z"
   },
   {
    "duration": 18,
    "start_time": "2025-06-20T13:50:04.063Z"
   },
   {
    "duration": 15,
    "start_time": "2025-06-20T13:52:55.834Z"
   },
   {
    "duration": 21,
    "start_time": "2025-06-20T13:54:06.220Z"
   },
   {
    "duration": 26,
    "start_time": "2025-06-20T13:57:47.223Z"
   },
   {
    "duration": 29,
    "start_time": "2025-06-20T13:58:07.255Z"
   },
   {
    "duration": 1524,
    "start_time": "2025-06-20T14:06:09.242Z"
   },
   {
    "duration": 378746,
    "start_time": "2025-06-20T14:08:02.497Z"
   },
   {
    "duration": 388157,
    "start_time": "2025-06-20T14:25:17.008Z"
   },
   {
    "duration": 30,
    "start_time": "2025-06-20T14:32:00.341Z"
   },
   {
    "duration": 22,
    "start_time": "2025-06-20T14:32:48.220Z"
   },
   {
    "duration": 77,
    "start_time": "2025-06-20T14:40:49.051Z"
   },
   {
    "duration": 410401,
    "start_time": "2025-06-20T14:41:55.319Z"
   },
   {
    "duration": 30,
    "start_time": "2025-06-20T14:49:11.102Z"
   },
   {
    "duration": 247,
    "start_time": "2025-06-20T14:49:26.750Z"
   },
   {
    "duration": 22,
    "start_time": "2025-06-20T14:51:30.128Z"
   },
   {
    "duration": 29,
    "start_time": "2025-06-20T14:51:57.270Z"
   },
   {
    "duration": 5,
    "start_time": "2025-06-20T14:52:01.300Z"
   },
   {
    "duration": 62,
    "start_time": "2025-06-20T14:52:01.308Z"
   },
   {
    "duration": 15,
    "start_time": "2025-06-20T14:52:01.373Z"
   },
   {
    "duration": 48,
    "start_time": "2025-06-20T14:52:01.391Z"
   },
   {
    "duration": 25,
    "start_time": "2025-06-20T14:52:01.443Z"
   },
   {
    "duration": 101295,
    "start_time": "2025-06-20T14:52:01.470Z"
   },
   {
    "duration": 14,
    "start_time": "2025-06-20T14:53:42.774Z"
   },
   {
    "duration": 257,
    "start_time": "2025-06-20T14:53:42.792Z"
   },
   {
    "duration": 413613,
    "start_time": "2025-06-20T14:53:43.052Z"
   },
   {
    "duration": 30,
    "start_time": "2025-06-20T15:00:36.667Z"
   },
   {
    "duration": 268,
    "start_time": "2025-06-20T15:00:36.698Z"
   },
   {
    "duration": 381470,
    "start_time": "2025-06-20T15:16:50.918Z"
   },
   {
    "duration": 28,
    "start_time": "2025-06-20T15:23:12.391Z"
   },
   {
    "duration": 288,
    "start_time": "2025-06-20T15:23:12.421Z"
   },
   {
    "duration": 411753,
    "start_time": "2025-06-20T16:08:56.762Z"
   },
   {
    "duration": 31,
    "start_time": "2025-06-20T16:16:44.178Z"
   },
   {
    "duration": 279,
    "start_time": "2025-06-20T16:18:21.740Z"
   },
   {
    "duration": 236,
    "start_time": "2025-06-20T16:19:27.029Z"
   },
   {
    "duration": 405877,
    "start_time": "2025-06-20T16:49:57.813Z"
   },
   {
    "duration": 40,
    "start_time": "2025-06-20T16:58:06.158Z"
   },
   {
    "duration": 7,
    "start_time": "2025-06-20T17:00:27.263Z"
   },
   {
    "duration": 4094513,
    "start_time": "2025-06-20T17:10:48.926Z"
   },
   {
    "duration": 29,
    "start_time": "2025-06-20T18:50:55.835Z"
   },
   {
    "duration": 237,
    "start_time": "2025-06-20T19:08:13.305Z"
   },
   {
    "duration": 238,
    "start_time": "2025-06-20T19:08:38.229Z"
   },
   {
    "duration": 12,
    "start_time": "2025-06-20T20:15:22.136Z"
   },
   {
    "duration": 16,
    "start_time": "2025-06-20T20:16:05.405Z"
   },
   {
    "duration": 8753,
    "start_time": "2025-06-20T20:47:48.484Z"
   },
   {
    "duration": 2309,
    "start_time": "2025-06-20T20:47:57.240Z"
   },
   {
    "duration": 50,
    "start_time": "2025-06-20T20:47:59.550Z"
   },
   {
    "duration": 25,
    "start_time": "2025-06-20T20:47:59.602Z"
   },
   {
    "duration": 4,
    "start_time": "2025-06-20T20:47:59.629Z"
   },
   {
    "duration": 280,
    "start_time": "2025-06-20T20:47:59.634Z"
   },
   {
    "duration": 265,
    "start_time": "2025-06-20T20:47:59.916Z"
   },
   {
    "duration": 243,
    "start_time": "2025-06-20T20:48:00.183Z"
   },
   {
    "duration": 289,
    "start_time": "2025-06-20T20:48:00.428Z"
   },
   {
    "duration": 232,
    "start_time": "2025-06-20T20:48:00.719Z"
   },
   {
    "duration": 11,
    "start_time": "2025-06-20T20:48:00.953Z"
   },
   {
    "duration": 148,
    "start_time": "2025-06-20T20:48:00.968Z"
   },
   {
    "duration": 260,
    "start_time": "2025-06-20T20:48:01.118Z"
   },
   {
    "duration": 7,
    "start_time": "2025-06-20T20:48:01.381Z"
   },
   {
    "duration": 161,
    "start_time": "2025-06-20T20:48:01.389Z"
   },
   {
    "duration": 11,
    "start_time": "2025-06-20T20:48:01.563Z"
   },
   {
    "duration": 917,
    "start_time": "2025-06-20T20:48:01.577Z"
   },
   {
    "duration": 6,
    "start_time": "2025-06-20T20:48:02.496Z"
   },
   {
    "duration": 99,
    "start_time": "2025-06-20T20:48:02.503Z"
   },
   {
    "duration": 66,
    "start_time": "2025-06-20T20:48:02.603Z"
   },
   {
    "duration": 46,
    "start_time": "2025-06-20T20:48:02.671Z"
   },
   {
    "duration": 25,
    "start_time": "2025-06-20T20:48:02.719Z"
   },
   {
    "duration": 6,
    "start_time": "2025-06-20T20:48:02.746Z"
   },
   {
    "duration": 14,
    "start_time": "2025-06-20T20:48:02.753Z"
   },
   {
    "duration": 54,
    "start_time": "2025-06-20T20:48:02.770Z"
   },
   {
    "duration": 82848,
    "start_time": "2025-06-20T20:48:02.825Z"
   },
   {
    "duration": 4,
    "start_time": "2025-06-20T20:49:25.675Z"
   },
   {
    "duration": 296,
    "start_time": "2025-06-20T20:49:25.681Z"
   },
   {
    "duration": 348913,
    "start_time": "2025-06-20T20:49:25.979Z"
   },
   {
    "duration": 88,
    "start_time": "2025-06-20T20:55:14.893Z"
   },
   {
    "duration": 243,
    "start_time": "2025-06-20T20:55:14.982Z"
   },
   {
    "duration": 246,
    "start_time": "2025-06-20T20:55:15.227Z"
   },
   {
    "duration": 929847,
    "start_time": "2025-06-20T20:55:15.475Z"
   },
   {
    "duration": 0,
    "start_time": "2025-06-20T21:10:45.323Z"
   },
   {
    "duration": 0,
    "start_time": "2025-06-20T21:10:45.325Z"
   },
   {
    "duration": 0,
    "start_time": "2025-06-20T21:10:45.326Z"
   },
   {
    "duration": 7985,
    "start_time": "2025-06-20T21:14:15.222Z"
   },
   {
    "duration": 2108,
    "start_time": "2025-06-20T21:14:23.209Z"
   },
   {
    "duration": 50,
    "start_time": "2025-06-20T21:14:25.319Z"
   },
   {
    "duration": 28,
    "start_time": "2025-06-20T21:14:25.371Z"
   },
   {
    "duration": 5,
    "start_time": "2025-06-20T21:14:25.402Z"
   },
   {
    "duration": 293,
    "start_time": "2025-06-20T21:14:25.410Z"
   },
   {
    "duration": 267,
    "start_time": "2025-06-20T21:14:25.705Z"
   },
   {
    "duration": 228,
    "start_time": "2025-06-20T21:14:25.973Z"
   },
   {
    "duration": 265,
    "start_time": "2025-06-20T21:14:26.202Z"
   },
   {
    "duration": 214,
    "start_time": "2025-06-20T21:14:26.470Z"
   },
   {
    "duration": 4,
    "start_time": "2025-06-20T21:14:26.686Z"
   },
   {
    "duration": 175,
    "start_time": "2025-06-20T21:14:26.692Z"
   },
   {
    "duration": 255,
    "start_time": "2025-06-20T21:14:26.869Z"
   },
   {
    "duration": 7,
    "start_time": "2025-06-20T21:14:27.125Z"
   },
   {
    "duration": 143,
    "start_time": "2025-06-20T21:14:27.134Z"
   },
   {
    "duration": 75,
    "start_time": "2025-06-20T21:14:27.279Z"
   },
   {
    "duration": 808,
    "start_time": "2025-06-20T21:14:27.356Z"
   },
   {
    "duration": 7,
    "start_time": "2025-06-20T21:14:28.166Z"
   },
   {
    "duration": 13,
    "start_time": "2025-06-20T21:14:28.174Z"
   },
   {
    "duration": 23,
    "start_time": "2025-06-20T21:14:28.189Z"
   },
   {
    "duration": 4,
    "start_time": "2025-06-20T21:14:28.213Z"
   },
   {
    "duration": 7,
    "start_time": "2025-06-20T21:14:28.219Z"
   },
   {
    "duration": 36,
    "start_time": "2025-06-20T21:14:28.227Z"
   },
   {
    "duration": 5,
    "start_time": "2025-06-20T21:14:28.265Z"
   },
   {
    "duration": 8,
    "start_time": "2025-06-20T21:14:28.271Z"
   },
   {
    "duration": 60805,
    "start_time": "2025-06-20T21:14:28.281Z"
   },
   {
    "duration": 5,
    "start_time": "2025-06-20T21:15:29.160Z"
   },
   {
    "duration": 243,
    "start_time": "2025-06-20T21:15:29.169Z"
   },
   {
    "duration": 360280,
    "start_time": "2025-06-20T21:15:29.414Z"
   },
   {
    "duration": 81,
    "start_time": "2025-06-20T21:21:29.696Z"
   },
   {
    "duration": 241,
    "start_time": "2025-06-20T21:21:29.778Z"
   },
   {
    "duration": 244,
    "start_time": "2025-06-20T21:21:30.021Z"
   },
   {
    "duration": 2231200,
    "start_time": "2025-06-20T21:21:30.267Z"
   },
   {
    "duration": 27,
    "start_time": "2025-06-20T21:58:41.469Z"
   },
   {
    "duration": 350,
    "start_time": "2025-06-20T21:58:41.498Z"
   },
   {
    "duration": 235,
    "start_time": "2025-06-20T21:58:41.850Z"
   },
   {
    "duration": 13288,
    "start_time": "2025-06-20T23:31:01.647Z"
   },
   {
    "duration": 12106,
    "start_time": "2025-06-20T23:31:14.938Z"
   },
   {
    "duration": 38,
    "start_time": "2025-06-20T23:31:27.046Z"
   },
   {
    "duration": 27,
    "start_time": "2025-06-20T23:31:27.087Z"
   },
   {
    "duration": 4,
    "start_time": "2025-06-20T23:31:27.115Z"
   },
   {
    "duration": 276,
    "start_time": "2025-06-20T23:31:27.121Z"
   },
   {
    "duration": 238,
    "start_time": "2025-06-20T23:31:27.399Z"
   },
   {
    "duration": 222,
    "start_time": "2025-06-20T23:31:27.638Z"
   },
   {
    "duration": 254,
    "start_time": "2025-06-20T23:31:27.862Z"
   },
   {
    "duration": 212,
    "start_time": "2025-06-20T23:31:28.119Z"
   },
   {
    "duration": 6,
    "start_time": "2025-06-20T23:31:28.333Z"
   },
   {
    "duration": 126,
    "start_time": "2025-06-20T23:31:28.340Z"
   },
   {
    "duration": 258,
    "start_time": "2025-06-20T23:31:28.477Z"
   },
   {
    "duration": 6,
    "start_time": "2025-06-20T23:31:28.737Z"
   },
   {
    "duration": 266,
    "start_time": "2025-06-20T23:31:28.745Z"
   },
   {
    "duration": 23,
    "start_time": "2025-06-20T23:31:29.013Z"
   },
   {
    "duration": 841,
    "start_time": "2025-06-20T23:31:29.038Z"
   },
   {
    "duration": 7,
    "start_time": "2025-06-20T23:31:29.881Z"
   },
   {
    "duration": 22,
    "start_time": "2025-06-20T23:31:29.889Z"
   },
   {
    "duration": 30,
    "start_time": "2025-06-20T23:31:29.913Z"
   },
   {
    "duration": 10,
    "start_time": "2025-06-20T23:31:29.945Z"
   },
   {
    "duration": 5,
    "start_time": "2025-06-20T23:31:29.957Z"
   },
   {
    "duration": 16,
    "start_time": "2025-06-20T23:31:29.964Z"
   },
   {
    "duration": 6,
    "start_time": "2025-06-20T23:31:29.982Z"
   },
   {
    "duration": 7,
    "start_time": "2025-06-20T23:31:29.990Z"
   },
   {
    "duration": 60180,
    "start_time": "2025-06-20T23:31:29.999Z"
   },
   {
    "duration": 5,
    "start_time": "2025-06-20T23:32:30.181Z"
   },
   {
    "duration": 236,
    "start_time": "2025-06-20T23:32:30.189Z"
   },
   {
    "duration": 349110,
    "start_time": "2025-06-20T23:32:30.427Z"
   },
   {
    "duration": 79,
    "start_time": "2025-06-20T23:38:19.539Z"
   },
   {
    "duration": 234,
    "start_time": "2025-06-20T23:38:19.620Z"
   },
   {
    "duration": 230,
    "start_time": "2025-06-20T23:38:19.856Z"
   },
   {
    "duration": 8167,
    "start_time": "2025-06-21T11:24:28.394Z"
   },
   {
    "duration": 13149,
    "start_time": "2025-06-21T11:24:36.563Z"
   },
   {
    "duration": 52,
    "start_time": "2025-06-21T11:24:49.714Z"
   },
   {
    "duration": 44,
    "start_time": "2025-06-21T11:24:49.769Z"
   },
   {
    "duration": 5,
    "start_time": "2025-06-21T11:24:49.816Z"
   },
   {
    "duration": 366,
    "start_time": "2025-06-21T11:24:49.823Z"
   },
   {
    "duration": 266,
    "start_time": "2025-06-21T11:24:50.194Z"
   },
   {
    "duration": 273,
    "start_time": "2025-06-21T11:24:50.463Z"
   },
   {
    "duration": 306,
    "start_time": "2025-06-21T11:24:50.738Z"
   },
   {
    "duration": 244,
    "start_time": "2025-06-21T11:24:51.046Z"
   },
   {
    "duration": 5,
    "start_time": "2025-06-21T11:24:51.292Z"
   },
   {
    "duration": 144,
    "start_time": "2025-06-21T11:24:51.300Z"
   },
   {
    "duration": 318,
    "start_time": "2025-06-21T11:24:51.447Z"
   },
   {
    "duration": 14,
    "start_time": "2025-06-21T11:24:51.767Z"
   },
   {
    "duration": 21,
    "start_time": "2025-06-21T11:24:51.784Z"
   },
   {
    "duration": 114,
    "start_time": "2025-06-21T11:24:51.808Z"
   },
   {
    "duration": 1194,
    "start_time": "2025-06-21T11:24:51.925Z"
   },
   {
    "duration": 9,
    "start_time": "2025-06-21T11:24:53.122Z"
   },
   {
    "duration": 37,
    "start_time": "2025-06-21T11:24:53.133Z"
   },
   {
    "duration": 54,
    "start_time": "2025-06-21T11:24:53.175Z"
   },
   {
    "duration": 50,
    "start_time": "2025-06-21T11:24:53.231Z"
   },
   {
    "duration": 37,
    "start_time": "2025-06-21T11:24:53.284Z"
   },
   {
    "duration": 23,
    "start_time": "2025-06-21T11:24:53.323Z"
   },
   {
    "duration": 36,
    "start_time": "2025-06-21T11:24:53.348Z"
   },
   {
    "duration": 109,
    "start_time": "2025-06-21T11:24:53.389Z"
   },
   {
    "duration": 81590,
    "start_time": "2025-06-21T11:24:53.500Z"
   },
   {
    "duration": 5,
    "start_time": "2025-06-21T11:26:15.092Z"
   },
   {
    "duration": 307,
    "start_time": "2025-06-21T11:26:15.101Z"
   },
   {
    "duration": 105,
    "start_time": "2025-06-21T13:26:14.189Z"
   },
   {
    "duration": 87,
    "start_time": "2025-06-21T13:26:47.561Z"
   },
   {
    "duration": 51,
    "start_time": "2025-06-21T13:26:54.481Z"
   },
   {
    "duration": 13821,
    "start_time": "2025-06-21T13:27:04.320Z"
   },
   {
    "duration": 2237,
    "start_time": "2025-06-21T13:27:18.143Z"
   },
   {
    "duration": 39,
    "start_time": "2025-06-21T13:27:20.382Z"
   },
   {
    "duration": 179,
    "start_time": "2025-06-21T13:27:20.424Z"
   },
   {
    "duration": 3,
    "start_time": "2025-06-21T13:27:20.606Z"
   },
   {
    "duration": 259,
    "start_time": "2025-06-21T13:27:20.611Z"
   },
   {
    "duration": 245,
    "start_time": "2025-06-21T13:27:20.872Z"
   },
   {
    "duration": 206,
    "start_time": "2025-06-21T13:27:21.118Z"
   },
   {
    "duration": 250,
    "start_time": "2025-06-21T13:27:21.326Z"
   },
   {
    "duration": 203,
    "start_time": "2025-06-21T13:27:21.578Z"
   },
   {
    "duration": 5,
    "start_time": "2025-06-21T13:27:21.783Z"
   },
   {
    "duration": 132,
    "start_time": "2025-06-21T13:27:21.790Z"
   },
   {
    "duration": 334,
    "start_time": "2025-06-21T13:27:21.923Z"
   },
   {
    "duration": 366,
    "start_time": "2025-06-21T13:28:51.058Z"
   },
   {
    "duration": 6,
    "start_time": "2025-06-21T13:29:23.101Z"
   },
   {
    "duration": 11,
    "start_time": "2025-06-21T13:29:24.130Z"
   },
   {
    "duration": 6,
    "start_time": "2025-06-21T13:29:26.192Z"
   },
   {
    "duration": 190,
    "start_time": "2025-06-21T13:29:28.274Z"
   },
   {
    "duration": 377,
    "start_time": "2025-06-21T13:35:16.125Z"
   },
   {
    "duration": 324,
    "start_time": "2025-06-21T13:35:34.735Z"
   },
   {
    "duration": 313,
    "start_time": "2025-06-21T13:35:49.434Z"
   },
   {
    "duration": 311,
    "start_time": "2025-06-21T13:39:28.546Z"
   },
   {
    "duration": 323,
    "start_time": "2025-06-21T13:43:26.870Z"
   },
   {
    "duration": 304,
    "start_time": "2025-06-21T13:44:26.348Z"
   },
   {
    "duration": 405,
    "start_time": "2025-06-21T13:47:15.335Z"
   },
   {
    "duration": 21,
    "start_time": "2025-06-21T13:47:48.726Z"
   },
   {
    "duration": 315,
    "start_time": "2025-06-21T13:48:12.552Z"
   },
   {
    "duration": 12,
    "start_time": "2025-06-21T14:17:29.554Z"
   },
   {
    "duration": 5,
    "start_time": "2025-06-21T14:17:53.108Z"
   },
   {
    "duration": 2570,
    "start_time": "2025-06-21T14:23:01.349Z"
   },
   {
    "duration": 2363,
    "start_time": "2025-06-21T14:29:44.066Z"
   },
   {
    "duration": 5,
    "start_time": "2025-06-21T14:32:26.361Z"
   },
   {
    "duration": 8144,
    "start_time": "2025-06-21T14:37:25.396Z"
   },
   {
    "duration": 8,
    "start_time": "2025-06-21T14:37:33.543Z"
   },
   {
    "duration": 68,
    "start_time": "2025-06-21T14:37:33.553Z"
   },
   {
    "duration": 44,
    "start_time": "2025-06-21T14:37:33.623Z"
   },
   {
    "duration": 36,
    "start_time": "2025-06-21T14:37:33.670Z"
   },
   {
    "duration": 258,
    "start_time": "2025-06-21T14:37:33.708Z"
   },
   {
    "duration": 251,
    "start_time": "2025-06-21T14:37:33.967Z"
   },
   {
    "duration": 235,
    "start_time": "2025-06-21T14:37:34.219Z"
   },
   {
    "duration": 266,
    "start_time": "2025-06-21T14:37:34.455Z"
   },
   {
    "duration": 208,
    "start_time": "2025-06-21T14:37:34.723Z"
   },
   {
    "duration": 3,
    "start_time": "2025-06-21T14:37:34.933Z"
   },
   {
    "duration": 281,
    "start_time": "2025-06-21T14:37:34.938Z"
   },
   {
    "duration": 404,
    "start_time": "2025-06-21T14:37:35.221Z"
   },
   {
    "duration": 5,
    "start_time": "2025-06-21T14:37:35.627Z"
   },
   {
    "duration": 25,
    "start_time": "2025-06-21T14:37:35.634Z"
   },
   {
    "duration": 11,
    "start_time": "2025-06-21T14:37:35.661Z"
   },
   {
    "duration": 886,
    "start_time": "2025-06-21T14:37:35.674Z"
   },
   {
    "duration": 6,
    "start_time": "2025-06-21T14:37:36.562Z"
   },
   {
    "duration": 52,
    "start_time": "2025-06-21T14:37:36.580Z"
   },
   {
    "duration": 2578,
    "start_time": "2025-06-21T14:37:36.633Z"
   },
   {
    "duration": 22,
    "start_time": "2025-06-21T14:37:39.213Z"
   },
   {
    "duration": 38,
    "start_time": "2025-06-21T14:37:39.237Z"
   },
   {
    "duration": 15,
    "start_time": "2025-06-21T14:37:39.278Z"
   },
   {
    "duration": 16,
    "start_time": "2025-06-21T14:37:39.295Z"
   },
   {
    "duration": 23,
    "start_time": "2025-06-21T14:37:39.312Z"
   },
   {
    "duration": 7,
    "start_time": "2025-06-21T14:37:39.337Z"
   },
   {
    "duration": 79756,
    "start_time": "2025-06-21T14:37:39.346Z"
   },
   {
    "duration": 8,
    "start_time": "2025-06-21T14:38:59.105Z"
   },
   {
    "duration": 268,
    "start_time": "2025-06-21T14:38:59.115Z"
   },
   {
    "duration": 6,
    "start_time": "2025-06-21T14:42:03.271Z"
   },
   {
    "duration": 17,
    "start_time": "2025-06-21T14:42:05.217Z"
   },
   {
    "duration": 5,
    "start_time": "2025-06-21T14:45:38.548Z"
   },
   {
    "duration": 387,
    "start_time": "2025-06-21T14:45:40.534Z"
   },
   {
    "duration": 341491,
    "start_time": "2025-06-21T14:58:02.189Z"
   },
   {
    "duration": 75,
    "start_time": "2025-06-21T15:03:43.683Z"
   },
   {
    "duration": 407,
    "start_time": "2025-06-21T15:03:43.759Z"
   },
   {
    "duration": 485,
    "start_time": "2025-06-21T15:03:44.168Z"
   },
   {
    "duration": 13251,
    "start_time": "2025-06-21T15:03:44.655Z"
   },
   {
    "duration": 0,
    "start_time": "2025-06-21T15:03:57.908Z"
   },
   {
    "duration": 0,
    "start_time": "2025-06-21T15:03:57.909Z"
   },
   {
    "duration": 0,
    "start_time": "2025-06-21T15:03:57.911Z"
   },
   {
    "duration": 7229,
    "start_time": "2025-06-21T15:04:06.319Z"
   },
   {
    "duration": 1953,
    "start_time": "2025-06-21T15:04:13.551Z"
   },
   {
    "duration": 46,
    "start_time": "2025-06-21T15:04:15.505Z"
   },
   {
    "duration": 23,
    "start_time": "2025-06-21T15:04:15.553Z"
   },
   {
    "duration": 4,
    "start_time": "2025-06-21T15:04:15.578Z"
   },
   {
    "duration": 234,
    "start_time": "2025-06-21T15:04:15.583Z"
   },
   {
    "duration": 232,
    "start_time": "2025-06-21T15:04:15.819Z"
   },
   {
    "duration": 196,
    "start_time": "2025-06-21T15:04:16.053Z"
   },
   {
    "duration": 226,
    "start_time": "2025-06-21T15:04:16.251Z"
   },
   {
    "duration": 209,
    "start_time": "2025-06-21T15:04:16.479Z"
   },
   {
    "duration": 4,
    "start_time": "2025-06-21T15:04:16.689Z"
   },
   {
    "duration": 116,
    "start_time": "2025-06-21T15:04:16.694Z"
   },
   {
    "duration": 346,
    "start_time": "2025-06-21T15:04:16.812Z"
   },
   {
    "duration": 15,
    "start_time": "2025-06-21T15:04:17.161Z"
   },
   {
    "duration": 123,
    "start_time": "2025-06-21T15:04:17.178Z"
   },
   {
    "duration": 85,
    "start_time": "2025-06-21T15:04:17.302Z"
   },
   {
    "duration": 742,
    "start_time": "2025-06-21T15:04:17.389Z"
   },
   {
    "duration": 6,
    "start_time": "2025-06-21T15:04:18.133Z"
   },
   {
    "duration": 14,
    "start_time": "2025-06-21T15:04:18.140Z"
   },
   {
    "duration": 2342,
    "start_time": "2025-06-21T15:04:18.155Z"
   },
   {
    "duration": 23,
    "start_time": "2025-06-21T15:04:20.499Z"
   },
   {
    "duration": 97,
    "start_time": "2025-06-21T15:04:20.524Z"
   },
   {
    "duration": 26,
    "start_time": "2025-06-21T15:04:20.622Z"
   },
   {
    "duration": 10,
    "start_time": "2025-06-21T15:04:20.650Z"
   },
   {
    "duration": 9,
    "start_time": "2025-06-21T15:04:20.661Z"
   },
   {
    "duration": 10,
    "start_time": "2025-06-21T15:04:20.672Z"
   },
   {
    "duration": 59905,
    "start_time": "2025-06-21T15:04:20.683Z"
   },
   {
    "duration": 4,
    "start_time": "2025-06-21T15:05:20.590Z"
   },
   {
    "duration": 436,
    "start_time": "2025-06-21T15:05:20.596Z"
   },
   {
    "duration": 343268,
    "start_time": "2025-06-21T15:05:21.034Z"
   },
   {
    "duration": 83,
    "start_time": "2025-06-21T15:11:04.303Z"
   },
   {
    "duration": 366,
    "start_time": "2025-06-21T15:11:04.388Z"
   },
   {
    "duration": 372,
    "start_time": "2025-06-21T15:11:04.757Z"
   },
   {
    "duration": 3444714,
    "start_time": "2025-06-21T15:11:05.131Z"
   },
   {
    "duration": 44,
    "start_time": "2025-06-21T16:08:29.847Z"
   },
   {
    "duration": 398,
    "start_time": "2025-06-21T16:08:29.893Z"
   },
   {
    "duration": 398,
    "start_time": "2025-06-21T16:08:30.293Z"
   }
  ],
  "kernelspec": {
   "display_name": "Python 3 (ipykernel)",
   "language": "python",
   "name": "python3"
  },
  "language_info": {
   "codemirror_mode": {
    "name": "ipython",
    "version": 3
   },
   "file_extension": ".py",
   "mimetype": "text/x-python",
   "name": "python",
   "nbconvert_exporter": "python",
   "pygments_lexer": "ipython3",
   "version": "3.11.5"
  },
  "toc": {
   "base_numbering": 1,
   "nav_menu": {},
   "number_sections": true,
   "sideBar": true,
   "skip_h1_title": false,
   "title_cell": "Table of Contents",
   "title_sidebar": "Contents",
   "toc_cell": false,
   "toc_position": {
    "height": "calc(100% - 180px)",
    "left": "10px",
    "top": "150px",
    "width": "165px"
   },
   "toc_section_display": true,
   "toc_window_display": true
  },
  "varInspector": {
   "cols": {
    "lenName": 16,
    "lenType": 16,
    "lenVar": 40
   },
   "kernels_config": {
    "python": {
     "delete_cmd_postfix": "",
     "delete_cmd_prefix": "del ",
     "library": "var_list.py",
     "varRefreshCmd": "print(var_dic_list())"
    },
    "r": {
     "delete_cmd_postfix": ") ",
     "delete_cmd_prefix": "rm(",
     "library": "var_list.r",
     "varRefreshCmd": "cat(var_dic_list()) "
    }
   },
   "types_to_exclude": [
    "module",
    "function",
    "builtin_function_or_method",
    "instance",
    "_Feature"
   ],
   "window_display": false
  }
 },
 "nbformat": 4,
 "nbformat_minor": 5
}
