{
 "cells": [
  {
   "cell_type": "markdown",
   "metadata": {},
   "source": [
    "# Выбор локации для скважины"
   ]
  },
  {
   "cell_type": "markdown",
   "metadata": {},
   "source": [
    "Допустим, вы работаете в добывающей компании «ГлавРосГосНефть». Нужно решить, где бурить новую скважину.\n",
    "\n",
    "Вам предоставлены пробы нефти в трёх регионах: в каждом 10 000 месторождений, где измерили качество нефти и объём её запасов. Постройте модель машинного обучения, которая поможет определить регион, где добыча принесёт наибольшую прибыль. Проанализируйте возможную прибыль и риски техникой *Bootstrap.*\n",
    "\n",
    "Шаги для выбора локации:\n",
    "\n",
    "- В избранном регионе ищут месторождения, для каждого определяют значения признаков;\n",
    "- Строят модель и оценивают объём запасов;\n",
    "- Выбирают месторождения с самым высокими оценками значений. Количество месторождений зависит от бюджета компании и стоимости разработки одной скважины;\n",
    "- Прибыль равна суммарной прибыли отобранных месторождений."
   ]
  },
  {
   "cell_type": "markdown",
   "metadata": {},
   "source": [
    "**План работы над проектом**\n",
    "1. Загрузка и подготовка данных\n",
    "2. Обучение и проверка модели\n",
    "3. Подготовка к расчету прибыли (убытка)\n",
    "4. Расчет прибыли (убытка)\n",
    "5. Выводы по проекту\n",
    "6. Чек-лист готовности проекта"
   ]
  },
  {
   "cell_type": "markdown",
   "metadata": {},
   "source": [
    "## Загрузка и подготовка данных"
   ]
  },
  {
   "cell_type": "markdown",
   "metadata": {},
   "source": [
    "### Загрузка библиотек"
   ]
  },
  {
   "cell_type": "code",
   "execution_count": 1,
   "metadata": {},
   "outputs": [],
   "source": [
    "# Загрузим необходимые библиотеки\n",
    "!pip install shap -q\n",
    "!pip install scikit-learn==1.1.3 -q\n",
    "!pip -q install phik"
   ]
  },
  {
   "cell_type": "code",
   "execution_count": 2,
   "metadata": {},
   "outputs": [],
   "source": [
    "# Импортируем необходимые нам библиотеки\n",
    "import pandas as pd\n",
    "import seaborn as sns\n",
    "import numpy as np\n",
    "import matplotlib.pyplot as plt\n",
    "import phik\n",
    "from phik import phik_matrix\n",
    "from phik.report import plot_correlation_matrix\n",
    "from scipy import stats as st\n",
    "from scipy.stats import binom, norm, spearmanr\n",
    "from sklearn.model_selection import train_test_split, GridSearchCV, RandomizedSearchCV\n",
    "from sklearn.preprocessing import OneHotEncoder, OrdinalEncoder, StandardScaler, MinMaxScaler, RobustScaler, LabelEncoder\n",
    "from sklearn.linear_model import LinearRegression, LogisticRegression\n",
    "from sklearn.metrics import (\n",
    "    r2_score, \n",
    "    mean_squared_error, \n",
    "    mean_absolute_error, \n",
    "    accuracy_score, \n",
    "    confusion_matrix, \n",
    "    recall_score, \n",
    "    precision_score, \n",
    "    roc_auc_score, \n",
    "    f1_score,\n",
    "    make_scorer\n",
    ")\n",
    "from sklearn.pipeline import Pipeline\n",
    "from sklearn.preprocessing import OneHotEncoder, OrdinalEncoder, StandardScaler, MinMaxScaler, RobustScaler\n",
    "from sklearn.compose import ColumnTransformer\n",
    "from sklearn.impute import SimpleImputer\n",
    "from sklearn.linear_model import LogisticRegression\n",
    "from sklearn.neighbors import KNeighborsClassifier, KNeighborsRegressor\n",
    "from sklearn.tree import DecisionTreeClassifier, DecisionTreeRegressor\n",
    "from sklearn.svm import SVC\n",
    "\n",
    "import shap"
   ]
  },
  {
   "cell_type": "markdown",
   "metadata": {},
   "source": [
    "### Загрузка данных"
   ]
  },
  {
   "cell_type": "code",
   "execution_count": 3,
   "metadata": {},
   "outputs": [
    {
     "name": "stdout",
     "output_type": "stream",
     "text": [
      "<class 'pandas.core.frame.DataFrame'>\n",
      "RangeIndex: 100000 entries, 0 to 99999\n",
      "Data columns (total 5 columns):\n",
      " #   Column   Non-Null Count   Dtype  \n",
      "---  ------   --------------   -----  \n",
      " 0   id       100000 non-null  object \n",
      " 1   f0       100000 non-null  float64\n",
      " 2   f1       100000 non-null  float64\n",
      " 3   f2       100000 non-null  float64\n",
      " 4   product  100000 non-null  float64\n",
      "dtypes: float64(4), object(1)\n",
      "memory usage: 3.8+ MB\n"
     ]
    },
    {
     "data": {
      "text/html": [
       "<div>\n",
       "<style scoped>\n",
       "    .dataframe tbody tr th:only-of-type {\n",
       "        vertical-align: middle;\n",
       "    }\n",
       "\n",
       "    .dataframe tbody tr th {\n",
       "        vertical-align: top;\n",
       "    }\n",
       "\n",
       "    .dataframe thead th {\n",
       "        text-align: right;\n",
       "    }\n",
       "</style>\n",
       "<table border=\"1\" class=\"dataframe\">\n",
       "  <thead>\n",
       "    <tr style=\"text-align: right;\">\n",
       "      <th></th>\n",
       "      <th>id</th>\n",
       "      <th>f0</th>\n",
       "      <th>f1</th>\n",
       "      <th>f2</th>\n",
       "      <th>product</th>\n",
       "    </tr>\n",
       "  </thead>\n",
       "  <tbody>\n",
       "    <tr>\n",
       "      <th>0</th>\n",
       "      <td>txEyH</td>\n",
       "      <td>0.705745</td>\n",
       "      <td>-0.497823</td>\n",
       "      <td>1.221170</td>\n",
       "      <td>105.280062</td>\n",
       "    </tr>\n",
       "    <tr>\n",
       "      <th>1</th>\n",
       "      <td>2acmU</td>\n",
       "      <td>1.334711</td>\n",
       "      <td>-0.340164</td>\n",
       "      <td>4.365080</td>\n",
       "      <td>73.037750</td>\n",
       "    </tr>\n",
       "    <tr>\n",
       "      <th>2</th>\n",
       "      <td>409Wp</td>\n",
       "      <td>1.022732</td>\n",
       "      <td>0.151990</td>\n",
       "      <td>1.419926</td>\n",
       "      <td>85.265647</td>\n",
       "    </tr>\n",
       "    <tr>\n",
       "      <th>3</th>\n",
       "      <td>iJLyR</td>\n",
       "      <td>-0.032172</td>\n",
       "      <td>0.139033</td>\n",
       "      <td>2.978566</td>\n",
       "      <td>168.620776</td>\n",
       "    </tr>\n",
       "    <tr>\n",
       "      <th>4</th>\n",
       "      <td>Xdl7t</td>\n",
       "      <td>1.988431</td>\n",
       "      <td>0.155413</td>\n",
       "      <td>4.751769</td>\n",
       "      <td>154.036647</td>\n",
       "    </tr>\n",
       "  </tbody>\n",
       "</table>\n",
       "</div>"
      ],
      "text/plain": [
       "      id        f0        f1        f2     product\n",
       "0  txEyH  0.705745 -0.497823  1.221170  105.280062\n",
       "1  2acmU  1.334711 -0.340164  4.365080   73.037750\n",
       "2  409Wp  1.022732  0.151990  1.419926   85.265647\n",
       "3  iJLyR -0.032172  0.139033  2.978566  168.620776\n",
       "4  Xdl7t  1.988431  0.155413  4.751769  154.036647"
      ]
     },
     "execution_count": 3,
     "metadata": {},
     "output_type": "execute_result"
    }
   ],
   "source": [
    "# Загрузим данные тренировочной выборки /datasets/geo_data_0.csv, выбрав верный разделитель. \n",
    "# Ознакомимся с содержимым.\n",
    "geo_data_0 = pd.read_csv('/datasets//geo_data_0.csv', sep = ',', decimal='.')\n",
    "geo_data_0.info()\n",
    "geo_data_0.head()"
   ]
  },
  {
   "cell_type": "code",
   "execution_count": 4,
   "metadata": {},
   "outputs": [
    {
     "name": "stdout",
     "output_type": "stream",
     "text": [
      "<class 'pandas.core.frame.DataFrame'>\n",
      "RangeIndex: 100000 entries, 0 to 99999\n",
      "Data columns (total 5 columns):\n",
      " #   Column   Non-Null Count   Dtype  \n",
      "---  ------   --------------   -----  \n",
      " 0   id       100000 non-null  object \n",
      " 1   f0       100000 non-null  float64\n",
      " 2   f1       100000 non-null  float64\n",
      " 3   f2       100000 non-null  float64\n",
      " 4   product  100000 non-null  float64\n",
      "dtypes: float64(4), object(1)\n",
      "memory usage: 3.8+ MB\n"
     ]
    },
    {
     "data": {
      "text/html": [
       "<div>\n",
       "<style scoped>\n",
       "    .dataframe tbody tr th:only-of-type {\n",
       "        vertical-align: middle;\n",
       "    }\n",
       "\n",
       "    .dataframe tbody tr th {\n",
       "        vertical-align: top;\n",
       "    }\n",
       "\n",
       "    .dataframe thead th {\n",
       "        text-align: right;\n",
       "    }\n",
       "</style>\n",
       "<table border=\"1\" class=\"dataframe\">\n",
       "  <thead>\n",
       "    <tr style=\"text-align: right;\">\n",
       "      <th></th>\n",
       "      <th>id</th>\n",
       "      <th>f0</th>\n",
       "      <th>f1</th>\n",
       "      <th>f2</th>\n",
       "      <th>product</th>\n",
       "    </tr>\n",
       "  </thead>\n",
       "  <tbody>\n",
       "    <tr>\n",
       "      <th>0</th>\n",
       "      <td>kBEdx</td>\n",
       "      <td>-15.001348</td>\n",
       "      <td>-8.276000</td>\n",
       "      <td>-0.005876</td>\n",
       "      <td>3.179103</td>\n",
       "    </tr>\n",
       "    <tr>\n",
       "      <th>1</th>\n",
       "      <td>62mP7</td>\n",
       "      <td>14.272088</td>\n",
       "      <td>-3.475083</td>\n",
       "      <td>0.999183</td>\n",
       "      <td>26.953261</td>\n",
       "    </tr>\n",
       "    <tr>\n",
       "      <th>2</th>\n",
       "      <td>vyE1P</td>\n",
       "      <td>6.263187</td>\n",
       "      <td>-5.948386</td>\n",
       "      <td>5.001160</td>\n",
       "      <td>134.766305</td>\n",
       "    </tr>\n",
       "    <tr>\n",
       "      <th>3</th>\n",
       "      <td>KcrkZ</td>\n",
       "      <td>-13.081196</td>\n",
       "      <td>-11.506057</td>\n",
       "      <td>4.999415</td>\n",
       "      <td>137.945408</td>\n",
       "    </tr>\n",
       "    <tr>\n",
       "      <th>4</th>\n",
       "      <td>AHL4O</td>\n",
       "      <td>12.702195</td>\n",
       "      <td>-8.147433</td>\n",
       "      <td>5.004363</td>\n",
       "      <td>134.766305</td>\n",
       "    </tr>\n",
       "  </tbody>\n",
       "</table>\n",
       "</div>"
      ],
      "text/plain": [
       "      id         f0         f1        f2     product\n",
       "0  kBEdx -15.001348  -8.276000 -0.005876    3.179103\n",
       "1  62mP7  14.272088  -3.475083  0.999183   26.953261\n",
       "2  vyE1P   6.263187  -5.948386  5.001160  134.766305\n",
       "3  KcrkZ -13.081196 -11.506057  4.999415  137.945408\n",
       "4  AHL4O  12.702195  -8.147433  5.004363  134.766305"
      ]
     },
     "execution_count": 4,
     "metadata": {},
     "output_type": "execute_result"
    }
   ],
   "source": [
    "# Загрузим данные тренировочной выборки /datasets/geo_data_1.csv, выбрав верный разделитель. \n",
    "# Ознакомимся с содержимым.\n",
    "geo_data_1 = pd.read_csv('/datasets//geo_data_1.csv', sep = ',', decimal='.')\n",
    "geo_data_1.info()\n",
    "geo_data_1.head()"
   ]
  },
  {
   "cell_type": "code",
   "execution_count": 5,
   "metadata": {},
   "outputs": [
    {
     "name": "stdout",
     "output_type": "stream",
     "text": [
      "<class 'pandas.core.frame.DataFrame'>\n",
      "RangeIndex: 100000 entries, 0 to 99999\n",
      "Data columns (total 5 columns):\n",
      " #   Column   Non-Null Count   Dtype  \n",
      "---  ------   --------------   -----  \n",
      " 0   id       100000 non-null  object \n",
      " 1   f0       100000 non-null  float64\n",
      " 2   f1       100000 non-null  float64\n",
      " 3   f2       100000 non-null  float64\n",
      " 4   product  100000 non-null  float64\n",
      "dtypes: float64(4), object(1)\n",
      "memory usage: 3.8+ MB\n"
     ]
    },
    {
     "data": {
      "text/html": [
       "<div>\n",
       "<style scoped>\n",
       "    .dataframe tbody tr th:only-of-type {\n",
       "        vertical-align: middle;\n",
       "    }\n",
       "\n",
       "    .dataframe tbody tr th {\n",
       "        vertical-align: top;\n",
       "    }\n",
       "\n",
       "    .dataframe thead th {\n",
       "        text-align: right;\n",
       "    }\n",
       "</style>\n",
       "<table border=\"1\" class=\"dataframe\">\n",
       "  <thead>\n",
       "    <tr style=\"text-align: right;\">\n",
       "      <th></th>\n",
       "      <th>id</th>\n",
       "      <th>f0</th>\n",
       "      <th>f1</th>\n",
       "      <th>f2</th>\n",
       "      <th>product</th>\n",
       "    </tr>\n",
       "  </thead>\n",
       "  <tbody>\n",
       "    <tr>\n",
       "      <th>0</th>\n",
       "      <td>fwXo0</td>\n",
       "      <td>-1.146987</td>\n",
       "      <td>0.963328</td>\n",
       "      <td>-0.828965</td>\n",
       "      <td>27.758673</td>\n",
       "    </tr>\n",
       "    <tr>\n",
       "      <th>1</th>\n",
       "      <td>WJtFt</td>\n",
       "      <td>0.262778</td>\n",
       "      <td>0.269839</td>\n",
       "      <td>-2.530187</td>\n",
       "      <td>56.069697</td>\n",
       "    </tr>\n",
       "    <tr>\n",
       "      <th>2</th>\n",
       "      <td>ovLUW</td>\n",
       "      <td>0.194587</td>\n",
       "      <td>0.289035</td>\n",
       "      <td>-5.586433</td>\n",
       "      <td>62.871910</td>\n",
       "    </tr>\n",
       "    <tr>\n",
       "      <th>3</th>\n",
       "      <td>q6cA6</td>\n",
       "      <td>2.236060</td>\n",
       "      <td>-0.553760</td>\n",
       "      <td>0.930038</td>\n",
       "      <td>114.572842</td>\n",
       "    </tr>\n",
       "    <tr>\n",
       "      <th>4</th>\n",
       "      <td>WPMUX</td>\n",
       "      <td>-0.515993</td>\n",
       "      <td>1.716266</td>\n",
       "      <td>5.899011</td>\n",
       "      <td>149.600746</td>\n",
       "    </tr>\n",
       "  </tbody>\n",
       "</table>\n",
       "</div>"
      ],
      "text/plain": [
       "      id        f0        f1        f2     product\n",
       "0  fwXo0 -1.146987  0.963328 -0.828965   27.758673\n",
       "1  WJtFt  0.262778  0.269839 -2.530187   56.069697\n",
       "2  ovLUW  0.194587  0.289035 -5.586433   62.871910\n",
       "3  q6cA6  2.236060 -0.553760  0.930038  114.572842\n",
       "4  WPMUX -0.515993  1.716266  5.899011  149.600746"
      ]
     },
     "execution_count": 5,
     "metadata": {},
     "output_type": "execute_result"
    }
   ],
   "source": [
    "# Загрузим данные тренировочной выборки /datasets/geo_data_2.csv, выбрав верный разделитель. \n",
    "# Ознакомимся с содержимым.\n",
    "geo_data_2 = pd.read_csv('/datasets//geo_data_2.csv', sep = ',', decimal='.')\n",
    "geo_data_2.info()\n",
    "geo_data_2.head()"
   ]
  },
  {
   "cell_type": "markdown",
   "metadata": {},
   "source": [
    "Данные загрузились корректно. Разделитель выбран верно. Все три датасета содержат 10 000 строк и 5 столбцов. Явных пропусков нет."
   ]
  },
  {
   "cell_type": "markdown",
   "metadata": {},
   "source": [
    "### Предобработка данных"
   ]
  },
  {
   "cell_type": "code",
   "execution_count": 6,
   "metadata": {},
   "outputs": [
    {
     "name": "stdout",
     "output_type": "stream",
     "text": [
      "10\n",
      "4\n",
      "4\n"
     ]
    }
   ],
   "source": [
    "# Проверим данные на наличие дубликатов 'id'\n",
    "print(geo_data_0.duplicated(['id']).sum())\n",
    "print(geo_data_1.duplicated(['id']).sum())\n",
    "print(geo_data_2.duplicated(['id']).sum())"
   ]
  },
  {
   "cell_type": "markdown",
   "metadata": {},
   "source": [
    "Выявлено незначительное количество дубликатов в скважинах. Удалим их."
   ]
  },
  {
   "cell_type": "code",
   "execution_count": 7,
   "metadata": {},
   "outputs": [],
   "source": [
    "# Удаляем дубликаты 'id'\n",
    "geo_data_0 = geo_data_0.drop_duplicates('id')\n",
    "geo_data_1 = geo_data_1.drop_duplicates('id')\n",
    "geo_data_2 = geo_data_2.drop_duplicates('id')"
   ]
  },
  {
   "cell_type": "code",
   "execution_count": 8,
   "metadata": {},
   "outputs": [
    {
     "name": "stdout",
     "output_type": "stream",
     "text": [
      "0\n",
      "0\n",
      "0\n"
     ]
    }
   ],
   "source": [
    "# Проверим еще раз данные на наличие дубликатов 'id'\n",
    "print(geo_data_0.duplicated(['id']).sum())\n",
    "print(geo_data_1.duplicated(['id']).sum())\n",
    "print(geo_data_2.duplicated(['id']).sum())"
   ]
  },
  {
   "cell_type": "markdown",
   "metadata": {},
   "source": [
    "На этом предобработку данных можно завершить, т.к. кроме 'id' скважин остальные данные у нас вещественные, с ними будем разбираться в исследовательском анализе."
   ]
  },
  {
   "cell_type": "markdown",
   "metadata": {},
   "source": [
    "### Исследовательский анализ данных"
   ]
  },
  {
   "cell_type": "code",
   "execution_count": 9,
   "metadata": {},
   "outputs": [],
   "source": [
    "# Создадим функцию вывода гистограммы распределения для числовых данных\n",
    "def hist_num (data):\n",
    "    plt.figure(figsize=(20, 10))\n",
    "    plt.subplot(2, 2, 1)\n",
    "    data['f0'].plot(kind = 'hist', grid=True)\n",
    "    plt.title('Распределение признака f0')\n",
    "    plt.ylabel('Частота')\n",
    "    plt.xlabel('f0')\n",
    "    plt.subplot(2, 2, 2)\n",
    "    data['f1'].plot(kind = 'hist', grid=True)\n",
    "    plt.title('Распределение признака f1')\n",
    "    plt.ylabel('Частота')\n",
    "    plt.xlabel('f1')\n",
    "    plt.subplot(2, 2, 3)\n",
    "    data['f2'].plot(kind = 'hist', grid=True)\n",
    "    plt.title('Распределение признака f2')\n",
    "    plt.ylabel('Частота')\n",
    "    plt.xlabel('f2')\n",
    "    plt.subplot(2, 2, 4)\n",
    "    data['product'].plot(kind = 'hist', grid=True)\n",
    "    plt.title('Распределение целевого признака product')\n",
    "    plt.ylabel('Частота')\n",
    "    plt.xlabel('product')\n",
    "    plt.show()"
   ]
  },
  {
   "cell_type": "code",
   "execution_count": 10,
   "metadata": {},
   "outputs": [
    {
     "data": {
      "image/png": "[encoded data removed]",
      "text/plain": [
       "<Figure size 1440x720 with 4 Axes>"
      ]
     },
     "metadata": {
      "needs_background": "light"
     },
     "output_type": "display_data"
    }
   ],
   "source": [
    "# Выведем распределения данных в датасете 'geo_data_0'\n",
    "data=geo_data_0\n",
    "hist_num(data)"
   ]
  },
  {
   "cell_type": "code",
   "execution_count": 11,
   "metadata": {},
   "outputs": [
    {
     "data": {
      "image/png": "[encoded data removed]",
      "text/plain": [
       "<Figure size 1440x720 with 4 Axes>"
      ]
     },
     "metadata": {
      "needs_background": "light"
     },
     "output_type": "display_data"
    }
   ],
   "source": [
    "# Выведем распределения данных в датасете 'geo_data_1'\n",
    "data=geo_data_1\n",
    "hist_num(data)"
   ]
  },
  {
   "cell_type": "code",
   "execution_count": 12,
   "metadata": {
    "scrolled": false
   },
   "outputs": [
    {
     "data": {
      "image/png": "[encoded data removed]",
      "text/plain": [
       "<Figure size 1440x720 with 4 Axes>"
      ]
     },
     "metadata": {
      "needs_background": "light"
     },
     "output_type": "display_data"
    }
   ],
   "source": [
    "# Выведем распределения данных в датасете 'geo_data_2'\n",
    "data=geo_data_2\n",
    "hist_num(data)"
   ]
  },
  {
   "cell_type": "markdown",
   "metadata": {},
   "source": [
    "Распределения данных во всех трех датасетах схожие и близки к нормальным. Непривычный вид распределения признака 'f2' в датасете 'geo_data_1' объясняется малым разбросом в данных этого признака по сравнению с аналогичными параметрами в других датасетах.\n",
    "\n",
    "<br>\n",
    "Также отметим полное отсутсвие выбросов и других аномалий в данных. Таким образом, данные готовы к этапу моделирования."
   ]
  },
  {
   "cell_type": "code",
   "execution_count": 13,
   "metadata": {},
   "outputs": [
    {
     "data": {
      "image/png": "[encoded data removed]",
      "text/plain": [
       "<Figure size 1440x360 with 6 Axes>"
      ]
     },
     "metadata": {
      "needs_background": "light"
     },
     "output_type": "display_data"
    }
   ],
   "source": [
    "# Выведем матрицы корреляции по всем датасетам\n",
    "target_matrix_0 = geo_data_0.drop('id', axis=1).phik_matrix(interval_cols=['f0', 'f1', 'f2', 'product'])\n",
    "target_matrix_1 = geo_data_1.drop('id', axis=1).phik_matrix(interval_cols=['f0', 'f1', 'f2', 'product'])\n",
    "target_matrix_2 = geo_data_2.drop('id', axis=1).phik_matrix(interval_cols=['f0', 'f1', 'f2', 'product'])\n",
    "plt.figure(figsize=(20, 5))\n",
    "plt.subplot(1,3,1)\n",
    "sns.heatmap(target_matrix_0, annot=True, cmap='Greens')\n",
    "plt.title('Матрица корреляции geo_data_0')\n",
    "plt.subplot(1,3,2)\n",
    "sns.heatmap(target_matrix_1, annot=True, cmap='Greens')\n",
    "plt.title('Матрица корреляции geo_data_1')\n",
    "plt.subplot(1,3,3)\n",
    "sns.heatmap(target_matrix_2, annot=True, cmap='Greens')\n",
    "plt.title('Матрица корреляции geo_data_2')\n",
    "plt.show()"
   ]
  },
  {
   "cell_type": "markdown",
   "metadata": {},
   "source": [
    "С целевым признаком наилучшая корреляция у параметра 'f2', с коэффициентом от 0.44 до 0.98. В датасете geo_data_1 помимо высокого коэффициента корреляции 0.98 у 'f2', с целевым признаком также коррелируется параметр 'f0' с коэффициентом 0.63.\n",
    "<br>\n",
    "На этом исследовательский анализ можно завершить."
   ]
  },
  {
   "cell_type": "markdown",
   "metadata": {},
   "source": [
    "## Обучение и проверка модели"
   ]
  },
  {
   "cell_type": "markdown",
   "metadata": {},
   "source": [
    "### Создание функции для обучения и проверки модели"
   ]
  },
  {
   "cell_type": "code",
   "execution_count": 14,
   "metadata": {},
   "outputs": [],
   "source": [
    "# Создадим функцию для обучения и проверки модели\n",
    "def modeling (data):\n",
    "    # Фиксируем константы\n",
    "    RANDOM_STATE = 42\n",
    "    TEST_SIZE = 0.25\n",
    "\n",
    "    # Делим датасет на тренировочную и валидационную выборки\n",
    "    X_train, X_valid, y_train, y_valid = train_test_split(\n",
    "        data.drop(['product', 'id'], axis=1),\n",
    "        data['product'],\n",
    "        test_size = TEST_SIZE, \n",
    "        random_state = RANDOM_STATE)\n",
    "\n",
    "    # Стандартизируем данные используя StandardScaler()\n",
    "    scaler = StandardScaler()\n",
    "    scaler.fit(X_train)\n",
    "    X_train_std = scaler.transform(X_train)\n",
    "    X_valid_std = scaler.transform(X_valid)\n",
    "\n",
    "    # Обучаем модель\n",
    "    model = LinearRegression()\n",
    "    model.fit(X_train_std, y_train)\n",
    "\n",
    "    # Выводим предсказания обученной моделью\n",
    "    predictions = model.predict(X_valid_std)\n",
    "    \n",
    "    # Сохраним необходимые нам результаты\n",
    "    RMSE = mean_squared_error(y_valid, predictions, squared=False)\n",
    "    targets = y_valid\n",
    "    \n",
    "    print('RMSE на валидационной выборке: {}'.format(round(RMSE, 2)))\n",
    "    print('Средний запас на скважину, предсказание: {} тыс.баррелей'.format(round(predictions.mean(), 2)))\n",
    "    return RMSE, predictions, targets"
   ]
  },
  {
   "cell_type": "markdown",
   "metadata": {},
   "source": [
    "### Обучение и проверка модели на трех регионах добычи"
   ]
  },
  {
   "cell_type": "code",
   "execution_count": 15,
   "metadata": {},
   "outputs": [
    {
     "name": "stdout",
     "output_type": "stream",
     "text": [
      "RMSE на валидационной выборке: 37.69\n",
      "Средний запас на скважину, предсказание: 92.61 тыс.баррелей\n"
     ]
    }
   ],
   "source": [
    "# Прогоним данные первого региона через нашу модель, выведем и сохраним результаты\n",
    "RMSE_1, pred_1, targets_1 = modeling(geo_data_0)"
   ]
  },
  {
   "cell_type": "code",
   "execution_count": 16,
   "metadata": {
    "scrolled": true
   },
   "outputs": [
    {
     "name": "stdout",
     "output_type": "stream",
     "text": [
      "RMSE на валидационной выборке: 0.89\n",
      "Средний запас на скважину, предсказание: 68.58 тыс.баррелей\n"
     ]
    }
   ],
   "source": [
    "# Прогоним данные второго региона через нашу модель, выведем и сохраним результаты\n",
    "RMSE_2, pred_2, targets_2 = modeling(geo_data_1)"
   ]
  },
  {
   "cell_type": "code",
   "execution_count": 17,
   "metadata": {},
   "outputs": [
    {
     "name": "stdout",
     "output_type": "stream",
     "text": [
      "RMSE на валидационной выборке: 40.08\n",
      "Средний запас на скважину, предсказание: 94.93 тыс.баррелей\n"
     ]
    }
   ],
   "source": [
    "# Прогоним данные третьего региона через нашу модель, выведем и сохраним результаты\n",
    "RMSE_3, pred_3, targets_3 = modeling(geo_data_2)"
   ]
  },
  {
   "cell_type": "markdown",
   "metadata": {},
   "source": [
    "Наилучшие результаты (точность модели) мы получили при работе с данными второго региона. Это неудивительно, учитывая практически линейную связь (0,98) признака 'f2' с целевым признаком для данного региона."
   ]
  },
  {
   "cell_type": "markdown",
   "metadata": {},
   "source": [
    "## Подготовка к расчёту прибыли"
   ]
  },
  {
   "cell_type": "code",
   "execution_count": 18,
   "metadata": {},
   "outputs": [],
   "source": [
    "# Создадим константы Python\n",
    "budget = 10000000000\n",
    "profit_per_1000_barrel = 450000\n",
    "loss_threshold = 0.025"
   ]
  },
  {
   "cell_type": "code",
   "execution_count": 19,
   "metadata": {},
   "outputs": [
    {
     "name": "stdout",
     "output_type": "stream",
     "text": [
      "Минимальное среднее количество запасов продукта на скважину: 111.11 тыс.баррелей\n"
     ]
    }
   ],
   "source": [
    "# Посчитаем минимальное среднее количество продукта в месторождениях региона, достаточное для разработки.\n",
    "min_value_for_development = (budget / 200) / profit_per_1000_barrel\n",
    "print(\"Минимальное среднее количество запасов продукта на скважину: {} тыс.баррелей\".format(round(min_value_for_development, 2)))"
   ]
  },
  {
   "cell_type": "markdown",
   "metadata": {},
   "source": [
    "Минимальная рентабельность разработки достигается при средних извекаемых запасов в 111.11 тыс.баррелей на скважину. При бюджете 10 млрд.рублей, строительстве 200 новых скважин на регион и текущей рыночной коньюктуре."
   ]
  },
  {
   "cell_type": "code",
   "execution_count": 20,
   "metadata": {},
   "outputs": [
    {
     "name": "stdout",
     "output_type": "stream",
     "text": [
      "Средний запас на скважину первого региона: 92.5 тыс.баррелей\n",
      "Средний запас на скважину второго региона: 68.82 тыс.баррелей\n",
      "Средний запас на скважину третьего региона: 95.0 тыс.баррелей\n"
     ]
    }
   ],
   "source": [
    "# Выведем средний запас на скважину для каждого региона\n",
    "print('Средний запас на скважину первого региона: {} тыс.баррелей'.format(round(geo_data_0['product'].mean(), 2)))\n",
    "print('Средний запас на скважину второго региона: {} тыс.баррелей'.format(round(geo_data_1['product'].mean(), 2)))\n",
    "print('Средний запас на скважину третьего региона: {} тыс.баррелей'.format(round(geo_data_2['product'].mean(), 2)))"
   ]
  },
  {
   "cell_type": "markdown",
   "metadata": {},
   "source": [
    "По всем трем регионам в среднем на скважину не достигается необходимый уровень запасов для минимальной рентабельности. Но это в среднем, нам же нужно отобрать 200 лучших скважин по предсказанному уровню запасов. Рассчитаем средний запас на скважину для 200 лучших скважин и вычтем минимальный рентабельный уровень запасов. "
   ]
  },
  {
   "cell_type": "code",
   "execution_count": 21,
   "metadata": {},
   "outputs": [],
   "source": [
    "# Напишим функцию для расчета прибыли на скважину для каждого региона\n",
    "def profit_func(target, predict):\n",
    "    pred_top_200 = pd.Series(predict).sort_values(ascending=False)[:200]\n",
    "    targets_top_200 = (target.reset_index(drop = True)[pred_top_200.index])\n",
    "    true_sum = targets_top_200.sum()\n",
    "    return round((true_sum * profit_per_1000_barrel) - budget, 2)"
   ]
  },
  {
   "cell_type": "code",
   "execution_count": 22,
   "metadata": {},
   "outputs": [
    {
     "name": "stdout",
     "output_type": "stream",
     "text": [
      "Потенциальная средняя прибыль со скважины первого региона: 3468529787.42\n",
      "Потенциальная средняя прибыль со скважины второго региона: 2415086696.68\n",
      "Потенциальная средняя прибыль со скважины третьего региона: 2396613000.94\n"
     ]
    }
   ],
   "source": [
    "# Рассчитаем потенциальную среднюю прибыль 200 новых скважин (лучших по результатам моделирования) для каждого региона\n",
    "print('Потенциальная средняя прибыль со скважины первого региона: {}'.format(round(profit_func(targets_1, pred_1), 2)))\n",
    "print('Потенциальная средняя прибыль со скважины второго региона: {}'.format(round(profit_func(targets_2, pred_2), 2)))\n",
    "print('Потенциальная средняя прибыль со скважины третьего региона: {}'.format(round(profit_func(targets_3, pred_3), 2)))"
   ]
  },
  {
   "cell_type": "markdown",
   "metadata": {},
   "source": [
    "Если оперировать средними значениями запасов в 200 лучших новых скважинах, то по всем трем регионам средняя прибыль положительная с учетом текущей рыночной коньюктуры. Однако, нам необходимо также оценить вероятность прибыльности/убыточности и оставить лишь те регионы, в которых вероятность убытков меньше 2.5%. Для этого воспользуемся расчетом доверительного интервала 95%, нижняя граница которого как раз составляет 2,5%."
   ]
  },
  {
   "cell_type": "code",
   "execution_count": 23,
   "metadata": {},
   "outputs": [],
   "source": [
    "# Напишим функцию для расчета прибыли по результатам подвыборок (Bootstrap,1000 выборок, 500 скважин)\n",
    "def profit_bootstrap(target, predict):\n",
    "    # Фиксируем начение для random_state\n",
    "    state = np.random.RandomState(42)\n",
    "    # Создаем список прибыли/убытка для bootstrep\n",
    "    profit_values = []\n",
    "    for i in range(1000):\n",
    "        subsample = pd.Series(predict).sample(500, replace=True, random_state = state)\n",
    "        profit_values.append(profit_func(target, subsample))\n",
    "    profit_values = pd.Series(profit_values)\n",
    "    # Рассчитаем границы доверительного интервала 95%\n",
    "    bot_interval = profit_values.quantile(0.025)\n",
    "    top_interval = profit_values.quantile(0.975)\n",
    "    print('Средняя прибыль ТОП 200 скважин:{}'.format(round(profit_values.mean(), 2)))\n",
    "    print('Риск убытков:{}%'.format(round((profit_values.apply(lambda x: x < 0).sum()/len(profit_values)*100), 2)))\n",
    "    print(f'Доверительный интервал 95%:{round(bot_interval,2)} ... {round(top_interval,2)}')\n",
    "    "
   ]
  },
  {
   "cell_type": "markdown",
   "metadata": {},
   "source": [
    "## Расчёт прибыли и рисков "
   ]
  },
  {
   "cell_type": "markdown",
   "metadata": {},
   "source": [
    "Применим технику Bootstrap с 1000 выборок вызвав соответсвующую функцию для каждого региона"
   ]
  },
  {
   "cell_type": "code",
   "execution_count": 24,
   "metadata": {},
   "outputs": [
    {
     "name": "stdout",
     "output_type": "stream",
     "text": [
      "Регион_1\n",
      "Средняя прибыль ТОП 200 скважин:403572063.95\n",
      "Риск убытков:5.9%\n",
      "Доверительный интервал 95%:-137690003.15 ... 902848310.77\n"
     ]
    }
   ],
   "source": [
    "print(f'Регион_1')\n",
    "profit_bootstrap(targets_1, pred_1)"
   ]
  },
  {
   "cell_type": "code",
   "execution_count": 25,
   "metadata": {},
   "outputs": [
    {
     "name": "stdout",
     "output_type": "stream",
     "text": [
      "Регион_2\n",
      "Средняя прибыль ТОП 200 скважин:430208352.49\n",
      "Риск убытков:1.6%\n",
      "Доверительный интервал 95%:43052519.63 ... 847313467.21\n"
     ]
    }
   ],
   "source": [
    "print(f'Регион_2')\n",
    "profit_bootstrap(targets_2, pred_2)"
   ]
  },
  {
   "cell_type": "code",
   "execution_count": 26,
   "metadata": {},
   "outputs": [
    {
     "name": "stdout",
     "output_type": "stream",
     "text": [
      "Регион_3\n",
      "Средняя прибыль ТОП 200 скважин:384214428.68\n",
      "Риск убытков:8.0%\n",
      "Доверительный интервал 95%:-127589876.99 ... 910134439.54\n"
     ]
    }
   ],
   "source": [
    "print(f'Регион_3')\n",
    "profit_bootstrap(targets_3, pred_3)"
   ]
  },
  {
   "cell_type": "markdown",
   "metadata": {},
   "source": [
    "95% доверительный интервал региона 1 и 3 своей нижней границей заходит в зону отрицательной прибыли (зона убытков), формируя таким образом вероятность убытков в 5.9% и 8.0% соответственно. \n",
    "<br>\n",
    "Регион 2 - наоборот, доверительный интервал целиком лежит в зоне прибыли, а вероятность убытков составляет всего 1.6%, что ниже нашего граничного значения в 2.5% для нашего инвестиционного проекта.\n",
    "<br>\n",
    "Таким образом, единственный регион рекомендуемый к разработке в рамках нашего инвестиционного проекта - Регион 2."
   ]
  },
  {
   "cell_type": "markdown",
   "metadata": {},
   "source": [
    "## Выводы по проекту"
   ]
  },
  {
   "cell_type": "markdown",
   "metadata": {},
   "source": [
    "Для работы над проектом мы получили данные по трем регионам добычи. Регионы 1 и 3 имеют схожие распределения признаков f* и более высокий средний запас продукции на скважину в сравнии с регионом 2. Регион 2 также отличается от остальных малым разбросом и практически прямой зависимостью признака f2 с общим запасом продукции на скважину.\n",
    "<br>\n",
    "В ходе работы мы ознакомились с данными и удалили явные дубликаты. Затем, мы провели исследовательский анализ данных и отметили для себя некоторые особенности в данных Региона 2. Для работы с моделью (применяли линейную регрессию) мы подготовили отдельную функцию обеспечивающую обучение и проверку модели метрикой RMSE, вывод и сохранение необходимых нам предсказаний. На выходе получили минимальную ошибку RMSE для данных Региона 2 и довольно существенную RMSE на данных остальных регионов.\n",
    "<br>\n",
    "Далее мы подготовили функции расчета прибыли и bootstrap с 1000 подвыборок для расчета средней прибыли, риска убытка и 95% доверительного интервала. Затем применили их на наших данных по трем регионам.\n",
    "<br>\n",
    "Проанализировав результаты мы пришли к заключению, что единственным регионом рекомендуемым нами к разработке в рамках  инвестиционного проекта это Регион 2. Так как, только он обеспечивает вероятность риска убытков менее 2.5%, несмотря на более низкие запасы продукции на скважину.\n",
    "<br>\n",
    "Для реализации аналогичного инвестиционного проекта на остальных регионах, рекомендуется сократить количество планируемых новых скважин, тем самым обеспечить снижение риска убытков до приемлемого уровня. Также необходимо изыскать дополнительные входные признаки, имеющие более тесную связь с продуктивностью скважин в данных регионах, что в свою очередь позволит снизить RMSE и повысить точность предсказаний модели."
   ]
  }
 ],
 "metadata": {
  "ExecuteTimeLog": [
   {
    "duration": 12193,
    "start_time": "2024-09-11T17:07:15.422Z"
   },
   {
    "duration": 1643,
    "start_time": "2024-09-11T17:07:35.126Z"
   },
   {
    "duration": 8864,
    "start_time": "2024-09-11T17:08:01.486Z"
   },
   {
    "duration": 158,
    "start_time": "2024-09-11T17:08:10.353Z"
   },
   {
    "duration": 487,
    "start_time": "2024-09-11T17:08:20.915Z"
   },
   {
    "duration": 80,
    "start_time": "2024-09-11T17:09:47.405Z"
   },
   {
    "duration": 594,
    "start_time": "2024-09-11T17:10:06.708Z"
   },
   {
    "duration": 291,
    "start_time": "2024-09-11T17:11:45.059Z"
   },
   {
    "duration": 281,
    "start_time": "2024-09-11T17:11:46.254Z"
   },
   {
    "duration": 3,
    "start_time": "2024-09-11T17:19:36.882Z"
   },
   {
    "duration": 56,
    "start_time": "2024-09-11T17:28:20.296Z"
   },
   {
    "duration": 19,
    "start_time": "2024-09-11T19:16:27.379Z"
   },
   {
    "duration": 11,
    "start_time": "2024-09-11T19:16:42.482Z"
   },
   {
    "duration": 11,
    "start_time": "2024-09-11T19:16:51.690Z"
   },
   {
    "duration": 33,
    "start_time": "2024-09-11T19:17:18.832Z"
   },
   {
    "duration": 24,
    "start_time": "2024-09-11T19:17:29.915Z"
   },
   {
    "duration": 58,
    "start_time": "2024-09-11T19:18:49.927Z"
   },
   {
    "duration": 70,
    "start_time": "2024-09-11T19:18:53.509Z"
   },
   {
    "duration": 61,
    "start_time": "2024-09-11T19:18:55.485Z"
   },
   {
    "duration": 13,
    "start_time": "2024-09-11T19:47:57.423Z"
   },
   {
    "duration": 11,
    "start_time": "2024-09-11T19:48:10.812Z"
   },
   {
    "duration": 4,
    "start_time": "2024-09-11T19:48:29.103Z"
   },
   {
    "duration": 242,
    "start_time": "2024-09-11T19:48:30.161Z"
   },
   {
    "duration": 16181,
    "start_time": "2024-09-12T18:02:33.204Z"
   },
   {
    "duration": 2126,
    "start_time": "2024-09-12T18:02:49.387Z"
   },
   {
    "duration": 616,
    "start_time": "2024-09-12T18:02:51.515Z"
   },
   {
    "duration": 262,
    "start_time": "2024-09-12T18:02:52.133Z"
   },
   {
    "duration": 261,
    "start_time": "2024-09-12T18:02:52.397Z"
   },
   {
    "duration": 59,
    "start_time": "2024-09-12T18:02:52.660Z"
   },
   {
    "duration": 83,
    "start_time": "2024-09-12T18:02:52.727Z"
   },
   {
    "duration": 80,
    "start_time": "2024-09-12T18:02:52.811Z"
   },
   {
    "duration": 4,
    "start_time": "2024-09-12T18:02:52.893Z"
   },
   {
    "duration": 272,
    "start_time": "2024-09-12T18:02:52.898Z"
   },
   {
    "duration": 15127,
    "start_time": "2024-09-13T06:46:20.956Z"
   },
   {
    "duration": 2001,
    "start_time": "2024-09-13T06:46:36.086Z"
   },
   {
    "duration": 755,
    "start_time": "2024-09-13T06:46:38.089Z"
   },
   {
    "duration": 613,
    "start_time": "2024-09-13T06:46:38.846Z"
   },
   {
    "duration": 581,
    "start_time": "2024-09-13T06:46:39.461Z"
   },
   {
    "duration": 53,
    "start_time": "2024-09-13T06:46:40.044Z"
   },
   {
    "duration": 78,
    "start_time": "2024-09-13T06:46:40.099Z"
   },
   {
    "duration": 73,
    "start_time": "2024-09-13T06:46:40.179Z"
   },
   {
    "duration": 4,
    "start_time": "2024-09-13T06:46:40.253Z"
   },
   {
    "duration": 238,
    "start_time": "2024-09-13T06:46:40.260Z"
   },
   {
    "duration": 7706,
    "start_time": "2024-09-13T08:03:38.100Z"
   },
   {
    "duration": 7,
    "start_time": "2024-09-13T08:03:45.809Z"
   },
   {
    "duration": 205,
    "start_time": "2024-09-13T08:03:45.818Z"
   },
   {
    "duration": 167,
    "start_time": "2024-09-13T08:03:46.025Z"
   },
   {
    "duration": 171,
    "start_time": "2024-09-13T08:03:46.194Z"
   },
   {
    "duration": 66,
    "start_time": "2024-09-13T08:03:46.367Z"
   },
   {
    "duration": 86,
    "start_time": "2024-09-13T08:03:46.436Z"
   },
   {
    "duration": 62,
    "start_time": "2024-09-13T08:03:46.523Z"
   },
   {
    "duration": 19,
    "start_time": "2024-09-13T08:03:46.587Z"
   },
   {
    "duration": 228,
    "start_time": "2024-09-13T08:03:46.608Z"
   },
   {
    "duration": 6,
    "start_time": "2024-09-13T08:30:49.267Z"
   },
   {
    "duration": 540,
    "start_time": "2024-09-13T08:31:35.438Z"
   },
   {
    "duration": 6,
    "start_time": "2024-09-13T08:32:02.126Z"
   },
   {
    "duration": 643,
    "start_time": "2024-09-13T08:32:03.166Z"
   },
   {
    "duration": 737,
    "start_time": "2024-09-13T08:33:58.577Z"
   },
   {
    "duration": 625,
    "start_time": "2024-09-13T08:34:41.748Z"
   },
   {
    "duration": 9,
    "start_time": "2024-09-13T08:36:14.520Z"
   },
   {
    "duration": 619,
    "start_time": "2024-09-13T08:36:16.257Z"
   },
   {
    "duration": 589,
    "start_time": "2024-09-13T08:36:19.358Z"
   },
   {
    "duration": 720,
    "start_time": "2024-09-13T08:36:21.146Z"
   },
   {
    "duration": 6,
    "start_time": "2024-09-13T08:39:51.233Z"
   },
   {
    "duration": 603,
    "start_time": "2024-09-13T08:39:52.016Z"
   },
   {
    "duration": 5,
    "start_time": "2024-09-13T08:40:00.172Z"
   },
   {
    "duration": 643,
    "start_time": "2024-09-13T08:40:02.326Z"
   },
   {
    "duration": 656,
    "start_time": "2024-09-13T08:40:04.989Z"
   },
   {
    "duration": 750,
    "start_time": "2024-09-13T08:40:14.586Z"
   },
   {
    "duration": 662,
    "start_time": "2024-09-13T08:57:18.757Z"
   },
   {
    "duration": 624,
    "start_time": "2024-09-13T08:57:30.192Z"
   },
   {
    "duration": 666,
    "start_time": "2024-09-13T10:24:31.331Z"
   },
   {
    "duration": 9261,
    "start_time": "2024-09-13T10:45:31.503Z"
   },
   {
    "duration": 10,
    "start_time": "2024-09-13T10:45:40.767Z"
   },
   {
    "duration": 215,
    "start_time": "2024-09-13T10:45:40.779Z"
   },
   {
    "duration": 184,
    "start_time": "2024-09-13T10:45:40.996Z"
   },
   {
    "duration": 176,
    "start_time": "2024-09-13T10:45:41.181Z"
   },
   {
    "duration": 77,
    "start_time": "2024-09-13T10:45:41.358Z"
   },
   {
    "duration": 85,
    "start_time": "2024-09-13T10:45:41.436Z"
   },
   {
    "duration": 58,
    "start_time": "2024-09-13T10:45:41.524Z"
   },
   {
    "duration": 6,
    "start_time": "2024-09-13T10:45:41.584Z"
   },
   {
    "duration": 678,
    "start_time": "2024-09-13T10:45:41.620Z"
   },
   {
    "duration": 667,
    "start_time": "2024-09-13T10:45:42.299Z"
   },
   {
    "duration": 702,
    "start_time": "2024-09-13T10:45:42.967Z"
   },
   {
    "duration": 692,
    "start_time": "2024-09-13T10:45:43.671Z"
   },
   {
    "duration": 681,
    "start_time": "2024-09-13T10:45:44.365Z"
   },
   {
    "duration": 710,
    "start_time": "2024-09-13T10:45:45.048Z"
   },
   {
    "duration": 649,
    "start_time": "2024-09-13T10:53:23.303Z"
   },
   {
    "duration": 724,
    "start_time": "2024-09-13T10:53:25.771Z"
   },
   {
    "duration": 665,
    "start_time": "2024-09-13T10:53:28.575Z"
   },
   {
    "duration": 594,
    "start_time": "2024-09-13T12:10:51.965Z"
   },
   {
    "duration": 570,
    "start_time": "2024-09-13T12:10:52.561Z"
   },
   {
    "duration": 588,
    "start_time": "2024-09-13T12:10:53.133Z"
   },
   {
    "duration": 4,
    "start_time": "2024-09-13T12:11:59.793Z"
   },
   {
    "duration": 8,
    "start_time": "2024-09-13T12:12:06.221Z"
   },
   {
    "duration": 6,
    "start_time": "2024-09-13T12:12:49.229Z"
   },
   {
    "duration": 8,
    "start_time": "2024-09-13T12:14:20.726Z"
   },
   {
    "duration": 8,
    "start_time": "2024-09-13T12:15:28.711Z"
   },
   {
    "duration": 12,
    "start_time": "2024-09-13T12:16:02.908Z"
   },
   {
    "duration": 15,
    "start_time": "2024-09-13T12:16:35.919Z"
   },
   {
    "duration": 10,
    "start_time": "2024-09-13T12:16:50.490Z"
   },
   {
    "duration": 12,
    "start_time": "2024-09-13T12:17:23.733Z"
   },
   {
    "duration": 5,
    "start_time": "2024-09-13T12:17:58.603Z"
   },
   {
    "duration": 1768,
    "start_time": "2024-09-13T12:23:30.079Z"
   },
   {
    "duration": 1580,
    "start_time": "2024-09-13T12:23:38.753Z"
   },
   {
    "duration": 1514,
    "start_time": "2024-09-13T12:24:10.369Z"
   },
   {
    "duration": 14957,
    "start_time": "2024-09-14T05:21:47.669Z"
   },
   {
    "duration": 2063,
    "start_time": "2024-09-14T05:22:02.629Z"
   },
   {
    "duration": 531,
    "start_time": "2024-09-14T05:22:04.694Z"
   },
   {
    "duration": 273,
    "start_time": "2024-09-14T05:22:05.227Z"
   },
   {
    "duration": 250,
    "start_time": "2024-09-14T05:22:05.502Z"
   },
   {
    "duration": 80,
    "start_time": "2024-09-14T05:22:05.754Z"
   },
   {
    "duration": 84,
    "start_time": "2024-09-14T05:22:05.840Z"
   },
   {
    "duration": 77,
    "start_time": "2024-09-14T05:22:05.926Z"
   },
   {
    "duration": 6,
    "start_time": "2024-09-14T05:22:06.005Z"
   },
   {
    "duration": 697,
    "start_time": "2024-09-14T05:22:06.013Z"
   },
   {
    "duration": 662,
    "start_time": "2024-09-14T05:22:06.712Z"
   },
   {
    "duration": 799,
    "start_time": "2024-09-14T05:22:07.377Z"
   },
   {
    "duration": 1671,
    "start_time": "2024-09-14T05:22:08.179Z"
   },
   {
    "duration": 14577,
    "start_time": "2024-09-14T12:28:49.177Z"
   },
   {
    "duration": 1868,
    "start_time": "2024-09-14T12:29:03.756Z"
   },
   {
    "duration": 656,
    "start_time": "2024-09-14T12:29:05.626Z"
   },
   {
    "duration": 578,
    "start_time": "2024-09-14T12:29:06.284Z"
   },
   {
    "duration": 553,
    "start_time": "2024-09-14T12:29:06.864Z"
   },
   {
    "duration": 50,
    "start_time": "2024-09-14T12:29:07.418Z"
   },
   {
    "duration": 66,
    "start_time": "2024-09-14T12:29:07.470Z"
   },
   {
    "duration": 58,
    "start_time": "2024-09-14T12:29:07.537Z"
   },
   {
    "duration": 6,
    "start_time": "2024-09-14T12:29:07.596Z"
   },
   {
    "duration": 606,
    "start_time": "2024-09-14T12:29:07.603Z"
   },
   {
    "duration": 588,
    "start_time": "2024-09-14T12:29:08.211Z"
   },
   {
    "duration": 679,
    "start_time": "2024-09-14T12:29:08.801Z"
   },
   {
    "duration": 1493,
    "start_time": "2024-09-14T12:29:09.482Z"
   },
   {
    "duration": 142,
    "start_time": "2024-09-14T12:29:10.977Z"
   },
   {
    "duration": 4,
    "start_time": "2024-09-14T12:48:17.300Z"
   },
   {
    "duration": 232,
    "start_time": "2024-09-14T12:50:00.222Z"
   },
   {
    "duration": 34,
    "start_time": "2024-09-14T12:50:37.344Z"
   },
   {
    "duration": 12,
    "start_time": "2024-09-14T12:50:39.833Z"
   },
   {
    "duration": 6,
    "start_time": "2024-09-14T12:51:40.678Z"
   },
   {
    "duration": 126,
    "start_time": "2024-09-14T12:51:42.028Z"
   },
   {
    "duration": 58,
    "start_time": "2024-09-14T13:08:14.726Z"
   },
   {
    "duration": 5,
    "start_time": "2024-09-14T13:09:05.711Z"
   },
   {
    "duration": 116,
    "start_time": "2024-09-14T13:09:08.240Z"
   },
   {
    "duration": 10,
    "start_time": "2024-09-14T13:09:35.530Z"
   },
   {
    "duration": 198,
    "start_time": "2024-09-14T13:10:42.956Z"
   },
   {
    "duration": 214,
    "start_time": "2024-09-14T13:10:59.339Z"
   },
   {
    "duration": 5,
    "start_time": "2024-09-14T13:16:57.016Z"
   },
   {
    "duration": 115,
    "start_time": "2024-09-14T13:17:07.438Z"
   },
   {
    "duration": 5,
    "start_time": "2024-09-14T13:18:29.249Z"
   },
   {
    "duration": 62,
    "start_time": "2024-09-14T13:18:30.293Z"
   },
   {
    "duration": 178,
    "start_time": "2024-09-14T13:18:38.174Z"
   },
   {
    "duration": 381,
    "start_time": "2024-09-14T13:21:14.772Z"
   },
   {
    "duration": 4,
    "start_time": "2024-09-14T13:21:25.209Z"
   },
   {
    "duration": 102,
    "start_time": "2024-09-14T13:30:06.454Z"
   },
   {
    "duration": 6,
    "start_time": "2024-09-14T13:31:11.206Z"
   },
   {
    "duration": 226,
    "start_time": "2024-09-14T13:32:38.729Z"
   },
   {
    "duration": 6,
    "start_time": "2024-09-14T13:33:03.292Z"
   },
   {
    "duration": 61,
    "start_time": "2024-09-14T13:33:04.292Z"
   },
   {
    "duration": 5,
    "start_time": "2024-09-14T13:37:15.124Z"
   },
   {
    "duration": 113,
    "start_time": "2024-09-14T13:37:17.141Z"
   },
   {
    "duration": 6,
    "start_time": "2024-09-14T13:39:24.858Z"
   },
   {
    "duration": 85,
    "start_time": "2024-09-14T13:39:25.574Z"
   },
   {
    "duration": 13823,
    "start_time": "2024-09-15T18:01:31.607Z"
   },
   {
    "duration": 1639,
    "start_time": "2024-09-15T18:01:45.432Z"
   },
   {
    "duration": 484,
    "start_time": "2024-09-15T18:01:47.072Z"
   },
   {
    "duration": 192,
    "start_time": "2024-09-15T18:01:47.557Z"
   },
   {
    "duration": 201,
    "start_time": "2024-09-15T18:01:47.751Z"
   },
   {
    "duration": 41,
    "start_time": "2024-09-15T18:01:47.954Z"
   },
   {
    "duration": 106,
    "start_time": "2024-09-15T18:01:47.996Z"
   },
   {
    "duration": 40,
    "start_time": "2024-09-15T18:01:48.104Z"
   },
   {
    "duration": 5,
    "start_time": "2024-09-15T18:01:48.145Z"
   },
   {
    "duration": 522,
    "start_time": "2024-09-15T18:01:48.151Z"
   },
   {
    "duration": 493,
    "start_time": "2024-09-15T18:01:48.674Z"
   },
   {
    "duration": 564,
    "start_time": "2024-09-15T18:01:49.168Z"
   },
   {
    "duration": 1257,
    "start_time": "2024-09-15T18:01:49.734Z"
   },
   {
    "duration": 5,
    "start_time": "2024-09-15T18:01:50.993Z"
   },
   {
    "duration": 106,
    "start_time": "2024-09-15T18:01:51.006Z"
   },
   {
    "duration": 92,
    "start_time": "2024-09-15T18:01:51.116Z"
   },
   {
    "duration": 224,
    "start_time": "2024-09-15T18:01:51.209Z"
   },
   {
    "duration": 6,
    "start_time": "2024-09-15T18:56:12.506Z"
   },
   {
    "duration": 5,
    "start_time": "2024-09-15T18:56:21.922Z"
   },
   {
    "duration": 38,
    "start_time": "2024-09-15T18:56:23.717Z"
   },
   {
    "duration": 3,
    "start_time": "2024-09-15T18:56:31.394Z"
   },
   {
    "duration": 31,
    "start_time": "2024-09-15T19:03:04.874Z"
   },
   {
    "duration": 33,
    "start_time": "2024-09-15T19:03:39.874Z"
   },
   {
    "duration": 75,
    "start_time": "2024-09-15T19:04:13.034Z"
   },
   {
    "duration": 33,
    "start_time": "2024-09-15T19:04:14.018Z"
   },
   {
    "duration": 41,
    "start_time": "2024-09-15T19:04:15.172Z"
   },
   {
    "duration": 13300,
    "start_time": "2024-09-16T05:17:11.286Z"
   },
   {
    "duration": 1804,
    "start_time": "2024-09-16T05:17:24.588Z"
   },
   {
    "duration": 721,
    "start_time": "2024-09-16T05:17:26.393Z"
   },
   {
    "duration": 587,
    "start_time": "2024-09-16T05:17:27.116Z"
   },
   {
    "duration": 591,
    "start_time": "2024-09-16T05:17:27.704Z"
   },
   {
    "duration": 51,
    "start_time": "2024-09-16T05:17:28.297Z"
   },
   {
    "duration": 78,
    "start_time": "2024-09-16T05:17:28.350Z"
   },
   {
    "duration": 49,
    "start_time": "2024-09-16T05:17:28.430Z"
   },
   {
    "duration": 5,
    "start_time": "2024-09-16T05:17:28.489Z"
   },
   {
    "duration": 638,
    "start_time": "2024-09-16T05:17:28.496Z"
   },
   {
    "duration": 590,
    "start_time": "2024-09-16T05:17:29.135Z"
   },
   {
    "duration": 728,
    "start_time": "2024-09-16T05:17:29.726Z"
   },
   {
    "duration": 1543,
    "start_time": "2024-09-16T05:17:30.455Z"
   },
   {
    "duration": 6,
    "start_time": "2024-09-16T05:17:31.999Z"
   },
   {
    "duration": 189,
    "start_time": "2024-09-16T05:17:32.007Z"
   },
   {
    "duration": 132,
    "start_time": "2024-09-16T05:17:32.200Z"
   },
   {
    "duration": 204,
    "start_time": "2024-09-16T05:17:32.389Z"
   },
   {
    "duration": 3,
    "start_time": "2024-09-16T05:17:32.598Z"
   },
   {
    "duration": 27,
    "start_time": "2024-09-16T05:17:32.690Z"
   },
   {
    "duration": 3,
    "start_time": "2024-09-16T06:09:11.349Z"
   },
   {
    "duration": 3,
    "start_time": "2024-09-16T06:28:27.204Z"
   },
   {
    "duration": 3,
    "start_time": "2024-09-16T06:28:32.435Z"
   },
   {
    "duration": 3,
    "start_time": "2024-09-16T06:28:56.081Z"
   },
   {
    "duration": 6,
    "start_time": "2024-09-16T06:29:49.736Z"
   },
   {
    "duration": 103,
    "start_time": "2024-09-16T06:29:51.188Z"
   },
   {
    "duration": 72,
    "start_time": "2024-09-16T06:29:52.619Z"
   },
   {
    "duration": 56,
    "start_time": "2024-09-16T06:29:53.534Z"
   },
   {
    "duration": 3,
    "start_time": "2024-09-16T06:36:14.294Z"
   },
   {
    "duration": 2,
    "start_time": "2024-09-16T06:39:47.084Z"
   },
   {
    "duration": 3,
    "start_time": "2024-09-16T07:15:50.402Z"
   },
   {
    "duration": 5,
    "start_time": "2024-09-16T07:16:42.154Z"
   },
   {
    "duration": 3,
    "start_time": "2024-09-16T07:17:06.166Z"
   },
   {
    "duration": 4,
    "start_time": "2024-09-16T07:17:09.366Z"
   },
   {
    "duration": 3,
    "start_time": "2024-09-16T07:18:21.967Z"
   },
   {
    "duration": 3,
    "start_time": "2024-09-16T07:18:27.796Z"
   },
   {
    "duration": 133,
    "start_time": "2024-09-16T07:24:14.226Z"
   },
   {
    "duration": 3,
    "start_time": "2024-09-16T07:24:57.662Z"
   },
   {
    "duration": 10,
    "start_time": "2024-09-16T07:25:00.811Z"
   },
   {
    "duration": 3,
    "start_time": "2024-09-16T07:25:24.786Z"
   },
   {
    "duration": 10,
    "start_time": "2024-09-16T07:25:26.957Z"
   },
   {
    "duration": 4,
    "start_time": "2024-09-16T07:25:46.845Z"
   },
   {
    "duration": 2,
    "start_time": "2024-09-16T07:25:55.640Z"
   },
   {
    "duration": 4,
    "start_time": "2024-09-16T07:25:57.399Z"
   },
   {
    "duration": 3,
    "start_time": "2024-09-16T07:26:33.946Z"
   },
   {
    "duration": 3,
    "start_time": "2024-09-16T07:26:35.540Z"
   },
   {
    "duration": 3,
    "start_time": "2024-09-16T07:26:54.655Z"
   },
   {
    "duration": 3,
    "start_time": "2024-09-16T07:26:56.181Z"
   },
   {
    "duration": 3,
    "start_time": "2024-09-16T07:27:25.557Z"
   },
   {
    "duration": 6,
    "start_time": "2024-09-16T07:28:03.429Z"
   },
   {
    "duration": 4,
    "start_time": "2024-09-16T08:45:53.053Z"
   },
   {
    "duration": 7,
    "start_time": "2024-09-16T08:46:27.611Z"
   },
   {
    "duration": 6,
    "start_time": "2024-09-16T11:05:43.134Z"
   },
   {
    "duration": 903,
    "start_time": "2024-09-16T11:06:37.981Z"
   },
   {
    "duration": 3,
    "start_time": "2024-09-16T11:08:14.795Z"
   },
   {
    "duration": 4,
    "start_time": "2024-09-16T11:08:17.624Z"
   },
   {
    "duration": 6,
    "start_time": "2024-09-16T11:08:21.016Z"
   },
   {
    "duration": 4,
    "start_time": "2024-09-16T11:09:25.546Z"
   },
   {
    "duration": 785,
    "start_time": "2024-09-16T11:09:27.459Z"
   },
   {
    "duration": 4,
    "start_time": "2024-09-16T11:10:05.054Z"
   },
   {
    "duration": 1125,
    "start_time": "2024-09-16T11:10:09.831Z"
   },
   {
    "duration": 4,
    "start_time": "2024-09-16T11:10:28.825Z"
   },
   {
    "duration": 910,
    "start_time": "2024-09-16T11:10:29.589Z"
   },
   {
    "duration": 5,
    "start_time": "2024-09-16T11:22:43.101Z"
   },
   {
    "duration": 767,
    "start_time": "2024-09-16T11:22:44.555Z"
   },
   {
    "duration": 5,
    "start_time": "2024-09-16T11:23:13.315Z"
   },
   {
    "duration": 892,
    "start_time": "2024-09-16T11:23:14.455Z"
   },
   {
    "duration": 3,
    "start_time": "2024-09-16T11:44:10.664Z"
   },
   {
    "duration": 5,
    "start_time": "2024-09-16T11:44:13.707Z"
   },
   {
    "duration": 5,
    "start_time": "2024-09-16T11:44:24.783Z"
   },
   {
    "duration": 5,
    "start_time": "2024-09-16T11:45:01.504Z"
   },
   {
    "duration": 1516,
    "start_time": "2024-09-16T11:45:02.575Z"
   },
   {
    "duration": 3,
    "start_time": "2024-09-16T12:01:36.716Z"
   },
   {
    "duration": 4,
    "start_time": "2024-09-16T12:01:50.356Z"
   },
   {
    "duration": 4,
    "start_time": "2024-09-16T13:02:19.976Z"
   },
   {
    "duration": 5,
    "start_time": "2024-09-16T13:19:59.028Z"
   },
   {
    "duration": 15,
    "start_time": "2024-09-16T13:20:08.684Z"
   },
   {
    "duration": 5,
    "start_time": "2024-09-16T13:20:25.033Z"
   },
   {
    "duration": 14,
    "start_time": "2024-09-16T13:20:26.686Z"
   },
   {
    "duration": 5,
    "start_time": "2024-09-16T13:20:49.009Z"
   },
   {
    "duration": 15,
    "start_time": "2024-09-16T13:20:49.636Z"
   },
   {
    "duration": 5,
    "start_time": "2024-09-16T13:47:24.833Z"
   },
   {
    "duration": 16,
    "start_time": "2024-09-16T13:47:26.719Z"
   },
   {
    "duration": 5,
    "start_time": "2024-09-16T13:47:59.816Z"
   },
   {
    "duration": 14,
    "start_time": "2024-09-16T13:48:00.623Z"
   },
   {
    "duration": 12640,
    "start_time": "2024-09-16T15:27:46.243Z"
   },
   {
    "duration": 1847,
    "start_time": "2024-09-16T15:27:58.885Z"
   },
   {
    "duration": 685,
    "start_time": "2024-09-16T15:28:00.733Z"
   },
   {
    "duration": 570,
    "start_time": "2024-09-16T15:28:01.420Z"
   },
   {
    "duration": 558,
    "start_time": "2024-09-16T15:28:01.991Z"
   },
   {
    "duration": 48,
    "start_time": "2024-09-16T15:28:02.551Z"
   },
   {
    "duration": 63,
    "start_time": "2024-09-16T15:28:02.600Z"
   },
   {
    "duration": 60,
    "start_time": "2024-09-16T15:28:02.664Z"
   },
   {
    "duration": 5,
    "start_time": "2024-09-16T15:28:02.726Z"
   },
   {
    "duration": 635,
    "start_time": "2024-09-16T15:28:02.733Z"
   },
   {
    "duration": 565,
    "start_time": "2024-09-16T15:28:03.370Z"
   },
   {
    "duration": 670,
    "start_time": "2024-09-16T15:28:03.936Z"
   },
   {
    "duration": 1513,
    "start_time": "2024-09-16T15:28:04.608Z"
   },
   {
    "duration": 5,
    "start_time": "2024-09-16T15:28:06.123Z"
   },
   {
    "duration": 176,
    "start_time": "2024-09-16T15:28:06.130Z"
   },
   {
    "duration": 197,
    "start_time": "2024-09-16T15:28:06.309Z"
   },
   {
    "duration": 197,
    "start_time": "2024-09-16T15:28:06.508Z"
   },
   {
    "duration": 3,
    "start_time": "2024-09-16T15:28:06.708Z"
   },
   {
    "duration": 101,
    "start_time": "2024-09-16T15:28:06.713Z"
   },
   {
    "duration": 27,
    "start_time": "2024-09-16T15:28:06.816Z"
   },
   {
    "duration": 35,
    "start_time": "2024-09-16T15:28:06.845Z"
   },
   {
    "duration": 61,
    "start_time": "2024-09-16T15:28:06.882Z"
   },
   {
    "duration": 37,
    "start_time": "2024-09-16T15:28:06.944Z"
   },
   {
    "duration": 22,
    "start_time": "2024-09-16T15:28:06.983Z"
   },
   {
    "duration": 173,
    "start_time": "2024-09-16T15:28:07.007Z"
   },
   {
    "duration": 6,
    "start_time": "2024-09-16T16:19:36.502Z"
   },
   {
    "duration": 4,
    "start_time": "2024-09-16T16:19:49.929Z"
   },
   {
    "duration": 10,
    "start_time": "2024-09-16T16:20:03.327Z"
   },
   {
    "duration": 10,
    "start_time": "2024-09-16T16:20:16.928Z"
   },
   {
    "duration": 4,
    "start_time": "2024-09-16T16:20:50.219Z"
   },
   {
    "duration": 6,
    "start_time": "2024-09-16T17:42:38.171Z"
   },
   {
    "duration": 147,
    "start_time": "2024-09-16T17:42:46.777Z"
   },
   {
    "duration": 5,
    "start_time": "2024-09-16T17:43:16.856Z"
   },
   {
    "duration": 41,
    "start_time": "2024-09-16T17:43:18.084Z"
   },
   {
    "duration": 5,
    "start_time": "2024-09-16T17:44:07.018Z"
   },
   {
    "duration": 32,
    "start_time": "2024-09-16T17:44:08.618Z"
   },
   {
    "duration": 5,
    "start_time": "2024-09-16T17:44:14.868Z"
   },
   {
    "duration": 40,
    "start_time": "2024-09-16T17:44:15.604Z"
   },
   {
    "duration": 31,
    "start_time": "2024-09-16T17:44:25.767Z"
   },
   {
    "duration": 43,
    "start_time": "2024-09-16T17:44:36.578Z"
   },
   {
    "duration": 3,
    "start_time": "2024-09-16T17:45:15.562Z"
   },
   {
    "duration": 4,
    "start_time": "2024-09-16T17:45:16.380Z"
   },
   {
    "duration": 13,
    "start_time": "2024-09-16T17:46:48.399Z"
   },
   {
    "duration": 4,
    "start_time": "2024-09-16T17:57:36.308Z"
   },
   {
    "duration": 15,
    "start_time": "2024-09-16T17:58:59.321Z"
   },
   {
    "duration": 4,
    "start_time": "2024-09-16T17:59:34.874Z"
   },
   {
    "duration": 15,
    "start_time": "2024-09-16T17:59:35.962Z"
   },
   {
    "duration": 14,
    "start_time": "2024-09-16T18:00:01.555Z"
   },
   {
    "duration": 15,
    "start_time": "2024-09-16T18:01:05.433Z"
   },
   {
    "duration": 5,
    "start_time": "2024-09-16T18:27:59.129Z"
   },
   {
    "duration": 15,
    "start_time": "2024-09-16T18:28:04.245Z"
   },
   {
    "duration": 5,
    "start_time": "2024-09-16T18:28:23.531Z"
   },
   {
    "duration": 32,
    "start_time": "2024-09-16T18:28:24.202Z"
   },
   {
    "duration": 6,
    "start_time": "2024-09-16T18:28:41.219Z"
   },
   {
    "duration": 34,
    "start_time": "2024-09-16T18:28:41.888Z"
   },
   {
    "duration": 6,
    "start_time": "2024-09-16T18:33:34.293Z"
   },
   {
    "duration": 1020,
    "start_time": "2024-09-16T18:33:35.239Z"
   },
   {
    "duration": 4,
    "start_time": "2024-09-16T18:33:52.718Z"
   },
   {
    "duration": 912,
    "start_time": "2024-09-16T18:33:54.341Z"
   },
   {
    "duration": 5,
    "start_time": "2024-09-16T18:54:16.768Z"
   },
   {
    "duration": 868,
    "start_time": "2024-09-16T18:54:17.988Z"
   },
   {
    "duration": 6,
    "start_time": "2024-09-16T18:55:38.266Z"
   },
   {
    "duration": 877,
    "start_time": "2024-09-16T18:55:39.313Z"
   },
   {
    "duration": 4,
    "start_time": "2024-09-16T18:56:24.893Z"
   },
   {
    "duration": 899,
    "start_time": "2024-09-16T18:56:25.950Z"
   },
   {
    "duration": 5,
    "start_time": "2024-09-16T18:56:43.207Z"
   },
   {
    "duration": 881,
    "start_time": "2024-09-16T18:56:44.215Z"
   },
   {
    "duration": 6,
    "start_time": "2024-09-16T19:14:35.943Z"
   },
   {
    "duration": 923,
    "start_time": "2024-09-16T19:14:37.774Z"
   },
   {
    "duration": 883,
    "start_time": "2024-09-16T19:15:37.128Z"
   },
   {
    "duration": 6,
    "start_time": "2024-09-16T19:16:35.477Z"
   },
   {
    "duration": 879,
    "start_time": "2024-09-16T19:16:37.074Z"
   },
   {
    "duration": 4,
    "start_time": "2024-09-16T19:17:35.636Z"
   },
   {
    "duration": 892,
    "start_time": "2024-09-16T19:17:36.432Z"
   },
   {
    "duration": 5,
    "start_time": "2024-09-16T19:19:06.494Z"
   },
   {
    "duration": 896,
    "start_time": "2024-09-16T19:19:07.630Z"
   },
   {
    "duration": 5,
    "start_time": "2024-09-16T19:19:17.513Z"
   },
   {
    "duration": 994,
    "start_time": "2024-09-16T19:19:18.841Z"
   },
   {
    "duration": 5,
    "start_time": "2024-09-16T19:19:37.087Z"
   },
   {
    "duration": 874,
    "start_time": "2024-09-16T19:19:37.906Z"
   },
   {
    "duration": 5,
    "start_time": "2024-09-16T19:19:54.434Z"
   },
   {
    "duration": 926,
    "start_time": "2024-09-16T19:19:55.893Z"
   },
   {
    "duration": 5,
    "start_time": "2024-09-16T19:20:06.963Z"
   },
   {
    "duration": 877,
    "start_time": "2024-09-16T19:20:08.112Z"
   },
   {
    "duration": 5,
    "start_time": "2024-09-16T19:20:14.220Z"
   },
   {
    "duration": 918,
    "start_time": "2024-09-16T19:20:15.604Z"
   },
   {
    "duration": 5,
    "start_time": "2024-09-16T19:20:34.820Z"
   },
   {
    "duration": 880,
    "start_time": "2024-09-16T19:20:38.325Z"
   },
   {
    "duration": 984,
    "start_time": "2024-09-16T19:20:55.299Z"
   },
   {
    "duration": 903,
    "start_time": "2024-09-16T19:21:53.204Z"
   },
   {
    "duration": 5,
    "start_time": "2024-09-16T19:24:19.638Z"
   },
   {
    "duration": 921,
    "start_time": "2024-09-16T19:24:22.822Z"
   },
   {
    "duration": 983,
    "start_time": "2024-09-16T19:24:25.873Z"
   },
   {
    "duration": 5,
    "start_time": "2024-09-16T19:24:34.491Z"
   },
   {
    "duration": 1005,
    "start_time": "2024-09-16T19:24:36.376Z"
   },
   {
    "duration": 970,
    "start_time": "2024-09-16T19:24:38.184Z"
   },
   {
    "duration": 965,
    "start_time": "2024-09-16T19:24:39.812Z"
   },
   {
    "duration": 14302,
    "start_time": "2024-09-17T06:25:42.918Z"
   },
   {
    "duration": 2063,
    "start_time": "2024-09-17T06:25:57.223Z"
   },
   {
    "duration": 586,
    "start_time": "2024-09-17T06:25:59.288Z"
   },
   {
    "duration": 263,
    "start_time": "2024-09-17T06:25:59.876Z"
   },
   {
    "duration": 234,
    "start_time": "2024-09-17T06:26:00.141Z"
   },
   {
    "duration": 53,
    "start_time": "2024-09-17T06:26:00.377Z"
   },
   {
    "duration": 76,
    "start_time": "2024-09-17T06:26:00.432Z"
   },
   {
    "duration": 76,
    "start_time": "2024-09-17T06:26:00.510Z"
   },
   {
    "duration": 6,
    "start_time": "2024-09-17T06:26:00.587Z"
   },
   {
    "duration": 668,
    "start_time": "2024-09-17T06:26:00.595Z"
   },
   {
    "duration": 705,
    "start_time": "2024-09-17T06:26:01.264Z"
   },
   {
    "duration": 743,
    "start_time": "2024-09-17T06:26:01.971Z"
   },
   {
    "duration": 1590,
    "start_time": "2024-09-17T06:26:02.716Z"
   },
   {
    "duration": 5,
    "start_time": "2024-09-17T06:26:04.308Z"
   },
   {
    "duration": 139,
    "start_time": "2024-09-17T06:26:04.315Z"
   },
   {
    "duration": 290,
    "start_time": "2024-09-17T06:26:04.456Z"
   },
   {
    "duration": 125,
    "start_time": "2024-09-17T06:26:04.749Z"
   },
   {
    "duration": 3,
    "start_time": "2024-09-17T06:26:04.876Z"
   },
   {
    "duration": 5,
    "start_time": "2024-09-17T06:26:04.948Z"
   },
   {
    "duration": 95,
    "start_time": "2024-09-17T06:26:04.955Z"
   },
   {
    "duration": 26,
    "start_time": "2024-09-17T06:26:05.052Z"
   },
   {
    "duration": 24,
    "start_time": "2024-09-17T06:26:05.080Z"
   },
   {
    "duration": 5,
    "start_time": "2024-09-17T06:26:05.106Z"
   },
   {
    "duration": 964,
    "start_time": "2024-09-17T06:26:05.113Z"
   },
   {
    "duration": 941,
    "start_time": "2024-09-17T06:26:06.079Z"
   },
   {
    "duration": 958,
    "start_time": "2024-09-17T06:26:07.021Z"
   },
   {
    "duration": 6,
    "start_time": "2024-09-17T06:39:59.636Z"
   },
   {
    "duration": 955,
    "start_time": "2024-09-17T06:40:02.813Z"
   },
   {
    "duration": 938,
    "start_time": "2024-09-17T06:46:55.502Z"
   },
   {
    "duration": 7,
    "start_time": "2024-09-17T06:47:18.714Z"
   },
   {
    "duration": 950,
    "start_time": "2024-09-17T06:47:20.792Z"
   },
   {
    "duration": 6,
    "start_time": "2024-09-17T06:47:42.076Z"
   },
   {
    "duration": 946,
    "start_time": "2024-09-17T06:47:43.802Z"
   },
   {
    "duration": 8,
    "start_time": "2024-09-17T06:50:03.582Z"
   },
   {
    "duration": 970,
    "start_time": "2024-09-17T06:50:05.032Z"
   },
   {
    "duration": 7,
    "start_time": "2024-09-17T06:50:33.868Z"
   },
   {
    "duration": 978,
    "start_time": "2024-09-17T06:50:40.510Z"
   },
   {
    "duration": 6,
    "start_time": "2024-09-17T06:51:11.340Z"
   },
   {
    "duration": 958,
    "start_time": "2024-09-17T06:51:14.448Z"
   },
   {
    "duration": 5,
    "start_time": "2024-09-17T06:51:35.432Z"
   },
   {
    "duration": 961,
    "start_time": "2024-09-17T06:51:37.409Z"
   },
   {
    "duration": 955,
    "start_time": "2024-09-17T06:51:57.159Z"
   },
   {
    "duration": 1011,
    "start_time": "2024-09-17T06:52:11.752Z"
   },
   {
    "duration": 927,
    "start_time": "2024-09-17T06:52:36.065Z"
   },
   {
    "duration": 174,
    "start_time": "2024-09-17T07:26:47.882Z"
   },
   {
    "duration": 69,
    "start_time": "2024-09-17T07:27:25.559Z"
   },
   {
    "duration": 3,
    "start_time": "2024-09-17T07:27:39.691Z"
   },
   {
    "duration": 4,
    "start_time": "2024-09-17T07:27:53.684Z"
   },
   {
    "duration": 10,
    "start_time": "2024-09-17T07:28:25.549Z"
   },
   {
    "duration": 11,
    "start_time": "2024-09-17T07:28:44.918Z"
   },
   {
    "duration": 24,
    "start_time": "2024-09-17T08:46:23.725Z"
   },
   {
    "duration": 18,
    "start_time": "2024-09-17T08:46:39.951Z"
   },
   {
    "duration": 7,
    "start_time": "2024-09-17T13:43:09.890Z"
   },
   {
    "duration": 947,
    "start_time": "2024-09-17T13:43:18.611Z"
   },
   {
    "duration": 1011,
    "start_time": "2024-09-17T13:44:44.093Z"
   },
   {
    "duration": 963,
    "start_time": "2024-09-17T13:45:01.900Z"
   },
   {
    "duration": 5,
    "start_time": "2024-09-17T13:45:45.229Z"
   },
   {
    "duration": 966,
    "start_time": "2024-09-17T13:45:46.696Z"
   },
   {
    "duration": 974,
    "start_time": "2024-09-17T13:46:14.152Z"
   },
   {
    "duration": 939,
    "start_time": "2024-09-17T13:46:27.348Z"
   },
   {
    "duration": 5,
    "start_time": "2024-09-17T13:49:31.096Z"
   },
   {
    "duration": 14443,
    "start_time": "2024-09-17T16:45:10.887Z"
   },
   {
    "duration": 2198,
    "start_time": "2024-09-17T16:45:25.332Z"
   },
   {
    "duration": 575,
    "start_time": "2024-09-17T16:45:27.531Z"
   },
   {
    "duration": 265,
    "start_time": "2024-09-17T16:45:28.108Z"
   },
   {
    "duration": 299,
    "start_time": "2024-09-17T16:45:28.377Z"
   },
   {
    "duration": 78,
    "start_time": "2024-09-17T16:45:28.678Z"
   },
   {
    "duration": 90,
    "start_time": "2024-09-17T16:45:28.758Z"
   },
   {
    "duration": 63,
    "start_time": "2024-09-17T16:45:28.850Z"
   },
   {
    "duration": 7,
    "start_time": "2024-09-17T16:45:28.914Z"
   },
   {
    "duration": 679,
    "start_time": "2024-09-17T16:45:28.923Z"
   },
   {
    "duration": 637,
    "start_time": "2024-09-17T16:45:29.604Z"
   },
   {
    "duration": 757,
    "start_time": "2024-09-17T16:45:30.245Z"
   },
   {
    "duration": 1612,
    "start_time": "2024-09-17T16:45:31.003Z"
   },
   {
    "duration": 5,
    "start_time": "2024-09-17T16:45:32.619Z"
   },
   {
    "duration": 228,
    "start_time": "2024-09-17T16:45:32.626Z"
   },
   {
    "duration": 101,
    "start_time": "2024-09-17T16:45:32.946Z"
   },
   {
    "duration": 133,
    "start_time": "2024-09-17T16:45:33.049Z"
   },
   {
    "duration": 100,
    "start_time": "2024-09-17T16:45:33.247Z"
   },
   {
    "duration": 71,
    "start_time": "2024-09-17T16:45:33.348Z"
   },
   {
    "duration": 32,
    "start_time": "2024-09-17T16:45:33.420Z"
   },
   {
    "duration": 29,
    "start_time": "2024-09-17T16:45:33.454Z"
   },
   {
    "duration": 72,
    "start_time": "2024-09-17T16:45:33.485Z"
   },
   {
    "duration": 24,
    "start_time": "2024-09-17T16:45:33.558Z"
   },
   {
    "duration": 1009,
    "start_time": "2024-09-17T16:45:33.583Z"
   },
   {
    "duration": 981,
    "start_time": "2024-09-17T16:45:34.594Z"
   },
   {
    "duration": 985,
    "start_time": "2024-09-17T16:45:35.577Z"
   }
  ],
  "kernelspec": {
   "display_name": "Python 3 (ipykernel)",
   "language": "python",
   "name": "python3"
  },
  "language_info": {
   "codemirror_mode": {
    "name": "ipython",
    "version": 3
   },
   "file_extension": ".py",
   "mimetype": "text/x-python",
   "name": "python",
   "nbconvert_exporter": "python",
   "pygments_lexer": "ipython3",
   "version": "3.11.5"
  },
  "toc": {
   "base_numbering": 1,
   "nav_menu": {},
   "number_sections": true,
   "sideBar": true,
   "skip_h1_title": true,
   "title_cell": "Table of Contents",
   "title_sidebar": "Contents",
   "toc_cell": false,
   "toc_position": {
    "height": "calc(100% - 180px)",
    "left": "10px",
    "top": "150px",
    "width": "377.627px"
   },
   "toc_section_display": true,
   "toc_window_display": true
  }
 },
 "nbformat": 4,
 "nbformat_minor": 2
}
