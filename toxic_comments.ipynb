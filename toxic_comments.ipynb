{
 "cells": [
  {
   "cell_type": "markdown",
   "metadata": {
    "toc": true
   },
   "source": [
    "<h1>Содержание<span class=\"tocSkip\"></span></h1>\n",
    "<div class=\"toc\"><ul class=\"toc-item\"><li><span><a href=\"#Подготовка\" data-toc-modified-id=\"Подготовка-1\"><span class=\"toc-item-num\">1&nbsp;&nbsp;</span>Подготовка</a></span><ul class=\"toc-item\"><li><span><a href=\"#Предобработка-текста\" data-toc-modified-id=\"Предобработка-текста-1.1\"><span class=\"toc-item-num\">1.1&nbsp;&nbsp;</span>Предобработка текста</a></span></li><li><span><a href=\"#Формирование-выборок\" data-toc-modified-id=\"Формирование-выборок-1.2\"><span class=\"toc-item-num\">1.2&nbsp;&nbsp;</span>Формирование выборок</a></span></li></ul></li><li><span><a href=\"#Обучение\" data-toc-modified-id=\"Обучение-2\"><span class=\"toc-item-num\">2&nbsp;&nbsp;</span>Обучение</a></span></li><li><span><a href=\"#Выводы\" data-toc-modified-id=\"Выводы-3\"><span class=\"toc-item-num\">3&nbsp;&nbsp;</span>Выводы</a></span></li><li><span><a href=\"#Чек-лист-проверки\" data-toc-modified-id=\"Чек-лист-проверки-4\"><span class=\"toc-item-num\">4&nbsp;&nbsp;</span>Чек-лист проверки</a></span></li></ul></div>"
   ]
  },
  {
   "cell_type": "markdown",
   "metadata": {},
   "source": [
    "# Проект для «Викишоп»"
   ]
  },
  {
   "cell_type": "markdown",
   "metadata": {},
   "source": [
    "Интернет-магазин «Викишоп» запускает новый сервис. Теперь пользователи могут редактировать и дополнять описания товаров, как в вики-сообществах. То есть клиенты предлагают свои правки и комментируют изменения других. Магазину нужен инструмент, который будет искать токсичные комментарии и отправлять их на модерацию. \n",
    "\n",
    "Обучите модель классифицировать комментарии на позитивные и негативные. В вашем распоряжении набор данных с разметкой о токсичности правок.\n",
    "\n",
    "Постройте модель со значением метрики качества *F1* не меньше 0.75. \n",
    "\n",
    "**Инструкция по выполнению проекта**\n",
    "\n",
    "1. Загрузите и подготовьте данные.\n",
    "2. Обучите разные модели. \n",
    "3. Сделайте выводы.\n",
    "\n",
    "Для выполнения проекта применять *BERT* необязательно, но вы можете попробовать.\n",
    "\n",
    "**Описание данных**\n",
    "\n",
    "Данные находятся в файле `toxic_comments.csv`. Столбец *text* в нём содержит текст комментария, а *toxic* — целевой признак."
   ]
  },
  {
   "cell_type": "code",
   "execution_count": 1,
   "metadata": {},
   "outputs": [
    {
     "name": "stdout",
     "output_type": "stream",
     "text": [
      "Requirement already satisfied: imbalanced-learn==0.9.0 in /opt/conda/lib/python3.9/site-packages (0.9.0)\n",
      "Requirement already satisfied: scipy>=1.1.0 in /opt/conda/lib/python3.9/site-packages (from imbalanced-learn==0.9.0) (1.9.1)\n",
      "Requirement already satisfied: numpy>=1.14.6 in /opt/conda/lib/python3.9/site-packages (from imbalanced-learn==0.9.0) (1.21.1)\n",
      "Requirement already satisfied: scikit-learn>=1.0.1 in /opt/conda/lib/python3.9/site-packages (from imbalanced-learn==0.9.0) (1.6.1)\n",
      "Requirement already satisfied: threadpoolctl>=2.0.0 in /opt/conda/lib/python3.9/site-packages (from imbalanced-learn==0.9.0) (3.1.0)\n",
      "Requirement already satisfied: joblib>=0.11 in /opt/conda/lib/python3.9/site-packages (from imbalanced-learn==0.9.0) (1.5.1)\n",
      "Note: you may need to restart the kernel to use updated packages.\n"
     ]
    }
   ],
   "source": [
    "pip install imbalanced-learn==0.9.0"
   ]
  },
  {
   "cell_type": "code",
   "execution_count": 2,
   "metadata": {},
   "outputs": [],
   "source": [
    "# Импортируем необходимые библиотеки\n",
    "import numpy as np\n",
    "import pandas as pd\n",
    "import matplotlib.pyplot as plt\n",
    "import seaborn as sns\n",
    "import torch\n",
    "import transformers\n",
    "import time\n",
    "from tqdm import notebook\n",
    "from tqdm import tqdm\n",
    "from sklearn.linear_model import LogisticRegression\n",
    "from sklearn.svm import LinearSVC\n",
    "from sklearn.tree import DecisionTreeClassifier\n",
    "from sklearn.neighbors import KNeighborsClassifier\n",
    "from sklearn.feature_extraction.text import TfidfVectorizer\n",
    "from sklearn.model_selection import train_test_split, RandomizedSearchCV\n",
    "from sklearn.metrics import f1_score, classification_report\n",
    "import nltk\n",
    "from nltk import pos_tag\n",
    "from nltk.tokenize import word_tokenize\n",
    "from nltk.corpus import stopwords, wordnet\n",
    "from nltk.stem import WordNetLemmatizer\n",
    "import re\n",
    "import os\n",
    "import warnings"
   ]
  },
  {
   "cell_type": "code",
   "execution_count": 3,
   "metadata": {},
   "outputs": [],
   "source": [
    "# Читаем данные\n",
    "toxic_comments = pd.read_csv('/datasets/toxic_comments.csv')"
   ]
  },
  {
   "cell_type": "code",
   "execution_count": 4,
   "metadata": {},
   "outputs": [
    {
     "data": {
      "text/html": [
       "<div>\n",
       "<style scoped>\n",
       "    .dataframe tbody tr th:only-of-type {\n",
       "        vertical-align: middle;\n",
       "    }\n",
       "\n",
       "    .dataframe tbody tr th {\n",
       "        vertical-align: top;\n",
       "    }\n",
       "\n",
       "    .dataframe thead th {\n",
       "        text-align: right;\n",
       "    }\n",
       "</style>\n",
       "<table border=\"1\" class=\"dataframe\">\n",
       "  <thead>\n",
       "    <tr style=\"text-align: right;\">\n",
       "      <th></th>\n",
       "      <th>Unnamed: 0</th>\n",
       "      <th>text</th>\n",
       "      <th>toxic</th>\n",
       "    </tr>\n",
       "  </thead>\n",
       "  <tbody>\n",
       "    <tr>\n",
       "      <th>0</th>\n",
       "      <td>0</td>\n",
       "      <td>Explanation\\nWhy the edits made under my usern...</td>\n",
       "      <td>0</td>\n",
       "    </tr>\n",
       "    <tr>\n",
       "      <th>1</th>\n",
       "      <td>1</td>\n",
       "      <td>D'aww! He matches this background colour I'm s...</td>\n",
       "      <td>0</td>\n",
       "    </tr>\n",
       "    <tr>\n",
       "      <th>2</th>\n",
       "      <td>2</td>\n",
       "      <td>Hey man, I'm really not trying to edit war. It...</td>\n",
       "      <td>0</td>\n",
       "    </tr>\n",
       "    <tr>\n",
       "      <th>3</th>\n",
       "      <td>3</td>\n",
       "      <td>\"\\nMore\\nI can't make any real suggestions on ...</td>\n",
       "      <td>0</td>\n",
       "    </tr>\n",
       "    <tr>\n",
       "      <th>4</th>\n",
       "      <td>4</td>\n",
       "      <td>You, sir, are my hero. Any chance you remember...</td>\n",
       "      <td>0</td>\n",
       "    </tr>\n",
       "    <tr>\n",
       "      <th>5</th>\n",
       "      <td>5</td>\n",
       "      <td>\"\\n\\nCongratulations from me as well, use the ...</td>\n",
       "      <td>0</td>\n",
       "    </tr>\n",
       "    <tr>\n",
       "      <th>6</th>\n",
       "      <td>6</td>\n",
       "      <td>COCKSUCKER BEFORE YOU PISS AROUND ON MY WORK</td>\n",
       "      <td>1</td>\n",
       "    </tr>\n",
       "    <tr>\n",
       "      <th>7</th>\n",
       "      <td>7</td>\n",
       "      <td>Your vandalism to the Matt Shirvington article...</td>\n",
       "      <td>0</td>\n",
       "    </tr>\n",
       "    <tr>\n",
       "      <th>8</th>\n",
       "      <td>8</td>\n",
       "      <td>Sorry if the word 'nonsense' was offensive to ...</td>\n",
       "      <td>0</td>\n",
       "    </tr>\n",
       "    <tr>\n",
       "      <th>9</th>\n",
       "      <td>9</td>\n",
       "      <td>alignment on this subject and which are contra...</td>\n",
       "      <td>0</td>\n",
       "    </tr>\n",
       "  </tbody>\n",
       "</table>\n",
       "</div>"
      ],
      "text/plain": [
       "   Unnamed: 0                                               text  toxic\n",
       "0           0  Explanation\\nWhy the edits made under my usern...      0\n",
       "1           1  D'aww! He matches this background colour I'm s...      0\n",
       "2           2  Hey man, I'm really not trying to edit war. It...      0\n",
       "3           3  \"\\nMore\\nI can't make any real suggestions on ...      0\n",
       "4           4  You, sir, are my hero. Any chance you remember...      0\n",
       "5           5  \"\\n\\nCongratulations from me as well, use the ...      0\n",
       "6           6       COCKSUCKER BEFORE YOU PISS AROUND ON MY WORK      1\n",
       "7           7  Your vandalism to the Matt Shirvington article...      0\n",
       "8           8  Sorry if the word 'nonsense' was offensive to ...      0\n",
       "9           9  alignment on this subject and which are contra...      0"
      ]
     },
     "execution_count": 4,
     "metadata": {},
     "output_type": "execute_result"
    }
   ],
   "source": [
    "toxic_comments.head(10)"
   ]
  },
  {
   "cell_type": "markdown",
   "metadata": {},
   "source": [
    "Данные успешно загружены. Комментарии приведены на английском языке, нам необходим соответсвующий словарь при токенизации и т.д. Колонка \"Unnamed: 0\" содержит неясную нумерацию, полагаю ее можно будет удалить. В колонке с комментариями \"text\" выявлены знаки переноса текста \"\\n\" и разный регистр, что нужно будет убрать в процессе предобработки. "
   ]
  },
  {
   "cell_type": "code",
   "execution_count": 5,
   "metadata": {},
   "outputs": [
    {
     "data": {
      "text/plain": [
       "0"
      ]
     },
     "execution_count": 5,
     "metadata": {},
     "output_type": "execute_result"
    }
   ],
   "source": [
    "# Проверим наличие дубликатов\n",
    "toxic_comments.duplicated().sum()"
   ]
  },
  {
   "cell_type": "markdown",
   "metadata": {},
   "source": [
    "Дубликатов не обнаружено."
   ]
  },
  {
   "cell_type": "code",
   "execution_count": 6,
   "metadata": {
    "scrolled": true
   },
   "outputs": [
    {
     "data": {
      "image/png": "[encoded data removed]",
      "text/plain": [
       "<Figure size 432x288 with 1 Axes>"
      ]
     },
     "metadata": {},
     "output_type": "display_data"
    }
   ],
   "source": [
    "# Выведем круговую диаграмму для токсичности комментария (1 - токсичный, 0 - нетоксичный)\n",
    "group_tab = toxic_comments.groupby('toxic').size()/len(toxic_comments)\n",
    "group_tab = group_tab.sort_values(ascending=True)\n",
    "group_tab.plot(kind='pie', autopct = '%1.0f%%', normalize=False)\n",
    "plt.title('Соотношение по токсичности комментариев (1 - токсичный, 0 - нетоксичный)')\n",
    "plt.ylabel('токсичность комментария')\n",
    "plt.show() "
   ]
  },
  {
   "cell_type": "markdown",
   "metadata": {},
   "source": [
    "Токсичность комментария - наш целевой признак. Наблюдается сильный дисбаланс классов в данном признаке который необходимо учитывать далее. "
   ]
  },
  {
   "cell_type": "markdown",
   "metadata": {},
   "source": [
    "## Подготовка"
   ]
  },
  {
   "cell_type": "markdown",
   "metadata": {},
   "source": [
    "### Предобработка текста"
   ]
  },
  {
   "cell_type": "code",
   "execution_count": 7,
   "metadata": {},
   "outputs": [],
   "source": [
    "# Удалим столбец 'Unnamed: 0'\n",
    "toxic_comments.drop('Unnamed: 0', axis=1, inplace=True)"
   ]
  },
  {
   "cell_type": "code",
   "execution_count": 8,
   "metadata": {},
   "outputs": [
    {
     "name": "stderr",
     "output_type": "stream",
     "text": [
      "[nltk_data] Downloading package stopwords to /home/jovyan/nltk_data...\n",
      "[nltk_data]   Package stopwords is already up-to-date!\n",
      "[nltk_data] Downloading package averaged_perceptron_tagger to\n",
      "[nltk_data]     /home/jovyan/nltk_data...\n",
      "[nltk_data]   Package averaged_perceptron_tagger is already up-to-\n",
      "[nltk_data]       date!\n"
     ]
    }
   ],
   "source": [
    "# Загружаем корпус стоп-слов (часто встречающихся слов без смысловой нагрузки) для английского языка\n",
    "nltk.download('stopwords')\n",
    "\n",
    "# Загружаем теггер частей речи (POS-теггер) на основе усредненного перцептрона\n",
    "nltk.download('averaged_perceptron_tagger')\n",
    "\n",
    "# Создаем множество стоп-слов для английского языка\n",
    "# Используем структуру set для быстрого поиска и удаления стоп-слов из текста\n",
    "stop_words = set(stopwords.words('english'))\n",
    "\n",
    "# Инициализируем лемматизатор на основе WordNet\n",
    "lemmatizer = WordNetLemmatizer()\n"
   ]
  },
  {
   "cell_type": "markdown",
   "metadata": {},
   "source": [
    "Далее создадим функцию для обработки комментариев"
   ]
  },
  {
   "cell_type": "code",
   "execution_count": 9,
   "metadata": {},
   "outputs": [],
   "source": [
    "# Функция для преобразования POS-тегов в формат, понятный лемматизатору\n",
    "def get_wordnet_pos(treebank_tag):\n",
    "    if treebank_tag.startswith('J'):\n",
    "        return wordnet.ADJ\n",
    "    elif treebank_tag.startswith('V'):\n",
    "        return wordnet.VERB\n",
    "    elif treebank_tag.startswith('N'):\n",
    "        return wordnet.NOUN\n",
    "    elif treebank_tag.startswith('R'):\n",
    "        return wordnet.ADV\n",
    "    else:\n",
    "        return wordnet.NOUN  # по умолчанию используем существительное"
   ]
  },
  {
   "cell_type": "code",
   "execution_count": 10,
   "metadata": {},
   "outputs": [],
   "source": [
    "# Функция преобработки комментариев\n",
    "def pre_processing(text):\n",
    "    # Очищаем текст: оставляем только английские буквы и пробелы,\n",
    "    # приводим к нижнему регистру и убираем лишние пробелы\n",
    "    text = re.sub(r'[^a-z ]', ' ', text.lower()).strip()\n",
    "    \n",
    "    # Разбиваем текст на отдельные слова (токенизация)\n",
    "    tokens = word_tokenize(text)\n",
    "    \n",
    "    # Получаем POS-теги для каждого токена\n",
    "    tokens_with_pos = pos_tag(tokens)\n",
    "    \n",
    "    # Фильтруем стоп-слова, сохраняя пары (слово, POS-тег)\n",
    "    tokens_filtered = [\n",
    "        (word, pos) for word, pos in tokens_with_pos \n",
    "        if word not in stop_words\n",
    "    ]\n",
    "    \n",
    "    # Лемматизируем слова с учетом их POS-тегов\n",
    "    # и объединяем результат в строку\n",
    "    text = ' '.join([\n",
    "        lemmatizer.lemmatize(word, get_wordnet_pos(pos)) \n",
    "        for word, pos in tokens_filtered\n",
    "    ])\n",
    "    \n",
    "    return text"
   ]
  },
  {
   "cell_type": "code",
   "execution_count": 11,
   "metadata": {},
   "outputs": [],
   "source": [
    "# Применим функции к нашим комментариям\n",
    "toxic_comments['prepro_text'] = toxic_comments['text'].apply(pre_processing)"
   ]
  },
  {
   "cell_type": "code",
   "execution_count": 12,
   "metadata": {
    "scrolled": true
   },
   "outputs": [
    {
     "data": {
      "text/html": [
       "<div>\n",
       "<style scoped>\n",
       "    .dataframe tbody tr th:only-of-type {\n",
       "        vertical-align: middle;\n",
       "    }\n",
       "\n",
       "    .dataframe tbody tr th {\n",
       "        vertical-align: top;\n",
       "    }\n",
       "\n",
       "    .dataframe thead th {\n",
       "        text-align: right;\n",
       "    }\n",
       "</style>\n",
       "<table border=\"1\" class=\"dataframe\">\n",
       "  <thead>\n",
       "    <tr style=\"text-align: right;\">\n",
       "      <th></th>\n",
       "      <th>text</th>\n",
       "      <th>toxic</th>\n",
       "      <th>prepro_text</th>\n",
       "    </tr>\n",
       "  </thead>\n",
       "  <tbody>\n",
       "    <tr>\n",
       "      <th>0</th>\n",
       "      <td>Explanation\\nWhy the edits made under my usern...</td>\n",
       "      <td>0</td>\n",
       "      <td>explanation edits make username hardcore metal...</td>\n",
       "    </tr>\n",
       "    <tr>\n",
       "      <th>1</th>\n",
       "      <td>D'aww! He matches this background colour I'm s...</td>\n",
       "      <td>0</td>\n",
       "      <td>aww match background colour seemingly stick th...</td>\n",
       "    </tr>\n",
       "    <tr>\n",
       "      <th>2</th>\n",
       "      <td>Hey man, I'm really not trying to edit war. It...</td>\n",
       "      <td>0</td>\n",
       "      <td>hey man really try edit war guy constantly rem...</td>\n",
       "    </tr>\n",
       "    <tr>\n",
       "      <th>3</th>\n",
       "      <td>\"\\nMore\\nI can't make any real suggestions on ...</td>\n",
       "      <td>0</td>\n",
       "      <td>make real suggestion improvement wonder sectio...</td>\n",
       "    </tr>\n",
       "    <tr>\n",
       "      <th>4</th>\n",
       "      <td>You, sir, are my hero. Any chance you remember...</td>\n",
       "      <td>0</td>\n",
       "      <td>sir hero chance remember page</td>\n",
       "    </tr>\n",
       "    <tr>\n",
       "      <th>5</th>\n",
       "      <td>\"\\n\\nCongratulations from me as well, use the ...</td>\n",
       "      <td>0</td>\n",
       "      <td>congratulation well use tool well talk</td>\n",
       "    </tr>\n",
       "    <tr>\n",
       "      <th>6</th>\n",
       "      <td>COCKSUCKER BEFORE YOU PISS AROUND ON MY WORK</td>\n",
       "      <td>1</td>\n",
       "      <td>cocksucker piss around work</td>\n",
       "    </tr>\n",
       "    <tr>\n",
       "      <th>7</th>\n",
       "      <td>Your vandalism to the Matt Shirvington article...</td>\n",
       "      <td>0</td>\n",
       "      <td>vandalism matt shirvington article revert plea...</td>\n",
       "    </tr>\n",
       "    <tr>\n",
       "      <th>8</th>\n",
       "      <td>Sorry if the word 'nonsense' was offensive to ...</td>\n",
       "      <td>0</td>\n",
       "      <td>sorry word nonsense offensive anyway intend wr...</td>\n",
       "    </tr>\n",
       "    <tr>\n",
       "      <th>9</th>\n",
       "      <td>alignment on this subject and which are contra...</td>\n",
       "      <td>0</td>\n",
       "      <td>alignment subject contrary dulithgow</td>\n",
       "    </tr>\n",
       "  </tbody>\n",
       "</table>\n",
       "</div>"
      ],
      "text/plain": [
       "                                                text  toxic  \\\n",
       "0  Explanation\\nWhy the edits made under my usern...      0   \n",
       "1  D'aww! He matches this background colour I'm s...      0   \n",
       "2  Hey man, I'm really not trying to edit war. It...      0   \n",
       "3  \"\\nMore\\nI can't make any real suggestions on ...      0   \n",
       "4  You, sir, are my hero. Any chance you remember...      0   \n",
       "5  \"\\n\\nCongratulations from me as well, use the ...      0   \n",
       "6       COCKSUCKER BEFORE YOU PISS AROUND ON MY WORK      1   \n",
       "7  Your vandalism to the Matt Shirvington article...      0   \n",
       "8  Sorry if the word 'nonsense' was offensive to ...      0   \n",
       "9  alignment on this subject and which are contra...      0   \n",
       "\n",
       "                                         prepro_text  \n",
       "0  explanation edits make username hardcore metal...  \n",
       "1  aww match background colour seemingly stick th...  \n",
       "2  hey man really try edit war guy constantly rem...  \n",
       "3  make real suggestion improvement wonder sectio...  \n",
       "4                      sir hero chance remember page  \n",
       "5             congratulation well use tool well talk  \n",
       "6                        cocksucker piss around work  \n",
       "7  vandalism matt shirvington article revert plea...  \n",
       "8  sorry word nonsense offensive anyway intend wr...  \n",
       "9               alignment subject contrary dulithgow  "
      ]
     },
     "execution_count": 12,
     "metadata": {},
     "output_type": "execute_result"
    }
   ],
   "source": [
    "# Оценим результат применения функции предобработки\n",
    "toxic_comments.head(10)"
   ]
  },
  {
   "cell_type": "markdown",
   "metadata": {},
   "source": [
    "Комментарии преобразованы корректно. Проанализируем длину преобработанных текстов."
   ]
  },
  {
   "cell_type": "code",
   "execution_count": 13,
   "metadata": {},
   "outputs": [
    {
     "name": "stdout",
     "output_type": "stream",
     "text": [
      "count    159292.000000\n",
      "mean        235.920040\n",
      "std         370.557515\n",
      "min           0.000000\n",
      "25%          55.000000\n",
      "50%         120.000000\n",
      "75%         257.000000\n",
      "max        5000.000000\n",
      "Name: len, dtype: float64\n"
     ]
    },
    {
     "data": {
      "image/png": "[encoded data removed]",
      "text/plain": [
       "<Figure size 720x288 with 1 Axes>"
      ]
     },
     "metadata": {
      "needs_background": "light"
     },
     "output_type": "display_data"
    }
   ],
   "source": [
    "# Создаем колонку с длиной текстов\n",
    "toxic_comments['len'] = toxic_comments['prepro_text'].str.len()\n",
    "\n",
    "# Выводим статистическое описание\n",
    "print(toxic_comments['len'].describe())\n",
    "\n",
    "# Добавим график\n",
    "plt.figure(figsize=(10, 4))  # задаем размер графика\n",
    "sns.boxplot(x=toxic_comments['len'], color='lightblue')\n",
    "plt.title('Распределение длины текстов', fontsize=16)\n",
    "plt.xlabel('Длина текста (количество символов)', fontsize=14)\n",
    "plt.ylabel('Распределение', fontsize=14)\n",
    "plt.grid(True) \n",
    "plt.show()"
   ]
  },
  {
   "cell_type": "markdown",
   "metadata": {},
   "source": [
    "Мы имеем часть комментариев с нулевой длиной вероятно из-за удаления стоп-слов из которых они полностью состояли. Удалим их. Максимальная длина комментариев 5000 знаков, вероятно этим количеством символов ограничена длина комментария на сайте при его составлении. В основном длина комментариев составляет 50-250 символов."
   ]
  },
  {
   "cell_type": "code",
   "execution_count": 14,
   "metadata": {},
   "outputs": [
    {
     "data": {
      "text/plain": [
       "count    159230.000000\n",
       "mean        236.011901\n",
       "std         370.600402\n",
       "min           2.000000\n",
       "25%          55.000000\n",
       "50%         120.000000\n",
       "75%         257.000000\n",
       "max        5000.000000\n",
       "Name: len, dtype: float64"
      ]
     },
     "execution_count": 14,
     "metadata": {},
     "output_type": "execute_result"
    }
   ],
   "source": [
    "# Удалим комментарии с нулевой длиной\n",
    "toxic_comments = toxic_comments.loc[toxic_comments['len'] > 0]\n",
    "toxic_comments['len'].describe()"
   ]
  },
  {
   "cell_type": "code",
   "execution_count": 15,
   "metadata": {
    "scrolled": true
   },
   "outputs": [
    {
     "data": {
      "text/html": [
       "<div>\n",
       "<style scoped>\n",
       "    .dataframe tbody tr th:only-of-type {\n",
       "        vertical-align: middle;\n",
       "    }\n",
       "\n",
       "    .dataframe tbody tr th {\n",
       "        vertical-align: top;\n",
       "    }\n",
       "\n",
       "    .dataframe thead th {\n",
       "        text-align: right;\n",
       "    }\n",
       "</style>\n",
       "<table border=\"1\" class=\"dataframe\">\n",
       "  <thead>\n",
       "    <tr style=\"text-align: right;\">\n",
       "      <th></th>\n",
       "      <th>text</th>\n",
       "      <th>toxic</th>\n",
       "      <th>prepro_text</th>\n",
       "      <th>len</th>\n",
       "    </tr>\n",
       "  </thead>\n",
       "  <tbody>\n",
       "    <tr>\n",
       "      <th>0</th>\n",
       "      <td>Explanation\\nWhy the edits made under my usern...</td>\n",
       "      <td>0</td>\n",
       "      <td>explanation edits make username hardcore metal...</td>\n",
       "      <td>152</td>\n",
       "    </tr>\n",
       "    <tr>\n",
       "      <th>1</th>\n",
       "      <td>D'aww! He matches this background colour I'm s...</td>\n",
       "      <td>0</td>\n",
       "      <td>aww match background colour seemingly stick th...</td>\n",
       "      <td>67</td>\n",
       "    </tr>\n",
       "    <tr>\n",
       "      <th>2</th>\n",
       "      <td>Hey man, I'm really not trying to edit war. It...</td>\n",
       "      <td>0</td>\n",
       "      <td>hey man really try edit war guy constantly rem...</td>\n",
       "      <td>132</td>\n",
       "    </tr>\n",
       "    <tr>\n",
       "      <th>3</th>\n",
       "      <td>\"\\nMore\\nI can't make any real suggestions on ...</td>\n",
       "      <td>0</td>\n",
       "      <td>make real suggestion improvement wonder sectio...</td>\n",
       "      <td>352</td>\n",
       "    </tr>\n",
       "    <tr>\n",
       "      <th>4</th>\n",
       "      <td>You, sir, are my hero. Any chance you remember...</td>\n",
       "      <td>0</td>\n",
       "      <td>sir hero chance remember page</td>\n",
       "      <td>29</td>\n",
       "    </tr>\n",
       "  </tbody>\n",
       "</table>\n",
       "</div>"
      ],
      "text/plain": [
       "                                                text  toxic  \\\n",
       "0  Explanation\\nWhy the edits made under my usern...      0   \n",
       "1  D'aww! He matches this background colour I'm s...      0   \n",
       "2  Hey man, I'm really not trying to edit war. It...      0   \n",
       "3  \"\\nMore\\nI can't make any real suggestions on ...      0   \n",
       "4  You, sir, are my hero. Any chance you remember...      0   \n",
       "\n",
       "                                         prepro_text  len  \n",
       "0  explanation edits make username hardcore metal...  152  \n",
       "1  aww match background colour seemingly stick th...   67  \n",
       "2  hey man really try edit war guy constantly rem...  132  \n",
       "3  make real suggestion improvement wonder sectio...  352  \n",
       "4                      sir hero chance remember page   29  "
      ]
     },
     "execution_count": 15,
     "metadata": {},
     "output_type": "execute_result"
    }
   ],
   "source": [
    "toxic_comments.head(5)"
   ]
  },
  {
   "cell_type": "markdown",
   "metadata": {},
   "source": [
    "### Формирование выборок"
   ]
  },
  {
   "cell_type": "code",
   "execution_count": 16,
   "metadata": {},
   "outputs": [],
   "source": [
    "# Удалим лишние столбцы\n",
    "toxic_comments.drop(['len', 'text'], axis=1, inplace=True)"
   ]
  },
  {
   "cell_type": "code",
   "execution_count": 17,
   "metadata": {},
   "outputs": [
    {
     "data": {
      "text/html": [
       "<div>\n",
       "<style scoped>\n",
       "    .dataframe tbody tr th:only-of-type {\n",
       "        vertical-align: middle;\n",
       "    }\n",
       "\n",
       "    .dataframe tbody tr th {\n",
       "        vertical-align: top;\n",
       "    }\n",
       "\n",
       "    .dataframe thead th {\n",
       "        text-align: right;\n",
       "    }\n",
       "</style>\n",
       "<table border=\"1\" class=\"dataframe\">\n",
       "  <thead>\n",
       "    <tr style=\"text-align: right;\">\n",
       "      <th></th>\n",
       "      <th>toxic</th>\n",
       "      <th>prepro_text</th>\n",
       "    </tr>\n",
       "  </thead>\n",
       "  <tbody>\n",
       "    <tr>\n",
       "      <th>0</th>\n",
       "      <td>0</td>\n",
       "      <td>explanation edits make username hardcore metal...</td>\n",
       "    </tr>\n",
       "    <tr>\n",
       "      <th>1</th>\n",
       "      <td>0</td>\n",
       "      <td>aww match background colour seemingly stick th...</td>\n",
       "    </tr>\n",
       "    <tr>\n",
       "      <th>2</th>\n",
       "      <td>0</td>\n",
       "      <td>hey man really try edit war guy constantly rem...</td>\n",
       "    </tr>\n",
       "    <tr>\n",
       "      <th>3</th>\n",
       "      <td>0</td>\n",
       "      <td>make real suggestion improvement wonder sectio...</td>\n",
       "    </tr>\n",
       "    <tr>\n",
       "      <th>4</th>\n",
       "      <td>0</td>\n",
       "      <td>sir hero chance remember page</td>\n",
       "    </tr>\n",
       "  </tbody>\n",
       "</table>\n",
       "</div>"
      ],
      "text/plain": [
       "   toxic                                        prepro_text\n",
       "0      0  explanation edits make username hardcore metal...\n",
       "1      0  aww match background colour seemingly stick th...\n",
       "2      0  hey man really try edit war guy constantly rem...\n",
       "3      0  make real suggestion improvement wonder sectio...\n",
       "4      0                      sir hero chance remember page"
      ]
     },
     "execution_count": 17,
     "metadata": {},
     "output_type": "execute_result"
    }
   ],
   "source": [
    "toxic_comments.head(5)"
   ]
  },
  {
   "cell_type": "code",
   "execution_count": 18,
   "metadata": {},
   "outputs": [],
   "source": [
    "# Разделим на входной и целевой признак\n",
    "X = toxic_comments.drop('toxic', axis=1)\n",
    "y = toxic_comments['toxic']"
   ]
  },
  {
   "cell_type": "code",
   "execution_count": 19,
   "metadata": {},
   "outputs": [],
   "source": [
    "# Стратифицированное разделение на train/test\n",
    "X_train, X_test, y_train, y_test = train_test_split(\n",
    "    X, y, \n",
    "    test_size=0.2, \n",
    "    random_state=42,\n",
    "    stratify=y\n",
    ")"
   ]
  },
  {
   "cell_type": "code",
   "execution_count": 20,
   "metadata": {},
   "outputs": [],
   "source": [
    "# Создаем объект для векторизации текста\n",
    "vectorizer = TfidfVectorizer()\n",
    "# Применяем его к данным\n",
    "X_train_tfidf = vectorizer.fit_transform(X_train['prepro_text'])\n",
    "X_test_tfidf = vectorizer.transform(X_test['prepro_text'])"
   ]
  },
  {
   "cell_type": "markdown",
   "metadata": {},
   "source": [
    "## Обучение"
   ]
  },
  {
   "cell_type": "markdown",
   "metadata": {},
   "source": [
    "Обучать будем четыре модели со своими геперпараметрами - 'LogisticRegression', 'LinearSVC', 'DecisionTree' и 'KNeighbors'."
   ]
  },
  {
   "cell_type": "code",
   "execution_count": 21,
   "metadata": {},
   "outputs": [
    {
     "name": "stderr",
     "output_type": "stream",
     "text": [
      "Обучение моделей:   0%|          | 0/4 [00:00<?, ?it/s]/opt/conda/lib/python3.9/site-packages/sklearn/model_selection/_search.py:317: UserWarning: The total space of parameters 3 is smaller than n_iter=5. Running 3 iterations. For exhaustive searches, use GridSearchCV.\n",
      "  warnings.warn(\n"
     ]
    },
    {
     "name": "stdout",
     "output_type": "stream",
     "text": [
      "\n",
      "Обучение модели: LogisticRegression\n"
     ]
    },
    {
     "name": "stderr",
     "output_type": "stream",
     "text": [
      "Обучение моделей:  25%|██▌       | 1/4 [05:18<15:54, 318.30s/it]/opt/conda/lib/python3.9/site-packages/sklearn/model_selection/_search.py:317: UserWarning: The total space of parameters 3 is smaller than n_iter=5. Running 3 iterations. For exhaustive searches, use GridSearchCV.\n",
      "  warnings.warn(\n"
     ]
    },
    {
     "name": "stdout",
     "output_type": "stream",
     "text": [
      "\n",
      "Обучение модели: LinearSVC\n"
     ]
    },
    {
     "name": "stderr",
     "output_type": "stream",
     "text": [
      "/opt/conda/lib/python3.9/site-packages/sklearn/svm/_base.py:1249: ConvergenceWarning: Liblinear failed to converge, increase the number of iterations.\n",
      "  warnings.warn(\n",
      "/opt/conda/lib/python3.9/site-packages/sklearn/svm/_base.py:1249: ConvergenceWarning: Liblinear failed to converge, increase the number of iterations.\n",
      "  warnings.warn(\n",
      "/opt/conda/lib/python3.9/site-packages/sklearn/svm/_base.py:1249: ConvergenceWarning: Liblinear failed to converge, increase the number of iterations.\n",
      "  warnings.warn(\n",
      "/opt/conda/lib/python3.9/site-packages/sklearn/svm/_base.py:1249: ConvergenceWarning: Liblinear failed to converge, increase the number of iterations.\n",
      "  warnings.warn(\n",
      "/opt/conda/lib/python3.9/site-packages/sklearn/svm/_base.py:1249: ConvergenceWarning: Liblinear failed to converge, increase the number of iterations.\n",
      "  warnings.warn(\n",
      "Обучение моделей:  50%|█████     | 2/4 [06:31<05:47, 173.92s/it]"
     ]
    },
    {
     "name": "stdout",
     "output_type": "stream",
     "text": [
      "\n",
      "Обучение модели: DecisionTree\n"
     ]
    },
    {
     "name": "stderr",
     "output_type": "stream",
     "text": [
      "Обучение моделей:  75%|███████▌  | 3/4 [13:44<04:52, 292.32s/it]/opt/conda/lib/python3.9/site-packages/sklearn/model_selection/_search.py:317: UserWarning: The total space of parameters 3 is smaller than n_iter=5. Running 3 iterations. For exhaustive searches, use GridSearchCV.\n",
      "  warnings.warn(\n"
     ]
    },
    {
     "name": "stdout",
     "output_type": "stream",
     "text": [
      "\n",
      "Обучение модели: KNeighbors\n"
     ]
    },
    {
     "name": "stderr",
     "output_type": "stream",
     "text": [
      "Обучение моделей: 100%|██████████| 4/4 [52:50<00:00, 792.59s/it] "
     ]
    },
    {
     "name": "stdout",
     "output_type": "stream",
     "text": [
      "                                                  best_params   train_time  \\\n",
      "LogisticRegression                 {'penalty': 'l2', 'C': 10}   318.202930   \n",
      "LinearSVC                                            {'C': 1}    72.846750   \n",
      "DecisionTree        {'min_samples_split': 5, 'max_depth': 12}   433.085176   \n",
      "KNeighbors                                {'n_neighbors': 15}  1670.522048   \n",
      "\n",
      "                    predict_time  f1_score  \n",
      "LogisticRegression      0.097440  0.763082  \n",
      "LinearSVC               0.013280  0.760005  \n",
      "DecisionTree            0.120604  0.592067  \n",
      "KNeighbors            675.475763  0.662433  \n",
      "\n",
      "Best Model: LogisticRegression(class_weight='balanced', max_iter=5000)\n"
     ]
    },
    {
     "name": "stderr",
     "output_type": "stream",
     "text": [
      "\n"
     ]
    }
   ],
   "source": [
    "# Инициализация моделей\n",
    "models = {\n",
    "    'LogisticRegression': LogisticRegression(max_iter=5000, class_weight='balanced'),\n",
    "    'LinearSVC': LinearSVC(class_weight='balanced'),\n",
    "    'DecisionTree': DecisionTreeClassifier(class_weight='balanced'),\n",
    "    'KNeighbors': KNeighborsClassifier()\n",
    "}\n",
    "\n",
    "# Настройка гиперпараметров\n",
    "param_distributions = {\n",
    "    'LogisticRegression': {\n",
    "        'C': [0.1, 1, 10],\n",
    "        'penalty': ['l2']\n",
    "    },\n",
    "    'LinearSVC': {\n",
    "        'C': [0.1, 1, 10]\n",
    "    },\n",
    "    'DecisionTree': {\n",
    "        'max_depth': [5, 10, 12],\n",
    "        'min_samples_split': [2, 5, ]\n",
    "    },\n",
    "    'KNeighbors': {\n",
    "        'n_neighbors': [8, 12, 15]\n",
    "    }\n",
    "}\n",
    "\n",
    "# Словарь для хранения результатов\n",
    "results = {}\n",
    "\n",
    "# Цикл обучения с отображением прогресса\n",
    "for model_name in tqdm(models.keys(), desc=\"Обучение моделей\"):\n",
    "    model = models[model_name]\n",
    "    print(f\"\\nОбучение модели: {model_name}\")\n",
    "    \n",
    "    start_time = time.time()\n",
    "    \n",
    "    search = RandomizedSearchCV(\n",
    "        estimator=model,\n",
    "        param_distributions=param_distributions[model_name],\n",
    "        scoring='f1',\n",
    "        n_iter=5,  \n",
    "        cv=5,      \n",
    "        verbose=0,\n",
    "        n_jobs=-1,\n",
    "        random_state=44,\n",
    "        error_score='raise'\n",
    "    )\n",
    "    \n",
    "    try:\n",
    "        search.fit(X_train_tfidf, y_train)\n",
    "    except Exception as e:\n",
    "        print(f\"Ошибка при обучении {model_name}: {e}\")\n",
    "        continue\n",
    "    \n",
    "    # Замер времени обучения\n",
    "    train_time = time.time() - start_time\n",
    "    \n",
    "    # Замер времени предсказания\n",
    "    start_time = time.time()\n",
    "    y_pred = search.predict(X_train_tfidf)\n",
    "    predict_time = time.time() - start_time\n",
    "    \n",
    "    # Сохраняем best_score_ \n",
    "    f1_best = search.best_score_\n",
    "    \n",
    "    # Сохранение результатов\n",
    "    results[model_name] = {\n",
    "        'best_params': search.best_params_,\n",
    "        'train_time': train_time,\n",
    "        'predict_time': predict_time,\n",
    "        'f1_score': f1_best\n",
    "    }\n",
    "\n",
    "# Вывод результатов в таблицу\n",
    "results_df = pd.DataFrame.from_dict(results, orient='index')\n",
    "print(results_df)\n",
    "\n",
    "# Выбор лучшей модели по f1_score\n",
    "best_model_name = results_df['f1_score'].idxmax()\n",
    "best_model = models[best_model_name]\n",
    "print(f\"\\nBest Model: {best_model}\")"
   ]
  },
  {
   "cell_type": "markdown",
   "metadata": {},
   "source": [
    "Лучшая модель с результатом F1_score=0.763 становится LogisticRegression. Незначительно ей уступила модель LinearSVC с F1_score=0.76. Обе модели продемонстрировали по сути одинаковый результат, однако отметим что модель LinearSVC справляется значительно быстрое как в части обучения, так и в части получения предсказаний. \n",
    "<br>Таким образом, лучшей моделью для выполнения поставленной задачи является LinearSVC. Поэтому именно модель LinearSVC с соответствующими лучшими гиперпараметрами далее будет проверена на нашей тестовой выборке."
   ]
  },
  {
   "cell_type": "code",
   "execution_count": 22,
   "metadata": {},
   "outputs": [
    {
     "data": {
      "text/plain": [
       "0.785897655314051"
      ]
     },
     "execution_count": 22,
     "metadata": {},
     "output_type": "execute_result"
    }
   ],
   "source": [
    "# Проверим модель LinearSVC на тестовых данных\n",
    "\n",
    "model = LinearSVC(C=1, random_state=42)\n",
    "\n",
    "model.fit(X_train_tfidf, y_train)\n",
    "\n",
    "y_pred = model.predict(X_test_tfidf)\n",
    "\n",
    "f1_score(y_test, y_pred)"
   ]
  },
  {
   "cell_type": "markdown",
   "metadata": {},
   "source": [
    "Модель LinearSVC на тестовых данных продемонстрировала F1_score = 0.786, что удовлетворяет условиям поставленной задачи, F1_score > 0.75. "
   ]
  },
  {
   "cell_type": "markdown",
   "metadata": {},
   "source": [
    "## Выводы"
   ]
  },
  {
   "cell_type": "markdown",
   "metadata": {},
   "source": [
    "В ходе выполнения проекта была успешно решена задача разработки модели машинного обучения для классификации комментариев на позитивные и негативные (токсичные).\n",
    "<br>\n",
    "<br>Основные результаты исследования показали, что:\n",
    "<br>1. Предложенная методология предобработки текстовых данных (очистка, токенизация, удаление стоп-слов, лемматизация) позволила эффективно подготовить данные для анализа\n",
    "<br>2. Проблема дисбаланса классов была успешно решена с помощью стратифицированной выборки и настройки весов классов\n",
    "<br>3. Из протестированных моделей наилучшие результаты продемонстрировали модели LogisticRegression и LinearSVC. Ввиду равенства по метрике F1-score и наличия существенной разницы по времени обучения и предсказания, наилучшей моделью для решения поставленной задачи выбрана модель LinearSVC.\n",
    "<br><br>При проверке качества модели LinearSVC на тестовых данных значение F1-score составило 0.786, что удовлетворяет условиям поставленной задачи, F1_score > 0.75.\n",
    "<br><br>Рекомендации по внедрению:\n",
    "<br>Использовать модель LinearSVC как оптимальное решение для поставленной задачи,учитывая время обучения и предсказания при масштабировании системы,\n",
    "<br>Провести дополнительную валидацию на реальных данных перед промышленным внедрением.</b>\n",
    "<br><br>Таким образом, цель проекта достигнута: разработана и обучена модель, способная эффективно классифицировать комментарии с требуемым качеством. Результаты исследования могут быть использованы для автоматизации модерации контента и анализа пользовательских отзывов."
   ]
  }
 ],
 "metadata": {
  "ExecuteTimeLog": [
   {
    "duration": 2739,
    "start_time": "2025-08-05T17:24:29.118Z"
   },
   {
    "duration": 1005,
    "start_time": "2025-08-05T17:24:31.858Z"
   },
   {
    "duration": 21,
    "start_time": "2025-08-05T17:31:09.214Z"
   },
   {
    "duration": 489,
    "start_time": "2025-08-05T17:38:26.741Z"
   },
   {
    "duration": 4597,
    "start_time": "2025-08-05T18:09:56.610Z"
   },
   {
    "duration": 251165,
    "start_time": "2025-08-05T18:10:27.533Z"
   },
   {
    "duration": 204,
    "start_time": "2025-08-05T18:30:16.656Z"
   },
   {
    "duration": 36,
    "start_time": "2025-08-05T18:30:22.003Z"
   },
   {
    "duration": 2681,
    "start_time": "2025-08-05T18:35:02.751Z"
   },
   {
    "duration": 1064,
    "start_time": "2025-08-05T18:35:05.434Z"
   },
   {
    "duration": 20,
    "start_time": "2025-08-05T18:35:06.500Z"
   },
   {
    "duration": 3265,
    "start_time": "2025-08-05T18:35:06.522Z"
   },
   {
    "duration": 243762,
    "start_time": "2025-08-05T18:35:09.790Z"
   },
   {
    "duration": 27,
    "start_time": "2025-08-05T18:39:13.554Z"
   },
   {
    "duration": 53,
    "start_time": "2025-08-05T18:46:23.103Z"
   },
   {
    "duration": 2549,
    "start_time": "2025-08-05T18:48:40.491Z"
   },
   {
    "duration": 944,
    "start_time": "2025-08-05T18:48:43.042Z"
   },
   {
    "duration": 17,
    "start_time": "2025-08-05T18:48:43.987Z"
   },
   {
    "duration": 2701,
    "start_time": "2025-08-05T18:48:44.006Z"
   },
   {
    "duration": 224618,
    "start_time": "2025-08-05T18:48:46.709Z"
   },
   {
    "duration": 20,
    "start_time": "2025-08-05T18:52:31.329Z"
   },
   {
    "duration": 2314,
    "start_time": "2025-08-06T12:29:14.212Z"
   },
   {
    "duration": 900,
    "start_time": "2025-08-06T12:29:16.527Z"
   },
   {
    "duration": 15,
    "start_time": "2025-08-06T12:29:17.429Z"
   },
   {
    "duration": 1803,
    "start_time": "2025-08-06T12:29:17.446Z"
   },
   {
    "duration": 223840,
    "start_time": "2025-08-06T12:29:19.251Z"
   },
   {
    "duration": 22,
    "start_time": "2025-08-06T12:33:03.093Z"
   },
   {
    "duration": 48,
    "start_time": "2025-08-06T16:20:08.526Z"
   },
   {
    "duration": 2169,
    "start_time": "2025-08-06T16:20:21.251Z"
   },
   {
    "duration": 1784,
    "start_time": "2025-08-06T16:20:59.451Z"
   },
   {
    "duration": 249,
    "start_time": "2025-08-06T16:21:07.417Z"
   },
   {
    "duration": 843,
    "start_time": "2025-08-06T16:21:30.140Z"
   },
   {
    "duration": 17,
    "start_time": "2025-08-06T16:21:32.194Z"
   },
   {
    "duration": 177,
    "start_time": "2025-08-06T16:21:34.095Z"
   },
   {
    "duration": 215765,
    "start_time": "2025-08-06T16:21:36.125Z"
   },
   {
    "duration": 2518,
    "start_time": "2025-08-11T15:01:05.154Z"
   },
   {
    "duration": 976,
    "start_time": "2025-08-11T15:01:07.674Z"
   },
   {
    "duration": 33,
    "start_time": "2025-08-11T15:01:08.652Z"
   },
   {
    "duration": 2101,
    "start_time": "2025-08-11T15:01:08.693Z"
   },
   {
    "duration": 269401,
    "start_time": "2025-08-11T15:01:10.796Z"
   },
   {
    "duration": 2182,
    "start_time": "2025-08-14T15:25:15.729Z"
   },
   {
    "duration": 927,
    "start_time": "2025-08-14T15:25:17.913Z"
   },
   {
    "duration": 16,
    "start_time": "2025-08-14T15:25:19.339Z"
   },
   {
    "duration": 33,
    "start_time": "2025-08-14T15:38:27.534Z"
   },
   {
    "duration": 222,
    "start_time": "2025-08-14T15:38:51.876Z"
   },
   {
    "duration": 5,
    "start_time": "2025-08-14T17:17:52.909Z"
   },
   {
    "duration": 77,
    "start_time": "2025-08-14T17:23:53.710Z"
   },
   {
    "duration": 4,
    "start_time": "2025-08-14T17:24:00.455Z"
   },
   {
    "duration": 79,
    "start_time": "2025-08-14T17:24:14.781Z"
   },
   {
    "duration": 129,
    "start_time": "2025-08-14T17:24:23.833Z"
   },
   {
    "duration": 556,
    "start_time": "2025-08-14T17:24:42.861Z"
   },
   {
    "duration": 3,
    "start_time": "2025-08-14T17:25:16.840Z"
   },
   {
    "duration": 100,
    "start_time": "2025-08-14T17:25:25.091Z"
   },
   {
    "duration": 91,
    "start_time": "2025-08-14T17:27:10.503Z"
   },
   {
    "duration": 97,
    "start_time": "2025-08-14T17:31:05.012Z"
   },
   {
    "duration": 88,
    "start_time": "2025-08-14T17:31:19.448Z"
   },
   {
    "duration": 91,
    "start_time": "2025-08-14T17:31:28.345Z"
   },
   {
    "duration": 41,
    "start_time": "2025-08-14T17:39:52.957Z"
   },
   {
    "duration": 245,
    "start_time": "2025-08-14T17:40:44.984Z"
   },
   {
    "duration": 39,
    "start_time": "2025-08-14T17:40:51.163Z"
   },
   {
    "duration": 4,
    "start_time": "2025-08-14T17:41:18.214Z"
   },
   {
    "duration": 613,
    "start_time": "2025-08-14T17:41:22.956Z"
   },
   {
    "duration": 10,
    "start_time": "2025-08-14T17:45:50.978Z"
   },
   {
    "duration": 3065,
    "start_time": "2025-08-15T07:58:28.209Z"
   },
   {
    "duration": 906,
    "start_time": "2025-08-15T07:58:31.276Z"
   },
   {
    "duration": 15,
    "start_time": "2025-08-15T07:58:32.183Z"
   },
   {
    "duration": 250,
    "start_time": "2025-08-15T07:58:32.200Z"
   },
   {
    "duration": 122,
    "start_time": "2025-08-15T07:58:32.452Z"
   },
   {
    "duration": 13,
    "start_time": "2025-08-15T07:58:32.575Z"
   },
   {
    "duration": 754,
    "start_time": "2025-08-15T07:58:32.590Z"
   },
   {
    "duration": 2958,
    "start_time": "2025-08-15T10:19:25.386Z"
   },
   {
    "duration": 866,
    "start_time": "2025-08-15T10:19:28.346Z"
   },
   {
    "duration": 21,
    "start_time": "2025-08-15T10:19:29.214Z"
   },
   {
    "duration": 268,
    "start_time": "2025-08-15T10:19:29.237Z"
   },
   {
    "duration": 120,
    "start_time": "2025-08-15T10:19:29.508Z"
   },
   {
    "duration": 16,
    "start_time": "2025-08-15T10:19:29.630Z"
   },
   {
    "duration": 2238,
    "start_time": "2025-08-15T10:19:29.648Z"
   },
   {
    "duration": 4,
    "start_time": "2025-08-15T11:12:56.725Z"
   },
   {
    "duration": 525,
    "start_time": "2025-08-15T11:15:01.402Z"
   },
   {
    "duration": 3,
    "start_time": "2025-08-15T11:15:24.046Z"
   },
   {
    "duration": 76837,
    "start_time": "2025-08-15T11:15:31.546Z"
   },
   {
    "duration": 97,
    "start_time": "2025-08-15T11:17:07.594Z"
   },
   {
    "duration": 8,
    "start_time": "2025-08-15T11:18:08.732Z"
   },
   {
    "duration": 89,
    "start_time": "2025-08-15T11:18:13.241Z"
   },
   {
    "duration": 13,
    "start_time": "2025-08-15T11:18:42.807Z"
   },
   {
    "duration": 12,
    "start_time": "2025-08-15T11:19:20.057Z"
   },
   {
    "duration": 12,
    "start_time": "2025-08-15T11:19:42.720Z"
   },
   {
    "duration": 4,
    "start_time": "2025-08-15T11:20:21.773Z"
   },
   {
    "duration": 86,
    "start_time": "2025-08-15T11:20:27.393Z"
   },
   {
    "duration": 75731,
    "start_time": "2025-08-15T11:21:52.727Z"
   },
   {
    "duration": 70730,
    "start_time": "2025-08-15T11:24:21.925Z"
   },
   {
    "duration": 13,
    "start_time": "2025-08-15T11:25:56.328Z"
   },
   {
    "duration": 11,
    "start_time": "2025-08-15T14:43:39.076Z"
   },
   {
    "duration": 163,
    "start_time": "2025-08-15T14:43:53.349Z"
   },
   {
    "duration": 3472,
    "start_time": "2025-08-18T19:39:35.476Z"
   },
   {
    "duration": 1019,
    "start_time": "2025-08-18T19:39:38.950Z"
   },
   {
    "duration": 20,
    "start_time": "2025-08-18T19:39:39.972Z"
   },
   {
    "duration": 386,
    "start_time": "2025-08-18T19:39:39.994Z"
   },
   {
    "duration": 192,
    "start_time": "2025-08-18T19:39:40.384Z"
   },
   {
    "duration": 17,
    "start_time": "2025-08-18T19:39:40.578Z"
   },
   {
    "duration": 1357,
    "start_time": "2025-08-18T19:39:40.598Z"
   },
   {
    "duration": 5,
    "start_time": "2025-08-18T19:39:41.957Z"
   },
   {
    "duration": 79352,
    "start_time": "2025-08-18T19:39:41.964Z"
   },
   {
    "duration": 14,
    "start_time": "2025-08-18T19:41:01.318Z"
   },
   {
    "duration": 27,
    "start_time": "2025-08-18T19:41:01.335Z"
   },
   {
    "duration": 197,
    "start_time": "2025-08-18T19:41:01.364Z"
   },
   {
    "duration": 3129,
    "start_time": "2025-08-19T15:19:25.978Z"
   },
   {
    "duration": 904,
    "start_time": "2025-08-19T15:19:29.109Z"
   },
   {
    "duration": 16,
    "start_time": "2025-08-19T15:19:30.015Z"
   },
   {
    "duration": 313,
    "start_time": "2025-08-19T15:19:30.033Z"
   },
   {
    "duration": 134,
    "start_time": "2025-08-19T15:19:30.349Z"
   },
   {
    "duration": 14,
    "start_time": "2025-08-19T15:19:30.485Z"
   },
   {
    "duration": 607,
    "start_time": "2025-08-19T15:19:30.501Z"
   },
   {
    "duration": 4,
    "start_time": "2025-08-19T15:19:31.110Z"
   },
   {
    "duration": 77320,
    "start_time": "2025-08-19T15:19:31.116Z"
   },
   {
    "duration": 17,
    "start_time": "2025-08-19T15:20:48.438Z"
   },
   {
    "duration": 3510,
    "start_time": "2025-08-20T10:26:05.079Z"
   },
   {
    "duration": 1007,
    "start_time": "2025-08-20T10:26:08.591Z"
   },
   {
    "duration": 19,
    "start_time": "2025-08-20T10:26:09.600Z"
   },
   {
    "duration": 274,
    "start_time": "2025-08-20T10:26:09.621Z"
   },
   {
    "duration": 146,
    "start_time": "2025-08-20T10:26:09.897Z"
   },
   {
    "duration": 20,
    "start_time": "2025-08-20T10:26:10.045Z"
   },
   {
    "duration": 482,
    "start_time": "2025-08-20T10:26:10.067Z"
   },
   {
    "duration": 5,
    "start_time": "2025-08-20T10:26:10.551Z"
   },
   {
    "duration": 82618,
    "start_time": "2025-08-20T10:26:10.558Z"
   },
   {
    "duration": 14,
    "start_time": "2025-08-20T10:27:33.178Z"
   },
   {
    "duration": 39,
    "start_time": "2025-08-20T10:27:33.194Z"
   },
   {
    "duration": 3327,
    "start_time": "2025-08-21T06:38:41.086Z"
   },
   {
    "duration": 1010,
    "start_time": "2025-08-21T06:38:44.416Z"
   },
   {
    "duration": 19,
    "start_time": "2025-08-21T06:38:45.428Z"
   },
   {
    "duration": 271,
    "start_time": "2025-08-21T06:38:45.461Z"
   },
   {
    "duration": 177,
    "start_time": "2025-08-21T06:38:45.736Z"
   },
   {
    "duration": 16,
    "start_time": "2025-08-21T06:38:45.917Z"
   },
   {
    "duration": 646,
    "start_time": "2025-08-21T06:38:45.936Z"
   },
   {
    "duration": 5,
    "start_time": "2025-08-21T06:38:46.584Z"
   },
   {
    "duration": 78929,
    "start_time": "2025-08-21T06:38:46.591Z"
   },
   {
    "duration": 13,
    "start_time": "2025-08-21T06:40:05.522Z"
   },
   {
    "duration": 26,
    "start_time": "2025-08-21T06:40:05.537Z"
   },
   {
    "duration": 5,
    "start_time": "2025-08-21T07:28:04.214Z"
   },
   {
    "duration": 1147,
    "start_time": "2025-08-21T07:28:04.222Z"
   },
   {
    "duration": 15,
    "start_time": "2025-08-21T07:28:05.372Z"
   },
   {
    "duration": 504,
    "start_time": "2025-08-21T07:28:05.389Z"
   },
   {
    "duration": 143,
    "start_time": "2025-08-21T07:28:05.896Z"
   },
   {
    "duration": 28,
    "start_time": "2025-08-21T07:28:06.042Z"
   },
   {
    "duration": 27,
    "start_time": "2025-08-21T07:28:06.074Z"
   },
   {
    "duration": 7,
    "start_time": "2025-08-21T07:28:06.103Z"
   },
   {
    "duration": 79582,
    "start_time": "2025-08-21T07:28:06.113Z"
   },
   {
    "duration": 13,
    "start_time": "2025-08-21T07:29:25.698Z"
   },
   {
    "duration": 3187,
    "start_time": "2025-08-21T11:44:12.085Z"
   },
   {
    "duration": 1312,
    "start_time": "2025-08-21T11:44:15.274Z"
   },
   {
    "duration": 17,
    "start_time": "2025-08-21T11:44:16.587Z"
   },
   {
    "duration": 253,
    "start_time": "2025-08-21T11:44:16.606Z"
   },
   {
    "duration": 133,
    "start_time": "2025-08-21T11:44:16.862Z"
   },
   {
    "duration": 14,
    "start_time": "2025-08-21T11:44:16.997Z"
   },
   {
    "duration": 1400,
    "start_time": "2025-08-21T11:44:17.013Z"
   },
   {
    "duration": 4,
    "start_time": "2025-08-21T11:44:18.415Z"
   },
   {
    "duration": 75668,
    "start_time": "2025-08-21T11:44:18.420Z"
   },
   {
    "duration": 11,
    "start_time": "2025-08-21T11:45:34.090Z"
   },
   {
    "duration": 2915,
    "start_time": "2025-08-22T04:16:57.325Z"
   },
   {
    "duration": 1238,
    "start_time": "2025-08-22T04:17:00.242Z"
   },
   {
    "duration": 14,
    "start_time": "2025-08-22T04:17:01.482Z"
   },
   {
    "duration": 259,
    "start_time": "2025-08-22T04:17:01.497Z"
   },
   {
    "duration": 123,
    "start_time": "2025-08-22T04:17:01.758Z"
   },
   {
    "duration": 15,
    "start_time": "2025-08-22T04:17:01.883Z"
   },
   {
    "duration": 617,
    "start_time": "2025-08-22T04:17:01.899Z"
   },
   {
    "duration": 3,
    "start_time": "2025-08-22T04:17:02.518Z"
   },
   {
    "duration": 67223,
    "start_time": "2025-08-22T04:17:02.523Z"
   },
   {
    "duration": 10,
    "start_time": "2025-08-22T04:18:09.748Z"
   },
   {
    "duration": 19,
    "start_time": "2025-08-22T04:33:31.672Z"
   },
   {
    "duration": 8,
    "start_time": "2025-08-23T08:07:48.140Z"
   },
   {
    "duration": 3255,
    "start_time": "2025-08-23T08:07:57.724Z"
   },
   {
    "duration": 838,
    "start_time": "2025-08-23T08:08:00.981Z"
   },
   {
    "duration": 15,
    "start_time": "2025-08-23T08:08:01.821Z"
   },
   {
    "duration": 274,
    "start_time": "2025-08-23T08:08:01.837Z"
   },
   {
    "duration": 120,
    "start_time": "2025-08-23T08:08:02.113Z"
   },
   {
    "duration": 14,
    "start_time": "2025-08-23T08:08:02.234Z"
   },
   {
    "duration": 645,
    "start_time": "2025-08-23T08:08:02.250Z"
   },
   {
    "duration": 3,
    "start_time": "2025-08-23T08:08:02.897Z"
   },
   {
    "duration": 63,
    "start_time": "2025-08-23T08:08:02.901Z"
   },
   {
    "duration": 469961,
    "start_time": "2025-08-23T08:08:15.377Z"
   },
   {
    "duration": 8,
    "start_time": "2025-08-23T08:16:11.725Z"
   },
   {
    "duration": 124,
    "start_time": "2025-08-23T08:16:18.709Z"
   },
   {
    "duration": 230,
    "start_time": "2025-08-23T08:23:35.021Z"
   },
   {
    "duration": 26,
    "start_time": "2025-08-23T08:23:50.792Z"
   },
   {
    "duration": 251,
    "start_time": "2025-08-23T08:23:56.668Z"
   },
   {
    "duration": 223,
    "start_time": "2025-08-23T08:26:47.755Z"
   },
   {
    "duration": 2761,
    "start_time": "2025-08-23T13:17:06.213Z"
   },
   {
    "duration": 786,
    "start_time": "2025-08-23T13:17:08.976Z"
   },
   {
    "duration": 17,
    "start_time": "2025-08-23T13:17:09.763Z"
   },
   {
    "duration": 217,
    "start_time": "2025-08-23T13:17:09.782Z"
   },
   {
    "duration": 105,
    "start_time": "2025-08-23T13:17:10.001Z"
   },
   {
    "duration": 12,
    "start_time": "2025-08-23T13:17:10.107Z"
   },
   {
    "duration": 636,
    "start_time": "2025-08-23T13:17:10.121Z"
   },
   {
    "duration": 4,
    "start_time": "2025-08-23T13:17:10.758Z"
   },
   {
    "duration": 6,
    "start_time": "2025-08-23T13:17:10.763Z"
   },
   {
    "duration": 10,
    "start_time": "2025-08-23T13:17:10.770Z"
   },
   {
    "duration": 451061,
    "start_time": "2025-08-23T13:17:10.781Z"
   },
   {
    "duration": 8,
    "start_time": "2025-08-23T13:24:41.844Z"
   },
   {
    "duration": 271,
    "start_time": "2025-08-23T13:24:41.854Z"
   },
   {
    "duration": 47,
    "start_time": "2025-08-23T13:30:35.600Z"
   },
   {
    "duration": 34,
    "start_time": "2025-08-23T13:31:25.834Z"
   },
   {
    "duration": 10,
    "start_time": "2025-08-23T13:31:59.334Z"
   },
   {
    "duration": 7,
    "start_time": "2025-08-23T13:32:50.252Z"
   },
   {
    "duration": 7,
    "start_time": "2025-08-23T13:32:52.816Z"
   },
   {
    "duration": 7,
    "start_time": "2025-08-23T13:56:56.862Z"
   },
   {
    "duration": 167,
    "start_time": "2025-08-23T17:31:05.493Z"
   },
   {
    "duration": 13,
    "start_time": "2025-08-23T17:31:42.853Z"
   },
   {
    "duration": 7191,
    "start_time": "2025-08-23T17:32:57.644Z"
   },
   {
    "duration": 37,
    "start_time": "2025-08-23T17:33:48.177Z"
   },
   {
    "duration": 2451,
    "start_time": "2025-08-23T17:35:38.670Z"
   },
   {
    "duration": 28,
    "start_time": "2025-08-23T17:35:50.814Z"
   },
   {
    "duration": 3051,
    "start_time": "2025-08-23T17:36:05.483Z"
   },
   {
    "duration": 178,
    "start_time": "2025-08-23T17:36:32.129Z"
   },
   {
    "duration": 15,
    "start_time": "2025-08-23T17:49:52.796Z"
   },
   {
    "duration": 2357,
    "start_time": "2025-08-23T17:50:38.056Z"
   },
   {
    "duration": 4,
    "start_time": "2025-08-23T17:50:40.416Z"
   },
   {
    "duration": 825,
    "start_time": "2025-08-23T17:50:40.422Z"
   },
   {
    "duration": 15,
    "start_time": "2025-08-23T17:50:41.249Z"
   },
   {
    "duration": 220,
    "start_time": "2025-08-23T17:50:41.276Z"
   },
   {
    "duration": 113,
    "start_time": "2025-08-23T17:50:41.498Z"
   },
   {
    "duration": 13,
    "start_time": "2025-08-23T17:50:41.612Z"
   },
   {
    "duration": 137,
    "start_time": "2025-08-23T17:50:41.626Z"
   },
   {
    "duration": 4,
    "start_time": "2025-08-23T17:50:41.764Z"
   },
   {
    "duration": 5,
    "start_time": "2025-08-23T17:50:41.769Z"
   },
   {
    "duration": 5,
    "start_time": "2025-08-23T17:50:41.775Z"
   },
   {
    "duration": 0,
    "start_time": "2025-08-23T17:50:41.781Z"
   },
   {
    "duration": 0,
    "start_time": "2025-08-23T17:50:41.783Z"
   },
   {
    "duration": 0,
    "start_time": "2025-08-23T17:50:41.784Z"
   },
   {
    "duration": 0,
    "start_time": "2025-08-23T17:50:41.785Z"
   },
   {
    "duration": 0,
    "start_time": "2025-08-23T17:50:41.786Z"
   },
   {
    "duration": 0,
    "start_time": "2025-08-23T17:50:41.787Z"
   },
   {
    "duration": 475792,
    "start_time": "2025-08-23T17:51:18.804Z"
   },
   {
    "duration": 7,
    "start_time": "2025-08-23T18:04:23.351Z"
   },
   {
    "duration": 242,
    "start_time": "2025-08-23T18:04:29.687Z"
   },
   {
    "duration": 62,
    "start_time": "2025-08-23T18:04:42.757Z"
   },
   {
    "duration": 8,
    "start_time": "2025-08-23T18:04:45.794Z"
   },
   {
    "duration": 9,
    "start_time": "2025-08-23T18:04:56.590Z"
   },
   {
    "duration": 7,
    "start_time": "2025-08-23T18:05:02.869Z"
   },
   {
    "duration": 96,
    "start_time": "2025-08-23T18:05:10.334Z"
   },
   {
    "duration": 7103,
    "start_time": "2025-08-24T07:03:59.631Z"
   },
   {
    "duration": 3384,
    "start_time": "2025-08-24T07:04:06.736Z"
   },
   {
    "duration": 874,
    "start_time": "2025-08-24T07:04:10.122Z"
   },
   {
    "duration": 15,
    "start_time": "2025-08-24T07:04:10.997Z"
   },
   {
    "duration": 220,
    "start_time": "2025-08-24T07:04:11.014Z"
   },
   {
    "duration": 118,
    "start_time": "2025-08-24T07:04:11.238Z"
   },
   {
    "duration": 14,
    "start_time": "2025-08-24T07:04:11.358Z"
   },
   {
    "duration": 685,
    "start_time": "2025-08-24T07:04:11.374Z"
   },
   {
    "duration": 3,
    "start_time": "2025-08-24T07:04:12.060Z"
   },
   {
    "duration": 7,
    "start_time": "2025-08-24T07:04:12.065Z"
   },
   {
    "duration": 489222,
    "start_time": "2025-08-24T07:04:12.074Z"
   },
   {
    "duration": 8,
    "start_time": "2025-08-24T07:12:21.298Z"
   },
   {
    "duration": 275,
    "start_time": "2025-08-24T07:12:21.307Z"
   },
   {
    "duration": 57,
    "start_time": "2025-08-24T07:12:21.584Z"
   },
   {
    "duration": 8,
    "start_time": "2025-08-24T07:12:21.643Z"
   },
   {
    "duration": 9,
    "start_time": "2025-08-24T07:12:21.653Z"
   },
   {
    "duration": 13,
    "start_time": "2025-08-24T07:12:21.664Z"
   },
   {
    "duration": 170,
    "start_time": "2025-08-24T10:07:56.215Z"
   },
   {
    "duration": 3,
    "start_time": "2025-08-24T10:08:12.440Z"
   },
   {
    "duration": 12,
    "start_time": "2025-08-24T10:08:41.097Z"
   },
   {
    "duration": 7,
    "start_time": "2025-08-24T10:08:54.694Z"
   },
   {
    "duration": 18,
    "start_time": "2025-08-24T10:09:38.008Z"
   },
   {
    "duration": 4,
    "start_time": "2025-08-24T10:18:44.221Z"
   },
   {
    "duration": 3,
    "start_time": "2025-08-24T10:19:21.444Z"
   },
   {
    "duration": 59,
    "start_time": "2025-08-24T10:23:56.018Z"
   },
   {
    "duration": 4369,
    "start_time": "2025-08-24T10:24:01.247Z"
   },
   {
    "duration": 6,
    "start_time": "2025-08-24T10:25:22.505Z"
   },
   {
    "duration": 18,
    "start_time": "2025-08-24T10:28:41.050Z"
   },
   {
    "duration": 10,
    "start_time": "2025-08-24T10:32:36.347Z"
   },
   {
    "duration": 2000,
    "start_time": "2025-08-24T10:52:05.400Z"
   },
   {
    "duration": 20780,
    "start_time": "2025-08-24T10:53:28.964Z"
   },
   {
    "duration": 20676,
    "start_time": "2025-08-24T10:55:00.106Z"
   },
   {
    "duration": 21174,
    "start_time": "2025-08-24T10:58:48.999Z"
   },
   {
    "duration": 13,
    "start_time": "2025-08-24T11:01:28.472Z"
   },
   {
    "duration": 70,
    "start_time": "2025-08-24T11:01:29.758Z"
   },
   {
    "duration": 4456,
    "start_time": "2025-08-24T11:01:35.218Z"
   },
   {
    "duration": 1488,
    "start_time": "2025-08-24T11:02:12.763Z"
   },
   {
    "duration": 8,
    "start_time": "2025-08-24T11:02:41.180Z"
   },
   {
    "duration": 4356,
    "start_time": "2025-08-24T11:20:18.497Z"
   },
   {
    "duration": 4,
    "start_time": "2025-08-24T11:20:40.127Z"
   },
   {
    "duration": 3,
    "start_time": "2025-08-24T11:20:49.000Z"
   },
   {
    "duration": 8,
    "start_time": "2025-08-24T11:22:15.392Z"
   },
   {
    "duration": 5,
    "start_time": "2025-08-24T11:23:13.282Z"
   },
   {
    "duration": 2381,
    "start_time": "2025-08-24T11:25:49.608Z"
   },
   {
    "duration": 2964,
    "start_time": "2025-08-24T11:25:51.991Z"
   },
   {
    "duration": 854,
    "start_time": "2025-08-24T11:25:54.957Z"
   },
   {
    "duration": 15,
    "start_time": "2025-08-24T11:25:55.813Z"
   },
   {
    "duration": 236,
    "start_time": "2025-08-24T11:25:55.838Z"
   },
   {
    "duration": 116,
    "start_time": "2025-08-24T11:25:56.075Z"
   },
   {
    "duration": 14,
    "start_time": "2025-08-24T11:25:56.192Z"
   },
   {
    "duration": 132,
    "start_time": "2025-08-24T11:25:56.208Z"
   },
   {
    "duration": 4,
    "start_time": "2025-08-24T11:25:56.342Z"
   },
   {
    "duration": 5,
    "start_time": "2025-08-24T11:25:56.347Z"
   },
   {
    "duration": 480624,
    "start_time": "2025-08-24T11:25:56.353Z"
   },
   {
    "duration": 7,
    "start_time": "2025-08-24T11:33:56.979Z"
   },
   {
    "duration": 278,
    "start_time": "2025-08-24T11:33:56.987Z"
   },
   {
    "duration": 50,
    "start_time": "2025-08-24T11:33:57.268Z"
   },
   {
    "duration": 21,
    "start_time": "2025-08-24T11:33:57.319Z"
   },
   {
    "duration": 10,
    "start_time": "2025-08-24T11:33:57.342Z"
   },
   {
    "duration": 7,
    "start_time": "2025-08-24T11:33:57.353Z"
   },
   {
    "duration": 3,
    "start_time": "2025-08-24T11:33:57.361Z"
   },
   {
    "duration": 11,
    "start_time": "2025-08-24T11:33:57.366Z"
   },
   {
    "duration": 89,
    "start_time": "2025-08-24T11:33:57.379Z"
   },
   {
    "duration": 4469,
    "start_time": "2025-08-24T11:33:57.470Z"
   },
   {
    "duration": 4,
    "start_time": "2025-08-24T11:34:01.941Z"
   },
   {
    "duration": 220,
    "start_time": "2025-08-24T11:34:01.947Z"
   },
   {
    "duration": 1481,
    "start_time": "2025-08-24T11:36:39.772Z"
   },
   {
    "duration": 21473,
    "start_time": "2025-08-24T11:37:56.495Z"
   },
   {
    "duration": 20835,
    "start_time": "2025-08-24T11:39:03.872Z"
   },
   {
    "duration": 4673,
    "start_time": "2025-08-24T11:49:36.806Z"
   },
   {
    "duration": 5,
    "start_time": "2025-08-24T11:49:44.044Z"
   },
   {
    "duration": 4,
    "start_time": "2025-08-24T11:49:50.151Z"
   },
   {
    "duration": 3816,
    "start_time": "2025-08-24T12:47:41.749Z"
   },
   {
    "duration": 3096,
    "start_time": "2025-08-24T12:47:45.567Z"
   },
   {
    "duration": 0,
    "start_time": "2025-08-24T12:47:48.665Z"
   },
   {
    "duration": 0,
    "start_time": "2025-08-24T12:47:48.666Z"
   },
   {
    "duration": 0,
    "start_time": "2025-08-24T12:47:48.667Z"
   },
   {
    "duration": 0,
    "start_time": "2025-08-24T12:47:48.668Z"
   },
   {
    "duration": 0,
    "start_time": "2025-08-24T12:47:48.669Z"
   },
   {
    "duration": 0,
    "start_time": "2025-08-24T12:47:48.670Z"
   },
   {
    "duration": 0,
    "start_time": "2025-08-24T12:47:48.671Z"
   },
   {
    "duration": 0,
    "start_time": "2025-08-24T12:47:48.672Z"
   },
   {
    "duration": 0,
    "start_time": "2025-08-24T12:47:48.674Z"
   },
   {
    "duration": 0,
    "start_time": "2025-08-24T12:47:48.675Z"
   },
   {
    "duration": 0,
    "start_time": "2025-08-24T12:47:48.676Z"
   },
   {
    "duration": 0,
    "start_time": "2025-08-24T12:47:48.677Z"
   },
   {
    "duration": 0,
    "start_time": "2025-08-24T12:47:48.678Z"
   },
   {
    "duration": 0,
    "start_time": "2025-08-24T12:47:48.679Z"
   },
   {
    "duration": 0,
    "start_time": "2025-08-24T12:47:48.680Z"
   },
   {
    "duration": 0,
    "start_time": "2025-08-24T12:47:48.681Z"
   },
   {
    "duration": 0,
    "start_time": "2025-08-24T12:47:48.682Z"
   },
   {
    "duration": 0,
    "start_time": "2025-08-24T12:47:48.683Z"
   },
   {
    "duration": 0,
    "start_time": "2025-08-24T12:47:48.684Z"
   },
   {
    "duration": 0,
    "start_time": "2025-08-24T12:47:48.684Z"
   },
   {
    "duration": 0,
    "start_time": "2025-08-24T12:47:48.686Z"
   },
   {
    "duration": 5,
    "start_time": "2025-08-24T12:48:53.012Z"
   },
   {
    "duration": 869,
    "start_time": "2025-08-24T12:48:53.019Z"
   },
   {
    "duration": 14,
    "start_time": "2025-08-24T12:48:53.890Z"
   },
   {
    "duration": 246,
    "start_time": "2025-08-24T12:48:53.906Z"
   },
   {
    "duration": 117,
    "start_time": "2025-08-24T12:48:54.154Z"
   },
   {
    "duration": 15,
    "start_time": "2025-08-24T12:48:54.272Z"
   },
   {
    "duration": 121,
    "start_time": "2025-08-24T12:48:54.288Z"
   },
   {
    "duration": 3,
    "start_time": "2025-08-24T12:48:54.411Z"
   },
   {
    "duration": 16,
    "start_time": "2025-08-24T12:48:54.416Z"
   },
   {
    "duration": 490212,
    "start_time": "2025-08-24T12:48:54.434Z"
   },
   {
    "duration": 9,
    "start_time": "2025-08-24T12:57:04.648Z"
   },
   {
    "duration": 269,
    "start_time": "2025-08-24T12:57:04.658Z"
   },
   {
    "duration": 55,
    "start_time": "2025-08-24T12:57:04.928Z"
   },
   {
    "duration": 7,
    "start_time": "2025-08-24T12:57:04.986Z"
   },
   {
    "duration": 15,
    "start_time": "2025-08-24T12:57:04.994Z"
   },
   {
    "duration": 34,
    "start_time": "2025-08-24T12:57:05.011Z"
   },
   {
    "duration": 8,
    "start_time": "2025-08-24T12:57:05.046Z"
   },
   {
    "duration": 31,
    "start_time": "2025-08-24T12:57:05.056Z"
   },
   {
    "duration": 81,
    "start_time": "2025-08-24T12:57:05.088Z"
   },
   {
    "duration": 4383,
    "start_time": "2025-08-24T12:57:05.170Z"
   },
   {
    "duration": 4,
    "start_time": "2025-08-24T12:57:09.555Z"
   },
   {
    "duration": 47,
    "start_time": "2025-08-24T12:57:09.561Z"
   },
   {
    "duration": 38,
    "start_time": "2025-08-24T13:22:37.264Z"
   },
   {
    "duration": 24,
    "start_time": "2025-08-24T13:22:57.361Z"
   },
   {
    "duration": 24,
    "start_time": "2025-08-24T13:23:48.250Z"
   },
   {
    "duration": 1409,
    "start_time": "2025-08-24T13:25:37.053Z"
   },
   {
    "duration": 13,
    "start_time": "2025-08-24T13:26:04.218Z"
   },
   {
    "duration": 69,
    "start_time": "2025-08-24T13:26:05.301Z"
   },
   {
    "duration": 4550,
    "start_time": "2025-08-24T13:26:08.024Z"
   },
   {
    "duration": 4483,
    "start_time": "2025-08-24T13:28:07.901Z"
   },
   {
    "duration": 8694557,
    "start_time": "2025-08-24T13:28:15.937Z"
   },
   {
    "duration": 22,
    "start_time": "2025-08-24T15:59:23.038Z"
   },
   {
    "duration": 304289,
    "start_time": "2025-08-24T15:59:52.078Z"
   },
   {
    "duration": 298672,
    "start_time": "2025-08-24T16:07:33.703Z"
   },
   {
    "duration": 1916553,
    "start_time": "2025-08-24T16:31:19.756Z"
   },
   {
    "duration": 9832,
    "start_time": "2025-08-24T18:47:49.859Z"
   },
   {
    "duration": 4087,
    "start_time": "2025-08-24T18:47:59.694Z"
   },
   {
    "duration": 1326,
    "start_time": "2025-08-24T18:48:03.784Z"
   },
   {
    "duration": 24,
    "start_time": "2025-08-24T18:48:05.112Z"
   },
   {
    "duration": 322,
    "start_time": "2025-08-24T18:48:05.138Z"
   },
   {
    "duration": 173,
    "start_time": "2025-08-24T18:48:05.462Z"
   },
   {
    "duration": 23,
    "start_time": "2025-08-24T18:48:05.638Z"
   },
   {
    "duration": 895,
    "start_time": "2025-08-24T18:48:05.664Z"
   },
   {
    "duration": 6,
    "start_time": "2025-08-24T18:48:06.561Z"
   },
   {
    "duration": 17,
    "start_time": "2025-08-24T18:48:06.572Z"
   },
   {
    "duration": 656955,
    "start_time": "2025-08-24T18:48:06.592Z"
   },
   {
    "duration": 24,
    "start_time": "2025-08-24T18:59:03.549Z"
   },
   {
    "duration": 359,
    "start_time": "2025-08-24T18:59:03.575Z"
   },
   {
    "duration": 74,
    "start_time": "2025-08-24T18:59:03.936Z"
   },
   {
    "duration": 10,
    "start_time": "2025-08-24T18:59:04.012Z"
   },
   {
    "duration": 18,
    "start_time": "2025-08-24T18:59:04.024Z"
   },
   {
    "duration": 12,
    "start_time": "2025-08-24T18:59:04.060Z"
   },
   {
    "duration": 4,
    "start_time": "2025-08-24T18:59:04.076Z"
   },
   {
    "duration": 23,
    "start_time": "2025-08-24T18:59:04.083Z"
   },
   {
    "duration": 115,
    "start_time": "2025-08-24T18:59:04.109Z"
   },
   {
    "duration": 5969,
    "start_time": "2025-08-24T18:59:04.227Z"
   },
   {
    "duration": 185,
    "start_time": "2025-08-24T18:59:10.198Z"
   },
   {
    "duration": 0,
    "start_time": "2025-08-24T18:59:10.385Z"
   },
   {
    "duration": 349679,
    "start_time": "2025-08-24T19:05:15.910Z"
   },
   {
    "duration": 354059,
    "start_time": "2025-08-24T19:15:33.851Z"
   },
   {
    "duration": 5773738,
    "start_time": "2025-08-24T19:24:42.441Z"
   },
   {
    "duration": 11,
    "start_time": "2025-08-24T21:07:15.990Z"
   },
   {
    "duration": 8914,
    "start_time": "2025-08-25T09:57:54.171Z"
   },
   {
    "duration": 3413,
    "start_time": "2025-08-25T09:58:03.087Z"
   },
   {
    "duration": 941,
    "start_time": "2025-08-25T09:58:06.502Z"
   },
   {
    "duration": 30,
    "start_time": "2025-08-25T09:58:07.444Z"
   },
   {
    "duration": 256,
    "start_time": "2025-08-25T09:58:07.476Z"
   },
   {
    "duration": 142,
    "start_time": "2025-08-25T09:58:07.734Z"
   },
   {
    "duration": 14,
    "start_time": "2025-08-25T09:58:07.878Z"
   },
   {
    "duration": 732,
    "start_time": "2025-08-25T09:58:07.893Z"
   },
   {
    "duration": 4,
    "start_time": "2025-08-25T09:58:08.627Z"
   },
   {
    "duration": 58,
    "start_time": "2025-08-25T09:58:08.632Z"
   },
   {
    "duration": 570642,
    "start_time": "2025-08-25T09:58:08.692Z"
   },
   {
    "duration": 9,
    "start_time": "2025-08-25T10:07:39.335Z"
   },
   {
    "duration": 294,
    "start_time": "2025-08-25T10:07:39.354Z"
   },
   {
    "duration": 50,
    "start_time": "2025-08-25T10:07:39.653Z"
   },
   {
    "duration": 9,
    "start_time": "2025-08-25T10:07:39.704Z"
   },
   {
    "duration": 40,
    "start_time": "2025-08-25T10:07:39.715Z"
   },
   {
    "duration": 9,
    "start_time": "2025-08-25T10:07:39.757Z"
   },
   {
    "duration": 6,
    "start_time": "2025-08-25T10:07:39.767Z"
   },
   {
    "duration": 13,
    "start_time": "2025-08-25T10:07:39.775Z"
   },
   {
    "duration": 88,
    "start_time": "2025-08-25T10:07:39.789Z"
   },
   {
    "duration": 5001,
    "start_time": "2025-08-25T10:07:39.879Z"
   },
   {
    "duration": 3268172,
    "start_time": "2025-08-25T10:07:44.883Z"
   },
   {
    "duration": 0,
    "start_time": "2025-08-25T11:02:13.058Z"
   },
   {
    "duration": 1427,
    "start_time": "2025-08-25T11:08:43.149Z"
   },
   {
    "duration": 1848,
    "start_time": "2025-08-25T11:09:26.309Z"
   },
   {
    "duration": 1490,
    "start_time": "2025-08-25T11:10:04.002Z"
   },
   {
    "duration": 9,
    "start_time": "2025-08-25T11:10:09.868Z"
   },
   {
    "duration": 1419,
    "start_time": "2025-08-25T11:10:30.645Z"
   },
   {
    "duration": 1445,
    "start_time": "2025-08-25T11:14:57.586Z"
   },
   {
    "duration": 1516,
    "start_time": "2025-08-25T11:15:15.458Z"
   },
   {
    "duration": 2568,
    "start_time": "2025-08-25T11:15:47.266Z"
   },
   {
    "duration": 13,
    "start_time": "2025-08-25T11:18:35.572Z"
   },
   {
    "duration": 0,
    "start_time": "2025-08-25T11:27:40.075Z"
   },
   {
    "duration": 3216585,
    "start_time": "2025-08-25T11:27:45.042Z"
   },
   {
    "duration": 14,
    "start_time": "2025-08-25T13:17:48.597Z"
   },
   {
    "duration": 2,
    "start_time": "2025-08-25T13:17:53.603Z"
   },
   {
    "duration": 16,
    "start_time": "2025-08-25T13:20:48.208Z"
   },
   {
    "duration": 29748,
    "start_time": "2025-08-25T13:21:09.017Z"
   },
   {
    "duration": 1106,
    "start_time": "2025-08-25T13:23:24.374Z"
   },
   {
    "duration": 10,
    "start_time": "2025-08-25T14:59:06.075Z"
   },
   {
    "duration": 2720,
    "start_time": "2025-08-25T15:08:31.895Z"
   },
   {
    "duration": 3098,
    "start_time": "2025-08-25T15:08:34.618Z"
   },
   {
    "duration": 972,
    "start_time": "2025-08-25T15:08:37.718Z"
   },
   {
    "duration": 15,
    "start_time": "2025-08-25T15:08:38.692Z"
   },
   {
    "duration": 267,
    "start_time": "2025-08-25T15:08:38.710Z"
   },
   {
    "duration": 130,
    "start_time": "2025-08-25T15:08:38.979Z"
   },
   {
    "duration": 12,
    "start_time": "2025-08-25T15:08:39.111Z"
   },
   {
    "duration": 262,
    "start_time": "2025-08-25T15:08:39.125Z"
   },
   {
    "duration": 5,
    "start_time": "2025-08-25T15:08:39.388Z"
   },
   {
    "duration": 55,
    "start_time": "2025-08-25T15:08:39.394Z"
   },
   {
    "duration": 565078,
    "start_time": "2025-08-25T15:08:39.451Z"
   },
   {
    "duration": 9,
    "start_time": "2025-08-25T15:18:04.531Z"
   },
   {
    "duration": 320,
    "start_time": "2025-08-25T15:18:04.542Z"
   },
   {
    "duration": 58,
    "start_time": "2025-08-25T15:18:04.866Z"
   },
   {
    "duration": 31,
    "start_time": "2025-08-25T15:18:04.926Z"
   },
   {
    "duration": 24,
    "start_time": "2025-08-25T15:18:04.959Z"
   },
   {
    "duration": 13,
    "start_time": "2025-08-25T15:18:04.985Z"
   },
   {
    "duration": 18,
    "start_time": "2025-08-25T15:18:05.000Z"
   },
   {
    "duration": 86,
    "start_time": "2025-08-25T15:18:05.020Z"
   },
   {
    "duration": 5016,
    "start_time": "2025-08-25T15:18:05.109Z"
   },
   {
    "duration": 3178155,
    "start_time": "2025-08-25T15:18:10.127Z"
   },
   {
    "duration": 29581,
    "start_time": "2025-08-25T16:11:08.284Z"
   },
   {
    "duration": 1296,
    "start_time": "2025-08-25T16:11:37.867Z"
   },
   {
    "duration": 2612,
    "start_time": "2025-08-25T17:17:51.598Z"
   },
   {
    "duration": 2942,
    "start_time": "2025-08-25T17:17:54.212Z"
   },
   {
    "duration": 910,
    "start_time": "2025-08-25T17:17:57.156Z"
   },
   {
    "duration": 14,
    "start_time": "2025-08-25T17:17:58.067Z"
   },
   {
    "duration": 256,
    "start_time": "2025-08-25T17:17:58.083Z"
   },
   {
    "duration": 129,
    "start_time": "2025-08-25T17:17:58.341Z"
   },
   {
    "duration": 17,
    "start_time": "2025-08-25T17:17:58.472Z"
   },
   {
    "duration": 269,
    "start_time": "2025-08-25T17:17:58.491Z"
   },
   {
    "duration": 4,
    "start_time": "2025-08-25T17:17:58.762Z"
   },
   {
    "duration": 36,
    "start_time": "2025-08-25T17:17:58.769Z"
   },
   {
    "duration": 548635,
    "start_time": "2025-08-25T17:17:58.806Z"
   },
   {
    "duration": 16,
    "start_time": "2025-08-25T17:27:07.443Z"
   },
   {
    "duration": 301,
    "start_time": "2025-08-25T17:27:07.461Z"
   },
   {
    "duration": 58,
    "start_time": "2025-08-25T17:27:07.765Z"
   },
   {
    "duration": 8,
    "start_time": "2025-08-25T17:27:07.825Z"
   },
   {
    "duration": 9,
    "start_time": "2025-08-25T17:27:07.855Z"
   },
   {
    "duration": 29,
    "start_time": "2025-08-25T17:27:07.865Z"
   },
   {
    "duration": 35,
    "start_time": "2025-08-25T17:27:07.896Z"
   },
   {
    "duration": 75,
    "start_time": "2025-08-25T17:27:07.932Z"
   },
   {
    "duration": 4953,
    "start_time": "2025-08-25T17:27:08.009Z"
   },
   {
    "duration": 3261000,
    "start_time": "2025-08-25T17:27:12.963Z"
   },
   {
    "duration": 28348,
    "start_time": "2025-08-25T18:22:07.520Z"
   },
   {
    "duration": 1299,
    "start_time": "2025-08-25T18:22:41.940Z"
   },
   {
    "duration": 457354,
    "start_time": "2025-08-25T18:24:34.581Z"
   },
   {
    "duration": 11,
    "start_time": "2025-08-25T18:32:34.492Z"
   },
   {
    "duration": 3186034,
    "start_time": "2025-08-25T18:33:03.754Z"
   },
   {
    "duration": 30725,
    "start_time": "2025-08-25T19:38:50.830Z"
   },
   {
    "duration": 1201,
    "start_time": "2025-08-25T19:39:25.379Z"
   },
   {
    "duration": 2694,
    "start_time": "2025-08-25T20:15:19.385Z"
   },
   {
    "duration": 2964,
    "start_time": "2025-08-25T20:15:22.081Z"
   },
   {
    "duration": 952,
    "start_time": "2025-08-25T20:15:25.047Z"
   },
   {
    "duration": 14,
    "start_time": "2025-08-25T20:15:26.000Z"
   },
   {
    "duration": 269,
    "start_time": "2025-08-25T20:15:26.017Z"
   },
   {
    "duration": 153,
    "start_time": "2025-08-25T20:15:26.288Z"
   },
   {
    "duration": 23,
    "start_time": "2025-08-25T20:15:26.443Z"
   },
   {
    "duration": 247,
    "start_time": "2025-08-25T20:15:26.468Z"
   },
   {
    "duration": 4,
    "start_time": "2025-08-25T20:15:26.716Z"
   },
   {
    "duration": 7,
    "start_time": "2025-08-25T20:15:26.722Z"
   },
   {
    "duration": 570200,
    "start_time": "2025-08-25T20:15:26.730Z"
   },
   {
    "duration": 10,
    "start_time": "2025-08-25T20:24:56.932Z"
   },
   {
    "duration": 295,
    "start_time": "2025-08-25T20:24:56.955Z"
   },
   {
    "duration": 58,
    "start_time": "2025-08-25T20:24:57.256Z"
   },
   {
    "duration": 9,
    "start_time": "2025-08-25T20:24:57.316Z"
   },
   {
    "duration": 30,
    "start_time": "2025-08-25T20:24:57.328Z"
   },
   {
    "duration": 14,
    "start_time": "2025-08-25T20:24:57.360Z"
   },
   {
    "duration": 96,
    "start_time": "2025-08-25T20:24:57.376Z"
   },
   {
    "duration": 68,
    "start_time": "2025-08-25T20:24:57.474Z"
   },
   {
    "duration": 5099,
    "start_time": "2025-08-25T20:24:57.544Z"
   },
   {
    "duration": 3170391,
    "start_time": "2025-08-25T20:25:02.645Z"
   },
   {
    "duration": 1164,
    "start_time": "2025-08-25T21:17:53.038Z"
   }
  ],
  "kernelspec": {
   "display_name": "Python 3 (ipykernel)",
   "language": "python",
   "name": "python3"
  },
  "language_info": {
   "codemirror_mode": {
    "name": "ipython",
    "version": 3
   },
   "file_extension": ".py",
   "mimetype": "text/x-python",
   "name": "python",
   "nbconvert_exporter": "python",
   "pygments_lexer": "ipython3",
   "version": "3.11.5"
  },
  "toc": {
   "base_numbering": 1,
   "nav_menu": {},
   "number_sections": true,
   "sideBar": true,
   "skip_h1_title": true,
   "title_cell": "Содержание",
   "title_sidebar": "Contents",
   "toc_cell": true,
   "toc_position": {
    "height": "calc(100% - 180px)",
    "left": "10px",
    "top": "150px",
    "width": "302.391px"
   },
   "toc_section_display": true,
   "toc_window_display": true
  }
 },
 "nbformat": 4,
 "nbformat_minor": 2
}
