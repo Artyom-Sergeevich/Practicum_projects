{
 "cells": [
  {
   "cell_type": "markdown",
   "metadata": {},
   "source": [
    "Описание проекта\n",
    "<br>\n",
    "Заказчик исследования — Министерство культуры Российской Федерации. \n",
    "<br>\n",
    "Нам необходимо изучить рынок российского кинопроката и выявить текущие тренды. \n",
    "<br>\n",
    "Основное внимание будет уделено фильмам, которые получили государственную поддержку. Необходимо будет оценить, насколько такие фильмы интересны зрителю, их кассовые сборы в кинотеатрах и окупаемость в прокате.\n",
    "<br>\n",
    "Работать мы будем с данными, опубликованными на портале открытых данных Министерства культуры. Набор данных содержит информацию о прокатных удостоверениях, сборах и государственной поддержке фильмов, а также информацию с сайта КиноПоиск."
   ]
  },
  {
   "cell_type": "markdown",
   "metadata": {
    "id": "sIfNaMOxgFyK"
   },
   "source": [
    "## Исследование данных о российском кинопрокате\n",
    "\n"
   ]
  },
  {
   "cell_type": "markdown",
   "metadata": {
    "id": "3bSlkCsbgFyL"
   },
   "source": [
    "### Шаг 1. Откройте файлы с данными и объедините их в один датафрейм. \n",
    "\n",
    "Объедините данные таким образом, чтобы все объекты из датасета `mkrf_movies` обязательно вошли в получившийся датафрейм. \n",
    "\n",
    "<div id=\"accordion\">\n",
    "    <div class=\"card\">\n",
    "        <div class=\"card-header\" id=\"headingThree\">\n",
    "            <button class=\"btn btn-link collapsed\" data-toggle=\"collapse\" data-target=\"#collapseHint_0\" aria-expanded=\"false\" aria-controls=\"collapseHint_0\">Подсказка</button>\n",
    "        </div>\n",
    "        <div id=\"collapseHint_0\" class=\"collapse\" aria-labelledby=\"headingThree\" data-parent=\"#accordion\">\n",
    "            <div class=\"card-body\">\n",
    "Обратите внимание на тип данных столбца, по которому будете соединять датафреймы. Тип данных этих столбцов должен быть одинаковым в обоих датафреймах.\n",
    "            </div>\n",
    "        </div>\n",
    "    </div>\n",
    "</div>"
   ]
  },
  {
   "cell_type": "code",
   "execution_count": 61,
   "metadata": {
    "id": "dw87FlzMgFyM"
   },
   "outputs": [],
   "source": [
    "# Импортируем необходимые нам библиотеки\n",
    "import pandas as pd\n",
    "import seaborn as sns\n",
    "import numpy as np\n",
    "import matplotlib.pyplot as plt"
   ]
  },
  {
   "cell_type": "code",
   "execution_count": 62,
   "metadata": {},
   "outputs": [],
   "source": [
    "# Загрузим данные выбрав верный разделитель\n",
    "data_1 = data = pd.read_csv('/datasets/mkrf_movies.csv', sep = ',')\n",
    "data_2 = data = pd.read_csv('/datasets/mkrf_shows.csv', sep = ',')"
   ]
  },
  {
   "cell_type": "code",
   "execution_count": 63,
   "metadata": {},
   "outputs": [
    {
     "name": "stdout",
     "output_type": "stream",
     "text": [
      "<class 'pandas.core.frame.DataFrame'>\n",
      "RangeIndex: 7486 entries, 0 to 7485\n",
      "Data columns (total 15 columns):\n",
      " #   Column                 Non-Null Count  Dtype  \n",
      "---  ------                 --------------  -----  \n",
      " 0   title                  7486 non-null   object \n",
      " 1   puNumber               7486 non-null   object \n",
      " 2   show_start_date        7486 non-null   object \n",
      " 3   type                   7486 non-null   object \n",
      " 4   film_studio            7468 non-null   object \n",
      " 5   production_country     7484 non-null   object \n",
      " 6   director               7477 non-null   object \n",
      " 7   producer               6918 non-null   object \n",
      " 8   age_restriction        7486 non-null   object \n",
      " 9   refundable_support     332 non-null    float64\n",
      " 10  nonrefundable_support  332 non-null    float64\n",
      " 11  budget                 332 non-null    float64\n",
      " 12  financing_source       332 non-null    object \n",
      " 13  ratings                6519 non-null   object \n",
      " 14  genres                 6510 non-null   object \n",
      "dtypes: float64(3), object(12)\n",
      "memory usage: 877.4+ KB\n"
     ]
    },
    {
     "data": {
      "text/html": [
       "<div>\n",
       "<style scoped>\n",
       "    .dataframe tbody tr th:only-of-type {\n",
       "        vertical-align: middle;\n",
       "    }\n",
       "\n",
       "    .dataframe tbody tr th {\n",
       "        vertical-align: top;\n",
       "    }\n",
       "\n",
       "    .dataframe thead th {\n",
       "        text-align: right;\n",
       "    }\n",
       "</style>\n",
       "<table border=\"1\" class=\"dataframe\">\n",
       "  <thead>\n",
       "    <tr style=\"text-align: right;\">\n",
       "      <th></th>\n",
       "      <th>title</th>\n",
       "      <th>puNumber</th>\n",
       "      <th>show_start_date</th>\n",
       "      <th>type</th>\n",
       "      <th>film_studio</th>\n",
       "      <th>production_country</th>\n",
       "      <th>director</th>\n",
       "      <th>producer</th>\n",
       "      <th>age_restriction</th>\n",
       "      <th>refundable_support</th>\n",
       "      <th>nonrefundable_support</th>\n",
       "      <th>budget</th>\n",
       "      <th>financing_source</th>\n",
       "      <th>ratings</th>\n",
       "      <th>genres</th>\n",
       "    </tr>\n",
       "  </thead>\n",
       "  <tbody>\n",
       "    <tr>\n",
       "      <th>0</th>\n",
       "      <td>Открытый простор</td>\n",
       "      <td>221048915</td>\n",
       "      <td>2015-11-27T12:00:00.000Z</td>\n",
       "      <td>Художественный</td>\n",
       "      <td>Тачстоун Пикчерз, Кобальт Пикчерз, Бикон Пикче...</td>\n",
       "      <td>США</td>\n",
       "      <td>Кевин Костнер</td>\n",
       "      <td>Дэвид Валдес, Кевин Костнер, Джейк Эбертс</td>\n",
       "      <td>«18+» - запрещено для детей</td>\n",
       "      <td>NaN</td>\n",
       "      <td>NaN</td>\n",
       "      <td>NaN</td>\n",
       "      <td>NaN</td>\n",
       "      <td>7.2</td>\n",
       "      <td>боевик,драма,мелодрама</td>\n",
       "    </tr>\n",
       "    <tr>\n",
       "      <th>1</th>\n",
       "      <td>Особо важное задание</td>\n",
       "      <td>111013716</td>\n",
       "      <td>2016-09-13T12:00:00.000Z</td>\n",
       "      <td>Художественный</td>\n",
       "      <td>Киностудия \"Мосфильм\"</td>\n",
       "      <td>СССР</td>\n",
       "      <td>Е.Матвеев</td>\n",
       "      <td>NaN</td>\n",
       "      <td>«6+» - для детей старше 6 лет</td>\n",
       "      <td>NaN</td>\n",
       "      <td>NaN</td>\n",
       "      <td>NaN</td>\n",
       "      <td>NaN</td>\n",
       "      <td>6.6</td>\n",
       "      <td>драма,военный</td>\n",
       "    </tr>\n",
       "    <tr>\n",
       "      <th>2</th>\n",
       "      <td>Особо опасен</td>\n",
       "      <td>221038416</td>\n",
       "      <td>2016-10-10T12:00:00.000Z</td>\n",
       "      <td>Художественный</td>\n",
       "      <td>Юниверсал Пикчерз, Кикстарт Продакшнз, Марк Пл...</td>\n",
       "      <td>США</td>\n",
       "      <td>Тимур Бекмамбетов</td>\n",
       "      <td>Джим Лемли, Джейсон Нетер, Марк Е.Платт, Яйн Смит</td>\n",
       "      <td>«18+» - запрещено для детей</td>\n",
       "      <td>NaN</td>\n",
       "      <td>NaN</td>\n",
       "      <td>NaN</td>\n",
       "      <td>NaN</td>\n",
       "      <td>6.8</td>\n",
       "      <td>фантастика,боевик,триллер</td>\n",
       "    </tr>\n",
       "    <tr>\n",
       "      <th>3</th>\n",
       "      <td>Особо опасен</td>\n",
       "      <td>221026916</td>\n",
       "      <td>2016-06-10T12:00:00.000Z</td>\n",
       "      <td>Художественный</td>\n",
       "      <td>Юниверсал Пикчерз, Кикстарт Продакшнз, Марк Пл...</td>\n",
       "      <td>США</td>\n",
       "      <td>Тимур Бекмамбетов</td>\n",
       "      <td>Джим Лемли, Джейсон Нетер, Марк Е.Платт, Яйн Смит</td>\n",
       "      <td>«18+» - запрещено для детей</td>\n",
       "      <td>NaN</td>\n",
       "      <td>NaN</td>\n",
       "      <td>NaN</td>\n",
       "      <td>NaN</td>\n",
       "      <td>6.8</td>\n",
       "      <td>фантастика,боевик,триллер</td>\n",
       "    </tr>\n",
       "    <tr>\n",
       "      <th>4</th>\n",
       "      <td>Особо опасен</td>\n",
       "      <td>221030815</td>\n",
       "      <td>2015-07-29T12:00:00.000Z</td>\n",
       "      <td>Художественный</td>\n",
       "      <td>Юниверсал Пикчерз, Кикстарт Продакшнз, Марк Пл...</td>\n",
       "      <td>США</td>\n",
       "      <td>Тимур Бекмамбетов</td>\n",
       "      <td>Джим Лемли, Джейсон Нетер, Марк Е.Платт, Яйн Смит</td>\n",
       "      <td>«18+» - запрещено для детей</td>\n",
       "      <td>NaN</td>\n",
       "      <td>NaN</td>\n",
       "      <td>NaN</td>\n",
       "      <td>NaN</td>\n",
       "      <td>6.8</td>\n",
       "      <td>фантастика,боевик,триллер</td>\n",
       "    </tr>\n",
       "  </tbody>\n",
       "</table>\n",
       "</div>"
      ],
      "text/plain": [
       "                  title   puNumber           show_start_date            type  \\\n",
       "0      Открытый простор  221048915  2015-11-27T12:00:00.000Z  Художественный   \n",
       "1  Особо важное задание  111013716  2016-09-13T12:00:00.000Z  Художественный   \n",
       "2          Особо опасен  221038416  2016-10-10T12:00:00.000Z  Художественный   \n",
       "3          Особо опасен  221026916  2016-06-10T12:00:00.000Z  Художественный   \n",
       "4          Особо опасен  221030815  2015-07-29T12:00:00.000Z  Художественный   \n",
       "\n",
       "                                         film_studio production_country  \\\n",
       "0  Тачстоун Пикчерз, Кобальт Пикчерз, Бикон Пикче...                США   \n",
       "1                              Киностудия \"Мосфильм\"               СССР   \n",
       "2  Юниверсал Пикчерз, Кикстарт Продакшнз, Марк Пл...                США   \n",
       "3  Юниверсал Пикчерз, Кикстарт Продакшнз, Марк Пл...                США   \n",
       "4  Юниверсал Пикчерз, Кикстарт Продакшнз, Марк Пл...                США   \n",
       "\n",
       "            director                                           producer  \\\n",
       "0      Кевин Костнер          Дэвид Валдес, Кевин Костнер, Джейк Эбертс   \n",
       "1          Е.Матвеев                                                NaN   \n",
       "2  Тимур Бекмамбетов  Джим Лемли, Джейсон Нетер, Марк Е.Платт, Яйн Смит   \n",
       "3  Тимур Бекмамбетов  Джим Лемли, Джейсон Нетер, Марк Е.Платт, Яйн Смит   \n",
       "4  Тимур Бекмамбетов  Джим Лемли, Джейсон Нетер, Марк Е.Платт, Яйн Смит   \n",
       "\n",
       "                 age_restriction  refundable_support  nonrefundable_support  \\\n",
       "0    «18+» - запрещено для детей                 NaN                    NaN   \n",
       "1  «6+» - для детей старше 6 лет                 NaN                    NaN   \n",
       "2    «18+» - запрещено для детей                 NaN                    NaN   \n",
       "3    «18+» - запрещено для детей                 NaN                    NaN   \n",
       "4    «18+» - запрещено для детей                 NaN                    NaN   \n",
       "\n",
       "   budget financing_source ratings                     genres  \n",
       "0     NaN              NaN     7.2     боевик,драма,мелодрама  \n",
       "1     NaN              NaN     6.6              драма,военный  \n",
       "2     NaN              NaN     6.8  фантастика,боевик,триллер  \n",
       "3     NaN              NaN     6.8  фантастика,боевик,триллер  \n",
       "4     NaN              NaN     6.8  фантастика,боевик,триллер  "
      ]
     },
     "execution_count": 63,
     "metadata": {},
     "output_type": "execute_result"
    }
   ],
   "source": [
    "# Ознакомимся с содержанием data_1\n",
    "data_1.info()\n",
    "data_1.head(5)"
   ]
  },
  {
   "cell_type": "code",
   "execution_count": 64,
   "metadata": {},
   "outputs": [
    {
     "name": "stdout",
     "output_type": "stream",
     "text": [
      "<class 'pandas.core.frame.DataFrame'>\n",
      "RangeIndex: 3158 entries, 0 to 3157\n",
      "Data columns (total 2 columns):\n",
      " #   Column      Non-Null Count  Dtype  \n",
      "---  ------      --------------  -----  \n",
      " 0   puNumber    3158 non-null   int64  \n",
      " 1   box_office  3158 non-null   float64\n",
      "dtypes: float64(1), int64(1)\n",
      "memory usage: 49.5 KB\n"
     ]
    },
    {
     "data": {
      "text/html": [
       "<div>\n",
       "<style scoped>\n",
       "    .dataframe tbody tr th:only-of-type {\n",
       "        vertical-align: middle;\n",
       "    }\n",
       "\n",
       "    .dataframe tbody tr th {\n",
       "        vertical-align: top;\n",
       "    }\n",
       "\n",
       "    .dataframe thead th {\n",
       "        text-align: right;\n",
       "    }\n",
       "</style>\n",
       "<table border=\"1\" class=\"dataframe\">\n",
       "  <thead>\n",
       "    <tr style=\"text-align: right;\">\n",
       "      <th></th>\n",
       "      <th>puNumber</th>\n",
       "      <th>box_office</th>\n",
       "    </tr>\n",
       "  </thead>\n",
       "  <tbody>\n",
       "    <tr>\n",
       "      <th>0</th>\n",
       "      <td>111000113</td>\n",
       "      <td>2.450000e+03</td>\n",
       "    </tr>\n",
       "    <tr>\n",
       "      <th>1</th>\n",
       "      <td>111000115</td>\n",
       "      <td>6.104000e+04</td>\n",
       "    </tr>\n",
       "    <tr>\n",
       "      <th>2</th>\n",
       "      <td>111000116</td>\n",
       "      <td>1.530300e+08</td>\n",
       "    </tr>\n",
       "    <tr>\n",
       "      <th>3</th>\n",
       "      <td>111000117</td>\n",
       "      <td>1.226096e+07</td>\n",
       "    </tr>\n",
       "    <tr>\n",
       "      <th>4</th>\n",
       "      <td>111000118</td>\n",
       "      <td>1.636841e+08</td>\n",
       "    </tr>\n",
       "  </tbody>\n",
       "</table>\n",
       "</div>"
      ],
      "text/plain": [
       "    puNumber    box_office\n",
       "0  111000113  2.450000e+03\n",
       "1  111000115  6.104000e+04\n",
       "2  111000116  1.530300e+08\n",
       "3  111000117  1.226096e+07\n",
       "4  111000118  1.636841e+08"
      ]
     },
     "execution_count": 64,
     "metadata": {},
     "output_type": "execute_result"
    }
   ],
   "source": [
    "# Ознакомимся с содержанием data_2\n",
    "data_2.info()\n",
    "data_2.head(5)"
   ]
  },
  {
   "cell_type": "markdown",
   "metadata": {},
   "source": [
    "По объему информации таблицы существенно отличаются:\n",
    "<br>\n",
    "Первый датасет - 15 столбцов и 7486 строк, основной массив данных\n",
    "<br>\n",
    "Второй датасет - 2 столбца и 3158 строк, по сути один параметр, кассовые сборы."
   ]
  },
  {
   "cell_type": "markdown",
   "metadata": {},
   "source": [
    "Объединим таблицы.\n",
    "<br>\n",
    "Но перед этим приведем столбцы 'puNumber' к единому типу данных"
   ]
  },
  {
   "cell_type": "code",
   "execution_count": 65,
   "metadata": {},
   "outputs": [
    {
     "data": {
      "text/plain": [
       "804      111004112\n",
       "3962     111000110\n",
       "4768     111000111\n",
       "729      111000112\n",
       "1128     111000113\n",
       "           ...    \n",
       "4355     226017410\n",
       "3992     226019110\n",
       "1011     231001012\n",
       "5249     231001111\n",
       "1797           нет\n",
       "Name: puNumber, Length: 7486, dtype: object"
      ]
     },
     "execution_count": 65,
     "metadata": {},
     "output_type": "execute_result"
    }
   ],
   "source": [
    "# Приведем к единому формату тип данных 'puNumber', для чего поменяем его в data_1 на 'int'\n",
    "#data_1['puNumber'] = data_1['puNumber'].astype('int') \n",
    "# Не получается поменять тип данных, т.к. в них есть нечисловое значение, отсортируем столбец\n",
    "data_1['puNumber'].sort_values()"
   ]
  },
  {
   "cell_type": "code",
   "execution_count": 66,
   "metadata": {},
   "outputs": [
    {
     "data": {
      "text/plain": [
       "804      111004112\n",
       "1797             0\n",
       "3962     111000110\n",
       "4768     111000111\n",
       "729      111000112\n",
       "           ...    \n",
       "1885     226014714\n",
       "4355     226017410\n",
       "3992     226019110\n",
       "1011     231001012\n",
       "5249     231001111\n",
       "Name: puNumber, Length: 7486, dtype: object"
      ]
     },
     "execution_count": 66,
     "metadata": {},
     "output_type": "execute_result"
    }
   ],
   "source": [
    "# строка с индексом 1797 имеет №ПУ - \"нет\". Исправим 'нет' на 0\n",
    "data_1.loc[1797, 'puNumber'] = '0'\n",
    "# Проверим результат\n",
    "data_1['puNumber'].sort_values()"
   ]
  },
  {
   "cell_type": "code",
   "execution_count": 67,
   "metadata": {},
   "outputs": [],
   "source": [
    "# Вернемся к изменению типа данных data_1['puNumber'] на 'int'\n",
    "data_1['puNumber'] = data_1['puNumber'].astype('int') "
   ]
  },
  {
   "cell_type": "markdown",
   "metadata": {},
   "source": [
    "Объединять таблицы будем путем присоединения второго датасета к первому использовав метод .merge(), how='left', для максимального сохранения первого датасета."
   ]
  },
  {
   "cell_type": "code",
   "execution_count": 68,
   "metadata": {},
   "outputs": [
    {
     "name": "stdout",
     "output_type": "stream",
     "text": [
      "<class 'pandas.core.frame.DataFrame'>\n",
      "Int64Index: 7486 entries, 0 to 7485\n",
      "Data columns (total 16 columns):\n",
      " #   Column                 Non-Null Count  Dtype  \n",
      "---  ------                 --------------  -----  \n",
      " 0   title                  7486 non-null   object \n",
      " 1   puNumber               7486 non-null   int64  \n",
      " 2   show_start_date        7486 non-null   object \n",
      " 3   type                   7486 non-null   object \n",
      " 4   film_studio            7468 non-null   object \n",
      " 5   production_country     7484 non-null   object \n",
      " 6   director               7477 non-null   object \n",
      " 7   producer               6918 non-null   object \n",
      " 8   age_restriction        7486 non-null   object \n",
      " 9   refundable_support     332 non-null    float64\n",
      " 10  nonrefundable_support  332 non-null    float64\n",
      " 11  budget                 332 non-null    float64\n",
      " 12  financing_source       332 non-null    object \n",
      " 13  ratings                6519 non-null   object \n",
      " 14  genres                 6510 non-null   object \n",
      " 15  box_office             3158 non-null   float64\n",
      "dtypes: float64(4), int64(1), object(11)\n",
      "memory usage: 994.2+ KB\n"
     ]
    }
   ],
   "source": [
    "# Объединим таблицы. \n",
    "data = data_1.merge(data_2, on='puNumber', how='left')\n",
    "data.info()"
   ]
  },
  {
   "cell_type": "code",
   "execution_count": 69,
   "metadata": {},
   "outputs": [
    {
     "data": {
      "text/html": [
       "<div>\n",
       "<style scoped>\n",
       "    .dataframe tbody tr th:only-of-type {\n",
       "        vertical-align: middle;\n",
       "    }\n",
       "\n",
       "    .dataframe tbody tr th {\n",
       "        vertical-align: top;\n",
       "    }\n",
       "\n",
       "    .dataframe thead th {\n",
       "        text-align: right;\n",
       "    }\n",
       "</style>\n",
       "<table border=\"1\" class=\"dataframe\">\n",
       "  <thead>\n",
       "    <tr style=\"text-align: right;\">\n",
       "      <th></th>\n",
       "      <th>title</th>\n",
       "      <th>puNumber</th>\n",
       "      <th>show_start_date</th>\n",
       "      <th>type</th>\n",
       "      <th>film_studio</th>\n",
       "      <th>production_country</th>\n",
       "      <th>director</th>\n",
       "      <th>producer</th>\n",
       "      <th>age_restriction</th>\n",
       "      <th>refundable_support</th>\n",
       "      <th>nonrefundable_support</th>\n",
       "      <th>budget</th>\n",
       "      <th>financing_source</th>\n",
       "      <th>ratings</th>\n",
       "      <th>genres</th>\n",
       "      <th>box_office</th>\n",
       "    </tr>\n",
       "  </thead>\n",
       "  <tbody>\n",
       "    <tr>\n",
       "      <th>0</th>\n",
       "      <td>Открытый простор</td>\n",
       "      <td>221048915</td>\n",
       "      <td>2015-11-27T12:00:00.000Z</td>\n",
       "      <td>Художественный</td>\n",
       "      <td>Тачстоун Пикчерз, Кобальт Пикчерз, Бикон Пикче...</td>\n",
       "      <td>США</td>\n",
       "      <td>Кевин Костнер</td>\n",
       "      <td>Дэвид Валдес, Кевин Костнер, Джейк Эбертс</td>\n",
       "      <td>«18+» - запрещено для детей</td>\n",
       "      <td>NaN</td>\n",
       "      <td>NaN</td>\n",
       "      <td>NaN</td>\n",
       "      <td>NaN</td>\n",
       "      <td>7.2</td>\n",
       "      <td>боевик,драма,мелодрама</td>\n",
       "      <td>NaN</td>\n",
       "    </tr>\n",
       "    <tr>\n",
       "      <th>1</th>\n",
       "      <td>Особо важное задание</td>\n",
       "      <td>111013716</td>\n",
       "      <td>2016-09-13T12:00:00.000Z</td>\n",
       "      <td>Художественный</td>\n",
       "      <td>Киностудия \"Мосфильм\"</td>\n",
       "      <td>СССР</td>\n",
       "      <td>Е.Матвеев</td>\n",
       "      <td>NaN</td>\n",
       "      <td>«6+» - для детей старше 6 лет</td>\n",
       "      <td>NaN</td>\n",
       "      <td>NaN</td>\n",
       "      <td>NaN</td>\n",
       "      <td>NaN</td>\n",
       "      <td>6.6</td>\n",
       "      <td>драма,военный</td>\n",
       "      <td>NaN</td>\n",
       "    </tr>\n",
       "    <tr>\n",
       "      <th>2</th>\n",
       "      <td>Особо опасен</td>\n",
       "      <td>221038416</td>\n",
       "      <td>2016-10-10T12:00:00.000Z</td>\n",
       "      <td>Художественный</td>\n",
       "      <td>Юниверсал Пикчерз, Кикстарт Продакшнз, Марк Пл...</td>\n",
       "      <td>США</td>\n",
       "      <td>Тимур Бекмамбетов</td>\n",
       "      <td>Джим Лемли, Джейсон Нетер, Марк Е.Платт, Яйн Смит</td>\n",
       "      <td>«18+» - запрещено для детей</td>\n",
       "      <td>NaN</td>\n",
       "      <td>NaN</td>\n",
       "      <td>NaN</td>\n",
       "      <td>NaN</td>\n",
       "      <td>6.8</td>\n",
       "      <td>фантастика,боевик,триллер</td>\n",
       "      <td>NaN</td>\n",
       "    </tr>\n",
       "    <tr>\n",
       "      <th>3</th>\n",
       "      <td>Особо опасен</td>\n",
       "      <td>221026916</td>\n",
       "      <td>2016-06-10T12:00:00.000Z</td>\n",
       "      <td>Художественный</td>\n",
       "      <td>Юниверсал Пикчерз, Кикстарт Продакшнз, Марк Пл...</td>\n",
       "      <td>США</td>\n",
       "      <td>Тимур Бекмамбетов</td>\n",
       "      <td>Джим Лемли, Джейсон Нетер, Марк Е.Платт, Яйн Смит</td>\n",
       "      <td>«18+» - запрещено для детей</td>\n",
       "      <td>NaN</td>\n",
       "      <td>NaN</td>\n",
       "      <td>NaN</td>\n",
       "      <td>NaN</td>\n",
       "      <td>6.8</td>\n",
       "      <td>фантастика,боевик,триллер</td>\n",
       "      <td>NaN</td>\n",
       "    </tr>\n",
       "    <tr>\n",
       "      <th>4</th>\n",
       "      <td>Особо опасен</td>\n",
       "      <td>221030815</td>\n",
       "      <td>2015-07-29T12:00:00.000Z</td>\n",
       "      <td>Художественный</td>\n",
       "      <td>Юниверсал Пикчерз, Кикстарт Продакшнз, Марк Пл...</td>\n",
       "      <td>США</td>\n",
       "      <td>Тимур Бекмамбетов</td>\n",
       "      <td>Джим Лемли, Джейсон Нетер, Марк Е.Платт, Яйн Смит</td>\n",
       "      <td>«18+» - запрещено для детей</td>\n",
       "      <td>NaN</td>\n",
       "      <td>NaN</td>\n",
       "      <td>NaN</td>\n",
       "      <td>NaN</td>\n",
       "      <td>6.8</td>\n",
       "      <td>фантастика,боевик,триллер</td>\n",
       "      <td>NaN</td>\n",
       "    </tr>\n",
       "  </tbody>\n",
       "</table>\n",
       "</div>"
      ],
      "text/plain": [
       "                  title   puNumber           show_start_date            type  \\\n",
       "0      Открытый простор  221048915  2015-11-27T12:00:00.000Z  Художественный   \n",
       "1  Особо важное задание  111013716  2016-09-13T12:00:00.000Z  Художественный   \n",
       "2          Особо опасен  221038416  2016-10-10T12:00:00.000Z  Художественный   \n",
       "3          Особо опасен  221026916  2016-06-10T12:00:00.000Z  Художественный   \n",
       "4          Особо опасен  221030815  2015-07-29T12:00:00.000Z  Художественный   \n",
       "\n",
       "                                         film_studio production_country  \\\n",
       "0  Тачстоун Пикчерз, Кобальт Пикчерз, Бикон Пикче...                США   \n",
       "1                              Киностудия \"Мосфильм\"               СССР   \n",
       "2  Юниверсал Пикчерз, Кикстарт Продакшнз, Марк Пл...                США   \n",
       "3  Юниверсал Пикчерз, Кикстарт Продакшнз, Марк Пл...                США   \n",
       "4  Юниверсал Пикчерз, Кикстарт Продакшнз, Марк Пл...                США   \n",
       "\n",
       "            director                                           producer  \\\n",
       "0      Кевин Костнер          Дэвид Валдес, Кевин Костнер, Джейк Эбертс   \n",
       "1          Е.Матвеев                                                NaN   \n",
       "2  Тимур Бекмамбетов  Джим Лемли, Джейсон Нетер, Марк Е.Платт, Яйн Смит   \n",
       "3  Тимур Бекмамбетов  Джим Лемли, Джейсон Нетер, Марк Е.Платт, Яйн Смит   \n",
       "4  Тимур Бекмамбетов  Джим Лемли, Джейсон Нетер, Марк Е.Платт, Яйн Смит   \n",
       "\n",
       "                 age_restriction  refundable_support  nonrefundable_support  \\\n",
       "0    «18+» - запрещено для детей                 NaN                    NaN   \n",
       "1  «6+» - для детей старше 6 лет                 NaN                    NaN   \n",
       "2    «18+» - запрещено для детей                 NaN                    NaN   \n",
       "3    «18+» - запрещено для детей                 NaN                    NaN   \n",
       "4    «18+» - запрещено для детей                 NaN                    NaN   \n",
       "\n",
       "   budget financing_source ratings                     genres  box_office  \n",
       "0     NaN              NaN     7.2     боевик,драма,мелодрама         NaN  \n",
       "1     NaN              NaN     6.6              драма,военный         NaN  \n",
       "2     NaN              NaN     6.8  фантастика,боевик,триллер         NaN  \n",
       "3     NaN              NaN     6.8  фантастика,боевик,триллер         NaN  \n",
       "4     NaN              NaN     6.8  фантастика,боевик,триллер         NaN  "
      ]
     },
     "execution_count": 69,
     "metadata": {},
     "output_type": "execute_result"
    }
   ],
   "source": [
    "data.head(5)"
   ]
  },
  {
   "cell_type": "markdown",
   "metadata": {},
   "source": [
    "Количество столбцов стало 16, количество ненулевых значений box_office (3158) соответсвует количесву строк в data_1, следовательно объединение данных прошло корректно"
   ]
  },
  {
   "cell_type": "markdown",
   "metadata": {
    "id": "KLDGpPG0gFyM"
   },
   "source": [
    "### Шаг 2. Предобработка данных"
   ]
  },
  {
   "cell_type": "markdown",
   "metadata": {
    "id": "ssWwKXsxgFyO"
   },
   "source": [
    "#### Шаг 2.1. Проверьте типы данных\n",
    "\n",
    "- Проверьте типы данных в датафрейме и преобразуйте их там, где это необходимо."
   ]
  },
  {
   "cell_type": "markdown",
   "metadata": {},
   "source": [
    "Посмотрим соответствие типа данных в столбцах.\n",
    "<br>\n",
    "show_start_date - необходимо сменить на datetime\n",
    "<br>\n",
    "ratings - необходимо сменить на float"
   ]
  },
  {
   "cell_type": "code",
   "execution_count": 70,
   "metadata": {
    "id": "kVGSplJOgFyO"
   },
   "outputs": [],
   "source": [
    "# Начнем с даты выхода в прокат\n",
    "data['show_start_date'] = pd.to_datetime(data['show_start_date'], format='%Y-%m-%dT%H:%M:%S.%fZ')"
   ]
  },
  {
   "cell_type": "code",
   "execution_count": 71,
   "metadata": {},
   "outputs": [
    {
     "data": {
      "text/plain": [
       "array(['7.2', '6.6', '6.8', '7.7', '8.3', '8.0', '7.8', '8.1', '7.1',\n",
       "       '6.0', '7.4', '5.8', '8.7', '6.3', '6.9', '5.0', '4.3', '7.3',\n",
       "       '7.0', '6.4', nan, '8.2', '7.5', '6.7', '7.9', '5.9', '6.2', '5.6',\n",
       "       '6.5', '2.4', '7.6', '6.1', '8.6', '8.5', '8.8', '5.5', '5.1',\n",
       "       '5.7', '5.4', '99%', '4.4', '4.5', '5.3', '4.1', '8.4', '2.6',\n",
       "       '3.8', '4.6', '4.8', '4.0', '3.0', '1.6', '4.2', '5.2', '4.7',\n",
       "       '4.9', '3.9', '2.7', '3.3', '2.9', '28%', '3.7', '1.4', '3.1',\n",
       "       '97%', '3.5', '3.2', '2.8', '1.5', '2.1', '2.5', '9.2', '3.4',\n",
       "       '1.1', '3.6', '83%', '64%', '91%', '94%', '62%', '79%', '90%',\n",
       "       '19%', '88%', '1.0', '89%', '1.3', '1.9', '1.8', '1.2', '1.7',\n",
       "       '9.0', '98%', '8.9', '9.1'], dtype=object)"
      ]
     },
     "execution_count": 71,
     "metadata": {},
     "output_type": "execute_result"
    }
   ],
   "source": [
    "# Изменим тип в столбце 'ratings'\n",
    "#data['ratings'] = data['ratings'].astype('float') \n",
    "# Не получилось, посмотрим уникальные значения\n",
    "data['ratings'].unique()"
   ]
  },
  {
   "cell_type": "code",
   "execution_count": 72,
   "metadata": {
    "scrolled": false
   },
   "outputs": [
    {
     "data": {
      "text/plain": [
       "array([7.2, 6.6, 6.8, 7.7, 8.3, 8. , 7.8, 8.1, 7.1, 6. , 7.4, 5.8, 8.7,\n",
       "       6.3, 6.9, 5. , 4.3, 7.3, 7. , 6.4, nan, 8.2, 7.5, 6.7, 7.9, 5.9,\n",
       "       6.2, 5.6, 6.5, 2.4, 7.6, 6.1, 8.6, 8.5, 8.8, 5.5, 5.1, 5.7, 5.4,\n",
       "       9.9, 4.4, 4.5, 5.3, 4.1, 8.4, 2.6, 3.8, 4.6, 4.8, 4. , 3. , 1.6,\n",
       "       4.2, 5.2, 4.7, 4.9, 3.9, 2.7, 3.3, 2.9, 2.8, 3.7, 1.4, 3.1, 9.7,\n",
       "       3.5, 3.2, 1.5, 2.1, 2.5, 9.2, 3.4, 1.1, 3.6, 9.1, 9.4, 9. , 1.9,\n",
       "       1. , 8.9, 1.3, 1.8, 1.2, 1.7, 9.8])"
      ]
     },
     "execution_count": 72,
     "metadata": {},
     "output_type": "execute_result"
    }
   ],
   "source": [
    "# Часть рейтингов указаны в процентах. Избавимся от знака '%' в значениях.  \n",
    "data['ratings'] = data['ratings'].replace('\\%', '', regex = True)\n",
    "# Поменяем тип данных и понизим порядок двухзначных чисел\n",
    "data['ratings']= data['ratings'].astype('float64') \n",
    "data.loc[data['ratings'] > 10, 'ratings'] = data['ratings']/10\n",
    "data['ratings'].unique()"
   ]
  },
  {
   "cell_type": "code",
   "execution_count": 73,
   "metadata": {},
   "outputs": [
    {
     "name": "stdout",
     "output_type": "stream",
     "text": [
      "<class 'pandas.core.frame.DataFrame'>\n",
      "Int64Index: 7486 entries, 0 to 7485\n",
      "Data columns (total 16 columns):\n",
      " #   Column                 Non-Null Count  Dtype         \n",
      "---  ------                 --------------  -----         \n",
      " 0   title                  7486 non-null   object        \n",
      " 1   puNumber               7486 non-null   int64         \n",
      " 2   show_start_date        7486 non-null   datetime64[ns]\n",
      " 3   type                   7486 non-null   object        \n",
      " 4   film_studio            7468 non-null   object        \n",
      " 5   production_country     7484 non-null   object        \n",
      " 6   director               7477 non-null   object        \n",
      " 7   producer               6918 non-null   object        \n",
      " 8   age_restriction        7486 non-null   object        \n",
      " 9   refundable_support     332 non-null    float64       \n",
      " 10  nonrefundable_support  332 non-null    float64       \n",
      " 11  budget                 332 non-null    float64       \n",
      " 12  financing_source       332 non-null    object        \n",
      " 13  ratings                6519 non-null   float64       \n",
      " 14  genres                 6510 non-null   object        \n",
      " 15  box_office             3158 non-null   float64       \n",
      "dtypes: datetime64[ns](1), float64(5), int64(1), object(9)\n",
      "memory usage: 1.2+ MB\n"
     ]
    }
   ],
   "source": [
    "data.info()"
   ]
  },
  {
   "cell_type": "markdown",
   "metadata": {},
   "source": [
    "Типы данных в датасете соответствует содержанию"
   ]
  },
  {
   "cell_type": "markdown",
   "metadata": {
    "id": "i0MOLbF-gFyP"
   },
   "source": [
    "#### Шаг 2.2. Изучите пропуски в датафрейме\n",
    "\n",
    "- Объясните, почему заполнили пропуски определённым образом или почему не стали этого делать."
   ]
  },
  {
   "cell_type": "code",
   "execution_count": 74,
   "metadata": {
    "id": "8MJD_lkngFyP",
    "scrolled": true
   },
   "outputs": [
    {
     "data": {
      "text/plain": [
       "title                       0\n",
       "puNumber                    0\n",
       "show_start_date             0\n",
       "type                        0\n",
       "film_studio                18\n",
       "production_country          2\n",
       "director                    9\n",
       "producer                  568\n",
       "age_restriction             0\n",
       "refundable_support       7154\n",
       "nonrefundable_support    7154\n",
       "budget                   7154\n",
       "financing_source         7154\n",
       "ratings                   967\n",
       "genres                    976\n",
       "box_office               4328\n",
       "dtype: int64"
      ]
     },
     "execution_count": 74,
     "metadata": {},
     "output_type": "execute_result"
    }
   ],
   "source": [
    "data.isna().sum()"
   ]
  },
  {
   "cell_type": "markdown",
   "metadata": {},
   "source": [
    "Анализ пропусков по столбцам:\n",
    "<br>\n",
    "film_studio - 18 пропусков. Заполним их заглушкой \"Не указано\"\n",
    "<br>\n",
    "production_country - 2 пропуска, удалим эти строки\n",
    "<br>\n",
    "director - 9 пропусков, удалим эти строки\n",
    "<br>\n",
    "<br>\n",
    "producer - 568 пропусков, придется оставить как есть. Пропусков много, а нормального источника для заполнения нет. Заполним их заглушкой \"Не указано\"\n",
    "<br>\n",
    "<br>\n",
    "refundable_support - 7154 пропуска\n",
    "<br>\n",
    "nonrefundable_support - 7154 пропуска\n",
    "<br>\n",
    "budget - 7154 пропуска\n",
    "<br>\n",
    "financing_source - 7154 пропуска\n",
    "<br>\n",
    "Одинаковое количество пропуков означает, что источник данных единый для них. Заполнить пропуски, не имея схожего источника по остальным проектам, не получится.\n",
    "<br>\n",
    "<br>\n",
    "ratings - 967 пропусков\n",
    "<br>\n",
    "genres - 976 пропусков\n",
    "<br>\n",
    "Оставим как есть. Не пересматривать же их для определения жанра и выставления оценки!\n",
    "\n",
    "box_office - 4328 пропусков. Оставляем.\n"
   ]
  },
  {
   "cell_type": "code",
   "execution_count": 122,
   "metadata": {},
   "outputs": [
    {
     "data": {
      "text/plain": [
       "title                       0\n",
       "puNumber                    0\n",
       "show_start_date             0\n",
       "type                        0\n",
       "film_studio                 0\n",
       "production_country          2\n",
       "director                    9\n",
       "producer                    0\n",
       "age_restriction             0\n",
       "refundable_support       7154\n",
       "nonrefundable_support    7154\n",
       "budget                   7154\n",
       "financing_source         7154\n",
       "ratings                   967\n",
       "genres                    976\n",
       "box_office               4328\n",
       "year                        0\n",
       "main_director               9\n",
       "main_genres               976\n",
       "budget_support_ratio     7154\n",
       "box_office_mln           4328\n",
       "dtype: int64"
      ]
     },
     "execution_count": 122,
     "metadata": {},
     "output_type": "execute_result"
    }
   ],
   "source": [
    "# Обработаем пропуски как мы решили по результатам анализа\n",
    "data['film_studio'] = data['film_studio'].fillna('Не указано')\n",
    "data['producer'] = data['producer'].fillna('Не указано')\n",
    "data.dropna(subset=['production_country'])\n",
    "data.dropna(subset=['director'])\n",
    "data.isna().sum()"
   ]
  },
  {
   "cell_type": "markdown",
   "metadata": {
    "id": "4c6k1t9ygFyQ"
   },
   "source": [
    "#### Шаг 2.3. Изучите дубликаты в датафрейме\n",
    "- Проверьте, есть ли в данных дубликаты. Опишите причины, которые могли повлиять на появление дублей."
   ]
  },
  {
   "cell_type": "code",
   "execution_count": 75,
   "metadata": {
    "id": "aKck8RIdgFyQ"
   },
   "outputs": [
    {
     "data": {
      "text/plain": [
       "0"
      ]
     },
     "execution_count": 75,
     "metadata": {},
     "output_type": "execute_result"
    }
   ],
   "source": [
    "# Проверим на наличие явных дубликатов\n",
    "data.duplicated().sum()"
   ]
  },
  {
   "cell_type": "code",
   "execution_count": 76,
   "metadata": {
    "scrolled": true
   },
   "outputs": [
    {
     "data": {
      "text/html": [
       "<div>\n",
       "<style scoped>\n",
       "    .dataframe tbody tr th:only-of-type {\n",
       "        vertical-align: middle;\n",
       "    }\n",
       "\n",
       "    .dataframe tbody tr th {\n",
       "        vertical-align: top;\n",
       "    }\n",
       "\n",
       "    .dataframe thead th {\n",
       "        text-align: right;\n",
       "    }\n",
       "</style>\n",
       "<table border=\"1\" class=\"dataframe\">\n",
       "  <thead>\n",
       "    <tr style=\"text-align: right;\">\n",
       "      <th></th>\n",
       "      <th>title</th>\n",
       "      <th>puNumber</th>\n",
       "      <th>show_start_date</th>\n",
       "      <th>type</th>\n",
       "      <th>film_studio</th>\n",
       "      <th>production_country</th>\n",
       "      <th>director</th>\n",
       "      <th>producer</th>\n",
       "      <th>age_restriction</th>\n",
       "      <th>refundable_support</th>\n",
       "      <th>nonrefundable_support</th>\n",
       "      <th>budget</th>\n",
       "      <th>financing_source</th>\n",
       "      <th>ratings</th>\n",
       "      <th>genres</th>\n",
       "      <th>box_office</th>\n",
       "    </tr>\n",
       "  </thead>\n",
       "  <tbody>\n",
       "    <tr>\n",
       "      <th>2</th>\n",
       "      <td>Особо опасен</td>\n",
       "      <td>221038416</td>\n",
       "      <td>2016-10-10 12:00:00</td>\n",
       "      <td>Художественный</td>\n",
       "      <td>Юниверсал Пикчерз, Кикстарт Продакшнз, Марк Пл...</td>\n",
       "      <td>США</td>\n",
       "      <td>Тимур Бекмамбетов</td>\n",
       "      <td>Джим Лемли, Джейсон Нетер, Марк Е.Платт, Яйн Смит</td>\n",
       "      <td>«18+» - запрещено для детей</td>\n",
       "      <td>NaN</td>\n",
       "      <td>NaN</td>\n",
       "      <td>NaN</td>\n",
       "      <td>NaN</td>\n",
       "      <td>6.8</td>\n",
       "      <td>фантастика,боевик,триллер</td>\n",
       "      <td>NaN</td>\n",
       "    </tr>\n",
       "    <tr>\n",
       "      <th>3</th>\n",
       "      <td>Особо опасен</td>\n",
       "      <td>221026916</td>\n",
       "      <td>2016-06-10 12:00:00</td>\n",
       "      <td>Художественный</td>\n",
       "      <td>Юниверсал Пикчерз, Кикстарт Продакшнз, Марк Пл...</td>\n",
       "      <td>США</td>\n",
       "      <td>Тимур Бекмамбетов</td>\n",
       "      <td>Джим Лемли, Джейсон Нетер, Марк Е.Платт, Яйн Смит</td>\n",
       "      <td>«18+» - запрещено для детей</td>\n",
       "      <td>NaN</td>\n",
       "      <td>NaN</td>\n",
       "      <td>NaN</td>\n",
       "      <td>NaN</td>\n",
       "      <td>6.8</td>\n",
       "      <td>фантастика,боевик,триллер</td>\n",
       "      <td>NaN</td>\n",
       "    </tr>\n",
       "    <tr>\n",
       "      <th>4</th>\n",
       "      <td>Особо опасен</td>\n",
       "      <td>221030815</td>\n",
       "      <td>2015-07-29 12:00:00</td>\n",
       "      <td>Художественный</td>\n",
       "      <td>Юниверсал Пикчерз, Кикстарт Продакшнз, Марк Пл...</td>\n",
       "      <td>США</td>\n",
       "      <td>Тимур Бекмамбетов</td>\n",
       "      <td>Джим Лемли, Джейсон Нетер, Марк Е.Платт, Яйн Смит</td>\n",
       "      <td>«18+» - запрещено для детей</td>\n",
       "      <td>NaN</td>\n",
       "      <td>NaN</td>\n",
       "      <td>NaN</td>\n",
       "      <td>NaN</td>\n",
       "      <td>6.8</td>\n",
       "      <td>фантастика,боевик,триллер</td>\n",
       "      <td>NaN</td>\n",
       "    </tr>\n",
       "    <tr>\n",
       "      <th>12</th>\n",
       "      <td>Малышка на миллион /По мотивам рассказов Ф.Х.Т...</td>\n",
       "      <td>221011415</td>\n",
       "      <td>2015-04-03 12:00:00</td>\n",
       "      <td>Художественный</td>\n",
       "      <td>Уорнер Бразерс, Лейкшор Интертейнмент, Малпасо...</td>\n",
       "      <td>США</td>\n",
       "      <td>Клинт Иствуд</td>\n",
       "      <td>Клинт Иствуд, Том Розенберг, Альберт С.Рудди, ...</td>\n",
       "      <td>«16+» - для детей старше 16 лет</td>\n",
       "      <td>NaN</td>\n",
       "      <td>NaN</td>\n",
       "      <td>NaN</td>\n",
       "      <td>NaN</td>\n",
       "      <td>8.1</td>\n",
       "      <td>драма,спорт</td>\n",
       "      <td>NaN</td>\n",
       "    </tr>\n",
       "    <tr>\n",
       "      <th>26</th>\n",
       "      <td>Оружейный барон</td>\n",
       "      <td>221012515</td>\n",
       "      <td>2015-04-03 12:00:00</td>\n",
       "      <td>Художественный</td>\n",
       "      <td>Вэ И Пэ Медиенфондс 3, Асендант Пикчерз, Сатур...</td>\n",
       "      <td>США - Франция - Турция</td>\n",
       "      <td>Эндрю Никкол</td>\n",
       "      <td>Норман Голуайтли, Энди Грош, Николас Кейдж, Эн...</td>\n",
       "      <td>«18+» - запрещено для детей</td>\n",
       "      <td>NaN</td>\n",
       "      <td>NaN</td>\n",
       "      <td>NaN</td>\n",
       "      <td>NaN</td>\n",
       "      <td>7.7</td>\n",
       "      <td>боевик,драма,криминал</td>\n",
       "      <td>NaN</td>\n",
       "    </tr>\n",
       "    <tr>\n",
       "      <th>33</th>\n",
       "      <td>Перелом</td>\n",
       "      <td>221006016</td>\n",
       "      <td>2016-02-09 12:00:00</td>\n",
       "      <td>Художественный</td>\n",
       "      <td>Уорнер Бразерс, Нью Лайн Синема, Касл Рок Инте...</td>\n",
       "      <td>США-Германия</td>\n",
       "      <td>Грегори Хоблит</td>\n",
       "      <td>Чарльз Уэйнсток</td>\n",
       "      <td>«18+» - запрещено для детей</td>\n",
       "      <td>NaN</td>\n",
       "      <td>NaN</td>\n",
       "      <td>NaN</td>\n",
       "      <td>NaN</td>\n",
       "      <td>7.7</td>\n",
       "      <td>триллер,драма,криминал</td>\n",
       "      <td>NaN</td>\n",
       "    </tr>\n",
       "    <tr>\n",
       "      <th>34</th>\n",
       "      <td>Мисс Поттер</td>\n",
       "      <td>221011915</td>\n",
       "      <td>2015-04-03 12:00:00</td>\n",
       "      <td>Художественный</td>\n",
       "      <td>Феникс Пикчерз, Дэвид Киршнер Продакшнз, Айл о...</td>\n",
       "      <td>США - Великобритания</td>\n",
       "      <td>Крис Нунан</td>\n",
       "      <td>Дэвид Киршнер, Майк Медэвой, Арнольд Мессер, К...</td>\n",
       "      <td>«12+» - для детей старше 12 лет</td>\n",
       "      <td>NaN</td>\n",
       "      <td>NaN</td>\n",
       "      <td>NaN</td>\n",
       "      <td>NaN</td>\n",
       "      <td>7.3</td>\n",
       "      <td>драма,мелодрама,биография</td>\n",
       "      <td>NaN</td>\n",
       "    </tr>\n",
       "    <tr>\n",
       "      <th>37</th>\n",
       "      <td>Молчи в тряпочку</td>\n",
       "      <td>221012015</td>\n",
       "      <td>2015-04-03 12:00:00</td>\n",
       "      <td>Художественный</td>\n",
       "      <td>Саммит Интертейнмент, Айл оф Мэн Филм, Эйзур Ф...</td>\n",
       "      <td>Великобритания</td>\n",
       "      <td>Найл Джонсон</td>\n",
       "      <td>Мэтью Пэйн, Джулия Пэло</td>\n",
       "      <td>«18+» - запрещено для детей</td>\n",
       "      <td>NaN</td>\n",
       "      <td>NaN</td>\n",
       "      <td>NaN</td>\n",
       "      <td>NaN</td>\n",
       "      <td>7.1</td>\n",
       "      <td>комедия,криминал</td>\n",
       "      <td>NaN</td>\n",
       "    </tr>\n",
       "    <tr>\n",
       "      <th>40</th>\n",
       "      <td>Алекс и Эмма</td>\n",
       "      <td>221005015</td>\n",
       "      <td>2015-02-25 12:00:00</td>\n",
       "      <td>Художественный</td>\n",
       "      <td>Эскейп Артистс, Франчайз Пикчерз, Рейнер-Грэйс...</td>\n",
       "      <td>США</td>\n",
       "      <td>Роб Райнер</td>\n",
       "      <td>Тодд Блэк, Элан Грейсман, Джереми Левен, Роб Р...</td>\n",
       "      <td>«16+» - для детей старше 16 лет</td>\n",
       "      <td>NaN</td>\n",
       "      <td>NaN</td>\n",
       "      <td>NaN</td>\n",
       "      <td>NaN</td>\n",
       "      <td>6.4</td>\n",
       "      <td>мелодрама,комедия</td>\n",
       "      <td>NaN</td>\n",
       "    </tr>\n",
       "    <tr>\n",
       "      <th>41</th>\n",
       "      <td>Алекс и Эмма</td>\n",
       "      <td>221004616</td>\n",
       "      <td>2016-02-09 12:00:00</td>\n",
       "      <td>Художественный</td>\n",
       "      <td>Эскейп Артистс, Франчайз Пикчерз, Рейнер-Грэйс...</td>\n",
       "      <td>США</td>\n",
       "      <td>Роб Райнер</td>\n",
       "      <td>Тодд Блэк, Элан Грейсман, Джереми Левен, Роб Р...</td>\n",
       "      <td>«16+» - для детей старше 16 лет</td>\n",
       "      <td>NaN</td>\n",
       "      <td>NaN</td>\n",
       "      <td>NaN</td>\n",
       "      <td>NaN</td>\n",
       "      <td>6.4</td>\n",
       "      <td>мелодрама,комедия</td>\n",
       "      <td>NaN</td>\n",
       "    </tr>\n",
       "    <tr>\n",
       "      <th>86</th>\n",
       "      <td>Валентина</td>\n",
       "      <td>111012713</td>\n",
       "      <td>2013-12-19 12:00:00</td>\n",
       "      <td>Художественный</td>\n",
       "      <td>Киностудия \"Мосфильм\"</td>\n",
       "      <td>СССР</td>\n",
       "      <td>Г.Панфилов</td>\n",
       "      <td>NaN</td>\n",
       "      <td>«6+» - для детей старше 6 лет</td>\n",
       "      <td>NaN</td>\n",
       "      <td>NaN</td>\n",
       "      <td>NaN</td>\n",
       "      <td>NaN</td>\n",
       "      <td>7.5</td>\n",
       "      <td>драма</td>\n",
       "      <td>NaN</td>\n",
       "    </tr>\n",
       "    <tr>\n",
       "      <th>107</th>\n",
       "      <td>Волшебная страна</td>\n",
       "      <td>221004716</td>\n",
       "      <td>2016-02-09 12:00:00</td>\n",
       "      <td>Художественный</td>\n",
       "      <td>Филм Колони</td>\n",
       "      <td>США</td>\n",
       "      <td>Марк Форстер</td>\n",
       "      <td>Ричард Н.Глэдстин</td>\n",
       "      <td>«12+» - для детей старше 12 лет</td>\n",
       "      <td>NaN</td>\n",
       "      <td>NaN</td>\n",
       "      <td>NaN</td>\n",
       "      <td>NaN</td>\n",
       "      <td>7.9</td>\n",
       "      <td>драма,семейный,биография</td>\n",
       "      <td>NaN</td>\n",
       "    </tr>\n",
       "    <tr>\n",
       "      <th>109</th>\n",
       "      <td>Гарри Поттер и орден Феникса /По роману Дж.К.Р...</td>\n",
       "      <td>221004916</td>\n",
       "      <td>2016-02-09 12:00:00</td>\n",
       "      <td>Художественный</td>\n",
       "      <td>Уорнер Бразерс, Хэйдей Филмз</td>\n",
       "      <td>США - Великобритания</td>\n",
       "      <td>Дэвид Йетс</td>\n",
       "      <td>Дэйвид Баррон, Дэйвид Хейман</td>\n",
       "      <td>«16+» - для детей старше 16 лет</td>\n",
       "      <td>NaN</td>\n",
       "      <td>NaN</td>\n",
       "      <td>NaN</td>\n",
       "      <td>NaN</td>\n",
       "      <td>7.7</td>\n",
       "      <td>фэнтези,приключения,семейный</td>\n",
       "      <td>NaN</td>\n",
       "    </tr>\n",
       "    <tr>\n",
       "      <th>110</th>\n",
       "      <td>Гарри Поттер и орден Феникса /По роману Дж.К.Р...</td>\n",
       "      <td>121026316</td>\n",
       "      <td>2016-09-23 12:00:00</td>\n",
       "      <td>Художественный</td>\n",
       "      <td>Уорнер Бразерс, Хэйдей Филмз</td>\n",
       "      <td>США - Великобритания</td>\n",
       "      <td>Дэвид Йетс</td>\n",
       "      <td>Дэйвид Баррон, Дэйвид Хейман</td>\n",
       "      <td>«16+» - для детей старше 16 лет</td>\n",
       "      <td>NaN</td>\n",
       "      <td>NaN</td>\n",
       "      <td>NaN</td>\n",
       "      <td>NaN</td>\n",
       "      <td>7.7</td>\n",
       "      <td>фэнтези,приключения,семейный</td>\n",
       "      <td>759526.0</td>\n",
       "    </tr>\n",
       "    <tr>\n",
       "      <th>111</th>\n",
       "      <td>Гарри Поттер и тайная комната /По роману Дж.К....</td>\n",
       "      <td>121026016</td>\n",
       "      <td>2016-09-23 12:00:00</td>\n",
       "      <td>Художественный</td>\n",
       "      <td>Уорнер Бразерс, Хедэй Филмз/1492 Пикчерз</td>\n",
       "      <td>США</td>\n",
       "      <td>Крис Коламбус</td>\n",
       "      <td>Дейвид Хейман</td>\n",
       "      <td>«12+» - для детей старше 12 лет</td>\n",
       "      <td>NaN</td>\n",
       "      <td>NaN</td>\n",
       "      <td>NaN</td>\n",
       "      <td>NaN</td>\n",
       "      <td>8.0</td>\n",
       "      <td>фэнтези,приключения,семейный</td>\n",
       "      <td>1093810.0</td>\n",
       "    </tr>\n",
       "    <tr>\n",
       "      <th>112</th>\n",
       "      <td>Гарри Поттер и узник Азкабана /По роману Дж.К....</td>\n",
       "      <td>221005016</td>\n",
       "      <td>2016-02-09 12:00:00</td>\n",
       "      <td>Художественный</td>\n",
       "      <td>Хэйдей Филмз, 1492 Пикчерз, Уорнер Бразерс</td>\n",
       "      <td>США</td>\n",
       "      <td>Альфонсо Куарон</td>\n",
       "      <td>Майкл Барната</td>\n",
       "      <td>«12+» - для детей старше 12 лет</td>\n",
       "      <td>NaN</td>\n",
       "      <td>NaN</td>\n",
       "      <td>NaN</td>\n",
       "      <td>NaN</td>\n",
       "      <td>8.2</td>\n",
       "      <td>фэнтези,приключения,семейный</td>\n",
       "      <td>NaN</td>\n",
       "    </tr>\n",
       "    <tr>\n",
       "      <th>113</th>\n",
       "      <td>Гарри Поттер и узник Азкабана /По роману Дж.К....</td>\n",
       "      <td>121026116</td>\n",
       "      <td>2016-09-23 12:00:00</td>\n",
       "      <td>Художественный</td>\n",
       "      <td>Хэйдей Филмз, 1492 Пикчерз, Уорнер Бразерс</td>\n",
       "      <td>США</td>\n",
       "      <td>Альфонсо Куарон</td>\n",
       "      <td>Майкл Барната</td>\n",
       "      <td>«12+» - для детей старше 12 лет</td>\n",
       "      <td>NaN</td>\n",
       "      <td>NaN</td>\n",
       "      <td>NaN</td>\n",
       "      <td>NaN</td>\n",
       "      <td>8.2</td>\n",
       "      <td>фэнтези,приключения,семейный</td>\n",
       "      <td>1125302.0</td>\n",
       "    </tr>\n",
       "    <tr>\n",
       "      <th>114</th>\n",
       "      <td>Гарри Поттер и философский камень /По роману Д...</td>\n",
       "      <td>121025916</td>\n",
       "      <td>2016-09-23 12:00:00</td>\n",
       "      <td>Художественный</td>\n",
       "      <td>Уорнер Бразерс, Хэйдэй Филмз/1492 Пикчерз/Данк...</td>\n",
       "      <td>США</td>\n",
       "      <td>Крис Коламбус</td>\n",
       "      <td>Дейвид Хейман</td>\n",
       "      <td>«12+» - для детей старше 12 лет</td>\n",
       "      <td>NaN</td>\n",
       "      <td>NaN</td>\n",
       "      <td>NaN</td>\n",
       "      <td>NaN</td>\n",
       "      <td>8.2</td>\n",
       "      <td>фэнтези,приключения,семейный</td>\n",
       "      <td>1948760.0</td>\n",
       "    </tr>\n",
       "    <tr>\n",
       "      <th>115</th>\n",
       "      <td>Гангстер.</td>\n",
       "      <td>221029916</td>\n",
       "      <td>2016-06-21 12:00:00</td>\n",
       "      <td>Художественный</td>\n",
       "      <td>Юниверсал Пикчерз, Имэджин Интертейнмент, Риле...</td>\n",
       "      <td>США</td>\n",
       "      <td>Ридли Скотт</td>\n",
       "      <td>Брайан Грейзер, Ридли Скотт</td>\n",
       "      <td>«18+» - запрещено для детей</td>\n",
       "      <td>NaN</td>\n",
       "      <td>NaN</td>\n",
       "      <td>NaN</td>\n",
       "      <td>NaN</td>\n",
       "      <td>7.9</td>\n",
       "      <td>драма,криминал,биография</td>\n",
       "      <td>NaN</td>\n",
       "    </tr>\n",
       "    <tr>\n",
       "      <th>121</th>\n",
       "      <td>Гарри Поттер и кубок огня /По роману Дж.К.Ролинг/</td>\n",
       "      <td>221004816</td>\n",
       "      <td>2016-02-09 12:00:00</td>\n",
       "      <td>Художественный</td>\n",
       "      <td>Уорнер Бразерс, Хэйдэй Филмз</td>\n",
       "      <td>США - Великобритания</td>\n",
       "      <td>Майк Ньюэлл</td>\n",
       "      <td>Дэйвид Хейман</td>\n",
       "      <td>«16+» - для детей старше 16 лет</td>\n",
       "      <td>NaN</td>\n",
       "      <td>NaN</td>\n",
       "      <td>NaN</td>\n",
       "      <td>NaN</td>\n",
       "      <td>7.9</td>\n",
       "      <td>фэнтези,приключения,семейный</td>\n",
       "      <td>NaN</td>\n",
       "    </tr>\n",
       "    <tr>\n",
       "      <th>122</th>\n",
       "      <td>Гарри Поттер и кубок огня /По роману Дж.К.Ролинг/</td>\n",
       "      <td>121026216</td>\n",
       "      <td>2016-09-23 12:00:00</td>\n",
       "      <td>Художественный</td>\n",
       "      <td>Уорнер Бразерс, Хэйдэй Филмз</td>\n",
       "      <td>США - Великобритания</td>\n",
       "      <td>Майк Ньюэлл</td>\n",
       "      <td>Дэйвид Хейман</td>\n",
       "      <td>«16+» - для детей старше 16 лет</td>\n",
       "      <td>NaN</td>\n",
       "      <td>NaN</td>\n",
       "      <td>NaN</td>\n",
       "      <td>NaN</td>\n",
       "      <td>7.9</td>\n",
       "      <td>фэнтези,приключения,семейный</td>\n",
       "      <td>843310.0</td>\n",
       "    </tr>\n",
       "    <tr>\n",
       "      <th>125</th>\n",
       "      <td>Глаз.</td>\n",
       "      <td>221005615</td>\n",
       "      <td>2015-02-25 12:00:00</td>\n",
       "      <td>Художественный</td>\n",
       "      <td>Лайонс Гейт, Парамаунт Вантаж, Круз/Вагнер  Пр...</td>\n",
       "      <td>США</td>\n",
       "      <td>Дэвид Моро, Хавьер Палю</td>\n",
       "      <td>Пола Вагнер, Дон Гренджер</td>\n",
       "      <td>«16+» - для детей старше 16 лет</td>\n",
       "      <td>NaN</td>\n",
       "      <td>NaN</td>\n",
       "      <td>NaN</td>\n",
       "      <td>NaN</td>\n",
       "      <td>6.6</td>\n",
       "      <td>ужасы,триллер,драма</td>\n",
       "      <td>NaN</td>\n",
       "    </tr>\n",
       "    <tr>\n",
       "      <th>131</th>\n",
       "      <td>Джейн Эйр /По одноименному роману Шарлотты Бро...</td>\n",
       "      <td>221071812</td>\n",
       "      <td>2012-11-07 12:00:00</td>\n",
       "      <td>Художественный</td>\n",
       "      <td>Чинеритино, Флаш Фильм, Медиасет, Мирамакс, Ро...</td>\n",
       "      <td>Франция - Италия - Великобритания - США</td>\n",
       "      <td>Франко Дзеффирелли</td>\n",
       "      <td>NaN</td>\n",
       "      <td>«12+» - для детей старше 12 лет</td>\n",
       "      <td>NaN</td>\n",
       "      <td>NaN</td>\n",
       "      <td>NaN</td>\n",
       "      <td>NaN</td>\n",
       "      <td>7.4</td>\n",
       "      <td>драма,мелодрама</td>\n",
       "      <td>NaN</td>\n",
       "    </tr>\n",
       "    <tr>\n",
       "      <th>132</th>\n",
       "      <td>Джейн Эйр /По одноименному роману Шарлотты Бро...</td>\n",
       "      <td>221035716</td>\n",
       "      <td>2016-06-07 12:00:00</td>\n",
       "      <td>Художественный</td>\n",
       "      <td>Чинеритино, Флаш Фильм, Медиасет, Мирамакс, Ро...</td>\n",
       "      <td>Франция - Италия - Великобритания - США</td>\n",
       "      <td>Франко Дзеффирелли</td>\n",
       "      <td>NaN</td>\n",
       "      <td>«12+» - для детей старше 12 лет</td>\n",
       "      <td>NaN</td>\n",
       "      <td>NaN</td>\n",
       "      <td>NaN</td>\n",
       "      <td>NaN</td>\n",
       "      <td>7.4</td>\n",
       "      <td>драма,мелодрама</td>\n",
       "      <td>NaN</td>\n",
       "    </tr>\n",
       "    <tr>\n",
       "      <th>134</th>\n",
       "      <td>Двенадцать друзей Оушена</td>\n",
       "      <td>221005216</td>\n",
       "      <td>2016-02-09 12:00:00</td>\n",
       "      <td>Художественный</td>\n",
       "      <td>Уорнер Бразерс, Вилладж Роудшоу Пикчерз, Джерр...</td>\n",
       "      <td>США</td>\n",
       "      <td>Стивен Содерберг</td>\n",
       "      <td>Джерри Вайнтрауб</td>\n",
       "      <td>«16+» - для детей старше 16 лет</td>\n",
       "      <td>NaN</td>\n",
       "      <td>NaN</td>\n",
       "      <td>NaN</td>\n",
       "      <td>NaN</td>\n",
       "      <td>7.7</td>\n",
       "      <td>триллер,криминал</td>\n",
       "      <td>NaN</td>\n",
       "    </tr>\n",
       "    <tr>\n",
       "      <th>140</th>\n",
       "      <td>Долгая помолвка /По роману Себастьяна Жапризо/</td>\n",
       "      <td>221005516</td>\n",
       "      <td>2016-02-09 12:00:00</td>\n",
       "      <td>Художественный</td>\n",
       "      <td>2003 Продюксьон, Уорнер Бразерс, Тапиока Продю...</td>\n",
       "      <td>Франция - США</td>\n",
       "      <td>Жан-Пьер Жене</td>\n",
       "      <td>Жан-Марк Дешам</td>\n",
       "      <td>«18+» - запрещено для детей</td>\n",
       "      <td>NaN</td>\n",
       "      <td>NaN</td>\n",
       "      <td>NaN</td>\n",
       "      <td>NaN</td>\n",
       "      <td>7.7</td>\n",
       "      <td>драма,мелодрама,детектив</td>\n",
       "      <td>NaN</td>\n",
       "    </tr>\n",
       "    <tr>\n",
       "      <th>141</th>\n",
       "      <td>Девушка из Джерси</td>\n",
       "      <td>221030015</td>\n",
       "      <td>2015-07-29 12:00:00</td>\n",
       "      <td>Художественный</td>\n",
       "      <td>Мирамакс</td>\n",
       "      <td>США</td>\n",
       "      <td>Кевин Смит</td>\n",
       "      <td>Скотт Мойзер</td>\n",
       "      <td>«16+» - для детей старше 16 лет</td>\n",
       "      <td>NaN</td>\n",
       "      <td>NaN</td>\n",
       "      <td>NaN</td>\n",
       "      <td>NaN</td>\n",
       "      <td>7.0</td>\n",
       "      <td>драма,мелодрама,комедия</td>\n",
       "      <td>NaN</td>\n",
       "    </tr>\n",
       "    <tr>\n",
       "      <th>144</th>\n",
       "      <td>Дневник памяти /По роману Николаса Спракса/</td>\n",
       "      <td>221005416</td>\n",
       "      <td>2016-02-09 12:00:00</td>\n",
       "      <td>Художественный</td>\n",
       "      <td>Нью Лайн Синема, Гран Виа, Авери Пи, Уорнер Бр...</td>\n",
       "      <td>США</td>\n",
       "      <td>Ник Кассаветис</td>\n",
       "      <td>Марк Джонсон, Линн Харрис</td>\n",
       "      <td>«16+» - для детей старше 16 лет</td>\n",
       "      <td>NaN</td>\n",
       "      <td>NaN</td>\n",
       "      <td>NaN</td>\n",
       "      <td>NaN</td>\n",
       "      <td>8.2</td>\n",
       "      <td>драма,мелодрама</td>\n",
       "      <td>NaN</td>\n",
       "    </tr>\n",
       "    <tr>\n",
       "      <th>149</th>\n",
       "      <td>Знакомьтесь, Джо Блэк</td>\n",
       "      <td>221026716</td>\n",
       "      <td>2016-06-10 12:00:00</td>\n",
       "      <td>Художественный</td>\n",
       "      <td>Юниверсал Пикчерз, Сити Лайт Филмз</td>\n",
       "      <td>США</td>\n",
       "      <td>Мартин Брест</td>\n",
       "      <td>Мартин Брест</td>\n",
       "      <td>«16+» - для детей старше 16 лет</td>\n",
       "      <td>NaN</td>\n",
       "      <td>NaN</td>\n",
       "      <td>NaN</td>\n",
       "      <td>NaN</td>\n",
       "      <td>8.0</td>\n",
       "      <td>фэнтези,мелодрама,драма</td>\n",
       "      <td>NaN</td>\n",
       "    </tr>\n",
       "    <tr>\n",
       "      <th>158</th>\n",
       "      <td>Если свекровь - монстр</td>\n",
       "      <td>221005716</td>\n",
       "      <td>2016-02-09 12:00:00</td>\n",
       "      <td>Художественный</td>\n",
       "      <td>Эвери Продакшнз, Нью Лайн Синема, Вэндер-Спинк...</td>\n",
       "      <td>США</td>\n",
       "      <td>Роберт Лукетич</td>\n",
       "      <td>Майкл Флинн, Тоби Эммерих</td>\n",
       "      <td>«16+» - для детей старше 16 лет</td>\n",
       "      <td>NaN</td>\n",
       "      <td>NaN</td>\n",
       "      <td>NaN</td>\n",
       "      <td>NaN</td>\n",
       "      <td>6.7</td>\n",
       "      <td>мелодрама,комедия</td>\n",
       "      <td>NaN</td>\n",
       "    </tr>\n",
       "  </tbody>\n",
       "</table>\n",
       "</div>"
      ],
      "text/plain": [
       "                                                 title   puNumber  \\\n",
       "2                                         Особо опасен  221038416   \n",
       "3                                         Особо опасен  221026916   \n",
       "4                                         Особо опасен  221030815   \n",
       "12   Малышка на миллион /По мотивам рассказов Ф.Х.Т...  221011415   \n",
       "26                                     Оружейный барон  221012515   \n",
       "33                                             Перелом  221006016   \n",
       "34                                         Мисс Поттер  221011915   \n",
       "37                                    Молчи в тряпочку  221012015   \n",
       "40                                        Алекс и Эмма  221005015   \n",
       "41                                        Алекс и Эмма  221004616   \n",
       "86                                           Валентина  111012713   \n",
       "107                                   Волшебная страна  221004716   \n",
       "109  Гарри Поттер и орден Феникса /По роману Дж.К.Р...  221004916   \n",
       "110  Гарри Поттер и орден Феникса /По роману Дж.К.Р...  121026316   \n",
       "111  Гарри Поттер и тайная комната /По роману Дж.К....  121026016   \n",
       "112  Гарри Поттер и узник Азкабана /По роману Дж.К....  221005016   \n",
       "113  Гарри Поттер и узник Азкабана /По роману Дж.К....  121026116   \n",
       "114  Гарри Поттер и философский камень /По роману Д...  121025916   \n",
       "115                                          Гангстер.  221029916   \n",
       "121  Гарри Поттер и кубок огня /По роману Дж.К.Ролинг/  221004816   \n",
       "122  Гарри Поттер и кубок огня /По роману Дж.К.Ролинг/  121026216   \n",
       "125                                              Глаз.  221005615   \n",
       "131  Джейн Эйр /По одноименному роману Шарлотты Бро...  221071812   \n",
       "132  Джейн Эйр /По одноименному роману Шарлотты Бро...  221035716   \n",
       "134                           Двенадцать друзей Оушена  221005216   \n",
       "140     Долгая помолвка /По роману Себастьяна Жапризо/  221005516   \n",
       "141                                  Девушка из Джерси  221030015   \n",
       "144        Дневник памяти /По роману Николаса Спракса/  221005416   \n",
       "149                              Знакомьтесь, Джо Блэк  221026716   \n",
       "158                             Если свекровь - монстр  221005716   \n",
       "\n",
       "        show_start_date            type  \\\n",
       "2   2016-10-10 12:00:00  Художественный   \n",
       "3   2016-06-10 12:00:00  Художественный   \n",
       "4   2015-07-29 12:00:00  Художественный   \n",
       "12  2015-04-03 12:00:00  Художественный   \n",
       "26  2015-04-03 12:00:00  Художественный   \n",
       "33  2016-02-09 12:00:00  Художественный   \n",
       "34  2015-04-03 12:00:00  Художественный   \n",
       "37  2015-04-03 12:00:00  Художественный   \n",
       "40  2015-02-25 12:00:00  Художественный   \n",
       "41  2016-02-09 12:00:00  Художественный   \n",
       "86  2013-12-19 12:00:00  Художественный   \n",
       "107 2016-02-09 12:00:00  Художественный   \n",
       "109 2016-02-09 12:00:00  Художественный   \n",
       "110 2016-09-23 12:00:00  Художественный   \n",
       "111 2016-09-23 12:00:00  Художественный   \n",
       "112 2016-02-09 12:00:00  Художественный   \n",
       "113 2016-09-23 12:00:00  Художественный   \n",
       "114 2016-09-23 12:00:00  Художественный   \n",
       "115 2016-06-21 12:00:00  Художественный   \n",
       "121 2016-02-09 12:00:00  Художественный   \n",
       "122 2016-09-23 12:00:00  Художественный   \n",
       "125 2015-02-25 12:00:00  Художественный   \n",
       "131 2012-11-07 12:00:00  Художественный   \n",
       "132 2016-06-07 12:00:00  Художественный   \n",
       "134 2016-02-09 12:00:00  Художественный   \n",
       "140 2016-02-09 12:00:00  Художественный   \n",
       "141 2015-07-29 12:00:00  Художественный   \n",
       "144 2016-02-09 12:00:00  Художественный   \n",
       "149 2016-06-10 12:00:00  Художественный   \n",
       "158 2016-02-09 12:00:00  Художественный   \n",
       "\n",
       "                                           film_studio  \\\n",
       "2    Юниверсал Пикчерз, Кикстарт Продакшнз, Марк Пл...   \n",
       "3    Юниверсал Пикчерз, Кикстарт Продакшнз, Марк Пл...   \n",
       "4    Юниверсал Пикчерз, Кикстарт Продакшнз, Марк Пл...   \n",
       "12   Уорнер Бразерс, Лейкшор Интертейнмент, Малпасо...   \n",
       "26   Вэ И Пэ Медиенфондс 3, Асендант Пикчерз, Сатур...   \n",
       "33   Уорнер Бразерс, Нью Лайн Синема, Касл Рок Инте...   \n",
       "34   Феникс Пикчерз, Дэвид Киршнер Продакшнз, Айл о...   \n",
       "37   Саммит Интертейнмент, Айл оф Мэн Филм, Эйзур Ф...   \n",
       "40   Эскейп Артистс, Франчайз Пикчерз, Рейнер-Грэйс...   \n",
       "41   Эскейп Артистс, Франчайз Пикчерз, Рейнер-Грэйс...   \n",
       "86                               Киностудия \"Мосфильм\"   \n",
       "107                                        Филм Колони   \n",
       "109                       Уорнер Бразерс, Хэйдей Филмз   \n",
       "110                       Уорнер Бразерс, Хэйдей Филмз   \n",
       "111           Уорнер Бразерс, Хедэй Филмз/1492 Пикчерз   \n",
       "112         Хэйдей Филмз, 1492 Пикчерз, Уорнер Бразерс   \n",
       "113         Хэйдей Филмз, 1492 Пикчерз, Уорнер Бразерс   \n",
       "114  Уорнер Бразерс, Хэйдэй Филмз/1492 Пикчерз/Данк...   \n",
       "115  Юниверсал Пикчерз, Имэджин Интертейнмент, Риле...   \n",
       "121                       Уорнер Бразерс, Хэйдэй Филмз   \n",
       "122                       Уорнер Бразерс, Хэйдэй Филмз   \n",
       "125  Лайонс Гейт, Парамаунт Вантаж, Круз/Вагнер  Пр...   \n",
       "131  Чинеритино, Флаш Фильм, Медиасет, Мирамакс, Ро...   \n",
       "132  Чинеритино, Флаш Фильм, Медиасет, Мирамакс, Ро...   \n",
       "134  Уорнер Бразерс, Вилладж Роудшоу Пикчерз, Джерр...   \n",
       "140  2003 Продюксьон, Уорнер Бразерс, Тапиока Продю...   \n",
       "141                                           Мирамакс   \n",
       "144  Нью Лайн Синема, Гран Виа, Авери Пи, Уорнер Бр...   \n",
       "149                 Юниверсал Пикчерз, Сити Лайт Филмз   \n",
       "158  Эвери Продакшнз, Нью Лайн Синема, Вэндер-Спинк...   \n",
       "\n",
       "                          production_country                 director  \\\n",
       "2                                        США        Тимур Бекмамбетов   \n",
       "3                                        США        Тимур Бекмамбетов   \n",
       "4                                        США        Тимур Бекмамбетов   \n",
       "12                                       США             Клинт Иствуд   \n",
       "26                    США - Франция - Турция             Эндрю Никкол   \n",
       "33                              США-Германия           Грегори Хоблит   \n",
       "34                      США - Великобритания               Крис Нунан   \n",
       "37                            Великобритания             Найл Джонсон   \n",
       "40                                       США               Роб Райнер   \n",
       "41                                       США               Роб Райнер   \n",
       "86                                      СССР               Г.Панфилов   \n",
       "107                                      США             Марк Форстер   \n",
       "109                     США - Великобритания               Дэвид Йетс   \n",
       "110                     США - Великобритания               Дэвид Йетс   \n",
       "111                                      США            Крис Коламбус   \n",
       "112                                      США          Альфонсо Куарон   \n",
       "113                                      США          Альфонсо Куарон   \n",
       "114                                      США            Крис Коламбус   \n",
       "115                                      США              Ридли Скотт   \n",
       "121                     США - Великобритания              Майк Ньюэлл   \n",
       "122                     США - Великобритания              Майк Ньюэлл   \n",
       "125                                      США  Дэвид Моро, Хавьер Палю   \n",
       "131  Франция - Италия - Великобритания - США       Франко Дзеффирелли   \n",
       "132  Франция - Италия - Великобритания - США       Франко Дзеффирелли   \n",
       "134                                      США         Стивен Содерберг   \n",
       "140                            Франция - США            Жан-Пьер Жене   \n",
       "141                                      США               Кевин Смит   \n",
       "144                                      США           Ник Кассаветис   \n",
       "149                                      США             Мартин Брест   \n",
       "158                                      США           Роберт Лукетич   \n",
       "\n",
       "                                              producer  \\\n",
       "2    Джим Лемли, Джейсон Нетер, Марк Е.Платт, Яйн Смит   \n",
       "3    Джим Лемли, Джейсон Нетер, Марк Е.Платт, Яйн Смит   \n",
       "4    Джим Лемли, Джейсон Нетер, Марк Е.Платт, Яйн Смит   \n",
       "12   Клинт Иствуд, Том Розенберг, Альберт С.Рудди, ...   \n",
       "26   Норман Голуайтли, Энди Грош, Николас Кейдж, Эн...   \n",
       "33                                     Чарльз Уэйнсток   \n",
       "34   Дэвид Киршнер, Майк Медэвой, Арнольд Мессер, К...   \n",
       "37                             Мэтью Пэйн, Джулия Пэло   \n",
       "40   Тодд Блэк, Элан Грейсман, Джереми Левен, Роб Р...   \n",
       "41   Тодд Блэк, Элан Грейсман, Джереми Левен, Роб Р...   \n",
       "86                                                 NaN   \n",
       "107                                  Ричард Н.Глэдстин   \n",
       "109                       Дэйвид Баррон, Дэйвид Хейман   \n",
       "110                       Дэйвид Баррон, Дэйвид Хейман   \n",
       "111                                      Дейвид Хейман   \n",
       "112                                      Майкл Барната   \n",
       "113                                      Майкл Барната   \n",
       "114                                      Дейвид Хейман   \n",
       "115                        Брайан Грейзер, Ридли Скотт   \n",
       "121                                      Дэйвид Хейман   \n",
       "122                                      Дэйвид Хейман   \n",
       "125                          Пола Вагнер, Дон Гренджер   \n",
       "131                                                NaN   \n",
       "132                                                NaN   \n",
       "134                                   Джерри Вайнтрауб   \n",
       "140                                     Жан-Марк Дешам   \n",
       "141                                       Скотт Мойзер   \n",
       "144                          Марк Джонсон, Линн Харрис   \n",
       "149                                       Мартин Брест   \n",
       "158                          Майкл Флинн, Тоби Эммерих   \n",
       "\n",
       "                     age_restriction  refundable_support  \\\n",
       "2        «18+» - запрещено для детей                 NaN   \n",
       "3        «18+» - запрещено для детей                 NaN   \n",
       "4        «18+» - запрещено для детей                 NaN   \n",
       "12   «16+» - для детей старше 16 лет                 NaN   \n",
       "26       «18+» - запрещено для детей                 NaN   \n",
       "33       «18+» - запрещено для детей                 NaN   \n",
       "34   «12+» - для детей старше 12 лет                 NaN   \n",
       "37       «18+» - запрещено для детей                 NaN   \n",
       "40   «16+» - для детей старше 16 лет                 NaN   \n",
       "41   «16+» - для детей старше 16 лет                 NaN   \n",
       "86     «6+» - для детей старше 6 лет                 NaN   \n",
       "107  «12+» - для детей старше 12 лет                 NaN   \n",
       "109  «16+» - для детей старше 16 лет                 NaN   \n",
       "110  «16+» - для детей старше 16 лет                 NaN   \n",
       "111  «12+» - для детей старше 12 лет                 NaN   \n",
       "112  «12+» - для детей старше 12 лет                 NaN   \n",
       "113  «12+» - для детей старше 12 лет                 NaN   \n",
       "114  «12+» - для детей старше 12 лет                 NaN   \n",
       "115      «18+» - запрещено для детей                 NaN   \n",
       "121  «16+» - для детей старше 16 лет                 NaN   \n",
       "122  «16+» - для детей старше 16 лет                 NaN   \n",
       "125  «16+» - для детей старше 16 лет                 NaN   \n",
       "131  «12+» - для детей старше 12 лет                 NaN   \n",
       "132  «12+» - для детей старше 12 лет                 NaN   \n",
       "134  «16+» - для детей старше 16 лет                 NaN   \n",
       "140      «18+» - запрещено для детей                 NaN   \n",
       "141  «16+» - для детей старше 16 лет                 NaN   \n",
       "144  «16+» - для детей старше 16 лет                 NaN   \n",
       "149  «16+» - для детей старше 16 лет                 NaN   \n",
       "158  «16+» - для детей старше 16 лет                 NaN   \n",
       "\n",
       "     nonrefundable_support  budget financing_source  ratings  \\\n",
       "2                      NaN     NaN              NaN      6.8   \n",
       "3                      NaN     NaN              NaN      6.8   \n",
       "4                      NaN     NaN              NaN      6.8   \n",
       "12                     NaN     NaN              NaN      8.1   \n",
       "26                     NaN     NaN              NaN      7.7   \n",
       "33                     NaN     NaN              NaN      7.7   \n",
       "34                     NaN     NaN              NaN      7.3   \n",
       "37                     NaN     NaN              NaN      7.1   \n",
       "40                     NaN     NaN              NaN      6.4   \n",
       "41                     NaN     NaN              NaN      6.4   \n",
       "86                     NaN     NaN              NaN      7.5   \n",
       "107                    NaN     NaN              NaN      7.9   \n",
       "109                    NaN     NaN              NaN      7.7   \n",
       "110                    NaN     NaN              NaN      7.7   \n",
       "111                    NaN     NaN              NaN      8.0   \n",
       "112                    NaN     NaN              NaN      8.2   \n",
       "113                    NaN     NaN              NaN      8.2   \n",
       "114                    NaN     NaN              NaN      8.2   \n",
       "115                    NaN     NaN              NaN      7.9   \n",
       "121                    NaN     NaN              NaN      7.9   \n",
       "122                    NaN     NaN              NaN      7.9   \n",
       "125                    NaN     NaN              NaN      6.6   \n",
       "131                    NaN     NaN              NaN      7.4   \n",
       "132                    NaN     NaN              NaN      7.4   \n",
       "134                    NaN     NaN              NaN      7.7   \n",
       "140                    NaN     NaN              NaN      7.7   \n",
       "141                    NaN     NaN              NaN      7.0   \n",
       "144                    NaN     NaN              NaN      8.2   \n",
       "149                    NaN     NaN              NaN      8.0   \n",
       "158                    NaN     NaN              NaN      6.7   \n",
       "\n",
       "                           genres  box_office  \n",
       "2       фантастика,боевик,триллер         NaN  \n",
       "3       фантастика,боевик,триллер         NaN  \n",
       "4       фантастика,боевик,триллер         NaN  \n",
       "12                    драма,спорт         NaN  \n",
       "26          боевик,драма,криминал         NaN  \n",
       "33         триллер,драма,криминал         NaN  \n",
       "34      драма,мелодрама,биография         NaN  \n",
       "37               комедия,криминал         NaN  \n",
       "40              мелодрама,комедия         NaN  \n",
       "41              мелодрама,комедия         NaN  \n",
       "86                          драма         NaN  \n",
       "107      драма,семейный,биография         NaN  \n",
       "109  фэнтези,приключения,семейный         NaN  \n",
       "110  фэнтези,приключения,семейный    759526.0  \n",
       "111  фэнтези,приключения,семейный   1093810.0  \n",
       "112  фэнтези,приключения,семейный         NaN  \n",
       "113  фэнтези,приключения,семейный   1125302.0  \n",
       "114  фэнтези,приключения,семейный   1948760.0  \n",
       "115      драма,криминал,биография         NaN  \n",
       "121  фэнтези,приключения,семейный         NaN  \n",
       "122  фэнтези,приключения,семейный    843310.0  \n",
       "125           ужасы,триллер,драма         NaN  \n",
       "131               драма,мелодрама         NaN  \n",
       "132               драма,мелодрама         NaN  \n",
       "134              триллер,криминал         NaN  \n",
       "140      драма,мелодрама,детектив         NaN  \n",
       "141       драма,мелодрама,комедия         NaN  \n",
       "144               драма,мелодрама         NaN  \n",
       "149       фэнтези,мелодрама,драма         NaN  \n",
       "158             мелодрама,комедия         NaN  "
      ]
     },
     "execution_count": 76,
     "metadata": {},
     "output_type": "execute_result"
    }
   ],
   "source": [
    "# В процессе объединения таблиц, обратил внимание на дубликаты по названию проета ('title'). Проверим на дубликаты по названию\n",
    "data['title'].duplicated().sum()\n",
    "data[data['title'].duplicated(keep=False)].head(30)"
   ]
  },
  {
   "cell_type": "markdown",
   "metadata": {},
   "source": [
    "У выявленных дубликатов различаются прокатные удоставерения и даты выхода в прокат. Вероятно, фильмы могут выходить в прокат не единожды и каждый раз оформляется новое прокатное удостоверение. Удалять их пока не будем, т.к. нет информации какой прокат считать основным.\n",
    "<br>\n",
    "Посмотрим что с дубликатами прокатных удостоверений"
   ]
  },
  {
   "cell_type": "code",
   "execution_count": 77,
   "metadata": {
    "scrolled": true
   },
   "outputs": [
    {
     "data": {
      "text/html": [
       "<div>\n",
       "<style scoped>\n",
       "    .dataframe tbody tr th:only-of-type {\n",
       "        vertical-align: middle;\n",
       "    }\n",
       "\n",
       "    .dataframe tbody tr th {\n",
       "        vertical-align: top;\n",
       "    }\n",
       "\n",
       "    .dataframe thead th {\n",
       "        text-align: right;\n",
       "    }\n",
       "</style>\n",
       "<table border=\"1\" class=\"dataframe\">\n",
       "  <thead>\n",
       "    <tr style=\"text-align: right;\">\n",
       "      <th></th>\n",
       "      <th>title</th>\n",
       "      <th>puNumber</th>\n",
       "      <th>show_start_date</th>\n",
       "      <th>type</th>\n",
       "      <th>film_studio</th>\n",
       "      <th>production_country</th>\n",
       "      <th>director</th>\n",
       "      <th>producer</th>\n",
       "      <th>age_restriction</th>\n",
       "      <th>refundable_support</th>\n",
       "      <th>nonrefundable_support</th>\n",
       "      <th>budget</th>\n",
       "      <th>financing_source</th>\n",
       "      <th>ratings</th>\n",
       "      <th>genres</th>\n",
       "      <th>box_office</th>\n",
       "    </tr>\n",
       "  </thead>\n",
       "  <tbody>\n",
       "    <tr>\n",
       "      <th>4638</th>\n",
       "      <td>Как жениться и остаться холостым</td>\n",
       "      <td>221154310</td>\n",
       "      <td>2010-12-17 12:00:00</td>\n",
       "      <td>Художественный</td>\n",
       "      <td>Ше Вам, Скрипт Ассосье, Тэ Фэ 1 Фильм Продюксь...</td>\n",
       "      <td>Франция</td>\n",
       "      <td>Эрик Лартиго</td>\n",
       "      <td>Амандин Било, Алан Шаба</td>\n",
       "      <td>«16+» - для детей старше 16 лет</td>\n",
       "      <td>NaN</td>\n",
       "      <td>NaN</td>\n",
       "      <td>NaN</td>\n",
       "      <td>NaN</td>\n",
       "      <td>7.0</td>\n",
       "      <td>мелодрама,комедия</td>\n",
       "      <td>NaN</td>\n",
       "    </tr>\n",
       "    <tr>\n",
       "      <th>4639</th>\n",
       "      <td>Иоанна - женщина на папском престоле /По роман...</td>\n",
       "      <td>221154310</td>\n",
       "      <td>2010-12-17 12:00:00</td>\n",
       "      <td>Художественный</td>\n",
       "      <td>Константин Фильм, А Эр Ди Дегето Фильм, Дюне ...</td>\n",
       "      <td>Германия - Великобритания - Италия - Испания</td>\n",
       "      <td>Зенке Вортманн</td>\n",
       "      <td>Оливер Бербен, Дорис Д.Хайнце, Фарук Элтан</td>\n",
       "      <td>«16+» - для детей старше 16 лет</td>\n",
       "      <td>NaN</td>\n",
       "      <td>NaN</td>\n",
       "      <td>NaN</td>\n",
       "      <td>NaN</td>\n",
       "      <td>7.6</td>\n",
       "      <td>драма,мелодрама,история</td>\n",
       "      <td>NaN</td>\n",
       "    </tr>\n",
       "    <tr>\n",
       "      <th>5067</th>\n",
       "      <td>Анализируй это!</td>\n",
       "      <td>221054410</td>\n",
       "      <td>2010-05-25 12:00:00</td>\n",
       "      <td>Художественный</td>\n",
       "      <td>Уорнер Бразерс, Вилладж Роудшоу Филмз ЛТД</td>\n",
       "      <td>США-Австралия</td>\n",
       "      <td>ХЭрольд Рэмис</td>\n",
       "      <td>Джейн Розенталь, Пола Уейнстейн</td>\n",
       "      <td>«16+» - для детей старше 16 лет</td>\n",
       "      <td>NaN</td>\n",
       "      <td>NaN</td>\n",
       "      <td>NaN</td>\n",
       "      <td>NaN</td>\n",
       "      <td>7.4</td>\n",
       "      <td>комедия,криминал</td>\n",
       "      <td>NaN</td>\n",
       "    </tr>\n",
       "    <tr>\n",
       "      <th>5068</th>\n",
       "      <td>Анализируй то!</td>\n",
       "      <td>221054410</td>\n",
       "      <td>2010-05-25 12:00:00</td>\n",
       "      <td>Художественный</td>\n",
       "      <td>Уорнер Бразерс, Виллидж Роадшоу Пикчерз, Эн-Пи...</td>\n",
       "      <td>США</td>\n",
       "      <td>Гарольд Реймис</td>\n",
       "      <td>Джейн Розенталь, Паул Уэйнстейн</td>\n",
       "      <td>«12+» - для детей старше 12 лет</td>\n",
       "      <td>NaN</td>\n",
       "      <td>NaN</td>\n",
       "      <td>NaN</td>\n",
       "      <td>NaN</td>\n",
       "      <td>6.8</td>\n",
       "      <td>комедия,криминал</td>\n",
       "      <td>NaN</td>\n",
       "    </tr>\n",
       "  </tbody>\n",
       "</table>\n",
       "</div>"
      ],
      "text/plain": [
       "                                                  title   puNumber  \\\n",
       "4638                   Как жениться и остаться холостым  221154310   \n",
       "4639  Иоанна - женщина на папском престоле /По роман...  221154310   \n",
       "5067                                    Анализируй это!  221054410   \n",
       "5068                                     Анализируй то!  221054410   \n",
       "\n",
       "         show_start_date            type  \\\n",
       "4638 2010-12-17 12:00:00  Художественный   \n",
       "4639 2010-12-17 12:00:00  Художественный   \n",
       "5067 2010-05-25 12:00:00  Художественный   \n",
       "5068 2010-05-25 12:00:00  Художественный   \n",
       "\n",
       "                                            film_studio  \\\n",
       "4638  Ше Вам, Скрипт Ассосье, Тэ Фэ 1 Фильм Продюксь...   \n",
       "4639   Константин Фильм, А Эр Ди Дегето Фильм, Дюне ...   \n",
       "5067          Уорнер Бразерс, Вилладж Роудшоу Филмз ЛТД   \n",
       "5068  Уорнер Бразерс, Виллидж Роадшоу Пикчерз, Эн-Пи...   \n",
       "\n",
       "                                production_country        director  \\\n",
       "4638                                       Франция    Эрик Лартиго   \n",
       "4639  Германия - Великобритания - Италия - Испания  Зенке Вортманн   \n",
       "5067                                 США-Австралия   ХЭрольд Рэмис   \n",
       "5068                                           США  Гарольд Реймис   \n",
       "\n",
       "                                        producer  \\\n",
       "4638                     Амандин Било, Алан Шаба   \n",
       "4639  Оливер Бербен, Дорис Д.Хайнце, Фарук Элтан   \n",
       "5067             Джейн Розенталь, Пола Уейнстейн   \n",
       "5068             Джейн Розенталь, Паул Уэйнстейн   \n",
       "\n",
       "                      age_restriction  refundable_support  \\\n",
       "4638  «16+» - для детей старше 16 лет                 NaN   \n",
       "4639  «16+» - для детей старше 16 лет                 NaN   \n",
       "5067  «16+» - для детей старше 16 лет                 NaN   \n",
       "5068  «12+» - для детей старше 12 лет                 NaN   \n",
       "\n",
       "      nonrefundable_support  budget financing_source  ratings  \\\n",
       "4638                    NaN     NaN              NaN      7.0   \n",
       "4639                    NaN     NaN              NaN      7.6   \n",
       "5067                    NaN     NaN              NaN      7.4   \n",
       "5068                    NaN     NaN              NaN      6.8   \n",
       "\n",
       "                       genres  box_office  \n",
       "4638        мелодрама,комедия         NaN  \n",
       "4639  драма,мелодрама,история         NaN  \n",
       "5067         комедия,криминал         NaN  \n",
       "5068         комедия,криминал         NaN  "
      ]
     },
     "execution_count": 77,
     "metadata": {},
     "output_type": "execute_result"
    }
   ],
   "source": [
    "data['puNumber'].duplicated().sum()\n",
    "data[data['puNumber'].duplicated(keep=False)].head(30)"
   ]
  },
  {
   "cell_type": "markdown",
   "metadata": {},
   "source": [
    "Есть две ситуации когда под одним и тем же прокатным удостоверением (ПУ) идут по два фильма. В одном случае УП выдано на фильм в двух частях (вероятно), в другом - на два разных фильма. Оставляем строки, одинаковые ПУ нам не мешают, т.к. ПУ нам были необходимы для подгрузки кассовых сборов, а по этим фильмам информации по кассовым сборам у нас нет."
   ]
  },
  {
   "cell_type": "markdown",
   "metadata": {
    "id": "52fOPrEBgFyQ"
   },
   "source": [
    "#### Шаг 2.4. Изучите категориальные значения\n",
    "\n",
    "- Посмотрите, какая общая проблема встречается почти во всех категориальных столбцах;\n",
    "- Исправьте проблемные значения в поле `type`.\n",
    "\n",
    "<div id=\"accordion\">\n",
    "    <div class=\"card\">\n",
    "        <div class=\"card-header\" id=\"headingThree\">\n",
    "            <button class=\"btn btn-link collapsed\" data-toggle=\"collapse\" data-target=\"#collapseHint_1\" aria-expanded=\"false\" aria-controls=\"collapseHint_1\">Подсказка</button>\n",
    "        </div>\n",
    "        <div id=\"collapseHint_1\" class=\"collapse\" aria-labelledby=\"headingThree\" data-parent=\"#accordion\">\n",
    "            <div class=\"card-body\">\n",
    "В поле <code>type</code> есть несколько значений, у которых появился пробел в начале строки. Самый простой способ их «починить» -- использовать метод <a href=\"https://pandas.pydata.org/docs/reference/api/pandas.Series.str.strip.html#pandas.Series.str.strip\">.str.strip</a>. Этот метод удаляет все пробелы, которые встречаются в начале и в конце строки. Применяют его таким образом:<br>\n",
    "<code>df['type'].str.strip()</code>\n",
    "            </div>\n",
    "        </div>\n",
    "    </div>\n",
    "</div>"
   ]
  },
  {
   "cell_type": "code",
   "execution_count": 78,
   "metadata": {
    "id": "PnXKIVdFgFyR"
   },
   "outputs": [
    {
     "name": "stdout",
     "output_type": "stream",
     "text": [
      "<class 'pandas.core.frame.DataFrame'>\n",
      "Int64Index: 7486 entries, 0 to 7485\n",
      "Data columns (total 16 columns):\n",
      " #   Column                 Non-Null Count  Dtype         \n",
      "---  ------                 --------------  -----         \n",
      " 0   title                  7486 non-null   object        \n",
      " 1   puNumber               7486 non-null   int64         \n",
      " 2   show_start_date        7486 non-null   datetime64[ns]\n",
      " 3   type                   7486 non-null   object        \n",
      " 4   film_studio            7468 non-null   object        \n",
      " 5   production_country     7484 non-null   object        \n",
      " 6   director               7477 non-null   object        \n",
      " 7   producer               6918 non-null   object        \n",
      " 8   age_restriction        7486 non-null   object        \n",
      " 9   refundable_support     332 non-null    float64       \n",
      " 10  nonrefundable_support  332 non-null    float64       \n",
      " 11  budget                 332 non-null    float64       \n",
      " 12  financing_source       332 non-null    object        \n",
      " 13  ratings                6519 non-null   float64       \n",
      " 14  genres                 6510 non-null   object        \n",
      " 15  box_office             3158 non-null   float64       \n",
      "dtypes: datetime64[ns](1), float64(5), int64(1), object(9)\n",
      "memory usage: 1.2+ MB\n"
     ]
    }
   ],
   "source": [
    "# Выведем информацию для наглядности\n",
    "data.info()"
   ]
  },
  {
   "cell_type": "code",
   "execution_count": 79,
   "metadata": {},
   "outputs": [
    {
     "data": {
      "text/plain": [
       "array(['Художественный', 'Анимационный', 'Прочие', 'Документальный',\n",
       "       'Научно-популярный', ' Художественный', ' Анимационный',\n",
       "       'Музыкально-развлекательный'], dtype=object)"
      ]
     },
     "execution_count": 79,
     "metadata": {},
     "output_type": "execute_result"
    }
   ],
   "source": [
    "# Изучим категориальные столбцы по уникальным значениям\n",
    "data['type'].unique()"
   ]
  },
  {
   "cell_type": "code",
   "execution_count": 80,
   "metadata": {},
   "outputs": [
    {
     "data": {
      "text/plain": [
       "array(['США', 'СССР', 'Франция', 'СССР, Венгрия',\n",
       "       'Германия-Великобритания', 'Великобритания - Италия',\n",
       "       'Чехословакия', 'США - Франция - Турция', 'Новая Зеландия',\n",
       "       'Канада - Франция - Испания', 'США-Германия',\n",
       "       'США - Великобритания', 'Великобритания', 'США - Германия',\n",
       "       'Франция - Мексика - США', 'Россия, Казахстан, США',\n",
       "       'СССР, Швеция', 'СССР, Франция, Англия, Куба, ГДР', 'Германия',\n",
       "       'Великобритания-США-Германия-КНР',\n",
       "       'СССР, ЧССР, Западный Берлин, ПНР', 'СССР, Италия', 'Гонконг, КНР',\n",
       "       'США - Франция', 'США - Япония - Франция - Великобритания',\n",
       "       'Гонконг - Сингапур - Таиланд - Великобритания', 'США-Канада',\n",
       "       'Франция - Италия - Великобритания - США', 'Франция - США',\n",
       "       'Ирландия-Великобритания-Германия', 'Чехия', 'США-Австралия',\n",
       "       'СССР, Финляндия', 'США-Франция-Великобритания-Австрия',\n",
       "       'США - Бельгия', 'США - Ирландия - Великобритания',\n",
       "       'Великобритания - США',\n",
       "       'Люксембург - Нидерланды - Испания - Великобритания - США - Италия',\n",
       "       'Великобритания - Франция - США', 'Новая Зеландия - США',\n",
       "       'США - Великобритания - Чехия',\n",
       "       'Канада - Франция - Великобритания', 'Ирландия',\n",
       "       'Великобритания - Германия - США',\n",
       "       'США - Франция - Великобритания', 'Япония', 'СССР, Польша',\n",
       "       'Франция - Испания', 'Канада-Франция', 'Германия - Италия - США',\n",
       "       'Аргентина - Бразилия', 'Дания - Швейцария - Бельгия - Франция',\n",
       "       'США - Испания', 'Германия - США',\n",
       "       'Франция - Австрия - Германия - Италия - США', 'Австрия',\n",
       "       'США - Канада - Германия', 'США - Канада',\n",
       "       'СССР - Швейцария - Франция', 'Россия - Казахстан', 'Гонконг',\n",
       "       'Италия', 'США - ОАЭ', 'Россия',\n",
       "       'США - Франция - Испания - Великобритания',\n",
       "       'Великобритания - Франция', 'США-Италия-Испания-Аргентина',\n",
       "       'Франция-Великобритания', 'КНР - Гонконг',\n",
       "       'Франция - Италия - Швейцария', 'США - Новая Зеландия',\n",
       "       'Франция - Бельгия', 'КНР', 'Германия - Великобритания - Австрия',\n",
       "       'Великобритания - Израиль - Франция - Япония - США', 'Швеция',\n",
       "       'Испания', 'Дания', 'Франция - Бельгия - Люксембург',\n",
       "       'США - Индия - ОАЭ',\n",
       "       'Германия-Канада-Великобритания-Швейцария-Франция',\n",
       "       'Мексика - Чили', 'Аргентина', 'Бразилия', 'Чили', 'Австралия',\n",
       "       'Португалия - Франция', 'США - ЮАР', 'Исландия-Ирландия-Германия',\n",
       "       'США-Индонезия', 'Южная Корея', 'Мексика - Испания - Дания - США',\n",
       "       'Великобритания-США', 'Франция - Италия', 'США-Франция',\n",
       "       'США - Венгрия - Великобритания', 'Бельгия-Франция-Италия',\n",
       "       'Чехия - Германия', 'Германия - Франция', 'США-Нидерланды',\n",
       "       'Украина', 'Великобритания - Германия', 'Франция-Бельгия',\n",
       "       'США-Франция-Испания', 'Италия - Франция', 'Канада',\n",
       "       'Швеция-Франция-Дания', 'Германия-Франция-Польша',\n",
       "       'Франция-Великобритания - Германия',\n",
       "       'США - Бразилия - Франция - Австралия - Великобритания - Германия',\n",
       "       'Германия-Австрия', 'Германия-Италия- Шри-Ланка',\n",
       "       'Великобритания - Испания',\n",
       "       'США - Великобритания - Канада - Швеция',\n",
       "       'Босния и Герцеговина - Франция - Великобритания - Германия - Словения - Бельгия - Сербия',\n",
       "       'Великобритания - Франция - Италия - США', 'США-ОАЭ',\n",
       "       'Испания - Франция', 'США-Великобритания', 'США-ЮАР',\n",
       "       'Великобритания-Австралия - США',\n",
       "       'Норвегия - Швеция - Дания - Германия', 'Норвегия', 'Швейцария',\n",
       "       'Греция - Германия - Франция', 'Норвения', 'Южная Корея - США',\n",
       "       'Чили - Франция - США', 'Австрия - Германия - Франция',\n",
       "       'Швеция - Дания', 'Великобритания - Франция - Бельгия - Италия',\n",
       "       'Франция - Германия', 'Грузия - Франция - Люксембург',\n",
       "       'США - Франция - Великобритания - Бразилия ', 'США - КНР',\n",
       "       'Мексика - Франция', 'США - Германия - Гонконг - Сингапур',\n",
       "       'Финляндия - Австрия - Россия', 'Испания - Куба',\n",
       "       'Великобритания - ЮАР', 'Великобритания - Ирландия', 'Израиль',\n",
       "       'Бразилия - Германия - Порртугалия - Франция ',\n",
       "       'Франция - Канада - Бельгия', 'Франция-Испания',\n",
       "       'Испания - Канада - Япония', 'Иран', 'Швеция-Куба',\n",
       "       'США-Великобритания-Ирландия', 'Гонконг - КНР', 'Нидерланды',\n",
       "       'Испания - Канада', 'Япония-Великобритания',\n",
       "       'Великобритания - Норвегия - Дания - Германия',\n",
       "       'Финляндия - Франция - Германия',\n",
       "       'Мексика - Франция - Нидерланды - Германия', 'США - Индия',\n",
       "       'США-Великобритания-Индия', 'США-Канада-Бельгия',\n",
       "       'Республика Узбекистан', 'Италия ', 'Турция',\n",
       "       'Сербия - Словения - Хорватия - Черногория - Македония',\n",
       "       'Киргизия', 'Германия - Нидерланды - Беларусь - Россия - Латвия',\n",
       "       'Индия', 'Нидерланды - Россия - Германия',\n",
       "       'Великобритания - Нидерланды - Франция - Хорватия',\n",
       "       'Канада - Южная Корея',\n",
       "       'Великобритания - Польша - КНР - Индия - Норвегия',\n",
       "       'Япония - Франция - США - Южная Корея - Турция',\n",
       "       'Мексика - Аргентина - Великобритания', 'Израиль - Франция',\n",
       "       'Польша - Португалия - Франция - Великобритания',\n",
       "       'Австралия - США', 'США - Великобритания ',\n",
       "       'Франция - Люксембург - Бельгия', 'Армения',\n",
       "       'Бельгия - Люксембург - Франция - Швейцария',\n",
       "       'США - Великобритания - Канада', 'Норвегия - Швеция',\n",
       "       'Канада - Франция', 'КНР - Гонконг - США',\n",
       "       'США - Сингапур - Малайзия - Индонезия', 'Германия - Россия',\n",
       "       'Япония - Канада', 'Финляндия - Дания - Германия - Ирландия',\n",
       "       'Франция - Люксембург - Германия - Бельгия - Швейцария - Великобритания ',\n",
       "       'Канада - США', 'США-Италия-Испания', 'США-Испания',\n",
       "       'США - Швейцария - Франция', 'Испания - США - Колумбия',\n",
       "       'Канада-ЮАР', 'Франция - Россия',\n",
       "       'Германия - Финляндия - Австралия', 'Дания - Швеция', 'Бельгия',\n",
       "       'Германия - Франция - Австрия', 'Франция-Индия', 'ЮАР',\n",
       "       'Франция-Перу', 'Франция - Канада', 'Республика Беларусь',\n",
       "       'Великобритания - Австрия - Франция - США',\n",
       "       'Австрия-Германия-Франция', 'США-Россия', 'Германия-США',\n",
       "       'США - Южная Корея', 'Канада - КНР',\n",
       "       'Дания - Швеция - Италия - Франция - Германия',\n",
       "       'Франция-Италия-Испания-Венгрия', 'Франция - Германия - Бельгия',\n",
       "       'Франция-Великобритания-Чехия', 'Румыния - Франция - Бельгия',\n",
       "       'Болгария - Франция - Изриль',\n",
       "       'Израиль - Германия - Польша - Бельгия - Франция - Люксембург',\n",
       "       'Россия, Германия, Франция, Бельгия', 'Индонезия',\n",
       "       'Франция - Португалия', 'Великобритания - Пуэрто-Рико',\n",
       "       'СССР, ФРГ, Западный Берлин', 'Россия, Республика Беларусь',\n",
       "       'США, Великобритания', 'Франция - Австрия', 'Бельгия-Нидерланды',\n",
       "       'Великобритания - США - Индия', 'США - Великобритания - Австралия',\n",
       "       'Канада - Франция - США - ОАЭ - Великобритания',\n",
       "       'США - Австралия - Франция',\n",
       "       'Дания-Франция-Бельгия-Германия-Великобритания',\n",
       "       'Испания - Аргентина', 'Исландия - Финляндия',\n",
       "       'Россия-Польша-Голландия-Словакия', 'Дания - Германия - Швеция',\n",
       "       'Южная Корея - США - Канада', 'Таиланд', 'США-Мальта',\n",
       "       'США -Германия',\n",
       "       'Великобритания - Германия - Франция - Кипр - США', 'Мексика',\n",
       "       'США - Великобритания - Ирландия', 'США - Украина',\n",
       "       'США - Финляндия - Испания - Великобритания - Франция',\n",
       "       'Австралия-Великобритания',\n",
       "       'США - Канада - Афганистан - Бельгия - Франция',\n",
       "       'США - Великобритания - Германия - Новая Зеландия - Бельгия - Франция',\n",
       "       'Франция-Канада',\n",
       "       'Ирландия - Финляндия - Бельгия - Великобритания - США - Швейцария',\n",
       "       'Малайзия - США', 'Германия - Италия',\n",
       "       'США - Франция - Бельгия - Италия', 'Франция - Ирландия - Швеция',\n",
       "       'Азербайджан-Россия', 'Великобритания - Италия - Швейцария',\n",
       "       'США - Германия - Великобритания',\n",
       "       'Германия - Бельгия - США -Франция', 'США-Китай', 'Чили - Испания',\n",
       "       'Франция - Швейцария', 'Канада - Испания',\n",
       "       'США - Румыния - Великобритания', 'США - Япония',\n",
       "       'США - Россия - Франция', 'Франция-США', 'Парагвай',\n",
       "       'Германия - Канада', 'США - Канада - Великобритания',\n",
       "       'Финляндия - Канада', 'Уругвай-Мексика-Германия ', 'США - Чили',\n",
       "       'Германия - Аргентина - Нидерланды - Чили',\n",
       "       'США - Канада - Индонезия', 'Армения - Казахстан', 'Финляндия',\n",
       "       'Испания - Италия - Франция',\n",
       "       'Бельгия - Испания - Канада - Нидерланды',\n",
       "       'Великобритания - Франция - Швеция - Бельгия',\n",
       "       'Мексика - Эквадор - Канада - США - Франция - Малайзия - Италия - Аргентина - Германия - Индия  ',\n",
       "       'Франция - Бенльгия', 'Индия - Великобритания',\n",
       "       'Япония - Великобритания - Франция',\n",
       "       'Испания - Уругвай - Аргентина',\n",
       "       'Франция - Италия - Бельгия - Люксембург',\n",
       "       'Франция - Украина - Грузия - Армения',\n",
       "       'Сербия - Германия - Венгрия', 'Франция-Польша', 'Франция ',\n",
       "       'Румыния-США', 'Россия-Азербайджан',\n",
       "       'США - Нидерланды - Бельгия - Венгрия - Греция - Канада',\n",
       "       'Германия - Франция - Люксембург', 'США - Россия',\n",
       "       'Великобритания - США - Франция', 'США - Австралия - Дания',\n",
       "       'Бельгия-Франция', 'США-Мексика',\n",
       "       'Норвегия - Азербайджан - Россия - Колумбия - Великобритания - Венгрия - Румыния - Франция - Грузия',\n",
       "       'СЩА', 'Бразилия - Испания', 'Россия, Франция, Латвия',\n",
       "       'Нидерланды - США - Германия - Канада - Франция - Ирландия - Великобритания',\n",
       "       'Уругвай - Колумбия', 'США - Испания - Болгария',\n",
       "       'Армения - Германия', 'США - Великобритания- Франция - Швеция',\n",
       "       'США - Мексика', 'Австралия-Турция-США', 'Швеция - Германия',\n",
       "       'Польша - Италия - Россия', 'Франция - Бразилия',\n",
       "       'США - Канада - КНР', 'СССР, Венгрия, ЧССР, ГДР',\n",
       "       'Бельгия - Германия - Люксембург', 'СССР  ', 'СССР ', ' СССР ',\n",
       "       'США - Австралия', 'Бразилия - США',\n",
       "       'США - Великобритания - Канада - КНР', 'Франция - Чили',\n",
       "       'Франция - США - Великобритания - Колумбия - Бельгия - Россия',\n",
       "       'Дания - Великобритания - ЮАР', 'СССР   ',\n",
       "       'Россия-США-Канада-Люксембург', 'Россия - Республика Кипр',\n",
       "       'Германия - США - Швеция - Франция',\n",
       "       'Великобритания-Германия-Канада-ЮАР', ' СССР   ', 'СССР     ',\n",
       "       'Ирландия, Канада',\n",
       "       'Япония - Великобритания - Швейцария - Ирландия - Дания - Франция - Польша - Австралия - Канада  ',\n",
       "       'Великобритания, Канада', 'Бельгия - США',\n",
       "       'Великобритания - США - Россия', 'Россия-Украина',\n",
       "       'Германия - США - Великобритания - Израиль', 'Канада - Германия',\n",
       "       'США- Ю.Корея', 'Индия - Мексика',\n",
       "       'Великобритания - Франция - Республика Кипр - Швейцария - США - Сербия',\n",
       "       'Испания - Аргентина - Индия - США',\n",
       "       'Норвегия - Исландия - США - Великобритания ',\n",
       "       'Турция - Германя - Франция', 'Германия - Великобритания',\n",
       "       'Австралия - Германия', 'Мексика - Испания',\n",
       "       'Великобритания - США - Германия - Бельгия',\n",
       "       'США - Чехия - Франция', 'Россия - Италия', 'Франция-Россия',\n",
       "       'Норвегия - Дания - Швеция', 'Франция - Швейцария - Германия',\n",
       "       'Грузия - Украина', 'Россия - Эстония - Финляндия - Беларусь',\n",
       "       'США - Франция - ЮАР', 'Великобритания - США - Швейцария',\n",
       "       'Канада-США', 'Мексика - Нидерланды - Германия - Франция',\n",
       "       'США - Испания - Франция', 'США - Великобритания - КНР',\n",
       "       'США-Франция-Канада',\n",
       "       'Япония, Великобритания, Австрия, Германия, Ю.Корея',\n",
       "       'Великобритания - Ирландия - США', 'Бельгия - Италия - Франция ',\n",
       "       'Швейцария-Германия-ЮАР', 'Великобритания - США - Германия',\n",
       "       'Германия - Исландия', 'Испания - США', 'СССР    ', 'Хорватия',\n",
       "       'Финляндия - Исландия - Швеция',\n",
       "       'Канада - США - Германия - Франция',\n",
       "       'США - Великобритания - Испания', 'Ирландия-Великобритания',\n",
       "       'Аргентина - Испания', 'Австрия - Германия', ' СССР',\n",
       "       'Германия - Швейцария - Франция - Южная Корея - США',\n",
       "       'Украина - Нидерланды', 'Венгрия - Германия - Швеция',\n",
       "       'Германия - Франция -  Польша - Турция - Канада - Италия - Россия ',\n",
       "       'СССР, Афганистан', 'СССР, Монголия', 'Россия-Кипр',\n",
       "       'Россия, Грузия, Испания',\n",
       "       'Великобритания - Нидерланды - Германия - Франция - Бельгия - Австрия ',\n",
       "       'Испания - Великобритания - Франция',\n",
       "       'Дания - Норвегия - Великобритания',\n",
       "       'Бельгия - Франция - Люксембург',\n",
       "       'Италия - Франция - Швейцария - Великобритания',\n",
       "       'Франция - Бельгия - Великобритания - Испания - Германия - США',\n",
       "       'Швейцария - Израиль - Франция - Великобритания',\n",
       "       'Великобритания - США - Канада - Нидерланды - Франция',\n",
       "       'Россия, Италия', 'СССР, Албания',\n",
       "       'Россия, Украина, Республика Беларусь, Литва',\n",
       "       'Финляндия - Великобритания - Германия', 'Россия, Украина, Польша',\n",
       "       'Франция - Италия - Бельгия - КНР',\n",
       "       'Германия - Бельгия - Люксембург - Ирландия', 'КНР - Сингапур',\n",
       "       'Франция - Бельгия - Великобритания - США - Нидерланды - Канада',\n",
       "       'США - Россия - Польша - Германия - Пуэрто Рико',\n",
       "       'Франция - Бельгия - Канада', 'США ', 'Мексика - США',\n",
       "       'США - Гонконг - КНР ', 'Греция - Россия',\n",
       "       'Ирландия - Дания - Бельгия - Люксембург - Франция',\n",
       "       'Эстония - Россия',\n",
       "       'Великобритания - Исландия - Испания - Швейцария - США',\n",
       "       'Австралия - Великобритания - Бельгия - Индия',\n",
       "       'Швеция - Германия - Франция - Норвегия',\n",
       "       'Нидерланды - Бельгия - Германия - Ирландия',\n",
       "       'Нидерланды - Великобритания - Бельгия',\n",
       "       'США - Колумбия - Испания', 'Франция-Испания-Бельгия-Панама',\n",
       "       'США-Великобритания-Чехия-Румыния',\n",
       "       'Аргентина - Уругвай - Россия - Германия - Франция - Нидерланды',\n",
       "       'Швеция - Франция - Норвегия - Дания',\n",
       "       'Италия-Франция-Великобритания', 'Великобритания, Франция',\n",
       "       'Австралия, США', 'Венесуэла',\n",
       "       'Великобритания - США - Австралия - Ирландия - Германия - Куба - Канада',\n",
       "       'Южная Корея - КНР',\n",
       "       'Аргентина - Мексика - Бразилия - Франция - США', 'Швеция - США',\n",
       "       'Франция - Германия - Турция - Катар', 'Франция-Китай',\n",
       "       'Россия, Германия, Великобритания',\n",
       "       'Великобритания - Италия - Испания', 'Италия - Россия',\n",
       "       'Япония - КНР - Южная Корея', 'Россия, Германия',\n",
       "       'Россия-Ирландия', 'Македония - Франция - Великобритания',\n",
       "       'Франция - Бразилия - Италия', 'Россия-США', 'Армения-Россия',\n",
       "       'Россия, Румыния', 'Франция -  Бельгия', 'Грузия-Франция',\n",
       "       'ЮАР - США', 'Великобритания-США-Франция',\n",
       "       'Великобритания - США - Германия - Канада - Австралия',\n",
       "       'США-Ирландия', 'Россия, Республика Кипр',\n",
       "       'Германия - Люксембург - Франция', 'Россия-Франция',\n",
       "       'США - Нидерланды - Финляндия - Великобритания - Италия',\n",
       "       'Республика Кипр', 'Венгрия', 'Франция - США - Норвегия - Дания',\n",
       "       'Германия - Австрия - Ирландия', 'США - Финляндия',\n",
       "       'Италия-Великобритания', 'Россия, Испания',\n",
       "       'США - Великобритания - Болгария', 'Великобритания - Люксембург',\n",
       "       'Индия - США', 'США - Канада - Россия - Франция - Чили - Ирландия',\n",
       "       'Грузия-Россия',\n",
       "       'Дания - Австрия - Ирландия - Финляндия - Норвегия - Швеция - Нидерланды',\n",
       "       'США-КНР', 'Грузия', 'Австралия - Ирландия',\n",
       "       'Великобритания - Канада', 'Италия - Аргентина - Словения ',\n",
       "       'Испания - Франция - Нидерланды - Германия - Бельгия - Великобритания - Канада',\n",
       "       'Франция - Чехия - Бельгия',\n",
       "       'Великобритания - Франция - Германия - США',\n",
       "       'Ирландия - Великобритания - Франция - США - Германия - Нидерланды',\n",
       "       'США - Канада - Япония - КНР', 'Италия-Франция',\n",
       "       'США - Великобритания - Исландия', 'Великобритания-Франция',\n",
       "       'Франция - Германия - Нидерланды', 'Иран ',\n",
       "       'Франция - Германия - Швеция - США - Чехия - Словакия - Великобритания - Нидерланды',\n",
       "       'Франция - Канада - Н.Зеландия - США - Нидерланды - Германия - Швеция - Россия',\n",
       "       'Турция - США',\n",
       "       'Великобритания - США - Канада - Бельгия - Нидерланды - Австрия - Германия',\n",
       "       'Израиль - Франция - Германия - Палестина - США - Австрия - Великобритания',\n",
       "       'Аргентина - Франция - Испания', 'СССР, Россия',\n",
       "       'Великобритания - Франция - Италия - Индия - Дания - КНР - Бангладеш - Камбоджа - Гаити - Уганда',\n",
       "       'Италия - Франция - Швейцария',\n",
       "       'Ирландия - Великобритания - Канада', 'Перу', 'США - Норвегия',\n",
       "       'Испания-Канада', 'Китай-Гонконг', 'США - Германия - КНР',\n",
       "       'Великобритания - Новая Зеландия',\n",
       "       'Франция - Дания - Швеция - КНР',\n",
       "       'США - Великобритания - Германия - Бельгия - Дания',\n",
       "       'США - Франция - Канада - Германия - Австралия - Индия', nan,\n",
       "       'СССР, Румыния, Франция', 'СССР, ГДР', 'Австралия-Ирландия',\n",
       "       'США - Китай', 'Великобритания - Франция - Австрия - Швеция',\n",
       "       'Россия, Таджикистан', 'Нидерланды - Бельгия - Болгария',\n",
       "       'Великобритания - Канада - США', 'Франция - Бельгия - Испания',\n",
       "       'Китай-Гонконг-США', 'Франция - Великобритания', 'США - Вьетнам',\n",
       "       'США - Германия - Франция', 'Германия - Франция - Бельгия',\n",
       "       'США - Италия',\n",
       "       'Германия - Дания - Испания - Швеция - Канада - Эстония - Франция',\n",
       "       'Княжество Андорра - Украина', 'Германия - Люксембург - Бельгия',\n",
       "       'Великобритания - Россия - Украина - США',\n",
       "       'Германия - Бельгия - Люксембург - Норвегия',\n",
       "       'США - Австралия - Новая Зеландия - Великобритания',\n",
       "       'США - Франция - Канада - Великобритания', 'Испания-Колумбия',\n",
       "       'Великобритания - Чехия - Франция', 'Россия, Украина', 'Исландия',\n",
       "       'Великобритания - Франция - Венгрия',\n",
       "       'Россия, Франция, Германия, Бельгия', 'Франция - Македония',\n",
       "       'Нидерланды - Франция - Германия - Бельгия - Швеция - Великобритания',\n",
       "       'Испания - США - Великобритания - Канада', 'Германия - Австрия',\n",
       "       'Республика Казахстан',\n",
       "       'Франция - Испания - Дания - Венгрия - Швейцария', 'Франция-КНР',\n",
       "       'США - Пуэрто-Рико - Франция ', 'Мексика - Тайвань - США',\n",
       "       'Великобритания - Испания - Непал - Индия - Венгрия - Гонконг - Германия - Дания - Бахрейн',\n",
       "       'Великобритания - Аргентина - США - Франция - Россия - Испания',\n",
       "       'КНР - США', 'Италия - США', 'Финляндия - Швеция - Германия',\n",
       "       'Канада- Испания', 'Франция - Бельгия - Чехия',\n",
       "       'Франция-Бельгия-Канада', 'Франция - Германия - США',\n",
       "       'США - Дания', 'Индия - КНР', 'Чехия-Великобритания-США',\n",
       "       'США-ФРГ-Россия', 'Ирландия-Нидерланды-Франция-США-Великобритания',\n",
       "       'Россия, Грузия, Хорватия, Испания',\n",
       "       'Финляндия - Швеция - Норвегия', 'Сербия - Великобритания - США',\n",
       "       'США - Великобритания - Франция - Гонконг', 'Швейцария - Франция',\n",
       "       'Швейцария - Великобритания', 'ОАЭ - США',\n",
       "       'США - Франция - Германия - Канада - Австралия ',\n",
       "       'Германия - Австралия', 'Иран, Франция',\n",
       "       'США - Великобритания - Новая Зеландия', 'США-Колумбия',\n",
       "       'США-Франция-Ирландия', 'Великобритания - Франция - Бельгия',\n",
       "       'США - Великобритания - Япония', 'США - Франция - Германия',\n",
       "       'Польша - Ирландия', 'Ирландия - Великобритания - Франция - США',\n",
       "       'США - Бельгия - Великобритания', 'СССР, ВНР',\n",
       "       'Испания - Франция - США - Великобритания - Бельгия',\n",
       "       'Франция - Дания - США', 'США - Гонконг', 'Бразилия - К;анада',\n",
       "       'Франция-Германия', 'США - Колумбия',\n",
       "       'США - Ирландия - Великобритания - Франция',\n",
       "       'Великобритания - США - Канада', 'Польша - Франция',\n",
       "       'Канада - США - Нидерланды - Великобритания - Аргентина',\n",
       "       'Великобритания - Дания', 'Франция - Бельгия - Япония',\n",
       "       'Россия,  Испания', 'Франция -Бельгия',\n",
       "       'США - Канада - Германия - Франция', 'США-Канада-Франция',\n",
       "       'Россия - Германия', 'Россия-Италия', 'Китай - Гонконг',\n",
       "       'Германия-Австрия-Франция-Италия', 'США-Япония',\n",
       "       'США - Германия - Канада', 'Испания-Мексика',\n",
       "       'США - Япония - Канада - Великобритания - Германия - Франция',\n",
       "       'США -Великобритания - Австралия', 'Россия-Украина-Германия',\n",
       "       'Израиль - Франция - Великобритания - Германия', 'Корея',\n",
       "       'Россия - Болгария', 'США-Индия',\n",
       "       'Германия-Канада-Франция-Бельгия', 'Германия-Кения',\n",
       "       'Франция - Монако', 'Франция-Испания-Швейцария',\n",
       "       'Австрия-Франция-Германия', 'Румыния',\n",
       "       'США-Великобритания-Франция', 'Канада-Великобритания',\n",
       "       'Канада-Бразилия-Япония', 'Германия - Дания - Норвегия',\n",
       "       'Дания - Германия', 'СССР - Италия',\n",
       "       'СССР - ГДР - Польша - Италия',\n",
       "       'США - Испания - Франция - Великобритания', 'Китай',\n",
       "       'Мексика-Аргентина',\n",
       "       'Германия - Великобритания - Италия - Испания',\n",
       "       'Франция-Германия-Великобритания', 'Россия - Германия - Швейцария',\n",
       "       'Франция-Австралия', 'Голландия', 'Швейцария-Франция',\n",
       "       'Россия-Белоруссия', 'Франция - Испания - Тайвань',\n",
       "       'США-Южная Корея-Новая Зеландия', 'Великобритания-Венгрия',\n",
       "       'Россия-Германия', 'Великобритания-Франция-Германия',\n",
       "       'Франция-Германия-Италия', 'Швеция-Финляндия-Франция-Норвегия',\n",
       "       'Франция-Италия', 'Германия-Израиль',\n",
       "       'Швеция - Германия - Дания - Норвегия', 'США-Бельгия',\n",
       "       'Франция-Гонконг-Ирландия', 'Эстония', 'Литва-Россия-Украина',\n",
       "       'Германия - Италия - Франция',\n",
       "       'Великобритания - Австрия - Германия', 'Бельгия - Франция',\n",
       "       'Россия-Казахстан', 'Испания - Мальта',\n",
       "       'Франция-Россия-Румыния-Италия-Бельгия', 'Россия - Польша',\n",
       "       'Испания - Мексика', 'США-Аргентина', 'Великобритания ',\n",
       "       'Израиль-США-Франция', 'США - Новая Зеландия - Япония',\n",
       "       'Франция - Чехия - Великобритания', 'Россия-Польша',\n",
       "       'Германия-Франция-Великобритания', 'США-Германия-Канада',\n",
       "       'США-Гонконг-Китай', 'США - Великобритания - Германия',\n",
       "       'США-Канада-Австралия', 'Япония-США-Франция',\n",
       "       'Франция-Испания-Германия', 'США - Хорватия - Босния-Герцеговина',\n",
       "       'Великобритания - Чехия - Франция - Италия',\n",
       "       'США - Германия - Нидерланды', 'Германия - Франция - Канада',\n",
       "       'Франция-Грузия-Германия-Россия-Украина-Бельгия',\n",
       "       'Великобритания - Франция - Италия', 'Россия - США',\n",
       "       'Франция - Италия - Иран', 'Россия - Азербайджан', 'Греция',\n",
       "       'Дания - США', 'США-Великобритания-Новая Зеландия',\n",
       "       'США-Германия-Австралия', 'США-Канада-Италия',\n",
       "       'США - Япония - Германия', 'Австралия-США',\n",
       "       'Франция - Великобритания - Багамские острова - США',\n",
       "       'Швейцария - Люксембург', 'Швейцария - Австрия',\n",
       "       'Германия - Швейцария', 'Дания-Швеция-Франция-Германия', 'Польша',\n",
       "       'Швейцария-Австрия', 'Бразилия - Канада - США',\n",
       "       'Нидерланды - Россия', 'Португалия', 'Франция-Аргентина',\n",
       "       'Швеция-Франция', 'Франция-Украина', 'Германия-Украина-Нидерланды',\n",
       "       'Италия-Швейцария', 'США-Германия-Великобритания',\n",
       "       'Латвия - Россия', 'Германия-Франция-Великобритания-США',\n",
       "       'Канада - Италия', 'США - Объединенные Арабские Эмираты',\n",
       "       'США-Венгрия', 'Малайзия', 'Россия - Германия - Украина',\n",
       "       'США - Австралия - Мексика', 'Литва - Венгрия', 'Германия - Китай',\n",
       "       'Казахстан', 'Республика Корея',\n",
       "       'США - Германия - Франция - Великобритания - Канада ',\n",
       "       'Бельгия - Германия - Люксембург - Франция', 'Франция - Греция',\n",
       "       'Италия - Канада', 'США - Великобритания - Франция',\n",
       "       'США-Италия-Греция', 'Германия - США - Великобритания - Ирландия',\n",
       "       'Великобритания - Франция - Германия',\n",
       "       'Германия - Нидерланды - ЮАР',\n",
       "       'США-Япония-Германия-Великобритания-Нидерланды',\n",
       "       'США-Япония-Германия-Великобритания',\n",
       "       'Германия - Франция - Польша',\n",
       "       'Таиланд-Великобритания-Франция-Германия-Испания-Нидерланды',\n",
       "       'Германия-Италия-Швейцария',\n",
       "       'Дания - Швеция - Великобритания - Франция - Германия - Нидерланды - Норвегия - Финляндия',\n",
       "       'Франция - Великобритания - Нидерланды - Люксембург',\n",
       "       'Нидерланды-Великобритания-Франция-Италия-Япония',\n",
       "       'Финляндия-Дания-Германия-Ирландия', 'Испания-Аргентина',\n",
       "       'Великобритания - Нидерланды - Франция - США', 'Канада - Мексика',\n",
       "       'США, Франция', 'Канада-Южная Корея-США',\n",
       "       'Великобритания - Франция - Бельгия - США', 'КНР - Канада - США',\n",
       "       'Италия - Франция - Германия',\n",
       "       'Швеция - Германия - Франция - Дания', 'Франция - США - Бельгия',\n",
       "       'Украина - Германия - Латвия - Эстония', 'Австрия - Люксембург',\n",
       "       'Великобритания - КНР', 'Монголия', 'Франция - Дания',\n",
       "       'Швеция - Дания - Финляндия',\n",
       "       'Сингапур - Великобритания - Индонезия - Канада - США',\n",
       "       'США - Германия - Япония', 'Таиланд - США', 'Франция - Нидерланды',\n",
       "       'Великобритания - Румыния', 'США - Мальта',\n",
       "       'Великобритания - Германия - Нидерланды - Дания',\n",
       "       'Франция - Германия - Литва - Нидерланды - Россия',\n",
       "       'США - ЮАР - Гонконг', 'Австралия - Колумбия',\n",
       "       'Великобритания - Польша', 'США - Великобритания - Швеция',\n",
       "       'Франция - Швеция - Дания - Норвегия', 'Болгария - США',\n",
       "       'СССР, ФРГ', 'Бельгия - Нидерланды - Франция',\n",
       "       'Финляндия - Германия', 'Болгария',\n",
       "       'Грузия - Россия - Украина - Хорватия - Германия',\n",
       "       'Франция - Люксембург', 'Франция - Германия - Австрия',\n",
       "       'Норвегия - США', 'Германия-Швеция', 'Франция - Германия - Италия',\n",
       "       'Франция-Германия-Австрия', 'КНР-США',\n",
       "       'Великобритания - Ирландия - США ',\n",
       "       'Дания - Латвия - Россия - США', 'Финляндия - Польша',\n",
       "       'Германия - Бельгия', 'Германия - США - Франция - Испания',\n",
       "       'Бельгия-Германия-Канада-Франция-США-Великобритания',\n",
       "       'Нидерланды - Бельгия - Люксембург', 'Канада-Германия',\n",
       "       'Люксембург - Бельгия - Франция', 'США-Великобритания-Австралия',\n",
       "       'Великобритания, Новая Зеландия', 'Бельгия, Великобритания, США',\n",
       "       'Великобритания, Австралия', 'Исландия, Бельгия',\n",
       "       'Испания - Швейцария - Великобритания - Германия - Новая Зеландия - Нидерланды - Канада',\n",
       "       'Франция, Бельгия', 'Великобритания, США', 'Киргизия-Россия',\n",
       "       'Германия, США', 'Великобритания, США, Испания',\n",
       "       'Италия - Швейцария - Германия', 'Россия, Армения',\n",
       "       'Франция, Германия', 'Китай, Канада, США', 'Германия, Австралия',\n",
       "       'КНР, США', 'США, Великобритания, Люксембург',\n",
       "       'Испания, Ирландия, Бельгия, Франция',\n",
       "       'Великобритания - Гонконг - Венгрия - США - Ирландия',\n",
       "       'США - Пуэрто Рико', 'Аргентина - Испания - Уругвай',\n",
       "       'Израиль - Германия - Франция - Швейцария',\n",
       "       'Великобритания - Мексика - США', 'Испания - Болгария - США',\n",
       "       'Россия-Словакия-Чехия',\n",
       "       'Швейцария - КНР - США - Россия - Республика Корея - Великобритания',\n",
       "       'Россия, Нидерланды, Финляндия',\n",
       "       'Испания - Бельгия - Франция - Португалия - Великобритания',\n",
       "       'Бразилия - Португалия - Франция', 'Швеция - Норвегия',\n",
       "       'Франция - Польша - Бельгия', 'CША', 'Китай, США',\n",
       "       'Италия, Франция, Германия', 'Германия - Австрия - Франция',\n",
       "       'Чехия - Словакия - Хорватия', 'Россия, Польша, Финляндия',\n",
       "       'Россия, Латвия, Чешская Республика',\n",
       "       'Франция - Великобритания - Камбоджа - США - КНР',\n",
       "       'Чехия - Испания - США', 'Германия - Люксембург - Дания',\n",
       "       'Великобритания - Испания - Германия', 'Дания - Исландия',\n",
       "       'Германия, Франция, Великобритания',\n",
       "       'Великобритания - Испания - Италия - Латвия - Франция - Эстония',\n",
       "       'Дания, Швеция, Великобритания, Франция, Германия, Норвегия, Финляндия, Нидерланды, Италия',\n",
       "       'Польша - Франция - Великобритания',\n",
       "       'Дания, Норвегия, Венгрия, Чехия',\n",
       "       'Дания - Франция - Германия - Швеция',\n",
       "       'Великобритания, Швеция, США',\n",
       "       'Канада, Франция, Италия, Швейцария, США', 'США, Индия',\n",
       "       'США - Великобритания - Германия - - Швеция - Канада',\n",
       "       'Италия, Франция', 'Республика Беларусь, Германия, США, Россия',\n",
       "       'Италия-Швейцария-Франция-Германия ',\n",
       "       'Россия - Франция - Великобритания - Латвия', 'Россия-Беларусь',\n",
       "       'Франция - Испания - Румыния - США - Бельгия', 'Италия-США',\n",
       "       'Россия, Австрия', 'Ирландия - Великобритания - США',\n",
       "       'Швейцария, Великобритания, Франция, США, Ирландия',\n",
       "       'Мексика, Франция, Германия, Дания, Швеция', 'Нидерланды, Бельгия',\n",
       "       'Швеция, Норвегия, Финляндия, Франция', 'Испания, Франция, Италия',\n",
       "       'Испания-Франция-Греция-Индия-США-Россия-Великобритания',\n",
       "       'Великобритания - Япония - США',\n",
       "       'Дания, Канада, Норвегия, Австралия, США', 'Аргентина, Испания',\n",
       "       'Россия, Германия, Казахстан, Польша, Китай',\n",
       "       'Португалия, Франция, Польша, США', 'США - Канада - Аргентина',\n",
       "       'Ливан-США', 'Япония - США', 'США, Гонконг ',\n",
       "       'Франция - Россия - Швейцария - Румыния - Венгрия',\n",
       "       'Аргентина-Испания', 'Россия, Сербия', 'США - Болгария - Мексика',\n",
       "       'США - Великобритания - Швейцария - Франция',\n",
       "       'Таиланд - КНР - США',\n",
       "       'Великобритания, Нидерланды, Польша, Швейцария, Франция',\n",
       "       'Ирландия - США',\n",
       "       'Германия - Франция - Великобритания - Польша - США',\n",
       "       'Великобритания-Франция-Италия', 'США - Австралия - Индия',\n",
       "       'Франция - КНР', 'Великобритания - Израиль',\n",
       "       'Великобритания - Норвегия - Кения - Хорватия',\n",
       "       'США - Бразилия - Великобритания - Канада', 'Германия, Бельгия',\n",
       "       'Австралия, Канада', 'США, Великобритания, Франция',\n",
       "       'Кения, Германия', 'Нидерланды, Бельгия, Люксембург', 'Колумбия',\n",
       "       'Латвия - Франция', 'Ирландия, Великобритания',\n",
       "       'Франция - Израиль - Германия', 'Швеция, Франция, Великобритания',\n",
       "       'Бельгия - Люксембург', 'Германия - Бельгия - Великобритания',\n",
       "       'Испания, Франция, Великобритания, Дания, Бельгия, Германия',\n",
       "       'Румыния, ЮАР, Иран, Франция, Канада, Великобритания',\n",
       "       'Германия, Франция', 'США, Япония',\n",
       "       'США, Великобритания, Ирландия, Люксембург', 'Республика Армения',\n",
       "       'США, Франция, Япония', 'Япония, США', 'Канада, США',\n",
       "       'Республика Кипр - Россия',\n",
       "       'Дания - Франция - Италия - Бельгия - Нидерланды',\n",
       "       'Россия - Грузия', 'Италия, Германия', 'Норвегия, Швеция, Дания',\n",
       "       'Республика Кипр, Россия', 'КНР, Индия, Гонконг, США',\n",
       "       'Израиль, Украина', 'США, Россия', 'США - КНР - Индия - Ю.Корея',\n",
       "       'США - Швеция', 'Франция, Канада', 'Россия-Китай',\n",
       "       'Канада, Великобритания', 'США, Германия',\n",
       "       'Канада, США, Каймановы острова',\n",
       "       'Бразилия, Уругвай, Дания, Норвегия, Чили, Швеция',\n",
       "       'Пуэрто-Рико, Великобритания, США',\n",
       "       'Уругвай - Аргентина - Испания',\n",
       "       'США - Великобритания - Италия - Израиль - Сербия - Индия',\n",
       "       'США - Канада - Франция - Индия', 'Великобритания - Россия - КНР',\n",
       "       'Франция, Новая Зеландия', 'Франция, Люксембург, Бельгия',\n",
       "       'Канада, США, Норвегия', 'Италия, Испания',\n",
       "       'Испания - Германия - Нидерланды', 'Бразилия - США - КНР ',\n",
       "       'Великобритания, Германия, Дания, США', '2019',\n",
       "       'Италия - Фрация - Бразилия - Германия',\n",
       "       'Норвегия - Швеция - Россия', 'Великобритания, Япония, США',\n",
       "       'Сша, Канада', 'Бельгия, Канада',\n",
       "       'Великобритания - Австралия - США', 'США, Канада', 'КНР - США ',\n",
       "       'Франция - Финляндия', 'Колумбия - США',\n",
       "       'Великобритания, Франция, Бельгия', 'Норвегия - Нидерланды',\n",
       "       'Великобритания, Канада, США', 'Япония, Великобритания',\n",
       "       'Италия - Бельгия - Франция', 'Россия, Бельгия, Финляндия',\n",
       "       'США, Украина', 'Франция, Норвегия',\n",
       "       'Великобритания, Южная Корея, Канада, США, Индия, Китай, Япония',\n",
       "       'Канада - Норвегия', 'Республика Кипр-Россия', 'Германия, Россия',\n",
       "       'Польша - Франция - Испания - Бразилия - Швеция',\n",
       "       'Австрия, Великобритания, Германия', 'Франция - Сенегал - Бельгия',\n",
       "       'Франция, Бельгия, Люксембург', 'Финляндия, Латвия', 'Пакистан',\n",
       "       'Германия, Франция, США', 'Германия - Великобритания - США',\n",
       "       'КНР - Франция', 'Дания, Норвегия, Швеция, Исландия',\n",
       "       'Республика Кипр, США, Россия', 'Новая Зеландия - КНР',\n",
       "       'Дания - Канада - Швеция - Франция - Германия - Великобритания - США'],\n",
       "      dtype=object)"
      ]
     },
     "execution_count": 80,
     "metadata": {},
     "output_type": "execute_result"
    }
   ],
   "source": [
    "data['production_country'].unique()"
   ]
  },
  {
   "cell_type": "code",
   "execution_count": 81,
   "metadata": {},
   "outputs": [
    {
     "data": {
      "text/plain": [
       "array(['«18+» - запрещено для детей', '«6+» - для детей старше 6 лет',\n",
       "       '«12+» - для детей старше 12 лет',\n",
       "       '«16+» - для детей старше 16 лет',\n",
       "       '«0+» - для любой зрительской аудитории'], dtype=object)"
      ]
     },
     "execution_count": 81,
     "metadata": {},
     "output_type": "execute_result"
    }
   ],
   "source": [
    "data['age_restriction'].unique()"
   ]
  },
  {
   "cell_type": "code",
   "execution_count": 82,
   "metadata": {},
   "outputs": [
    {
     "data": {
      "text/plain": [
       "array([nan, 'Министерство культуры', 'Фонд кино',\n",
       "       'Министерство культуры, Фонд кино'], dtype=object)"
      ]
     },
     "execution_count": 82,
     "metadata": {},
     "output_type": "execute_result"
    }
   ],
   "source": [
    "data['financing_source'].unique()"
   ]
  },
  {
   "cell_type": "code",
   "execution_count": 83,
   "metadata": {
    "scrolled": true
   },
   "outputs": [
    {
     "data": {
      "text/plain": [
       "array(['боевик,драма,мелодрама', 'драма,военный',\n",
       "       'фантастика,боевик,триллер', 'драма', 'мелодрама,комедия',\n",
       "       'мюзикл,мелодрама,комедия', 'комедия,криминал',\n",
       "       'боевик,триллер,детектив', 'боевик,драма,приключения',\n",
       "       'драма,спорт', 'триллер,драма,мелодрама', 'комедия,мелодрама',\n",
       "       'драма,мелодрама,комедия', 'драма,мелодрама', 'драма,история',\n",
       "       'драма,мелодрама,семейный', 'комедия,мелодрама,криминал',\n",
       "       'комедия', 'боевик,драма,криминал', 'драма,комедия',\n",
       "       'ужасы,фантастика,комедия', 'мультфильм,короткометражка,мелодрама',\n",
       "       'драма,криминал', 'мультфильм,фантастика,фэнтези',\n",
       "       'триллер,драма,криминал', 'драма,мелодрама,биография',\n",
       "       'драма,комедия,военный', 'фантастика,драма,детектив',\n",
       "       'мюзикл,семейный', nan, 'военный,приключения,драма',\n",
       "       'документальный,драма', 'драма,биография,история',\n",
       "       'боевик,триллер,драма', 'фэнтези,боевик',\n",
       "       'боевик,комедия,криминал', 'мюзикл,комедия,детский',\n",
       "       'комедия,мелодрама,драма', 'мультфильм,фэнтези,комедия',\n",
       "       'комедия,история', 'мелодрама', 'драма,биография,музыка',\n",
       "       'фэнтези,драма,мелодрама', 'триллер,военный',\n",
       "       'драма,мелодрама,военный', 'мюзикл,драма,мелодрама',\n",
       "       'мюзикл,комедия', 'мультфильм,приключения,семейный',\n",
       "       'ужасы,триллер', 'боевик,драма,военный', 'драма,боевик',\n",
       "       'мультфильм,драма,комедия', 'триллер,криминал',\n",
       "       'военный,биография,драма', 'комедия,семейный', 'военный',\n",
       "       'драма,семейный,биография', 'фэнтези,приключения,семейный',\n",
       "       'драма,криминал,биография', 'ужасы,триллер,детектив',\n",
       "       'боевик,история,драма', 'ужасы,триллер,драма',\n",
       "       'драма,криминал,спорт', 'документальный,короткометражка',\n",
       "       'триллер,драма', 'криминал,детектив,приключения',\n",
       "       'драма,комедия,криминал', 'драма,комедия,вестерн',\n",
       "       'драма,мелодрама,детектив', 'мелодрама,биография',\n",
       "       'фэнтези,мелодрама,драма', 'драма,мелодрама,история',\n",
       "       'комедия,приключения,история', 'приключения', 'драма,семейный',\n",
       "       'криминал,детектив', 'мультфильм,короткометражка,ужасы',\n",
       "       'фантастика,триллер,драма', 'фэнтези,мелодрама,комедия',\n",
       "       'драма,биография', 'комедия,криминал,история',\n",
       "       'триллер,драма,детектив', 'фантастика,комедия,приключения',\n",
       "       'фэнтези,семейный', 'ужасы,фантастика,боевик',\n",
       "       'мелодрама,криминал', 'комедия,приключения,мелодрама',\n",
       "       'боевик,триллер,приключения', 'боевик,приключения',\n",
       "       'боевик,триллер,криминал', 'документальный,военный,история',\n",
       "       'драма,музыка', 'боевик,драма', 'приключения,боевик',\n",
       "       'драма,военный,биография', 'триллер,драма,приключения',\n",
       "       'аниме,мультфильм,фэнтези', 'триллер,детектив,драма',\n",
       "       'боевик,триллер,мелодрама', 'боевик,история',\n",
       "       'приключения,история', 'драма,комедия,приключения',\n",
       "       'фэнтези,комедия,приключения', 'драма,вестерн',\n",
       "       'документальный,музыка', 'мелодрама,драма',\n",
       "       'триллер,криминал,детектив', 'ужасы', 'боевик,комедия,приключения',\n",
       "       'мультфильм,фэнтези,боевик', 'боевик,фэнтези,драма',\n",
       "       'фэнтези,драма', 'фэнтези,боевик,комедия',\n",
       "       'приключения,детский,комедия', 'документальный',\n",
       "       'боевик,триллер,комедия', 'мелодрама,комедия,криминал',\n",
       "       'драма,детектив', 'мюзикл,ужасы,триллер', 'детектив,триллер,ужасы',\n",
       "       'ужасы,фэнтези', 'ужасы,фэнтези,триллер', 'мультфильм,драма',\n",
       "       'ужасы,боевик,фантастика', 'боевик', 'фантастика,боевик',\n",
       "       'мелодрама,комедия,приключения', 'триллер,детектив',\n",
       "       'мюзикл,мелодрама,фэнтези', 'криминал', 'триллер,комедия,криминал',\n",
       "       'боевик,приключения,триллер', 'триллер,драма,военный',\n",
       "       'комедия,семейный,музыка', 'комедия,фантастика,мелодрама',\n",
       "       'фантастика,триллер,криминал', 'комедия,драма', 'боевик,военный',\n",
       "       'ужасы,фантастика,триллер', 'фантастика,драма,мелодрама',\n",
       "       'фэнтези,драма,детектив', 'боевик,триллер', 'боевик,драма,история',\n",
       "       'мультфильм,мюзикл,фэнтези', 'для взрослых,драма,мелодрама',\n",
       "       'мультфильм,боевик,детектив', 'фантастика,мелодрама,боевик',\n",
       "       'ужасы,фантастика,детектив', 'фантастика,боевик,приключения',\n",
       "       'мелодрама,комедия,спорт', 'комедия,боевик,приключения',\n",
       "       'документальный,приключения', 'мультфильм,короткометражка,детский',\n",
       "       'комедия,приключения', 'ужасы,драма', 'ужасы,фэнтези,боевик',\n",
       "       'мультфильм,фэнтези,детский', 'мюзикл,боевик,драма',\n",
       "       'семейный,комедия,драма', 'концерт,музыка', 'фэнтези,боевик,драма',\n",
       "       'драма,комедия,музыка', 'фантастика,фэнтези,боевик',\n",
       "       'фэнтези,комедия,семейный', 'фэнтези,драма,комедия',\n",
       "       'мультфильм,мюзикл,драма', 'триллер', 'боевик,криминал,триллер',\n",
       "       'мультфильм,приключения,драма', 'мелодрама,музыка',\n",
       "       'документальный,музыка,концерт', 'мультфильм,семейный',\n",
       "       'мультфильм,комедия,приключения', 'мультфильм,комедия,семейный',\n",
       "       'фантастика,драма', 'фэнтези,боевик,приключения',\n",
       "       'мультфильм,приключения', 'драма,военный,история', 'история',\n",
       "       'драма,приключения,военный',\n",
       "       'документальный,короткометражка,семейный',\n",
       "       'мелодрама,история,триллер', 'ужасы,детектив',\n",
       "       'мюзикл,комедия,приключения', 'драма,спорт,биография',\n",
       "       'фантастика,боевик,комедия', 'фантастика,приключения,детектив',\n",
       "       'короткометражка,драма,военный', 'драма,мультфильм',\n",
       "       'приключения,семейный', 'детектив', 'триллер,приключения',\n",
       "       'аниме,мультфильм,боевик', 'драма,комедия,биография',\n",
       "       'драма,комедия,спорт', 'боевик,мелодрама,комедия',\n",
       "       'семейный,комедия', 'фэнтези,боевик,триллер',\n",
       "       'документальный,фэнтези,семейный', 'фантастика,фэнтези,драма',\n",
       "       'ужасы,комедия,фэнтези', 'документальный,биография,музыка',\n",
       "       'фантастика,боевик,фэнтези', 'ужасы,боевик,триллер',\n",
       "       'комедия,криминал,семейный', 'приключения,драма',\n",
       "       'криминал,драма,триллер', 'драма,детектив,криминал',\n",
       "       'фэнтези,приключения,комедия', 'комедия,спорт',\n",
       "       'мюзикл,фэнтези,мелодрама', 'мультфильм,фэнтези,приключения',\n",
       "       'фантастика,фэнтези,приключения', 'фэнтези',\n",
       "       'фэнтези,приключения,боевик', 'фантастика,боевик,драма',\n",
       "       'криминал,драма', 'криминал,триллер,драма',\n",
       "       'драма,мелодрама,приключения', 'детский,комедия',\n",
       "       'фантастика,драма,боевик', 'мультфильм,семейный,фэнтези',\n",
       "       'концерт,музыка,документальный', 'ужасы,комедия,приключения',\n",
       "       'драма,мелодрама,криминал', 'ужасы,фантастика,фэнтези',\n",
       "       'боевик,комедия', 'мультфильм,фантастика,комедия', 'триллер,ужасы',\n",
       "       'мультфильм,мюзикл,комедия', 'мелодрама,фэнтези,триллер',\n",
       "       'детский,приключения,комедия', 'комедия,детектив',\n",
       "       'аниме,мультфильм,мелодрама', 'документальный,драма,семейный',\n",
       "       'документальный,биография,история', 'военный,боевик,драма',\n",
       "       'ужасы,комедия', 'комедия,приключения,семейный',\n",
       "       'приключения,биография,история', 'детский,приключения,семейный',\n",
       "       'спорт,драма,биография', 'аниме,мультфильм,ужасы',\n",
       "       'фантастика,боевик,криминал', 'мюзикл,драма',\n",
       "       'драма,криминал,детектив', 'аниме,мультфильм,драма',\n",
       "       'драма,триллер,приключения', 'триллер,криминал,драма',\n",
       "       'фэнтези,комедия,драма', 'мультфильм,комедия',\n",
       "       'драма,комедия,история', 'комедия,биография,история',\n",
       "       'мультфильм,фантастика,приключения', 'аниме,мультфильм,фантастика',\n",
       "       'мультфильм,фэнтези,семейный', 'мультфильм,боевик,комедия',\n",
       "       'комедия,криминал,спорт', 'документальный,мюзикл',\n",
       "       'мелодрама,комедия,музыка', 'биография',\n",
       "       'триллер,криминал,комедия', 'фантастика,драма,комедия',\n",
       "       'комедия,драма,мелодрама', 'фантастика,приключения,боевик',\n",
       "       'мультфильм,фэнтези,драма', 'триллер,комедия',\n",
       "       'драма,приключения,биография', 'фантастика,комедия',\n",
       "       'мелодрама,драма,комедия', 'боевик,криминал',\n",
       "       'драма,криминал,боевик', 'мультфильм,мюзикл,детский',\n",
       "       'драма,фэнтези', 'документальный,семейный',\n",
       "       'фэнтези,драма,приключения', 'ужасы,комедия,фантастика',\n",
       "       'драма,мелодрама,музыка', 'фэнтези,драма,семейный',\n",
       "       'триллер,мелодрама,драма', 'вестерн,боевик,драма',\n",
       "       'мультфильм,короткометражка,комедия', 'триллер,драма,история',\n",
       "       'ужасы,фантастика', 'ужасы,мелодрама,комедия',\n",
       "       'фэнтези,приключения', 'фантастика,триллер',\n",
       "       'ужасы,боевик,фэнтези', 'мультфильм,комедия,детский',\n",
       "       'триллер,драма,биография', 'мультфильм,ужасы,фэнтези',\n",
       "       'мультфильм,ужасы,фантастика', 'ужасы,боевик,комедия',\n",
       "       'драма,биография,спорт', 'мультфильм', 'мелодрама,комедия,драма',\n",
       "       'приключения,фантастика,семейный', 'комедия,криминал,детектив',\n",
       "       'ужасы,триллер,комедия', 'криминал,комедия,триллер',\n",
       "       'семейный,приключения,комедия', 'мультфильм,драма,приключения',\n",
       "       'ужасы,драма,детектив', 'драма,приключения,фэнтези',\n",
       "       'фантастика,мультфильм,драма', 'драма,триллер,детектив',\n",
       "       'драма,история,музыка', 'детский', 'триллер,боевик,криминал',\n",
       "       'драма,фантастика', 'комедия,драма,семейный',\n",
       "       'боевик,драма,комедия', 'комедия,ужасы',\n",
       "       'драма,фантастика,триллер', 'фантастика,драма,триллер',\n",
       "       'история,спорт,драма', 'документальный,биография',\n",
       "       'биография,история', 'спорт,драма', 'боевик,фэнтези',\n",
       "       'мультфильм,фэнтези', 'документальный,комедия,история',\n",
       "       'криминал,комедия,боевик', 'фэнтези,приключения,драма',\n",
       "       'музыка,концерт', 'триллер,драма,боевик',\n",
       "       'комедия,криминал,боевик', 'комедия,фантастика,боевик',\n",
       "       'вестерн,приключения,боевик', 'аниме,мультфильм,комедия',\n",
       "       'детектив,криминал,триллер', 'мультфильм,комедия,криминал',\n",
       "       'комедия,приключения,детектив', 'мелодрама,фантастика,драма',\n",
       "       'драма,комедия,семейный', 'приключения,фантастика',\n",
       "       'триллер,детектив,ужасы', 'комедия,приключения,фэнтези',\n",
       "       'фэнтези,триллер,драма', 'мелодрама,приключения,боевик',\n",
       "       'детектив,триллер,криминал', 'фэнтези,семейный,мелодрама',\n",
       "       'военный,драма', 'документальный,приключения,семейный',\n",
       "       'криминал,комедия,драма', 'комедия,фантастика',\n",
       "       'история,биография,драма', 'мелодрама,драма,музыка',\n",
       "       'боевик,мелодрама', 'комедия,криминал,триллер',\n",
       "       'детектив,триллер,боевик', 'комедия,боевик,криминал',\n",
       "       'комедия,вестерн', 'детский,мелодрама,семейный',\n",
       "       'короткометражка,мультфильм', 'комедия,фэнтези',\n",
       "       'фантастика,драма,ужасы', 'триллер,драма,ужасы',\n",
       "       'драма,фэнтези,история', 'комедия,драма,короткометражка',\n",
       "       'фэнтези,триллер,приключения', 'семейный',\n",
       "       'комедия,криминал,драма', 'комедия,фэнтези,ужасы',\n",
       "       'короткометражка,комедия,криминал', 'фантастика',\n",
       "       'триллер,ужасы,драма', 'мелодрама,драма,фэнтези',\n",
       "       'фантастика,приключения,драма', 'боевик,детектив',\n",
       "       'военный,драма,боевик', 'комедия,мелодрама,фэнтези',\n",
       "       'вестерн,криминал,триллер', 'драма,история,триллер',\n",
       "       'мультфильм,фантастика,боевик', 'детектив,драма,криминал',\n",
       "       'приключения,история,драма', 'мультфильм,семейный,детский',\n",
       "       'биография,драма,история', 'триллер,криминал,боевик',\n",
       "       'история,мелодрама', 'приключения,детский',\n",
       "       'музыка,приключения,концерт', 'военный,драма,комедия',\n",
       "       'фэнтези,боевик,военный', 'фантастика,детектив,боевик',\n",
       "       'мультфильм,фэнтези,история', 'биография,мелодрама,драма',\n",
       "       'документальный,биография,спорт', 'фантастика,комедия,детектив',\n",
       "       'музыка,концерт,документальный', 'триллер,боевик,приключения',\n",
       "       'триллер,драма,комедия', 'детектив,криминал',\n",
       "       'мультфильм,приключения,фэнтези', 'мелодрама,приключения',\n",
       "       'комедия,музыка', 'мелодрама,комедия,ужасы',\n",
       "       'драма,криминал,приключения', 'приключения,детектив,мелодрама',\n",
       "       'драма,криминал,фантастика', 'фэнтези,драма,биография',\n",
       "       'детектив,фантастика,криминал', 'триллер,драма,фантастика',\n",
       "       'ужасы,комедия,боевик', 'мелодрама,история', 'триллер,боевик',\n",
       "       'фильм-нуар,триллер,детектив', 'комедия,криминал,приключения',\n",
       "       'ужасы,триллер,мелодрама', 'военный,драма,история',\n",
       "       'драма,спорт,история', 'документальный,драма,история',\n",
       "       'триллер,мелодрама,детектив', 'детский,семейный',\n",
       "       'мюзикл,семейный,драма', 'биография,военный,драма',\n",
       "       'мультфильм,детский', 'боевик,криминал,драма',\n",
       "       'детектив,фэнтези,триллер', 'драма,боевик,приключения',\n",
       "       'драма,мелодрама,фэнтези', 'детектив,история,драма',\n",
       "       'фэнтези,боевик,ужасы', 'ужасы,фэнтези,мелодрама',\n",
       "       'ужасы,приключения', 'боевик,фантастика',\n",
       "       'ужасы,мелодрама,детектив', 'фантастика,триллер,приключения',\n",
       "       'боевик,приключения,история', 'приключения,боевик,триллер',\n",
       "       'детектив,ужасы,криминал', 'семейный,фэнтези', 'мюзикл,мелодрама',\n",
       "       'драма,военный,приключения', 'фантастика,драма,приключения',\n",
       "       'приключения,семейный,драма', 'история,драма,боевик',\n",
       "       'мультфильм,приключения,комедия', 'криминал,драма,комедия',\n",
       "       'ужасы,комедия,драма', 'комедия,семейный,приключения',\n",
       "       'мюзикл,фэнтези,драма', 'драма,вестерн,боевик',\n",
       "       'фантастика,триллер,детектив', 'драма,история,детектив',\n",
       "       'короткометражка,биография', 'мультфильм,приключения,фантастика',\n",
       "       'комедия,триллер', 'мультфильм,приключения,детектив',\n",
       "       'драма,триллер', 'ужасы,триллер,криминал',\n",
       "       'документальный,криминал,военный', 'ужасы,фэнтези,драма',\n",
       "       'фэнтези,комедия', 'ужасы,фэнтези,комедия', 'комедия,музыка,драма',\n",
       "       'мультфильм,приключения,военный', 'мюзикл,фэнтези,комедия',\n",
       "       'боевик,фантастика,приключения', 'триллер,ужасы,криминал',\n",
       "       'ужасы,фантастика,драма', 'фантастика,приключения,семейный',\n",
       "       'короткометражка,музыка', 'мелодрама,детектив,комедия',\n",
       "       'документальный,триллер,биография', 'боевик,фантастика,триллер',\n",
       "       'спорт,драма,комедия', 'фэнтези,мелодрама,приключения',\n",
       "       'триллер,детектив,криминал', 'короткометражка,мелодрама',\n",
       "       'мультфильм,семейный,спорт', 'комедия,фэнтези,мелодрама',\n",
       "       'драма,спорт,комедия', 'история,драма,мелодрама',\n",
       "       'драма,боевик,криминал', 'драма,комедия,триллер',\n",
       "       'аниме,мультфильм', 'документальный,ужасы',\n",
       "       'мультфильм,короткометражка', 'драма,история,военный',\n",
       "       'мультфильм,короткометражка,фэнтези', 'комедия,военный,музыка',\n",
       "       'биография,история,драма', 'ужасы,драма,мелодрама',\n",
       "       'драма,комедия,детектив', 'комедия,семейный,фантастика',\n",
       "       'мультфильм,семейный,комедия', 'история,детектив',\n",
       "       'приключения,мелодрама,детектив', 'мюзикл,комедия,мелодрама',\n",
       "       'драма,фантастика,ужасы', 'мультфильм,ужасы,комедия',\n",
       "       'для взрослых,драма,комедия', 'ужасы,комедия,музыка',\n",
       "       'комедия,история,драма', 'семейный,детектив,детский',\n",
       "       'короткометражка,драма', 'документальный,новости,драма',\n",
       "       'триллер,мелодрама', 'ужасы,драма,вестерн',\n",
       "       'мюзикл,фэнтези,семейный', 'вестерн,драма,триллер',\n",
       "       'приключения,вестерн,боевик', 'семейный,комедия,музыка',\n",
       "       'боевик,драма,вестерн', 'ужасы,драма,триллер',\n",
       "       'фантастика,мелодрама', 'комедия,криминал,биография',\n",
       "       'семейный,мультфильм,комедия', 'комедия,драма,криминал',\n",
       "       'фантастика,боевик,военный', 'приключения,биография,драма',\n",
       "       'приключения,триллер,биография', 'криминал,боевик,триллер',\n",
       "       'боевик,вестерн,приключения', 'история,драма',\n",
       "       'фантастика,фэнтези,комедия', 'мультфильм,детский,комедия',\n",
       "       'мелодрама,комедия,триллер', 'документальный,боевик,приключения',\n",
       "       'драма,приключения', 'мелодрама,военный,драма', 'триллер,фэнтези',\n",
       "       'драма,триллер,биография', 'фэнтези,боевик,семейный',\n",
       "       'фантастика,триллер,комедия', 'документальный,фэнтези',\n",
       "       'комедия,мультфильм,фантастика', 'криминал,биография,комедия',\n",
       "       'биография,спорт,драма', 'приключения,военный',\n",
       "       'мультфильм,семейный,драма', 'документальный,фэнтези,драма',\n",
       "       'комедия,боевик,фантастика', 'семейный,приключения,военный',\n",
       "       'триллер,ужасы,детектив', 'короткометражка',\n",
       "       'мелодрама,триллер,история', 'документальный,история',\n",
       "       'мультфильм,приключения,детский', 'драма,комедия,мультфильм',\n",
       "       'военный,детектив', 'семейный,приключения,документальный',\n",
       "       'детский,фэнтези', 'документальный,комедия', 'комедия,биография',\n",
       "       'криминал,комедия', 'спорт,мелодрама,криминал',\n",
       "       'фантастика,комедия,боевик', 'боевик,приключения,детектив',\n",
       "       'детектив,триллер,драма', 'документальный,фантастика',\n",
       "       'мелодрама,комедия,семейный', 'мультфильм,мелодрама,комедия',\n",
       "       'драма,спорт,семейный', 'фантастика,мелодрама,фэнтези',\n",
       "       'мюзикл,комедия,музыка', 'фантастика,триллер,мелодрама',\n",
       "       'приключения,комедия,фэнтези', 'фэнтези,боевик,детектив',\n",
       "       'фэнтези,боевик,мелодрама', 'комедия,военный',\n",
       "       'драма,спорт,боевик', 'мультфильм,боевик,триллер',\n",
       "       'мелодрама,семейный', 'фантастика,боевик,детектив',\n",
       "       'драма,приключения,история', 'документальный,драма,музыка',\n",
       "       'фантастика,триллер,боевик', 'фэнтези,боевик,вестерн',\n",
       "       'драма,комедия,мелодрама', 'ужасы,фэнтези,приключения',\n",
       "       'триллер,фэнтези,драма', 'мультфильм,мюзикл,мелодрама',\n",
       "       'ужасы,триллер,фантастика', 'триллер,мелодрама,комедия',\n",
       "       'ужасы,комедия,семейный', 'комедия,приключения,музыка',\n",
       "       'документальный,комедия,криминал', 'мелодрама,детектив',\n",
       "       'детский,приключения,фантастика', 'короткометражка,боевик,драма',\n",
       "       'боевик,комедия,семейный', 'фантастика,боевик,мелодрама',\n",
       "       'фэнтези,триллер,мелодрама', 'драма,детектив,история',\n",
       "       'боевик,криминал,детектив', 'мультфильм,фэнтези,мелодрама',\n",
       "       'мелодрама,драма,боевик', 'драма,вестерн,приключения',\n",
       "       'драма,приключения,мелодрама', 'фэнтези,боевик,криминал',\n",
       "       'фантастика,комедия,семейный', 'детский,фэнтези,приключения',\n",
       "       'ужасы,боевик', 'фантастика,мелодрама,комедия',\n",
       "       'семейный,спорт,боевик', 'триллер,биография,драма',\n",
       "       'ужасы,драма,комедия', 'мультфильм,фэнтези,триллер', 'мюзикл',\n",
       "       'боевик,спорт,драма', 'комедия,приключения,вестерн',\n",
       "       'документальный,ужасы,боевик', 'фантастика,боевик,семейный',\n",
       "       'военный,история', 'ужасы,боевик,криминал', 'детектив,триллер',\n",
       "       'драма,семейный,комедия', 'драма,детектив,приключения',\n",
       "       'драма,криминал,история', 'приключения,триллер',\n",
       "       'боевик,драма,биография', 'драма,приключения,триллер',\n",
       "       'комедия,фэнтези,приключения', 'фантастика,боевик,ужасы',\n",
       "       'драма,комедия,фантастика', 'детектив,криминал,драма',\n",
       "       'боевик,триллер,фэнтези', 'приключения,детектив,семейный',\n",
       "       'ужасы,комедия,криминал', 'мультфильм,биография,драма',\n",
       "       'история,боевик,фэнтези', 'детектив,криминал,боевик',\n",
       "       'приключения,фэнтези', 'комедия,приключения,спорт',\n",
       "       'драма,биография,мюзикл', 'комедия,семейный,фэнтези',\n",
       "       'детектив,драма,триллер', 'боевик,приключения,семейный',\n",
       "       'биография,спорт,комедия', 'фантастика,приключения,военный',\n",
       "       'документальный,драма,биография', 'детектив,приключения,драма',\n",
       "       'аниме,мультфильм,приключения', 'семейный,приключения',\n",
       "       'ужасы,фэнтези,детектив', 'семейный,документальный',\n",
       "       'драма,приключения,семейный', 'приключения,история,военный',\n",
       "       'фэнтези,мелодрама', 'фэнтези,триллер,детектив',\n",
       "       'документальный,спорт,биография', 'комедия,триллер,драма',\n",
       "       'драма,ужасы', 'биография,музыка,драма', 'фэнтези,ужасы',\n",
       "       'детектив,мелодрама,фэнтези', 'боевик,военный,история',\n",
       "       'биография,драма,криминал', 'триллер,мелодрама,криминал',\n",
       "       'семейный,мелодрама', 'биография,драма', 'военный,история,драма',\n",
       "       'фантастика,детектив,фэнтези', 'детектив,приключения,триллер',\n",
       "       'фантастика,приключения', 'мультфильм,короткометражка,мюзикл',\n",
       "       'мультфильм,детский,семейный', 'документальный,драма,комедия',\n",
       "       'комедия,приключения,криминал', 'документальный,семейный,музыка',\n",
       "       'мелодрама,музыка,драма', 'детектив,фантастика,триллер',\n",
       "       'драма,мелодрама,триллер', 'биография,драма,военный',\n",
       "       'приключения,фантастика,драма', 'детектив,фильм-нуар,комедия',\n",
       "       'документальный,спорт', 'триллер,фантастика,драма',\n",
       "       'биография,документальный', 'ужасы,фантастика,мелодрама',\n",
       "       'детектив,комедия', 'история,биография,военный',\n",
       "       'криминал,мелодрама', 'драма,криминал,вестерн',\n",
       "       'мелодрама,семейный,приключения', 'триллер,ужасы,мелодрама',\n",
       "       'фэнтези,драма,фильм-нуар', 'детектив,мелодрама',\n",
       "       'комедия,драма,биография', 'драма,военный,боевик',\n",
       "       'драма,комедия,ужасы', 'фантастика,драма,криминал',\n",
       "       'документальный,музыка,биография', 'мультфильм,боевик,приключения',\n",
       "       'короткометражка,фантастика', 'мультфильм,мелодрама,драма',\n",
       "       'боевик,военный,драма', 'фэнтези,семейный,приключения',\n",
       "       'детский,мультфильм,приключения', 'семейный,фэнтези,комедия',\n",
       "       'фэнтези,ужасы,триллер', 'ужасы,триллер,приключения',\n",
       "       'драма,боевик,история', 'фэнтези,комедия,детектив',\n",
       "       'история,приключения', 'аниме,мультфильм,короткометражка',\n",
       "       'драма,военный,триллер', 'биография,криминал,триллер',\n",
       "       'фантастика,фэнтези,детектив', 'вестерн,биография,драма',\n",
       "       'биография,музыка,мюзикл', 'драма,история,биография',\n",
       "       'приключения,драма,фантастика', 'комедия,фэнтези,криминал',\n",
       "       'биография,спорт,история', 'драма,криминал,семейный',\n",
       "       'детектив,боевик,история', 'ужасы,комедия,детектив',\n",
       "       'триллер,приключения,драма', 'фэнтези,комедия,криминал',\n",
       "       'триллер,криминал,приключения', 'комедия,детектив,приключения',\n",
       "       'фэнтези,драма,ужасы', 'ужасы,драма,военный', 'реальное ТВ',\n",
       "       'аниме,мультфильм,детектив', 'приключения,фэнтези,семейный',\n",
       "       'драма,биография,комедия', 'триллер,комедия,ужасы',\n",
       "       'музыка,мелодрама,фэнтези', 'мультфильм,история',\n",
       "       'мультфильм,комедия,фантастика', 'биография,криминал,драма',\n",
       "       'комедия,мелодрама,фантастика', 'криминал,боевик,комедия',\n",
       "       'история,криминал', 'детектив,комедия,драма',\n",
       "       'триллер,фантастика,боевик', 'криминал,боевик',\n",
       "       'комедия,драма,военный', 'драма,триллер,криминал',\n",
       "       'мультфильм,мелодрама,приключения', 'фантастика,фэнтези,триллер',\n",
       "       'короткометражка,драма,триллер', 'военный,боевик,история',\n",
       "       'боевик,драма,триллер', 'документальный,военный,драма',\n",
       "       'драма,криминал,фильм-нуар', 'мультфильм,детский,приключения',\n",
       "       'мелодрама,история,драма'], dtype=object)"
      ]
     },
     "execution_count": 83,
     "metadata": {},
     "output_type": "execute_result"
    }
   ],
   "source": [
    "data['genres'].unique()"
   ]
  },
  {
   "cell_type": "code",
   "execution_count": 84,
   "metadata": {
    "scrolled": true
   },
   "outputs": [],
   "source": [
    "# Проблемы с пробелами выявлены в столбце 'type'. Решим их.\n",
    "data['type'] = data['type'].str.strip()"
   ]
  },
  {
   "cell_type": "code",
   "execution_count": 85,
   "metadata": {
    "scrolled": false
   },
   "outputs": [
    {
     "data": {
      "text/plain": [
       "array(['Художественный', 'Анимационный', 'Прочие', 'Документальный',\n",
       "       'Научно-популярный', 'Музыкально-развлекательный'], dtype=object)"
      ]
     },
     "execution_count": 85,
     "metadata": {},
     "output_type": "execute_result"
    }
   ],
   "source": [
    "data['type'].unique()"
   ]
  },
  {
   "cell_type": "code",
   "execution_count": 86,
   "metadata": {},
   "outputs": [
    {
     "data": {
      "text/plain": [
       "array(['Тачстоун Пикчерз, Кобальт Пикчерз, Бикон Пикчерз, Тиг Продакшнз',\n",
       "       'Киностудия \"Мосфильм\"',\n",
       "       'Юниверсал Пикчерз, Кикстарт Продакшнз, Марк Платт Продакшнз, Рилейтивити Медиа, Спайгласс Интертейнмент, Стилкин Филмз, Топ Кау Продакшнз',\n",
       "       ...,\n",
       "       'Дэниел Гродник Продакшнз, Вандерфилм Медиа Корпорэйшн, Импринт Интертейнмент, Вор Хорс Интертейнмент, Пимиента ',\n",
       "       'Никелодеон Анимейшн Студиос, Спин Мастер',\n",
       "       'Анимаккорд Лтд., ООО Студия \"АНИМАККОРД\"'], dtype=object)"
      ]
     },
     "execution_count": 86,
     "metadata": {},
     "output_type": "execute_result"
    }
   ],
   "source": [
    "data['film_studio'].unique()"
   ]
  },
  {
   "cell_type": "code",
   "execution_count": 87,
   "metadata": {
    "scrolled": false
   },
   "outputs": [
    {
     "data": {
      "text/plain": [
       "array(['Кевин Костнер', 'Е.Матвеев', 'Тимур Бекмамбетов', ...,\n",
       "       'Ник Пауэлл', 'А.Беляев', 'И.Трусов'], dtype=object)"
      ]
     },
     "execution_count": 87,
     "metadata": {},
     "output_type": "execute_result"
    }
   ],
   "source": [
    "data['director'].unique()"
   ]
  },
  {
   "cell_type": "code",
   "execution_count": 88,
   "metadata": {
    "scrolled": true
   },
   "outputs": [
    {
     "data": {
      "text/plain": [
       "array(['Дэвид Валдес, Кевин Костнер, Джейк Эбертс', nan,\n",
       "       'Джим Лемли, Джейсон Нетер, Марк Е.Платт, Яйн Смит', ...,\n",
       "       'Поппи Бегум, Ник Пойнц',\n",
       "       'Джефф Боулер, Дэниэл Гродник, Луильо Руис, Брэт Саксон, Кирк Шоу',\n",
       "       'Дженнифер Додж'], dtype=object)"
      ]
     },
     "execution_count": 88,
     "metadata": {},
     "output_type": "execute_result"
    }
   ],
   "source": [
    "data['producer'].unique()"
   ]
  },
  {
   "cell_type": "markdown",
   "metadata": {},
   "source": [
    "Частая проблема категориальных наших данных в том, что во многих ячейках перечислено несколько значений через запятую. \n",
    "<br>\n",
    "Причина этого вероятно в разных стандартах в сборе информации и различные источники данных.\n",
    "<br>\n",
    "Очевидно, что первое значение из перечисленных можно считать основным. Далее мы выделим в отдельные столбцы основных режиссеров и жанры. Страна производства в исследованих ограничится значением Россия, т.к. мы будем изучать фильмы с российским государственным субсидированием. Другие проблемные категориальные данные нам не мешают в нашем исследовании."
   ]
  },
  {
   "cell_type": "markdown",
   "metadata": {
    "id": "XFSN5lrEgFyR"
   },
   "source": [
    "#### Шаг 2.5. Проверьте количественные значения\n",
    "\n",
    "- Проверьте, обнаружились ли в таких столбцах подозрительные данные. Как с такими данными лучше поступить?\n",
    "\n",
    "<div id=\"accordion\">\n",
    "    <div class=\"card\">\n",
    "        <div class=\"card-header\" id=\"headingThree\">\n",
    "            <button class=\"btn btn-link collapsed\" data-toggle=\"collapse\" data-target=\"#collapseHint_budget\" aria-expanded=\"false\" aria-controls=\"collapseHint_budget\">Подсказка</button>\n",
    "        </div>\n",
    "        <div id=\"collapseHint_budget\" class=\"collapse\" aria-labelledby=\"headingThree\" data-parent=\"#accordion\">\n",
    "            <div class=\"card-body\">\n",
    "Обратите внимание на описание столбца <code>budget</code>. Как этот столбец соотносится с двумя другими: <code>refundable_support</code> и <code>nonrefundable_support</code>?\n",
    "            </div>\n",
    "        </div>\n",
    "    </div>\n",
    "</div>"
   ]
  },
  {
   "cell_type": "markdown",
   "metadata": {
    "id": "YbzClBxagFyS"
   },
   "source": [
    "Пользуясь подсказкой, проверим как выполняется условие 'budget' >= 'refundable_support' + 'nonrefundable_support'?\n"
   ]
  },
  {
   "cell_type": "code",
   "execution_count": 89,
   "metadata": {},
   "outputs": [
    {
     "data": {
      "text/html": [
       "<div>\n",
       "<style scoped>\n",
       "    .dataframe tbody tr th:only-of-type {\n",
       "        vertical-align: middle;\n",
       "    }\n",
       "\n",
       "    .dataframe tbody tr th {\n",
       "        vertical-align: top;\n",
       "    }\n",
       "\n",
       "    .dataframe thead th {\n",
       "        text-align: right;\n",
       "    }\n",
       "</style>\n",
       "<table border=\"1\" class=\"dataframe\">\n",
       "  <thead>\n",
       "    <tr style=\"text-align: right;\">\n",
       "      <th></th>\n",
       "      <th>title</th>\n",
       "      <th>puNumber</th>\n",
       "      <th>show_start_date</th>\n",
       "      <th>type</th>\n",
       "      <th>film_studio</th>\n",
       "      <th>production_country</th>\n",
       "      <th>director</th>\n",
       "      <th>producer</th>\n",
       "      <th>age_restriction</th>\n",
       "      <th>refundable_support</th>\n",
       "      <th>nonrefundable_support</th>\n",
       "      <th>budget</th>\n",
       "      <th>financing_source</th>\n",
       "      <th>ratings</th>\n",
       "      <th>genres</th>\n",
       "      <th>box_office</th>\n",
       "    </tr>\n",
       "  </thead>\n",
       "  <tbody>\n",
       "    <tr>\n",
       "      <th>2053</th>\n",
       "      <td>14+</td>\n",
       "      <td>111023614</td>\n",
       "      <td>2014-12-19 12:00:00</td>\n",
       "      <td>Художественный</td>\n",
       "      <td>ООО Киностудия  \"Сентябрь\"</td>\n",
       "      <td>Россия</td>\n",
       "      <td>А.Зайцев</td>\n",
       "      <td>О.Гранина, А.Зайцев</td>\n",
       "      <td>«16+» - для детей старше 16 лет</td>\n",
       "      <td>0.0</td>\n",
       "      <td>23000000.0</td>\n",
       "      <td>0.0</td>\n",
       "      <td>Министерство культуры, Фонд кино</td>\n",
       "      <td>6.6</td>\n",
       "      <td>мелодрама</td>\n",
       "      <td>1.023402e+07</td>\n",
       "    </tr>\n",
       "    <tr>\n",
       "      <th>2058</th>\n",
       "      <td>Дуxless 2</td>\n",
       "      <td>111000415</td>\n",
       "      <td>2015-01-26 12:00:00</td>\n",
       "      <td>Художественный</td>\n",
       "      <td>ООО \"Киностудия \"Слово\", ООО \"Арт Пикчерс Студия\"</td>\n",
       "      <td>Россия</td>\n",
       "      <td>Р.Прыгунов</td>\n",
       "      <td>П.Ануров, Ф.Бондарчук, Д.Рудовский</td>\n",
       "      <td>«16+» - для детей старше 16 лет</td>\n",
       "      <td>0.0</td>\n",
       "      <td>75000000.0</td>\n",
       "      <td>0.0</td>\n",
       "      <td>Фонд кино</td>\n",
       "      <td>6.6</td>\n",
       "      <td>драма</td>\n",
       "      <td>4.461635e+08</td>\n",
       "    </tr>\n",
       "    <tr>\n",
       "      <th>2472</th>\n",
       "      <td>Воин (2015)</td>\n",
       "      <td>111017315</td>\n",
       "      <td>2015-09-28 12:00:00</td>\n",
       "      <td>Художественный</td>\n",
       "      <td>ООО \"Форпост Продакшн\", ООО \"Арт Пикчерс Студия\"</td>\n",
       "      <td>Россия</td>\n",
       "      <td>А.Андрианов</td>\n",
       "      <td>ООО \"Арт Пикчерс Студия\"</td>\n",
       "      <td>«12+» - для детей старше 12 лет</td>\n",
       "      <td>10000000.0</td>\n",
       "      <td>70000000.0</td>\n",
       "      <td>0.0</td>\n",
       "      <td>Фонд кино</td>\n",
       "      <td>7.8</td>\n",
       "      <td>боевик,драма,криминал</td>\n",
       "      <td>1.965724e+08</td>\n",
       "    </tr>\n",
       "    <tr>\n",
       "      <th>2532</th>\n",
       "      <td>Бармен.</td>\n",
       "      <td>111009615</td>\n",
       "      <td>2015-05-26 12:00:00</td>\n",
       "      <td>Художественный</td>\n",
       "      <td>АО \"ВайТ Медиа\", ООО \"Арт Пикчерс Студия\"</td>\n",
       "      <td>Россия</td>\n",
       "      <td>Д.Штурманова</td>\n",
       "      <td>Т.Вайнштейн</td>\n",
       "      <td>«16+» - для детей старше 16 лет</td>\n",
       "      <td>20000000.0</td>\n",
       "      <td>0.0</td>\n",
       "      <td>0.0</td>\n",
       "      <td>Фонд кино</td>\n",
       "      <td>6.2</td>\n",
       "      <td>комедия,фэнтези</td>\n",
       "      <td>6.741897e+07</td>\n",
       "    </tr>\n",
       "    <tr>\n",
       "      <th>2615</th>\n",
       "      <td>Савва. Сердце воина</td>\n",
       "      <td>114001715</td>\n",
       "      <td>2015-07-21 12:00:00</td>\n",
       "      <td>Анимационный</td>\n",
       "      <td>ООО \"Глюкоза Продакшн\", ООО \"Арт Пикчерс Студия\"</td>\n",
       "      <td>Россия</td>\n",
       "      <td>М.Фадеев</td>\n",
       "      <td>А.Чистяков</td>\n",
       "      <td>«6+» - для детей старше 6 лет</td>\n",
       "      <td>60000000.0</td>\n",
       "      <td>100000000.0</td>\n",
       "      <td>0.0</td>\n",
       "      <td>Фонд кино</td>\n",
       "      <td>4.6</td>\n",
       "      <td>мультфильм,приключения,фэнтези</td>\n",
       "      <td>1.844876e+08</td>\n",
       "    </tr>\n",
       "    <tr>\n",
       "      <th>2684</th>\n",
       "      <td>Тряпичный союз</td>\n",
       "      <td>111010215</td>\n",
       "      <td>2015-06-08 12:00:00</td>\n",
       "      <td>Художественный</td>\n",
       "      <td>ООО \"Кинокомпания \"КОКТЕБЕЛЬ\"</td>\n",
       "      <td>Россия</td>\n",
       "      <td>М.Местецкий</td>\n",
       "      <td>Р.Борисевич, А.Кушаев</td>\n",
       "      <td>«18+» - запрещено для детей</td>\n",
       "      <td>0.0</td>\n",
       "      <td>59000000.0</td>\n",
       "      <td>0.0</td>\n",
       "      <td>Фонд кино</td>\n",
       "      <td>6.3</td>\n",
       "      <td>комедия,драма</td>\n",
       "      <td>1.957739e+06</td>\n",
       "    </tr>\n",
       "    <tr>\n",
       "      <th>2788</th>\n",
       "      <td>Срочно выйду замуж</td>\n",
       "      <td>111017115</td>\n",
       "      <td>2015-09-30 12:00:00</td>\n",
       "      <td>Художественный</td>\n",
       "      <td>АО \"ВайТ Медиа\", ООО \"Арт Пикчерс Студия\"</td>\n",
       "      <td>Россия</td>\n",
       "      <td>С Чекалов</td>\n",
       "      <td>Ф.Бондарчук, Т.Вайнштейн, Д.Рудовский</td>\n",
       "      <td>«16+» - для детей старше 16 лет</td>\n",
       "      <td>0.0</td>\n",
       "      <td>35000000.0</td>\n",
       "      <td>0.0</td>\n",
       "      <td>Фонд кино</td>\n",
       "      <td>5.1</td>\n",
       "      <td>комедия,мелодрама</td>\n",
       "      <td>7.293778e+07</td>\n",
       "    </tr>\n",
       "    <tr>\n",
       "      <th>2874</th>\n",
       "      <td>Помню - не помню!</td>\n",
       "      <td>111004916</td>\n",
       "      <td>2016-03-01 12:00:00</td>\n",
       "      <td>Художественный</td>\n",
       "      <td>ООО \"КиноФирма\"</td>\n",
       "      <td>Россия</td>\n",
       "      <td>В.Ровенский</td>\n",
       "      <td>ООО \"КиноФирма\"</td>\n",
       "      <td>«12+» - для детей старше 12 лет</td>\n",
       "      <td>0.0</td>\n",
       "      <td>6000000.0</td>\n",
       "      <td>0.0</td>\n",
       "      <td>Министерство культуры</td>\n",
       "      <td>4.3</td>\n",
       "      <td>комедия</td>\n",
       "      <td>1.536293e+07</td>\n",
       "    </tr>\n",
       "    <tr>\n",
       "      <th>3047</th>\n",
       "      <td>Любовь с ограничениями</td>\n",
       "      <td>111008216</td>\n",
       "      <td>2016-04-29 12:00:00</td>\n",
       "      <td>Художественный</td>\n",
       "      <td>АО \"ВайТ Медиа\", ООО \"Арт Пикчерс Студия\"</td>\n",
       "      <td>Россия</td>\n",
       "      <td>Д.Тюрин</td>\n",
       "      <td>Ф.Бондарчук, Т.Вайнштейн, Д.Рудовский</td>\n",
       "      <td>«16+» - для детей старше 16 лет</td>\n",
       "      <td>19000000.0</td>\n",
       "      <td>51000000.0</td>\n",
       "      <td>0.0</td>\n",
       "      <td>Фонд кино</td>\n",
       "      <td>6.3</td>\n",
       "      <td>комедия,мелодрама</td>\n",
       "      <td>7.029905e+07</td>\n",
       "    </tr>\n",
       "    <tr>\n",
       "      <th>3565</th>\n",
       "      <td>Притяжение (2016)</td>\n",
       "      <td>111018116</td>\n",
       "      <td>2016-12-16 12:00:00</td>\n",
       "      <td>Художественный</td>\n",
       "      <td>ООО \"Водород 2011\",  ООО \"Арт Пикчерс Студия\"</td>\n",
       "      <td>Россия</td>\n",
       "      <td>Ф.Бондарчук</td>\n",
       "      <td>ООО \"Арт Пикчерс Студия\"</td>\n",
       "      <td>«12+» - для детей старше 12 лет</td>\n",
       "      <td>0.0</td>\n",
       "      <td>250000000.0</td>\n",
       "      <td>0.0</td>\n",
       "      <td>Фонд кино</td>\n",
       "      <td>5.6</td>\n",
       "      <td>фантастика</td>\n",
       "      <td>1.038321e+09</td>\n",
       "    </tr>\n",
       "    <tr>\n",
       "      <th>3675</th>\n",
       "      <td>Чудо-юдо</td>\n",
       "      <td>114001817</td>\n",
       "      <td>2017-06-27 12:00:00</td>\n",
       "      <td>Анимационный</td>\n",
       "      <td>ООО \"КиноФирма\"</td>\n",
       "      <td>Россия</td>\n",
       "      <td>А.Лукичев</td>\n",
       "      <td>ООО \"КиноФирма\"</td>\n",
       "      <td>«6+» - для детей старше 6 лет</td>\n",
       "      <td>20000000.0</td>\n",
       "      <td>20000000.0</td>\n",
       "      <td>0.0</td>\n",
       "      <td>Фонд кино</td>\n",
       "      <td>5.2</td>\n",
       "      <td>мультфильм,фэнтези,семейный</td>\n",
       "      <td>5.510801e+07</td>\n",
       "    </tr>\n",
       "    <tr>\n",
       "      <th>3739</th>\n",
       "      <td>Мифы</td>\n",
       "      <td>111004317</td>\n",
       "      <td>2017-06-07 12:00:00</td>\n",
       "      <td>Художественный</td>\n",
       "      <td>ООО \"ХАЙПФИЛМ\", ООО \"Арт Пикчерс Студия\"</td>\n",
       "      <td>Россия</td>\n",
       "      <td>А.Молочников</td>\n",
       "      <td>Ф.Бондарчук, Д.Рудовский, И.Стюарт, М.Османн, ...</td>\n",
       "      <td>«16+» - для детей старше 16 лет</td>\n",
       "      <td>25000000.0</td>\n",
       "      <td>20000000.0</td>\n",
       "      <td>0.0</td>\n",
       "      <td>Фонд кино</td>\n",
       "      <td>4.8</td>\n",
       "      <td>комедия</td>\n",
       "      <td>5.045195e+07</td>\n",
       "    </tr>\n",
       "    <tr>\n",
       "      <th>5673</th>\n",
       "      <td>Селфи</td>\n",
       "      <td>111012117</td>\n",
       "      <td>2018-02-01 12:00:00</td>\n",
       "      <td>Художественный</td>\n",
       "      <td>ООО \"Киностудия \"Слово\", ООО \"Арт Пикчерс Студия\"</td>\n",
       "      <td>Россия</td>\n",
       "      <td>Н.Хомерики</td>\n",
       "      <td>П.Ануров, Ф.Бондарчук, Д.Рудовский</td>\n",
       "      <td>«16+» - для детей старше 16 лет</td>\n",
       "      <td>20000000.0</td>\n",
       "      <td>40000000.0</td>\n",
       "      <td>0.0</td>\n",
       "      <td>Фонд кино</td>\n",
       "      <td>5.8</td>\n",
       "      <td>триллер,драма</td>\n",
       "      <td>2.251964e+08</td>\n",
       "    </tr>\n",
       "    <tr>\n",
       "      <th>5806</th>\n",
       "      <td>Два хвоста</td>\n",
       "      <td>114001018</td>\n",
       "      <td>2018-05-31 12:00:00</td>\n",
       "      <td>Анимационный</td>\n",
       "      <td>ООО \"ЛИЦЕНЗИОННЫЕ БРЕНДЫ\"</td>\n",
       "      <td>Россия</td>\n",
       "      <td>В.Ровенский, Н.Лопато, В.Азеев</td>\n",
       "      <td>ООО \"ЛИЦЕНЗИОННЫЕ БРЕНДЫ\"</td>\n",
       "      <td>«6+» - для детей старше 6 лет</td>\n",
       "      <td>10000000.0</td>\n",
       "      <td>60000000.0</td>\n",
       "      <td>0.0</td>\n",
       "      <td>Фонд кино</td>\n",
       "      <td>5.0</td>\n",
       "      <td>мультфильм,детский</td>\n",
       "      <td>1.065143e+08</td>\n",
       "    </tr>\n",
       "    <tr>\n",
       "      <th>6008</th>\n",
       "      <td>Принцесса и дракон</td>\n",
       "      <td>114003018</td>\n",
       "      <td>2018-08-23 12:00:00</td>\n",
       "      <td>Анимационный</td>\n",
       "      <td>ООО \"ЛИЦЕНЗИОННЫЕ БРЕНДЫ\"</td>\n",
       "      <td>Россия</td>\n",
       "      <td>М.Нефедова</td>\n",
       "      <td>ООО \"ЛИЦЕНЗИОННЫЕ БРЕНДЫ\"</td>\n",
       "      <td>«6+» - для детей старше 6 лет</td>\n",
       "      <td>40000000.0</td>\n",
       "      <td>40000000.0</td>\n",
       "      <td>0.0</td>\n",
       "      <td>Фонд кино</td>\n",
       "      <td>5.2</td>\n",
       "      <td>мультфильм,фэнтези,детский</td>\n",
       "      <td>8.336633e+07</td>\n",
       "    </tr>\n",
       "    <tr>\n",
       "      <th>6323</th>\n",
       "      <td>Баба Яга</td>\n",
       "      <td>114006518</td>\n",
       "      <td>2018-11-08 12:00:00</td>\n",
       "      <td>Анимационный</td>\n",
       "      <td>ООО \"Арт Пикчерс Студия\"</td>\n",
       "      <td>Россия</td>\n",
       "      <td>В.Саков</td>\n",
       "      <td>ООО \"Арт Пикчерс Студия\", ООО \"КРИЭЙТИВ АНИМЭЙ...</td>\n",
       "      <td>«6+» - для детей старше 6 лет</td>\n",
       "      <td>0.0</td>\n",
       "      <td>138969465.0</td>\n",
       "      <td>0.0</td>\n",
       "      <td>Фонд кино</td>\n",
       "      <td>NaN</td>\n",
       "      <td>NaN</td>\n",
       "      <td>1.334699e+06</td>\n",
       "    </tr>\n",
       "    <tr>\n",
       "      <th>6823</th>\n",
       "      <td>Большое путешествие</td>\n",
       "      <td>114002419</td>\n",
       "      <td>2019-04-20 12:00:00</td>\n",
       "      <td>Анимационный</td>\n",
       "      <td>ООО \"ЛИЦЕНЗИОННЫЕ БРЕНДЫ\"</td>\n",
       "      <td>Россия</td>\n",
       "      <td>Н.Лопато, В.Ровенский</td>\n",
       "      <td>ООО \"ЛИЦЕНЗИОННЫЕ БРЕНДЫ\"</td>\n",
       "      <td>«6+» - для детей старше 6 лет</td>\n",
       "      <td>60000000.0</td>\n",
       "      <td>120000000.0</td>\n",
       "      <td>0.0</td>\n",
       "      <td>Фонд кино</td>\n",
       "      <td>6.2</td>\n",
       "      <td>мультфильм,комедия,приключения</td>\n",
       "      <td>1.476068e+08</td>\n",
       "    </tr>\n",
       "  </tbody>\n",
       "</table>\n",
       "</div>"
      ],
      "text/plain": [
       "                       title   puNumber     show_start_date            type  \\\n",
       "2053                     14+  111023614 2014-12-19 12:00:00  Художественный   \n",
       "2058               Дуxless 2  111000415 2015-01-26 12:00:00  Художественный   \n",
       "2472             Воин (2015)  111017315 2015-09-28 12:00:00  Художественный   \n",
       "2532                 Бармен.  111009615 2015-05-26 12:00:00  Художественный   \n",
       "2615     Савва. Сердце воина  114001715 2015-07-21 12:00:00    Анимационный   \n",
       "2684          Тряпичный союз  111010215 2015-06-08 12:00:00  Художественный   \n",
       "2788      Срочно выйду замуж  111017115 2015-09-30 12:00:00  Художественный   \n",
       "2874       Помню - не помню!  111004916 2016-03-01 12:00:00  Художественный   \n",
       "3047  Любовь с ограничениями  111008216 2016-04-29 12:00:00  Художественный   \n",
       "3565       Притяжение (2016)  111018116 2016-12-16 12:00:00  Художественный   \n",
       "3675                Чудо-юдо  114001817 2017-06-27 12:00:00    Анимационный   \n",
       "3739                    Мифы  111004317 2017-06-07 12:00:00  Художественный   \n",
       "5673                   Селфи  111012117 2018-02-01 12:00:00  Художественный   \n",
       "5806              Два хвоста  114001018 2018-05-31 12:00:00    Анимационный   \n",
       "6008      Принцесса и дракон  114003018 2018-08-23 12:00:00    Анимационный   \n",
       "6323                Баба Яга  114006518 2018-11-08 12:00:00    Анимационный   \n",
       "6823     Большое путешествие  114002419 2019-04-20 12:00:00    Анимационный   \n",
       "\n",
       "                                            film_studio production_country  \\\n",
       "2053                         ООО Киностудия  \"Сентябрь\"             Россия   \n",
       "2058  ООО \"Киностудия \"Слово\", ООО \"Арт Пикчерс Студия\"             Россия   \n",
       "2472   ООО \"Форпост Продакшн\", ООО \"Арт Пикчерс Студия\"             Россия   \n",
       "2532          АО \"ВайТ Медиа\", ООО \"Арт Пикчерс Студия\"             Россия   \n",
       "2615   ООО \"Глюкоза Продакшн\", ООО \"Арт Пикчерс Студия\"             Россия   \n",
       "2684                      ООО \"Кинокомпания \"КОКТЕБЕЛЬ\"             Россия   \n",
       "2788          АО \"ВайТ Медиа\", ООО \"Арт Пикчерс Студия\"             Россия   \n",
       "2874                                    ООО \"КиноФирма\"             Россия   \n",
       "3047          АО \"ВайТ Медиа\", ООО \"Арт Пикчерс Студия\"             Россия   \n",
       "3565      ООО \"Водород 2011\",  ООО \"Арт Пикчерс Студия\"             Россия   \n",
       "3675                                    ООО \"КиноФирма\"             Россия   \n",
       "3739           ООО \"ХАЙПФИЛМ\", ООО \"Арт Пикчерс Студия\"             Россия   \n",
       "5673  ООО \"Киностудия \"Слово\", ООО \"Арт Пикчерс Студия\"             Россия   \n",
       "5806                          ООО \"ЛИЦЕНЗИОННЫЕ БРЕНДЫ\"             Россия   \n",
       "6008                          ООО \"ЛИЦЕНЗИОННЫЕ БРЕНДЫ\"             Россия   \n",
       "6323                           ООО \"Арт Пикчерс Студия\"             Россия   \n",
       "6823                          ООО \"ЛИЦЕНЗИОННЫЕ БРЕНДЫ\"             Россия   \n",
       "\n",
       "                            director  \\\n",
       "2053                        А.Зайцев   \n",
       "2058                      Р.Прыгунов   \n",
       "2472                     А.Андрианов   \n",
       "2532                    Д.Штурманова   \n",
       "2615                        М.Фадеев   \n",
       "2684                     М.Местецкий   \n",
       "2788                       С Чекалов   \n",
       "2874                     В.Ровенский   \n",
       "3047                         Д.Тюрин   \n",
       "3565                     Ф.Бондарчук   \n",
       "3675                       А.Лукичев   \n",
       "3739                    А.Молочников   \n",
       "5673                      Н.Хомерики   \n",
       "5806  В.Ровенский, Н.Лопато, В.Азеев   \n",
       "6008                      М.Нефедова   \n",
       "6323                         В.Саков   \n",
       "6823           Н.Лопато, В.Ровенский   \n",
       "\n",
       "                                               producer  \\\n",
       "2053                                О.Гранина, А.Зайцев   \n",
       "2058                 П.Ануров, Ф.Бондарчук, Д.Рудовский   \n",
       "2472                           ООО \"Арт Пикчерс Студия\"   \n",
       "2532                                        Т.Вайнштейн   \n",
       "2615                                         А.Чистяков   \n",
       "2684                              Р.Борисевич, А.Кушаев   \n",
       "2788              Ф.Бондарчук, Т.Вайнштейн, Д.Рудовский   \n",
       "2874                                    ООО \"КиноФирма\"   \n",
       "3047              Ф.Бондарчук, Т.Вайнштейн, Д.Рудовский   \n",
       "3565                           ООО \"Арт Пикчерс Студия\"   \n",
       "3675                                    ООО \"КиноФирма\"   \n",
       "3739  Ф.Бондарчук, Д.Рудовский, И.Стюарт, М.Османн, ...   \n",
       "5673                 П.Ануров, Ф.Бондарчук, Д.Рудовский   \n",
       "5806                          ООО \"ЛИЦЕНЗИОННЫЕ БРЕНДЫ\"   \n",
       "6008                          ООО \"ЛИЦЕНЗИОННЫЕ БРЕНДЫ\"   \n",
       "6323  ООО \"Арт Пикчерс Студия\", ООО \"КРИЭЙТИВ АНИМЭЙ...   \n",
       "6823                          ООО \"ЛИЦЕНЗИОННЫЕ БРЕНДЫ\"   \n",
       "\n",
       "                      age_restriction  refundable_support  \\\n",
       "2053  «16+» - для детей старше 16 лет                 0.0   \n",
       "2058  «16+» - для детей старше 16 лет                 0.0   \n",
       "2472  «12+» - для детей старше 12 лет          10000000.0   \n",
       "2532  «16+» - для детей старше 16 лет          20000000.0   \n",
       "2615    «6+» - для детей старше 6 лет          60000000.0   \n",
       "2684      «18+» - запрещено для детей                 0.0   \n",
       "2788  «16+» - для детей старше 16 лет                 0.0   \n",
       "2874  «12+» - для детей старше 12 лет                 0.0   \n",
       "3047  «16+» - для детей старше 16 лет          19000000.0   \n",
       "3565  «12+» - для детей старше 12 лет                 0.0   \n",
       "3675    «6+» - для детей старше 6 лет          20000000.0   \n",
       "3739  «16+» - для детей старше 16 лет          25000000.0   \n",
       "5673  «16+» - для детей старше 16 лет          20000000.0   \n",
       "5806    «6+» - для детей старше 6 лет          10000000.0   \n",
       "6008    «6+» - для детей старше 6 лет          40000000.0   \n",
       "6323    «6+» - для детей старше 6 лет                 0.0   \n",
       "6823    «6+» - для детей старше 6 лет          60000000.0   \n",
       "\n",
       "      nonrefundable_support  budget                  financing_source  \\\n",
       "2053             23000000.0     0.0  Министерство культуры, Фонд кино   \n",
       "2058             75000000.0     0.0                         Фонд кино   \n",
       "2472             70000000.0     0.0                         Фонд кино   \n",
       "2532                    0.0     0.0                         Фонд кино   \n",
       "2615            100000000.0     0.0                         Фонд кино   \n",
       "2684             59000000.0     0.0                         Фонд кино   \n",
       "2788             35000000.0     0.0                         Фонд кино   \n",
       "2874              6000000.0     0.0             Министерство культуры   \n",
       "3047             51000000.0     0.0                         Фонд кино   \n",
       "3565            250000000.0     0.0                         Фонд кино   \n",
       "3675             20000000.0     0.0                         Фонд кино   \n",
       "3739             20000000.0     0.0                         Фонд кино   \n",
       "5673             40000000.0     0.0                         Фонд кино   \n",
       "5806             60000000.0     0.0                         Фонд кино   \n",
       "6008             40000000.0     0.0                         Фонд кино   \n",
       "6323            138969465.0     0.0                         Фонд кино   \n",
       "6823            120000000.0     0.0                         Фонд кино   \n",
       "\n",
       "      ratings                          genres    box_office  \n",
       "2053      6.6                       мелодрама  1.023402e+07  \n",
       "2058      6.6                           драма  4.461635e+08  \n",
       "2472      7.8           боевик,драма,криминал  1.965724e+08  \n",
       "2532      6.2                 комедия,фэнтези  6.741897e+07  \n",
       "2615      4.6  мультфильм,приключения,фэнтези  1.844876e+08  \n",
       "2684      6.3                   комедия,драма  1.957739e+06  \n",
       "2788      5.1               комедия,мелодрама  7.293778e+07  \n",
       "2874      4.3                         комедия  1.536293e+07  \n",
       "3047      6.3               комедия,мелодрама  7.029905e+07  \n",
       "3565      5.6                      фантастика  1.038321e+09  \n",
       "3675      5.2     мультфильм,фэнтези,семейный  5.510801e+07  \n",
       "3739      4.8                         комедия  5.045195e+07  \n",
       "5673      5.8                   триллер,драма  2.251964e+08  \n",
       "5806      5.0              мультфильм,детский  1.065143e+08  \n",
       "6008      5.2      мультфильм,фэнтези,детский  8.336633e+07  \n",
       "6323      NaN                             NaN  1.334699e+06  \n",
       "6823      6.2  мультфильм,комедия,приключения  1.476068e+08  "
      ]
     },
     "execution_count": 89,
     "metadata": {},
     "output_type": "execute_result"
    }
   ],
   "source": [
    "# Изучим строки не выполняющие это условие\n",
    "data[(data['refundable_support'] + data['nonrefundable_support']) > data['budget']]"
   ]
  },
  {
   "cell_type": "markdown",
   "metadata": {},
   "source": [
    "17 строк. Во всех общий бюджет равен 0, при этом в столбцах 'refundable_support' и 'nonrefundable_support' суммы фигурируют.\n",
    "<br>\n",
    "Далее по плану исследования у нас определение доли государственной поддержки в общем бюджете. Предлагаю позже вырнуться к исправлению данных по бюджету в этих 17 строках"
   ]
  },
  {
   "cell_type": "code",
   "execution_count": 90,
   "metadata": {},
   "outputs": [
    {
     "data": {
      "text/plain": [
       "<AxesSubplot:>"
      ]
     },
     "execution_count": 90,
     "metadata": {},
     "output_type": "execute_result"
    },
    {
     "data": {
      "image/png": "[encoded data removed]",
      "text/plain": [
       "<Figure size 1080x432 with 1 Axes>"
      ]
     },
     "metadata": {
      "needs_background": "light"
     },
     "output_type": "display_data"
    }
   ],
   "source": [
    "# Изучим данные по сборам\n",
    "data['box_office'].hist(figsize=(15,6), bins=100)\n"
   ]
  },
  {
   "cell_type": "markdown",
   "metadata": {},
   "source": [
    "Серьезный пик на минимальных значениях. Посмотрим детальнее гистограмму."
   ]
  },
  {
   "cell_type": "code",
   "execution_count": 91,
   "metadata": {},
   "outputs": [
    {
     "data": {
      "text/plain": [
       "<AxesSubplot:>"
      ]
     },
     "execution_count": 91,
     "metadata": {},
     "output_type": "execute_result"
    },
    {
     "data": {
      "image/png": "[encoded data removed]",
      "text/plain": [
       "<Figure size 1080x432 with 1 Axes>"
      ]
     },
     "metadata": {
      "needs_background": "light"
     },
     "output_type": "display_data"
    }
   ],
   "source": [
    "data['box_office'].hist(figsize=(15,6), bins=100, range=(0,20000))"
   ]
  },
  {
   "cell_type": "markdown",
   "metadata": {},
   "source": [
    "Ограничив вывод 20 тыс.рублей мы наблюдаем множество фильмов со сборами меньше 2500 рублей. Выведем эти строки для анализа."
   ]
  },
  {
   "cell_type": "code",
   "execution_count": 92,
   "metadata": {},
   "outputs": [
    {
     "data": {
      "text/html": [
       "<div>\n",
       "<style scoped>\n",
       "    .dataframe tbody tr th:only-of-type {\n",
       "        vertical-align: middle;\n",
       "    }\n",
       "\n",
       "    .dataframe tbody tr th {\n",
       "        vertical-align: top;\n",
       "    }\n",
       "\n",
       "    .dataframe thead th {\n",
       "        text-align: right;\n",
       "    }\n",
       "</style>\n",
       "<table border=\"1\" class=\"dataframe\">\n",
       "  <thead>\n",
       "    <tr style=\"text-align: right;\">\n",
       "      <th></th>\n",
       "      <th>title</th>\n",
       "      <th>puNumber</th>\n",
       "      <th>show_start_date</th>\n",
       "      <th>type</th>\n",
       "      <th>film_studio</th>\n",
       "      <th>production_country</th>\n",
       "      <th>director</th>\n",
       "      <th>producer</th>\n",
       "      <th>age_restriction</th>\n",
       "      <th>refundable_support</th>\n",
       "      <th>nonrefundable_support</th>\n",
       "      <th>budget</th>\n",
       "      <th>financing_source</th>\n",
       "      <th>ratings</th>\n",
       "      <th>genres</th>\n",
       "      <th>box_office</th>\n",
       "    </tr>\n",
       "  </thead>\n",
       "  <tbody>\n",
       "    <tr>\n",
       "      <th>18</th>\n",
       "      <td>Неподдающиеся</td>\n",
       "      <td>111003616</td>\n",
       "      <td>2016-02-12 12:00:00</td>\n",
       "      <td>Художественный</td>\n",
       "      <td>Киностудия \"Мосфильм\"</td>\n",
       "      <td>СССР</td>\n",
       "      <td>Ю.Чулюкин</td>\n",
       "      <td>NaN</td>\n",
       "      <td>«6+» - для детей старше 6 лет</td>\n",
       "      <td>NaN</td>\n",
       "      <td>NaN</td>\n",
       "      <td>NaN</td>\n",
       "      <td>NaN</td>\n",
       "      <td>8.0</td>\n",
       "      <td>мелодрама,комедия</td>\n",
       "      <td>360.0</td>\n",
       "    </tr>\n",
       "    <tr>\n",
       "      <th>19</th>\n",
       "      <td>Неподсуден</td>\n",
       "      <td>111003716</td>\n",
       "      <td>2016-02-12 12:00:00</td>\n",
       "      <td>Художественный</td>\n",
       "      <td>Киностудия \"Мосфильм\"</td>\n",
       "      <td>СССР</td>\n",
       "      <td>В.Краснопольский, В.Усков</td>\n",
       "      <td>NaN</td>\n",
       "      <td>«6+» - для детей старше 6 лет</td>\n",
       "      <td>NaN</td>\n",
       "      <td>NaN</td>\n",
       "      <td>NaN</td>\n",
       "      <td>NaN</td>\n",
       "      <td>7.7</td>\n",
       "      <td>драма</td>\n",
       "      <td>420.0</td>\n",
       "    </tr>\n",
       "    <tr>\n",
       "      <th>22</th>\n",
       "      <td>Операция \"Ы\" и другие приключения Шурика</td>\n",
       "      <td>111007413</td>\n",
       "      <td>2013-10-18 12:00:00</td>\n",
       "      <td>Художественный</td>\n",
       "      <td>Киностудия \"Мосфильм\"</td>\n",
       "      <td>СССР</td>\n",
       "      <td>Л.Гайдай</td>\n",
       "      <td>NaN</td>\n",
       "      <td>«6+» - для детей старше 6 лет</td>\n",
       "      <td>NaN</td>\n",
       "      <td>NaN</td>\n",
       "      <td>NaN</td>\n",
       "      <td>NaN</td>\n",
       "      <td>8.7</td>\n",
       "      <td>комедия,мелодрама,криминал</td>\n",
       "      <td>380.0</td>\n",
       "    </tr>\n",
       "    <tr>\n",
       "      <th>38</th>\n",
       "      <td>Мужики!..</td>\n",
       "      <td>111007213</td>\n",
       "      <td>2013-10-18 12:00:00</td>\n",
       "      <td>Художественный</td>\n",
       "      <td>Киностудия \"Мосфильм\"</td>\n",
       "      <td>СССР</td>\n",
       "      <td>И.Бабич</td>\n",
       "      <td>NaN</td>\n",
       "      <td>«6+» - для детей старше 6 лет</td>\n",
       "      <td>NaN</td>\n",
       "      <td>NaN</td>\n",
       "      <td>NaN</td>\n",
       "      <td>NaN</td>\n",
       "      <td>8.1</td>\n",
       "      <td>драма</td>\n",
       "      <td>1165.0</td>\n",
       "    </tr>\n",
       "    <tr>\n",
       "      <th>52</th>\n",
       "      <td>Айболит - 66</td>\n",
       "      <td>111010513</td>\n",
       "      <td>2013-12-19 12:00:00</td>\n",
       "      <td>Художественный</td>\n",
       "      <td>Киностудия \"Мосфильм\"</td>\n",
       "      <td>СССР</td>\n",
       "      <td>Ролан Быков</td>\n",
       "      <td>NaN</td>\n",
       "      <td>«0+» - для любой зрительской аудитории</td>\n",
       "      <td>NaN</td>\n",
       "      <td>NaN</td>\n",
       "      <td>NaN</td>\n",
       "      <td>NaN</td>\n",
       "      <td>7.1</td>\n",
       "      <td>мюзикл,комедия,детский</td>\n",
       "      <td>1795.0</td>\n",
       "    </tr>\n",
       "    <tr>\n",
       "      <th>61</th>\n",
       "      <td>Американская дочь</td>\n",
       "      <td>111005515</td>\n",
       "      <td>2015-04-23 12:00:00</td>\n",
       "      <td>Художественный</td>\n",
       "      <td>АО \"Караван\", Компания \"Америкен Дистрибьюшн\",...</td>\n",
       "      <td>Россия, Казахстан, США</td>\n",
       "      <td>К.Шахназаров</td>\n",
       "      <td>NaN</td>\n",
       "      <td>«6+» - для детей старше 6 лет</td>\n",
       "      <td>NaN</td>\n",
       "      <td>NaN</td>\n",
       "      <td>NaN</td>\n",
       "      <td>NaN</td>\n",
       "      <td>7.0</td>\n",
       "      <td>драма,комедия</td>\n",
       "      <td>300.0</td>\n",
       "    </tr>\n",
       "    <tr>\n",
       "      <th>66</th>\n",
       "      <td>Анна Павлова</td>\n",
       "      <td>111011013</td>\n",
       "      <td>2013-12-19 12:00:00</td>\n",
       "      <td>Художественный</td>\n",
       "      <td>совместное производство Киностудия \"Мосфильм\",...</td>\n",
       "      <td>СССР, Франция, Англия, Куба, ГДР</td>\n",
       "      <td>Эмиль Лотяну</td>\n",
       "      <td>NaN</td>\n",
       "      <td>«6+» - для детей старше 6 лет</td>\n",
       "      <td>NaN</td>\n",
       "      <td>NaN</td>\n",
       "      <td>NaN</td>\n",
       "      <td>NaN</td>\n",
       "      <td>7.7</td>\n",
       "      <td>драма,биография,музыка</td>\n",
       "      <td>0.0</td>\n",
       "    </tr>\n",
       "    <tr>\n",
       "      <th>68</th>\n",
       "      <td>Алые паруса</td>\n",
       "      <td>111010913</td>\n",
       "      <td>2013-12-19 12:00:00</td>\n",
       "      <td>Художественный</td>\n",
       "      <td>Киностудия \"Мосфильм\"</td>\n",
       "      <td>СССР</td>\n",
       "      <td>А.Птушко</td>\n",
       "      <td>NaN</td>\n",
       "      <td>«6+» - для детей старше 6 лет</td>\n",
       "      <td>NaN</td>\n",
       "      <td>NaN</td>\n",
       "      <td>NaN</td>\n",
       "      <td>NaN</td>\n",
       "      <td>7.8</td>\n",
       "      <td>фэнтези,драма,мелодрама</td>\n",
       "      <td>1850.0</td>\n",
       "    </tr>\n",
       "    <tr>\n",
       "      <th>75</th>\n",
       "      <td>Борис Годунов</td>\n",
       "      <td>111012213</td>\n",
       "      <td>2013-12-19 12:00:00</td>\n",
       "      <td>Художественный</td>\n",
       "      <td>Киностудия \"Мосфильм\",  \"Баррандов\" (ЧССР) при...</td>\n",
       "      <td>СССР, ЧССР, Западный Берлин, ПНР</td>\n",
       "      <td>С.Бондарчук</td>\n",
       "      <td>NaN</td>\n",
       "      <td>«6+» - для детей старше 6 лет</td>\n",
       "      <td>NaN</td>\n",
       "      <td>NaN</td>\n",
       "      <td>NaN</td>\n",
       "      <td>NaN</td>\n",
       "      <td>6.2</td>\n",
       "      <td>драма</td>\n",
       "      <td>420.0</td>\n",
       "    </tr>\n",
       "    <tr>\n",
       "      <th>78</th>\n",
       "      <td>Будьте моим мужем</td>\n",
       "      <td>111012413</td>\n",
       "      <td>2013-12-19 12:00:00</td>\n",
       "      <td>Художественный</td>\n",
       "      <td>Киностудия \"Мосфильм\"</td>\n",
       "      <td>СССР</td>\n",
       "      <td>А.Сурикова</td>\n",
       "      <td>NaN</td>\n",
       "      <td>«6+» - для детей старше 6 лет</td>\n",
       "      <td>NaN</td>\n",
       "      <td>NaN</td>\n",
       "      <td>NaN</td>\n",
       "      <td>NaN</td>\n",
       "      <td>6.4</td>\n",
       "      <td>комедия</td>\n",
       "      <td>200.0</td>\n",
       "    </tr>\n",
       "    <tr>\n",
       "      <th>96</th>\n",
       "      <td>Дамы приглашают кавалеров</td>\n",
       "      <td>111010414</td>\n",
       "      <td>2014-10-01 12:00:00</td>\n",
       "      <td>Художественный</td>\n",
       "      <td>Киностудия \"Мосфильм\"</td>\n",
       "      <td>СССР</td>\n",
       "      <td>И.Киасашвили</td>\n",
       "      <td>NaN</td>\n",
       "      <td>«12+» - для детей старше 12 лет</td>\n",
       "      <td>NaN</td>\n",
       "      <td>NaN</td>\n",
       "      <td>NaN</td>\n",
       "      <td>NaN</td>\n",
       "      <td>7.2</td>\n",
       "      <td>мелодрама,комедия</td>\n",
       "      <td>2260.0</td>\n",
       "    </tr>\n",
       "    <tr>\n",
       "      <th>104</th>\n",
       "      <td>Гори, гори, моя звезда</td>\n",
       "      <td>111013713</td>\n",
       "      <td>2013-12-19 12:00:00</td>\n",
       "      <td>Художественный</td>\n",
       "      <td>Киностудия \"Мосфильм\"</td>\n",
       "      <td>СССР</td>\n",
       "      <td>А.Митта</td>\n",
       "      <td>NaN</td>\n",
       "      <td>«12+» - для детей старше 12 лет</td>\n",
       "      <td>NaN</td>\n",
       "      <td>NaN</td>\n",
       "      <td>NaN</td>\n",
       "      <td>NaN</td>\n",
       "      <td>8.0</td>\n",
       "      <td>драма,мелодрама,комедия</td>\n",
       "      <td>200.0</td>\n",
       "    </tr>\n",
       "    <tr>\n",
       "      <th>135</th>\n",
       "      <td>Джентльмены удачи</td>\n",
       "      <td>111005613</td>\n",
       "      <td>2013-10-18 12:00:00</td>\n",
       "      <td>Художественный</td>\n",
       "      <td>Киностудия \"Мосфильм\"</td>\n",
       "      <td>СССР</td>\n",
       "      <td>А.Серый</td>\n",
       "      <td>NaN</td>\n",
       "      <td>«6+» - для детей старше 6 лет</td>\n",
       "      <td>NaN</td>\n",
       "      <td>NaN</td>\n",
       "      <td>NaN</td>\n",
       "      <td>NaN</td>\n",
       "      <td>8.5</td>\n",
       "      <td>драма,комедия,криминал</td>\n",
       "      <td>1300.0</td>\n",
       "    </tr>\n",
       "    <tr>\n",
       "      <th>151</th>\n",
       "      <td>Жестокий романс</td>\n",
       "      <td>111006013</td>\n",
       "      <td>2013-10-18 12:00:00</td>\n",
       "      <td>Художественный</td>\n",
       "      <td>Киностудия \"Мосфильм\"</td>\n",
       "      <td>СССР</td>\n",
       "      <td>Э.Рязанов</td>\n",
       "      <td>NaN</td>\n",
       "      <td>«12+» - для детей старше 12 лет</td>\n",
       "      <td>NaN</td>\n",
       "      <td>NaN</td>\n",
       "      <td>NaN</td>\n",
       "      <td>NaN</td>\n",
       "      <td>8.1</td>\n",
       "      <td>драма,мелодрама,история</td>\n",
       "      <td>40.0</td>\n",
       "    </tr>\n",
       "    <tr>\n",
       "      <th>152</th>\n",
       "      <td>Жестокость</td>\n",
       "      <td>111011614</td>\n",
       "      <td>2014-10-01 12:00:00</td>\n",
       "      <td>Художественный</td>\n",
       "      <td>Киностудия \"Мосфильм\"</td>\n",
       "      <td>СССР</td>\n",
       "      <td>В.Скуйбин</td>\n",
       "      <td>NaN</td>\n",
       "      <td>«12+» - для детей старше 12 лет</td>\n",
       "      <td>NaN</td>\n",
       "      <td>NaN</td>\n",
       "      <td>NaN</td>\n",
       "      <td>NaN</td>\n",
       "      <td>7.1</td>\n",
       "      <td>драма</td>\n",
       "      <td>200.0</td>\n",
       "    </tr>\n",
       "    <tr>\n",
       "      <th>163</th>\n",
       "      <td>Журавушка</td>\n",
       "      <td>111011914</td>\n",
       "      <td>2014-10-01 12:00:00</td>\n",
       "      <td>Художественный</td>\n",
       "      <td>Киностудия \"Мосфильм\"</td>\n",
       "      <td>СССР</td>\n",
       "      <td>Н.Москаленко</td>\n",
       "      <td>NaN</td>\n",
       "      <td>«12+» - для детей старше 12 лет</td>\n",
       "      <td>NaN</td>\n",
       "      <td>NaN</td>\n",
       "      <td>NaN</td>\n",
       "      <td>NaN</td>\n",
       "      <td>7.6</td>\n",
       "      <td>драма,мелодрама</td>\n",
       "      <td>165.0</td>\n",
       "    </tr>\n",
       "    <tr>\n",
       "      <th>164</th>\n",
       "      <td>За спичками</td>\n",
       "      <td>111006113</td>\n",
       "      <td>2013-10-18 12:00:00</td>\n",
       "      <td>Художественный</td>\n",
       "      <td>Киностудия \"Мосфильм\", \"СУОМИ-ФИЛЬМ\"</td>\n",
       "      <td>СССР, Финляндия</td>\n",
       "      <td>Л.Гайдай, Р.Орко</td>\n",
       "      <td>NaN</td>\n",
       "      <td>«12+» - для детей старше 12 лет</td>\n",
       "      <td>NaN</td>\n",
       "      <td>NaN</td>\n",
       "      <td>NaN</td>\n",
       "      <td>NaN</td>\n",
       "      <td>7.5</td>\n",
       "      <td>комедия,приключения,история</td>\n",
       "      <td>100.0</td>\n",
       "    </tr>\n",
       "    <tr>\n",
       "      <th>171</th>\n",
       "      <td>Звонят, откройте дверь</td>\n",
       "      <td>111012514</td>\n",
       "      <td>2014-10-01 12:00:00</td>\n",
       "      <td>Художественный</td>\n",
       "      <td>Киностудия \"Мосфильм\"</td>\n",
       "      <td>СССР</td>\n",
       "      <td>А.Митта</td>\n",
       "      <td>NaN</td>\n",
       "      <td>«0+» - для любой зрительской аудитории</td>\n",
       "      <td>NaN</td>\n",
       "      <td>NaN</td>\n",
       "      <td>NaN</td>\n",
       "      <td>NaN</td>\n",
       "      <td>7.7</td>\n",
       "      <td>драма,семейный</td>\n",
       "      <td>1525.0</td>\n",
       "    </tr>\n",
       "    <tr>\n",
       "      <th>176</th>\n",
       "      <td>Забытая мелодия для флейты</td>\n",
       "      <td>111012014</td>\n",
       "      <td>2014-10-01 12:00:00</td>\n",
       "      <td>Художественный</td>\n",
       "      <td>Киностудия \"Мосфильм\"</td>\n",
       "      <td>СССР</td>\n",
       "      <td>Э.Рязанов</td>\n",
       "      <td>NaN</td>\n",
       "      <td>«12+» - для детей старше 12 лет</td>\n",
       "      <td>NaN</td>\n",
       "      <td>NaN</td>\n",
       "      <td>NaN</td>\n",
       "      <td>NaN</td>\n",
       "      <td>7.7</td>\n",
       "      <td>драма,мелодрама,комедия</td>\n",
       "      <td>520.0</td>\n",
       "    </tr>\n",
       "    <tr>\n",
       "      <th>186</th>\n",
       "      <td>Иван Васильевич меняет профессию</td>\n",
       "      <td>111006313</td>\n",
       "      <td>2013-10-18 12:00:00</td>\n",
       "      <td>Художественный</td>\n",
       "      <td>Киностудия \"Мосфильм\"</td>\n",
       "      <td>СССР</td>\n",
       "      <td>Л.Гайдай</td>\n",
       "      <td>NaN</td>\n",
       "      <td>«6+» - для детей старше 6 лет</td>\n",
       "      <td>NaN</td>\n",
       "      <td>NaN</td>\n",
       "      <td>NaN</td>\n",
       "      <td>NaN</td>\n",
       "      <td>8.8</td>\n",
       "      <td>фантастика,комедия,приключения</td>\n",
       "      <td>2060.0</td>\n",
       "    </tr>\n",
       "    <tr>\n",
       "      <th>199</th>\n",
       "      <td>Кавказская пленница, или Новые приключения Шурика</td>\n",
       "      <td>111006513</td>\n",
       "      <td>2013-10-18 12:00:00</td>\n",
       "      <td>Художественный</td>\n",
       "      <td>Киностудия \"Мосфильм\"</td>\n",
       "      <td>СССР</td>\n",
       "      <td>Л.Гайдай</td>\n",
       "      <td>NaN</td>\n",
       "      <td>«6+» - для детей старше 6 лет</td>\n",
       "      <td>NaN</td>\n",
       "      <td>NaN</td>\n",
       "      <td>NaN</td>\n",
       "      <td>NaN</td>\n",
       "      <td>8.5</td>\n",
       "      <td>комедия,приключения,мелодрама</td>\n",
       "      <td>550.0</td>\n",
       "    </tr>\n",
       "    <tr>\n",
       "      <th>207</th>\n",
       "      <td>Капитанская дочка .</td>\n",
       "      <td>111015015</td>\n",
       "      <td>2015-08-25 12:00:00</td>\n",
       "      <td>Художественный</td>\n",
       "      <td>Киностудия \"Мосфильм\"</td>\n",
       "      <td>СССР</td>\n",
       "      <td>В.Каплуновский</td>\n",
       "      <td>NaN</td>\n",
       "      <td>«6+» - для детей старше 6 лет</td>\n",
       "      <td>NaN</td>\n",
       "      <td>NaN</td>\n",
       "      <td>NaN</td>\n",
       "      <td>NaN</td>\n",
       "      <td>7.4</td>\n",
       "      <td>драма</td>\n",
       "      <td>2490.0</td>\n",
       "    </tr>\n",
       "    <tr>\n",
       "      <th>209</th>\n",
       "      <td>Новые приключения неуловимых</td>\n",
       "      <td>111018414</td>\n",
       "      <td>2014-12-01 12:00:00</td>\n",
       "      <td>Художественный</td>\n",
       "      <td>Киностудия \"Мосфильм\"</td>\n",
       "      <td>СССР</td>\n",
       "      <td>Э.Кеосаян</td>\n",
       "      <td>NaN</td>\n",
       "      <td>«6+» - для детей старше 6 лет</td>\n",
       "      <td>NaN</td>\n",
       "      <td>NaN</td>\n",
       "      <td>NaN</td>\n",
       "      <td>NaN</td>\n",
       "      <td>7.8</td>\n",
       "      <td>боевик,приключения</td>\n",
       "      <td>460.0</td>\n",
       "    </tr>\n",
       "    <tr>\n",
       "      <th>211</th>\n",
       "      <td>Одиноким предоставляется общежитие</td>\n",
       "      <td>111018614</td>\n",
       "      <td>2014-12-01 12:00:00</td>\n",
       "      <td>Художественный</td>\n",
       "      <td>Киностудия \"Мосфильм\"</td>\n",
       "      <td>СССР</td>\n",
       "      <td>С.Самсонов</td>\n",
       "      <td>NaN</td>\n",
       "      <td>«12+» - для детей старше 12 лет</td>\n",
       "      <td>NaN</td>\n",
       "      <td>NaN</td>\n",
       "      <td>NaN</td>\n",
       "      <td>NaN</td>\n",
       "      <td>7.8</td>\n",
       "      <td>мелодрама,комедия</td>\n",
       "      <td>100.0</td>\n",
       "    </tr>\n",
       "    <tr>\n",
       "      <th>212</th>\n",
       "      <td>Обыкновенный фашизм</td>\n",
       "      <td>112000215</td>\n",
       "      <td>2015-04-23 12:00:00</td>\n",
       "      <td>Документальный</td>\n",
       "      <td>Киностудия \"Мосфильм\"</td>\n",
       "      <td>СССР</td>\n",
       "      <td>М.Ромм</td>\n",
       "      <td>NaN</td>\n",
       "      <td>«16+» - для детей старше 16 лет</td>\n",
       "      <td>NaN</td>\n",
       "      <td>NaN</td>\n",
       "      <td>NaN</td>\n",
       "      <td>NaN</td>\n",
       "      <td>8.3</td>\n",
       "      <td>документальный,военный,история</td>\n",
       "      <td>150.0</td>\n",
       "    </tr>\n",
       "    <tr>\n",
       "      <th>229</th>\n",
       "      <td>По главной улице с оркестром</td>\n",
       "      <td>111028014</td>\n",
       "      <td>2014-12-24 12:00:00</td>\n",
       "      <td>Художественный</td>\n",
       "      <td>Киностудия \"Мосфильм\"</td>\n",
       "      <td>СССР</td>\n",
       "      <td>П.Тодоровский</td>\n",
       "      <td>NaN</td>\n",
       "      <td>«12+» - для детей старше 12 лет</td>\n",
       "      <td>NaN</td>\n",
       "      <td>NaN</td>\n",
       "      <td>NaN</td>\n",
       "      <td>NaN</td>\n",
       "      <td>7.5</td>\n",
       "      <td>мюзикл,мелодрама,комедия</td>\n",
       "      <td>405.0</td>\n",
       "    </tr>\n",
       "    <tr>\n",
       "      <th>237</th>\n",
       "      <td>Подранки</td>\n",
       "      <td>111007613</td>\n",
       "      <td>2013-10-18 12:00:00</td>\n",
       "      <td>Художественный</td>\n",
       "      <td>Киностудия \"Мосфильм\"</td>\n",
       "      <td>СССР</td>\n",
       "      <td>Н.Губенко</td>\n",
       "      <td>NaN</td>\n",
       "      <td>«12+» - для детей старше 12 лет</td>\n",
       "      <td>NaN</td>\n",
       "      <td>NaN</td>\n",
       "      <td>NaN</td>\n",
       "      <td>NaN</td>\n",
       "      <td>8.2</td>\n",
       "      <td>драма</td>\n",
       "      <td>0.0</td>\n",
       "    </tr>\n",
       "    <tr>\n",
       "      <th>253</th>\n",
       "      <td>Не может быть!</td>\n",
       "      <td>111003116</td>\n",
       "      <td>2016-02-12 12:00:00</td>\n",
       "      <td>Художественный</td>\n",
       "      <td>Киностудия \"Мосфильм\"</td>\n",
       "      <td>СССР</td>\n",
       "      <td>Л.Гайдай</td>\n",
       "      <td>NaN</td>\n",
       "      <td>«12+» - для детей старше 12 лет</td>\n",
       "      <td>NaN</td>\n",
       "      <td>NaN</td>\n",
       "      <td>NaN</td>\n",
       "      <td>NaN</td>\n",
       "      <td>8.1</td>\n",
       "      <td>мелодрама,комедия</td>\n",
       "      <td>1900.0</td>\n",
       "    </tr>\n",
       "    <tr>\n",
       "      <th>263</th>\n",
       "      <td>Раз на раз не приходится</td>\n",
       "      <td>111024514</td>\n",
       "      <td>2014-12-24 12:00:00</td>\n",
       "      <td>Художественный</td>\n",
       "      <td>Киностудия \"Мосфильм\"</td>\n",
       "      <td>СССР</td>\n",
       "      <td>А.Габриелян</td>\n",
       "      <td>NaN</td>\n",
       "      <td>«12+» - для детей старше 12 лет</td>\n",
       "      <td>NaN</td>\n",
       "      <td>NaN</td>\n",
       "      <td>NaN</td>\n",
       "      <td>NaN</td>\n",
       "      <td>7.4</td>\n",
       "      <td>комедия,криминал</td>\n",
       "      <td>1825.0</td>\n",
       "    </tr>\n",
       "    <tr>\n",
       "      <th>265</th>\n",
       "      <td>Раба любви</td>\n",
       "      <td>111007713</td>\n",
       "      <td>2013-10-18 12:00:00</td>\n",
       "      <td>Художественный</td>\n",
       "      <td>Киностудия \"Мосфильм\"</td>\n",
       "      <td>СССР</td>\n",
       "      <td>Н.Михалков</td>\n",
       "      <td>NaN</td>\n",
       "      <td>«12+» - для детей старше 12 лет</td>\n",
       "      <td>NaN</td>\n",
       "      <td>NaN</td>\n",
       "      <td>NaN</td>\n",
       "      <td>NaN</td>\n",
       "      <td>7.7</td>\n",
       "      <td>драма,мелодрама,комедия</td>\n",
       "      <td>1020.0</td>\n",
       "    </tr>\n",
       "    <tr>\n",
       "      <th>291</th>\n",
       "      <td>Сто дней после детства</td>\n",
       "      <td>111008213</td>\n",
       "      <td>2013-10-18 12:00:00</td>\n",
       "      <td>Художественный</td>\n",
       "      <td>Киностудия \"Мосфильм\"</td>\n",
       "      <td>СССР</td>\n",
       "      <td>С.Соловьев</td>\n",
       "      <td>NaN</td>\n",
       "      <td>«12+» - для детей старше 12 лет</td>\n",
       "      <td>NaN</td>\n",
       "      <td>NaN</td>\n",
       "      <td>NaN</td>\n",
       "      <td>NaN</td>\n",
       "      <td>8.0</td>\n",
       "      <td>драма,мелодрама</td>\n",
       "      <td>1149.0</td>\n",
       "    </tr>\n",
       "    <tr>\n",
       "      <th>294</th>\n",
       "      <td>Старомодная комедия</td>\n",
       "      <td>111029114</td>\n",
       "      <td>2014-12-24 12:00:00</td>\n",
       "      <td>Художественный</td>\n",
       "      <td>Киностудия \"Мосфильм\"</td>\n",
       "      <td>СССР</td>\n",
       "      <td>Э.Савельева, Т.Березанцева</td>\n",
       "      <td>NaN</td>\n",
       "      <td>«12+» - для детей старше 12 лет</td>\n",
       "      <td>NaN</td>\n",
       "      <td>NaN</td>\n",
       "      <td>NaN</td>\n",
       "      <td>NaN</td>\n",
       "      <td>8.2</td>\n",
       "      <td>мелодрама,комедия</td>\n",
       "      <td>2400.0</td>\n",
       "    </tr>\n",
       "    <tr>\n",
       "      <th>303</th>\n",
       "      <td>Тегеран-43</td>\n",
       "      <td>111008413</td>\n",
       "      <td>2013-10-18 12:00:00</td>\n",
       "      <td>Художественный</td>\n",
       "      <td>Киностудия \"Мосфильм\", \"ПРО ДИС ФИЛЬМ АГ\", \"МЕ...</td>\n",
       "      <td>СССР - Швейцария - Франция</td>\n",
       "      <td>А.Алов, В.Наумов</td>\n",
       "      <td>NaN</td>\n",
       "      <td>«12+» - для детей старше 12 лет</td>\n",
       "      <td>NaN</td>\n",
       "      <td>NaN</td>\n",
       "      <td>NaN</td>\n",
       "      <td>NaN</td>\n",
       "      <td>7.5</td>\n",
       "      <td>боевик,триллер,драма</td>\n",
       "      <td>880.0</td>\n",
       "    </tr>\n",
       "    <tr>\n",
       "      <th>313</th>\n",
       "      <td>Цареубийца</td>\n",
       "      <td>111028314</td>\n",
       "      <td>2014-12-24 12:00:00</td>\n",
       "      <td>Художественный</td>\n",
       "      <td>Киностудия \"Курьер\" киноконцерна \"Мосфильм\"</td>\n",
       "      <td>СССР</td>\n",
       "      <td>К.Шахназаров</td>\n",
       "      <td>NaN</td>\n",
       "      <td>«12+» - для детей старше 12 лет</td>\n",
       "      <td>NaN</td>\n",
       "      <td>NaN</td>\n",
       "      <td>NaN</td>\n",
       "      <td>NaN</td>\n",
       "      <td>7.5</td>\n",
       "      <td>драма,история</td>\n",
       "      <td>425.0</td>\n",
       "    </tr>\n",
       "    <tr>\n",
       "      <th>318</th>\n",
       "      <td>Человек ниоткуда</td>\n",
       "      <td>111022214</td>\n",
       "      <td>2014-12-01 12:00:00</td>\n",
       "      <td>Художественный</td>\n",
       "      <td>Киностудия \"Мосфильм\"</td>\n",
       "      <td>СССР</td>\n",
       "      <td>Э.Рязанов</td>\n",
       "      <td>NaN</td>\n",
       "      <td>«12+» - для детей старше 12 лет</td>\n",
       "      <td>NaN</td>\n",
       "      <td>NaN</td>\n",
       "      <td>NaN</td>\n",
       "      <td>NaN</td>\n",
       "      <td>6.4</td>\n",
       "      <td>боевик</td>\n",
       "      <td>1400.0</td>\n",
       "    </tr>\n",
       "    <tr>\n",
       "      <th>324</th>\n",
       "      <td>Хозяин тайги.</td>\n",
       "      <td>111008513</td>\n",
       "      <td>2013-10-18 12:00:00</td>\n",
       "      <td>Художественный</td>\n",
       "      <td>Киностудия \"Мосфильм\"</td>\n",
       "      <td>СССР</td>\n",
       "      <td>В.Назаров</td>\n",
       "      <td>NaN</td>\n",
       "      <td>«12+» - для детей старше 12 лет</td>\n",
       "      <td>NaN</td>\n",
       "      <td>NaN</td>\n",
       "      <td>NaN</td>\n",
       "      <td>NaN</td>\n",
       "      <td>7.4</td>\n",
       "      <td>криминал</td>\n",
       "      <td>1100.0</td>\n",
       "    </tr>\n",
       "    <tr>\n",
       "      <th>326</th>\n",
       "      <td>Частная жизнь_</td>\n",
       "      <td>111021914</td>\n",
       "      <td>2014-12-01 12:00:00</td>\n",
       "      <td>Художественный</td>\n",
       "      <td>Киностудия \"Мосфильм\"</td>\n",
       "      <td>СССР</td>\n",
       "      <td>Ю.Райзман</td>\n",
       "      <td>NaN</td>\n",
       "      <td>«12+» - для детей старше 12 лет</td>\n",
       "      <td>NaN</td>\n",
       "      <td>NaN</td>\n",
       "      <td>NaN</td>\n",
       "      <td>NaN</td>\n",
       "      <td>6.7</td>\n",
       "      <td>драма,комедия</td>\n",
       "      <td>370.0</td>\n",
       "    </tr>\n",
       "    <tr>\n",
       "      <th>336</th>\n",
       "      <td>Каникулы строгого режима</td>\n",
       "      <td>111008514</td>\n",
       "      <td>2014-08-07 12:00:00</td>\n",
       "      <td>Художественный</td>\n",
       "      <td>ООО \"Кинобазза\" по  заказу ЗАО \"Дирекция Кино\"</td>\n",
       "      <td>Россия</td>\n",
       "      <td>И.Зайцев</td>\n",
       "      <td>А.Максимов, Н.Попов, Д.Файзиев</td>\n",
       "      <td>«12+» - для детей старше 12 лет</td>\n",
       "      <td>NaN</td>\n",
       "      <td>NaN</td>\n",
       "      <td>NaN</td>\n",
       "      <td>NaN</td>\n",
       "      <td>7.1</td>\n",
       "      <td>драма,комедия,приключения</td>\n",
       "      <td>360.0</td>\n",
       "    </tr>\n",
       "    <tr>\n",
       "      <th>349</th>\n",
       "      <td>Мимино</td>\n",
       "      <td>111007113</td>\n",
       "      <td>2013-10-18 12:00:00</td>\n",
       "      <td>Художественный</td>\n",
       "      <td>Киностудия \"Мосфильм\"</td>\n",
       "      <td>СССР</td>\n",
       "      <td>Г.Данелия</td>\n",
       "      <td>NaN</td>\n",
       "      <td>«12+» - для детей старше 12 лет</td>\n",
       "      <td>NaN</td>\n",
       "      <td>NaN</td>\n",
       "      <td>NaN</td>\n",
       "      <td>NaN</td>\n",
       "      <td>8.1</td>\n",
       "      <td>драма,комедия</td>\n",
       "      <td>2400.0</td>\n",
       "    </tr>\n",
       "    <tr>\n",
       "      <th>351</th>\n",
       "      <td>Волшебное приключение</td>\n",
       "      <td>124000905</td>\n",
       "      <td>2015-01-18 12:00:00</td>\n",
       "      <td>Анимационный</td>\n",
       "      <td>Экшион Филмз, Патэ Синема, Болексбразерс</td>\n",
       "      <td>Великобритания - Франция</td>\n",
       "      <td>Дэйв Бортвик</td>\n",
       "      <td>Клауди Горский, Энди Лэйтон, Лаурен Родон, Пас...</td>\n",
       "      <td>«0+» - для любой зрительской аудитории</td>\n",
       "      <td>NaN</td>\n",
       "      <td>NaN</td>\n",
       "      <td>NaN</td>\n",
       "      <td>NaN</td>\n",
       "      <td>5.7</td>\n",
       "      <td>мультфильм,фэнтези,комедия</td>\n",
       "      <td>100.0</td>\n",
       "    </tr>\n",
       "    <tr>\n",
       "      <th>362</th>\n",
       "      <td>Мой младший брат</td>\n",
       "      <td>111028714</td>\n",
       "      <td>2014-12-24 12:00:00</td>\n",
       "      <td>Художественный</td>\n",
       "      <td>Киностудия \"Мосфильм\"</td>\n",
       "      <td>СССР</td>\n",
       "      <td>А.Зархи</td>\n",
       "      <td>NaN</td>\n",
       "      <td>«12+» - для детей старше 12 лет</td>\n",
       "      <td>NaN</td>\n",
       "      <td>NaN</td>\n",
       "      <td>NaN</td>\n",
       "      <td>NaN</td>\n",
       "      <td>7.8</td>\n",
       "      <td>драма</td>\n",
       "      <td>300.0</td>\n",
       "    </tr>\n",
       "    <tr>\n",
       "      <th>436</th>\n",
       "      <td>Искатели могил</td>\n",
       "      <td>121004112</td>\n",
       "      <td>2012-02-15 12:00:00</td>\n",
       "      <td>Художественный</td>\n",
       "      <td>Диджитал Интерференс</td>\n",
       "      <td>США</td>\n",
       "      <td>Вишес Бразерс</td>\n",
       "      <td>Сван Анджелски, Майкл Карлин</td>\n",
       "      <td>«16+» - для детей старше 16 лет</td>\n",
       "      <td>NaN</td>\n",
       "      <td>NaN</td>\n",
       "      <td>NaN</td>\n",
       "      <td>NaN</td>\n",
       "      <td>6.4</td>\n",
       "      <td>ужасы,триллер</td>\n",
       "      <td>550.0</td>\n",
       "    </tr>\n",
       "    <tr>\n",
       "      <th>464</th>\n",
       "      <td>КОКОКО</td>\n",
       "      <td>111003112</td>\n",
       "      <td>2012-06-05 12:00:00</td>\n",
       "      <td>Художественный</td>\n",
       "      <td>ООО Кинокомпания \"Глобус-фильм\"</td>\n",
       "      <td>Россия</td>\n",
       "      <td>А.Смирнова</td>\n",
       "      <td>С.Сельянов</td>\n",
       "      <td>«18+» - запрещено для детей</td>\n",
       "      <td>NaN</td>\n",
       "      <td>NaN</td>\n",
       "      <td>NaN</td>\n",
       "      <td>NaN</td>\n",
       "      <td>6.9</td>\n",
       "      <td>драма,комедия</td>\n",
       "      <td>200.0</td>\n",
       "    </tr>\n",
       "    <tr>\n",
       "      <th>479</th>\n",
       "      <td>Голодные игры</td>\n",
       "      <td>121005712</td>\n",
       "      <td>2012-02-28 12:00:00</td>\n",
       "      <td>Художественный</td>\n",
       "      <td>Колор Форс, Ладжер Зен Лайф Продакшн, Лайонсге...</td>\n",
       "      <td>США</td>\n",
       "      <td>Гэри Росс</td>\n",
       "      <td>Нина Джейкобсон, Джон Килик</td>\n",
       "      <td>«16+» - для детей старше 16 лет</td>\n",
       "      <td>NaN</td>\n",
       "      <td>NaN</td>\n",
       "      <td>NaN</td>\n",
       "      <td>NaN</td>\n",
       "      <td>7.3</td>\n",
       "      <td>фантастика,боевик,триллер</td>\n",
       "      <td>760.0</td>\n",
       "    </tr>\n",
       "    <tr>\n",
       "      <th>480</th>\n",
       "      <td>Вождь Разнокожих</td>\n",
       "      <td>111002512</td>\n",
       "      <td>2012-04-13 12:00:00</td>\n",
       "      <td>Художественный</td>\n",
       "      <td>ООО \"Рекун-синема\"</td>\n",
       "      <td>Россия</td>\n",
       "      <td>Е.Анашкин</td>\n",
       "      <td>И.Неретин, Д.Куликов, Т.Сергейцев</td>\n",
       "      <td>«16+» - для детей старше 16 лет</td>\n",
       "      <td>NaN</td>\n",
       "      <td>NaN</td>\n",
       "      <td>NaN</td>\n",
       "      <td>NaN</td>\n",
       "      <td>4.6</td>\n",
       "      <td>комедия,семейный</td>\n",
       "      <td>1070.0</td>\n",
       "    </tr>\n",
       "    <tr>\n",
       "      <th>487</th>\n",
       "      <td>Отважная Лифи</td>\n",
       "      <td>124000512</td>\n",
       "      <td>2012-04-05 12:00:00</td>\n",
       "      <td>Анимационный</td>\n",
       "      <td>Мьюнг Филмз, Одолтоджи</td>\n",
       "      <td>Южная Корея</td>\n",
       "      <td>Сон-Юн О</td>\n",
       "      <td>Сун-ку Ким, Эун Ли</td>\n",
       "      <td>«0+» - для любой зрительской аудитории</td>\n",
       "      <td>NaN</td>\n",
       "      <td>NaN</td>\n",
       "      <td>NaN</td>\n",
       "      <td>NaN</td>\n",
       "      <td>7.2</td>\n",
       "      <td>мультфильм,приключения,драма</td>\n",
       "      <td>200.0</td>\n",
       "    </tr>\n",
       "    <tr>\n",
       "      <th>501</th>\n",
       "      <td>Ворон-</td>\n",
       "      <td>121009612</td>\n",
       "      <td>2012-04-11 12:00:00</td>\n",
       "      <td>Художественный</td>\n",
       "      <td>Филм Нейшнл Интернэшнл</td>\n",
       "      <td>США</td>\n",
       "      <td>Джеймс МакТиг</td>\n",
       "      <td>Марк Д. Эванс, Тревор Мэйси, Аарон Райдер</td>\n",
       "      <td>«16+» - для детей старше 16 лет</td>\n",
       "      <td>NaN</td>\n",
       "      <td>NaN</td>\n",
       "      <td>NaN</td>\n",
       "      <td>NaN</td>\n",
       "      <td>7.9</td>\n",
       "      <td>фэнтези,боевик,драма</td>\n",
       "      <td>1600.0</td>\n",
       "    </tr>\n",
       "    <tr>\n",
       "      <th>506</th>\n",
       "      <td>Эмили Жоли</td>\n",
       "      <td>124000812</td>\n",
       "      <td>2012-04-25 12:00:00</td>\n",
       "      <td>Анимационный</td>\n",
       "      <td>Теле Имаж Продюксьон, 2Дэ 3Дэ Анимасьон, Хонг ...</td>\n",
       "      <td>Франция</td>\n",
       "      <td>Франсиз Нильсен, Филипп Шатель</td>\n",
       "      <td>Филипп Алессандри</td>\n",
       "      <td>«0+» - для любой зрительской аудитории</td>\n",
       "      <td>NaN</td>\n",
       "      <td>NaN</td>\n",
       "      <td>NaN</td>\n",
       "      <td>NaN</td>\n",
       "      <td>5.4</td>\n",
       "      <td>мультфильм,семейный</td>\n",
       "      <td>240.0</td>\n",
       "    </tr>\n",
       "    <tr>\n",
       "      <th>514</th>\n",
       "      <td>Ржевский против Наполеона</td>\n",
       "      <td>111000212</td>\n",
       "      <td>2012-01-12 12:00:00</td>\n",
       "      <td>Художественный</td>\n",
       "      <td>ООО \"Территория Кино\"</td>\n",
       "      <td>Россия</td>\n",
       "      <td>М.Бальчунас</td>\n",
       "      <td>ООО \"Квартал Леополис\"</td>\n",
       "      <td>«16+» - для детей старше 16 лет</td>\n",
       "      <td>NaN</td>\n",
       "      <td>NaN</td>\n",
       "      <td>NaN</td>\n",
       "      <td>NaN</td>\n",
       "      <td>3.0</td>\n",
       "      <td>комедия</td>\n",
       "      <td>200.0</td>\n",
       "    </tr>\n",
       "    <tr>\n",
       "      <th>515</th>\n",
       "      <td>Ночь в супермаркете</td>\n",
       "      <td>124001212</td>\n",
       "      <td>2012-05-02 12:00:00</td>\n",
       "      <td>Анимационный</td>\n",
       "      <td>Си 47 Продакшнз, Лайнс Гейт Фэмили Интертейнме...</td>\n",
       "      <td>США</td>\n",
       "      <td>Лоуренс Казанофф</td>\n",
       "      <td>Джордж Джонсен, Лоуренс Казанофф, Элисон Сэвич...</td>\n",
       "      <td>«0+» - для любой зрительской аудитории</td>\n",
       "      <td>NaN</td>\n",
       "      <td>NaN</td>\n",
       "      <td>NaN</td>\n",
       "      <td>NaN</td>\n",
       "      <td>1.6</td>\n",
       "      <td>мультфильм,комедия,семейный</td>\n",
       "      <td>620.0</td>\n",
       "    </tr>\n",
       "  </tbody>\n",
       "</table>\n",
       "</div>"
      ],
      "text/plain": [
       "                                                 title   puNumber  \\\n",
       "18                                       Неподдающиеся  111003616   \n",
       "19                                          Неподсуден  111003716   \n",
       "22            Операция \"Ы\" и другие приключения Шурика  111007413   \n",
       "38                                           Мужики!..  111007213   \n",
       "52                                        Айболит - 66  111010513   \n",
       "61                                   Американская дочь  111005515   \n",
       "66                                        Анна Павлова  111011013   \n",
       "68                                         Алые паруса  111010913   \n",
       "75                                       Борис Годунов  111012213   \n",
       "78                                   Будьте моим мужем  111012413   \n",
       "96                           Дамы приглашают кавалеров  111010414   \n",
       "104                             Гори, гори, моя звезда  111013713   \n",
       "135                                  Джентльмены удачи  111005613   \n",
       "151                                    Жестокий романс  111006013   \n",
       "152                                         Жестокость  111011614   \n",
       "163                                          Журавушка  111011914   \n",
       "164                                        За спичками  111006113   \n",
       "171                             Звонят, откройте дверь  111012514   \n",
       "176                         Забытая мелодия для флейты  111012014   \n",
       "186                   Иван Васильевич меняет профессию  111006313   \n",
       "199  Кавказская пленница, или Новые приключения Шурика  111006513   \n",
       "207                                Капитанская дочка .  111015015   \n",
       "209                       Новые приключения неуловимых  111018414   \n",
       "211                 Одиноким предоставляется общежитие  111018614   \n",
       "212                                Обыкновенный фашизм  112000215   \n",
       "229                       По главной улице с оркестром  111028014   \n",
       "237                                           Подранки  111007613   \n",
       "253                                     Не может быть!  111003116   \n",
       "263                           Раз на раз не приходится  111024514   \n",
       "265                                         Раба любви  111007713   \n",
       "291                             Сто дней после детства  111008213   \n",
       "294                                Старомодная комедия  111029114   \n",
       "303                                         Тегеран-43  111008413   \n",
       "313                                         Цареубийца  111028314   \n",
       "318                                   Человек ниоткуда  111022214   \n",
       "324                                      Хозяин тайги.  111008513   \n",
       "326                                     Частная жизнь_  111021914   \n",
       "336                           Каникулы строгого режима  111008514   \n",
       "349                                             Мимино  111007113   \n",
       "351                              Волшебное приключение  124000905   \n",
       "362                                   Мой младший брат  111028714   \n",
       "436                                     Искатели могил  121004112   \n",
       "464                                             КОКОКО  111003112   \n",
       "479                                      Голодные игры  121005712   \n",
       "480                                   Вождь Разнокожих  111002512   \n",
       "487                                      Отважная Лифи  124000512   \n",
       "501                                             Ворон-  121009612   \n",
       "506                                         Эмили Жоли  124000812   \n",
       "514                          Ржевский против Наполеона  111000212   \n",
       "515                                Ночь в супермаркете  124001212   \n",
       "\n",
       "        show_start_date            type  \\\n",
       "18  2016-02-12 12:00:00  Художественный   \n",
       "19  2016-02-12 12:00:00  Художественный   \n",
       "22  2013-10-18 12:00:00  Художественный   \n",
       "38  2013-10-18 12:00:00  Художественный   \n",
       "52  2013-12-19 12:00:00  Художественный   \n",
       "61  2015-04-23 12:00:00  Художественный   \n",
       "66  2013-12-19 12:00:00  Художественный   \n",
       "68  2013-12-19 12:00:00  Художественный   \n",
       "75  2013-12-19 12:00:00  Художественный   \n",
       "78  2013-12-19 12:00:00  Художественный   \n",
       "96  2014-10-01 12:00:00  Художественный   \n",
       "104 2013-12-19 12:00:00  Художественный   \n",
       "135 2013-10-18 12:00:00  Художественный   \n",
       "151 2013-10-18 12:00:00  Художественный   \n",
       "152 2014-10-01 12:00:00  Художественный   \n",
       "163 2014-10-01 12:00:00  Художественный   \n",
       "164 2013-10-18 12:00:00  Художественный   \n",
       "171 2014-10-01 12:00:00  Художественный   \n",
       "176 2014-10-01 12:00:00  Художественный   \n",
       "186 2013-10-18 12:00:00  Художественный   \n",
       "199 2013-10-18 12:00:00  Художественный   \n",
       "207 2015-08-25 12:00:00  Художественный   \n",
       "209 2014-12-01 12:00:00  Художественный   \n",
       "211 2014-12-01 12:00:00  Художественный   \n",
       "212 2015-04-23 12:00:00  Документальный   \n",
       "229 2014-12-24 12:00:00  Художественный   \n",
       "237 2013-10-18 12:00:00  Художественный   \n",
       "253 2016-02-12 12:00:00  Художественный   \n",
       "263 2014-12-24 12:00:00  Художественный   \n",
       "265 2013-10-18 12:00:00  Художественный   \n",
       "291 2013-10-18 12:00:00  Художественный   \n",
       "294 2014-12-24 12:00:00  Художественный   \n",
       "303 2013-10-18 12:00:00  Художественный   \n",
       "313 2014-12-24 12:00:00  Художественный   \n",
       "318 2014-12-01 12:00:00  Художественный   \n",
       "324 2013-10-18 12:00:00  Художественный   \n",
       "326 2014-12-01 12:00:00  Художественный   \n",
       "336 2014-08-07 12:00:00  Художественный   \n",
       "349 2013-10-18 12:00:00  Художественный   \n",
       "351 2015-01-18 12:00:00    Анимационный   \n",
       "362 2014-12-24 12:00:00  Художественный   \n",
       "436 2012-02-15 12:00:00  Художественный   \n",
       "464 2012-06-05 12:00:00  Художественный   \n",
       "479 2012-02-28 12:00:00  Художественный   \n",
       "480 2012-04-13 12:00:00  Художественный   \n",
       "487 2012-04-05 12:00:00    Анимационный   \n",
       "501 2012-04-11 12:00:00  Художественный   \n",
       "506 2012-04-25 12:00:00    Анимационный   \n",
       "514 2012-01-12 12:00:00  Художественный   \n",
       "515 2012-05-02 12:00:00    Анимационный   \n",
       "\n",
       "                                           film_studio  \\\n",
       "18                               Киностудия \"Мосфильм\"   \n",
       "19                               Киностудия \"Мосфильм\"   \n",
       "22                               Киностудия \"Мосфильм\"   \n",
       "38                               Киностудия \"Мосфильм\"   \n",
       "52                               Киностудия \"Мосфильм\"   \n",
       "61   АО \"Караван\", Компания \"Америкен Дистрибьюшн\",...   \n",
       "66   совместное производство Киностудия \"Мосфильм\",...   \n",
       "68                               Киностудия \"Мосфильм\"   \n",
       "75   Киностудия \"Мосфильм\",  \"Баррандов\" (ЧССР) при...   \n",
       "78                               Киностудия \"Мосфильм\"   \n",
       "96                               Киностудия \"Мосфильм\"   \n",
       "104                              Киностудия \"Мосфильм\"   \n",
       "135                              Киностудия \"Мосфильм\"   \n",
       "151                              Киностудия \"Мосфильм\"   \n",
       "152                              Киностудия \"Мосфильм\"   \n",
       "163                              Киностудия \"Мосфильм\"   \n",
       "164              Киностудия \"Мосфильм\", \"СУОМИ-ФИЛЬМ\"    \n",
       "171                              Киностудия \"Мосфильм\"   \n",
       "176                              Киностудия \"Мосфильм\"   \n",
       "186                              Киностудия \"Мосфильм\"   \n",
       "199                              Киностудия \"Мосфильм\"   \n",
       "207                              Киностудия \"Мосфильм\"   \n",
       "209                              Киностудия \"Мосфильм\"   \n",
       "211                              Киностудия \"Мосфильм\"   \n",
       "212                              Киностудия \"Мосфильм\"   \n",
       "229                              Киностудия \"Мосфильм\"   \n",
       "237                              Киностудия \"Мосфильм\"   \n",
       "253                              Киностудия \"Мосфильм\"   \n",
       "263                              Киностудия \"Мосфильм\"   \n",
       "265                              Киностудия \"Мосфильм\"   \n",
       "291                              Киностудия \"Мосфильм\"   \n",
       "294                              Киностудия \"Мосфильм\"   \n",
       "303  Киностудия \"Мосфильм\", \"ПРО ДИС ФИЛЬМ АГ\", \"МЕ...   \n",
       "313        Киностудия \"Курьер\" киноконцерна \"Мосфильм\"   \n",
       "318                              Киностудия \"Мосфильм\"   \n",
       "324                              Киностудия \"Мосфильм\"   \n",
       "326                              Киностудия \"Мосфильм\"   \n",
       "336     ООО \"Кинобазза\" по  заказу ЗАО \"Дирекция Кино\"   \n",
       "349                              Киностудия \"Мосфильм\"   \n",
       "351           Экшион Филмз, Патэ Синема, Болексбразерс   \n",
       "362                              Киностудия \"Мосфильм\"   \n",
       "436                               Диджитал Интерференс   \n",
       "464                    ООО Кинокомпания \"Глобус-фильм\"   \n",
       "479  Колор Форс, Ладжер Зен Лайф Продакшн, Лайонсге...   \n",
       "480                                 ООО \"Рекун-синема\"   \n",
       "487                             Мьюнг Филмз, Одолтоджи   \n",
       "501                             Филм Нейшнл Интернэшнл   \n",
       "506  Теле Имаж Продюксьон, 2Дэ 3Дэ Анимасьон, Хонг ...   \n",
       "514                              ООО \"Территория Кино\"   \n",
       "515  Си 47 Продакшнз, Лайнс Гейт Фэмили Интертейнме...   \n",
       "\n",
       "                   production_country                        director  \\\n",
       "18                               СССР                       Ю.Чулюкин   \n",
       "19                               СССР       В.Краснопольский, В.Усков   \n",
       "22                               СССР                        Л.Гайдай   \n",
       "38                               СССР                         И.Бабич   \n",
       "52                               СССР                     Ролан Быков   \n",
       "61             Россия, Казахстан, США                    К.Шахназаров   \n",
       "66   СССР, Франция, Англия, Куба, ГДР                    Эмиль Лотяну   \n",
       "68                               СССР                        А.Птушко   \n",
       "75   СССР, ЧССР, Западный Берлин, ПНР                     С.Бондарчук   \n",
       "78                               СССР                      А.Сурикова   \n",
       "96                               СССР                    И.Киасашвили   \n",
       "104                              СССР                         А.Митта   \n",
       "135                              СССР                         А.Серый   \n",
       "151                              СССР                       Э.Рязанов   \n",
       "152                              СССР                       В.Скуйбин   \n",
       "163                              СССР                    Н.Москаленко   \n",
       "164                   СССР, Финляндия                Л.Гайдай, Р.Орко   \n",
       "171                              СССР                         А.Митта   \n",
       "176                              СССР                       Э.Рязанов   \n",
       "186                              СССР                        Л.Гайдай   \n",
       "199                              СССР                        Л.Гайдай   \n",
       "207                              СССР                  В.Каплуновский   \n",
       "209                              СССР                       Э.Кеосаян   \n",
       "211                              СССР                      С.Самсонов   \n",
       "212                              СССР                          М.Ромм   \n",
       "229                              СССР                   П.Тодоровский   \n",
       "237                              СССР                       Н.Губенко   \n",
       "253                              СССР                        Л.Гайдай   \n",
       "263                              СССР                     А.Габриелян   \n",
       "265                              СССР                      Н.Михалков   \n",
       "291                              СССР                      С.Соловьев   \n",
       "294                              СССР      Э.Савельева, Т.Березанцева   \n",
       "303        СССР - Швейцария - Франция                А.Алов, В.Наумов   \n",
       "313                              СССР                    К.Шахназаров   \n",
       "318                              СССР                       Э.Рязанов   \n",
       "324                              СССР                       В.Назаров   \n",
       "326                              СССР                       Ю.Райзман   \n",
       "336                            Россия                        И.Зайцев   \n",
       "349                              СССР                       Г.Данелия   \n",
       "351          Великобритания - Франция                    Дэйв Бортвик   \n",
       "362                              СССР                         А.Зархи   \n",
       "436                               США                   Вишес Бразерс   \n",
       "464                            Россия                      А.Смирнова   \n",
       "479                               США                       Гэри Росс   \n",
       "480                            Россия                       Е.Анашкин   \n",
       "487                       Южная Корея                        Сон-Юн О   \n",
       "501                               США                   Джеймс МакТиг   \n",
       "506                           Франция  Франсиз Нильсен, Филипп Шатель   \n",
       "514                            Россия                     М.Бальчунас   \n",
       "515                               США                Лоуренс Казанофф   \n",
       "\n",
       "                                              producer  \\\n",
       "18                                                 NaN   \n",
       "19                                                 NaN   \n",
       "22                                                 NaN   \n",
       "38                                                 NaN   \n",
       "52                                                 NaN   \n",
       "61                                                 NaN   \n",
       "66                                                 NaN   \n",
       "68                                                 NaN   \n",
       "75                                                 NaN   \n",
       "78                                                 NaN   \n",
       "96                                                 NaN   \n",
       "104                                                NaN   \n",
       "135                                                NaN   \n",
       "151                                                NaN   \n",
       "152                                                NaN   \n",
       "163                                                NaN   \n",
       "164                                                NaN   \n",
       "171                                                NaN   \n",
       "176                                                NaN   \n",
       "186                                                NaN   \n",
       "199                                                NaN   \n",
       "207                                                NaN   \n",
       "209                                                NaN   \n",
       "211                                                NaN   \n",
       "212                                                NaN   \n",
       "229                                                NaN   \n",
       "237                                                NaN   \n",
       "253                                                NaN   \n",
       "263                                                NaN   \n",
       "265                                                NaN   \n",
       "291                                                NaN   \n",
       "294                                                NaN   \n",
       "303                                                NaN   \n",
       "313                                                NaN   \n",
       "318                                                NaN   \n",
       "324                                                NaN   \n",
       "326                                                NaN   \n",
       "336                     А.Максимов, Н.Попов, Д.Файзиев   \n",
       "349                                                NaN   \n",
       "351  Клауди Горский, Энди Лэйтон, Лаурен Родон, Пас...   \n",
       "362                                                NaN   \n",
       "436                       Сван Анджелски, Майкл Карлин   \n",
       "464                                         С.Сельянов   \n",
       "479                        Нина Джейкобсон, Джон Килик   \n",
       "480                  И.Неретин, Д.Куликов, Т.Сергейцев   \n",
       "487                                 Сун-ку Ким, Эун Ли   \n",
       "501          Марк Д. Эванс, Тревор Мэйси, Аарон Райдер   \n",
       "506                                  Филипп Алессандри   \n",
       "514                             ООО \"Квартал Леополис\"   \n",
       "515  Джордж Джонсен, Лоуренс Казанофф, Элисон Сэвич...   \n",
       "\n",
       "                            age_restriction  refundable_support  \\\n",
       "18            «6+» - для детей старше 6 лет                 NaN   \n",
       "19            «6+» - для детей старше 6 лет                 NaN   \n",
       "22            «6+» - для детей старше 6 лет                 NaN   \n",
       "38            «6+» - для детей старше 6 лет                 NaN   \n",
       "52   «0+» - для любой зрительской аудитории                 NaN   \n",
       "61            «6+» - для детей старше 6 лет                 NaN   \n",
       "66            «6+» - для детей старше 6 лет                 NaN   \n",
       "68            «6+» - для детей старше 6 лет                 NaN   \n",
       "75            «6+» - для детей старше 6 лет                 NaN   \n",
       "78            «6+» - для детей старше 6 лет                 NaN   \n",
       "96          «12+» - для детей старше 12 лет                 NaN   \n",
       "104         «12+» - для детей старше 12 лет                 NaN   \n",
       "135           «6+» - для детей старше 6 лет                 NaN   \n",
       "151         «12+» - для детей старше 12 лет                 NaN   \n",
       "152         «12+» - для детей старше 12 лет                 NaN   \n",
       "163         «12+» - для детей старше 12 лет                 NaN   \n",
       "164         «12+» - для детей старше 12 лет                 NaN   \n",
       "171  «0+» - для любой зрительской аудитории                 NaN   \n",
       "176         «12+» - для детей старше 12 лет                 NaN   \n",
       "186           «6+» - для детей старше 6 лет                 NaN   \n",
       "199           «6+» - для детей старше 6 лет                 NaN   \n",
       "207           «6+» - для детей старше 6 лет                 NaN   \n",
       "209           «6+» - для детей старше 6 лет                 NaN   \n",
       "211         «12+» - для детей старше 12 лет                 NaN   \n",
       "212         «16+» - для детей старше 16 лет                 NaN   \n",
       "229         «12+» - для детей старше 12 лет                 NaN   \n",
       "237         «12+» - для детей старше 12 лет                 NaN   \n",
       "253         «12+» - для детей старше 12 лет                 NaN   \n",
       "263         «12+» - для детей старше 12 лет                 NaN   \n",
       "265         «12+» - для детей старше 12 лет                 NaN   \n",
       "291         «12+» - для детей старше 12 лет                 NaN   \n",
       "294         «12+» - для детей старше 12 лет                 NaN   \n",
       "303         «12+» - для детей старше 12 лет                 NaN   \n",
       "313         «12+» - для детей старше 12 лет                 NaN   \n",
       "318         «12+» - для детей старше 12 лет                 NaN   \n",
       "324         «12+» - для детей старше 12 лет                 NaN   \n",
       "326         «12+» - для детей старше 12 лет                 NaN   \n",
       "336         «12+» - для детей старше 12 лет                 NaN   \n",
       "349         «12+» - для детей старше 12 лет                 NaN   \n",
       "351  «0+» - для любой зрительской аудитории                 NaN   \n",
       "362         «12+» - для детей старше 12 лет                 NaN   \n",
       "436         «16+» - для детей старше 16 лет                 NaN   \n",
       "464             «18+» - запрещено для детей                 NaN   \n",
       "479         «16+» - для детей старше 16 лет                 NaN   \n",
       "480         «16+» - для детей старше 16 лет                 NaN   \n",
       "487  «0+» - для любой зрительской аудитории                 NaN   \n",
       "501         «16+» - для детей старше 16 лет                 NaN   \n",
       "506  «0+» - для любой зрительской аудитории                 NaN   \n",
       "514         «16+» - для детей старше 16 лет                 NaN   \n",
       "515  «0+» - для любой зрительской аудитории                 NaN   \n",
       "\n",
       "     nonrefundable_support  budget financing_source  ratings  \\\n",
       "18                     NaN     NaN              NaN      8.0   \n",
       "19                     NaN     NaN              NaN      7.7   \n",
       "22                     NaN     NaN              NaN      8.7   \n",
       "38                     NaN     NaN              NaN      8.1   \n",
       "52                     NaN     NaN              NaN      7.1   \n",
       "61                     NaN     NaN              NaN      7.0   \n",
       "66                     NaN     NaN              NaN      7.7   \n",
       "68                     NaN     NaN              NaN      7.8   \n",
       "75                     NaN     NaN              NaN      6.2   \n",
       "78                     NaN     NaN              NaN      6.4   \n",
       "96                     NaN     NaN              NaN      7.2   \n",
       "104                    NaN     NaN              NaN      8.0   \n",
       "135                    NaN     NaN              NaN      8.5   \n",
       "151                    NaN     NaN              NaN      8.1   \n",
       "152                    NaN     NaN              NaN      7.1   \n",
       "163                    NaN     NaN              NaN      7.6   \n",
       "164                    NaN     NaN              NaN      7.5   \n",
       "171                    NaN     NaN              NaN      7.7   \n",
       "176                    NaN     NaN              NaN      7.7   \n",
       "186                    NaN     NaN              NaN      8.8   \n",
       "199                    NaN     NaN              NaN      8.5   \n",
       "207                    NaN     NaN              NaN      7.4   \n",
       "209                    NaN     NaN              NaN      7.8   \n",
       "211                    NaN     NaN              NaN      7.8   \n",
       "212                    NaN     NaN              NaN      8.3   \n",
       "229                    NaN     NaN              NaN      7.5   \n",
       "237                    NaN     NaN              NaN      8.2   \n",
       "253                    NaN     NaN              NaN      8.1   \n",
       "263                    NaN     NaN              NaN      7.4   \n",
       "265                    NaN     NaN              NaN      7.7   \n",
       "291                    NaN     NaN              NaN      8.0   \n",
       "294                    NaN     NaN              NaN      8.2   \n",
       "303                    NaN     NaN              NaN      7.5   \n",
       "313                    NaN     NaN              NaN      7.5   \n",
       "318                    NaN     NaN              NaN      6.4   \n",
       "324                    NaN     NaN              NaN      7.4   \n",
       "326                    NaN     NaN              NaN      6.7   \n",
       "336                    NaN     NaN              NaN      7.1   \n",
       "349                    NaN     NaN              NaN      8.1   \n",
       "351                    NaN     NaN              NaN      5.7   \n",
       "362                    NaN     NaN              NaN      7.8   \n",
       "436                    NaN     NaN              NaN      6.4   \n",
       "464                    NaN     NaN              NaN      6.9   \n",
       "479                    NaN     NaN              NaN      7.3   \n",
       "480                    NaN     NaN              NaN      4.6   \n",
       "487                    NaN     NaN              NaN      7.2   \n",
       "501                    NaN     NaN              NaN      7.9   \n",
       "506                    NaN     NaN              NaN      5.4   \n",
       "514                    NaN     NaN              NaN      3.0   \n",
       "515                    NaN     NaN              NaN      1.6   \n",
       "\n",
       "                             genres  box_office  \n",
       "18                мелодрама,комедия       360.0  \n",
       "19                            драма       420.0  \n",
       "22       комедия,мелодрама,криминал       380.0  \n",
       "38                            драма      1165.0  \n",
       "52           мюзикл,комедия,детский      1795.0  \n",
       "61                    драма,комедия       300.0  \n",
       "66           драма,биография,музыка         0.0  \n",
       "68          фэнтези,драма,мелодрама      1850.0  \n",
       "75                            драма       420.0  \n",
       "78                          комедия       200.0  \n",
       "96                мелодрама,комедия      2260.0  \n",
       "104         драма,мелодрама,комедия       200.0  \n",
       "135          драма,комедия,криминал      1300.0  \n",
       "151         драма,мелодрама,история        40.0  \n",
       "152                           драма       200.0  \n",
       "163                 драма,мелодрама       165.0  \n",
       "164     комедия,приключения,история       100.0  \n",
       "171                  драма,семейный      1525.0  \n",
       "176         драма,мелодрама,комедия       520.0  \n",
       "186  фантастика,комедия,приключения      2060.0  \n",
       "199   комедия,приключения,мелодрама       550.0  \n",
       "207                           драма      2490.0  \n",
       "209              боевик,приключения       460.0  \n",
       "211               мелодрама,комедия       100.0  \n",
       "212  документальный,военный,история       150.0  \n",
       "229        мюзикл,мелодрама,комедия       405.0  \n",
       "237                           драма         0.0  \n",
       "253               мелодрама,комедия      1900.0  \n",
       "263                комедия,криминал      1825.0  \n",
       "265         драма,мелодрама,комедия      1020.0  \n",
       "291                 драма,мелодрама      1149.0  \n",
       "294               мелодрама,комедия      2400.0  \n",
       "303            боевик,триллер,драма       880.0  \n",
       "313                   драма,история       425.0  \n",
       "318                          боевик      1400.0  \n",
       "324                        криминал      1100.0  \n",
       "326                   драма,комедия       370.0  \n",
       "336       драма,комедия,приключения       360.0  \n",
       "349                   драма,комедия      2400.0  \n",
       "351      мультфильм,фэнтези,комедия       100.0  \n",
       "362                           драма       300.0  \n",
       "436                   ужасы,триллер       550.0  \n",
       "464                   драма,комедия       200.0  \n",
       "479       фантастика,боевик,триллер       760.0  \n",
       "480                комедия,семейный      1070.0  \n",
       "487    мультфильм,приключения,драма       200.0  \n",
       "501            фэнтези,боевик,драма      1600.0  \n",
       "506             мультфильм,семейный       240.0  \n",
       "514                         комедия       200.0  \n",
       "515     мультфильм,комедия,семейный       620.0  "
      ]
     },
     "execution_count": 92,
     "metadata": {},
     "output_type": "execute_result"
    }
   ],
   "source": [
    "data[data['box_office'] < 2500].head(50)"
   ]
  },
  {
   "cell_type": "code",
   "execution_count": 93,
   "metadata": {},
   "outputs": [
    {
     "data": {
      "text/html": [
       "<div>\n",
       "<style scoped>\n",
       "    .dataframe tbody tr th:only-of-type {\n",
       "        vertical-align: middle;\n",
       "    }\n",
       "\n",
       "    .dataframe tbody tr th {\n",
       "        vertical-align: top;\n",
       "    }\n",
       "\n",
       "    .dataframe thead th {\n",
       "        text-align: right;\n",
       "    }\n",
       "</style>\n",
       "<table border=\"1\" class=\"dataframe\">\n",
       "  <thead>\n",
       "    <tr style=\"text-align: right;\">\n",
       "      <th></th>\n",
       "      <th>puNumber</th>\n",
       "      <th>refundable_support</th>\n",
       "      <th>nonrefundable_support</th>\n",
       "      <th>budget</th>\n",
       "      <th>ratings</th>\n",
       "      <th>box_office</th>\n",
       "    </tr>\n",
       "  </thead>\n",
       "  <tbody>\n",
       "    <tr>\n",
       "      <th>count</th>\n",
       "      <td>3.640000e+02</td>\n",
       "      <td>1.0</td>\n",
       "      <td>1.0</td>\n",
       "      <td>1.0</td>\n",
       "      <td>350.000000</td>\n",
       "      <td>364.000000</td>\n",
       "    </tr>\n",
       "    <tr>\n",
       "      <th>mean</th>\n",
       "      <td>1.245320e+08</td>\n",
       "      <td>0.0</td>\n",
       "      <td>35000000.0</td>\n",
       "      <td>91000000.0</td>\n",
       "      <td>6.476857</td>\n",
       "      <td>842.065934</td>\n",
       "    </tr>\n",
       "    <tr>\n",
       "      <th>std</th>\n",
       "      <td>2.686954e+07</td>\n",
       "      <td>NaN</td>\n",
       "      <td>NaN</td>\n",
       "      <td>NaN</td>\n",
       "      <td>1.231816</td>\n",
       "      <td>682.352454</td>\n",
       "    </tr>\n",
       "    <tr>\n",
       "      <th>min</th>\n",
       "      <td>1.110001e+08</td>\n",
       "      <td>0.0</td>\n",
       "      <td>35000000.0</td>\n",
       "      <td>91000000.0</td>\n",
       "      <td>1.500000</td>\n",
       "      <td>0.000000</td>\n",
       "    </tr>\n",
       "    <tr>\n",
       "      <th>25%</th>\n",
       "      <td>1.110102e+08</td>\n",
       "      <td>0.0</td>\n",
       "      <td>35000000.0</td>\n",
       "      <td>91000000.0</td>\n",
       "      <td>5.900000</td>\n",
       "      <td>286.250000</td>\n",
       "    </tr>\n",
       "    <tr>\n",
       "      <th>50%</th>\n",
       "      <td>1.210094e+08</td>\n",
       "      <td>0.0</td>\n",
       "      <td>35000000.0</td>\n",
       "      <td>91000000.0</td>\n",
       "      <td>6.600000</td>\n",
       "      <td>620.000000</td>\n",
       "    </tr>\n",
       "    <tr>\n",
       "      <th>75%</th>\n",
       "      <td>1.210229e+08</td>\n",
       "      <td>0.0</td>\n",
       "      <td>35000000.0</td>\n",
       "      <td>91000000.0</td>\n",
       "      <td>7.400000</td>\n",
       "      <td>1315.000000</td>\n",
       "    </tr>\n",
       "    <tr>\n",
       "      <th>max</th>\n",
       "      <td>2.240264e+08</td>\n",
       "      <td>0.0</td>\n",
       "      <td>35000000.0</td>\n",
       "      <td>91000000.0</td>\n",
       "      <td>9.100000</td>\n",
       "      <td>2490.000000</td>\n",
       "    </tr>\n",
       "  </tbody>\n",
       "</table>\n",
       "</div>"
      ],
      "text/plain": [
       "           puNumber  refundable_support  nonrefundable_support      budget  \\\n",
       "count  3.640000e+02                 1.0                    1.0         1.0   \n",
       "mean   1.245320e+08                 0.0             35000000.0  91000000.0   \n",
       "std    2.686954e+07                 NaN                    NaN         NaN   \n",
       "min    1.110001e+08                 0.0             35000000.0  91000000.0   \n",
       "25%    1.110102e+08                 0.0             35000000.0  91000000.0   \n",
       "50%    1.210094e+08                 0.0             35000000.0  91000000.0   \n",
       "75%    1.210229e+08                 0.0             35000000.0  91000000.0   \n",
       "max    2.240264e+08                 0.0             35000000.0  91000000.0   \n",
       "\n",
       "          ratings   box_office  \n",
       "count  350.000000   364.000000  \n",
       "mean     6.476857   842.065934  \n",
       "std      1.231816   682.352454  \n",
       "min      1.500000     0.000000  \n",
       "25%      5.900000   286.250000  \n",
       "50%      6.600000   620.000000  \n",
       "75%      7.400000  1315.000000  \n",
       "max      9.100000  2490.000000  "
      ]
     },
     "execution_count": 93,
     "metadata": {},
     "output_type": "execute_result"
    }
   ],
   "source": [
    "data[data['box_office'] < 2500].describe()"
   ]
  },
  {
   "cell_type": "markdown",
   "metadata": {},
   "source": [
    "В выборку попадает много старых фильмов (времен СССР), для которых оформлялись ПУ для разовых показов (предположение), соответсвенно эта разовая выручка попадает исследования. Вроде логично, если бы не попадание в срез проекта с бюджетом 91 млн (из них 35 млн рублей госсубсидий) и кассовыми сборами 2490 рублей. Возможно, имеет место неверный порядок в некоторых значениях кассовых сборов. Посмотрим сколько фильмов со сборами менее 8000 рублей имеют государственное софинансирование."
   ]
  },
  {
   "cell_type": "code",
   "execution_count": 94,
   "metadata": {},
   "outputs": [
    {
     "data": {
      "text/html": [
       "<div>\n",
       "<style scoped>\n",
       "    .dataframe tbody tr th:only-of-type {\n",
       "        vertical-align: middle;\n",
       "    }\n",
       "\n",
       "    .dataframe tbody tr th {\n",
       "        vertical-align: top;\n",
       "    }\n",
       "\n",
       "    .dataframe thead th {\n",
       "        text-align: right;\n",
       "    }\n",
       "</style>\n",
       "<table border=\"1\" class=\"dataframe\">\n",
       "  <thead>\n",
       "    <tr style=\"text-align: right;\">\n",
       "      <th></th>\n",
       "      <th>title</th>\n",
       "      <th>puNumber</th>\n",
       "      <th>show_start_date</th>\n",
       "      <th>type</th>\n",
       "      <th>film_studio</th>\n",
       "      <th>production_country</th>\n",
       "      <th>director</th>\n",
       "      <th>producer</th>\n",
       "      <th>age_restriction</th>\n",
       "      <th>refundable_support</th>\n",
       "      <th>nonrefundable_support</th>\n",
       "      <th>budget</th>\n",
       "      <th>financing_source</th>\n",
       "      <th>ratings</th>\n",
       "      <th>genres</th>\n",
       "      <th>box_office</th>\n",
       "    </tr>\n",
       "  </thead>\n",
       "  <tbody>\n",
       "    <tr>\n",
       "      <th>2527</th>\n",
       "      <td>Вдвоем на льдине.</td>\n",
       "      <td>111011015</td>\n",
       "      <td>2015-06-25 12:00:00</td>\n",
       "      <td>Художественный</td>\n",
       "      <td>ООО \"Первое творческое объединение\"</td>\n",
       "      <td>Россия</td>\n",
       "      <td>Н.Джорджадзе, В.Игнатьев</td>\n",
       "      <td>П.Поляков, И.Букреев</td>\n",
       "      <td>«12+» - для детей старше 12 лет</td>\n",
       "      <td>0.0</td>\n",
       "      <td>26500000.0</td>\n",
       "      <td>37943652.0</td>\n",
       "      <td>Министерство культуры</td>\n",
       "      <td>6.6</td>\n",
       "      <td>мелодрама</td>\n",
       "      <td>4450.0</td>\n",
       "    </tr>\n",
       "    <tr>\n",
       "      <th>2803</th>\n",
       "      <td>Битва с экстрасенсами</td>\n",
       "      <td>111011315</td>\n",
       "      <td>2015-07-20 12:00:00</td>\n",
       "      <td>Художественный</td>\n",
       "      <td>ООО \"КИНОДАНЦ\", ООО \"КИНОБАЙТ\"</td>\n",
       "      <td>Россия</td>\n",
       "      <td>И.Кордзаия</td>\n",
       "      <td>Е.Мелентьев</td>\n",
       "      <td>«12+» - для детей старше 12 лет</td>\n",
       "      <td>0.0</td>\n",
       "      <td>25900000.0</td>\n",
       "      <td>59560746.0</td>\n",
       "      <td>Министерство культуры, Фонд кино</td>\n",
       "      <td>5.4</td>\n",
       "      <td>фэнтези,приключения</td>\n",
       "      <td>6000.0</td>\n",
       "    </tr>\n",
       "    <tr>\n",
       "      <th>3149</th>\n",
       "      <td>Я-Учитель</td>\n",
       "      <td>111019715</td>\n",
       "      <td>2015-12-02 12:00:00</td>\n",
       "      <td>Художественный</td>\n",
       "      <td>НП Киностудия детских и юношеских фильмов \"Иль...</td>\n",
       "      <td>Россия</td>\n",
       "      <td>С.Мокрицкий</td>\n",
       "      <td>А.Ковтунец</td>\n",
       "      <td>«12+» - для детей старше 12 лет</td>\n",
       "      <td>0.0</td>\n",
       "      <td>35000000.0</td>\n",
       "      <td>91000000.0</td>\n",
       "      <td>Министерство культуры</td>\n",
       "      <td>7.4</td>\n",
       "      <td>мелодрама,комедия</td>\n",
       "      <td>1550.0</td>\n",
       "    </tr>\n",
       "  </tbody>\n",
       "</table>\n",
       "</div>"
      ],
      "text/plain": [
       "                      title   puNumber     show_start_date            type  \\\n",
       "2527      Вдвоем на льдине.  111011015 2015-06-25 12:00:00  Художественный   \n",
       "2803  Битва с экстрасенсами  111011315 2015-07-20 12:00:00  Художественный   \n",
       "3149              Я-Учитель  111019715 2015-12-02 12:00:00  Художественный   \n",
       "\n",
       "                                            film_studio production_country  \\\n",
       "2527                ООО \"Первое творческое объединение\"             Россия   \n",
       "2803                     ООО \"КИНОДАНЦ\", ООО \"КИНОБАЙТ\"             Россия   \n",
       "3149  НП Киностудия детских и юношеских фильмов \"Иль...             Россия   \n",
       "\n",
       "                      director              producer  \\\n",
       "2527  Н.Джорджадзе, В.Игнатьев  П.Поляков, И.Букреев   \n",
       "2803                И.Кордзаия           Е.Мелентьев   \n",
       "3149               С.Мокрицкий            А.Ковтунец   \n",
       "\n",
       "                      age_restriction  refundable_support  \\\n",
       "2527  «12+» - для детей старше 12 лет                 0.0   \n",
       "2803  «12+» - для детей старше 12 лет                 0.0   \n",
       "3149  «12+» - для детей старше 12 лет                 0.0   \n",
       "\n",
       "      nonrefundable_support      budget                  financing_source  \\\n",
       "2527             26500000.0  37943652.0             Министерство культуры   \n",
       "2803             25900000.0  59560746.0  Министерство культуры, Фонд кино   \n",
       "3149             35000000.0  91000000.0             Министерство культуры   \n",
       "\n",
       "      ratings               genres  box_office  \n",
       "2527      6.6            мелодрама      4450.0  \n",
       "2803      5.4  фэнтези,приключения      6000.0  \n",
       "3149      7.4    мелодрама,комедия      1550.0  "
      ]
     },
     "execution_count": 94,
     "metadata": {},
     "output_type": "execute_result"
    }
   ],
   "source": [
    "# Сделаем срез фильмов со сборами менее 8000 рублей и с государственным софинансированием\n",
    "data[(data['box_office'] < 8000) & ((data['refundable_support'] > 0) | (data['nonrefundable_support'] > 0))]"
   ]
  },
  {
   "cell_type": "markdown",
   "metadata": {},
   "source": [
    "В выборку попадают три фильма с бюджетами 40-90 млн рублей и сборами менее 8 тысяч. Возможно это ошибка в порядке сумм кассовых сборов, а возможно бизнес-модель подобных проектов предусматривает иные источники выручки для окупаемости. Как поступить в данном случае не понятно, таких фильмов не много, поэтому оставим как есть."
   ]
  },
  {
   "cell_type": "markdown",
   "metadata": {
    "id": "Eu6oWp2CgFyS"
   },
   "source": [
    "#### Шаг 2.6. Добавьте новые столбцы\n",
    "\n",
    "\n",
    "\n"
   ]
  },
  {
   "cell_type": "markdown",
   "metadata": {
    "id": "7GgW-UpAgFyS"
   },
   "source": [
    "- Создайте столбец с информацией о годе проката. Выделите год из даты премьеры фильма."
   ]
  },
  {
   "cell_type": "code",
   "execution_count": 95,
   "metadata": {
    "id": "I-yd1DkWgFyT"
   },
   "outputs": [
    {
     "data": {
      "text/html": [
       "<div>\n",
       "<style scoped>\n",
       "    .dataframe tbody tr th:only-of-type {\n",
       "        vertical-align: middle;\n",
       "    }\n",
       "\n",
       "    .dataframe tbody tr th {\n",
       "        vertical-align: top;\n",
       "    }\n",
       "\n",
       "    .dataframe thead th {\n",
       "        text-align: right;\n",
       "    }\n",
       "</style>\n",
       "<table border=\"1\" class=\"dataframe\">\n",
       "  <thead>\n",
       "    <tr style=\"text-align: right;\">\n",
       "      <th></th>\n",
       "      <th>title</th>\n",
       "      <th>puNumber</th>\n",
       "      <th>show_start_date</th>\n",
       "      <th>type</th>\n",
       "      <th>film_studio</th>\n",
       "      <th>production_country</th>\n",
       "      <th>director</th>\n",
       "      <th>producer</th>\n",
       "      <th>age_restriction</th>\n",
       "      <th>refundable_support</th>\n",
       "      <th>nonrefundable_support</th>\n",
       "      <th>budget</th>\n",
       "      <th>financing_source</th>\n",
       "      <th>ratings</th>\n",
       "      <th>genres</th>\n",
       "      <th>box_office</th>\n",
       "      <th>year</th>\n",
       "    </tr>\n",
       "  </thead>\n",
       "  <tbody>\n",
       "    <tr>\n",
       "      <th>0</th>\n",
       "      <td>Открытый простор</td>\n",
       "      <td>221048915</td>\n",
       "      <td>2015-11-27 12:00:00</td>\n",
       "      <td>Художественный</td>\n",
       "      <td>Тачстоун Пикчерз, Кобальт Пикчерз, Бикон Пикче...</td>\n",
       "      <td>США</td>\n",
       "      <td>Кевин Костнер</td>\n",
       "      <td>Дэвид Валдес, Кевин Костнер, Джейк Эбертс</td>\n",
       "      <td>«18+» - запрещено для детей</td>\n",
       "      <td>NaN</td>\n",
       "      <td>NaN</td>\n",
       "      <td>NaN</td>\n",
       "      <td>NaN</td>\n",
       "      <td>7.2</td>\n",
       "      <td>боевик,драма,мелодрама</td>\n",
       "      <td>NaN</td>\n",
       "      <td>2015</td>\n",
       "    </tr>\n",
       "    <tr>\n",
       "      <th>1</th>\n",
       "      <td>Особо важное задание</td>\n",
       "      <td>111013716</td>\n",
       "      <td>2016-09-13 12:00:00</td>\n",
       "      <td>Художественный</td>\n",
       "      <td>Киностудия \"Мосфильм\"</td>\n",
       "      <td>СССР</td>\n",
       "      <td>Е.Матвеев</td>\n",
       "      <td>NaN</td>\n",
       "      <td>«6+» - для детей старше 6 лет</td>\n",
       "      <td>NaN</td>\n",
       "      <td>NaN</td>\n",
       "      <td>NaN</td>\n",
       "      <td>NaN</td>\n",
       "      <td>6.6</td>\n",
       "      <td>драма,военный</td>\n",
       "      <td>NaN</td>\n",
       "      <td>2016</td>\n",
       "    </tr>\n",
       "    <tr>\n",
       "      <th>2</th>\n",
       "      <td>Особо опасен</td>\n",
       "      <td>221038416</td>\n",
       "      <td>2016-10-10 12:00:00</td>\n",
       "      <td>Художественный</td>\n",
       "      <td>Юниверсал Пикчерз, Кикстарт Продакшнз, Марк Пл...</td>\n",
       "      <td>США</td>\n",
       "      <td>Тимур Бекмамбетов</td>\n",
       "      <td>Джим Лемли, Джейсон Нетер, Марк Е.Платт, Яйн Смит</td>\n",
       "      <td>«18+» - запрещено для детей</td>\n",
       "      <td>NaN</td>\n",
       "      <td>NaN</td>\n",
       "      <td>NaN</td>\n",
       "      <td>NaN</td>\n",
       "      <td>6.8</td>\n",
       "      <td>фантастика,боевик,триллер</td>\n",
       "      <td>NaN</td>\n",
       "      <td>2016</td>\n",
       "    </tr>\n",
       "    <tr>\n",
       "      <th>3</th>\n",
       "      <td>Особо опасен</td>\n",
       "      <td>221026916</td>\n",
       "      <td>2016-06-10 12:00:00</td>\n",
       "      <td>Художественный</td>\n",
       "      <td>Юниверсал Пикчерз, Кикстарт Продакшнз, Марк Пл...</td>\n",
       "      <td>США</td>\n",
       "      <td>Тимур Бекмамбетов</td>\n",
       "      <td>Джим Лемли, Джейсон Нетер, Марк Е.Платт, Яйн Смит</td>\n",
       "      <td>«18+» - запрещено для детей</td>\n",
       "      <td>NaN</td>\n",
       "      <td>NaN</td>\n",
       "      <td>NaN</td>\n",
       "      <td>NaN</td>\n",
       "      <td>6.8</td>\n",
       "      <td>фантастика,боевик,триллер</td>\n",
       "      <td>NaN</td>\n",
       "      <td>2016</td>\n",
       "    </tr>\n",
       "    <tr>\n",
       "      <th>4</th>\n",
       "      <td>Особо опасен</td>\n",
       "      <td>221030815</td>\n",
       "      <td>2015-07-29 12:00:00</td>\n",
       "      <td>Художественный</td>\n",
       "      <td>Юниверсал Пикчерз, Кикстарт Продакшнз, Марк Пл...</td>\n",
       "      <td>США</td>\n",
       "      <td>Тимур Бекмамбетов</td>\n",
       "      <td>Джим Лемли, Джейсон Нетер, Марк Е.Платт, Яйн Смит</td>\n",
       "      <td>«18+» - запрещено для детей</td>\n",
       "      <td>NaN</td>\n",
       "      <td>NaN</td>\n",
       "      <td>NaN</td>\n",
       "      <td>NaN</td>\n",
       "      <td>6.8</td>\n",
       "      <td>фантастика,боевик,триллер</td>\n",
       "      <td>NaN</td>\n",
       "      <td>2015</td>\n",
       "    </tr>\n",
       "  </tbody>\n",
       "</table>\n",
       "</div>"
      ],
      "text/plain": [
       "                  title   puNumber     show_start_date            type  \\\n",
       "0      Открытый простор  221048915 2015-11-27 12:00:00  Художественный   \n",
       "1  Особо важное задание  111013716 2016-09-13 12:00:00  Художественный   \n",
       "2          Особо опасен  221038416 2016-10-10 12:00:00  Художественный   \n",
       "3          Особо опасен  221026916 2016-06-10 12:00:00  Художественный   \n",
       "4          Особо опасен  221030815 2015-07-29 12:00:00  Художественный   \n",
       "\n",
       "                                         film_studio production_country  \\\n",
       "0  Тачстоун Пикчерз, Кобальт Пикчерз, Бикон Пикче...                США   \n",
       "1                              Киностудия \"Мосфильм\"               СССР   \n",
       "2  Юниверсал Пикчерз, Кикстарт Продакшнз, Марк Пл...                США   \n",
       "3  Юниверсал Пикчерз, Кикстарт Продакшнз, Марк Пл...                США   \n",
       "4  Юниверсал Пикчерз, Кикстарт Продакшнз, Марк Пл...                США   \n",
       "\n",
       "            director                                           producer  \\\n",
       "0      Кевин Костнер          Дэвид Валдес, Кевин Костнер, Джейк Эбертс   \n",
       "1          Е.Матвеев                                                NaN   \n",
       "2  Тимур Бекмамбетов  Джим Лемли, Джейсон Нетер, Марк Е.Платт, Яйн Смит   \n",
       "3  Тимур Бекмамбетов  Джим Лемли, Джейсон Нетер, Марк Е.Платт, Яйн Смит   \n",
       "4  Тимур Бекмамбетов  Джим Лемли, Джейсон Нетер, Марк Е.Платт, Яйн Смит   \n",
       "\n",
       "                 age_restriction  refundable_support  nonrefundable_support  \\\n",
       "0    «18+» - запрещено для детей                 NaN                    NaN   \n",
       "1  «6+» - для детей старше 6 лет                 NaN                    NaN   \n",
       "2    «18+» - запрещено для детей                 NaN                    NaN   \n",
       "3    «18+» - запрещено для детей                 NaN                    NaN   \n",
       "4    «18+» - запрещено для детей                 NaN                    NaN   \n",
       "\n",
       "   budget financing_source  ratings                     genres  box_office  \\\n",
       "0     NaN              NaN      7.2     боевик,драма,мелодрама         NaN   \n",
       "1     NaN              NaN      6.6              драма,военный         NaN   \n",
       "2     NaN              NaN      6.8  фантастика,боевик,триллер         NaN   \n",
       "3     NaN              NaN      6.8  фантастика,боевик,триллер         NaN   \n",
       "4     NaN              NaN      6.8  фантастика,боевик,триллер         NaN   \n",
       "\n",
       "   year  \n",
       "0  2015  \n",
       "1  2016  \n",
       "2  2016  \n",
       "3  2016  \n",
       "4  2015  "
      ]
     },
     "execution_count": 95,
     "metadata": {},
     "output_type": "execute_result"
    }
   ],
   "source": [
    "data['year'] = data['show_start_date'].dt.year\n",
    "data.head(5)"
   ]
  },
  {
   "cell_type": "markdown",
   "metadata": {
    "id": "nFTDLDYOgFyT"
   },
   "source": [
    "- Создайте два столбца: с именем и фамилией главного режиссёра и основным жанром фильма. В столбцы войдут первые значения из списка режиссёров и жанров соответственно.\n",
    "\n",
    "<div id=\"accordion\">\n",
    "    <div class=\"card\">\n",
    "        <div class=\"card-header\" id=\"headingThree\">\n",
    "            <button class=\"btn btn-link collapsed\" data-toggle=\"collapse\" data-target=\"#collapseHint_2\" aria-expanded=\"false\" aria-controls=\"collapseHint_2\">Подсказка</button>\n",
    "        </div>\n",
    "        <div id=\"collapseHint_2\" class=\"collapse\" aria-labelledby=\"headingThree\" data-parent=\"#accordion\">\n",
    "            <div class=\"card-body\">\n",
    "Чтобы создать такие столбцы, лучше всего использовать собственную функцию. Эту функцию можно применить к двум столбцам сразу. \n",
    "            </div>\n",
    "        </div>\n",
    "    </div>\n",
    "</div>"
   ]
  },
  {
   "cell_type": "code",
   "execution_count": 96,
   "metadata": {
    "id": "LSbRZKbMgFyU"
   },
   "outputs": [],
   "source": [
    "def add_main(data, columns):\n",
    "    for column in columns:\n",
    "        data[f'main_{column}'] = data[column].dropna().apply(lambda x: x.split(',')[0])\n",
    "    return data"
   ]
  },
  {
   "cell_type": "code",
   "execution_count": 97,
   "metadata": {},
   "outputs": [],
   "source": [
    "data = add_main(data, ['director', 'genres'])"
   ]
  },
  {
   "cell_type": "markdown",
   "metadata": {
    "id": "1FsCXHwdgFyU"
   },
   "source": [
    "- Посчитайте, какую долю от общего бюджета фильма составляет государственная поддержка."
   ]
  },
  {
   "cell_type": "code",
   "execution_count": 98,
   "metadata": {
    "id": "LV6qFuZLgFyV"
   },
   "outputs": [
    {
     "data": {
      "text/plain": [
       "count    332.000000\n",
       "mean            inf\n",
       "std             NaN\n",
       "min        0.044043\n",
       "25%        0.384615\n",
       "50%        0.614038\n",
       "75%        0.661412\n",
       "max             inf\n",
       "Name: budget_support_ratio, dtype: float64"
      ]
     },
     "execution_count": 98,
     "metadata": {},
     "output_type": "execute_result"
    }
   ],
   "source": [
    "# Создадим столбец с долей государственного софинансирования и оценим распределение полученных данных\n",
    "data['budget_support_ratio'] = (data['refundable_support'] + data['nonrefundable_support']) / data['budget']\n",
    "data['budget_support_ratio'].describe()"
   ]
  },
  {
   "cell_type": "markdown",
   "metadata": {},
   "source": [
    "Из-за наличия строк с нулевым бюджетом некоторые параметры распределения нам не доступны. Вернемся к исправлению этих строк, будем использовать полученное медианное значение 0.614"
   ]
  },
  {
   "cell_type": "code",
   "execution_count": 99,
   "metadata": {},
   "outputs": [],
   "source": [
    "# Исправим данные 'budget' в 17 строках с нулевым бюджетом на медианное значение с учетом доли государственного софинансирования \n",
    "data.loc[data['budget'] == 0, 'budget'] = (data['refundable_support'] + data['nonrefundable_support']) / 0.614"
   ]
  },
  {
   "cell_type": "code",
   "execution_count": 100,
   "metadata": {},
   "outputs": [
    {
     "data": {
      "text/plain": [
       "count    332.000000\n",
       "mean       0.522333\n",
       "std        0.166986\n",
       "min        0.044043\n",
       "25%        0.384615\n",
       "50%        0.613345\n",
       "75%        0.654613\n",
       "max        0.784745\n",
       "Name: budget_support_ratio, dtype: float64"
      ]
     },
     "execution_count": 100,
     "metadata": {},
     "output_type": "execute_result"
    }
   ],
   "source": [
    "# Оценим рапределение после исправлений\n",
    "data['budget_support_ratio'] = (data['refundable_support'] + data['nonrefundable_support']) / data['budget']\n",
    "data['budget_support_ratio'].describe()"
   ]
  },
  {
   "cell_type": "markdown",
   "metadata": {},
   "source": [
    "Доля государственного софинансирования варируется от 4% до 78% суммы общего бюджета, при медианном и среднем значениях 61% и 52% соответственно."
   ]
  },
  {
   "cell_type": "markdown",
   "metadata": {
    "id": "6t4EukPLgFyV"
   },
   "source": [
    "### Шаг 3. Проведите исследовательский анализ данных\n"
   ]
  },
  {
   "cell_type": "markdown",
   "metadata": {
    "id": "vAH8WCzugFyV"
   },
   "source": [
    "- Посмотрите, сколько фильмов выходило в прокат каждый год. Обратите внимание, что данные о прокате в кинотеатрах известны не для всех фильмов. Посчитайте, какую долю составляют фильмы с указанной информацией о прокате в кинотеатрах. Проанализируйте, как эта доля менялась по годам. Сделайте вывод о том, какой период полнее всего представлен в данных."
   ]
  },
  {
   "cell_type": "code",
   "execution_count": 101,
   "metadata": {
    "id": "ABeV47y7gFyW"
   },
   "outputs": [
    {
     "data": {
      "text/html": [
       "<div>\n",
       "<style scoped>\n",
       "    .dataframe tbody tr th:only-of-type {\n",
       "        vertical-align: middle;\n",
       "    }\n",
       "\n",
       "    .dataframe tbody tr th {\n",
       "        vertical-align: top;\n",
       "    }\n",
       "\n",
       "    .dataframe thead th {\n",
       "        text-align: right;\n",
       "    }\n",
       "</style>\n",
       "<table border=\"1\" class=\"dataframe\">\n",
       "  <thead>\n",
       "    <tr style=\"text-align: right;\">\n",
       "      <th></th>\n",
       "      <th>box_office</th>\n",
       "      <th>title</th>\n",
       "    </tr>\n",
       "    <tr>\n",
       "      <th>year</th>\n",
       "      <th></th>\n",
       "      <th></th>\n",
       "    </tr>\n",
       "  </thead>\n",
       "  <tbody>\n",
       "    <tr>\n",
       "      <th>2010</th>\n",
       "      <td>105</td>\n",
       "      <td>985</td>\n",
       "    </tr>\n",
       "    <tr>\n",
       "      <th>2011</th>\n",
       "      <td>109</td>\n",
       "      <td>622</td>\n",
       "    </tr>\n",
       "    <tr>\n",
       "      <th>2012</th>\n",
       "      <td>128</td>\n",
       "      <td>593</td>\n",
       "    </tr>\n",
       "    <tr>\n",
       "      <th>2013</th>\n",
       "      <td>184</td>\n",
       "      <td>630</td>\n",
       "    </tr>\n",
       "    <tr>\n",
       "      <th>2014</th>\n",
       "      <td>279</td>\n",
       "      <td>807</td>\n",
       "    </tr>\n",
       "    <tr>\n",
       "      <th>2015</th>\n",
       "      <td>465</td>\n",
       "      <td>705</td>\n",
       "    </tr>\n",
       "    <tr>\n",
       "      <th>2016</th>\n",
       "      <td>526</td>\n",
       "      <td>818</td>\n",
       "    </tr>\n",
       "    <tr>\n",
       "      <th>2017</th>\n",
       "      <td>357</td>\n",
       "      <td>505</td>\n",
       "    </tr>\n",
       "    <tr>\n",
       "      <th>2018</th>\n",
       "      <td>475</td>\n",
       "      <td>891</td>\n",
       "    </tr>\n",
       "    <tr>\n",
       "      <th>2019</th>\n",
       "      <td>530</td>\n",
       "      <td>930</td>\n",
       "    </tr>\n",
       "  </tbody>\n",
       "</table>\n",
       "</div>"
      ],
      "text/plain": [
       "      box_office  title\n",
       "year                   \n",
       "2010         105    985\n",
       "2011         109    622\n",
       "2012         128    593\n",
       "2013         184    630\n",
       "2014         279    807\n",
       "2015         465    705\n",
       "2016         526    818\n",
       "2017         357    505\n",
       "2018         475    891\n",
       "2019         530    930"
      ]
     },
     "execution_count": 101,
     "metadata": {},
     "output_type": "execute_result"
    }
   ],
   "source": [
    "# Сгрупперуем данные по выходу фильмов и их сборам по годам \n",
    "cinema_films_years = data.pivot_table(index='year', values=['title', 'box_office'], aggfunc='count')\n",
    "cinema_films_years"
   ]
  },
  {
   "cell_type": "code",
   "execution_count": 102,
   "metadata": {},
   "outputs": [
    {
     "data": {
      "text/html": [
       "<div>\n",
       "<style scoped>\n",
       "    .dataframe tbody tr th:only-of-type {\n",
       "        vertical-align: middle;\n",
       "    }\n",
       "\n",
       "    .dataframe tbody tr th {\n",
       "        vertical-align: top;\n",
       "    }\n",
       "\n",
       "    .dataframe thead th {\n",
       "        text-align: right;\n",
       "    }\n",
       "</style>\n",
       "<table border=\"1\" class=\"dataframe\">\n",
       "  <thead>\n",
       "    <tr style=\"text-align: right;\">\n",
       "      <th></th>\n",
       "      <th>box_office</th>\n",
       "      <th>title</th>\n",
       "      <th>ratio</th>\n",
       "    </tr>\n",
       "    <tr>\n",
       "      <th>year</th>\n",
       "      <th></th>\n",
       "      <th></th>\n",
       "      <th></th>\n",
       "    </tr>\n",
       "  </thead>\n",
       "  <tbody>\n",
       "    <tr>\n",
       "      <th>2010</th>\n",
       "      <td>105</td>\n",
       "      <td>985</td>\n",
       "      <td>0.106599</td>\n",
       "    </tr>\n",
       "    <tr>\n",
       "      <th>2011</th>\n",
       "      <td>109</td>\n",
       "      <td>622</td>\n",
       "      <td>0.175241</td>\n",
       "    </tr>\n",
       "    <tr>\n",
       "      <th>2012</th>\n",
       "      <td>128</td>\n",
       "      <td>593</td>\n",
       "      <td>0.215852</td>\n",
       "    </tr>\n",
       "    <tr>\n",
       "      <th>2013</th>\n",
       "      <td>184</td>\n",
       "      <td>630</td>\n",
       "      <td>0.292063</td>\n",
       "    </tr>\n",
       "    <tr>\n",
       "      <th>2014</th>\n",
       "      <td>279</td>\n",
       "      <td>807</td>\n",
       "      <td>0.345725</td>\n",
       "    </tr>\n",
       "    <tr>\n",
       "      <th>2015</th>\n",
       "      <td>465</td>\n",
       "      <td>705</td>\n",
       "      <td>0.659574</td>\n",
       "    </tr>\n",
       "    <tr>\n",
       "      <th>2016</th>\n",
       "      <td>526</td>\n",
       "      <td>818</td>\n",
       "      <td>0.643032</td>\n",
       "    </tr>\n",
       "    <tr>\n",
       "      <th>2017</th>\n",
       "      <td>357</td>\n",
       "      <td>505</td>\n",
       "      <td>0.706931</td>\n",
       "    </tr>\n",
       "    <tr>\n",
       "      <th>2018</th>\n",
       "      <td>475</td>\n",
       "      <td>891</td>\n",
       "      <td>0.533109</td>\n",
       "    </tr>\n",
       "    <tr>\n",
       "      <th>2019</th>\n",
       "      <td>530</td>\n",
       "      <td>930</td>\n",
       "      <td>0.569892</td>\n",
       "    </tr>\n",
       "  </tbody>\n",
       "</table>\n",
       "</div>"
      ],
      "text/plain": [
       "      box_office  title     ratio\n",
       "year                             \n",
       "2010         105    985  0.106599\n",
       "2011         109    622  0.175241\n",
       "2012         128    593  0.215852\n",
       "2013         184    630  0.292063\n",
       "2014         279    807  0.345725\n",
       "2015         465    705  0.659574\n",
       "2016         526    818  0.643032\n",
       "2017         357    505  0.706931\n",
       "2018         475    891  0.533109\n",
       "2019         530    930  0.569892"
      ]
     },
     "execution_count": 102,
     "metadata": {},
     "output_type": "execute_result"
    }
   ],
   "source": [
    "# Добавим столбец с долей фильмов с информацией по кассовым сборам\n",
    "cinema_films_years['ratio'] = cinema_films_years['box_office'] / cinema_films_years['title']\n",
    "cinema_films_years"
   ]
  },
  {
   "cell_type": "code",
   "execution_count": 103,
   "metadata": {},
   "outputs": [
    {
     "data": {
      "text/plain": [
       "<AxesSubplot:title={'center':'Доля фильмов с кассовыми сборами'}, xlabel='year'>"
      ]
     },
     "execution_count": 103,
     "metadata": {},
     "output_type": "execute_result"
    },
    {
     "data": {
      "image/png": "[encoded data removed]",
      "text/plain": [
       "<Figure size 1080x432 with 1 Axes>"
      ]
     },
     "metadata": {
      "needs_background": "light"
     },
     "output_type": "display_data"
    }
   ],
   "source": [
    "# Выведем график доли фильмов с кассовыми сборами по годам\n",
    "cinema_films_years.plot(y='ratio', figsize = (15,6), title = 'Доля фильмов с кассовыми сборами')"
   ]
  },
  {
   "cell_type": "markdown",
   "metadata": {},
   "source": [
    "Доля фильмов с информацией о кассовых сборовплавно растет с 2010 по 2019 году от 10% до 60%. С интервалом опережающего роста в 2015-2017 годах когда доля составляла 65-70%."
   ]
  },
  {
   "cell_type": "markdown",
   "metadata": {
    "id": "BEOdcIrIgFyW"
   },
   "source": [
    "- Изучите, как менялась динамика проката по годам. В каком году сумма сборов была минимальной? А максимальной?"
   ]
  },
  {
   "cell_type": "code",
   "execution_count": 104,
   "metadata": {},
   "outputs": [],
   "source": [
    "# Переведем данные по сборам в млн.рублей\n",
    "data['box_office_mln'] = round(data['box_office']/1000000,2)"
   ]
  },
  {
   "cell_type": "code",
   "execution_count": 105,
   "metadata": {
    "id": "tfEhofYvgFyX"
   },
   "outputs": [
    {
     "data": {
      "text/html": [
       "<div>\n",
       "<style scoped>\n",
       "    .dataframe tbody tr th:only-of-type {\n",
       "        vertical-align: middle;\n",
       "    }\n",
       "\n",
       "    .dataframe tbody tr th {\n",
       "        vertical-align: top;\n",
       "    }\n",
       "\n",
       "    .dataframe thead th {\n",
       "        text-align: right;\n",
       "    }\n",
       "</style>\n",
       "<table border=\"1\" class=\"dataframe\">\n",
       "  <thead>\n",
       "    <tr style=\"text-align: right;\">\n",
       "      <th></th>\n",
       "      <th>box_office_mln</th>\n",
       "    </tr>\n",
       "    <tr>\n",
       "      <th>year</th>\n",
       "      <th></th>\n",
       "    </tr>\n",
       "  </thead>\n",
       "  <tbody>\n",
       "    <tr>\n",
       "      <th>2010</th>\n",
       "      <td>2.36</td>\n",
       "    </tr>\n",
       "    <tr>\n",
       "      <th>2011</th>\n",
       "      <td>14.04</td>\n",
       "    </tr>\n",
       "    <tr>\n",
       "      <th>2012</th>\n",
       "      <td>6.90</td>\n",
       "    </tr>\n",
       "    <tr>\n",
       "      <th>2013</th>\n",
       "      <td>29.68</td>\n",
       "    </tr>\n",
       "    <tr>\n",
       "      <th>2014</th>\n",
       "      <td>7444.82</td>\n",
       "    </tr>\n",
       "    <tr>\n",
       "      <th>2015</th>\n",
       "      <td>39497.25</td>\n",
       "    </tr>\n",
       "    <tr>\n",
       "      <th>2016</th>\n",
       "      <td>47866.34</td>\n",
       "    </tr>\n",
       "    <tr>\n",
       "      <th>2017</th>\n",
       "      <td>48563.73</td>\n",
       "    </tr>\n",
       "    <tr>\n",
       "      <th>2018</th>\n",
       "      <td>49668.39</td>\n",
       "    </tr>\n",
       "    <tr>\n",
       "      <th>2019</th>\n",
       "      <td>48425.75</td>\n",
       "    </tr>\n",
       "  </tbody>\n",
       "</table>\n",
       "</div>"
      ],
      "text/plain": [
       "      box_office_mln\n",
       "year                \n",
       "2010            2.36\n",
       "2011           14.04\n",
       "2012            6.90\n",
       "2013           29.68\n",
       "2014         7444.82\n",
       "2015        39497.25\n",
       "2016        47866.34\n",
       "2017        48563.73\n",
       "2018        49668.39\n",
       "2019        48425.75"
      ]
     },
     "execution_count": 105,
     "metadata": {},
     "output_type": "execute_result"
    }
   ],
   "source": [
    "# Сгрупперуем данные по кассовым сборам по годам \n",
    "box_office_years = data.pivot_table(index='year', values='box_office_mln', aggfunc='sum')\n",
    "box_office_years"
   ]
  },
  {
   "cell_type": "code",
   "execution_count": 106,
   "metadata": {},
   "outputs": [
    {
     "data": {
      "text/plain": [
       "<AxesSubplot:title={'center':'Кассовые сборы по годам'}, xlabel='year'>"
      ]
     },
     "execution_count": 106,
     "metadata": {},
     "output_type": "execute_result"
    },
    {
     "data": {
      "image/png": "[encoded data removed]",
      "text/plain": [
       "<Figure size 1080x432 with 1 Axes>"
      ]
     },
     "metadata": {
      "needs_background": "light"
     },
     "output_type": "display_data"
    }
   ],
   "source": [
    "# Выведем график с кассовыми сборами по годам\n",
    "box_office_years.plot(figsize = (15,6), title = 'Кассовые сборы по годам')"
   ]
  },
  {
   "cell_type": "markdown",
   "metadata": {},
   "source": [
    "По имеющейся информации ежегодные общие кассовые сборы в 2010-2013 годах составляли не более 20 млн. рублей, затем за период 2014-2016 наблюдается выход на уровень 48-50 млрд рублей, т.е рост ежегодных сборов в тысячи раз! В 2016-2019 сборы остаются на этом уровне (50 млрд рублей). Причина вероятно в ограниченном учете сборов до 2016 года."
   ]
  },
  {
   "cell_type": "markdown",
   "metadata": {
    "id": "G-7qS-N-gFyY"
   },
   "source": [
    "- С помощью сводной таблицы посчитайте среднюю и медианную сумму сборов для каждого года."
   ]
  },
  {
   "cell_type": "code",
   "execution_count": 107,
   "metadata": {
    "id": "jmp-rgg9gFyY"
   },
   "outputs": [
    {
     "data": {
      "text/html": [
       "<div>\n",
       "<style scoped>\n",
       "    .dataframe tbody tr th:only-of-type {\n",
       "        vertical-align: middle;\n",
       "    }\n",
       "\n",
       "    .dataframe tbody tr th {\n",
       "        vertical-align: top;\n",
       "    }\n",
       "\n",
       "    .dataframe thead th {\n",
       "        text-align: right;\n",
       "    }\n",
       "</style>\n",
       "<table border=\"1\" class=\"dataframe\">\n",
       "  <thead>\n",
       "    <tr style=\"text-align: right;\">\n",
       "      <th></th>\n",
       "      <th>mean</th>\n",
       "      <th>median</th>\n",
       "    </tr>\n",
       "    <tr>\n",
       "      <th>year</th>\n",
       "      <th></th>\n",
       "      <th></th>\n",
       "    </tr>\n",
       "  </thead>\n",
       "  <tbody>\n",
       "    <tr>\n",
       "      <th>2010</th>\n",
       "      <td>0.022476</td>\n",
       "      <td>0.000</td>\n",
       "    </tr>\n",
       "    <tr>\n",
       "      <th>2011</th>\n",
       "      <td>0.128807</td>\n",
       "      <td>0.000</td>\n",
       "    </tr>\n",
       "    <tr>\n",
       "      <th>2012</th>\n",
       "      <td>0.053906</td>\n",
       "      <td>0.010</td>\n",
       "    </tr>\n",
       "    <tr>\n",
       "      <th>2013</th>\n",
       "      <td>0.161304</td>\n",
       "      <td>0.000</td>\n",
       "    </tr>\n",
       "    <tr>\n",
       "      <th>2014</th>\n",
       "      <td>26.683943</td>\n",
       "      <td>0.020</td>\n",
       "    </tr>\n",
       "    <tr>\n",
       "      <th>2015</th>\n",
       "      <td>84.940323</td>\n",
       "      <td>4.920</td>\n",
       "    </tr>\n",
       "    <tr>\n",
       "      <th>2016</th>\n",
       "      <td>91.000646</td>\n",
       "      <td>3.850</td>\n",
       "    </tr>\n",
       "    <tr>\n",
       "      <th>2017</th>\n",
       "      <td>136.032857</td>\n",
       "      <td>9.970</td>\n",
       "    </tr>\n",
       "    <tr>\n",
       "      <th>2018</th>\n",
       "      <td>104.565032</td>\n",
       "      <td>8.890</td>\n",
       "    </tr>\n",
       "    <tr>\n",
       "      <th>2019</th>\n",
       "      <td>91.369340</td>\n",
       "      <td>4.625</td>\n",
       "    </tr>\n",
       "  </tbody>\n",
       "</table>\n",
       "</div>"
      ],
      "text/plain": [
       "            mean  median\n",
       "year                    \n",
       "2010    0.022476   0.000\n",
       "2011    0.128807   0.000\n",
       "2012    0.053906   0.010\n",
       "2013    0.161304   0.000\n",
       "2014   26.683943   0.020\n",
       "2015   84.940323   4.920\n",
       "2016   91.000646   3.850\n",
       "2017  136.032857   9.970\n",
       "2018  104.565032   8.890\n",
       "2019   91.369340   4.625"
      ]
     },
     "execution_count": 107,
     "metadata": {},
     "output_type": "execute_result"
    }
   ],
   "source": [
    "box_office_mean_years = data.pivot_table(index='year', values='box_office_mln', aggfunc=('median', 'mean'))\n",
    "box_office_mean_years"
   ]
  },
  {
   "cell_type": "code",
   "execution_count": 108,
   "metadata": {
    "id": "jmp-rgg9gFyY"
   },
   "outputs": [
    {
     "data": {
      "text/plain": [
       "<AxesSubplot:title={'center':'средняя и медианная сумма сборов по годам'}, xlabel='year'>"
      ]
     },
     "execution_count": 108,
     "metadata": {},
     "output_type": "execute_result"
    },
    {
     "data": {
      "image/png": "[encoded data removed]",
      "text/plain": [
       "<Figure size 432x288 with 1 Axes>"
      ]
     },
     "metadata": {
      "needs_background": "light"
     },
     "output_type": "display_data"
    }
   ],
   "source": [
    "box_office_mean_years.plot(title = 'средняя и медианная сумма сборов по годам')"
   ]
  },
  {
   "cell_type": "markdown",
   "metadata": {},
   "source": [
    "Значительное расхождение средних и медианных значений сборов с условного фильма свидетельствует о наличии успешных проектов с аномально высокими кассовыми сборами, при том что в целом сборы большинства фильмов не превышают 10 млн рублей "
   ]
  },
  {
   "cell_type": "markdown",
   "metadata": {
    "id": "Ok89WFwJgFyZ"
   },
   "source": [
    "- Определите, влияет ли возрастное ограничение аудитории («6+», «12+», «16+», «18+» и т. д.) на сборы фильма в прокате в период с 2015 по 2019 год? Фильмы с каким возрастным ограничением собрали больше всего денег в прокате? Меняется ли картина в зависимости от года? Если да, предположите, с чем это может быть связано."
   ]
  },
  {
   "cell_type": "code",
   "execution_count": 109,
   "metadata": {
    "id": "jsSbEqfjgFya",
    "scrolled": true
   },
   "outputs": [
    {
     "data": {
      "text/html": [
       "<div>\n",
       "<style scoped>\n",
       "    .dataframe tbody tr th:only-of-type {\n",
       "        vertical-align: middle;\n",
       "    }\n",
       "\n",
       "    .dataframe tbody tr th {\n",
       "        vertical-align: top;\n",
       "    }\n",
       "\n",
       "    .dataframe thead th {\n",
       "        text-align: right;\n",
       "    }\n",
       "</style>\n",
       "<table border=\"1\" class=\"dataframe\">\n",
       "  <thead>\n",
       "    <tr style=\"text-align: right;\">\n",
       "      <th>age_restriction</th>\n",
       "      <th>«0+» - для любой зрительской аудитории</th>\n",
       "      <th>«12+» - для детей старше 12 лет</th>\n",
       "      <th>«16+» - для детей старше 16 лет</th>\n",
       "      <th>«18+» - запрещено для детей</th>\n",
       "      <th>«6+» - для детей старше 6 лет</th>\n",
       "    </tr>\n",
       "    <tr>\n",
       "      <th>year</th>\n",
       "      <th></th>\n",
       "      <th></th>\n",
       "      <th></th>\n",
       "      <th></th>\n",
       "      <th></th>\n",
       "    </tr>\n",
       "  </thead>\n",
       "  <tbody>\n",
       "    <tr>\n",
       "      <th>2015</th>\n",
       "      <td>2.94</td>\n",
       "      <td>15.350</td>\n",
       "      <td>4.675</td>\n",
       "      <td>4.615</td>\n",
       "      <td>20.380</td>\n",
       "    </tr>\n",
       "    <tr>\n",
       "      <th>2016</th>\n",
       "      <td>2.57</td>\n",
       "      <td>4.695</td>\n",
       "      <td>5.135</td>\n",
       "      <td>6.110</td>\n",
       "      <td>3.025</td>\n",
       "    </tr>\n",
       "    <tr>\n",
       "      <th>2017</th>\n",
       "      <td>22.18</td>\n",
       "      <td>9.010</td>\n",
       "      <td>9.700</td>\n",
       "      <td>8.210</td>\n",
       "      <td>51.990</td>\n",
       "    </tr>\n",
       "    <tr>\n",
       "      <th>2018</th>\n",
       "      <td>3.62</td>\n",
       "      <td>8.930</td>\n",
       "      <td>9.010</td>\n",
       "      <td>7.180</td>\n",
       "      <td>14.690</td>\n",
       "    </tr>\n",
       "    <tr>\n",
       "      <th>2019</th>\n",
       "      <td>3.89</td>\n",
       "      <td>3.410</td>\n",
       "      <td>3.210</td>\n",
       "      <td>5.600</td>\n",
       "      <td>12.880</td>\n",
       "    </tr>\n",
       "  </tbody>\n",
       "</table>\n",
       "</div>"
      ],
      "text/plain": [
       "age_restriction  «0+» - для любой зрительской аудитории  \\\n",
       "year                                                      \n",
       "2015                                               2.94   \n",
       "2016                                               2.57   \n",
       "2017                                              22.18   \n",
       "2018                                               3.62   \n",
       "2019                                               3.89   \n",
       "\n",
       "age_restriction  «12+» - для детей старше 12 лет  \\\n",
       "year                                               \n",
       "2015                                      15.350   \n",
       "2016                                       4.695   \n",
       "2017                                       9.010   \n",
       "2018                                       8.930   \n",
       "2019                                       3.410   \n",
       "\n",
       "age_restriction  «16+» - для детей старше 16 лет  «18+» - запрещено для детей  \\\n",
       "year                                                                            \n",
       "2015                                       4.675                        4.615   \n",
       "2016                                       5.135                        6.110   \n",
       "2017                                       9.700                        8.210   \n",
       "2018                                       9.010                        7.180   \n",
       "2019                                       3.210                        5.600   \n",
       "\n",
       "age_restriction  «6+» - для детей старше 6 лет  \n",
       "year                                            \n",
       "2015                                    20.380  \n",
       "2016                                     3.025  \n",
       "2017                                    51.990  \n",
       "2018                                    14.690  \n",
       "2019                                    12.880  "
      ]
     },
     "execution_count": 109,
     "metadata": {},
     "output_type": "execute_result"
    }
   ],
   "source": [
    "# Сгрупперуем данные по возрастным ограничениям и медианным сборам \n",
    "age_restriction_years = data.loc[data['year'] >= 2015].pivot_table(index='year', columns='age_restriction', values='box_office_mln', aggfunc='median')\n",
    "age_restriction_years"
   ]
  },
  {
   "cell_type": "code",
   "execution_count": 110,
   "metadata": {},
   "outputs": [
    {
     "data": {
      "text/plain": [
       "<AxesSubplot:title={'center':'Кассовые сборы по возрастным ограничениям по годам'}, xlabel='year'>"
      ]
     },
     "execution_count": 110,
     "metadata": {},
     "output_type": "execute_result"
    },
    {
     "data": {
      "image/png": "[encoded data removed]",
      "text/plain": [
       "<Figure size 1080x432 with 1 Axes>"
      ]
     },
     "metadata": {
      "needs_background": "light"
     },
     "output_type": "display_data"
    }
   ],
   "source": [
    "# Выведем график с медианным значением кассового сбора в зависимости от маркировки возрастного ограничения\n",
    "age_restriction_years.plot(figsize = (15,6), title = 'Кассовые сборы по возрастным ограничениям по годам', kind='bar')"
   ]
  },
  {
   "cell_type": "markdown",
   "metadata": {},
   "source": [
    "Самые высокие кассовые сборы у фильмов маркированных как 6+. Возможно, эта маркировка гарантирует максимальный охват аудитории, не в ущерб художественной привлекательности проекта."
   ]
  },
  {
   "cell_type": "code",
   "execution_count": 111,
   "metadata": {},
   "outputs": [
    {
     "data": {
      "text/html": [
       "<div>\n",
       "<style scoped>\n",
       "    .dataframe tbody tr th:only-of-type {\n",
       "        vertical-align: middle;\n",
       "    }\n",
       "\n",
       "    .dataframe tbody tr th {\n",
       "        vertical-align: top;\n",
       "    }\n",
       "\n",
       "    .dataframe thead th {\n",
       "        text-align: right;\n",
       "    }\n",
       "</style>\n",
       "<table border=\"1\" class=\"dataframe\">\n",
       "  <thead>\n",
       "    <tr style=\"text-align: right;\">\n",
       "      <th>age_restriction</th>\n",
       "      <th>«0+» - для любой зрительской аудитории</th>\n",
       "      <th>«12+» - для детей старше 12 лет</th>\n",
       "      <th>«16+» - для детей старше 16 лет</th>\n",
       "      <th>«18+» - запрещено для детей</th>\n",
       "      <th>«6+» - для детей старше 6 лет</th>\n",
       "    </tr>\n",
       "    <tr>\n",
       "      <th>year</th>\n",
       "      <th></th>\n",
       "      <th></th>\n",
       "      <th></th>\n",
       "      <th></th>\n",
       "      <th></th>\n",
       "    </tr>\n",
       "  </thead>\n",
       "  <tbody>\n",
       "    <tr>\n",
       "      <th>2015</th>\n",
       "      <td>379.05</td>\n",
       "      <td>13616.05</td>\n",
       "      <td>11368.09</td>\n",
       "      <td>5432.29</td>\n",
       "      <td>8701.77</td>\n",
       "    </tr>\n",
       "    <tr>\n",
       "      <th>2016</th>\n",
       "      <td>150.19</td>\n",
       "      <td>12204.46</td>\n",
       "      <td>16664.60</td>\n",
       "      <td>6793.93</td>\n",
       "      <td>12053.16</td>\n",
       "    </tr>\n",
       "    <tr>\n",
       "      <th>2017</th>\n",
       "      <td>229.60</td>\n",
       "      <td>7851.44</td>\n",
       "      <td>18745.02</td>\n",
       "      <td>9651.52</td>\n",
       "      <td>12086.15</td>\n",
       "    </tr>\n",
       "    <tr>\n",
       "      <th>2018</th>\n",
       "      <td>32.45</td>\n",
       "      <td>14267.31</td>\n",
       "      <td>16503.62</td>\n",
       "      <td>8760.04</td>\n",
       "      <td>10104.97</td>\n",
       "    </tr>\n",
       "    <tr>\n",
       "      <th>2019</th>\n",
       "      <td>17.75</td>\n",
       "      <td>12680.19</td>\n",
       "      <td>12753.42</td>\n",
       "      <td>10121.83</td>\n",
       "      <td>12852.56</td>\n",
       "    </tr>\n",
       "  </tbody>\n",
       "</table>\n",
       "</div>"
      ],
      "text/plain": [
       "age_restriction  «0+» - для любой зрительской аудитории  \\\n",
       "year                                                      \n",
       "2015                                             379.05   \n",
       "2016                                             150.19   \n",
       "2017                                             229.60   \n",
       "2018                                              32.45   \n",
       "2019                                              17.75   \n",
       "\n",
       "age_restriction  «12+» - для детей старше 12 лет  \\\n",
       "year                                               \n",
       "2015                                    13616.05   \n",
       "2016                                    12204.46   \n",
       "2017                                     7851.44   \n",
       "2018                                    14267.31   \n",
       "2019                                    12680.19   \n",
       "\n",
       "age_restriction  «16+» - для детей старше 16 лет  «18+» - запрещено для детей  \\\n",
       "year                                                                            \n",
       "2015                                    11368.09                      5432.29   \n",
       "2016                                    16664.60                      6793.93   \n",
       "2017                                    18745.02                      9651.52   \n",
       "2018                                    16503.62                      8760.04   \n",
       "2019                                    12753.42                     10121.83   \n",
       "\n",
       "age_restriction  «6+» - для детей старше 6 лет  \n",
       "year                                            \n",
       "2015                                   8701.77  \n",
       "2016                                  12053.16  \n",
       "2017                                  12086.15  \n",
       "2018                                  10104.97  \n",
       "2019                                  12852.56  "
      ]
     },
     "execution_count": 111,
     "metadata": {},
     "output_type": "execute_result"
    }
   ],
   "source": [
    "# Сгрупперуем данные по возрастным ограничениям и сумме кассовых сборов по годам \n",
    "age_restriction_years_sum = data.loc[data['year'] >= 2015]\\\n",
    ".pivot_table(index='year', columns='age_restriction', values='box_office_mln', aggfunc='sum')\n",
    "age_restriction_years_sum"
   ]
  },
  {
   "cell_type": "code",
   "execution_count": 112,
   "metadata": {
    "scrolled": false
   },
   "outputs": [
    {
     "data": {
      "text/plain": [
       "<AxesSubplot:title={'center':'Суммарные кассовые сборы по возрастным ограничениям по годам'}, xlabel='year'>"
      ]
     },
     "execution_count": 112,
     "metadata": {},
     "output_type": "execute_result"
    },
    {
     "data": {
      "image/png": "[encoded data removed]",
      "text/plain": [
       "<Figure size 1080x432 with 1 Axes>"
      ]
     },
     "metadata": {
      "needs_background": "light"
     },
     "output_type": "display_data"
    }
   ],
   "source": [
    "# Выведем график с суммарными кассовыми сборами в зависимости от маркировки возрастного ограничения\n",
    "age_restriction_years_sum.plot(figsize = (15,6),\\\n",
    "                               title = 'Суммарные кассовые сборы по возрастным ограничениям по годам', kind='bar')"
   ]
  },
  {
   "cell_type": "markdown",
   "metadata": {},
   "source": [
    "По суммарным сборам фильмов в зависимости от маркировки лидируют обычно фильмы 16+, 12+ и 6+."
   ]
  },
  {
   "cell_type": "markdown",
   "metadata": {
    "id": "l_Kg6Ku4gFya"
   },
   "source": [
    "### Шаг 4. Исследуйте фильмы, которые получили государственную поддержку\n",
    "\n",
    "На этом этапе нет конкретных инструкций и заданий — поищите интересные закономерности в данных. Посмотрите, сколько выделяют средств на поддержку кино. Проверьте, хорошо ли окупаются такие фильмы, какой у них рейтинг."
   ]
  },
  {
   "cell_type": "markdown",
   "metadata": {
    "id": "W9QKpjUdgFyb"
   },
   "source": [
    "Для данного этапа исследований подготовим отдельную таблицу с субсидированными проектами"
   ]
  },
  {
   "cell_type": "code",
   "execution_count": 113,
   "metadata": {},
   "outputs": [
    {
     "name": "stdout",
     "output_type": "stream",
     "text": [
      "<class 'pandas.core.frame.DataFrame'>\n",
      "Int64Index: 332 entries, 1281 to 7478\n",
      "Data columns (total 21 columns):\n",
      " #   Column                 Non-Null Count  Dtype         \n",
      "---  ------                 --------------  -----         \n",
      " 0   title                  332 non-null    object        \n",
      " 1   puNumber               332 non-null    int64         \n",
      " 2   show_start_date        332 non-null    datetime64[ns]\n",
      " 3   type                   332 non-null    object        \n",
      " 4   film_studio            332 non-null    object        \n",
      " 5   production_country     332 non-null    object        \n",
      " 6   director               332 non-null    object        \n",
      " 7   producer               330 non-null    object        \n",
      " 8   age_restriction        332 non-null    object        \n",
      " 9   refundable_support     332 non-null    float64       \n",
      " 10  nonrefundable_support  332 non-null    float64       \n",
      " 11  budget                 332 non-null    float64       \n",
      " 12  financing_source       332 non-null    object        \n",
      " 13  ratings                316 non-null    float64       \n",
      " 14  genres                 316 non-null    object        \n",
      " 15  box_office             318 non-null    float64       \n",
      " 16  year                   332 non-null    int64         \n",
      " 17  main_director          332 non-null    object        \n",
      " 18  main_genres            316 non-null    object        \n",
      " 19  budget_support_ratio   332 non-null    float64       \n",
      " 20  box_office_mln         318 non-null    float64       \n",
      "dtypes: datetime64[ns](1), float64(7), int64(2), object(11)\n",
      "memory usage: 57.1+ KB\n"
     ]
    }
   ],
   "source": [
    "data_sup = data.loc[data['budget_support_ratio'] > 0]\n",
    "data_sup.info()"
   ]
  },
  {
   "cell_type": "code",
   "execution_count": 114,
   "metadata": {},
   "outputs": [],
   "source": [
    "# Удалим строки не имеющие данных по сборам\n",
    "data_sup = data_sup.dropna(subset=['box_office'])\n",
    "# Добавим параметр окупаемости проекта\n",
    "data_sup['payback'] = data_sup['box_office'] / data_sup['budget']"
   ]
  },
  {
   "cell_type": "code",
   "execution_count": 115,
   "metadata": {},
   "outputs": [
    {
     "data": {
      "text/plain": [
       "<seaborn.axisgrid.PairGrid at 0x7f2f9f7f7040>"
      ]
     },
     "execution_count": 115,
     "metadata": {},
     "output_type": "execute_result"
    },
    {
     "data": {
      "image/png": "[encoded data removed]",
      "text/plain": [
       "<Figure size 864x864 with 20 Axes>"
      ]
     },
     "metadata": {
      "needs_background": "light"
     },
     "output_type": "display_data"
    }
   ],
   "source": [
    "# Оценим корреляцию окупаемости с бюджетом, рейтингом и долей субсидий в бюджете.\n",
    "sns.pairplot(data_sup, vars=['payback', 'budget_support_ratio', 'budget', 'ratings'], height=3)"
   ]
  },
  {
   "cell_type": "markdown",
   "metadata": {},
   "source": [
    "Явной корреляции не наблюдается"
   ]
  },
  {
   "cell_type": "code",
   "execution_count": 116,
   "metadata": {},
   "outputs": [
    {
     "data": {
      "text/plain": [
       "payback                 1.000000\n",
       "budget_support_ratio   -0.099397\n",
       "budget                  0.087165\n",
       "ratings                 0.061905\n",
       "Name: payback, dtype: float64"
      ]
     },
     "execution_count": 116,
     "metadata": {},
     "output_type": "execute_result"
    }
   ],
   "source": [
    "# Подтвердим это коэффициентами \n",
    "correlations = data_sup.loc[:, ['payback', 'budget_support_ratio', 'budget', 'ratings']].corr()\n",
    "correlations['payback']"
   ]
  },
  {
   "cell_type": "code",
   "execution_count": 117,
   "metadata": {},
   "outputs": [
    {
     "data": {
      "text/plain": [
       "<AxesSubplot:title={'center':'Средняя окупаемость проектов с государственным софинансированием по годам'}, xlabel='year'>"
      ]
     },
     "execution_count": 117,
     "metadata": {},
     "output_type": "execute_result"
    },
    {
     "data": {
      "image/png": "[encoded data removed]",
      "text/plain": [
       "<Figure size 432x288 with 1 Axes>"
      ]
     },
     "metadata": {
      "needs_background": "light"
     },
     "output_type": "display_data"
    }
   ],
   "source": [
    "# Оценим среднюю окупаемость проектов с государственным софинансированием по годам\n",
    "data_sup.groupby('year')['payback'].mean().plot(kind='bar', grid=True, title='Средняя окупаемость проектов с государственным софинансированием по годам')"
   ]
  },
  {
   "cell_type": "markdown",
   "metadata": {},
   "source": [
    "Наблюдается явный тренд с ростом показателя по годам"
   ]
  },
  {
   "cell_type": "code",
   "execution_count": 118,
   "metadata": {},
   "outputs": [
    {
     "data": {
      "text/plain": [
       "<AxesSubplot:title={'center':'Средняя окупаемость проектов с государственным софинансированием по жанрам'}, xlabel='main_genres'>"
      ]
     },
     "execution_count": 118,
     "metadata": {},
     "output_type": "execute_result"
    },
    {
     "data": {
      "image/png": "[encoded data removed]",
      "text/plain": [
       "<Figure size 432x288 with 1 Axes>"
      ]
     },
     "metadata": {
      "needs_background": "light"
     },
     "output_type": "display_data"
    }
   ],
   "source": [
    "# Оценим среднюю окупаемость проектов с государственным софинансированием по жанрам\n",
    "data_sup.groupby('main_genres')['payback'].mean().\\\n",
    "plot(kind='bar', grid=True, title='Средняя окупаемость проектов с государственным софинансированием по жанрам')"
   ]
  },
  {
   "cell_type": "markdown",
   "metadata": {},
   "source": [
    "Спортивные драммы, байопики и комедии - фавориты эффективности государственных инвестиций в производство кино. \n",
    "<br>\n",
    "Детские фильмы и мелодраммы - возможно больше социальные проекты, чем кинобизнес. Однако мульфильмы окупаются гораздо лучше, что странно, возможно проблема в выборе основного жанра проектов."
   ]
  },
  {
   "cell_type": "code",
   "execution_count": 119,
   "metadata": {},
   "outputs": [
    {
     "data": {
      "text/plain": [
       "<AxesSubplot:title={'center':'Средний размер возвратных и невозвратных субсидий проектов'}, xlabel='year'>"
      ]
     },
     "execution_count": 119,
     "metadata": {},
     "output_type": "execute_result"
    },
    {
     "data": {
      "image/png": "[encoded data removed]",
      "text/plain": [
       "<Figure size 432x288 with 1 Axes>"
      ]
     },
     "metadata": {
      "needs_background": "light"
     },
     "output_type": "display_data"
    }
   ],
   "source": [
    "# Оценим средний размер субсидий проектов по годам\n",
    "data_sup['total_support'] = data_sup['refundable_support'] + data_sup['nonrefundable_support']\n",
    "data_sup.pivot_table(index='year', values=['total_support', 'refundable_support', 'nonrefundable_support'], \\\n",
    "                     aggfunc='sum').plot(title='Средний размер возвратных и невозвратных субсидий проектов')\n"
   ]
  },
  {
   "cell_type": "markdown",
   "metadata": {},
   "source": [
    "С 2013 по 2015 год наблюдается рост государственного субсидирования в кинопроизводстве, с 2015 года ежегодный объем субсидий держится на уровне 3-4 млрд рублей. Здесь также возможен не полный охват рынка имеющимеся данными по 2010-2014 годам."
   ]
  },
  {
   "cell_type": "code",
   "execution_count": 120,
   "metadata": {},
   "outputs": [
    {
     "data": {
      "text/plain": [
       "<AxesSubplot:title={'center':'Средний рейтинг проектов по годам'}, xlabel='year'>"
      ]
     },
     "execution_count": 120,
     "metadata": {},
     "output_type": "execute_result"
    },
    {
     "data": {
      "image/png": "[encoded data removed]",
      "text/plain": [
       "<Figure size 432x288 with 1 Axes>"
      ]
     },
     "metadata": {
      "needs_background": "light"
     },
     "output_type": "display_data"
    }
   ],
   "source": [
    "# Оценим средний рейтинг проектов по годам\n",
    "data_sup['total_support'] = data_sup['refundable_support'] + data_sup['nonrefundable_support']\n",
    "data_sup.pivot_table(index='year', values='ratings', aggfunc='median').plot(title='Средний рейтинг проектов по годам')"
   ]
  },
  {
   "cell_type": "markdown",
   "metadata": {},
   "source": [
    "Средний рейтинг софинансируемых проектов держится на уровне 5.8-6.6"
   ]
  },
  {
   "cell_type": "markdown",
   "metadata": {},
   "source": [
    "В прокате есть периоды в течение года, когда популярность кинотеатров как вида досуга возрастает. Попробуем выделить это на графиках"
   ]
  },
  {
   "cell_type": "code",
   "execution_count": 131,
   "metadata": {},
   "outputs": [
    {
     "data": {
      "text/html": [
       "<div>\n",
       "<style scoped>\n",
       "    .dataframe tbody tr th:only-of-type {\n",
       "        vertical-align: middle;\n",
       "    }\n",
       "\n",
       "    .dataframe tbody tr th {\n",
       "        vertical-align: top;\n",
       "    }\n",
       "\n",
       "    .dataframe thead th {\n",
       "        text-align: right;\n",
       "    }\n",
       "</style>\n",
       "<table border=\"1\" class=\"dataframe\">\n",
       "  <thead>\n",
       "    <tr style=\"text-align: right;\">\n",
       "      <th></th>\n",
       "      <th>title</th>\n",
       "      <th>puNumber</th>\n",
       "      <th>show_start_date</th>\n",
       "      <th>type</th>\n",
       "      <th>film_studio</th>\n",
       "      <th>production_country</th>\n",
       "      <th>director</th>\n",
       "      <th>producer</th>\n",
       "      <th>age_restriction</th>\n",
       "      <th>refundable_support</th>\n",
       "      <th>...</th>\n",
       "      <th>genres</th>\n",
       "      <th>box_office</th>\n",
       "      <th>year</th>\n",
       "      <th>main_director</th>\n",
       "      <th>main_genres</th>\n",
       "      <th>budget_support_ratio</th>\n",
       "      <th>box_office_mln</th>\n",
       "      <th>payback</th>\n",
       "      <th>total_support</th>\n",
       "      <th>month</th>\n",
       "    </tr>\n",
       "  </thead>\n",
       "  <tbody>\n",
       "    <tr>\n",
       "      <th>1281</th>\n",
       "      <td>Пока еще жива</td>\n",
       "      <td>111005313</td>\n",
       "      <td>2013-10-11 12:00:00</td>\n",
       "      <td>Художественный</td>\n",
       "      <td>АНО содействия развитию кинематографии \"Ангел-...</td>\n",
       "      <td>Россия</td>\n",
       "      <td>А.Атанесян</td>\n",
       "      <td>А.Атанесян, М.Бабаханов, Р.Бутко</td>\n",
       "      <td>«16+» - для детей старше 16 лет</td>\n",
       "      <td>0.0</td>\n",
       "      <td>...</td>\n",
       "      <td>драма,мелодрама</td>\n",
       "      <td>365353.6</td>\n",
       "      <td>2013</td>\n",
       "      <td>А.Атанесян</td>\n",
       "      <td>драма</td>\n",
       "      <td>0.333703</td>\n",
       "      <td>0.37</td>\n",
       "      <td>0.004601</td>\n",
       "      <td>26500000.0</td>\n",
       "      <td>10</td>\n",
       "    </tr>\n",
       "    <tr>\n",
       "      <th>1448</th>\n",
       "      <td>Бесславные придурки</td>\n",
       "      <td>111003314</td>\n",
       "      <td>2014-03-28 12:00:00</td>\n",
       "      <td>Художественный</td>\n",
       "      <td>ООО \"Компания \"АТК-Студио\"</td>\n",
       "      <td>Россия</td>\n",
       "      <td>А.Якимчук</td>\n",
       "      <td>А.Тютрюмов</td>\n",
       "      <td>«12+» - для детей старше 12 лет</td>\n",
       "      <td>0.0</td>\n",
       "      <td>...</td>\n",
       "      <td>NaN</td>\n",
       "      <td>28140.0</td>\n",
       "      <td>2014</td>\n",
       "      <td>А.Якимчук</td>\n",
       "      <td>NaN</td>\n",
       "      <td>0.700000</td>\n",
       "      <td>0.03</td>\n",
       "      <td>0.000758</td>\n",
       "      <td>26000000.0</td>\n",
       "      <td>3</td>\n",
       "    </tr>\n",
       "    <tr>\n",
       "      <th>1498</th>\n",
       "      <td>Невидимки</td>\n",
       "      <td>111004213</td>\n",
       "      <td>2013-09-10 12:00:00</td>\n",
       "      <td>Художественный</td>\n",
       "      <td>ООО \"Компания \"РЕАЛ-ДАКОТА\"</td>\n",
       "      <td>Россия</td>\n",
       "      <td>Р.Давлетьяров, С.Комаров</td>\n",
       "      <td>Р.Давлетьяров, А.Котелевский, А.Олейников</td>\n",
       "      <td>«12+» - для детей старше 12 лет</td>\n",
       "      <td>0.0</td>\n",
       "      <td>...</td>\n",
       "      <td>комедия,фантастика</td>\n",
       "      <td>19957031.5</td>\n",
       "      <td>2013</td>\n",
       "      <td>Р.Давлетьяров</td>\n",
       "      <td>комедия</td>\n",
       "      <td>0.612691</td>\n",
       "      <td>19.96</td>\n",
       "      <td>0.113377</td>\n",
       "      <td>107847945.0</td>\n",
       "      <td>9</td>\n",
       "    </tr>\n",
       "    <tr>\n",
       "      <th>1524</th>\n",
       "      <td>БЕРЦЫ</td>\n",
       "      <td>111004314</td>\n",
       "      <td>2014-05-05 12:00:00</td>\n",
       "      <td>Художественный</td>\n",
       "      <td>ООО \"Студия \"Пассажир\"</td>\n",
       "      <td>Россия</td>\n",
       "      <td>Е.Миндадзе (псевдоним Катя Шагалова)</td>\n",
       "      <td>Л.Антонова</td>\n",
       "      <td>«16+» - для детей старше 16 лет</td>\n",
       "      <td>0.0</td>\n",
       "      <td>...</td>\n",
       "      <td>драма</td>\n",
       "      <td>55917.5</td>\n",
       "      <td>2014</td>\n",
       "      <td>Е.Миндадзе (псевдоним Катя Шагалова)</td>\n",
       "      <td>драма</td>\n",
       "      <td>0.690095</td>\n",
       "      <td>0.06</td>\n",
       "      <td>0.001378</td>\n",
       "      <td>28000000.0</td>\n",
       "      <td>5</td>\n",
       "    </tr>\n",
       "    <tr>\n",
       "      <th>1792</th>\n",
       "      <td>Братья Ч</td>\n",
       "      <td>111004414</td>\n",
       "      <td>2014-04-23 12:00:00</td>\n",
       "      <td>Художественный</td>\n",
       "      <td>ООО \"Студия \"Пассажир\"</td>\n",
       "      <td>Россия</td>\n",
       "      <td>М.Угаров</td>\n",
       "      <td>А.Миндадзе, Л.Антонова</td>\n",
       "      <td>«16+» - для детей старше 16 лет</td>\n",
       "      <td>0.0</td>\n",
       "      <td>...</td>\n",
       "      <td>драма</td>\n",
       "      <td>232100.0</td>\n",
       "      <td>2014</td>\n",
       "      <td>М.Угаров</td>\n",
       "      <td>драма</td>\n",
       "      <td>0.624764</td>\n",
       "      <td>0.23</td>\n",
       "      <td>0.005800</td>\n",
       "      <td>25000000.0</td>\n",
       "      <td>4</td>\n",
       "    </tr>\n",
       "  </tbody>\n",
       "</table>\n",
       "<p>5 rows × 24 columns</p>\n",
       "</div>"
      ],
      "text/plain": [
       "                    title   puNumber     show_start_date            type  \\\n",
       "1281        Пока еще жива  111005313 2013-10-11 12:00:00  Художественный   \n",
       "1448  Бесславные придурки  111003314 2014-03-28 12:00:00  Художественный   \n",
       "1498            Невидимки  111004213 2013-09-10 12:00:00  Художественный   \n",
       "1524                БЕРЦЫ  111004314 2014-05-05 12:00:00  Художественный   \n",
       "1792             Братья Ч  111004414 2014-04-23 12:00:00  Художественный   \n",
       "\n",
       "                                            film_studio production_country  \\\n",
       "1281  АНО содействия развитию кинематографии \"Ангел-...             Россия   \n",
       "1448                         ООО \"Компания \"АТК-Студио\"             Россия   \n",
       "1498                        ООО \"Компания \"РЕАЛ-ДАКОТА\"             Россия   \n",
       "1524                             ООО \"Студия \"Пассажир\"             Россия   \n",
       "1792                             ООО \"Студия \"Пассажир\"             Россия   \n",
       "\n",
       "                                  director  \\\n",
       "1281                            А.Атанесян   \n",
       "1448                             А.Якимчук   \n",
       "1498              Р.Давлетьяров, С.Комаров   \n",
       "1524  Е.Миндадзе (псевдоним Катя Шагалова)   \n",
       "1792                              М.Угаров   \n",
       "\n",
       "                                       producer  \\\n",
       "1281           А.Атанесян, М.Бабаханов, Р.Бутко   \n",
       "1448                                 А.Тютрюмов   \n",
       "1498  Р.Давлетьяров, А.Котелевский, А.Олейников   \n",
       "1524                                 Л.Антонова   \n",
       "1792                     А.Миндадзе, Л.Антонова   \n",
       "\n",
       "                      age_restriction  refundable_support  ...  \\\n",
       "1281  «16+» - для детей старше 16 лет                 0.0  ...   \n",
       "1448  «12+» - для детей старше 12 лет                 0.0  ...   \n",
       "1498  «12+» - для детей старше 12 лет                 0.0  ...   \n",
       "1524  «16+» - для детей старше 16 лет                 0.0  ...   \n",
       "1792  «16+» - для детей старше 16 лет                 0.0  ...   \n",
       "\n",
       "                  genres  box_office  year  \\\n",
       "1281     драма,мелодрама    365353.6  2013   \n",
       "1448                 NaN     28140.0  2014   \n",
       "1498  комедия,фантастика  19957031.5  2013   \n",
       "1524               драма     55917.5  2014   \n",
       "1792               драма    232100.0  2014   \n",
       "\n",
       "                             main_director main_genres  budget_support_ratio  \\\n",
       "1281                            А.Атанесян       драма              0.333703   \n",
       "1448                             А.Якимчук         NaN              0.700000   \n",
       "1498                         Р.Давлетьяров     комедия              0.612691   \n",
       "1524  Е.Миндадзе (псевдоним Катя Шагалова)       драма              0.690095   \n",
       "1792                              М.Угаров       драма              0.624764   \n",
       "\n",
       "      box_office_mln   payback total_support  month  \n",
       "1281            0.37  0.004601    26500000.0     10  \n",
       "1448            0.03  0.000758    26000000.0      3  \n",
       "1498           19.96  0.113377   107847945.0      9  \n",
       "1524            0.06  0.001378    28000000.0      5  \n",
       "1792            0.23  0.005800    25000000.0      4  \n",
       "\n",
       "[5 rows x 24 columns]"
      ]
     },
     "execution_count": 131,
     "metadata": {},
     "output_type": "execute_result"
    }
   ],
   "source": [
    "# Для начала, выделим столбец со значением месяца релиза\n",
    "data_sup['month'] = data['show_start_date'].dt.month\n",
    "data_sup.head(5)"
   ]
  },
  {
   "cell_type": "code",
   "execution_count": 134,
   "metadata": {},
   "outputs": [
    {
     "data": {
      "text/plain": [
       "<AxesSubplot:title={'center':'Средние кассовые сборы фильмов по дате релиза'}, xlabel='month'>"
      ]
     },
     "execution_count": 134,
     "metadata": {},
     "output_type": "execute_result"
    },
    {
     "data": {
      "image/png": "[encoded data removed]",
      "text/plain": [
       "<Figure size 432x288 with 1 Axes>"
      ]
     },
     "metadata": {
      "needs_background": "light"
     },
     "output_type": "display_data"
    }
   ],
   "source": [
    "box_office_mean_month = data.pivot_table(index='month', values='box_office_mln', aggfunc='mean')\n",
    "box_office_mean_month.plot(title='Средние кассовые сборы фильмов по дате релиза')"
   ]
  },
  {
   "cell_type": "code",
   "execution_count": 140,
   "metadata": {},
   "outputs": [
    {
     "data": {
      "text/plain": [
       "<AxesSubplot:xlabel='month'>"
      ]
     },
     "execution_count": 140,
     "metadata": {},
     "output_type": "execute_result"
    },
    {
     "data": {
      "image/png": "[encoded data removed]",
      "text/plain": [
       "<Figure size 432x288 with 1 Axes>"
      ]
     },
     "metadata": {
      "needs_background": "light"
     },
     "output_type": "display_data"
    }
   ],
   "source": [
    "data_sup.groupby('month')['payback'].mean().plot()"
   ]
  },
  {
   "cell_type": "markdown",
   "metadata": {},
   "source": [
    "График подтверждает предположение о том что месяц релиза картин в кинотеатрах сказывается на кассовых сборах, есть явный тренд снижения сборов к концу лета - началу осени, а затем самый пик в декабре.\n",
    "<br>\n",
    "Та же картина с окупаемостью, релиз в декабре обеспечивает окупаемость в два раза выше чем в среднем по остальным месяцам."
   ]
  },
  {
   "cell_type": "markdown",
   "metadata": {
    "id": "V2gYwMcPgFyd"
   },
   "source": [
    "### Шаг 5. Напишите общий вывод"
   ]
  },
  {
   "cell_type": "markdown",
   "metadata": {
    "id": "AYRg3dzXgFye"
   },
   "source": [
    "В процессе исследования мы работали с двумя источниками данных, с основной таблицей с фильмами и информацией по ним и с таблицей с кассовыми сборами. Объединили их по столбцу с прокатными удостоверениями. \n",
    "<br>\n",
    "Затем провели предобработку данных. Все типы данных привели в соответствии с их содержанием. Удалили несущественную часть строк с пропусками, остальные пропуски оставили как есть, часть заменили на \"Не указано\". Выявили и проанализировали дубликаты по названию фильмов и прокатным удостоверениям. Изучили категориальные и количественные значения, добавили столбцы с необходимыми данными для анализа. \n",
    "<br>\n",
    "Провели исследовательский анализ данных. Изучили рынок, исследовали основные параметры и зависимости имеющихся метрик, развитие рынка. \n",
    "<br>\n",
    "Отдельно исследовали фильмы с государственным софинансированием. Изучили их окупаемость, кассовые сборы, рейтинг, возрастные ограничения и взаимное влияние данных параметров. \n",
    "<br>\n",
    "Далее приведем основные выводы.\n",
    "<br>\n",
    "Период 2010-2013 годов слабо охвачен данными по кассовым сборам. С 2015 года общий объем кассовых сборов в кинотеатрах составляет около 50 млрд рублей. \n",
    "<br>\n",
    "В среднем фильмы собирают в прокате в кинотеатрах не более 10 млн рублей. При этом есть не малая часть фильмов снятых достаточно давно, на которые оформлялось ПУ для разовых показов в кинотеатрах с минимальными кассовыми сборами. Эти фильмы также попадают в исследование данных по кассовым сборам.\n",
    "<br>\n",
    "С 2014 года объем ежегодного государственного софинансирования держится на уровне 3-4 млрд рублей. Окупаемость фильмов за счет проката в кинотеатрах растет с 2014 года с 60% от объема вложений до 85% в 2019 году, превысов отметку 100% в 2017 и 2018 годах.\n",
    "Байопики и спортивные драммы лучше окупаются в отличие от мелодрам.\n",
    "<br>\n",
    "Маркировка возрастных ограничений 6+ обеспечивает максимальный охват аудитории и соответсвенно максимальные сборы, однако суммарно, фильмы с 16+ ежегодно собирают больше, за счет количества таких фильмов в прокате.\n",
    "<br>\n",
    "Средний рейтинг субсидируемых фильмов держится в районе 6.5, не зависит от бюджета или объема софинансирования.\n",
    "<br>\n",
    "Дата премьеры влияет на финансовый успех картин, релиз в декабре обеспечивает лучшие кассовые сборы в сравнии с другими периодами года.\n",
    "<br>\n",
    "Рекомендации по исходным данным.\n",
    "<br>\n",
    "Необходимо отметить ограниченную полноту данных по годам и отсутсвие финансовых метрик зарубежных фильмов. Данные стоит дополнить информацией по рекламным бюджетам и актерам (главные роли)."
   ]
  },
  {
   "cell_type": "code",
   "execution_count": null,
   "metadata": {},
   "outputs": [],
   "source": []
  }
 ],
 "metadata": {
  "ExecuteTimeLog": [
   {
    "duration": 537,
    "start_time": "2021-07-07T10:12:08.634Z"
   },
   {
    "duration": 206,
    "start_time": "2021-07-07T10:12:30.191Z"
   },
   {
    "duration": 227,
    "start_time": "2021-07-07T10:12:33.078Z"
   },
   {
    "duration": 153,
    "start_time": "2021-07-07T10:13:42.146Z"
   },
   {
    "duration": 233,
    "start_time": "2021-07-07T10:30:09.252Z"
   },
   {
    "duration": 19,
    "start_time": "2021-07-07T10:30:15.577Z"
   },
   {
    "duration": 18,
    "start_time": "2021-07-07T10:30:57.348Z"
   },
   {
    "duration": 19,
    "start_time": "2021-07-07T10:31:17.452Z"
   },
   {
    "duration": 21,
    "start_time": "2021-07-07T10:31:32.227Z"
   },
   {
    "duration": 27,
    "start_time": "2021-07-07T10:32:06.588Z"
   },
   {
    "duration": 23,
    "start_time": "2021-07-07T10:32:43.645Z"
   },
   {
    "duration": 24,
    "start_time": "2021-07-07T10:33:06.948Z"
   },
   {
    "duration": 7,
    "start_time": "2021-07-07T10:33:28.558Z"
   },
   {
    "duration": 23,
    "start_time": "2021-07-07T10:33:43.761Z"
   },
   {
    "duration": 28,
    "start_time": "2021-07-07T10:34:13.466Z"
   },
   {
    "duration": 23,
    "start_time": "2021-07-07T10:35:56.187Z"
   },
   {
    "duration": 6,
    "start_time": "2021-07-07T10:36:48.182Z"
   },
   {
    "duration": 14,
    "start_time": "2021-07-07T10:37:49.641Z"
   },
   {
    "duration": 6,
    "start_time": "2021-07-07T10:38:06.694Z"
   },
   {
    "duration": 6,
    "start_time": "2021-07-07T10:38:13.493Z"
   },
   {
    "duration": 19,
    "start_time": "2021-07-07T10:38:44.056Z"
   },
   {
    "duration": 186,
    "start_time": "2021-07-07T10:48:35.618Z"
   },
   {
    "duration": 24,
    "start_time": "2021-07-07T10:48:51.498Z"
   },
   {
    "duration": 20,
    "start_time": "2021-07-07T10:48:59.415Z"
   },
   {
    "duration": 20,
    "start_time": "2021-07-07T10:53:02.195Z"
   },
   {
    "duration": 188,
    "start_time": "2021-07-07T10:54:40.486Z"
   },
   {
    "duration": 115,
    "start_time": "2021-07-07T10:54:52.552Z"
   },
   {
    "duration": 214,
    "start_time": "2021-07-07T10:54:56.354Z"
   },
   {
    "duration": 47,
    "start_time": "2021-07-07T10:54:58.282Z"
   },
   {
    "duration": 217,
    "start_time": "2021-07-07T10:59:16.075Z"
   },
   {
    "duration": 51,
    "start_time": "2021-07-07T10:59:16.243Z"
   },
   {
    "duration": 578,
    "start_time": "2021-07-07T10:59:18.774Z"
   },
   {
    "duration": 161,
    "start_time": "2021-07-07T10:59:21.238Z"
   },
   {
    "duration": 59,
    "start_time": "2021-07-07T10:59:21.453Z"
   },
   {
    "duration": 3,
    "start_time": "2021-07-07T11:02:10.786Z"
   },
   {
    "duration": 13,
    "start_time": "2021-07-07T11:07:07.722Z"
   },
   {
    "duration": 26,
    "start_time": "2021-07-07T11:07:17.958Z"
   },
   {
    "duration": 22,
    "start_time": "2021-07-07T11:08:17.939Z"
   },
   {
    "duration": 212,
    "start_time": "2021-07-07T11:08:19.665Z"
   },
   {
    "duration": 21,
    "start_time": "2021-07-07T11:08:29.945Z"
   },
   {
    "duration": 31,
    "start_time": "2021-07-07T11:08:38.899Z"
   },
   {
    "duration": 23,
    "start_time": "2021-07-07T11:08:54.527Z"
   },
   {
    "duration": 8,
    "start_time": "2021-07-07T11:18:55.974Z"
   },
   {
    "duration": 7,
    "start_time": "2021-07-07T11:19:03.639Z"
   },
   {
    "duration": 7,
    "start_time": "2021-07-07T11:19:06.444Z"
   },
   {
    "duration": 578,
    "start_time": "2021-07-07T12:09:59.576Z"
   },
   {
    "duration": 195,
    "start_time": "2021-07-07T12:10:00.156Z"
   },
   {
    "duration": 115,
    "start_time": "2021-07-07T12:10:00.353Z"
   },
   {
    "duration": 3,
    "start_time": "2021-07-07T12:10:00.470Z"
   },
   {
    "duration": 32,
    "start_time": "2021-07-07T12:10:00.474Z"
   },
   {
    "duration": 23,
    "start_time": "2021-07-07T12:10:00.508Z"
   },
   {
    "duration": 19,
    "start_time": "2021-07-07T12:10:00.533Z"
   },
   {
    "duration": 44,
    "start_time": "2021-07-07T12:10:00.553Z"
   },
   {
    "duration": 7,
    "start_time": "2021-07-07T12:10:00.600Z"
   },
   {
    "duration": 7,
    "start_time": "2021-07-07T12:19:45.761Z"
   },
   {
    "duration": 21,
    "start_time": "2021-07-07T12:21:35.482Z"
   },
   {
    "duration": 21,
    "start_time": "2021-07-07T12:29:23.569Z"
   },
   {
    "duration": 525,
    "start_time": "2021-07-07T12:29:44.542Z"
   },
   {
    "duration": 214,
    "start_time": "2021-07-07T12:29:45.069Z"
   },
   {
    "duration": 92,
    "start_time": "2021-07-07T12:29:45.285Z"
   },
   {
    "duration": 3,
    "start_time": "2021-07-07T12:29:45.379Z"
   },
   {
    "duration": 28,
    "start_time": "2021-07-07T12:29:45.384Z"
   },
   {
    "duration": 23,
    "start_time": "2021-07-07T12:29:45.413Z"
   },
   {
    "duration": 21,
    "start_time": "2021-07-07T12:29:45.437Z"
   },
   {
    "duration": 41,
    "start_time": "2021-07-07T12:29:45.460Z"
   },
   {
    "duration": 7,
    "start_time": "2021-07-07T12:29:45.502Z"
   },
   {
    "duration": 20,
    "start_time": "2021-07-07T12:29:45.511Z"
   },
   {
    "duration": 12,
    "start_time": "2021-07-07T12:34:02.800Z"
   },
   {
    "duration": 7,
    "start_time": "2021-07-07T12:35:10.479Z"
   },
   {
    "duration": 8,
    "start_time": "2021-07-07T12:35:22.440Z"
   },
   {
    "duration": 6,
    "start_time": "2021-07-07T12:35:35.649Z"
   },
   {
    "duration": 6,
    "start_time": "2021-07-07T12:35:43.107Z"
   },
   {
    "duration": 22,
    "start_time": "2021-07-07T12:38:03.029Z"
   },
   {
    "duration": 10,
    "start_time": "2021-07-07T12:38:06.592Z"
   },
   {
    "duration": 563,
    "start_time": "2021-07-07T12:38:46.493Z"
   },
   {
    "duration": 265,
    "start_time": "2021-07-07T12:38:47.058Z"
   },
   {
    "duration": 94,
    "start_time": "2021-07-07T12:38:47.325Z"
   },
   {
    "duration": 3,
    "start_time": "2021-07-07T12:38:47.422Z"
   },
   {
    "duration": 30,
    "start_time": "2021-07-07T12:38:47.427Z"
   },
   {
    "duration": 16,
    "start_time": "2021-07-07T12:38:53.305Z"
   },
   {
    "duration": 10,
    "start_time": "2021-07-07T12:38:53.499Z"
   },
   {
    "duration": 8,
    "start_time": "2021-07-07T12:39:48.161Z"
   },
   {
    "duration": 27,
    "start_time": "2021-07-07T12:41:17.629Z"
   },
   {
    "duration": 17,
    "start_time": "2021-07-07T12:41:17.867Z"
   },
   {
    "duration": 21,
    "start_time": "2021-07-07T12:41:19.310Z"
   },
   {
    "duration": 7,
    "start_time": "2021-07-07T12:41:19.544Z"
   },
   {
    "duration": 20,
    "start_time": "2021-07-07T12:41:20.504Z"
   },
   {
    "duration": 554,
    "start_time": "2021-07-07T12:56:23.696Z"
   },
   {
    "duration": 200,
    "start_time": "2021-07-07T12:56:25.234Z"
   },
   {
    "duration": 119,
    "start_time": "2021-07-07T12:56:25.480Z"
   },
   {
    "duration": 4,
    "start_time": "2021-07-07T12:56:25.762Z"
   },
   {
    "duration": 26,
    "start_time": "2021-07-07T12:56:27.172Z"
   },
   {
    "duration": 12,
    "start_time": "2021-07-07T12:56:29.051Z"
   },
   {
    "duration": 10,
    "start_time": "2021-07-07T12:56:29.291Z"
   },
   {
    "duration": 8,
    "start_time": "2021-07-07T12:56:29.623Z"
   },
   {
    "duration": 28,
    "start_time": "2021-07-07T12:56:32.137Z"
   },
   {
    "duration": 19,
    "start_time": "2021-07-07T12:56:39.785Z"
   },
   {
    "duration": 20,
    "start_time": "2021-07-07T12:56:44.297Z"
   },
   {
    "duration": 7,
    "start_time": "2021-07-07T12:56:45.392Z"
   },
   {
    "duration": 23,
    "start_time": "2021-07-07T12:56:46.615Z"
   },
   {
    "duration": 4,
    "start_time": "2021-07-07T12:57:06.625Z"
   },
   {
    "duration": 32,
    "start_time": "2021-07-07T12:57:36.690Z"
   },
   {
    "duration": 18,
    "start_time": "2021-07-07T12:58:00.149Z"
   },
   {
    "duration": 15,
    "start_time": "2021-07-07T12:59:16.793Z"
   },
   {
    "duration": 7,
    "start_time": "2021-07-07T13:19:22.624Z"
   },
   {
    "duration": 6,
    "start_time": "2021-07-07T14:17:33.527Z"
   },
   {
    "duration": 9,
    "start_time": "2021-07-07T14:17:48.409Z"
   },
   {
    "duration": 8,
    "start_time": "2021-07-07T14:20:13.060Z"
   },
   {
    "duration": 8,
    "start_time": "2021-07-07T14:20:37.957Z"
   },
   {
    "duration": 8,
    "start_time": "2021-07-07T14:20:47.470Z"
   },
   {
    "duration": 9,
    "start_time": "2021-07-07T14:20:54.503Z"
   },
   {
    "duration": 10,
    "start_time": "2021-07-07T14:28:57.763Z"
   },
   {
    "duration": 3,
    "start_time": "2021-07-07T14:30:23.377Z"
   },
   {
    "duration": 3,
    "start_time": "2021-07-07T14:30:36.489Z"
   },
   {
    "duration": 103,
    "start_time": "2021-07-07T14:30:52.351Z"
   },
   {
    "duration": 8,
    "start_time": "2021-07-07T14:30:54.763Z"
   },
   {
    "duration": 8,
    "start_time": "2021-07-07T14:31:29.301Z"
   },
   {
    "duration": 13,
    "start_time": "2021-07-07T14:31:44.516Z"
   },
   {
    "duration": 7,
    "start_time": "2021-07-07T14:33:10.972Z"
   },
   {
    "duration": 11,
    "start_time": "2021-07-07T14:33:27.780Z"
   },
   {
    "duration": 8,
    "start_time": "2021-07-07T14:34:44.588Z"
   },
   {
    "duration": 57,
    "start_time": "2021-07-07T14:35:59.042Z"
   },
   {
    "duration": 3,
    "start_time": "2021-07-07T14:36:28.168Z"
   },
   {
    "duration": 5,
    "start_time": "2021-07-07T14:36:46.254Z"
   },
   {
    "duration": 4,
    "start_time": "2021-07-07T14:36:52.714Z"
   },
   {
    "duration": 3,
    "start_time": "2021-07-07T14:36:56.612Z"
   },
   {
    "duration": 4,
    "start_time": "2021-07-07T14:36:57.049Z"
   },
   {
    "duration": 3,
    "start_time": "2021-07-07T14:39:21.214Z"
   },
   {
    "duration": 7,
    "start_time": "2021-07-07T14:39:52.406Z"
   },
   {
    "duration": 11,
    "start_time": "2021-07-07T14:39:58.576Z"
   },
   {
    "duration": 9,
    "start_time": "2021-07-07T14:40:26.301Z"
   },
   {
    "duration": 10,
    "start_time": "2021-07-07T14:40:31.704Z"
   },
   {
    "duration": 11,
    "start_time": "2021-07-07T14:40:36.249Z"
   },
   {
    "duration": 10,
    "start_time": "2021-07-07T14:40:39.783Z"
   },
   {
    "duration": 9,
    "start_time": "2021-07-07T14:40:48.558Z"
   },
   {
    "duration": 10,
    "start_time": "2021-07-07T14:40:57.143Z"
   },
   {
    "duration": 9,
    "start_time": "2021-07-07T14:41:06.074Z"
   },
   {
    "duration": 4324,
    "start_time": "2021-07-07T14:41:22.004Z"
   },
   {
    "duration": 11,
    "start_time": "2021-07-07T14:41:33.392Z"
   },
   {
    "duration": 9,
    "start_time": "2021-07-07T14:41:39.288Z"
   },
   {
    "duration": 569,
    "start_time": "2021-07-07T14:42:14.387Z"
   },
   {
    "duration": 197,
    "start_time": "2021-07-07T14:42:14.959Z"
   },
   {
    "duration": 84,
    "start_time": "2021-07-07T14:42:16.052Z"
   },
   {
    "duration": 4,
    "start_time": "2021-07-07T14:42:16.900Z"
   },
   {
    "duration": 27,
    "start_time": "2021-07-07T14:42:19.898Z"
   },
   {
    "duration": 12,
    "start_time": "2021-07-07T14:42:21.577Z"
   },
   {
    "duration": 9,
    "start_time": "2021-07-07T14:42:21.813Z"
   },
   {
    "duration": 9,
    "start_time": "2021-07-07T14:42:22.569Z"
   },
   {
    "duration": 29,
    "start_time": "2021-07-07T14:42:25.837Z"
   },
   {
    "duration": 20,
    "start_time": "2021-07-07T14:42:27.003Z"
   },
   {
    "duration": 21,
    "start_time": "2021-07-07T14:42:28.767Z"
   },
   {
    "duration": 7,
    "start_time": "2021-07-07T14:42:29.838Z"
   },
   {
    "duration": 4,
    "start_time": "2021-07-07T14:43:25.493Z"
   },
   {
    "duration": 7,
    "start_time": "2021-07-07T14:43:26.573Z"
   },
   {
    "duration": 10,
    "start_time": "2021-07-07T14:43:31.639Z"
   },
   {
    "duration": 9,
    "start_time": "2021-07-07T14:43:32.046Z"
   },
   {
    "duration": 10,
    "start_time": "2021-07-07T14:43:33.301Z"
   },
   {
    "duration": 12,
    "start_time": "2021-07-07T14:43:33.658Z"
   },
   {
    "duration": 8,
    "start_time": "2021-07-07T14:43:34.552Z"
   },
   {
    "duration": 9,
    "start_time": "2021-07-07T14:43:35.058Z"
   },
   {
    "duration": 12,
    "start_time": "2021-07-07T14:43:35.914Z"
   },
   {
    "duration": 17,
    "start_time": "2021-07-07T14:45:34.368Z"
   },
   {
    "duration": 512,
    "start_time": "2021-07-07T14:51:58.236Z"
   },
   {
    "duration": 223,
    "start_time": "2021-07-07T14:51:58.750Z"
   },
   {
    "duration": 93,
    "start_time": "2021-07-07T14:51:58.977Z"
   },
   {
    "duration": 4,
    "start_time": "2021-07-07T14:51:59.071Z"
   },
   {
    "duration": 37,
    "start_time": "2021-07-07T14:51:59.077Z"
   },
   {
    "duration": 18,
    "start_time": "2021-07-07T14:51:59.116Z"
   },
   {
    "duration": 10,
    "start_time": "2021-07-07T14:51:59.137Z"
   },
   {
    "duration": 8,
    "start_time": "2021-07-07T14:51:59.149Z"
   },
   {
    "duration": 54,
    "start_time": "2021-07-07T14:51:59.158Z"
   },
   {
    "duration": 18,
    "start_time": "2021-07-07T14:51:59.213Z"
   },
   {
    "duration": 22,
    "start_time": "2021-07-07T14:51:59.232Z"
   },
   {
    "duration": 36,
    "start_time": "2021-07-07T14:51:59.255Z"
   },
   {
    "duration": 7,
    "start_time": "2021-07-07T14:51:59.293Z"
   },
   {
    "duration": 10,
    "start_time": "2021-07-07T14:51:59.302Z"
   },
   {
    "duration": 9,
    "start_time": "2021-07-07T14:51:59.313Z"
   },
   {
    "duration": 11,
    "start_time": "2021-07-07T14:51:59.324Z"
   },
   {
    "duration": 8,
    "start_time": "2021-07-07T14:51:59.337Z"
   },
   {
    "duration": 46,
    "start_time": "2021-07-07T14:51:59.347Z"
   },
   {
    "duration": 22,
    "start_time": "2021-07-07T14:51:59.395Z"
   },
   {
    "duration": 24,
    "start_time": "2021-07-07T14:57:32.911Z"
   },
   {
    "duration": 7,
    "start_time": "2021-07-07T14:58:22.070Z"
   },
   {
    "duration": 4,
    "start_time": "2021-07-07T14:59:11.239Z"
   },
   {
    "duration": 25,
    "start_time": "2021-07-07T15:07:22.208Z"
   },
   {
    "duration": 16,
    "start_time": "2021-07-07T15:08:25.560Z"
   },
   {
    "duration": 15,
    "start_time": "2021-07-07T15:08:40.647Z"
   },
   {
    "duration": 14,
    "start_time": "2021-07-07T15:08:46.669Z"
   },
   {
    "duration": 533,
    "start_time": "2021-07-07T15:18:07.440Z"
   },
   {
    "duration": 173,
    "start_time": "2021-07-07T15:18:07.974Z"
   },
   {
    "duration": 84,
    "start_time": "2021-07-07T15:18:08.149Z"
   },
   {
    "duration": 3,
    "start_time": "2021-07-07T15:18:08.235Z"
   },
   {
    "duration": 30,
    "start_time": "2021-07-07T15:18:08.240Z"
   },
   {
    "duration": 22,
    "start_time": "2021-07-07T15:18:08.272Z"
   },
   {
    "duration": 11,
    "start_time": "2021-07-07T15:18:08.295Z"
   },
   {
    "duration": 11,
    "start_time": "2021-07-07T15:18:08.309Z"
   },
   {
    "duration": 40,
    "start_time": "2021-07-07T15:18:08.322Z"
   },
   {
    "duration": 42,
    "start_time": "2021-07-07T15:18:08.364Z"
   },
   {
    "duration": 22,
    "start_time": "2021-07-07T15:18:08.408Z"
   },
   {
    "duration": 5,
    "start_time": "2021-07-07T15:18:08.432Z"
   },
   {
    "duration": 13,
    "start_time": "2021-07-07T15:18:08.439Z"
   },
   {
    "duration": 9,
    "start_time": "2021-07-07T15:18:08.454Z"
   },
   {
    "duration": 32,
    "start_time": "2021-07-07T15:18:08.465Z"
   },
   {
    "duration": 10,
    "start_time": "2021-07-07T15:18:08.501Z"
   },
   {
    "duration": 7,
    "start_time": "2021-07-07T15:18:08.513Z"
   },
   {
    "duration": 11,
    "start_time": "2021-07-07T15:18:08.521Z"
   },
   {
    "duration": 17,
    "start_time": "2021-07-07T15:18:08.534Z"
   },
   {
    "duration": 44,
    "start_time": "2021-07-07T15:18:08.553Z"
   },
   {
    "duration": 22,
    "start_time": "2021-07-07T15:18:08.599Z"
   },
   {
    "duration": 61,
    "start_time": "2021-07-07T15:18:08.622Z"
   },
   {
    "duration": 7,
    "start_time": "2021-07-07T15:18:39.457Z"
   },
   {
    "duration": 5,
    "start_time": "2021-07-07T16:05:17.020Z"
   },
   {
    "duration": 5,
    "start_time": "2021-07-07T16:51:28.794Z"
   },
   {
    "duration": 546,
    "start_time": "2021-07-07T16:52:26.306Z"
   },
   {
    "duration": 203,
    "start_time": "2021-07-07T16:52:27.523Z"
   },
   {
    "duration": 85,
    "start_time": "2021-07-07T16:52:27.736Z"
   },
   {
    "duration": 4,
    "start_time": "2021-07-07T16:52:27.899Z"
   },
   {
    "duration": 25,
    "start_time": "2021-07-07T16:52:28.674Z"
   },
   {
    "duration": 8,
    "start_time": "2021-07-07T16:52:32.956Z"
   },
   {
    "duration": 18,
    "start_time": "2021-07-07T16:52:35.616Z"
   },
   {
    "duration": 6,
    "start_time": "2021-07-07T16:52:36.913Z"
   },
   {
    "duration": 11,
    "start_time": "2021-07-07T16:52:40.258Z"
   },
   {
    "duration": 10,
    "start_time": "2021-07-07T16:52:46.251Z"
   },
   {
    "duration": 8,
    "start_time": "2021-07-07T16:52:47.182Z"
   },
   {
    "duration": 27,
    "start_time": "2021-07-07T16:53:20.391Z"
   },
   {
    "duration": 20,
    "start_time": "2021-07-07T16:53:22.022Z"
   },
   {
    "duration": 23,
    "start_time": "2021-07-07T16:53:23.690Z"
   },
   {
    "duration": 8,
    "start_time": "2021-07-07T16:53:24.261Z"
   },
   {
    "duration": 4,
    "start_time": "2021-07-07T16:53:38.733Z"
   },
   {
    "duration": 7,
    "start_time": "2021-07-07T16:53:40.445Z"
   },
   {
    "duration": 11,
    "start_time": "2021-07-07T16:53:41.348Z"
   },
   {
    "duration": 13,
    "start_time": "2021-07-07T16:53:45.250Z"
   },
   {
    "duration": 12,
    "start_time": "2021-07-07T16:53:45.467Z"
   },
   {
    "duration": 4,
    "start_time": "2021-07-07T16:55:32.704Z"
   },
   {
    "duration": 12,
    "start_time": "2021-07-07T16:55:49.012Z"
   },
   {
    "duration": 18,
    "start_time": "2021-07-07T16:55:49.547Z"
   },
   {
    "duration": 611,
    "start_time": "2021-07-07T16:58:35.156Z"
   },
   {
    "duration": 200,
    "start_time": "2021-07-07T16:58:35.770Z"
   },
   {
    "duration": 86,
    "start_time": "2021-07-07T16:58:35.972Z"
   },
   {
    "duration": 3,
    "start_time": "2021-07-07T16:58:36.060Z"
   },
   {
    "duration": 27,
    "start_time": "2021-07-07T16:58:36.065Z"
   },
   {
    "duration": 8,
    "start_time": "2021-07-07T16:58:36.094Z"
   },
   {
    "duration": 17,
    "start_time": "2021-07-07T16:58:36.103Z"
   },
   {
    "duration": 5,
    "start_time": "2021-07-07T16:58:36.123Z"
   },
   {
    "duration": 11,
    "start_time": "2021-07-07T16:58:36.130Z"
   },
   {
    "duration": 7,
    "start_time": "2021-07-07T16:58:36.143Z"
   },
   {
    "duration": 37,
    "start_time": "2021-07-07T16:58:36.152Z"
   },
   {
    "duration": 27,
    "start_time": "2021-07-07T16:58:36.191Z"
   },
   {
    "duration": 19,
    "start_time": "2021-07-07T16:58:36.219Z"
   },
   {
    "duration": 49,
    "start_time": "2021-07-07T16:58:36.240Z"
   },
   {
    "duration": 6,
    "start_time": "2021-07-07T16:58:36.291Z"
   },
   {
    "duration": 3,
    "start_time": "2021-07-07T16:58:36.299Z"
   },
   {
    "duration": 13,
    "start_time": "2021-07-07T16:58:36.304Z"
   },
   {
    "duration": 10,
    "start_time": "2021-07-07T16:58:36.319Z"
   },
   {
    "duration": 10,
    "start_time": "2021-07-07T16:58:36.331Z"
   },
   {
    "duration": 44,
    "start_time": "2021-07-07T16:58:36.343Z"
   },
   {
    "duration": 4,
    "start_time": "2021-07-07T16:58:36.388Z"
   },
   {
    "duration": 13,
    "start_time": "2021-07-07T16:58:36.394Z"
   },
   {
    "duration": 16,
    "start_time": "2021-07-07T16:58:36.410Z"
   },
   {
    "duration": 8,
    "start_time": "2021-07-07T17:02:31.629Z"
   },
   {
    "duration": 8,
    "start_time": "2021-07-07T17:02:34.308Z"
   },
   {
    "duration": 6,
    "start_time": "2021-07-07T17:05:13.483Z"
   },
   {
    "duration": 17,
    "start_time": "2021-07-07T17:05:20.606Z"
   },
   {
    "duration": 7,
    "start_time": "2021-07-07T17:05:34.638Z"
   },
   {
    "duration": 3,
    "start_time": "2021-07-07T17:06:31.883Z"
   },
   {
    "duration": 570,
    "start_time": "2021-07-07T17:06:37.165Z"
   },
   {
    "duration": 174,
    "start_time": "2021-07-07T17:06:37.737Z"
   },
   {
    "duration": 47,
    "start_time": "2021-07-07T17:06:37.913Z"
   },
   {
    "duration": 3,
    "start_time": "2021-07-07T17:06:37.962Z"
   },
   {
    "duration": 27,
    "start_time": "2021-07-07T17:06:37.967Z"
   },
   {
    "duration": 7,
    "start_time": "2021-07-07T17:06:37.996Z"
   },
   {
    "duration": 16,
    "start_time": "2021-07-07T17:06:38.005Z"
   },
   {
    "duration": 6,
    "start_time": "2021-07-07T17:06:38.024Z"
   },
   {
    "duration": 12,
    "start_time": "2021-07-07T17:06:38.031Z"
   },
   {
    "duration": 41,
    "start_time": "2021-07-07T17:06:38.045Z"
   },
   {
    "duration": 8,
    "start_time": "2021-07-07T17:06:38.088Z"
   },
   {
    "duration": 26,
    "start_time": "2021-07-07T17:06:38.098Z"
   },
   {
    "duration": 17,
    "start_time": "2021-07-07T17:06:38.126Z"
   },
   {
    "duration": 43,
    "start_time": "2021-07-07T17:06:38.144Z"
   },
   {
    "duration": 6,
    "start_time": "2021-07-07T17:06:38.188Z"
   },
   {
    "duration": 5,
    "start_time": "2021-07-07T17:06:38.195Z"
   },
   {
    "duration": 9,
    "start_time": "2021-07-07T17:06:38.201Z"
   },
   {
    "duration": 12,
    "start_time": "2021-07-07T17:06:38.212Z"
   },
   {
    "duration": 11,
    "start_time": "2021-07-07T17:06:38.226Z"
   },
   {
    "duration": 47,
    "start_time": "2021-07-07T17:06:38.239Z"
   },
   {
    "duration": 4,
    "start_time": "2021-07-07T17:06:38.288Z"
   },
   {
    "duration": 13,
    "start_time": "2021-07-07T17:06:38.293Z"
   },
   {
    "duration": 5,
    "start_time": "2021-07-07T17:06:38.309Z"
   },
   {
    "duration": 18,
    "start_time": "2021-07-07T17:06:38.325Z"
   },
   {
    "duration": 20,
    "start_time": "2021-07-07T17:07:02.805Z"
   },
   {
    "duration": 19,
    "start_time": "2021-07-07T17:07:08.527Z"
   },
   {
    "duration": 19,
    "start_time": "2021-07-07T17:07:12.758Z"
   },
   {
    "duration": 22,
    "start_time": "2021-07-07T17:07:17.497Z"
   },
   {
    "duration": 19,
    "start_time": "2021-07-07T17:07:19.645Z"
   },
   {
    "duration": 10,
    "start_time": "2021-07-07T17:07:34.239Z"
   },
   {
    "duration": 17,
    "start_time": "2021-07-07T17:07:54.144Z"
   },
   {
    "duration": 14,
    "start_time": "2021-07-07T17:08:14.357Z"
   },
   {
    "duration": 616,
    "start_time": "2021-07-07T17:08:45.254Z"
   },
   {
    "duration": 178,
    "start_time": "2021-07-07T17:08:45.872Z"
   },
   {
    "duration": 60,
    "start_time": "2021-07-07T17:08:46.054Z"
   },
   {
    "duration": 3,
    "start_time": "2021-07-07T17:08:46.116Z"
   },
   {
    "duration": 26,
    "start_time": "2021-07-07T17:08:46.121Z"
   },
   {
    "duration": 7,
    "start_time": "2021-07-07T17:08:46.149Z"
   },
   {
    "duration": 17,
    "start_time": "2021-07-07T17:08:46.158Z"
   },
   {
    "duration": 14,
    "start_time": "2021-07-07T17:08:46.176Z"
   },
   {
    "duration": 17,
    "start_time": "2021-07-07T17:08:46.193Z"
   },
   {
    "duration": 9,
    "start_time": "2021-07-07T17:08:46.211Z"
   },
   {
    "duration": 21,
    "start_time": "2021-07-07T17:08:46.221Z"
   },
   {
    "duration": 49,
    "start_time": "2021-07-07T17:08:46.244Z"
   },
   {
    "duration": 24,
    "start_time": "2021-07-07T17:08:46.295Z"
   },
   {
    "duration": 22,
    "start_time": "2021-07-07T17:08:46.321Z"
   },
   {
    "duration": 6,
    "start_time": "2021-07-07T17:08:46.345Z"
   },
   {
    "duration": 5,
    "start_time": "2021-07-07T17:08:46.353Z"
   },
   {
    "duration": 13,
    "start_time": "2021-07-07T17:08:46.386Z"
   },
   {
    "duration": 12,
    "start_time": "2021-07-07T17:08:46.402Z"
   },
   {
    "duration": 10,
    "start_time": "2021-07-07T17:08:46.415Z"
   },
   {
    "duration": 7,
    "start_time": "2021-07-07T17:08:46.427Z"
   },
   {
    "duration": 8,
    "start_time": "2021-07-07T17:08:46.435Z"
   },
   {
    "duration": 68,
    "start_time": "2021-07-07T17:08:46.446Z"
   },
   {
    "duration": 13,
    "start_time": "2021-07-07T17:08:46.516Z"
   },
   {
    "duration": 78,
    "start_time": "2021-07-07T17:08:46.530Z"
   },
   {
    "duration": 40,
    "start_time": "2021-07-07T17:09:08.185Z"
   },
   {
    "duration": 16,
    "start_time": "2021-07-07T17:09:19.324Z"
   },
   {
    "duration": 21,
    "start_time": "2021-07-07T17:09:23.290Z"
   },
   {
    "duration": 13,
    "start_time": "2021-07-07T17:09:54.812Z"
   },
   {
    "duration": 13,
    "start_time": "2021-07-07T17:10:02.039Z"
   },
   {
    "duration": 10,
    "start_time": "2021-07-07T17:10:29.632Z"
   },
   {
    "duration": 13,
    "start_time": "2021-07-07T17:10:52.372Z"
   },
   {
    "duration": 13,
    "start_time": "2021-07-07T17:11:17.270Z"
   },
   {
    "duration": 13,
    "start_time": "2021-07-07T17:14:59.284Z"
   },
   {
    "duration": 547,
    "start_time": "2021-07-07T17:18:52.403Z"
   },
   {
    "duration": 163,
    "start_time": "2021-07-07T17:18:52.952Z"
   },
   {
    "duration": 44,
    "start_time": "2021-07-07T17:18:53.117Z"
   },
   {
    "duration": 3,
    "start_time": "2021-07-07T17:18:53.162Z"
   },
   {
    "duration": 26,
    "start_time": "2021-07-07T17:18:53.167Z"
   },
   {
    "duration": 6,
    "start_time": "2021-07-07T17:18:53.195Z"
   },
   {
    "duration": 15,
    "start_time": "2021-07-07T17:18:53.203Z"
   },
   {
    "duration": 5,
    "start_time": "2021-07-07T17:18:53.220Z"
   },
   {
    "duration": 11,
    "start_time": "2021-07-07T17:18:53.228Z"
   },
   {
    "duration": 9,
    "start_time": "2021-07-07T17:18:53.241Z"
   },
   {
    "duration": 41,
    "start_time": "2021-07-07T17:18:53.252Z"
   },
   {
    "duration": 33,
    "start_time": "2021-07-07T17:18:53.295Z"
   },
   {
    "duration": 19,
    "start_time": "2021-07-07T17:18:53.330Z"
   },
   {
    "duration": 49,
    "start_time": "2021-07-07T17:18:53.350Z"
   },
   {
    "duration": 5,
    "start_time": "2021-07-07T17:18:53.401Z"
   },
   {
    "duration": 5,
    "start_time": "2021-07-07T17:18:53.408Z"
   },
   {
    "duration": 11,
    "start_time": "2021-07-07T17:18:53.414Z"
   },
   {
    "duration": 9,
    "start_time": "2021-07-07T17:18:53.427Z"
   },
   {
    "duration": 10,
    "start_time": "2021-07-07T17:18:53.437Z"
   },
   {
    "duration": 39,
    "start_time": "2021-07-07T17:18:53.448Z"
   },
   {
    "duration": 26,
    "start_time": "2021-07-07T17:18:55.799Z"
   },
   {
    "duration": 598,
    "start_time": "2021-07-07T17:20:17.862Z"
   },
   {
    "duration": 161,
    "start_time": "2021-07-07T17:20:18.462Z"
   },
   {
    "duration": 45,
    "start_time": "2021-07-07T17:20:18.626Z"
   },
   {
    "duration": 4,
    "start_time": "2021-07-07T17:20:18.673Z"
   },
   {
    "duration": 38,
    "start_time": "2021-07-07T17:20:26.877Z"
   },
   {
    "duration": 7,
    "start_time": "2021-07-07T17:20:37.405Z"
   },
   {
    "duration": 19,
    "start_time": "2021-07-07T17:20:51.534Z"
   },
   {
    "duration": 5,
    "start_time": "2021-07-07T17:20:57.228Z"
   },
   {
    "duration": 7,
    "start_time": "2021-07-07T17:21:08.235Z"
   },
   {
    "duration": 19,
    "start_time": "2021-07-07T17:21:42.158Z"
   },
   {
    "duration": 14,
    "start_time": "2021-07-07T17:21:50.225Z"
   },
   {
    "duration": 22,
    "start_time": "2021-07-07T17:22:54.104Z"
   },
   {
    "duration": 5,
    "start_time": "2021-07-07T17:22:56.371Z"
   },
   {
    "duration": 14,
    "start_time": "2021-07-07T17:22:58.316Z"
   },
   {
    "duration": 5,
    "start_time": "2021-07-07T17:22:58.493Z"
   },
   {
    "duration": 35,
    "start_time": "2021-07-07T17:22:59.666Z"
   },
   {
    "duration": 6,
    "start_time": "2021-07-07T17:23:02.410Z"
   },
   {
    "duration": 611,
    "start_time": "2021-07-07T17:24:59.664Z"
   },
   {
    "duration": 178,
    "start_time": "2021-07-07T17:25:01.945Z"
   },
   {
    "duration": 47,
    "start_time": "2021-07-07T17:25:02.125Z"
   },
   {
    "duration": 2,
    "start_time": "2021-07-07T17:25:07.903Z"
   },
   {
    "duration": 254,
    "start_time": "2021-07-07T17:25:08.232Z"
   },
   {
    "duration": 182,
    "start_time": "2021-07-07T17:25:08.671Z"
   },
   {
    "duration": 6,
    "start_time": "2021-07-07T17:25:13.104Z"
   },
   {
    "duration": 36,
    "start_time": "2021-07-07T17:25:13.662Z"
   },
   {
    "duration": 7,
    "start_time": "2021-07-07T17:25:14.528Z"
   },
   {
    "duration": 24,
    "start_time": "2021-07-07T17:25:27.982Z"
   },
   {
    "duration": 3,
    "start_time": "2021-07-07T17:25:48.982Z"
   },
   {
    "duration": 165,
    "start_time": "2021-07-07T17:25:48.987Z"
   },
   {
    "duration": 50,
    "start_time": "2021-07-07T17:25:49.154Z"
   },
   {
    "duration": 4,
    "start_time": "2021-07-07T17:25:49.206Z"
   },
   {
    "duration": 26,
    "start_time": "2021-07-07T17:25:49.212Z"
   },
   {
    "duration": 7,
    "start_time": "2021-07-07T17:25:49.240Z"
   },
   {
    "duration": 16,
    "start_time": "2021-07-07T17:25:49.249Z"
   },
   {
    "duration": 22,
    "start_time": "2021-07-07T17:25:49.266Z"
   },
   {
    "duration": 16,
    "start_time": "2021-07-07T17:25:49.291Z"
   },
   {
    "duration": 9,
    "start_time": "2021-07-07T17:25:49.309Z"
   },
   {
    "duration": 7,
    "start_time": "2021-07-07T17:25:49.319Z"
   },
   {
    "duration": 28,
    "start_time": "2021-07-07T17:25:49.328Z"
   },
   {
    "duration": 44,
    "start_time": "2021-07-07T17:25:49.357Z"
   },
   {
    "duration": 22,
    "start_time": "2021-07-07T17:25:49.403Z"
   },
   {
    "duration": 7,
    "start_time": "2021-07-07T17:25:49.427Z"
   },
   {
    "duration": 3,
    "start_time": "2021-07-07T17:25:49.436Z"
   },
   {
    "duration": 44,
    "start_time": "2021-07-07T17:25:49.441Z"
   },
   {
    "duration": 12,
    "start_time": "2021-07-07T17:25:49.488Z"
   },
   {
    "duration": 13,
    "start_time": "2021-07-07T17:25:49.502Z"
   },
   {
    "duration": 10,
    "start_time": "2021-07-07T17:25:49.516Z"
   },
   {
    "duration": 62,
    "start_time": "2021-07-07T17:25:49.527Z"
   },
   {
    "duration": 26,
    "start_time": "2021-07-07T17:26:51.809Z"
   },
   {
    "duration": 26,
    "start_time": "2021-07-07T17:26:55.759Z"
   },
   {
    "duration": 26,
    "start_time": "2021-07-07T17:27:04.501Z"
   },
   {
    "duration": 25,
    "start_time": "2021-07-07T17:28:24.859Z"
   },
   {
    "duration": 21,
    "start_time": "2021-07-07T17:28:55.250Z"
   },
   {
    "duration": 21,
    "start_time": "2021-07-07T17:28:58.885Z"
   },
   {
    "duration": 7,
    "start_time": "2021-07-07T17:45:40.972Z"
   },
   {
    "duration": 13,
    "start_time": "2021-07-07T17:45:42.529Z"
   },
   {
    "duration": 27,
    "start_time": "2021-07-07T17:45:51.026Z"
   },
   {
    "duration": 518,
    "start_time": "2021-07-07T17:46:15.532Z"
   },
   {
    "duration": 235,
    "start_time": "2021-07-07T17:46:16.053Z"
   },
   {
    "duration": 80,
    "start_time": "2021-07-07T17:46:16.292Z"
   },
   {
    "duration": 5,
    "start_time": "2021-07-07T17:46:16.373Z"
   },
   {
    "duration": 26,
    "start_time": "2021-07-07T17:46:16.380Z"
   },
   {
    "duration": 7,
    "start_time": "2021-07-07T17:46:16.408Z"
   },
   {
    "duration": 16,
    "start_time": "2021-07-07T17:46:16.418Z"
   },
   {
    "duration": 5,
    "start_time": "2021-07-07T17:46:16.436Z"
   },
   {
    "duration": 13,
    "start_time": "2021-07-07T17:46:16.442Z"
   },
   {
    "duration": 35,
    "start_time": "2021-07-07T17:46:16.456Z"
   },
   {
    "duration": 8,
    "start_time": "2021-07-07T17:46:16.493Z"
   },
   {
    "duration": 28,
    "start_time": "2021-07-07T17:46:16.502Z"
   },
   {
    "duration": 17,
    "start_time": "2021-07-07T17:46:16.532Z"
   },
   {
    "duration": 44,
    "start_time": "2021-07-07T17:46:16.551Z"
   },
   {
    "duration": 6,
    "start_time": "2021-07-07T17:46:16.597Z"
   },
   {
    "duration": 4,
    "start_time": "2021-07-07T17:46:16.605Z"
   },
   {
    "duration": 9,
    "start_time": "2021-07-07T17:46:16.610Z"
   },
   {
    "duration": 9,
    "start_time": "2021-07-07T17:46:16.621Z"
   },
   {
    "duration": 10,
    "start_time": "2021-07-07T17:46:16.632Z"
   },
   {
    "duration": 43,
    "start_time": "2021-07-07T17:46:16.644Z"
   },
   {
    "duration": 26,
    "start_time": "2021-07-07T17:46:16.689Z"
   },
   {
    "duration": 19,
    "start_time": "2021-07-07T17:46:16.718Z"
   },
   {
    "duration": 8,
    "start_time": "2021-07-07T17:46:16.738Z"
   },
   {
    "duration": 43,
    "start_time": "2021-07-07T17:46:16.747Z"
   },
   {
    "duration": 19,
    "start_time": "2021-07-07T17:46:16.791Z"
   },
   {
    "duration": 9,
    "start_time": "2021-07-07T17:46:16.812Z"
   },
   {
    "duration": 60,
    "start_time": "2021-07-07T17:46:16.822Z"
   },
   {
    "duration": -8,
    "start_time": "2021-07-07T17:46:16.892Z"
   },
   {
    "duration": 12,
    "start_time": "2021-07-07T17:48:47.707Z"
   },
   {
    "duration": 553,
    "start_time": "2021-07-07T18:10:09.350Z"
   },
   {
    "duration": 230,
    "start_time": "2021-07-07T18:10:09.905Z"
   },
   {
    "duration": 97,
    "start_time": "2021-07-07T18:10:10.137Z"
   },
   {
    "duration": 5,
    "start_time": "2021-07-07T18:10:10.236Z"
   },
   {
    "duration": 29,
    "start_time": "2021-07-07T18:10:10.242Z"
   },
   {
    "duration": 7,
    "start_time": "2021-07-07T18:10:10.272Z"
   },
   {
    "duration": 15,
    "start_time": "2021-07-07T18:10:10.281Z"
   },
   {
    "duration": 4,
    "start_time": "2021-07-07T18:10:10.299Z"
   },
   {
    "duration": 14,
    "start_time": "2021-07-07T18:10:10.305Z"
   },
   {
    "duration": 8,
    "start_time": "2021-07-07T18:10:10.321Z"
   },
   {
    "duration": 8,
    "start_time": "2021-07-07T18:10:10.331Z"
   },
   {
    "duration": 56,
    "start_time": "2021-07-07T18:10:10.341Z"
   },
   {
    "duration": 19,
    "start_time": "2021-07-07T18:10:10.399Z"
   },
   {
    "duration": 23,
    "start_time": "2021-07-07T18:10:10.419Z"
   },
   {
    "duration": 6,
    "start_time": "2021-07-07T18:10:10.444Z"
   },
   {
    "duration": 9,
    "start_time": "2021-07-07T18:10:10.451Z"
   },
   {
    "duration": 30,
    "start_time": "2021-07-07T18:10:10.462Z"
   },
   {
    "duration": 9,
    "start_time": "2021-07-07T18:10:10.494Z"
   },
   {
    "duration": 14,
    "start_time": "2021-07-07T18:10:10.505Z"
   },
   {
    "duration": 7,
    "start_time": "2021-07-07T18:10:10.521Z"
   },
   {
    "duration": 26,
    "start_time": "2021-07-07T18:10:10.530Z"
   },
   {
    "duration": 44,
    "start_time": "2021-07-07T18:10:10.558Z"
   },
   {
    "duration": 7,
    "start_time": "2021-07-07T18:10:10.605Z"
   },
   {
    "duration": 11,
    "start_time": "2021-07-07T18:10:10.614Z"
   },
   {
    "duration": 19,
    "start_time": "2021-07-07T18:10:10.626Z"
   },
   {
    "duration": 44,
    "start_time": "2021-07-07T18:10:10.646Z"
   },
   {
    "duration": 516,
    "start_time": "2021-07-07T18:14:00.826Z"
   },
   {
    "duration": 230,
    "start_time": "2021-07-07T18:14:01.344Z"
   },
   {
    "duration": 105,
    "start_time": "2021-07-07T18:14:01.576Z"
   },
   {
    "duration": 5,
    "start_time": "2021-07-07T18:14:01.683Z"
   },
   {
    "duration": 46,
    "start_time": "2021-07-07T18:14:01.690Z"
   },
   {
    "duration": 7,
    "start_time": "2021-07-07T18:14:01.738Z"
   },
   {
    "duration": 20,
    "start_time": "2021-07-07T18:14:01.747Z"
   },
   {
    "duration": 16,
    "start_time": "2021-07-07T18:14:01.769Z"
   },
   {
    "duration": 14,
    "start_time": "2021-07-07T18:14:01.787Z"
   },
   {
    "duration": 15,
    "start_time": "2021-07-07T18:14:01.803Z"
   },
   {
    "duration": 12,
    "start_time": "2021-07-07T18:14:01.820Z"
   },
   {
    "duration": 35,
    "start_time": "2021-07-07T18:14:01.833Z"
   },
   {
    "duration": 31,
    "start_time": "2021-07-07T18:14:01.869Z"
   },
   {
    "duration": 37,
    "start_time": "2021-07-07T18:14:01.902Z"
   },
   {
    "duration": 8,
    "start_time": "2021-07-07T18:14:01.942Z"
   },
   {
    "duration": 16,
    "start_time": "2021-07-07T18:14:01.952Z"
   },
   {
    "duration": 13,
    "start_time": "2021-07-07T18:14:01.970Z"
   },
   {
    "duration": 32,
    "start_time": "2021-07-07T18:14:01.985Z"
   },
   {
    "duration": 11,
    "start_time": "2021-07-07T18:14:02.019Z"
   },
   {
    "duration": 22,
    "start_time": "2021-07-07T18:14:02.031Z"
   },
   {
    "duration": 27,
    "start_time": "2021-07-07T18:14:02.055Z"
   },
   {
    "duration": 18,
    "start_time": "2021-07-07T18:14:02.084Z"
   },
   {
    "duration": 18,
    "start_time": "2021-07-07T18:14:02.106Z"
   },
   {
    "duration": 11,
    "start_time": "2021-07-07T18:14:02.126Z"
   },
   {
    "duration": 21,
    "start_time": "2021-07-07T18:14:02.138Z"
   },
   {
    "duration": 32,
    "start_time": "2021-07-07T18:14:02.161Z"
   },
   {
    "duration": 28,
    "start_time": "2021-07-07T18:14:44.295Z"
   },
   {
    "duration": 6,
    "start_time": "2021-07-07T18:15:05.834Z"
   },
   {
    "duration": 511,
    "start_time": "2021-07-07T18:15:41.541Z"
   },
   {
    "duration": 183,
    "start_time": "2021-07-07T18:15:42.054Z"
   },
   {
    "duration": 50,
    "start_time": "2021-07-07T18:15:42.239Z"
   },
   {
    "duration": 5,
    "start_time": "2021-07-07T18:15:42.291Z"
   },
   {
    "duration": 48,
    "start_time": "2021-07-07T18:15:42.297Z"
   },
   {
    "duration": 8,
    "start_time": "2021-07-07T18:15:42.346Z"
   },
   {
    "duration": 17,
    "start_time": "2021-07-07T18:15:42.356Z"
   },
   {
    "duration": 15,
    "start_time": "2021-07-07T18:15:42.375Z"
   },
   {
    "duration": 12,
    "start_time": "2021-07-07T18:15:42.392Z"
   },
   {
    "duration": 7,
    "start_time": "2021-07-07T18:15:42.406Z"
   },
   {
    "duration": 7,
    "start_time": "2021-07-07T18:15:42.415Z"
   },
   {
    "duration": 29,
    "start_time": "2021-07-07T18:15:42.423Z"
   },
   {
    "duration": 43,
    "start_time": "2021-07-07T18:15:42.453Z"
   },
   {
    "duration": 18,
    "start_time": "2021-07-07T18:15:42.497Z"
   },
   {
    "duration": 6,
    "start_time": "2021-07-07T18:15:42.516Z"
   },
   {
    "duration": 3,
    "start_time": "2021-07-07T18:15:42.523Z"
   },
   {
    "duration": 18,
    "start_time": "2021-07-07T18:15:42.528Z"
   },
   {
    "duration": 10,
    "start_time": "2021-07-07T18:15:42.547Z"
   },
   {
    "duration": 36,
    "start_time": "2021-07-07T18:15:42.559Z"
   },
   {
    "duration": 8,
    "start_time": "2021-07-07T18:15:42.597Z"
   },
   {
    "duration": 28,
    "start_time": "2021-07-07T18:15:42.606Z"
   },
   {
    "duration": 52,
    "start_time": "2021-07-07T18:15:42.635Z"
   },
   {
    "duration": 7,
    "start_time": "2021-07-07T18:15:42.690Z"
   },
   {
    "duration": 10,
    "start_time": "2021-07-07T18:15:42.699Z"
   },
   {
    "duration": 19,
    "start_time": "2021-07-07T18:15:42.711Z"
   },
   {
    "duration": 9,
    "start_time": "2021-07-07T18:15:42.732Z"
   },
   {
    "duration": 5,
    "start_time": "2021-07-07T18:15:42.743Z"
   },
   {
    "duration": 1450,
    "start_time": "2021-07-07T18:15:51.984Z"
   },
   {
    "duration": 161,
    "start_time": "2021-07-07T18:15:53.435Z"
   },
   {
    "duration": 124,
    "start_time": "2021-07-07T18:15:53.598Z"
   },
   {
    "duration": 5,
    "start_time": "2021-07-07T18:15:53.724Z"
   },
   {
    "duration": 34,
    "start_time": "2021-07-07T18:15:53.730Z"
   },
   {
    "duration": 7,
    "start_time": "2021-07-07T18:15:53.765Z"
   },
   {
    "duration": 15,
    "start_time": "2021-07-07T18:15:53.773Z"
   },
   {
    "duration": 5,
    "start_time": "2021-07-07T18:15:53.791Z"
   },
   {
    "duration": 19,
    "start_time": "2021-07-07T18:15:53.798Z"
   },
   {
    "duration": 9,
    "start_time": "2021-07-07T18:15:53.818Z"
   },
   {
    "duration": 19,
    "start_time": "2021-07-07T18:15:53.828Z"
   },
   {
    "duration": 27,
    "start_time": "2021-07-07T18:15:53.848Z"
   },
   {
    "duration": 16,
    "start_time": "2021-07-07T18:15:53.884Z"
   },
   {
    "duration": 29,
    "start_time": "2021-07-07T18:15:53.901Z"
   },
   {
    "duration": 5,
    "start_time": "2021-07-07T18:15:53.932Z"
   },
   {
    "duration": 15,
    "start_time": "2021-07-07T18:15:53.939Z"
   },
   {
    "duration": 13,
    "start_time": "2021-07-07T18:15:53.956Z"
   },
   {
    "duration": 20,
    "start_time": "2021-07-07T18:15:53.971Z"
   },
   {
    "duration": 14,
    "start_time": "2021-07-07T18:15:53.992Z"
   },
   {
    "duration": 9,
    "start_time": "2021-07-07T18:15:54.009Z"
   },
   {
    "duration": 28,
    "start_time": "2021-07-07T18:15:54.020Z"
   },
   {
    "duration": 50,
    "start_time": "2021-07-07T18:15:54.051Z"
   },
   {
    "duration": 8,
    "start_time": "2021-07-07T18:15:54.105Z"
   },
   {
    "duration": 11,
    "start_time": "2021-07-07T18:15:54.115Z"
   },
   {
    "duration": 20,
    "start_time": "2021-07-07T18:15:54.128Z"
   },
   {
    "duration": 13,
    "start_time": "2021-07-07T18:15:54.184Z"
   },
   {
    "duration": 7,
    "start_time": "2021-07-07T18:15:54.199Z"
   },
   {
    "duration": 7,
    "start_time": "2021-07-07T18:17:08.042Z"
   },
   {
    "duration": 8,
    "start_time": "2021-07-07T18:17:21.008Z"
   },
   {
    "duration": 7,
    "start_time": "2021-07-07T18:17:29.003Z"
   },
   {
    "duration": 8,
    "start_time": "2021-07-07T18:17:32.492Z"
   },
   {
    "duration": 9,
    "start_time": "2021-07-07T18:17:41.758Z"
   },
   {
    "duration": 255,
    "start_time": "2021-07-07T18:20:20.897Z"
   },
   {
    "duration": 173,
    "start_time": "2021-07-07T18:20:26.636Z"
   },
   {
    "duration": 7,
    "start_time": "2021-07-07T18:21:47.164Z"
   },
   {
    "duration": 254,
    "start_time": "2021-07-07T18:23:08.703Z"
   },
   {
    "duration": 21,
    "start_time": "2021-07-07T18:23:22.506Z"
   },
   {
    "duration": 315,
    "start_time": "2021-07-07T18:25:54.801Z"
   },
   {
    "duration": 34,
    "start_time": "2021-07-07T18:26:51.817Z"
   },
   {
    "duration": 327,
    "start_time": "2021-07-07T18:26:56.147Z"
   },
   {
    "duration": 342,
    "start_time": "2021-07-07T18:27:15.887Z"
   },
   {
    "duration": 302,
    "start_time": "2021-07-07T18:28:18.569Z"
   },
   {
    "duration": 226,
    "start_time": "2021-07-07T18:29:20.879Z"
   },
   {
    "duration": 207,
    "start_time": "2021-07-07T18:29:58.114Z"
   },
   {
    "duration": 140,
    "start_time": "2021-07-07T18:32:04.372Z"
   },
   {
    "duration": 158,
    "start_time": "2021-07-07T18:32:32.508Z"
   },
   {
    "duration": 145,
    "start_time": "2021-07-07T18:32:41.365Z"
   },
   {
    "duration": 132,
    "start_time": "2021-07-07T18:32:45.199Z"
   },
   {
    "duration": 11,
    "start_time": "2021-07-07T18:35:24.679Z"
   },
   {
    "duration": 268,
    "start_time": "2021-07-07T18:36:16.145Z"
   },
   {
    "duration": 227,
    "start_time": "2021-07-07T18:37:04.918Z"
   },
   {
    "duration": 3,
    "start_time": "2021-07-07T18:37:33.012Z"
   },
   {
    "duration": 671,
    "start_time": "2021-07-07T18:37:38.295Z"
   },
   {
    "duration": 54,
    "start_time": "2021-07-07T18:37:53.406Z"
   },
   {
    "duration": 631,
    "start_time": "2021-07-07T18:37:56.463Z"
   },
   {
    "duration": 19,
    "start_time": "2021-07-07T18:39:40.535Z"
   },
   {
    "duration": 20,
    "start_time": "2021-07-07T18:40:12.236Z"
   },
   {
    "duration": 633,
    "start_time": "2021-07-07T18:42:00.398Z"
   },
   {
    "duration": 218,
    "start_time": "2021-07-07T18:42:01.033Z"
   },
   {
    "duration": 49,
    "start_time": "2021-07-07T18:42:01.253Z"
   },
   {
    "duration": 5,
    "start_time": "2021-07-07T18:42:01.303Z"
   },
   {
    "duration": 27,
    "start_time": "2021-07-07T18:42:01.310Z"
   },
   {
    "duration": 8,
    "start_time": "2021-07-07T18:42:01.339Z"
   },
   {
    "duration": 20,
    "start_time": "2021-07-07T18:42:01.348Z"
   },
   {
    "duration": 6,
    "start_time": "2021-07-07T18:42:01.386Z"
   },
   {
    "duration": 16,
    "start_time": "2021-07-07T18:42:01.394Z"
   },
   {
    "duration": 9,
    "start_time": "2021-07-07T18:42:01.411Z"
   },
   {
    "duration": 11,
    "start_time": "2021-07-07T18:42:01.421Z"
   },
   {
    "duration": 31,
    "start_time": "2021-07-07T18:42:01.434Z"
   },
   {
    "duration": 18,
    "start_time": "2021-07-07T18:42:01.485Z"
   },
   {
    "duration": 23,
    "start_time": "2021-07-07T18:42:01.505Z"
   },
   {
    "duration": 6,
    "start_time": "2021-07-07T18:42:01.530Z"
   },
   {
    "duration": 10,
    "start_time": "2021-07-07T18:42:01.538Z"
   },
   {
    "duration": 13,
    "start_time": "2021-07-07T18:42:01.550Z"
   },
   {
    "duration": 24,
    "start_time": "2021-07-07T18:42:01.564Z"
   },
   {
    "duration": 20,
    "start_time": "2021-07-07T18:42:01.590Z"
   },
   {
    "duration": 8,
    "start_time": "2021-07-07T18:42:01.611Z"
   },
   {
    "duration": 31,
    "start_time": "2021-07-07T18:42:01.620Z"
   },
   {
    "duration": 39,
    "start_time": "2021-07-07T18:42:01.653Z"
   },
   {
    "duration": 8,
    "start_time": "2021-07-07T18:42:01.696Z"
   },
   {
    "duration": 13,
    "start_time": "2021-07-07T18:42:01.705Z"
   },
   {
    "duration": 20,
    "start_time": "2021-07-07T18:42:01.720Z"
   },
   {
    "duration": 12,
    "start_time": "2021-07-07T18:42:01.741Z"
   },
   {
    "duration": 35,
    "start_time": "2021-07-07T18:42:01.755Z"
   },
   {
    "duration": 14,
    "start_time": "2021-07-07T18:42:01.792Z"
   },
   {
    "duration": 188,
    "start_time": "2021-07-07T18:42:01.808Z"
   },
   {
    "duration": 19,
    "start_time": "2021-07-07T18:42:01.998Z"
   },
   {
    "duration": 175,
    "start_time": "2021-07-07T18:42:02.019Z"
   },
   {
    "duration": 134,
    "start_time": "2021-07-07T18:42:02.196Z"
   },
   {
    "duration": 10,
    "start_time": "2021-07-07T18:42:02.331Z"
   },
   {
    "duration": 19,
    "start_time": "2021-07-07T18:42:02.343Z"
   },
   {
    "duration": 628,
    "start_time": "2021-07-07T18:46:30.701Z"
   },
   {
    "duration": 183,
    "start_time": "2021-07-07T18:46:31.331Z"
   },
   {
    "duration": 48,
    "start_time": "2021-07-07T18:46:31.516Z"
   },
   {
    "duration": 5,
    "start_time": "2021-07-07T18:46:31.566Z"
   },
   {
    "duration": 28,
    "start_time": "2021-07-07T18:46:31.572Z"
   },
   {
    "duration": 8,
    "start_time": "2021-07-07T18:46:31.602Z"
   },
   {
    "duration": 19,
    "start_time": "2021-07-07T18:46:31.611Z"
   },
   {
    "duration": 6,
    "start_time": "2021-07-07T18:46:31.633Z"
   },
   {
    "duration": 17,
    "start_time": "2021-07-07T18:46:31.642Z"
   },
   {
    "duration": 10,
    "start_time": "2021-07-07T18:46:31.684Z"
   },
   {
    "duration": 9,
    "start_time": "2021-07-07T18:46:31.695Z"
   },
   {
    "duration": 28,
    "start_time": "2021-07-07T18:46:31.705Z"
   },
   {
    "duration": 18,
    "start_time": "2021-07-07T18:46:31.735Z"
   },
   {
    "duration": 48,
    "start_time": "2021-07-07T18:46:31.755Z"
   },
   {
    "duration": 6,
    "start_time": "2021-07-07T18:46:31.804Z"
   },
   {
    "duration": 4,
    "start_time": "2021-07-07T18:46:31.812Z"
   },
   {
    "duration": 9,
    "start_time": "2021-07-07T18:46:31.817Z"
   },
   {
    "duration": 10,
    "start_time": "2021-07-07T18:46:31.827Z"
   },
   {
    "duration": 12,
    "start_time": "2021-07-07T18:46:31.838Z"
   },
   {
    "duration": 39,
    "start_time": "2021-07-07T18:46:31.851Z"
   },
   {
    "duration": 24,
    "start_time": "2021-07-07T18:46:31.892Z"
   },
   {
    "duration": 15,
    "start_time": "2021-07-07T18:46:31.918Z"
   },
   {
    "duration": 7,
    "start_time": "2021-07-07T18:46:31.936Z"
   },
   {
    "duration": 8,
    "start_time": "2021-07-07T18:46:31.944Z"
   },
   {
    "duration": 19,
    "start_time": "2021-07-07T18:46:31.984Z"
   },
   {
    "duration": 10,
    "start_time": "2021-07-07T18:46:32.004Z"
   },
   {
    "duration": 5,
    "start_time": "2021-07-07T18:46:32.016Z"
   },
   {
    "duration": 9,
    "start_time": "2021-07-07T18:46:32.023Z"
   },
   {
    "duration": 199,
    "start_time": "2021-07-07T18:46:32.033Z"
   },
   {
    "duration": 19,
    "start_time": "2021-07-07T18:46:32.234Z"
   },
   {
    "duration": 159,
    "start_time": "2021-07-07T18:46:32.255Z"
   },
   {
    "duration": 134,
    "start_time": "2021-07-07T18:46:32.416Z"
   },
   {
    "duration": 10,
    "start_time": "2021-07-07T18:46:32.552Z"
   },
   {
    "duration": 34,
    "start_time": "2021-07-07T18:46:32.563Z"
   },
   {
    "duration": 1039,
    "start_time": "2021-07-08T08:41:09.419Z"
   },
   {
    "duration": 333,
    "start_time": "2021-07-08T08:41:10.459Z"
   },
   {
    "duration": 173,
    "start_time": "2021-07-08T08:41:10.794Z"
   },
   {
    "duration": 5,
    "start_time": "2021-07-08T08:41:10.968Z"
   },
   {
    "duration": 25,
    "start_time": "2021-07-08T08:41:10.975Z"
   },
   {
    "duration": 9,
    "start_time": "2021-07-08T08:41:11.002Z"
   },
   {
    "duration": 18,
    "start_time": "2021-07-08T08:41:11.013Z"
   },
   {
    "duration": 6,
    "start_time": "2021-07-08T08:41:11.033Z"
   },
   {
    "duration": 44,
    "start_time": "2021-07-08T08:41:11.042Z"
   },
   {
    "duration": 10,
    "start_time": "2021-07-08T08:41:11.088Z"
   },
   {
    "duration": 9,
    "start_time": "2021-07-08T08:41:11.100Z"
   },
   {
    "duration": 27,
    "start_time": "2021-07-08T08:41:11.111Z"
   },
   {
    "duration": 46,
    "start_time": "2021-07-08T08:41:11.140Z"
   },
   {
    "duration": 17,
    "start_time": "2021-07-08T08:41:11.187Z"
   },
   {
    "duration": 6,
    "start_time": "2021-07-08T08:41:11.206Z"
   },
   {
    "duration": 5,
    "start_time": "2021-07-08T08:41:11.213Z"
   },
   {
    "duration": 10,
    "start_time": "2021-07-08T08:41:11.219Z"
   },
   {
    "duration": 9,
    "start_time": "2021-07-08T08:41:11.230Z"
   },
   {
    "duration": 45,
    "start_time": "2021-07-08T08:41:11.241Z"
   },
   {
    "duration": 7,
    "start_time": "2021-07-08T08:41:11.287Z"
   },
   {
    "duration": 24,
    "start_time": "2021-07-08T08:41:11.296Z"
   },
   {
    "duration": 16,
    "start_time": "2021-07-08T08:41:11.322Z"
   },
   {
    "duration": 7,
    "start_time": "2021-07-08T08:41:11.341Z"
   },
   {
    "duration": 41,
    "start_time": "2021-07-08T08:41:11.349Z"
   },
   {
    "duration": 17,
    "start_time": "2021-07-08T08:41:11.391Z"
   },
   {
    "duration": 9,
    "start_time": "2021-07-08T08:41:11.410Z"
   },
   {
    "duration": 5,
    "start_time": "2021-07-08T08:41:11.421Z"
   },
   {
    "duration": 6,
    "start_time": "2021-07-08T08:41:11.428Z"
   },
   {
    "duration": 198,
    "start_time": "2021-07-08T08:41:11.435Z"
   },
   {
    "duration": 18,
    "start_time": "2021-07-08T08:41:11.635Z"
   },
   {
    "duration": 155,
    "start_time": "2021-07-08T08:41:11.655Z"
   },
   {
    "duration": 138,
    "start_time": "2021-07-08T08:41:11.811Z"
   },
   {
    "duration": 10,
    "start_time": "2021-07-08T08:41:11.950Z"
   },
   {
    "duration": 29,
    "start_time": "2021-07-08T08:41:11.961Z"
   },
   {
    "duration": 171,
    "start_time": "2021-07-08T08:47:44.522Z"
   },
   {
    "duration": 124,
    "start_time": "2021-07-08T08:47:46.872Z"
   },
   {
    "duration": 191,
    "start_time": "2021-07-08T08:47:58.148Z"
   },
   {
    "duration": 191,
    "start_time": "2021-07-08T08:48:07.412Z"
   },
   {
    "duration": 261,
    "start_time": "2021-07-08T08:48:10.385Z"
   },
   {
    "duration": 255,
    "start_time": "2021-07-08T08:48:14.494Z"
   },
   {
    "duration": 219,
    "start_time": "2021-07-08T08:48:22.752Z"
   },
   {
    "duration": 173,
    "start_time": "2021-07-08T08:49:06.395Z"
   },
   {
    "duration": 180,
    "start_time": "2021-07-08T08:49:21.011Z"
   },
   {
    "duration": 6,
    "start_time": "2021-07-08T08:50:31.697Z"
   },
   {
    "duration": 10,
    "start_time": "2021-07-08T08:50:47.394Z"
   },
   {
    "duration": 11,
    "start_time": "2021-07-08T08:53:49.332Z"
   },
   {
    "duration": 171,
    "start_time": "2021-07-08T08:54:28.408Z"
   },
   {
    "duration": 636,
    "start_time": "2021-07-08T09:02:48.385Z"
   },
   {
    "duration": 227,
    "start_time": "2021-07-08T09:02:49.023Z"
   },
   {
    "duration": 104,
    "start_time": "2021-07-08T09:02:49.252Z"
   },
   {
    "duration": 5,
    "start_time": "2021-07-08T09:02:49.358Z"
   },
   {
    "duration": 27,
    "start_time": "2021-07-08T09:02:49.365Z"
   },
   {
    "duration": 8,
    "start_time": "2021-07-08T09:02:49.394Z"
   },
   {
    "duration": 18,
    "start_time": "2021-07-08T09:02:49.404Z"
   },
   {
    "duration": 6,
    "start_time": "2021-07-08T09:02:49.424Z"
   },
   {
    "duration": 11,
    "start_time": "2021-07-08T09:02:49.433Z"
   },
   {
    "duration": 13,
    "start_time": "2021-07-08T09:02:49.485Z"
   },
   {
    "duration": 9,
    "start_time": "2021-07-08T09:02:49.500Z"
   },
   {
    "duration": 38,
    "start_time": "2021-07-08T09:02:49.511Z"
   },
   {
    "duration": 42,
    "start_time": "2021-07-08T09:02:49.551Z"
   },
   {
    "duration": 21,
    "start_time": "2021-07-08T09:02:49.594Z"
   },
   {
    "duration": 6,
    "start_time": "2021-07-08T09:02:49.616Z"
   },
   {
    "duration": 3,
    "start_time": "2021-07-08T09:02:49.623Z"
   },
   {
    "duration": 9,
    "start_time": "2021-07-08T09:02:49.628Z"
   },
   {
    "duration": 52,
    "start_time": "2021-07-08T09:02:49.638Z"
   },
   {
    "duration": 11,
    "start_time": "2021-07-08T09:02:49.692Z"
   },
   {
    "duration": 8,
    "start_time": "2021-07-08T09:02:49.704Z"
   },
   {
    "duration": 27,
    "start_time": "2021-07-08T09:02:49.713Z"
   },
   {
    "duration": 59,
    "start_time": "2021-07-08T09:02:49.741Z"
   },
   {
    "duration": 8,
    "start_time": "2021-07-08T09:02:49.803Z"
   },
   {
    "duration": 14,
    "start_time": "2021-07-08T09:02:49.813Z"
   },
   {
    "duration": 20,
    "start_time": "2021-07-08T09:02:49.829Z"
   },
   {
    "duration": 44,
    "start_time": "2021-07-08T09:02:49.851Z"
   },
   {
    "duration": 14,
    "start_time": "2021-07-08T09:02:49.896Z"
   },
   {
    "duration": 221,
    "start_time": "2021-07-08T09:02:49.912Z"
   },
   {
    "duration": 6,
    "start_time": "2021-07-08T09:02:50.134Z"
   },
   {
    "duration": 206,
    "start_time": "2021-07-08T09:02:50.142Z"
   },
   {
    "duration": 19,
    "start_time": "2021-07-08T09:02:50.350Z"
   },
   {
    "duration": 21,
    "start_time": "2021-07-08T09:02:50.370Z"
   },
   {
    "duration": 20,
    "start_time": "2021-07-08T09:02:50.393Z"
   },
   {
    "duration": 5,
    "start_time": "2021-07-08T09:02:50.414Z"
   },
   {
    "duration": 5,
    "start_time": "2021-07-08T09:03:34.173Z"
   },
   {
    "duration": 6,
    "start_time": "2021-07-08T09:04:49.062Z"
   },
   {
    "duration": 9,
    "start_time": "2021-07-08T09:04:50.118Z"
   },
   {
    "duration": 14,
    "start_time": "2021-07-08T09:04:58.512Z"
   },
   {
    "duration": 9,
    "start_time": "2021-07-08T09:05:10.988Z"
   },
   {
    "duration": 11,
    "start_time": "2021-07-08T09:05:11.743Z"
   },
   {
    "duration": 7,
    "start_time": "2021-07-08T09:05:25.677Z"
   },
   {
    "duration": 13,
    "start_time": "2021-07-08T09:05:47.189Z"
   },
   {
    "duration": 13,
    "start_time": "2021-07-08T09:05:54.755Z"
   },
   {
    "duration": 4,
    "start_time": "2021-07-08T09:06:29.189Z"
   },
   {
    "duration": 244,
    "start_time": "2021-07-08T09:06:29.195Z"
   },
   {
    "duration": 91,
    "start_time": "2021-07-08T09:06:29.441Z"
   },
   {
    "duration": 4,
    "start_time": "2021-07-08T09:06:29.534Z"
   },
   {
    "duration": 28,
    "start_time": "2021-07-08T09:06:29.540Z"
   },
   {
    "duration": 6,
    "start_time": "2021-07-08T09:06:29.570Z"
   },
   {
    "duration": 18,
    "start_time": "2021-07-08T09:06:29.578Z"
   },
   {
    "duration": 5,
    "start_time": "2021-07-08T09:06:29.597Z"
   },
   {
    "duration": 13,
    "start_time": "2021-07-08T09:06:29.605Z"
   },
   {
    "duration": 8,
    "start_time": "2021-07-08T09:06:29.620Z"
   },
   {
    "duration": 7,
    "start_time": "2021-07-08T09:06:29.630Z"
   },
   {
    "duration": 63,
    "start_time": "2021-07-08T09:06:29.639Z"
   },
   {
    "duration": 17,
    "start_time": "2021-07-08T09:06:29.704Z"
   },
   {
    "duration": 20,
    "start_time": "2021-07-08T09:06:29.723Z"
   },
   {
    "duration": 6,
    "start_time": "2021-07-08T09:06:29.745Z"
   },
   {
    "duration": 3,
    "start_time": "2021-07-08T09:06:29.752Z"
   },
   {
    "duration": 7,
    "start_time": "2021-07-08T09:06:29.785Z"
   },
   {
    "duration": 11,
    "start_time": "2021-07-08T09:06:29.794Z"
   },
   {
    "duration": 15,
    "start_time": "2021-07-08T09:06:29.807Z"
   },
   {
    "duration": 8,
    "start_time": "2021-07-08T09:06:29.823Z"
   },
   {
    "duration": 70,
    "start_time": "2021-07-08T09:06:29.832Z"
   },
   {
    "duration": 17,
    "start_time": "2021-07-08T09:06:29.903Z"
   },
   {
    "duration": 9,
    "start_time": "2021-07-08T09:06:29.921Z"
   },
   {
    "duration": 9,
    "start_time": "2021-07-08T09:06:29.932Z"
   },
   {
    "duration": 57,
    "start_time": "2021-07-08T09:06:29.942Z"
   },
   {
    "duration": 11,
    "start_time": "2021-07-08T09:06:30.001Z"
   },
   {
    "duration": 19,
    "start_time": "2021-07-08T09:06:30.016Z"
   },
   {
    "duration": 217,
    "start_time": "2021-07-08T09:06:30.037Z"
   },
   {
    "duration": 6,
    "start_time": "2021-07-08T09:06:30.255Z"
   },
   {
    "duration": 205,
    "start_time": "2021-07-08T09:06:30.263Z"
   },
   {
    "duration": 27,
    "start_time": "2021-07-08T09:06:30.470Z"
   },
   {
    "duration": 11,
    "start_time": "2021-07-08T09:06:30.500Z"
   },
   {
    "duration": 31,
    "start_time": "2021-07-08T09:06:30.513Z"
   },
   {
    "duration": 18,
    "start_time": "2021-07-08T09:06:30.546Z"
   },
   {
    "duration": 11,
    "start_time": "2021-07-08T09:06:30.566Z"
   },
   {
    "duration": 19,
    "start_time": "2021-07-08T09:06:30.579Z"
   },
   {
    "duration": 20,
    "start_time": "2021-07-08T09:06:49.466Z"
   },
   {
    "duration": 9,
    "start_time": "2021-07-08T09:06:51.994Z"
   },
   {
    "duration": 20,
    "start_time": "2021-07-08T09:06:52.273Z"
   },
   {
    "duration": 246,
    "start_time": "2021-07-08T09:10:21.272Z"
   },
   {
    "duration": 84,
    "start_time": "2021-07-08T09:10:21.436Z"
   },
   {
    "duration": 7,
    "start_time": "2021-07-08T09:10:37.608Z"
   },
   {
    "duration": 189,
    "start_time": "2021-07-08T09:10:38.573Z"
   },
   {
    "duration": 185,
    "start_time": "2021-07-08T09:10:53.181Z"
   },
   {
    "duration": 11,
    "start_time": "2021-07-08T09:10:59.549Z"
   },
   {
    "duration": 42,
    "start_time": "2021-07-08T09:10:59.709Z"
   },
   {
    "duration": 12,
    "start_time": "2021-07-08T09:11:02.857Z"
   },
   {
    "duration": 28,
    "start_time": "2021-07-08T09:11:10.062Z"
   },
   {
    "duration": 249,
    "start_time": "2021-07-08T09:11:37.388Z"
   },
   {
    "duration": 232,
    "start_time": "2021-07-08T09:11:49.485Z"
   },
   {
    "duration": 453,
    "start_time": "2021-07-08T09:12:01.546Z"
   },
   {
    "duration": 440,
    "start_time": "2021-07-08T09:12:12.347Z"
   },
   {
    "duration": 213,
    "start_time": "2021-07-08T09:13:32.196Z"
   },
   {
    "duration": 172,
    "start_time": "2021-07-08T09:14:07.400Z"
   },
   {
    "duration": 185,
    "start_time": "2021-07-08T09:14:14.905Z"
   },
   {
    "duration": 209,
    "start_time": "2021-07-08T09:14:40.109Z"
   },
   {
    "duration": 201,
    "start_time": "2021-07-08T09:14:54.506Z"
   },
   {
    "duration": 622,
    "start_time": "2021-07-08T09:18:14.497Z"
   },
   {
    "duration": 220,
    "start_time": "2021-07-08T09:18:15.121Z"
   },
   {
    "duration": 79,
    "start_time": "2021-07-08T09:18:15.343Z"
   },
   {
    "duration": 4,
    "start_time": "2021-07-08T09:18:15.425Z"
   },
   {
    "duration": 24,
    "start_time": "2021-07-08T09:18:15.431Z"
   },
   {
    "duration": 8,
    "start_time": "2021-07-08T09:18:15.457Z"
   },
   {
    "duration": 16,
    "start_time": "2021-07-08T09:18:15.466Z"
   },
   {
    "duration": 5,
    "start_time": "2021-07-08T09:18:15.484Z"
   },
   {
    "duration": 10,
    "start_time": "2021-07-08T09:18:15.493Z"
   },
   {
    "duration": 8,
    "start_time": "2021-07-08T09:18:15.504Z"
   },
   {
    "duration": 7,
    "start_time": "2021-07-08T09:18:15.513Z"
   },
   {
    "duration": 26,
    "start_time": "2021-07-08T09:18:15.522Z"
   },
   {
    "duration": 49,
    "start_time": "2021-07-08T09:18:15.550Z"
   },
   {
    "duration": 21,
    "start_time": "2021-07-08T09:18:15.601Z"
   },
   {
    "duration": 8,
    "start_time": "2021-07-08T09:18:15.624Z"
   },
   {
    "duration": 3,
    "start_time": "2021-07-08T09:18:15.634Z"
   },
   {
    "duration": 8,
    "start_time": "2021-07-08T09:18:15.639Z"
   },
   {
    "duration": 45,
    "start_time": "2021-07-08T09:18:15.649Z"
   },
   {
    "duration": 13,
    "start_time": "2021-07-08T09:18:15.696Z"
   },
   {
    "duration": 10,
    "start_time": "2021-07-08T09:18:15.711Z"
   },
   {
    "duration": 64,
    "start_time": "2021-07-08T09:18:15.722Z"
   },
   {
    "duration": 19,
    "start_time": "2021-07-08T09:18:15.788Z"
   },
   {
    "duration": 9,
    "start_time": "2021-07-08T09:18:15.809Z"
   },
   {
    "duration": 9,
    "start_time": "2021-07-08T09:18:15.820Z"
   },
   {
    "duration": 18,
    "start_time": "2021-07-08T09:18:15.831Z"
   },
   {
    "duration": 43,
    "start_time": "2021-07-08T09:18:15.851Z"
   },
   {
    "duration": 12,
    "start_time": "2021-07-08T09:18:15.897Z"
   },
   {
    "duration": 219,
    "start_time": "2021-07-08T09:18:15.911Z"
   },
   {
    "duration": 8,
    "start_time": "2021-07-08T09:18:16.132Z"
   },
   {
    "duration": 199,
    "start_time": "2021-07-08T09:18:16.141Z"
   },
   {
    "duration": 18,
    "start_time": "2021-07-08T09:18:16.341Z"
   },
   {
    "duration": 24,
    "start_time": "2021-07-08T09:18:16.361Z"
   },
   {
    "duration": 24,
    "start_time": "2021-07-08T09:18:16.387Z"
   },
   {
    "duration": 211,
    "start_time": "2021-07-08T09:18:16.413Z"
   },
   {
    "duration": 18,
    "start_time": "2021-07-08T09:18:16.626Z"
   },
   {
    "duration": 596,
    "start_time": "2021-07-08T10:06:33.623Z"
   },
   {
    "duration": 181,
    "start_time": "2021-07-08T10:06:34.221Z"
   },
   {
    "duration": 176,
    "start_time": "2021-07-08T10:06:34.635Z"
   },
   {
    "duration": 239,
    "start_time": "2021-07-08T10:06:55.572Z"
   },
   {
    "duration": 6,
    "start_time": "2021-07-08T10:06:57.687Z"
   },
   {
    "duration": 4,
    "start_time": "2021-07-08T10:07:03.956Z"
   },
   {
    "duration": 4,
    "start_time": "2021-07-08T10:07:10.376Z"
   },
   {
    "duration": 4,
    "start_time": "2021-07-08T10:17:19.889Z"
   },
   {
    "duration": 3,
    "start_time": "2021-07-08T10:19:19.407Z"
   },
   {
    "duration": 197,
    "start_time": "2021-07-08T10:19:19.412Z"
   },
   {
    "duration": 127,
    "start_time": "2021-07-08T10:19:19.611Z"
   },
   {
    "duration": 4,
    "start_time": "2021-07-08T10:19:19.740Z"
   },
   {
    "duration": 27,
    "start_time": "2021-07-08T10:19:19.746Z"
   },
   {
    "duration": 7,
    "start_time": "2021-07-08T10:19:19.775Z"
   },
   {
    "duration": 30,
    "start_time": "2021-07-08T10:19:19.784Z"
   },
   {
    "duration": 7,
    "start_time": "2021-07-08T10:19:19.817Z"
   },
   {
    "duration": 26,
    "start_time": "2021-07-08T10:19:19.826Z"
   },
   {
    "duration": 18,
    "start_time": "2021-07-08T10:19:19.854Z"
   },
   {
    "duration": 14,
    "start_time": "2021-07-08T10:19:19.874Z"
   },
   {
    "duration": 48,
    "start_time": "2021-07-08T10:19:19.890Z"
   },
   {
    "duration": 17,
    "start_time": "2021-07-08T10:19:19.940Z"
   },
   {
    "duration": 38,
    "start_time": "2021-07-08T10:19:19.959Z"
   },
   {
    "duration": 8,
    "start_time": "2021-07-08T10:19:19.999Z"
   },
   {
    "duration": 15,
    "start_time": "2021-07-08T10:19:20.009Z"
   },
   {
    "duration": 22,
    "start_time": "2021-07-08T10:19:20.026Z"
   },
   {
    "duration": 10,
    "start_time": "2021-07-08T10:19:20.050Z"
   },
   {
    "duration": 10,
    "start_time": "2021-07-08T10:19:20.062Z"
   },
   {
    "duration": 20,
    "start_time": "2021-07-08T10:19:20.073Z"
   },
   {
    "duration": 29,
    "start_time": "2021-07-08T10:19:20.095Z"
   },
   {
    "duration": 17,
    "start_time": "2021-07-08T10:19:20.126Z"
   },
   {
    "duration": 40,
    "start_time": "2021-07-08T10:19:20.146Z"
   },
   {
    "duration": 15,
    "start_time": "2021-07-08T10:19:20.189Z"
   },
   {
    "duration": 19,
    "start_time": "2021-07-08T10:19:20.206Z"
   },
   {
    "duration": 10,
    "start_time": "2021-07-08T10:19:20.226Z"
   },
   {
    "duration": 11,
    "start_time": "2021-07-08T10:19:20.238Z"
   },
   {
    "duration": 297,
    "start_time": "2021-07-08T10:19:20.250Z"
   },
   {
    "duration": 6,
    "start_time": "2021-07-08T10:19:20.549Z"
   },
   {
    "duration": 191,
    "start_time": "2021-07-08T10:19:20.557Z"
   },
   {
    "duration": 19,
    "start_time": "2021-07-08T10:19:20.750Z"
   },
   {
    "duration": 20,
    "start_time": "2021-07-08T10:19:20.771Z"
   },
   {
    "duration": 15,
    "start_time": "2021-07-08T10:19:20.793Z"
   },
   {
    "duration": 222,
    "start_time": "2021-07-08T10:19:20.809Z"
   },
   {
    "duration": 20,
    "start_time": "2021-07-08T10:19:21.033Z"
   },
   {
    "duration": 27,
    "start_time": "2021-07-08T10:45:04.055Z"
   },
   {
    "duration": 8,
    "start_time": "2021-07-08T10:45:08.478Z"
   },
   {
    "duration": 8,
    "start_time": "2021-07-08T10:45:31.982Z"
   },
   {
    "duration": 10,
    "start_time": "2021-07-08T10:46:01.221Z"
   },
   {
    "duration": 17,
    "start_time": "2021-07-08T10:46:40.011Z"
   },
   {
    "duration": 193,
    "start_time": "2021-07-08T10:48:19.471Z"
   },
   {
    "duration": 225,
    "start_time": "2021-07-08T10:49:26.480Z"
   },
   {
    "duration": 204,
    "start_time": "2021-07-08T10:49:59.992Z"
   },
   {
    "duration": 435,
    "start_time": "2021-07-08T10:50:06.779Z"
   },
   {
    "duration": 199,
    "start_time": "2021-07-08T10:50:14.891Z"
   },
   {
    "duration": 204,
    "start_time": "2021-07-08T10:50:18.501Z"
   },
   {
    "duration": 244,
    "start_time": "2021-07-08T10:50:23.359Z"
   },
   {
    "duration": 192,
    "start_time": "2021-07-08T10:50:29.135Z"
   },
   {
    "duration": 218,
    "start_time": "2021-07-08T10:50:33.092Z"
   },
   {
    "duration": 207,
    "start_time": "2021-07-08T10:52:45.381Z"
   },
   {
    "duration": 5,
    "start_time": "2021-07-08T10:53:34.641Z"
   },
   {
    "duration": 196,
    "start_time": "2021-07-08T10:53:41.478Z"
   },
   {
    "duration": 43,
    "start_time": "2021-07-08T10:53:50.335Z"
   },
   {
    "duration": 32,
    "start_time": "2021-07-08T10:53:55.294Z"
   },
   {
    "duration": 55,
    "start_time": "2021-07-08T10:54:09.675Z"
   },
   {
    "duration": 16,
    "start_time": "2021-07-08T10:54:12.260Z"
   },
   {
    "duration": 15,
    "start_time": "2021-07-08T10:54:49.150Z"
   },
   {
    "duration": 20,
    "start_time": "2021-07-08T10:56:07.596Z"
   },
   {
    "duration": 16,
    "start_time": "2021-07-08T10:58:26.276Z"
   },
   {
    "duration": 22,
    "start_time": "2021-07-08T10:59:00.486Z"
   },
   {
    "duration": 18,
    "start_time": "2021-07-08T11:02:09.653Z"
   },
   {
    "duration": 10,
    "start_time": "2021-07-08T11:03:44.331Z"
   },
   {
    "duration": 10,
    "start_time": "2021-07-08T11:03:54.055Z"
   },
   {
    "duration": 12,
    "start_time": "2021-07-08T11:04:41.967Z"
   },
   {
    "duration": 24,
    "start_time": "2021-07-08T11:07:30.732Z"
   },
   {
    "duration": 6,
    "start_time": "2021-07-08T11:07:37.364Z"
   },
   {
    "duration": 16,
    "start_time": "2021-07-08T11:08:01.819Z"
   },
   {
    "duration": 17,
    "start_time": "2021-07-08T11:09:47.488Z"
   },
   {
    "duration": 246,
    "start_time": "2021-07-08T11:10:00.830Z"
   },
   {
    "duration": 18,
    "start_time": "2021-07-08T11:13:55.195Z"
   },
   {
    "duration": 204,
    "start_time": "2021-07-08T11:14:04.951Z"
   },
   {
    "duration": 19,
    "start_time": "2021-07-08T11:15:10.613Z"
   },
   {
    "duration": 680,
    "start_time": "2021-07-08T11:16:25.793Z"
   },
   {
    "duration": 451,
    "start_time": "2021-07-08T11:16:40.313Z"
   },
   {
    "duration": 469,
    "start_time": "2021-07-08T11:17:21.286Z"
   },
   {
    "duration": 20,
    "start_time": "2021-07-08T11:19:12.554Z"
   },
   {
    "duration": 35,
    "start_time": "2021-07-08T11:20:05.484Z"
   },
   {
    "duration": 53,
    "start_time": "2021-07-08T11:21:40.050Z"
   },
   {
    "duration": 13,
    "start_time": "2021-07-08T11:22:26.059Z"
   },
   {
    "duration": 19,
    "start_time": "2021-07-08T11:22:47.419Z"
   },
   {
    "duration": 25,
    "start_time": "2021-07-08T11:23:19.958Z"
   },
   {
    "duration": 29,
    "start_time": "2021-07-08T11:23:25.415Z"
   },
   {
    "duration": 10,
    "start_time": "2021-07-08T11:24:45.138Z"
   },
   {
    "duration": 19,
    "start_time": "2021-07-08T11:24:54.498Z"
   },
   {
    "duration": 12,
    "start_time": "2021-07-08T11:25:32.225Z"
   },
   {
    "duration": 19,
    "start_time": "2021-07-08T11:25:37.092Z"
   },
   {
    "duration": 17,
    "start_time": "2021-07-08T11:25:58.116Z"
   },
   {
    "duration": 15,
    "start_time": "2021-07-08T11:26:02.258Z"
   },
   {
    "duration": 8,
    "start_time": "2021-07-08T11:26:59.682Z"
   },
   {
    "duration": 184,
    "start_time": "2021-07-08T11:27:21.894Z"
   },
   {
    "duration": 8,
    "start_time": "2021-07-08T11:27:23.824Z"
   },
   {
    "duration": 202,
    "start_time": "2021-07-08T11:27:23.962Z"
   },
   {
    "duration": 360,
    "start_time": "2021-07-08T11:28:33.215Z"
   },
   {
    "duration": 231,
    "start_time": "2021-07-08T11:32:05.542Z"
   },
   {
    "duration": 607,
    "start_time": "2021-07-08T11:36:27.854Z"
   },
   {
    "duration": 241,
    "start_time": "2021-07-08T11:36:28.463Z"
   },
   {
    "duration": 67,
    "start_time": "2021-07-08T11:36:28.709Z"
   },
   {
    "duration": 5,
    "start_time": "2021-07-08T11:36:28.778Z"
   },
   {
    "duration": 32,
    "start_time": "2021-07-08T11:36:28.784Z"
   },
   {
    "duration": 11,
    "start_time": "2021-07-08T11:36:28.819Z"
   },
   {
    "duration": 20,
    "start_time": "2021-07-08T11:36:28.834Z"
   },
   {
    "duration": 36,
    "start_time": "2021-07-08T11:36:28.857Z"
   },
   {
    "duration": 16,
    "start_time": "2021-07-08T11:36:28.895Z"
   },
   {
    "duration": 14,
    "start_time": "2021-07-08T11:36:28.913Z"
   },
   {
    "duration": 9,
    "start_time": "2021-07-08T11:36:28.930Z"
   },
   {
    "duration": 55,
    "start_time": "2021-07-08T11:36:28.941Z"
   },
   {
    "duration": 27,
    "start_time": "2021-07-08T11:36:28.999Z"
   },
   {
    "duration": 30,
    "start_time": "2021-07-08T11:36:29.028Z"
   },
   {
    "duration": 31,
    "start_time": "2021-07-08T11:36:29.060Z"
   },
   {
    "duration": 3,
    "start_time": "2021-07-08T11:36:29.093Z"
   },
   {
    "duration": 12,
    "start_time": "2021-07-08T11:36:29.099Z"
   },
   {
    "duration": 11,
    "start_time": "2021-07-08T11:36:29.112Z"
   },
   {
    "duration": 12,
    "start_time": "2021-07-08T11:36:29.125Z"
   },
   {
    "duration": 9,
    "start_time": "2021-07-08T11:36:29.139Z"
   },
   {
    "duration": 31,
    "start_time": "2021-07-08T11:36:29.191Z"
   },
   {
    "duration": 17,
    "start_time": "2021-07-08T11:36:29.226Z"
   },
   {
    "duration": 7,
    "start_time": "2021-07-08T11:36:29.245Z"
   },
   {
    "duration": 10,
    "start_time": "2021-07-08T11:36:29.254Z"
   },
   {
    "duration": 30,
    "start_time": "2021-07-08T11:36:29.292Z"
   },
   {
    "duration": 11,
    "start_time": "2021-07-08T11:36:29.324Z"
   },
   {
    "duration": 11,
    "start_time": "2021-07-08T11:36:29.337Z"
   },
   {
    "duration": 230,
    "start_time": "2021-07-08T11:36:29.349Z"
   },
   {
    "duration": 13,
    "start_time": "2021-07-08T11:36:29.588Z"
   },
   {
    "duration": 205,
    "start_time": "2021-07-08T11:36:29.603Z"
   },
   {
    "duration": 20,
    "start_time": "2021-07-08T11:36:29.810Z"
   },
   {
    "duration": 9,
    "start_time": "2021-07-08T11:36:29.832Z"
   },
   {
    "duration": 16,
    "start_time": "2021-07-08T11:36:29.843Z"
   },
   {
    "duration": 283,
    "start_time": "2021-07-08T11:36:29.861Z"
   },
   {
    "duration": 50,
    "start_time": "2021-07-08T11:36:30.146Z"
   },
   {
    "duration": 14,
    "start_time": "2021-07-08T11:36:30.198Z"
   },
   {
    "duration": 11,
    "start_time": "2021-07-08T11:36:30.214Z"
   },
   {
    "duration": 245,
    "start_time": "2021-07-08T11:36:30.227Z"
   },
   {
    "duration": 439,
    "start_time": "2021-07-08T11:36:30.474Z"
   },
   {
    "duration": 210,
    "start_time": "2021-07-08T11:36:30.915Z"
   },
   {
    "duration": 15,
    "start_time": "2021-07-08T11:36:31.127Z"
   },
   {
    "duration": 17,
    "start_time": "2021-07-08T11:38:20.451Z"
   },
   {
    "duration": 642,
    "start_time": "2021-07-08T11:46:17.881Z"
   },
   {
    "duration": 210,
    "start_time": "2021-07-08T11:46:18.525Z"
   },
   {
    "duration": 104,
    "start_time": "2021-07-08T11:46:18.741Z"
   },
   {
    "duration": 8,
    "start_time": "2021-07-08T11:46:18.847Z"
   },
   {
    "duration": 25,
    "start_time": "2021-07-08T11:46:18.857Z"
   },
   {
    "duration": 14,
    "start_time": "2021-07-08T11:46:18.884Z"
   },
   {
    "duration": 22,
    "start_time": "2021-07-08T11:46:18.900Z"
   },
   {
    "duration": 5,
    "start_time": "2021-07-08T11:46:18.924Z"
   },
   {
    "duration": 13,
    "start_time": "2021-07-08T11:46:18.931Z"
   },
   {
    "duration": 45,
    "start_time": "2021-07-08T11:46:18.946Z"
   },
   {
    "duration": 12,
    "start_time": "2021-07-08T11:46:18.993Z"
   },
   {
    "duration": 38,
    "start_time": "2021-07-08T11:46:19.006Z"
   },
   {
    "duration": 50,
    "start_time": "2021-07-08T11:46:19.046Z"
   },
   {
    "duration": 29,
    "start_time": "2021-07-08T11:46:19.099Z"
   },
   {
    "duration": 7,
    "start_time": "2021-07-08T11:46:19.130Z"
   },
   {
    "duration": 3,
    "start_time": "2021-07-08T11:46:19.139Z"
   },
   {
    "duration": 11,
    "start_time": "2021-07-08T11:46:19.144Z"
   },
   {
    "duration": 40,
    "start_time": "2021-07-08T11:46:19.157Z"
   },
   {
    "duration": 15,
    "start_time": "2021-07-08T11:46:19.199Z"
   },
   {
    "duration": 10,
    "start_time": "2021-07-08T11:46:19.217Z"
   },
   {
    "duration": 68,
    "start_time": "2021-07-08T11:46:19.230Z"
   },
   {
    "duration": 17,
    "start_time": "2021-07-08T11:46:19.301Z"
   },
   {
    "duration": 7,
    "start_time": "2021-07-08T11:46:19.321Z"
   },
   {
    "duration": 11,
    "start_time": "2021-07-08T11:46:19.330Z"
   },
   {
    "duration": 59,
    "start_time": "2021-07-08T11:46:19.343Z"
   },
   {
    "duration": 17,
    "start_time": "2021-07-08T11:46:19.405Z"
   },
   {
    "duration": 16,
    "start_time": "2021-07-08T11:46:19.424Z"
   },
   {
    "duration": 252,
    "start_time": "2021-07-08T11:46:19.443Z"
   },
   {
    "duration": 9,
    "start_time": "2021-07-08T11:46:19.697Z"
   },
   {
    "duration": 224,
    "start_time": "2021-07-08T11:46:19.708Z"
   },
   {
    "duration": 21,
    "start_time": "2021-07-08T11:46:19.934Z"
   },
   {
    "duration": 9,
    "start_time": "2021-07-08T11:46:19.956Z"
   },
   {
    "duration": 32,
    "start_time": "2021-07-08T11:46:19.967Z"
   },
   {
    "duration": 288,
    "start_time": "2021-07-08T11:46:20.004Z"
   },
   {
    "duration": 23,
    "start_time": "2021-07-08T11:46:20.300Z"
   },
   {
    "duration": 11,
    "start_time": "2021-07-08T11:46:20.325Z"
   },
   {
    "duration": 11,
    "start_time": "2021-07-08T11:46:20.339Z"
   },
   {
    "duration": 259,
    "start_time": "2021-07-08T11:46:20.352Z"
   },
   {
    "duration": 438,
    "start_time": "2021-07-08T11:46:20.613Z"
   },
   {
    "duration": 207,
    "start_time": "2021-07-08T11:46:21.054Z"
   },
   {
    "duration": 27,
    "start_time": "2021-07-08T11:46:21.262Z"
   },
   {
    "duration": 19,
    "start_time": "2021-07-08T11:46:21.291Z"
   },
   {
    "duration": 820,
    "start_time": "2021-07-08T11:49:01.655Z"
   },
   {
    "duration": 372,
    "start_time": "2021-07-08T11:49:02.478Z"
   },
   {
    "duration": 98,
    "start_time": "2021-07-08T11:49:02.853Z"
   },
   {
    "duration": 6,
    "start_time": "2021-07-08T11:49:02.953Z"
   },
   {
    "duration": 39,
    "start_time": "2021-07-08T11:49:02.960Z"
   },
   {
    "duration": 9,
    "start_time": "2021-07-08T11:49:03.003Z"
   },
   {
    "duration": 23,
    "start_time": "2021-07-08T11:49:03.014Z"
   },
   {
    "duration": 6,
    "start_time": "2021-07-08T11:49:03.041Z"
   },
   {
    "duration": 20,
    "start_time": "2021-07-08T11:49:03.049Z"
   },
   {
    "duration": 18,
    "start_time": "2021-07-08T11:49:03.084Z"
   },
   {
    "duration": 14,
    "start_time": "2021-07-08T11:49:03.104Z"
   },
   {
    "duration": 39,
    "start_time": "2021-07-08T11:49:03.119Z"
   },
   {
    "duration": 38,
    "start_time": "2021-07-08T11:49:03.160Z"
   },
   {
    "duration": 26,
    "start_time": "2021-07-08T11:49:03.200Z"
   },
   {
    "duration": 7,
    "start_time": "2021-07-08T11:49:03.227Z"
   },
   {
    "duration": 4,
    "start_time": "2021-07-08T11:49:03.236Z"
   },
   {
    "duration": 15,
    "start_time": "2021-07-08T11:49:03.243Z"
   },
   {
    "duration": 21,
    "start_time": "2021-07-08T11:49:03.285Z"
   },
   {
    "duration": 17,
    "start_time": "2021-07-08T11:49:03.309Z"
   },
   {
    "duration": 10,
    "start_time": "2021-07-08T11:49:03.328Z"
   },
   {
    "duration": 65,
    "start_time": "2021-07-08T11:49:03.340Z"
   },
   {
    "duration": 18,
    "start_time": "2021-07-08T11:49:03.407Z"
   },
   {
    "duration": 8,
    "start_time": "2021-07-08T11:49:03.428Z"
   },
   {
    "duration": 15,
    "start_time": "2021-07-08T11:49:03.438Z"
   },
   {
    "duration": 40,
    "start_time": "2021-07-08T11:49:03.455Z"
   },
   {
    "duration": 12,
    "start_time": "2021-07-08T11:49:03.497Z"
   },
   {
    "duration": 29,
    "start_time": "2021-07-08T11:49:03.511Z"
   },
   {
    "duration": 285,
    "start_time": "2021-07-08T11:49:03.542Z"
   },
   {
    "duration": 8,
    "start_time": "2021-07-08T11:49:03.829Z"
   },
   {
    "duration": 227,
    "start_time": "2021-07-08T11:49:03.838Z"
   },
   {
    "duration": 40,
    "start_time": "2021-07-08T11:49:04.066Z"
   },
   {
    "duration": 10,
    "start_time": "2021-07-08T11:49:04.108Z"
   },
   {
    "duration": 26,
    "start_time": "2021-07-08T11:49:04.121Z"
   },
   {
    "duration": 290,
    "start_time": "2021-07-08T11:49:04.149Z"
   },
   {
    "duration": 26,
    "start_time": "2021-07-08T11:49:04.441Z"
   },
   {
    "duration": 31,
    "start_time": "2021-07-08T11:49:04.470Z"
   },
   {
    "duration": 14,
    "start_time": "2021-07-08T11:49:04.503Z"
   },
   {
    "duration": 259,
    "start_time": "2021-07-08T11:49:04.521Z"
   },
   {
    "duration": 480,
    "start_time": "2021-07-08T11:49:04.782Z"
   },
   {
    "duration": 225,
    "start_time": "2021-07-08T11:49:05.264Z"
   },
   {
    "duration": 22,
    "start_time": "2021-07-08T11:49:05.491Z"
   },
   {
    "duration": 24,
    "start_time": "2021-07-08T11:49:05.515Z"
   },
   {
    "duration": 634,
    "start_time": "2021-07-08T11:52:24.960Z"
   },
   {
    "duration": 199,
    "start_time": "2021-07-08T11:52:25.599Z"
   },
   {
    "duration": 106,
    "start_time": "2021-07-08T11:52:25.803Z"
   },
   {
    "duration": 7,
    "start_time": "2021-07-08T11:52:25.911Z"
   },
   {
    "duration": 29,
    "start_time": "2021-07-08T11:52:25.920Z"
   },
   {
    "duration": 7,
    "start_time": "2021-07-08T11:52:25.951Z"
   },
   {
    "duration": 26,
    "start_time": "2021-07-08T11:52:25.961Z"
   },
   {
    "duration": 11,
    "start_time": "2021-07-08T11:52:25.990Z"
   },
   {
    "duration": 29,
    "start_time": "2021-07-08T11:52:26.005Z"
   },
   {
    "duration": 9,
    "start_time": "2021-07-08T11:52:26.036Z"
   },
   {
    "duration": 8,
    "start_time": "2021-07-08T11:52:26.047Z"
   },
   {
    "duration": 63,
    "start_time": "2021-07-08T11:52:26.057Z"
   },
   {
    "duration": 17,
    "start_time": "2021-07-08T11:52:26.122Z"
   },
   {
    "duration": 43,
    "start_time": "2021-07-08T11:52:26.142Z"
   },
   {
    "duration": 17,
    "start_time": "2021-07-08T11:52:26.187Z"
   },
   {
    "duration": 5,
    "start_time": "2021-07-08T11:52:26.206Z"
   },
   {
    "duration": 12,
    "start_time": "2021-07-08T11:52:26.212Z"
   },
   {
    "duration": 11,
    "start_time": "2021-07-08T11:52:26.226Z"
   },
   {
    "duration": 12,
    "start_time": "2021-07-08T11:52:26.238Z"
   },
   {
    "duration": 38,
    "start_time": "2021-07-08T11:52:26.252Z"
   },
   {
    "duration": 40,
    "start_time": "2021-07-08T11:52:26.292Z"
   },
   {
    "duration": 17,
    "start_time": "2021-07-08T11:52:26.336Z"
   },
   {
    "duration": 39,
    "start_time": "2021-07-08T11:52:26.355Z"
   },
   {
    "duration": 11,
    "start_time": "2021-07-08T11:52:26.395Z"
   },
   {
    "duration": 23,
    "start_time": "2021-07-08T11:52:26.408Z"
   },
   {
    "duration": 12,
    "start_time": "2021-07-08T11:52:26.432Z"
   },
   {
    "duration": 41,
    "start_time": "2021-07-08T11:52:26.446Z"
   },
   {
    "duration": 215,
    "start_time": "2021-07-08T11:52:26.493Z"
   },
   {
    "duration": 8,
    "start_time": "2021-07-08T11:52:26.710Z"
   },
   {
    "duration": 228,
    "start_time": "2021-07-08T11:52:26.720Z"
   },
   {
    "duration": 18,
    "start_time": "2021-07-08T11:52:26.950Z"
   },
   {
    "duration": 35,
    "start_time": "2021-07-08T11:52:26.969Z"
   },
   {
    "duration": 23,
    "start_time": "2021-07-08T11:52:27.006Z"
   },
   {
    "duration": 258,
    "start_time": "2021-07-08T11:52:27.030Z"
   },
   {
    "duration": 24,
    "start_time": "2021-07-08T11:52:27.290Z"
   },
   {
    "duration": 12,
    "start_time": "2021-07-08T11:52:27.316Z"
   },
   {
    "duration": 10,
    "start_time": "2021-07-08T11:52:27.329Z"
   },
   {
    "duration": 298,
    "start_time": "2021-07-08T11:52:27.341Z"
   },
   {
    "duration": 436,
    "start_time": "2021-07-08T11:52:27.641Z"
   },
   {
    "duration": 216,
    "start_time": "2021-07-08T11:52:28.079Z"
   },
   {
    "duration": 20,
    "start_time": "2021-07-08T11:52:28.297Z"
   },
   {
    "duration": 17,
    "start_time": "2021-07-08T11:52:28.319Z"
   },
   {
    "duration": 1408,
    "start_time": "2024-01-16T20:36:03.003Z"
   },
   {
    "duration": 111,
    "start_time": "2024-01-16T20:41:50.397Z"
   },
   {
    "duration": 62,
    "start_time": "2024-01-17T07:22:03.259Z"
   },
   {
    "duration": 1372,
    "start_time": "2024-01-17T07:22:07.147Z"
   },
   {
    "duration": 258,
    "start_time": "2024-01-17T07:22:09.283Z"
   },
   {
    "duration": 15,
    "start_time": "2024-01-17T07:22:54.222Z"
   },
   {
    "duration": 20,
    "start_time": "2024-01-17T07:22:58.027Z"
   },
   {
    "duration": 1332,
    "start_time": "2024-01-17T13:42:43.160Z"
   },
   {
    "duration": 263,
    "start_time": "2024-01-17T13:42:44.494Z"
   },
   {
    "duration": 13,
    "start_time": "2024-01-17T13:42:44.759Z"
   },
   {
    "duration": 18,
    "start_time": "2024-01-17T13:42:44.773Z"
   },
   {
    "duration": 10,
    "start_time": "2024-01-17T13:43:17.037Z"
   },
   {
    "duration": 23,
    "start_time": "2024-01-17T13:43:17.756Z"
   },
   {
    "duration": 19,
    "start_time": "2024-01-17T13:43:35.374Z"
   },
   {
    "duration": 9,
    "start_time": "2024-01-17T13:43:43.213Z"
   },
   {
    "duration": 119,
    "start_time": "2024-01-17T13:44:32.827Z"
   },
   {
    "duration": 23,
    "start_time": "2024-01-17T13:44:33.724Z"
   },
   {
    "duration": 13,
    "start_time": "2024-01-17T13:44:34.879Z"
   },
   {
    "duration": 97,
    "start_time": "2024-01-17T13:57:34.881Z"
   },
   {
    "duration": 13,
    "start_time": "2024-01-17T13:58:30.998Z"
   },
   {
    "duration": 16,
    "start_time": "2024-01-17T13:58:38.653Z"
   },
   {
    "duration": 10,
    "start_time": "2024-01-17T13:58:47.904Z"
   },
   {
    "duration": 353,
    "start_time": "2024-01-17T14:04:05.623Z"
   },
   {
    "duration": 358,
    "start_time": "2024-01-17T14:05:10.347Z"
   },
   {
    "duration": 3,
    "start_time": "2024-01-17T14:05:18.312Z"
   },
   {
    "duration": 126,
    "start_time": "2024-01-17T14:05:18.905Z"
   },
   {
    "duration": 14,
    "start_time": "2024-01-17T14:05:19.819Z"
   },
   {
    "duration": 10,
    "start_time": "2024-01-17T14:05:21.300Z"
   },
   {
    "duration": 46,
    "start_time": "2024-01-17T17:52:48.453Z"
   },
   {
    "duration": 8,
    "start_time": "2024-01-17T17:53:45.623Z"
   },
   {
    "duration": 1546,
    "start_time": "2024-01-17T18:14:56.984Z"
   },
   {
    "duration": 325,
    "start_time": "2024-01-17T18:14:58.540Z"
   },
   {
    "duration": 17,
    "start_time": "2024-01-17T18:14:58.866Z"
   },
   {
    "duration": 13,
    "start_time": "2024-01-17T18:14:58.886Z"
   },
   {
    "duration": 359,
    "start_time": "2024-01-17T18:14:58.901Z"
   },
   {
    "duration": 0,
    "start_time": "2024-01-17T18:14:59.261Z"
   },
   {
    "duration": 21,
    "start_time": "2024-01-17T18:29:44.662Z"
   },
   {
    "duration": 16,
    "start_time": "2024-01-17T18:29:55.197Z"
   },
   {
    "duration": 336,
    "start_time": "2024-01-17T18:37:15.590Z"
   },
   {
    "duration": 4,
    "start_time": "2024-01-17T18:38:28.435Z"
   },
   {
    "duration": 23,
    "start_time": "2024-01-17T18:42:37.112Z"
   },
   {
    "duration": 1209,
    "start_time": "2024-01-17T19:15:04.199Z"
   },
   {
    "duration": 9,
    "start_time": "2024-01-17T19:15:54.445Z"
   },
   {
    "duration": 11,
    "start_time": "2024-01-17T19:17:08.399Z"
   },
   {
    "duration": 18,
    "start_time": "2024-01-17T19:17:45.486Z"
   },
   {
    "duration": 36,
    "start_time": "2024-01-17T19:18:32.106Z"
   },
   {
    "duration": 20,
    "start_time": "2024-01-17T19:22:08.590Z"
   },
   {
    "duration": 3,
    "start_time": "2024-01-17T19:22:27.063Z"
   },
   {
    "duration": 171,
    "start_time": "2024-01-17T19:22:27.068Z"
   },
   {
    "duration": 14,
    "start_time": "2024-01-17T19:22:27.241Z"
   },
   {
    "duration": 14,
    "start_time": "2024-01-17T19:22:27.256Z"
   },
   {
    "duration": 28,
    "start_time": "2024-01-17T19:22:27.272Z"
   },
   {
    "duration": 41,
    "start_time": "2024-01-17T19:22:27.302Z"
   },
   {
    "duration": 29,
    "start_time": "2024-01-17T19:22:27.346Z"
   },
   {
    "duration": 13,
    "start_time": "2024-01-17T19:22:54.364Z"
   },
   {
    "duration": 4,
    "start_time": "2024-01-17T19:23:31.340Z"
   },
   {
    "duration": 188,
    "start_time": "2024-01-17T19:23:31.345Z"
   },
   {
    "duration": 16,
    "start_time": "2024-01-17T19:23:31.538Z"
   },
   {
    "duration": 49,
    "start_time": "2024-01-17T19:23:31.555Z"
   },
   {
    "duration": 53,
    "start_time": "2024-01-17T19:23:31.606Z"
   },
   {
    "duration": 32,
    "start_time": "2024-01-17T19:23:31.660Z"
   },
   {
    "duration": 0,
    "start_time": "2024-01-17T19:23:31.694Z"
   },
   {
    "duration": 11,
    "start_time": "2024-01-17T19:23:53.085Z"
   },
   {
    "duration": 23,
    "start_time": "2024-01-17T19:24:03.708Z"
   },
   {
    "duration": 3,
    "start_time": "2024-01-17T19:24:14.481Z"
   },
   {
    "duration": 143,
    "start_time": "2024-01-17T19:24:14.486Z"
   },
   {
    "duration": 21,
    "start_time": "2024-01-17T19:24:14.631Z"
   },
   {
    "duration": 10,
    "start_time": "2024-01-17T19:24:14.653Z"
   },
   {
    "duration": 10,
    "start_time": "2024-01-17T19:24:14.665Z"
   },
   {
    "duration": 18,
    "start_time": "2024-01-17T19:24:14.677Z"
   },
   {
    "duration": 3,
    "start_time": "2024-01-17T19:24:14.696Z"
   },
   {
    "duration": 10,
    "start_time": "2024-01-17T19:24:27.865Z"
   },
   {
    "duration": 15,
    "start_time": "2024-01-17T19:24:30.435Z"
   },
   {
    "duration": 12,
    "start_time": "2024-01-17T19:24:41.532Z"
   },
   {
    "duration": 140,
    "start_time": "2024-01-17T19:24:41.546Z"
   },
   {
    "duration": 15,
    "start_time": "2024-01-17T19:24:41.687Z"
   },
   {
    "duration": 34,
    "start_time": "2024-01-17T19:24:41.703Z"
   },
   {
    "duration": 14,
    "start_time": "2024-01-17T19:24:41.743Z"
   },
   {
    "duration": 24,
    "start_time": "2024-01-17T19:24:41.759Z"
   },
   {
    "duration": 0,
    "start_time": "2024-01-17T19:24:41.785Z"
   },
   {
    "duration": 69,
    "start_time": "2024-01-17T19:25:35.803Z"
   },
   {
    "duration": 17,
    "start_time": "2024-01-17T19:25:47.464Z"
   },
   {
    "duration": 13,
    "start_time": "2024-01-17T19:25:55.038Z"
   },
   {
    "duration": 3,
    "start_time": "2024-01-17T19:26:56.448Z"
   },
   {
    "duration": 144,
    "start_time": "2024-01-17T19:26:56.453Z"
   },
   {
    "duration": 15,
    "start_time": "2024-01-17T19:26:56.599Z"
   },
   {
    "duration": 15,
    "start_time": "2024-01-17T19:26:56.618Z"
   },
   {
    "duration": 21,
    "start_time": "2024-01-17T19:26:56.638Z"
   },
   {
    "duration": 31,
    "start_time": "2024-01-17T19:26:56.661Z"
   },
   {
    "duration": 3,
    "start_time": "2024-01-17T19:26:56.694Z"
   },
   {
    "duration": 16,
    "start_time": "2024-01-17T19:28:09.512Z"
   },
   {
    "duration": 30,
    "start_time": "2024-01-17T19:33:42.783Z"
   },
   {
    "duration": 25,
    "start_time": "2024-01-17T19:34:08.187Z"
   },
   {
    "duration": 4,
    "start_time": "2024-01-17T19:34:36.868Z"
   },
   {
    "duration": 176,
    "start_time": "2024-01-17T19:34:36.874Z"
   },
   {
    "duration": 17,
    "start_time": "2024-01-17T19:34:37.052Z"
   },
   {
    "duration": 10,
    "start_time": "2024-01-17T19:34:37.071Z"
   },
   {
    "duration": 12,
    "start_time": "2024-01-17T19:34:37.083Z"
   },
   {
    "duration": 15,
    "start_time": "2024-01-17T19:34:37.096Z"
   },
   {
    "duration": 10,
    "start_time": "2024-01-17T19:34:37.112Z"
   },
   {
    "duration": 32,
    "start_time": "2024-01-17T19:34:37.124Z"
   },
   {
    "duration": 28,
    "start_time": "2024-01-17T19:35:08.257Z"
   },
   {
    "duration": 29,
    "start_time": "2024-01-17T19:35:29.443Z"
   },
   {
    "duration": 31,
    "start_time": "2024-01-17T19:36:18.221Z"
   },
   {
    "duration": 27,
    "start_time": "2024-01-17T20:03:44.114Z"
   },
   {
    "duration": 28,
    "start_time": "2024-01-17T20:08:16.915Z"
   },
   {
    "duration": 1150,
    "start_time": "2024-01-17T20:19:39.506Z"
   },
   {
    "duration": 5,
    "start_time": "2024-01-17T20:19:50.064Z"
   },
   {
    "duration": 21,
    "start_time": "2024-01-17T20:33:19.492Z"
   },
   {
    "duration": 19,
    "start_time": "2024-01-17T20:33:28.111Z"
   },
   {
    "duration": 19,
    "start_time": "2024-01-17T20:39:30.334Z"
   },
   {
    "duration": 27,
    "start_time": "2024-01-17T20:42:44.786Z"
   },
   {
    "duration": 29,
    "start_time": "2024-01-17T20:42:57.042Z"
   },
   {
    "duration": 12,
    "start_time": "2024-01-17T20:43:22.088Z"
   },
   {
    "duration": 9,
    "start_time": "2024-01-17T20:43:48.878Z"
   },
   {
    "duration": 52,
    "start_time": "2024-01-18T05:53:27.670Z"
   },
   {
    "duration": 1459,
    "start_time": "2024-01-18T05:53:34.677Z"
   },
   {
    "duration": 278,
    "start_time": "2024-01-18T05:53:36.138Z"
   },
   {
    "duration": 17,
    "start_time": "2024-01-18T05:53:36.418Z"
   },
   {
    "duration": 35,
    "start_time": "2024-01-18T05:53:36.437Z"
   },
   {
    "duration": 15,
    "start_time": "2024-01-18T05:53:36.474Z"
   },
   {
    "duration": 22,
    "start_time": "2024-01-18T05:53:36.490Z"
   },
   {
    "duration": 16,
    "start_time": "2024-01-18T05:53:36.514Z"
   },
   {
    "duration": 24,
    "start_time": "2024-01-18T05:53:36.531Z"
   },
   {
    "duration": 14,
    "start_time": "2024-01-18T05:53:36.557Z"
   },
   {
    "duration": 6,
    "start_time": "2024-01-18T05:53:36.573Z"
   },
   {
    "duration": 24,
    "start_time": "2024-01-18T05:53:36.580Z"
   },
   {
    "duration": 32,
    "start_time": "2024-01-18T05:53:36.606Z"
   },
   {
    "duration": 29,
    "start_time": "2024-01-18T05:53:36.639Z"
   },
   {
    "duration": 27,
    "start_time": "2024-01-18T06:07:56.503Z"
   },
   {
    "duration": 23,
    "start_time": "2024-01-18T07:18:36.519Z"
   },
   {
    "duration": 16,
    "start_time": "2024-01-18T07:18:50.933Z"
   },
   {
    "duration": 7,
    "start_time": "2024-01-18T07:39:33.744Z"
   },
   {
    "duration": 72,
    "start_time": "2024-01-18T07:40:26.727Z"
   },
   {
    "duration": 33,
    "start_time": "2024-01-18T07:40:45.844Z"
   },
   {
    "duration": 59,
    "start_time": "2024-01-18T11:16:43.338Z"
   },
   {
    "duration": 1377,
    "start_time": "2024-01-18T11:16:51.538Z"
   },
   {
    "duration": 290,
    "start_time": "2024-01-18T11:16:52.918Z"
   },
   {
    "duration": 14,
    "start_time": "2024-01-18T11:16:53.210Z"
   },
   {
    "duration": 8,
    "start_time": "2024-01-18T11:16:53.225Z"
   },
   {
    "duration": 51,
    "start_time": "2024-01-18T11:16:53.236Z"
   },
   {
    "duration": 14,
    "start_time": "2024-01-18T11:16:53.289Z"
   },
   {
    "duration": 13,
    "start_time": "2024-01-18T11:16:53.305Z"
   },
   {
    "duration": 28,
    "start_time": "2024-01-18T11:16:53.320Z"
   },
   {
    "duration": 23,
    "start_time": "2024-01-18T11:16:53.350Z"
   },
   {
    "duration": 12,
    "start_time": "2024-01-18T11:16:53.375Z"
   },
   {
    "duration": 41,
    "start_time": "2024-01-18T11:16:53.389Z"
   },
   {
    "duration": 33,
    "start_time": "2024-01-18T11:16:53.431Z"
   },
   {
    "duration": 17,
    "start_time": "2024-01-18T11:16:53.466Z"
   },
   {
    "duration": 26,
    "start_time": "2024-01-18T11:16:53.485Z"
   },
   {
    "duration": 30,
    "start_time": "2024-01-18T11:16:53.513Z"
   },
   {
    "duration": 27,
    "start_time": "2024-01-18T11:17:28.127Z"
   },
   {
    "duration": 11,
    "start_time": "2024-01-18T11:28:57.488Z"
   },
   {
    "duration": 4,
    "start_time": "2024-01-18T11:32:59.510Z"
   },
   {
    "duration": 2,
    "start_time": "2024-01-18T11:33:04.378Z"
   },
   {
    "duration": 138,
    "start_time": "2024-01-18T11:33:04.382Z"
   },
   {
    "duration": 14,
    "start_time": "2024-01-18T11:33:04.521Z"
   },
   {
    "duration": 43,
    "start_time": "2024-01-18T11:33:04.536Z"
   },
   {
    "duration": 11,
    "start_time": "2024-01-18T11:33:04.582Z"
   },
   {
    "duration": 10,
    "start_time": "2024-01-18T11:33:04.594Z"
   },
   {
    "duration": 13,
    "start_time": "2024-01-18T11:33:04.606Z"
   },
   {
    "duration": 37,
    "start_time": "2024-01-18T11:33:04.621Z"
   },
   {
    "duration": 19,
    "start_time": "2024-01-18T11:33:04.663Z"
   },
   {
    "duration": 35,
    "start_time": "2024-01-18T11:33:04.685Z"
   },
   {
    "duration": 157,
    "start_time": "2024-01-18T11:33:04.721Z"
   },
   {
    "duration": 0,
    "start_time": "2024-01-18T11:33:04.880Z"
   },
   {
    "duration": 0,
    "start_time": "2024-01-18T11:33:04.882Z"
   },
   {
    "duration": 0,
    "start_time": "2024-01-18T11:33:04.884Z"
   },
   {
    "duration": 0,
    "start_time": "2024-01-18T11:33:04.885Z"
   },
   {
    "duration": 0,
    "start_time": "2024-01-18T11:33:04.886Z"
   },
   {
    "duration": 15,
    "start_time": "2024-01-18T11:33:45.323Z"
   },
   {
    "duration": 8,
    "start_time": "2024-01-18T11:35:47.419Z"
   },
   {
    "duration": 15,
    "start_time": "2024-01-18T11:35:55.211Z"
   },
   {
    "duration": 21,
    "start_time": "2024-01-18T11:36:12.966Z"
   },
   {
    "duration": 26,
    "start_time": "2024-01-18T11:36:15.882Z"
   },
   {
    "duration": 11,
    "start_time": "2024-01-18T11:37:51.003Z"
   },
   {
    "duration": 27,
    "start_time": "2024-01-18T11:38:08.619Z"
   },
   {
    "duration": 32,
    "start_time": "2024-01-18T11:38:31.931Z"
   },
   {
    "duration": 17,
    "start_time": "2024-01-18T11:44:41.867Z"
   },
   {
    "duration": 28,
    "start_time": "2024-01-18T11:47:00.548Z"
   },
   {
    "duration": 37,
    "start_time": "2024-01-18T11:47:13.544Z"
   },
   {
    "duration": 15,
    "start_time": "2024-01-18T12:13:30.299Z"
   },
   {
    "duration": 20,
    "start_time": "2024-01-18T12:21:46.257Z"
   },
   {
    "duration": 9,
    "start_time": "2024-01-18T12:22:24.956Z"
   },
   {
    "duration": 1197,
    "start_time": "2024-01-18T12:22:57.877Z"
   },
   {
    "duration": 1391,
    "start_time": "2024-01-18T12:25:34.116Z"
   },
   {
    "duration": 1240,
    "start_time": "2024-01-18T12:25:46.181Z"
   },
   {
    "duration": 10,
    "start_time": "2024-01-18T12:26:02.381Z"
   },
   {
    "duration": 111,
    "start_time": "2024-01-18T12:27:07.551Z"
   },
   {
    "duration": 90,
    "start_time": "2024-01-18T12:27:39.185Z"
   },
   {
    "duration": 1345,
    "start_time": "2024-01-18T12:28:01.671Z"
   },
   {
    "duration": 3,
    "start_time": "2024-01-18T12:28:30.987Z"
   },
   {
    "duration": 192,
    "start_time": "2024-01-18T12:28:30.993Z"
   },
   {
    "duration": 26,
    "start_time": "2024-01-18T12:28:31.187Z"
   },
   {
    "duration": 23,
    "start_time": "2024-01-18T12:28:31.215Z"
   },
   {
    "duration": 52,
    "start_time": "2024-01-18T12:28:31.240Z"
   },
   {
    "duration": 32,
    "start_time": "2024-01-18T12:28:31.293Z"
   },
   {
    "duration": 54,
    "start_time": "2024-01-18T12:28:31.326Z"
   },
   {
    "duration": 49,
    "start_time": "2024-01-18T12:28:31.381Z"
   },
   {
    "duration": 17,
    "start_time": "2024-01-18T12:28:31.432Z"
   },
   {
    "duration": 27,
    "start_time": "2024-01-18T12:28:31.451Z"
   },
   {
    "duration": 84,
    "start_time": "2024-01-18T12:28:31.480Z"
   },
   {
    "duration": 56,
    "start_time": "2024-01-18T12:28:31.566Z"
   },
   {
    "duration": 73,
    "start_time": "2024-01-18T12:28:31.623Z"
   },
   {
    "duration": 47,
    "start_time": "2024-01-18T12:28:31.699Z"
   },
   {
    "duration": 97,
    "start_time": "2024-01-18T12:28:31.748Z"
   },
   {
    "duration": 46,
    "start_time": "2024-01-18T12:28:31.847Z"
   },
   {
    "duration": 43,
    "start_time": "2024-01-18T12:28:31.896Z"
   },
   {
    "duration": 122,
    "start_time": "2024-01-18T12:28:31.941Z"
   },
   {
    "duration": 102,
    "start_time": "2024-01-18T12:28:48.244Z"
   },
   {
    "duration": 1315,
    "start_time": "2024-01-18T12:29:05.967Z"
   },
   {
    "duration": 3,
    "start_time": "2024-01-18T12:29:11.331Z"
   },
   {
    "duration": 158,
    "start_time": "2024-01-18T12:29:11.336Z"
   },
   {
    "duration": 23,
    "start_time": "2024-01-18T12:29:11.495Z"
   },
   {
    "duration": 11,
    "start_time": "2024-01-18T12:29:11.520Z"
   },
   {
    "duration": 40,
    "start_time": "2024-01-18T12:29:11.533Z"
   },
   {
    "duration": 13,
    "start_time": "2024-01-18T12:29:11.575Z"
   },
   {
    "duration": 20,
    "start_time": "2024-01-18T12:29:11.590Z"
   },
   {
    "duration": 28,
    "start_time": "2024-01-18T12:29:11.611Z"
   },
   {
    "duration": 19,
    "start_time": "2024-01-18T12:29:11.641Z"
   },
   {
    "duration": 17,
    "start_time": "2024-01-18T12:29:11.662Z"
   },
   {
    "duration": 44,
    "start_time": "2024-01-18T12:29:11.680Z"
   },
   {
    "duration": 15,
    "start_time": "2024-01-18T12:29:11.726Z"
   },
   {
    "duration": 17,
    "start_time": "2024-01-18T12:29:11.743Z"
   },
   {
    "duration": 24,
    "start_time": "2024-01-18T12:29:11.763Z"
   },
   {
    "duration": 31,
    "start_time": "2024-01-18T12:29:11.789Z"
   },
   {
    "duration": 35,
    "start_time": "2024-01-18T12:29:11.822Z"
   },
   {
    "duration": 22,
    "start_time": "2024-01-18T12:29:11.859Z"
   },
   {
    "duration": 1337,
    "start_time": "2024-01-18T12:29:11.882Z"
   },
   {
    "duration": 10,
    "start_time": "2024-01-18T12:29:21.050Z"
   },
   {
    "duration": 9,
    "start_time": "2024-01-18T12:30:05.489Z"
   },
   {
    "duration": 7,
    "start_time": "2024-01-18T12:30:35.204Z"
   },
   {
    "duration": 20,
    "start_time": "2024-01-18T12:30:35.755Z"
   },
   {
    "duration": 16,
    "start_time": "2024-01-18T12:30:36.339Z"
   },
   {
    "duration": 5,
    "start_time": "2024-01-18T12:30:39.091Z"
   },
   {
    "duration": 13,
    "start_time": "2024-01-18T12:41:11.575Z"
   },
   {
    "duration": 12,
    "start_time": "2024-01-18T12:41:20.859Z"
   },
   {
    "duration": 4,
    "start_time": "2024-01-18T12:41:36.624Z"
   },
   {
    "duration": 4,
    "start_time": "2024-01-18T12:43:03.946Z"
   },
   {
    "duration": 8,
    "start_time": "2024-01-18T12:44:20.336Z"
   },
   {
    "duration": 2,
    "start_time": "2024-01-18T12:49:01.827Z"
   },
   {
    "duration": 16,
    "start_time": "2024-01-18T12:50:28.551Z"
   },
   {
    "duration": 9,
    "start_time": "2024-01-18T12:50:49.741Z"
   },
   {
    "duration": 1367,
    "start_time": "2024-01-19T06:49:41.597Z"
   },
   {
    "duration": 281,
    "start_time": "2024-01-19T06:49:42.966Z"
   },
   {
    "duration": 18,
    "start_time": "2024-01-19T06:49:43.249Z"
   },
   {
    "duration": 11,
    "start_time": "2024-01-19T06:49:43.268Z"
   },
   {
    "duration": 14,
    "start_time": "2024-01-19T06:49:43.282Z"
   },
   {
    "duration": 15,
    "start_time": "2024-01-19T06:49:43.297Z"
   },
   {
    "duration": 5,
    "start_time": "2024-01-19T06:49:43.314Z"
   },
   {
    "duration": 57,
    "start_time": "2024-01-19T06:49:43.321Z"
   },
   {
    "duration": 14,
    "start_time": "2024-01-19T06:49:43.380Z"
   },
   {
    "duration": 13,
    "start_time": "2024-01-19T06:49:43.395Z"
   },
   {
    "duration": 17,
    "start_time": "2024-01-19T06:49:43.410Z"
   },
   {
    "duration": 36,
    "start_time": "2024-01-19T06:49:43.429Z"
   },
   {
    "duration": 10,
    "start_time": "2024-01-19T06:49:43.466Z"
   },
   {
    "duration": 18,
    "start_time": "2024-01-19T06:49:43.479Z"
   },
   {
    "duration": 60,
    "start_time": "2024-01-19T06:49:43.499Z"
   },
   {
    "duration": 17,
    "start_time": "2024-01-19T06:49:43.561Z"
   },
   {
    "duration": 15,
    "start_time": "2024-01-19T06:49:43.579Z"
   },
   {
    "duration": 9,
    "start_time": "2024-01-19T06:49:43.596Z"
   },
   {
    "duration": 3,
    "start_time": "2024-01-19T06:49:43.607Z"
   },
   {
    "duration": 11,
    "start_time": "2024-01-19T06:49:43.612Z"
   },
   {
    "duration": 1234,
    "start_time": "2024-01-19T10:58:27.995Z"
   },
   {
    "duration": 276,
    "start_time": "2024-01-19T10:58:29.231Z"
   },
   {
    "duration": 15,
    "start_time": "2024-01-19T10:58:29.508Z"
   },
   {
    "duration": 79,
    "start_time": "2024-01-19T10:58:29.525Z"
   },
   {
    "duration": 12,
    "start_time": "2024-01-19T10:58:29.607Z"
   },
   {
    "duration": 12,
    "start_time": "2024-01-19T10:58:29.621Z"
   },
   {
    "duration": 20,
    "start_time": "2024-01-19T10:58:29.634Z"
   },
   {
    "duration": 28,
    "start_time": "2024-01-19T10:58:29.655Z"
   },
   {
    "duration": 12,
    "start_time": "2024-01-19T10:58:29.685Z"
   },
   {
    "duration": 15,
    "start_time": "2024-01-19T10:58:29.698Z"
   },
   {
    "duration": 22,
    "start_time": "2024-01-19T10:58:29.715Z"
   },
   {
    "duration": 16,
    "start_time": "2024-01-19T10:58:29.738Z"
   },
   {
    "duration": 8,
    "start_time": "2024-01-19T10:58:29.756Z"
   },
   {
    "duration": 20,
    "start_time": "2024-01-19T10:58:29.766Z"
   },
   {
    "duration": 29,
    "start_time": "2024-01-19T10:58:29.787Z"
   },
   {
    "duration": 34,
    "start_time": "2024-01-19T10:58:29.818Z"
   },
   {
    "duration": 12,
    "start_time": "2024-01-19T10:58:29.854Z"
   },
   {
    "duration": 10,
    "start_time": "2024-01-19T10:58:29.867Z"
   },
   {
    "duration": 16,
    "start_time": "2024-01-19T10:58:29.879Z"
   },
   {
    "duration": 11,
    "start_time": "2024-01-19T10:58:29.896Z"
   },
   {
    "duration": 23,
    "start_time": "2024-01-19T11:04:29.300Z"
   },
   {
    "duration": 5,
    "start_time": "2024-01-19T11:05:49.481Z"
   },
   {
    "duration": 23,
    "start_time": "2024-01-19T11:05:59.573Z"
   },
   {
    "duration": 1312,
    "start_time": "2024-01-19T20:25:59.457Z"
   },
   {
    "duration": 267,
    "start_time": "2024-01-19T20:26:00.770Z"
   },
   {
    "duration": 16,
    "start_time": "2024-01-19T20:26:01.038Z"
   },
   {
    "duration": 29,
    "start_time": "2024-01-19T20:26:01.055Z"
   },
   {
    "duration": 39,
    "start_time": "2024-01-19T20:26:01.086Z"
   },
   {
    "duration": 36,
    "start_time": "2024-01-19T20:26:01.126Z"
   },
   {
    "duration": 28,
    "start_time": "2024-01-19T20:26:01.164Z"
   },
   {
    "duration": 61,
    "start_time": "2024-01-19T20:26:01.194Z"
   },
   {
    "duration": 31,
    "start_time": "2024-01-19T20:26:01.257Z"
   },
   {
    "duration": 36,
    "start_time": "2024-01-19T20:26:01.290Z"
   },
   {
    "duration": 56,
    "start_time": "2024-01-19T20:26:01.328Z"
   },
   {
    "duration": 66,
    "start_time": "2024-01-19T20:26:01.385Z"
   },
   {
    "duration": 31,
    "start_time": "2024-01-19T20:26:01.452Z"
   },
   {
    "duration": 43,
    "start_time": "2024-01-19T20:26:01.485Z"
   },
   {
    "duration": 42,
    "start_time": "2024-01-19T20:26:01.529Z"
   },
   {
    "duration": 39,
    "start_time": "2024-01-19T20:26:01.572Z"
   },
   {
    "duration": 37,
    "start_time": "2024-01-19T20:26:01.613Z"
   },
   {
    "duration": 10,
    "start_time": "2024-01-19T20:26:01.651Z"
   },
   {
    "duration": 14,
    "start_time": "2024-01-19T20:26:01.662Z"
   },
   {
    "duration": 28,
    "start_time": "2024-01-19T20:26:01.678Z"
   },
   {
    "duration": 50,
    "start_time": "2024-01-19T20:26:01.708Z"
   },
   {
    "duration": 1331,
    "start_time": "2024-01-22T05:43:14.188Z"
   },
   {
    "duration": 345,
    "start_time": "2024-01-22T05:43:15.521Z"
   },
   {
    "duration": 16,
    "start_time": "2024-01-22T05:43:15.867Z"
   },
   {
    "duration": 11,
    "start_time": "2024-01-22T05:43:15.885Z"
   },
   {
    "duration": 13,
    "start_time": "2024-01-22T05:43:15.898Z"
   },
   {
    "duration": 11,
    "start_time": "2024-01-22T05:43:15.913Z"
   },
   {
    "duration": 12,
    "start_time": "2024-01-22T05:43:15.926Z"
   },
   {
    "duration": 23,
    "start_time": "2024-01-22T05:43:15.940Z"
   },
   {
    "duration": 14,
    "start_time": "2024-01-22T05:43:15.980Z"
   },
   {
    "duration": 6,
    "start_time": "2024-01-22T05:43:15.995Z"
   },
   {
    "duration": 22,
    "start_time": "2024-01-22T05:43:16.003Z"
   },
   {
    "duration": 16,
    "start_time": "2024-01-22T05:43:16.026Z"
   },
   {
    "duration": 40,
    "start_time": "2024-01-22T05:43:16.044Z"
   },
   {
    "duration": 19,
    "start_time": "2024-01-22T05:43:16.087Z"
   },
   {
    "duration": 33,
    "start_time": "2024-01-22T05:43:16.108Z"
   },
   {
    "duration": 40,
    "start_time": "2024-01-22T05:43:16.142Z"
   },
   {
    "duration": 25,
    "start_time": "2024-01-22T05:43:16.184Z"
   },
   {
    "duration": 5,
    "start_time": "2024-01-22T05:43:16.210Z"
   },
   {
    "duration": 16,
    "start_time": "2024-01-22T05:43:16.216Z"
   },
   {
    "duration": 9,
    "start_time": "2024-01-22T05:43:16.233Z"
   },
   {
    "duration": 24,
    "start_time": "2024-01-22T05:43:16.243Z"
   },
   {
    "duration": 19,
    "start_time": "2024-01-22T05:52:22.016Z"
   },
   {
    "duration": 3,
    "start_time": "2024-01-22T06:23:56.266Z"
   },
   {
    "duration": 104,
    "start_time": "2024-01-22T06:23:58.311Z"
   },
   {
    "duration": 11,
    "start_time": "2024-01-22T06:24:16.707Z"
   },
   {
    "duration": 3,
    "start_time": "2024-01-22T06:24:52.658Z"
   },
   {
    "duration": 12,
    "start_time": "2024-01-22T06:24:54.500Z"
   },
   {
    "duration": 17,
    "start_time": "2024-01-22T06:25:11.450Z"
   },
   {
    "duration": 3,
    "start_time": "2024-01-22T06:25:48.909Z"
   },
   {
    "duration": 11,
    "start_time": "2024-01-22T06:25:49.438Z"
   },
   {
    "duration": 18,
    "start_time": "2024-01-22T06:25:50.903Z"
   },
   {
    "duration": 3,
    "start_time": "2024-01-22T06:27:50.211Z"
   },
   {
    "duration": 11,
    "start_time": "2024-01-22T06:27:51.805Z"
   },
   {
    "duration": 18,
    "start_time": "2024-01-22T06:27:53.136Z"
   },
   {
    "duration": 18,
    "start_time": "2024-01-22T06:31:46.104Z"
   },
   {
    "duration": 3,
    "start_time": "2024-01-22T06:32:18.832Z"
   },
   {
    "duration": 260,
    "start_time": "2024-01-22T06:32:19.986Z"
   },
   {
    "duration": 3,
    "start_time": "2024-01-22T06:33:15.581Z"
   },
   {
    "duration": 12,
    "start_time": "2024-01-22T06:33:16.499Z"
   },
   {
    "duration": 16,
    "start_time": "2024-01-22T06:33:20.458Z"
   },
   {
    "duration": 5,
    "start_time": "2024-01-22T06:45:22.119Z"
   },
   {
    "duration": 5,
    "start_time": "2024-01-22T07:06:30.291Z"
   },
   {
    "duration": 11,
    "start_time": "2024-01-22T07:06:51.920Z"
   },
   {
    "duration": 10,
    "start_time": "2024-01-22T07:11:48.948Z"
   },
   {
    "duration": 34,
    "start_time": "2024-01-22T07:24:51.800Z"
   },
   {
    "duration": 2,
    "start_time": "2024-01-22T07:25:11.937Z"
   },
   {
    "duration": 142,
    "start_time": "2024-01-22T07:25:11.942Z"
   },
   {
    "duration": 15,
    "start_time": "2024-01-22T07:25:12.086Z"
   },
   {
    "duration": 10,
    "start_time": "2024-01-22T07:25:12.103Z"
   },
   {
    "duration": 12,
    "start_time": "2024-01-22T07:25:12.117Z"
   },
   {
    "duration": 13,
    "start_time": "2024-01-22T07:25:12.131Z"
   },
   {
    "duration": 37,
    "start_time": "2024-01-22T07:25:12.146Z"
   },
   {
    "duration": 23,
    "start_time": "2024-01-22T07:25:12.185Z"
   },
   {
    "duration": 12,
    "start_time": "2024-01-22T07:25:12.210Z"
   },
   {
    "duration": 8,
    "start_time": "2024-01-22T07:25:12.223Z"
   },
   {
    "duration": 26,
    "start_time": "2024-01-22T07:25:12.233Z"
   },
   {
    "duration": 27,
    "start_time": "2024-01-22T07:25:12.261Z"
   },
   {
    "duration": 9,
    "start_time": "2024-01-22T07:25:12.290Z"
   },
   {
    "duration": 18,
    "start_time": "2024-01-22T07:25:12.302Z"
   },
   {
    "duration": 31,
    "start_time": "2024-01-22T07:25:12.322Z"
   },
   {
    "duration": 43,
    "start_time": "2024-01-22T07:25:12.355Z"
   },
   {
    "duration": 16,
    "start_time": "2024-01-22T07:25:12.399Z"
   },
   {
    "duration": 5,
    "start_time": "2024-01-22T07:25:12.416Z"
   },
   {
    "duration": 9,
    "start_time": "2024-01-22T07:25:12.422Z"
   },
   {
    "duration": 23,
    "start_time": "2024-01-22T07:25:12.432Z"
   },
   {
    "duration": 43,
    "start_time": "2024-01-22T07:25:12.456Z"
   },
   {
    "duration": 26,
    "start_time": "2024-01-22T07:25:12.500Z"
   },
   {
    "duration": 23,
    "start_time": "2024-01-22T07:25:12.527Z"
   },
   {
    "duration": 3,
    "start_time": "2024-01-22T07:25:12.551Z"
   },
   {
    "duration": 32,
    "start_time": "2024-01-22T07:25:12.556Z"
   },
   {
    "duration": 8,
    "start_time": "2024-01-22T07:25:12.590Z"
   },
   {
    "duration": 83,
    "start_time": "2024-01-22T07:25:12.599Z"
   },
   {
    "duration": 5,
    "start_time": "2024-01-22T07:29:27.655Z"
   },
   {
    "duration": 33,
    "start_time": "2024-01-22T07:29:47.139Z"
   },
   {
    "duration": 5,
    "start_time": "2024-01-22T07:31:09.620Z"
   },
   {
    "duration": 28,
    "start_time": "2024-01-22T07:31:19.121Z"
   },
   {
    "duration": 3,
    "start_time": "2024-01-22T07:32:30.210Z"
   },
   {
    "duration": 223,
    "start_time": "2024-01-22T07:32:30.216Z"
   },
   {
    "duration": 17,
    "start_time": "2024-01-22T07:32:30.440Z"
   },
   {
    "duration": 47,
    "start_time": "2024-01-22T07:32:30.458Z"
   },
   {
    "duration": 73,
    "start_time": "2024-01-22T07:32:30.507Z"
   },
   {
    "duration": 82,
    "start_time": "2024-01-22T07:32:30.582Z"
   },
   {
    "duration": 37,
    "start_time": "2024-01-22T07:32:30.666Z"
   },
   {
    "duration": 115,
    "start_time": "2024-01-22T07:32:30.704Z"
   },
   {
    "duration": 35,
    "start_time": "2024-01-22T07:32:30.821Z"
   },
   {
    "duration": 37,
    "start_time": "2024-01-22T07:32:30.857Z"
   },
   {
    "duration": 66,
    "start_time": "2024-01-22T07:32:30.896Z"
   },
   {
    "duration": 49,
    "start_time": "2024-01-22T07:32:30.964Z"
   },
   {
    "duration": 43,
    "start_time": "2024-01-22T07:32:31.015Z"
   },
   {
    "duration": 107,
    "start_time": "2024-01-22T07:32:31.061Z"
   },
   {
    "duration": 53,
    "start_time": "2024-01-22T07:32:31.170Z"
   },
   {
    "duration": 25,
    "start_time": "2024-01-22T07:32:31.224Z"
   },
   {
    "duration": 28,
    "start_time": "2024-01-22T07:32:31.251Z"
   },
   {
    "duration": 46,
    "start_time": "2024-01-22T07:32:31.281Z"
   },
   {
    "duration": 55,
    "start_time": "2024-01-22T07:32:31.329Z"
   },
   {
    "duration": 50,
    "start_time": "2024-01-22T07:32:31.385Z"
   },
   {
    "duration": 90,
    "start_time": "2024-01-22T07:32:31.436Z"
   },
   {
    "duration": 152,
    "start_time": "2024-01-22T07:32:31.528Z"
   },
   {
    "duration": 90,
    "start_time": "2024-01-22T07:32:31.682Z"
   },
   {
    "duration": 160,
    "start_time": "2024-01-22T07:32:31.773Z"
   },
   {
    "duration": 145,
    "start_time": "2024-01-22T07:32:31.935Z"
   },
   {
    "duration": 29,
    "start_time": "2024-01-22T07:32:32.082Z"
   },
   {
    "duration": 11,
    "start_time": "2024-01-22T07:32:32.113Z"
   },
   {
    "duration": 14,
    "start_time": "2024-01-22T07:33:08.402Z"
   },
   {
    "duration": 9,
    "start_time": "2024-01-22T07:33:40.468Z"
   },
   {
    "duration": 78,
    "start_time": "2024-01-22T07:43:36.817Z"
   },
   {
    "duration": 10,
    "start_time": "2024-01-22T07:45:02.131Z"
   },
   {
    "duration": 4,
    "start_time": "2024-01-22T07:45:15.017Z"
   },
   {
    "duration": 9,
    "start_time": "2024-01-22T07:45:16.666Z"
   },
   {
    "duration": 16,
    "start_time": "2024-01-22T08:18:41.338Z"
   },
   {
    "duration": 4,
    "start_time": "2024-01-22T08:19:19.022Z"
   },
   {
    "duration": 6,
    "start_time": "2024-01-22T08:19:29.058Z"
   },
   {
    "duration": 7,
    "start_time": "2024-01-22T08:21:27.511Z"
   },
   {
    "duration": 8,
    "start_time": "2024-01-22T08:22:38.895Z"
   },
   {
    "duration": 6,
    "start_time": "2024-01-22T08:25:11.183Z"
   },
   {
    "duration": 11,
    "start_time": "2024-01-22T08:28:37.264Z"
   },
   {
    "duration": 24,
    "start_time": "2024-01-22T08:29:13.539Z"
   },
   {
    "duration": 8,
    "start_time": "2024-01-22T08:29:37.200Z"
   },
   {
    "duration": 7,
    "start_time": "2024-01-22T08:29:57.166Z"
   },
   {
    "duration": 10,
    "start_time": "2024-01-22T08:33:29.955Z"
   },
   {
    "duration": 7,
    "start_time": "2024-01-22T08:35:31.368Z"
   },
   {
    "duration": 724,
    "start_time": "2024-01-22T08:37:18.413Z"
   },
   {
    "duration": 10,
    "start_time": "2024-01-22T08:43:09.734Z"
   },
   {
    "duration": 10,
    "start_time": "2024-01-22T08:43:35.141Z"
   },
   {
    "duration": 9,
    "start_time": "2024-01-22T08:45:33.841Z"
   },
   {
    "duration": 10,
    "start_time": "2024-01-22T08:46:40.052Z"
   },
   {
    "duration": 9,
    "start_time": "2024-01-22T08:47:46.663Z"
   },
   {
    "duration": 10,
    "start_time": "2024-01-22T08:49:20.698Z"
   },
   {
    "duration": 3,
    "start_time": "2024-01-22T08:49:30.935Z"
   },
   {
    "duration": 170,
    "start_time": "2024-01-22T08:49:30.940Z"
   },
   {
    "duration": 16,
    "start_time": "2024-01-22T08:49:31.112Z"
   },
   {
    "duration": 36,
    "start_time": "2024-01-22T08:49:31.130Z"
   },
   {
    "duration": 29,
    "start_time": "2024-01-22T08:49:31.167Z"
   },
   {
    "duration": 56,
    "start_time": "2024-01-22T08:49:31.198Z"
   },
   {
    "duration": 20,
    "start_time": "2024-01-22T08:49:31.256Z"
   },
   {
    "duration": 55,
    "start_time": "2024-01-22T08:49:31.278Z"
   },
   {
    "duration": 20,
    "start_time": "2024-01-22T08:49:31.335Z"
   },
   {
    "duration": 30,
    "start_time": "2024-01-22T08:49:31.357Z"
   },
   {
    "duration": 65,
    "start_time": "2024-01-22T08:49:31.389Z"
   },
   {
    "duration": 40,
    "start_time": "2024-01-22T08:49:31.456Z"
   },
   {
    "duration": 35,
    "start_time": "2024-01-22T08:49:31.498Z"
   },
   {
    "duration": 54,
    "start_time": "2024-01-22T08:49:31.535Z"
   },
   {
    "duration": 68,
    "start_time": "2024-01-22T08:49:31.591Z"
   },
   {
    "duration": 29,
    "start_time": "2024-01-22T08:49:31.660Z"
   },
   {
    "duration": 47,
    "start_time": "2024-01-22T08:49:31.691Z"
   },
   {
    "duration": 90,
    "start_time": "2024-01-22T08:49:31.739Z"
   },
   {
    "duration": 76,
    "start_time": "2024-01-22T08:49:31.831Z"
   },
   {
    "duration": 69,
    "start_time": "2024-01-22T08:49:31.909Z"
   },
   {
    "duration": 91,
    "start_time": "2024-01-22T08:49:31.980Z"
   },
   {
    "duration": 170,
    "start_time": "2024-01-22T08:49:32.073Z"
   },
   {
    "duration": 278,
    "start_time": "2024-01-22T08:49:32.245Z"
   },
   {
    "duration": 205,
    "start_time": "2024-01-22T08:49:32.528Z"
   },
   {
    "duration": 23,
    "start_time": "2024-01-22T08:49:32.734Z"
   },
   {
    "duration": 9,
    "start_time": "2024-01-22T08:49:32.758Z"
   },
   {
    "duration": 8,
    "start_time": "2024-01-22T08:49:32.769Z"
   },
   {
    "duration": 17,
    "start_time": "2024-01-22T08:49:32.778Z"
   },
   {
    "duration": 10,
    "start_time": "2024-01-22T08:49:32.797Z"
   },
   {
    "duration": 10,
    "start_time": "2024-01-22T08:49:32.809Z"
   },
   {
    "duration": 10,
    "start_time": "2024-01-22T08:49:32.820Z"
   },
   {
    "duration": 0,
    "start_time": "2024-01-22T08:49:32.831Z"
   },
   {
    "duration": 9,
    "start_time": "2024-01-22T08:49:37.057Z"
   },
   {
    "duration": 3,
    "start_time": "2024-01-22T08:50:11.747Z"
   },
   {
    "duration": 127,
    "start_time": "2024-01-22T08:50:11.751Z"
   },
   {
    "duration": 14,
    "start_time": "2024-01-22T08:50:11.879Z"
   },
   {
    "duration": 12,
    "start_time": "2024-01-22T08:50:11.895Z"
   },
   {
    "duration": 12,
    "start_time": "2024-01-22T08:50:11.908Z"
   },
   {
    "duration": 11,
    "start_time": "2024-01-22T08:50:11.922Z"
   },
   {
    "duration": 9,
    "start_time": "2024-01-22T08:50:11.935Z"
   },
   {
    "duration": 49,
    "start_time": "2024-01-22T08:50:11.945Z"
   },
   {
    "duration": 13,
    "start_time": "2024-01-22T08:50:11.996Z"
   },
   {
    "duration": 16,
    "start_time": "2024-01-22T08:50:12.011Z"
   },
   {
    "duration": 32,
    "start_time": "2024-01-22T08:50:12.029Z"
   },
   {
    "duration": 23,
    "start_time": "2024-01-22T08:50:12.063Z"
   },
   {
    "duration": 10,
    "start_time": "2024-01-22T08:50:12.088Z"
   },
   {
    "duration": 31,
    "start_time": "2024-01-22T08:50:12.099Z"
   },
   {
    "duration": 32,
    "start_time": "2024-01-22T08:50:12.132Z"
   },
   {
    "duration": 29,
    "start_time": "2024-01-22T08:50:12.165Z"
   },
   {
    "duration": 14,
    "start_time": "2024-01-22T08:50:12.195Z"
   },
   {
    "duration": 10,
    "start_time": "2024-01-22T08:50:12.210Z"
   },
   {
    "duration": 9,
    "start_time": "2024-01-22T08:50:12.221Z"
   },
   {
    "duration": 18,
    "start_time": "2024-01-22T08:50:12.231Z"
   },
   {
    "duration": 35,
    "start_time": "2024-01-22T08:50:12.250Z"
   },
   {
    "duration": 2,
    "start_time": "2024-01-22T08:50:12.286Z"
   },
   {
    "duration": 32,
    "start_time": "2024-01-22T08:50:12.290Z"
   },
   {
    "duration": 3,
    "start_time": "2024-01-22T08:50:12.323Z"
   },
   {
    "duration": 15,
    "start_time": "2024-01-22T08:50:12.327Z"
   },
   {
    "duration": 17,
    "start_time": "2024-01-22T08:50:12.343Z"
   },
   {
    "duration": 5,
    "start_time": "2024-01-22T08:50:12.361Z"
   },
   {
    "duration": 21,
    "start_time": "2024-01-22T08:50:12.368Z"
   },
   {
    "duration": 8,
    "start_time": "2024-01-22T08:50:12.391Z"
   },
   {
    "duration": 12,
    "start_time": "2024-01-22T08:50:12.400Z"
   },
   {
    "duration": 10,
    "start_time": "2024-01-22T08:50:12.414Z"
   },
   {
    "duration": 0,
    "start_time": "2024-01-22T08:50:12.425Z"
   },
   {
    "duration": 9,
    "start_time": "2024-01-22T08:50:18.868Z"
   },
   {
    "duration": 13,
    "start_time": "2024-01-22T08:51:45.909Z"
   },
   {
    "duration": 12,
    "start_time": "2024-01-22T08:52:24.940Z"
   },
   {
    "duration": 3,
    "start_time": "2024-01-22T08:52:42.245Z"
   },
   {
    "duration": 9,
    "start_time": "2024-01-22T08:52:52.176Z"
   },
   {
    "duration": 11,
    "start_time": "2024-01-22T08:52:59.766Z"
   },
   {
    "duration": 11,
    "start_time": "2024-01-22T08:53:42.670Z"
   },
   {
    "duration": 7,
    "start_time": "2024-01-22T08:55:48.791Z"
   },
   {
    "duration": 48,
    "start_time": "2024-01-22T11:42:01.093Z"
   },
   {
    "duration": 6,
    "start_time": "2024-01-22T11:42:19.655Z"
   },
   {
    "duration": 1287,
    "start_time": "2024-01-22T11:42:26.681Z"
   },
   {
    "duration": 260,
    "start_time": "2024-01-22T11:42:27.970Z"
   },
   {
    "duration": 15,
    "start_time": "2024-01-22T11:42:28.232Z"
   },
   {
    "duration": 19,
    "start_time": "2024-01-22T11:42:28.249Z"
   },
   {
    "duration": 14,
    "start_time": "2024-01-22T11:42:28.270Z"
   },
   {
    "duration": 17,
    "start_time": "2024-01-22T11:42:28.286Z"
   },
   {
    "duration": 6,
    "start_time": "2024-01-22T11:42:28.304Z"
   },
   {
    "duration": 40,
    "start_time": "2024-01-22T11:42:28.311Z"
   },
   {
    "duration": 12,
    "start_time": "2024-01-22T11:42:28.353Z"
   },
   {
    "duration": 26,
    "start_time": "2024-01-22T11:42:28.367Z"
   },
   {
    "duration": 21,
    "start_time": "2024-01-22T11:42:28.395Z"
   },
   {
    "duration": 53,
    "start_time": "2024-01-22T11:42:28.417Z"
   },
   {
    "duration": 12,
    "start_time": "2024-01-22T11:42:28.471Z"
   },
   {
    "duration": 19,
    "start_time": "2024-01-22T11:42:28.486Z"
   },
   {
    "duration": 30,
    "start_time": "2024-01-22T11:42:28.507Z"
   },
   {
    "duration": 18,
    "start_time": "2024-01-22T11:42:28.538Z"
   },
   {
    "duration": 12,
    "start_time": "2024-01-22T11:42:28.557Z"
   },
   {
    "duration": 13,
    "start_time": "2024-01-22T11:42:28.571Z"
   },
   {
    "duration": 14,
    "start_time": "2024-01-22T11:42:28.585Z"
   },
   {
    "duration": 20,
    "start_time": "2024-01-22T11:42:28.600Z"
   },
   {
    "duration": 32,
    "start_time": "2024-01-22T11:42:28.621Z"
   },
   {
    "duration": 40,
    "start_time": "2024-01-22T11:42:28.655Z"
   },
   {
    "duration": 39,
    "start_time": "2024-01-22T11:42:28.697Z"
   },
   {
    "duration": 3,
    "start_time": "2024-01-22T11:42:28.737Z"
   },
   {
    "duration": 35,
    "start_time": "2024-01-22T11:42:28.742Z"
   },
   {
    "duration": 10,
    "start_time": "2024-01-22T11:42:28.779Z"
   },
   {
    "duration": 12,
    "start_time": "2024-01-22T11:42:28.791Z"
   },
   {
    "duration": 24,
    "start_time": "2024-01-22T11:42:28.805Z"
   },
   {
    "duration": 22,
    "start_time": "2024-01-22T11:42:28.831Z"
   },
   {
    "duration": 23,
    "start_time": "2024-01-22T11:42:28.854Z"
   },
   {
    "duration": 89,
    "start_time": "2024-01-22T11:42:28.879Z"
   },
   {
    "duration": 9,
    "start_time": "2024-01-22T11:42:36.642Z"
   },
   {
    "duration": 16,
    "start_time": "2024-01-22T11:46:58.998Z"
   },
   {
    "duration": 11,
    "start_time": "2024-01-22T11:47:06.558Z"
   },
   {
    "duration": 13,
    "start_time": "2024-01-22T11:47:18.466Z"
   },
   {
    "duration": 14,
    "start_time": "2024-01-22T12:09:00.099Z"
   },
   {
    "duration": 16,
    "start_time": "2024-01-22T12:09:12.853Z"
   },
   {
    "duration": 4,
    "start_time": "2024-01-22T12:10:33.654Z"
   },
   {
    "duration": 7,
    "start_time": "2024-01-22T12:10:41.014Z"
   },
   {
    "duration": 8,
    "start_time": "2024-01-22T12:11:02.271Z"
   },
   {
    "duration": 170,
    "start_time": "2024-01-22T12:13:59.224Z"
   },
   {
    "duration": 92,
    "start_time": "2024-01-22T12:15:00.887Z"
   },
   {
    "duration": 77,
    "start_time": "2024-01-22T12:15:19.215Z"
   },
   {
    "duration": 169,
    "start_time": "2024-01-22T12:15:33.790Z"
   },
   {
    "duration": 142,
    "start_time": "2024-01-22T12:16:22.341Z"
   },
   {
    "duration": 156,
    "start_time": "2024-01-22T12:20:21.466Z"
   },
   {
    "duration": 12,
    "start_time": "2024-01-22T12:23:46.820Z"
   },
   {
    "duration": 4,
    "start_time": "2024-01-22T12:26:53.104Z"
   },
   {
    "duration": 14,
    "start_time": "2024-01-22T12:27:01.347Z"
   },
   {
    "duration": 3,
    "start_time": "2024-01-22T12:27:35.876Z"
   },
   {
    "duration": 14,
    "start_time": "2024-01-22T12:27:37.778Z"
   },
   {
    "duration": 11,
    "start_time": "2024-01-22T12:29:21.701Z"
   },
   {
    "duration": 12,
    "start_time": "2024-01-22T12:29:28.756Z"
   },
   {
    "duration": 7,
    "start_time": "2024-01-22T12:29:30.325Z"
   },
   {
    "duration": 154,
    "start_time": "2024-01-22T12:29:48.884Z"
   },
   {
    "duration": 13,
    "start_time": "2024-01-22T12:31:57.695Z"
   },
   {
    "duration": 144,
    "start_time": "2024-01-22T12:31:59.787Z"
   },
   {
    "duration": 189,
    "start_time": "2024-01-22T12:32:27.857Z"
   },
   {
    "duration": 16,
    "start_time": "2024-01-22T12:32:49.514Z"
   },
   {
    "duration": 2,
    "start_time": "2024-01-22T12:44:52.518Z"
   },
   {
    "duration": 134,
    "start_time": "2024-01-22T12:44:52.522Z"
   },
   {
    "duration": 15,
    "start_time": "2024-01-22T12:44:52.657Z"
   },
   {
    "duration": 10,
    "start_time": "2024-01-22T12:44:52.673Z"
   },
   {
    "duration": 21,
    "start_time": "2024-01-22T12:44:52.685Z"
   },
   {
    "duration": 17,
    "start_time": "2024-01-22T12:44:52.707Z"
   },
   {
    "duration": 4,
    "start_time": "2024-01-22T12:44:52.726Z"
   },
   {
    "duration": 22,
    "start_time": "2024-01-22T12:44:52.732Z"
   },
   {
    "duration": 11,
    "start_time": "2024-01-22T12:44:52.756Z"
   },
   {
    "duration": 12,
    "start_time": "2024-01-22T12:44:52.768Z"
   },
   {
    "duration": 25,
    "start_time": "2024-01-22T12:44:52.781Z"
   },
   {
    "duration": 13,
    "start_time": "2024-01-22T12:44:52.807Z"
   },
   {
    "duration": 22,
    "start_time": "2024-01-22T12:44:52.821Z"
   },
   {
    "duration": 25,
    "start_time": "2024-01-22T12:44:52.845Z"
   },
   {
    "duration": 48,
    "start_time": "2024-01-22T12:44:52.872Z"
   },
   {
    "duration": 23,
    "start_time": "2024-01-22T12:44:52.921Z"
   },
   {
    "duration": 16,
    "start_time": "2024-01-22T12:44:52.946Z"
   },
   {
    "duration": 5,
    "start_time": "2024-01-22T12:44:52.964Z"
   },
   {
    "duration": 14,
    "start_time": "2024-01-22T12:44:52.971Z"
   },
   {
    "duration": 22,
    "start_time": "2024-01-22T12:44:52.986Z"
   },
   {
    "duration": 48,
    "start_time": "2024-01-22T12:44:53.009Z"
   },
   {
    "duration": 4,
    "start_time": "2024-01-22T12:44:53.059Z"
   },
   {
    "duration": 22,
    "start_time": "2024-01-22T12:44:53.064Z"
   },
   {
    "duration": 3,
    "start_time": "2024-01-22T12:44:53.088Z"
   },
   {
    "duration": 23,
    "start_time": "2024-01-22T12:44:53.092Z"
   },
   {
    "duration": 17,
    "start_time": "2024-01-22T12:44:53.117Z"
   },
   {
    "duration": 5,
    "start_time": "2024-01-22T12:44:53.135Z"
   },
   {
    "duration": 14,
    "start_time": "2024-01-22T12:44:53.142Z"
   },
   {
    "duration": 15,
    "start_time": "2024-01-22T12:44:53.157Z"
   },
   {
    "duration": 8,
    "start_time": "2024-01-22T12:44:53.174Z"
   },
   {
    "duration": 172,
    "start_time": "2024-01-22T12:44:53.184Z"
   },
   {
    "duration": 4,
    "start_time": "2024-01-22T12:44:53.358Z"
   },
   {
    "duration": 36,
    "start_time": "2024-01-22T12:44:53.364Z"
   },
   {
    "duration": 146,
    "start_time": "2024-01-22T12:44:53.402Z"
   },
   {
    "duration": 16,
    "start_time": "2024-01-22T12:44:53.549Z"
   },
   {
    "duration": 13,
    "start_time": "2024-01-22T12:49:31.737Z"
   },
   {
    "duration": 12,
    "start_time": "2024-01-22T12:49:52.135Z"
   },
   {
    "duration": 3,
    "start_time": "2024-01-22T12:53:44.918Z"
   },
   {
    "duration": 7,
    "start_time": "2024-01-22T12:53:52.237Z"
   },
   {
    "duration": 8,
    "start_time": "2024-01-22T12:54:44.607Z"
   },
   {
    "duration": 11,
    "start_time": "2024-01-22T12:56:17.900Z"
   },
   {
    "duration": 8,
    "start_time": "2024-01-22T12:56:43.716Z"
   },
   {
    "duration": 13,
    "start_time": "2024-01-22T12:57:52.531Z"
   },
   {
    "duration": 9,
    "start_time": "2024-01-22T12:58:02.952Z"
   },
   {
    "duration": 3,
    "start_time": "2024-01-22T12:58:42.530Z"
   },
   {
    "duration": 8,
    "start_time": "2024-01-22T12:58:57.211Z"
   },
   {
    "duration": 8,
    "start_time": "2024-01-22T13:05:10.786Z"
   },
   {
    "duration": 8,
    "start_time": "2024-01-22T13:07:22.363Z"
   },
   {
    "duration": 8,
    "start_time": "2024-01-22T13:07:33.688Z"
   },
   {
    "duration": 10,
    "start_time": "2024-01-22T13:08:47.993Z"
   },
   {
    "duration": 8,
    "start_time": "2024-01-22T13:13:53.578Z"
   },
   {
    "duration": 9,
    "start_time": "2024-01-22T13:14:19.961Z"
   },
   {
    "duration": 9,
    "start_time": "2024-01-22T13:15:55.371Z"
   },
   {
    "duration": 21,
    "start_time": "2024-01-22T13:20:09.567Z"
   },
   {
    "duration": 24,
    "start_time": "2024-01-22T13:20:18.708Z"
   },
   {
    "duration": 23,
    "start_time": "2024-01-22T13:22:22.689Z"
   },
   {
    "duration": 11,
    "start_time": "2024-01-22T13:23:36.969Z"
   },
   {
    "duration": 9,
    "start_time": "2024-01-22T13:23:47.757Z"
   },
   {
    "duration": 8,
    "start_time": "2024-01-22T13:24:01.989Z"
   },
   {
    "duration": 20,
    "start_time": "2024-01-22T13:25:33.249Z"
   },
   {
    "duration": 21,
    "start_time": "2024-01-22T13:26:03.481Z"
   },
   {
    "duration": 102,
    "start_time": "2024-01-22T13:26:36.837Z"
   },
   {
    "duration": 80,
    "start_time": "2024-01-22T13:26:56.131Z"
   },
   {
    "duration": 20,
    "start_time": "2024-01-22T13:27:03.761Z"
   },
   {
    "duration": 201,
    "start_time": "2024-01-22T13:28:58.806Z"
   },
   {
    "duration": 265,
    "start_time": "2024-01-22T13:30:14.519Z"
   },
   {
    "duration": 222,
    "start_time": "2024-01-22T13:30:25.761Z"
   },
   {
    "duration": 196,
    "start_time": "2024-01-22T13:30:36.296Z"
   },
   {
    "duration": 252,
    "start_time": "2024-01-22T13:30:42.925Z"
   },
   {
    "duration": 126,
    "start_time": "2024-01-22T13:31:15.400Z"
   },
   {
    "duration": 18,
    "start_time": "2024-01-22T13:32:11.820Z"
   },
   {
    "duration": 21,
    "start_time": "2024-01-22T13:32:30.164Z"
   },
   {
    "duration": 223,
    "start_time": "2024-01-22T13:37:31.945Z"
   },
   {
    "duration": 3,
    "start_time": "2024-01-22T13:38:51.091Z"
   },
   {
    "duration": 163,
    "start_time": "2024-01-22T13:38:51.096Z"
   },
   {
    "duration": 14,
    "start_time": "2024-01-22T13:38:51.260Z"
   },
   {
    "duration": 23,
    "start_time": "2024-01-22T13:38:51.276Z"
   },
   {
    "duration": 12,
    "start_time": "2024-01-22T13:38:51.302Z"
   },
   {
    "duration": 29,
    "start_time": "2024-01-22T13:38:51.316Z"
   },
   {
    "duration": 7,
    "start_time": "2024-01-22T13:38:51.347Z"
   },
   {
    "duration": 45,
    "start_time": "2024-01-22T13:38:51.355Z"
   },
   {
    "duration": 12,
    "start_time": "2024-01-22T13:38:51.402Z"
   },
   {
    "duration": 17,
    "start_time": "2024-01-22T13:38:51.416Z"
   },
   {
    "duration": 17,
    "start_time": "2024-01-22T13:38:51.435Z"
   },
   {
    "duration": 24,
    "start_time": "2024-01-22T13:38:51.454Z"
   },
   {
    "duration": 9,
    "start_time": "2024-01-22T13:38:51.480Z"
   },
   {
    "duration": 30,
    "start_time": "2024-01-22T13:38:51.491Z"
   },
   {
    "duration": 33,
    "start_time": "2024-01-22T13:38:51.522Z"
   },
   {
    "duration": 15,
    "start_time": "2024-01-22T13:38:51.557Z"
   },
   {
    "duration": 13,
    "start_time": "2024-01-22T13:38:51.573Z"
   },
   {
    "duration": 5,
    "start_time": "2024-01-22T13:38:51.587Z"
   },
   {
    "duration": 5,
    "start_time": "2024-01-22T13:38:51.593Z"
   },
   {
    "duration": 35,
    "start_time": "2024-01-22T13:38:51.599Z"
   },
   {
    "duration": 26,
    "start_time": "2024-01-22T13:38:51.635Z"
   },
   {
    "duration": 3,
    "start_time": "2024-01-22T13:38:51.663Z"
   },
   {
    "duration": 28,
    "start_time": "2024-01-22T13:38:51.668Z"
   },
   {
    "duration": 4,
    "start_time": "2024-01-22T13:38:51.698Z"
   },
   {
    "duration": 30,
    "start_time": "2024-01-22T13:38:51.703Z"
   },
   {
    "duration": 12,
    "start_time": "2024-01-22T13:38:51.734Z"
   },
   {
    "duration": 4,
    "start_time": "2024-01-22T13:38:51.748Z"
   },
   {
    "duration": 11,
    "start_time": "2024-01-22T13:38:51.753Z"
   },
   {
    "duration": 15,
    "start_time": "2024-01-22T13:38:51.766Z"
   },
   {
    "duration": 9,
    "start_time": "2024-01-22T13:38:51.783Z"
   },
   {
    "duration": 173,
    "start_time": "2024-01-22T13:38:51.794Z"
   },
   {
    "duration": 4,
    "start_time": "2024-01-22T13:38:51.968Z"
   },
   {
    "duration": 20,
    "start_time": "2024-01-22T13:38:51.973Z"
   },
   {
    "duration": 161,
    "start_time": "2024-01-22T13:38:51.995Z"
   },
   {
    "duration": 15,
    "start_time": "2024-01-22T13:38:52.157Z"
   },
   {
    "duration": 19,
    "start_time": "2024-01-22T13:38:52.173Z"
   },
   {
    "duration": 237,
    "start_time": "2024-01-22T13:38:52.193Z"
   },
   {
    "duration": 23,
    "start_time": "2024-01-22T13:52:24.066Z"
   },
   {
    "duration": 233,
    "start_time": "2024-01-22T13:53:33.977Z"
   },
   {
    "duration": 227,
    "start_time": "2024-01-22T13:54:14.382Z"
   },
   {
    "duration": 362,
    "start_time": "2024-01-22T13:54:22.585Z"
   },
   {
    "duration": 19,
    "start_time": "2024-01-22T13:55:32.259Z"
   },
   {
    "duration": 241,
    "start_time": "2024-01-22T13:58:30.803Z"
   },
   {
    "duration": 1305,
    "start_time": "2024-01-22T16:18:06.812Z"
   },
   {
    "duration": 269,
    "start_time": "2024-01-22T16:18:08.119Z"
   },
   {
    "duration": 14,
    "start_time": "2024-01-22T16:18:08.389Z"
   },
   {
    "duration": 8,
    "start_time": "2024-01-22T16:18:08.405Z"
   },
   {
    "duration": 13,
    "start_time": "2024-01-22T16:18:08.414Z"
   },
   {
    "duration": 10,
    "start_time": "2024-01-22T16:18:08.429Z"
   },
   {
    "duration": 5,
    "start_time": "2024-01-22T16:18:08.440Z"
   },
   {
    "duration": 26,
    "start_time": "2024-01-22T16:18:08.447Z"
   },
   {
    "duration": 13,
    "start_time": "2024-01-22T16:18:08.475Z"
   },
   {
    "duration": 11,
    "start_time": "2024-01-22T16:18:08.491Z"
   },
   {
    "duration": 30,
    "start_time": "2024-01-22T16:18:08.504Z"
   },
   {
    "duration": 16,
    "start_time": "2024-01-22T16:18:08.536Z"
   },
   {
    "duration": 14,
    "start_time": "2024-01-22T16:18:08.554Z"
   },
   {
    "duration": 16,
    "start_time": "2024-01-22T16:18:08.569Z"
   },
   {
    "duration": 30,
    "start_time": "2024-01-22T16:18:08.587Z"
   },
   {
    "duration": 35,
    "start_time": "2024-01-22T16:18:08.618Z"
   },
   {
    "duration": 13,
    "start_time": "2024-01-22T16:18:08.655Z"
   },
   {
    "duration": 16,
    "start_time": "2024-01-22T16:18:08.669Z"
   },
   {
    "duration": 4,
    "start_time": "2024-01-22T16:18:08.686Z"
   },
   {
    "duration": 30,
    "start_time": "2024-01-22T16:18:08.691Z"
   },
   {
    "duration": 52,
    "start_time": "2024-01-22T16:18:08.723Z"
   },
   {
    "duration": 3,
    "start_time": "2024-01-22T16:18:08.776Z"
   },
   {
    "duration": 17,
    "start_time": "2024-01-22T16:18:08.780Z"
   },
   {
    "duration": 3,
    "start_time": "2024-01-22T16:18:08.798Z"
   },
   {
    "duration": 13,
    "start_time": "2024-01-22T16:18:08.802Z"
   },
   {
    "duration": 8,
    "start_time": "2024-01-22T16:18:08.816Z"
   },
   {
    "duration": 19,
    "start_time": "2024-01-22T16:18:08.826Z"
   },
   {
    "duration": 13,
    "start_time": "2024-01-22T16:18:08.848Z"
   },
   {
    "duration": 19,
    "start_time": "2024-01-22T16:18:08.863Z"
   },
   {
    "duration": 9,
    "start_time": "2024-01-22T16:18:08.883Z"
   },
   {
    "duration": 177,
    "start_time": "2024-01-22T16:18:08.894Z"
   },
   {
    "duration": 4,
    "start_time": "2024-01-22T16:18:09.073Z"
   },
   {
    "duration": 14,
    "start_time": "2024-01-22T16:18:09.078Z"
   },
   {
    "duration": 163,
    "start_time": "2024-01-22T16:18:09.093Z"
   },
   {
    "duration": 16,
    "start_time": "2024-01-22T16:18:09.257Z"
   },
   {
    "duration": 20,
    "start_time": "2024-01-22T16:18:09.274Z"
   },
   {
    "duration": 226,
    "start_time": "2024-01-22T16:18:09.296Z"
   },
   {
    "duration": 27,
    "start_time": "2024-01-22T16:18:09.523Z"
   },
   {
    "duration": 228,
    "start_time": "2024-01-22T16:18:09.551Z"
   },
   {
    "duration": 16,
    "start_time": "2024-01-22T18:04:43.376Z"
   },
   {
    "duration": 4,
    "start_time": "2024-01-22T18:08:39.276Z"
   },
   {
    "duration": 33,
    "start_time": "2024-01-22T18:08:50.914Z"
   },
   {
    "duration": 12,
    "start_time": "2024-01-22T18:09:55.425Z"
   },
   {
    "duration": 4,
    "start_time": "2024-01-22T18:14:21.184Z"
   },
   {
    "duration": 6,
    "start_time": "2024-01-22T18:16:29.037Z"
   },
   {
    "duration": 5,
    "start_time": "2024-01-22T18:20:40.819Z"
   },
   {
    "duration": 14,
    "start_time": "2024-01-22T18:20:50.394Z"
   },
   {
    "duration": 12,
    "start_time": "2024-01-22T18:21:48.968Z"
   },
   {
    "duration": 6,
    "start_time": "2024-01-22T18:28:16.013Z"
   },
   {
    "duration": 14,
    "start_time": "2024-01-22T18:33:45.214Z"
   },
   {
    "duration": 6,
    "start_time": "2024-01-22T18:33:57.789Z"
   },
   {
    "duration": 1773,
    "start_time": "2024-01-22T18:37:42.580Z"
   },
   {
    "duration": 2,
    "start_time": "2024-01-22T18:38:39.066Z"
   },
   {
    "duration": 128,
    "start_time": "2024-01-22T18:38:39.070Z"
   },
   {
    "duration": 13,
    "start_time": "2024-01-22T18:38:39.199Z"
   },
   {
    "duration": 31,
    "start_time": "2024-01-22T18:38:39.213Z"
   },
   {
    "duration": 21,
    "start_time": "2024-01-22T18:38:39.246Z"
   },
   {
    "duration": 9,
    "start_time": "2024-01-22T18:38:39.269Z"
   },
   {
    "duration": 21,
    "start_time": "2024-01-22T18:38:39.280Z"
   },
   {
    "duration": 20,
    "start_time": "2024-01-22T18:38:39.302Z"
   },
   {
    "duration": 11,
    "start_time": "2024-01-22T18:38:39.323Z"
   },
   {
    "duration": 7,
    "start_time": "2024-01-22T18:38:39.335Z"
   },
   {
    "duration": 26,
    "start_time": "2024-01-22T18:38:39.343Z"
   },
   {
    "duration": 25,
    "start_time": "2024-01-22T18:38:39.371Z"
   },
   {
    "duration": 9,
    "start_time": "2024-01-22T18:38:39.398Z"
   },
   {
    "duration": 14,
    "start_time": "2024-01-22T18:38:39.410Z"
   },
   {
    "duration": 26,
    "start_time": "2024-01-22T18:38:39.425Z"
   },
   {
    "duration": 17,
    "start_time": "2024-01-22T18:38:39.453Z"
   },
   {
    "duration": 21,
    "start_time": "2024-01-22T18:38:39.471Z"
   },
   {
    "duration": 13,
    "start_time": "2024-01-22T18:38:39.494Z"
   },
   {
    "duration": 2,
    "start_time": "2024-01-22T18:38:39.508Z"
   },
   {
    "duration": 8,
    "start_time": "2024-01-22T18:38:39.511Z"
   },
   {
    "duration": 33,
    "start_time": "2024-01-22T18:38:39.520Z"
   },
   {
    "duration": 4,
    "start_time": "2024-01-22T18:38:39.554Z"
   },
   {
    "duration": 17,
    "start_time": "2024-01-22T18:38:39.559Z"
   },
   {
    "duration": 3,
    "start_time": "2024-01-22T18:38:39.577Z"
   },
   {
    "duration": 20,
    "start_time": "2024-01-22T18:38:39.581Z"
   },
   {
    "duration": 7,
    "start_time": "2024-01-22T18:38:39.602Z"
   },
   {
    "duration": 3,
    "start_time": "2024-01-22T18:38:39.611Z"
   },
   {
    "duration": 9,
    "start_time": "2024-01-22T18:38:39.616Z"
   },
   {
    "duration": 29,
    "start_time": "2024-01-22T18:38:39.627Z"
   },
   {
    "duration": 7,
    "start_time": "2024-01-22T18:38:39.657Z"
   },
   {
    "duration": 158,
    "start_time": "2024-01-22T18:38:39.665Z"
   },
   {
    "duration": 4,
    "start_time": "2024-01-22T18:38:39.824Z"
   },
   {
    "duration": 30,
    "start_time": "2024-01-22T18:38:39.829Z"
   },
   {
    "duration": 143,
    "start_time": "2024-01-22T18:38:39.861Z"
   },
   {
    "duration": 14,
    "start_time": "2024-01-22T18:38:40.005Z"
   },
   {
    "duration": 33,
    "start_time": "2024-01-22T18:38:40.021Z"
   },
   {
    "duration": 248,
    "start_time": "2024-01-22T18:38:40.055Z"
   },
   {
    "duration": 19,
    "start_time": "2024-01-22T18:38:40.304Z"
   },
   {
    "duration": 234,
    "start_time": "2024-01-22T18:38:40.324Z"
   },
   {
    "duration": 12,
    "start_time": "2024-01-22T18:38:40.559Z"
   },
   {
    "duration": 13,
    "start_time": "2024-01-22T18:38:40.574Z"
   },
   {
    "duration": 6,
    "start_time": "2024-01-22T18:38:40.588Z"
   },
   {
    "duration": 1707,
    "start_time": "2024-01-22T18:38:40.595Z"
   },
   {
    "duration": 31,
    "start_time": "2024-01-22T18:39:35.182Z"
   },
   {
    "duration": 11,
    "start_time": "2024-01-22T18:44:31.903Z"
   },
   {
    "duration": 38,
    "start_time": "2024-01-22T18:44:40.302Z"
   },
   {
    "duration": 1574,
    "start_time": "2024-01-22T18:47:26.604Z"
   },
   {
    "duration": 6,
    "start_time": "2024-01-22T18:47:54.252Z"
   },
   {
    "duration": 141,
    "start_time": "2024-01-22T18:48:07.727Z"
   },
   {
    "duration": 3,
    "start_time": "2024-01-22T18:48:16.483Z"
   },
   {
    "duration": 130,
    "start_time": "2024-01-22T18:48:16.488Z"
   },
   {
    "duration": 13,
    "start_time": "2024-01-22T18:48:16.619Z"
   },
   {
    "duration": 13,
    "start_time": "2024-01-22T18:48:16.633Z"
   },
   {
    "duration": 18,
    "start_time": "2024-01-22T18:48:16.648Z"
   },
   {
    "duration": 18,
    "start_time": "2024-01-22T18:48:16.667Z"
   },
   {
    "duration": 3,
    "start_time": "2024-01-22T18:48:16.687Z"
   },
   {
    "duration": 51,
    "start_time": "2024-01-22T18:48:16.692Z"
   },
   {
    "duration": 14,
    "start_time": "2024-01-22T18:48:16.744Z"
   },
   {
    "duration": 14,
    "start_time": "2024-01-22T18:48:16.759Z"
   },
   {
    "duration": 35,
    "start_time": "2024-01-22T18:48:16.774Z"
   },
   {
    "duration": 13,
    "start_time": "2024-01-22T18:48:16.811Z"
   },
   {
    "duration": 9,
    "start_time": "2024-01-22T18:48:16.825Z"
   },
   {
    "duration": 15,
    "start_time": "2024-01-22T18:48:16.836Z"
   },
   {
    "duration": 26,
    "start_time": "2024-01-22T18:48:16.852Z"
   },
   {
    "duration": 13,
    "start_time": "2024-01-22T18:48:16.880Z"
   },
   {
    "duration": 11,
    "start_time": "2024-01-22T18:48:16.895Z"
   },
   {
    "duration": 3,
    "start_time": "2024-01-22T18:48:16.908Z"
   },
   {
    "duration": 3,
    "start_time": "2024-01-22T18:48:16.912Z"
   },
   {
    "duration": 31,
    "start_time": "2024-01-22T18:48:16.917Z"
   },
   {
    "duration": 21,
    "start_time": "2024-01-22T18:48:16.949Z"
   },
   {
    "duration": 3,
    "start_time": "2024-01-22T18:48:16.971Z"
   },
   {
    "duration": 20,
    "start_time": "2024-01-22T18:48:16.975Z"
   },
   {
    "duration": 2,
    "start_time": "2024-01-22T18:48:16.997Z"
   },
   {
    "duration": 15,
    "start_time": "2024-01-22T18:48:17.001Z"
   },
   {
    "duration": 7,
    "start_time": "2024-01-22T18:48:17.017Z"
   },
   {
    "duration": 21,
    "start_time": "2024-01-22T18:48:17.026Z"
   },
   {
    "duration": 13,
    "start_time": "2024-01-22T18:48:17.048Z"
   },
   {
    "duration": 13,
    "start_time": "2024-01-22T18:48:17.062Z"
   },
   {
    "duration": 7,
    "start_time": "2024-01-22T18:48:17.076Z"
   },
   {
    "duration": 183,
    "start_time": "2024-01-22T18:48:17.084Z"
   },
   {
    "duration": 5,
    "start_time": "2024-01-22T18:48:17.269Z"
   },
   {
    "duration": 28,
    "start_time": "2024-01-22T18:48:17.275Z"
   },
   {
    "duration": 152,
    "start_time": "2024-01-22T18:48:17.305Z"
   },
   {
    "duration": 20,
    "start_time": "2024-01-22T18:48:17.459Z"
   },
   {
    "duration": 18,
    "start_time": "2024-01-22T18:48:17.481Z"
   },
   {
    "duration": 234,
    "start_time": "2024-01-22T18:48:17.500Z"
   },
   {
    "duration": 25,
    "start_time": "2024-01-22T18:48:17.736Z"
   },
   {
    "duration": 225,
    "start_time": "2024-01-22T18:48:17.763Z"
   },
   {
    "duration": 12,
    "start_time": "2024-01-22T18:48:17.989Z"
   },
   {
    "duration": 49,
    "start_time": "2024-01-22T18:48:18.004Z"
   },
   {
    "duration": 5,
    "start_time": "2024-01-22T18:48:18.055Z"
   },
   {
    "duration": 1497,
    "start_time": "2024-01-22T18:48:18.061Z"
   },
   {
    "duration": 70,
    "start_time": "2024-01-22T18:50:30.285Z"
   },
   {
    "duration": 2452,
    "start_time": "2024-01-22T19:00:49.017Z"
   },
   {
    "duration": 6,
    "start_time": "2024-01-22T19:01:05.446Z"
   },
   {
    "duration": 21,
    "start_time": "2024-01-22T19:04:39.886Z"
   },
   {
    "duration": 8,
    "start_time": "2024-01-22T19:05:27.326Z"
   },
   {
    "duration": 27,
    "start_time": "2024-01-22T19:06:48.557Z"
   },
   {
    "duration": 28,
    "start_time": "2024-01-22T19:07:23.826Z"
   },
   {
    "duration": 110,
    "start_time": "2024-01-22T19:14:32.568Z"
   },
   {
    "duration": 111,
    "start_time": "2024-01-22T19:14:55.791Z"
   },
   {
    "duration": 106,
    "start_time": "2024-01-22T19:15:02.787Z"
   },
   {
    "duration": 111,
    "start_time": "2024-01-22T19:15:09.160Z"
   },
   {
    "duration": 111,
    "start_time": "2024-01-22T19:15:34.428Z"
   },
   {
    "duration": 2658,
    "start_time": "2024-01-22T19:19:12.559Z"
   },
   {
    "duration": 193,
    "start_time": "2024-01-22T19:19:47.555Z"
   },
   {
    "duration": 8,
    "start_time": "2024-01-22T19:44:07.086Z"
   },
   {
    "duration": 9,
    "start_time": "2024-01-22T19:44:28.485Z"
   },
   {
    "duration": 16,
    "start_time": "2024-01-22T19:47:01.899Z"
   },
   {
    "duration": 12,
    "start_time": "2024-01-22T19:47:55.840Z"
   },
   {
    "duration": 14,
    "start_time": "2024-01-22T19:48:19.640Z"
   },
   {
    "duration": 148,
    "start_time": "2024-01-22T19:54:33.170Z"
   },
   {
    "duration": 120,
    "start_time": "2024-01-22T19:57:22.257Z"
   },
   {
    "duration": 150,
    "start_time": "2024-01-22T19:57:59.281Z"
   },
   {
    "duration": 5,
    "start_time": "2024-01-22T20:02:58.492Z"
   },
   {
    "duration": 129,
    "start_time": "2024-01-22T20:05:26.347Z"
   },
   {
    "duration": 58,
    "start_time": "2024-01-23T06:18:15.427Z"
   },
   {
    "duration": 1356,
    "start_time": "2024-01-23T06:18:29.207Z"
   },
   {
    "duration": 285,
    "start_time": "2024-01-23T06:18:30.565Z"
   },
   {
    "duration": 22,
    "start_time": "2024-01-23T06:18:30.852Z"
   },
   {
    "duration": 38,
    "start_time": "2024-01-23T06:18:30.876Z"
   },
   {
    "duration": 101,
    "start_time": "2024-01-23T06:18:30.917Z"
   },
   {
    "duration": 40,
    "start_time": "2024-01-23T06:18:31.020Z"
   },
   {
    "duration": 60,
    "start_time": "2024-01-23T06:18:31.062Z"
   },
   {
    "duration": 81,
    "start_time": "2024-01-23T06:18:31.123Z"
   },
   {
    "duration": 48,
    "start_time": "2024-01-23T06:18:31.206Z"
   },
   {
    "duration": 48,
    "start_time": "2024-01-23T06:18:31.255Z"
   },
   {
    "duration": 123,
    "start_time": "2024-01-23T06:18:31.304Z"
   },
   {
    "duration": 122,
    "start_time": "2024-01-23T06:18:31.429Z"
   },
   {
    "duration": 75,
    "start_time": "2024-01-23T06:18:31.553Z"
   },
   {
    "duration": 28,
    "start_time": "2024-01-23T06:18:31.632Z"
   },
   {
    "duration": 36,
    "start_time": "2024-01-23T06:18:31.662Z"
   },
   {
    "duration": 30,
    "start_time": "2024-01-23T06:18:31.700Z"
   },
   {
    "duration": 13,
    "start_time": "2024-01-23T06:18:31.732Z"
   },
   {
    "duration": 27,
    "start_time": "2024-01-23T06:18:31.747Z"
   },
   {
    "duration": 26,
    "start_time": "2024-01-23T06:18:31.776Z"
   },
   {
    "duration": 27,
    "start_time": "2024-01-23T06:18:31.805Z"
   },
   {
    "duration": 40,
    "start_time": "2024-01-23T06:18:31.834Z"
   },
   {
    "duration": 37,
    "start_time": "2024-01-23T06:18:31.875Z"
   },
   {
    "duration": 3,
    "start_time": "2024-01-23T06:18:31.914Z"
   },
   {
    "duration": 17,
    "start_time": "2024-01-23T06:18:31.919Z"
   },
   {
    "duration": 17,
    "start_time": "2024-01-23T06:18:31.938Z"
   },
   {
    "duration": 6,
    "start_time": "2024-01-23T06:18:31.957Z"
   },
   {
    "duration": 13,
    "start_time": "2024-01-23T06:18:31.965Z"
   },
   {
    "duration": 39,
    "start_time": "2024-01-23T06:18:31.981Z"
   },
   {
    "duration": 12,
    "start_time": "2024-01-23T06:18:32.022Z"
   },
   {
    "duration": 229,
    "start_time": "2024-01-23T06:18:32.036Z"
   },
   {
    "duration": 5,
    "start_time": "2024-01-23T06:18:32.266Z"
   },
   {
    "duration": 37,
    "start_time": "2024-01-23T06:18:32.272Z"
   },
   {
    "duration": 202,
    "start_time": "2024-01-23T06:18:32.310Z"
   },
   {
    "duration": 168,
    "start_time": "2024-01-23T06:18:32.514Z"
   },
   {
    "duration": 34,
    "start_time": "2024-01-23T06:18:32.684Z"
   },
   {
    "duration": 326,
    "start_time": "2024-01-23T06:18:32.720Z"
   },
   {
    "duration": 29,
    "start_time": "2024-01-23T06:18:33.049Z"
   },
   {
    "duration": 308,
    "start_time": "2024-01-23T06:18:33.080Z"
   },
   {
    "duration": 17,
    "start_time": "2024-01-23T06:18:33.390Z"
   },
   {
    "duration": 8,
    "start_time": "2024-01-23T06:18:33.417Z"
   },
   {
    "duration": 2709,
    "start_time": "2024-01-23T06:18:33.430Z"
   },
   {
    "duration": 9,
    "start_time": "2024-01-23T06:18:36.140Z"
   },
   {
    "duration": 151,
    "start_time": "2024-01-23T06:18:36.151Z"
   },
   {
    "duration": 217,
    "start_time": "2024-01-23T06:18:36.303Z"
   },
   {
    "duration": 168,
    "start_time": "2024-01-23T06:18:36.522Z"
   },
   {
    "duration": 135,
    "start_time": "2024-01-23T06:18:36.692Z"
   },
   {
    "duration": 18,
    "start_time": "2024-01-23T06:20:06.381Z"
   },
   {
    "duration": 196,
    "start_time": "2024-01-23T07:17:28.775Z"
   },
   {
    "duration": 316,
    "start_time": "2024-01-23T07:19:51.508Z"
   },
   {
    "duration": 150,
    "start_time": "2024-01-23T07:21:09.826Z"
   },
   {
    "duration": 145,
    "start_time": "2024-01-23T07:21:42.363Z"
   },
   {
    "duration": 164,
    "start_time": "2024-01-23T07:23:05.871Z"
   },
   {
    "duration": 144,
    "start_time": "2024-01-23T07:23:17.656Z"
   },
   {
    "duration": 252,
    "start_time": "2024-01-23T07:24:18.881Z"
   },
   {
    "duration": 170,
    "start_time": "2024-01-23T07:25:08.537Z"
   },
   {
    "duration": 180,
    "start_time": "2024-01-23T07:25:14.813Z"
   },
   {
    "duration": 135,
    "start_time": "2024-01-23T07:26:03.238Z"
   },
   {
    "duration": 1356,
    "start_time": "2024-01-23T14:59:42.291Z"
   },
   {
    "duration": 330,
    "start_time": "2024-01-23T14:59:43.649Z"
   },
   {
    "duration": 17,
    "start_time": "2024-01-23T14:59:43.980Z"
   },
   {
    "duration": 23,
    "start_time": "2024-01-23T14:59:43.999Z"
   },
   {
    "duration": 21,
    "start_time": "2024-01-23T14:59:44.024Z"
   },
   {
    "duration": 34,
    "start_time": "2024-01-23T14:59:44.046Z"
   },
   {
    "duration": 13,
    "start_time": "2024-01-23T14:59:44.082Z"
   },
   {
    "duration": 33,
    "start_time": "2024-01-23T14:59:44.097Z"
   },
   {
    "duration": 14,
    "start_time": "2024-01-23T14:59:44.132Z"
   },
   {
    "duration": 7,
    "start_time": "2024-01-23T14:59:44.148Z"
   },
   {
    "duration": 26,
    "start_time": "2024-01-23T14:59:44.157Z"
   },
   {
    "duration": 39,
    "start_time": "2024-01-23T14:59:44.184Z"
   },
   {
    "duration": 10,
    "start_time": "2024-01-23T14:59:44.225Z"
   },
   {
    "duration": 19,
    "start_time": "2024-01-23T14:59:44.240Z"
   },
   {
    "duration": 43,
    "start_time": "2024-01-23T14:59:44.261Z"
   },
   {
    "duration": 17,
    "start_time": "2024-01-23T14:59:44.306Z"
   },
   {
    "duration": 17,
    "start_time": "2024-01-23T14:59:44.325Z"
   },
   {
    "duration": 4,
    "start_time": "2024-01-23T14:59:44.343Z"
   },
   {
    "duration": 25,
    "start_time": "2024-01-23T14:59:44.349Z"
   },
   {
    "duration": 14,
    "start_time": "2024-01-23T14:59:44.376Z"
   },
   {
    "duration": 28,
    "start_time": "2024-01-23T14:59:44.392Z"
   },
   {
    "duration": 17,
    "start_time": "2024-01-23T14:59:44.421Z"
   },
   {
    "duration": 4,
    "start_time": "2024-01-23T14:59:44.439Z"
   },
   {
    "duration": 38,
    "start_time": "2024-01-23T14:59:44.444Z"
   },
   {
    "duration": 9,
    "start_time": "2024-01-23T14:59:44.484Z"
   },
   {
    "duration": 18,
    "start_time": "2024-01-23T14:59:44.494Z"
   },
   {
    "duration": 9,
    "start_time": "2024-01-23T14:59:44.514Z"
   },
   {
    "duration": 18,
    "start_time": "2024-01-23T14:59:44.525Z"
   },
   {
    "duration": 28,
    "start_time": "2024-01-23T14:59:44.545Z"
   },
   {
    "duration": 198,
    "start_time": "2024-01-23T14:59:44.575Z"
   },
   {
    "duration": 4,
    "start_time": "2024-01-23T14:59:44.775Z"
   },
   {
    "duration": 27,
    "start_time": "2024-01-23T14:59:44.781Z"
   },
   {
    "duration": 174,
    "start_time": "2024-01-23T14:59:44.809Z"
   },
   {
    "duration": 17,
    "start_time": "2024-01-23T14:59:44.985Z"
   },
   {
    "duration": 172,
    "start_time": "2024-01-23T14:59:45.004Z"
   },
   {
    "duration": 20,
    "start_time": "2024-01-23T14:59:45.178Z"
   },
   {
    "duration": 252,
    "start_time": "2024-01-23T14:59:45.199Z"
   },
   {
    "duration": 30,
    "start_time": "2024-01-23T14:59:45.453Z"
   },
   {
    "duration": 287,
    "start_time": "2024-01-23T14:59:45.485Z"
   },
   {
    "duration": 15,
    "start_time": "2024-01-23T14:59:45.782Z"
   },
   {
    "duration": 8,
    "start_time": "2024-01-23T14:59:45.801Z"
   },
   {
    "duration": 2950,
    "start_time": "2024-01-23T14:59:45.811Z"
   },
   {
    "duration": 9,
    "start_time": "2024-01-23T14:59:48.763Z"
   },
   {
    "duration": 157,
    "start_time": "2024-01-23T14:59:48.774Z"
   },
   {
    "duration": 267,
    "start_time": "2024-01-23T14:59:48.933Z"
   },
   {
    "duration": 197,
    "start_time": "2024-01-23T14:59:49.202Z"
   },
   {
    "duration": 159,
    "start_time": "2024-01-23T14:59:49.401Z"
   },
   {
    "duration": 54,
    "start_time": "2024-01-23T18:17:57.255Z"
   },
   {
    "duration": 1348,
    "start_time": "2024-01-23T18:18:13.995Z"
   },
   {
    "duration": 336,
    "start_time": "2024-01-23T18:18:17.083Z"
   },
   {
    "duration": 32,
    "start_time": "2024-01-23T18:18:18.376Z"
   },
   {
    "duration": 16,
    "start_time": "2024-01-23T18:18:36.806Z"
   },
   {
    "duration": 8,
    "start_time": "2024-01-23T18:19:15.654Z"
   },
   {
    "duration": 12,
    "start_time": "2024-01-23T18:19:31.114Z"
   },
   {
    "duration": 16,
    "start_time": "2024-01-23T18:19:34.600Z"
   },
   {
    "duration": 5,
    "start_time": "2024-01-23T18:19:35.657Z"
   },
   {
    "duration": 24,
    "start_time": "2024-01-23T18:19:38.296Z"
   },
   {
    "duration": 18,
    "start_time": "2024-01-23T18:20:17.908Z"
   },
   {
    "duration": 5,
    "start_time": "2024-01-23T18:23:06.502Z"
   },
   {
    "duration": 11,
    "start_time": "2024-01-23T18:23:07.892Z"
   },
   {
    "duration": 4,
    "start_time": "2024-01-23T18:23:10.889Z"
   },
   {
    "duration": 6,
    "start_time": "2024-01-23T18:23:11.852Z"
   },
   {
    "duration": 7,
    "start_time": "2024-01-23T18:23:13.006Z"
   },
   {
    "duration": 7,
    "start_time": "2024-01-23T18:25:08.274Z"
   },
   {
    "duration": 5,
    "start_time": "2024-01-23T18:25:11.167Z"
   },
   {
    "duration": 74,
    "start_time": "2024-01-23T18:25:31.139Z"
   },
   {
    "duration": 4,
    "start_time": "2024-01-23T18:26:40.673Z"
   },
   {
    "duration": 168,
    "start_time": "2024-01-23T18:26:40.679Z"
   },
   {
    "duration": 29,
    "start_time": "2024-01-23T18:26:40.849Z"
   },
   {
    "duration": 21,
    "start_time": "2024-01-23T18:26:40.880Z"
   },
   {
    "duration": 15,
    "start_time": "2024-01-23T18:26:40.904Z"
   },
   {
    "duration": 12,
    "start_time": "2024-01-23T18:26:40.920Z"
   },
   {
    "duration": 39,
    "start_time": "2024-01-23T18:26:40.934Z"
   },
   {
    "duration": 40,
    "start_time": "2024-01-23T18:26:40.975Z"
   },
   {
    "duration": 15,
    "start_time": "2024-01-23T18:26:41.017Z"
   },
   {
    "duration": 14,
    "start_time": "2024-01-23T18:26:41.034Z"
   },
   {
    "duration": 5,
    "start_time": "2024-01-23T18:26:41.049Z"
   },
   {
    "duration": 37,
    "start_time": "2024-01-23T18:26:41.055Z"
   },
   {
    "duration": 16,
    "start_time": "2024-01-23T18:26:41.093Z"
   },
   {
    "duration": 12,
    "start_time": "2024-01-23T18:26:41.113Z"
   },
   {
    "duration": 58,
    "start_time": "2024-01-23T18:26:41.127Z"
   },
   {
    "duration": 39,
    "start_time": "2024-01-23T18:26:41.187Z"
   },
   {
    "duration": 16,
    "start_time": "2024-01-23T18:26:41.228Z"
   },
   {
    "duration": 39,
    "start_time": "2024-01-23T18:26:41.246Z"
   },
   {
    "duration": 5,
    "start_time": "2024-01-23T18:26:41.287Z"
   },
   {
    "duration": 13,
    "start_time": "2024-01-23T18:26:41.293Z"
   },
   {
    "duration": 8,
    "start_time": "2024-01-23T18:26:41.307Z"
   },
   {
    "duration": 5,
    "start_time": "2024-01-23T18:26:41.317Z"
   },
   {
    "duration": 9,
    "start_time": "2024-01-23T18:26:41.323Z"
   },
   {
    "duration": 54,
    "start_time": "2024-01-23T18:26:41.333Z"
   },
   {
    "duration": 0,
    "start_time": "2024-01-23T18:26:41.389Z"
   },
   {
    "duration": 0,
    "start_time": "2024-01-23T18:26:41.390Z"
   },
   {
    "duration": 0,
    "start_time": "2024-01-23T18:26:41.391Z"
   },
   {
    "duration": 0,
    "start_time": "2024-01-23T18:26:41.393Z"
   },
   {
    "duration": 0,
    "start_time": "2024-01-23T18:26:41.394Z"
   },
   {
    "duration": 0,
    "start_time": "2024-01-23T18:26:41.394Z"
   },
   {
    "duration": 0,
    "start_time": "2024-01-23T18:26:41.396Z"
   },
   {
    "duration": 0,
    "start_time": "2024-01-23T18:26:41.397Z"
   },
   {
    "duration": 0,
    "start_time": "2024-01-23T18:26:41.398Z"
   },
   {
    "duration": 0,
    "start_time": "2024-01-23T18:26:41.399Z"
   },
   {
    "duration": 0,
    "start_time": "2024-01-23T18:26:41.400Z"
   },
   {
    "duration": 0,
    "start_time": "2024-01-23T18:26:41.401Z"
   },
   {
    "duration": 0,
    "start_time": "2024-01-23T18:26:41.402Z"
   },
   {
    "duration": 0,
    "start_time": "2024-01-23T18:26:41.403Z"
   },
   {
    "duration": 0,
    "start_time": "2024-01-23T18:26:41.404Z"
   },
   {
    "duration": 0,
    "start_time": "2024-01-23T18:26:41.405Z"
   },
   {
    "duration": 0,
    "start_time": "2024-01-23T18:26:41.406Z"
   },
   {
    "duration": 0,
    "start_time": "2024-01-23T18:26:41.407Z"
   },
   {
    "duration": 0,
    "start_time": "2024-01-23T18:26:41.408Z"
   },
   {
    "duration": 0,
    "start_time": "2024-01-23T18:26:41.409Z"
   },
   {
    "duration": 0,
    "start_time": "2024-01-23T18:26:41.410Z"
   },
   {
    "duration": 0,
    "start_time": "2024-01-23T18:26:41.411Z"
   },
   {
    "duration": 0,
    "start_time": "2024-01-23T18:26:41.412Z"
   },
   {
    "duration": 0,
    "start_time": "2024-01-23T18:26:41.413Z"
   },
   {
    "duration": 0,
    "start_time": "2024-01-23T18:26:41.415Z"
   },
   {
    "duration": 0,
    "start_time": "2024-01-23T18:26:41.416Z"
   },
   {
    "duration": 0,
    "start_time": "2024-01-23T18:26:41.417Z"
   },
   {
    "duration": 0,
    "start_time": "2024-01-23T18:26:41.474Z"
   },
   {
    "duration": 7,
    "start_time": "2024-01-23T18:30:21.773Z"
   },
   {
    "duration": 6,
    "start_time": "2024-01-23T18:30:24.996Z"
   },
   {
    "duration": 19,
    "start_time": "2024-01-23T19:15:05.954Z"
   },
   {
    "duration": 6,
    "start_time": "2024-01-23T19:15:43.996Z"
   },
   {
    "duration": 6,
    "start_time": "2024-01-23T19:20:56.534Z"
   },
   {
    "duration": 6,
    "start_time": "2024-01-23T19:21:00.048Z"
   },
   {
    "duration": 3,
    "start_time": "2024-01-23T19:21:15.465Z"
   },
   {
    "duration": 146,
    "start_time": "2024-01-23T19:21:15.470Z"
   },
   {
    "duration": 27,
    "start_time": "2024-01-23T19:21:15.618Z"
   },
   {
    "duration": 14,
    "start_time": "2024-01-23T19:21:15.647Z"
   },
   {
    "duration": 23,
    "start_time": "2024-01-23T19:21:15.664Z"
   },
   {
    "duration": 11,
    "start_time": "2024-01-23T19:21:15.689Z"
   },
   {
    "duration": 11,
    "start_time": "2024-01-23T19:21:15.702Z"
   },
   {
    "duration": 27,
    "start_time": "2024-01-23T19:21:15.715Z"
   },
   {
    "duration": 14,
    "start_time": "2024-01-23T19:21:15.744Z"
   },
   {
    "duration": 31,
    "start_time": "2024-01-23T19:21:15.760Z"
   },
   {
    "duration": 5,
    "start_time": "2024-01-23T19:21:15.793Z"
   },
   {
    "duration": 23,
    "start_time": "2024-01-23T19:21:15.799Z"
   },
   {
    "duration": 16,
    "start_time": "2024-01-23T19:21:15.824Z"
   },
   {
    "duration": 18,
    "start_time": "2024-01-23T19:21:15.841Z"
   },
   {
    "duration": 20,
    "start_time": "2024-01-23T19:21:15.861Z"
   },
   {
    "duration": 56,
    "start_time": "2024-01-23T19:21:15.883Z"
   },
   {
    "duration": 19,
    "start_time": "2024-01-23T19:21:15.940Z"
   },
   {
    "duration": 17,
    "start_time": "2024-01-23T19:21:15.961Z"
   },
   {
    "duration": 4,
    "start_time": "2024-01-23T19:21:15.980Z"
   },
   {
    "duration": 19,
    "start_time": "2024-01-23T19:21:15.985Z"
   },
   {
    "duration": 15,
    "start_time": "2024-01-23T19:21:16.005Z"
   },
   {
    "duration": 20,
    "start_time": "2024-01-23T19:21:16.021Z"
   },
   {
    "duration": 10,
    "start_time": "2024-01-23T19:21:16.042Z"
   },
   {
    "duration": 11,
    "start_time": "2024-01-23T19:21:16.053Z"
   },
   {
    "duration": 7,
    "start_time": "2024-01-23T19:21:16.065Z"
   },
   {
    "duration": 5,
    "start_time": "2024-01-23T19:21:16.073Z"
   },
   {
    "duration": 7,
    "start_time": "2024-01-23T19:21:16.080Z"
   },
   {
    "duration": 9,
    "start_time": "2024-01-23T19:21:16.088Z"
   },
   {
    "duration": 35,
    "start_time": "2024-01-23T19:21:16.101Z"
   },
   {
    "duration": 22,
    "start_time": "2024-01-23T19:21:16.137Z"
   },
   {
    "duration": 14,
    "start_time": "2024-01-23T19:21:16.160Z"
   },
   {
    "duration": 15,
    "start_time": "2024-01-23T19:21:16.175Z"
   },
   {
    "duration": 10,
    "start_time": "2024-01-23T19:21:16.192Z"
   },
   {
    "duration": 5,
    "start_time": "2024-01-23T19:21:16.203Z"
   },
   {
    "duration": 9,
    "start_time": "2024-01-23T19:21:16.209Z"
   },
   {
    "duration": 16,
    "start_time": "2024-01-23T19:21:16.220Z"
   },
   {
    "duration": 41,
    "start_time": "2024-01-23T19:21:16.238Z"
   },
   {
    "duration": 198,
    "start_time": "2024-01-23T19:21:16.281Z"
   },
   {
    "duration": 5,
    "start_time": "2024-01-23T19:21:16.481Z"
   },
   {
    "duration": 26,
    "start_time": "2024-01-23T19:21:16.488Z"
   },
   {
    "duration": 174,
    "start_time": "2024-01-23T19:21:16.516Z"
   },
   {
    "duration": 17,
    "start_time": "2024-01-23T19:21:16.693Z"
   },
   {
    "duration": 166,
    "start_time": "2024-01-23T19:21:16.712Z"
   },
   {
    "duration": 22,
    "start_time": "2024-01-23T19:21:16.879Z"
   },
   {
    "duration": 294,
    "start_time": "2024-01-23T19:21:16.903Z"
   },
   {
    "duration": 22,
    "start_time": "2024-01-23T19:21:17.199Z"
   },
   {
    "duration": 275,
    "start_time": "2024-01-23T19:21:17.223Z"
   },
   {
    "duration": 13,
    "start_time": "2024-01-23T19:21:17.499Z"
   },
   {
    "duration": 23,
    "start_time": "2024-01-23T19:21:17.513Z"
   },
   {
    "duration": 2803,
    "start_time": "2024-01-23T19:21:17.538Z"
   },
   {
    "duration": 6,
    "start_time": "2024-01-23T19:21:20.344Z"
   },
   {
    "duration": 161,
    "start_time": "2024-01-23T19:21:20.352Z"
   },
   {
    "duration": 254,
    "start_time": "2024-01-23T19:21:20.515Z"
   },
   {
    "duration": 192,
    "start_time": "2024-01-23T19:21:20.770Z"
   },
   {
    "duration": 159,
    "start_time": "2024-01-23T19:21:20.964Z"
   },
   {
    "duration": 3,
    "start_time": "2024-01-23T19:32:10.458Z"
   },
   {
    "duration": 143,
    "start_time": "2024-01-23T19:32:10.463Z"
   },
   {
    "duration": 28,
    "start_time": "2024-01-23T19:32:10.608Z"
   },
   {
    "duration": 28,
    "start_time": "2024-01-23T19:32:10.638Z"
   },
   {
    "duration": 21,
    "start_time": "2024-01-23T19:32:10.668Z"
   },
   {
    "duration": 30,
    "start_time": "2024-01-23T19:32:10.690Z"
   },
   {
    "duration": 36,
    "start_time": "2024-01-23T19:32:10.722Z"
   },
   {
    "duration": 118,
    "start_time": "2024-01-23T19:32:10.760Z"
   },
   {
    "duration": 22,
    "start_time": "2024-01-23T19:32:10.880Z"
   },
   {
    "duration": 15,
    "start_time": "2024-01-23T19:32:10.904Z"
   },
   {
    "duration": 4,
    "start_time": "2024-01-23T19:32:10.921Z"
   },
   {
    "duration": 30,
    "start_time": "2024-01-23T19:32:10.926Z"
   },
   {
    "duration": 27,
    "start_time": "2024-01-23T19:32:10.957Z"
   },
   {
    "duration": 15,
    "start_time": "2024-01-23T19:32:10.986Z"
   },
   {
    "duration": 23,
    "start_time": "2024-01-23T19:32:11.002Z"
   },
   {
    "duration": 31,
    "start_time": "2024-01-23T19:32:11.027Z"
   },
   {
    "duration": 18,
    "start_time": "2024-01-23T19:32:11.073Z"
   },
   {
    "duration": 17,
    "start_time": "2024-01-23T19:32:11.093Z"
   },
   {
    "duration": 11,
    "start_time": "2024-01-23T19:32:11.112Z"
   },
   {
    "duration": 26,
    "start_time": "2024-01-23T19:32:11.125Z"
   },
   {
    "duration": 45,
    "start_time": "2024-01-23T19:32:11.153Z"
   },
   {
    "duration": 27,
    "start_time": "2024-01-23T19:32:11.200Z"
   },
   {
    "duration": 41,
    "start_time": "2024-01-23T19:32:11.229Z"
   },
   {
    "duration": 7,
    "start_time": "2024-01-23T19:32:11.272Z"
   },
   {
    "duration": 7,
    "start_time": "2024-01-23T19:32:11.280Z"
   },
   {
    "duration": 7,
    "start_time": "2024-01-23T19:32:11.288Z"
   },
   {
    "duration": 9,
    "start_time": "2024-01-23T19:32:11.297Z"
   },
   {
    "duration": 6,
    "start_time": "2024-01-23T19:32:11.310Z"
   },
   {
    "duration": 27,
    "start_time": "2024-01-23T19:32:11.317Z"
   },
   {
    "duration": 33,
    "start_time": "2024-01-23T19:32:11.346Z"
   },
   {
    "duration": 3,
    "start_time": "2024-01-23T19:32:11.380Z"
   },
   {
    "duration": 14,
    "start_time": "2024-01-23T19:32:11.385Z"
   },
   {
    "duration": 15,
    "start_time": "2024-01-23T19:32:11.401Z"
   },
   {
    "duration": 10,
    "start_time": "2024-01-23T19:32:11.417Z"
   },
   {
    "duration": 9,
    "start_time": "2024-01-23T19:32:11.429Z"
   },
   {
    "duration": 34,
    "start_time": "2024-01-23T19:32:11.440Z"
   },
   {
    "duration": 8,
    "start_time": "2024-01-23T19:32:11.476Z"
   },
   {
    "duration": 180,
    "start_time": "2024-01-23T19:32:11.486Z"
   },
   {
    "duration": 6,
    "start_time": "2024-01-23T19:32:11.668Z"
   },
   {
    "duration": 28,
    "start_time": "2024-01-23T19:32:11.676Z"
   },
   {
    "duration": 159,
    "start_time": "2024-01-23T19:32:11.706Z"
   },
   {
    "duration": 20,
    "start_time": "2024-01-23T19:32:11.867Z"
   },
   {
    "duration": 177,
    "start_time": "2024-01-23T19:32:11.889Z"
   },
   {
    "duration": 25,
    "start_time": "2024-01-23T19:32:12.067Z"
   },
   {
    "duration": 257,
    "start_time": "2024-01-23T19:32:12.094Z"
   },
   {
    "duration": 26,
    "start_time": "2024-01-23T19:32:12.353Z"
   },
   {
    "duration": 267,
    "start_time": "2024-01-23T19:32:12.380Z"
   },
   {
    "duration": 13,
    "start_time": "2024-01-23T19:32:12.648Z"
   },
   {
    "duration": 6,
    "start_time": "2024-01-23T19:32:12.673Z"
   },
   {
    "duration": 2792,
    "start_time": "2024-01-23T19:32:12.681Z"
   },
   {
    "duration": 7,
    "start_time": "2024-01-23T19:32:15.475Z"
   },
   {
    "duration": 166,
    "start_time": "2024-01-23T19:32:15.483Z"
   },
   {
    "duration": 246,
    "start_time": "2024-01-23T19:32:15.651Z"
   },
   {
    "duration": 194,
    "start_time": "2024-01-23T19:32:15.899Z"
   },
   {
    "duration": 162,
    "start_time": "2024-01-23T19:32:16.095Z"
   },
   {
    "duration": 10,
    "start_time": "2024-01-23T19:57:48.066Z"
   },
   {
    "duration": 148,
    "start_time": "2024-01-23T19:58:10.745Z"
   },
   {
    "duration": 145,
    "start_time": "2024-01-23T19:58:43.157Z"
   },
   {
    "duration": 159,
    "start_time": "2024-01-23T19:59:19.711Z"
   },
   {
    "duration": 157,
    "start_time": "2024-01-23T19:59:32.731Z"
   },
   {
    "duration": 185,
    "start_time": "2024-01-23T20:00:01.932Z"
   },
   {
    "duration": 406,
    "start_time": "2024-01-23T20:00:08.019Z"
   },
   {
    "duration": 259,
    "start_time": "2024-01-23T20:00:52.900Z"
   },
   {
    "duration": 290,
    "start_time": "2024-01-23T20:01:40.620Z"
   },
   {
    "duration": 260,
    "start_time": "2024-01-23T20:06:20.572Z"
   },
   {
    "duration": 263,
    "start_time": "2024-01-23T20:06:46.198Z"
   },
   {
    "duration": 264,
    "start_time": "2024-01-23T20:07:13.060Z"
   },
   {
    "duration": 271,
    "start_time": "2024-01-23T20:07:23.315Z"
   },
   {
    "duration": 1264,
    "start_time": "2024-01-24T05:34:40.063Z"
   },
   {
    "duration": 274,
    "start_time": "2024-01-24T05:34:41.329Z"
   },
   {
    "duration": 31,
    "start_time": "2024-01-24T05:34:41.605Z"
   },
   {
    "duration": 14,
    "start_time": "2024-01-24T05:34:41.638Z"
   },
   {
    "duration": 22,
    "start_time": "2024-01-24T05:34:41.655Z"
   },
   {
    "duration": 18,
    "start_time": "2024-01-24T05:34:41.678Z"
   },
   {
    "duration": 4,
    "start_time": "2024-01-24T05:34:41.698Z"
   },
   {
    "duration": 37,
    "start_time": "2024-01-24T05:34:41.704Z"
   },
   {
    "duration": 15,
    "start_time": "2024-01-24T05:34:41.742Z"
   },
   {
    "duration": 24,
    "start_time": "2024-01-24T05:34:41.758Z"
   },
   {
    "duration": 4,
    "start_time": "2024-01-24T05:34:41.784Z"
   },
   {
    "duration": 29,
    "start_time": "2024-01-24T05:34:41.789Z"
   },
   {
    "duration": 14,
    "start_time": "2024-01-24T05:34:41.820Z"
   },
   {
    "duration": 9,
    "start_time": "2024-01-24T05:34:41.837Z"
   },
   {
    "duration": 18,
    "start_time": "2024-01-24T05:34:41.847Z"
   },
   {
    "duration": 55,
    "start_time": "2024-01-24T05:34:41.867Z"
   },
   {
    "duration": 16,
    "start_time": "2024-01-24T05:34:41.923Z"
   },
   {
    "duration": 14,
    "start_time": "2024-01-24T05:34:41.940Z"
   },
   {
    "duration": 5,
    "start_time": "2024-01-24T05:34:41.956Z"
   },
   {
    "duration": 10,
    "start_time": "2024-01-24T05:34:41.962Z"
   },
   {
    "duration": 6,
    "start_time": "2024-01-24T05:34:41.973Z"
   },
   {
    "duration": 40,
    "start_time": "2024-01-24T05:34:41.981Z"
   },
   {
    "duration": 8,
    "start_time": "2024-01-24T05:34:42.022Z"
   },
   {
    "duration": 7,
    "start_time": "2024-01-24T05:34:42.033Z"
   },
   {
    "duration": 9,
    "start_time": "2024-01-24T05:34:42.041Z"
   },
   {
    "duration": 6,
    "start_time": "2024-01-24T05:34:42.051Z"
   },
   {
    "duration": 6,
    "start_time": "2024-01-24T05:34:42.059Z"
   },
   {
    "duration": 11,
    "start_time": "2024-01-24T05:34:42.067Z"
   },
   {
    "duration": 48,
    "start_time": "2024-01-24T05:34:42.080Z"
   },
   {
    "duration": 1554,
    "start_time": "2024-01-24T05:34:42.129Z"
   },
   {
    "duration": 0,
    "start_time": "2024-01-24T05:34:43.685Z"
   },
   {
    "duration": 0,
    "start_time": "2024-01-24T05:34:43.687Z"
   },
   {
    "duration": 0,
    "start_time": "2024-01-24T05:34:43.688Z"
   },
   {
    "duration": 0,
    "start_time": "2024-01-24T05:34:43.689Z"
   },
   {
    "duration": 0,
    "start_time": "2024-01-24T05:34:43.691Z"
   },
   {
    "duration": 0,
    "start_time": "2024-01-24T05:34:43.692Z"
   },
   {
    "duration": 0,
    "start_time": "2024-01-24T05:34:43.694Z"
   },
   {
    "duration": 0,
    "start_time": "2024-01-24T05:34:43.696Z"
   },
   {
    "duration": 0,
    "start_time": "2024-01-24T05:34:43.697Z"
   },
   {
    "duration": 0,
    "start_time": "2024-01-24T05:34:43.718Z"
   },
   {
    "duration": 0,
    "start_time": "2024-01-24T05:34:43.720Z"
   },
   {
    "duration": 0,
    "start_time": "2024-01-24T05:34:43.721Z"
   },
   {
    "duration": 0,
    "start_time": "2024-01-24T05:34:43.723Z"
   },
   {
    "duration": 0,
    "start_time": "2024-01-24T05:34:43.724Z"
   },
   {
    "duration": 0,
    "start_time": "2024-01-24T05:34:43.726Z"
   },
   {
    "duration": 0,
    "start_time": "2024-01-24T05:34:43.727Z"
   },
   {
    "duration": 0,
    "start_time": "2024-01-24T05:34:43.728Z"
   },
   {
    "duration": 0,
    "start_time": "2024-01-24T05:34:43.729Z"
   },
   {
    "duration": 0,
    "start_time": "2024-01-24T05:34:43.730Z"
   },
   {
    "duration": 0,
    "start_time": "2024-01-24T05:34:43.732Z"
   },
   {
    "duration": 0,
    "start_time": "2024-01-24T05:34:43.733Z"
   },
   {
    "duration": 0,
    "start_time": "2024-01-24T05:34:43.734Z"
   },
   {
    "duration": 0,
    "start_time": "2024-01-24T05:34:43.735Z"
   },
   {
    "duration": 0,
    "start_time": "2024-01-24T05:34:43.736Z"
   },
   {
    "duration": 0,
    "start_time": "2024-01-24T05:34:43.737Z"
   },
   {
    "duration": 0,
    "start_time": "2024-01-24T05:34:43.738Z"
   },
   {
    "duration": 265,
    "start_time": "2024-01-24T05:38:17.443Z"
   },
   {
    "duration": 249,
    "start_time": "2024-01-24T05:40:11.897Z"
   },
   {
    "duration": 227,
    "start_time": "2024-01-24T05:40:37.499Z"
   },
   {
    "duration": 319,
    "start_time": "2024-01-24T05:40:49.546Z"
   },
   {
    "duration": 251,
    "start_time": "2024-01-24T05:42:06.166Z"
   },
   {
    "duration": 27,
    "start_time": "2024-01-24T05:45:02.014Z"
   },
   {
    "duration": 32,
    "start_time": "2024-01-24T05:46:21.112Z"
   },
   {
    "duration": 25,
    "start_time": "2024-01-24T05:53:55.622Z"
   },
   {
    "duration": 31,
    "start_time": "2024-01-24T05:55:05.876Z"
   },
   {
    "duration": 27,
    "start_time": "2024-01-24T05:55:11.614Z"
   },
   {
    "duration": 22,
    "start_time": "2024-01-24T06:00:05.960Z"
   },
   {
    "duration": 21,
    "start_time": "2024-01-24T06:00:26.949Z"
   },
   {
    "duration": 26,
    "start_time": "2024-01-24T06:00:35.169Z"
   },
   {
    "duration": 12,
    "start_time": "2024-01-24T06:27:47.540Z"
   },
   {
    "duration": 299,
    "start_time": "2024-01-24T06:29:28.707Z"
   },
   {
    "duration": 9,
    "start_time": "2024-01-24T06:30:10.057Z"
   },
   {
    "duration": 10,
    "start_time": "2024-01-24T06:30:34.620Z"
   },
   {
    "duration": 31,
    "start_time": "2024-01-24T06:30:57.618Z"
   },
   {
    "duration": 9,
    "start_time": "2024-01-24T06:31:39.872Z"
   },
   {
    "duration": 10,
    "start_time": "2024-01-24T06:31:44.716Z"
   },
   {
    "duration": 10,
    "start_time": "2024-01-24T06:32:17.581Z"
   },
   {
    "duration": 9,
    "start_time": "2024-01-24T06:32:23.060Z"
   },
   {
    "duration": 10,
    "start_time": "2024-01-24T06:32:33.835Z"
   },
   {
    "duration": 9,
    "start_time": "2024-01-24T06:32:53.844Z"
   },
   {
    "duration": 17,
    "start_time": "2024-01-24T06:33:23.504Z"
   },
   {
    "duration": 23,
    "start_time": "2024-01-24T06:34:17.877Z"
   },
   {
    "duration": 24,
    "start_time": "2024-01-24T06:35:12.583Z"
   },
   {
    "duration": 23,
    "start_time": "2024-01-24T06:36:23.122Z"
   },
   {
    "duration": 17,
    "start_time": "2024-01-24T06:37:54.166Z"
   },
   {
    "duration": 16,
    "start_time": "2024-01-24T06:51:41.054Z"
   },
   {
    "duration": 3,
    "start_time": "2024-01-24T06:53:15.126Z"
   },
   {
    "duration": 126,
    "start_time": "2024-01-24T06:53:15.130Z"
   },
   {
    "duration": 25,
    "start_time": "2024-01-24T06:53:15.258Z"
   },
   {
    "duration": 30,
    "start_time": "2024-01-24T06:53:15.284Z"
   },
   {
    "duration": 23,
    "start_time": "2024-01-24T06:53:15.317Z"
   },
   {
    "duration": 15,
    "start_time": "2024-01-24T06:53:15.342Z"
   },
   {
    "duration": 8,
    "start_time": "2024-01-24T06:53:15.359Z"
   },
   {
    "duration": 27,
    "start_time": "2024-01-24T06:53:15.369Z"
   },
   {
    "duration": 27,
    "start_time": "2024-01-24T06:53:15.397Z"
   },
   {
    "duration": 13,
    "start_time": "2024-01-24T06:53:15.426Z"
   },
   {
    "duration": 4,
    "start_time": "2024-01-24T06:53:15.441Z"
   },
   {
    "duration": 29,
    "start_time": "2024-01-24T06:53:15.447Z"
   },
   {
    "duration": 15,
    "start_time": "2024-01-24T06:53:15.478Z"
   },
   {
    "duration": 28,
    "start_time": "2024-01-24T06:53:15.495Z"
   },
   {
    "duration": 18,
    "start_time": "2024-01-24T06:53:15.524Z"
   },
   {
    "duration": 29,
    "start_time": "2024-01-24T06:53:15.543Z"
   },
   {
    "duration": 14,
    "start_time": "2024-01-24T06:53:15.574Z"
   },
   {
    "duration": 36,
    "start_time": "2024-01-24T06:53:15.590Z"
   },
   {
    "duration": 6,
    "start_time": "2024-01-24T06:53:15.628Z"
   },
   {
    "duration": 9,
    "start_time": "2024-01-24T06:53:15.635Z"
   },
   {
    "duration": 4,
    "start_time": "2024-01-24T06:53:15.646Z"
   },
   {
    "duration": 4,
    "start_time": "2024-01-24T06:53:15.652Z"
   },
   {
    "duration": 7,
    "start_time": "2024-01-24T06:53:15.657Z"
   },
   {
    "duration": 6,
    "start_time": "2024-01-24T06:53:15.666Z"
   },
   {
    "duration": 47,
    "start_time": "2024-01-24T06:53:15.674Z"
   },
   {
    "duration": 5,
    "start_time": "2024-01-24T06:53:15.722Z"
   },
   {
    "duration": 7,
    "start_time": "2024-01-24T06:53:15.729Z"
   },
   {
    "duration": 4,
    "start_time": "2024-01-24T06:53:15.737Z"
   },
   {
    "duration": 24,
    "start_time": "2024-01-24T06:53:15.743Z"
   },
   {
    "duration": 269,
    "start_time": "2024-01-24T06:53:15.768Z"
   },
   {
    "duration": 250,
    "start_time": "2024-01-24T06:53:16.039Z"
   },
   {
    "duration": 38,
    "start_time": "2024-01-24T06:53:16.291Z"
   },
   {
    "duration": 23,
    "start_time": "2024-01-24T06:53:16.331Z"
   },
   {
    "duration": 15,
    "start_time": "2024-01-24T06:53:16.356Z"
   },
   {
    "duration": 20,
    "start_time": "2024-01-24T06:53:16.372Z"
   },
   {
    "duration": 3,
    "start_time": "2024-01-24T06:53:16.393Z"
   },
   {
    "duration": 10,
    "start_time": "2024-01-24T06:53:16.418Z"
   },
   {
    "duration": 8,
    "start_time": "2024-01-24T06:53:16.430Z"
   },
   {
    "duration": 5,
    "start_time": "2024-01-24T06:53:16.439Z"
   },
   {
    "duration": 9,
    "start_time": "2024-01-24T06:53:16.445Z"
   },
   {
    "duration": 19,
    "start_time": "2024-01-24T06:53:16.457Z"
   },
   {
    "duration": 7,
    "start_time": "2024-01-24T06:53:16.477Z"
   },
   {
    "duration": 192,
    "start_time": "2024-01-24T06:53:16.485Z"
   },
   {
    "duration": 4,
    "start_time": "2024-01-24T06:53:16.679Z"
   },
   {
    "duration": 13,
    "start_time": "2024-01-24T06:53:16.684Z"
   },
   {
    "duration": 172,
    "start_time": "2024-01-24T06:53:16.698Z"
   },
   {
    "duration": 15,
    "start_time": "2024-01-24T06:53:16.872Z"
   },
   {
    "duration": 145,
    "start_time": "2024-01-24T06:53:16.888Z"
   },
   {
    "duration": 19,
    "start_time": "2024-01-24T06:53:17.035Z"
   },
   {
    "duration": 237,
    "start_time": "2024-01-24T06:53:17.055Z"
   },
   {
    "duration": 28,
    "start_time": "2024-01-24T06:53:17.294Z"
   },
   {
    "duration": 332,
    "start_time": "2024-01-24T06:53:17.323Z"
   },
   {
    "duration": 13,
    "start_time": "2024-01-24T06:53:17.656Z"
   },
   {
    "duration": 6,
    "start_time": "2024-01-24T06:53:17.671Z"
   },
   {
    "duration": 2508,
    "start_time": "2024-01-24T06:53:17.679Z"
   },
   {
    "duration": 6,
    "start_time": "2024-01-24T06:53:20.189Z"
   },
   {
    "duration": 265,
    "start_time": "2024-01-24T06:53:20.197Z"
   },
   {
    "duration": 234,
    "start_time": "2024-01-24T06:53:20.464Z"
   },
   {
    "duration": 175,
    "start_time": "2024-01-24T06:53:20.699Z"
   },
   {
    "duration": 137,
    "start_time": "2024-01-24T06:53:20.876Z"
   },
   {
    "duration": 47,
    "start_time": "2024-01-24T07:32:03.112Z"
   },
   {
    "duration": 21,
    "start_time": "2024-01-24T07:32:26.656Z"
   },
   {
    "duration": 23,
    "start_time": "2024-01-24T07:38:14.376Z"
   },
   {
    "duration": 26,
    "start_time": "2024-01-24T07:38:41.337Z"
   },
   {
    "duration": 16,
    "start_time": "2024-01-24T07:42:33.448Z"
   },
   {
    "duration": 268,
    "start_time": "2024-01-24T07:44:08.675Z"
   },
   {
    "duration": 140,
    "start_time": "2024-01-24T07:46:09.650Z"
   },
   {
    "duration": 17,
    "start_time": "2024-01-24T07:46:37.396Z"
   },
   {
    "duration": 135,
    "start_time": "2024-01-24T07:47:29.450Z"
   },
   {
    "duration": 125,
    "start_time": "2024-01-24T07:48:20.483Z"
   },
   {
    "duration": 36,
    "start_time": "2024-01-24T07:48:38.409Z"
   },
   {
    "duration": 141,
    "start_time": "2024-01-24T07:54:36.193Z"
   },
   {
    "duration": 130,
    "start_time": "2024-01-24T07:55:05.682Z"
   },
   {
    "duration": 130,
    "start_time": "2024-01-24T07:55:32.675Z"
   },
   {
    "duration": 10,
    "start_time": "2024-01-24T07:57:22.580Z"
   },
   {
    "duration": 8,
    "start_time": "2024-01-24T07:57:38.986Z"
   },
   {
    "duration": 6,
    "start_time": "2024-01-24T07:59:31.422Z"
   },
   {
    "duration": 117,
    "start_time": "2024-01-24T07:59:40.517Z"
   },
   {
    "duration": 108,
    "start_time": "2024-01-24T08:02:55.912Z"
   },
   {
    "duration": 128,
    "start_time": "2024-01-24T08:03:44.522Z"
   },
   {
    "duration": 98,
    "start_time": "2024-01-24T17:13:49.129Z"
   }
  ],
  "colab": {
   "name": "DA+. Сборный проект 1. Шаблон (1).ipynb",
   "provenance": []
  },
  "kernelspec": {
   "display_name": "Python 3 (ipykernel)",
   "language": "python",
   "name": "python3"
  },
  "language_info": {
   "codemirror_mode": {
    "name": "ipython",
    "version": 3
   },
   "file_extension": ".py",
   "mimetype": "text/x-python",
   "name": "python",
   "nbconvert_exporter": "python",
   "pygments_lexer": "ipython3",
   "version": "3.11.5"
  },
  "toc": {
   "base_numbering": 1,
   "nav_menu": {},
   "number_sections": true,
   "sideBar": true,
   "skip_h1_title": true,
   "title_cell": "Table of Contents",
   "title_sidebar": "Contents",
   "toc_cell": false,
   "toc_position": {
    "height": "calc(100% - 180px)",
    "left": "10px",
    "top": "150px",
    "width": "375.391px"
   },
   "toc_section_display": true,
   "toc_window_display": false
  }
 },
 "nbformat": 4,
 "nbformat_minor": 1
}
