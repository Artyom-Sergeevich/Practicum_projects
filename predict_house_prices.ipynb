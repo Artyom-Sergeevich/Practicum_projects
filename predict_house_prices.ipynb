{
 "cells": [
  {
   "cell_type": "markdown",
   "id": "GEqQaHzsZ_bA",
   "metadata": {
    "id": "GEqQaHzsZ_bA"
   },
   "source": [
    "## Предсказание стоимости жилья\n",
    "\n",
    "В проекте вам нужно обучить модель линейной регрессии на данных о жилье в Калифорнии в 1990 году. На основе данных нужно предсказать медианную стоимость дома в жилом массиве. Обучите модель и сделайте предсказания на тестовой выборке. Для оценки качества модели используйте метрики RMSE, MAE и R2."
   ]
  },
  {
   "cell_type": "code",
   "execution_count": 1,
   "id": "df92e3ec",
   "metadata": {
    "id": "df92e3ec"
   },
   "outputs": [],
   "source": [
    "# Загрузим необходимые библиотеки\n",
    "import pandas as pd \n",
    "import numpy as np\n",
    "\n",
    "import pyspark\n",
    "from pyspark.sql import SparkSession\n",
    "from pyspark.sql.types import *\n",
    "import pyspark.sql.functions as F\n",
    "\n",
    "from pyspark.ml.feature import StringIndexer, VectorAssembler, StandardScaler\n",
    "from pyspark.ml.regression import LinearRegression\n",
    "from pyspark.mllib.evaluation import RegressionMetrics\n",
    "\n",
    "pyspark_version = pyspark.__version__\n",
    "if int(pyspark_version[:1]) == 3:\n",
    "    from pyspark.ml.feature import OneHotEncoder    \n",
    "elif int(pyspark_version[:1]) == 2:\n",
    "    from pyspark.ml.feature import OneHotEncodeEstimator\n",
    "\n",
    "RANDOM_SEED = 44"
   ]
  },
  {
   "cell_type": "markdown",
   "id": "53871372",
   "metadata": {
    "id": "53871372"
   },
   "source": [
    "# Подготовка данных"
   ]
  },
  {
   "cell_type": "code",
   "execution_count": 2,
   "id": "f1b25e4d",
   "metadata": {},
   "outputs": [],
   "source": [
    "# Инициализируем Spark сессию\n",
    "spark = SparkSession.builder \\\n",
    "                    .master(\"local\") \\\n",
    "                    .appName(\"EDA California Housing\") \\\n",
    "                    .getOrCreate()"
   ]
  },
  {
   "cell_type": "code",
   "execution_count": 3,
   "id": "3bd740f9",
   "metadata": {},
   "outputs": [
    {
     "name": "stderr",
     "output_type": "stream",
     "text": [
      "                                                                                \r"
     ]
    },
    {
     "name": "stdout",
     "output_type": "stream",
     "text": [
      "+---------+--------+------------------+-----------+--------------+----------+----------+-------------+------------------+---------------+\n",
      "|longitude|latitude|housing_median_age|total_rooms|total_bedrooms|population|households|median_income|median_house_value|ocean_proximity|\n",
      "+---------+--------+------------------+-----------+--------------+----------+----------+-------------+------------------+---------------+\n",
      "|  -122.23|   37.88|              41.0|      880.0|         129.0|     322.0|     126.0|       8.3252|          452600.0|       NEAR BAY|\n",
      "|  -122.22|   37.86|              21.0|     7099.0|        1106.0|    2401.0|    1138.0|       8.3014|          358500.0|       NEAR BAY|\n",
      "|  -122.24|   37.85|              52.0|     1467.0|         190.0|     496.0|     177.0|       7.2574|          352100.0|       NEAR BAY|\n",
      "|  -122.25|   37.85|              52.0|     1274.0|         235.0|     558.0|     219.0|       5.6431|          341300.0|       NEAR BAY|\n",
      "|  -122.25|   37.85|              52.0|     1627.0|         280.0|     565.0|     259.0|       3.8462|          342200.0|       NEAR BAY|\n",
      "|  -122.25|   37.85|              52.0|      919.0|         213.0|     413.0|     193.0|       4.0368|          269700.0|       NEAR BAY|\n",
      "|  -122.25|   37.84|              52.0|     2535.0|         489.0|    1094.0|     514.0|       3.6591|          299200.0|       NEAR BAY|\n",
      "|  -122.25|   37.84|              52.0|     3104.0|         687.0|    1157.0|     647.0|         3.12|          241400.0|       NEAR BAY|\n",
      "|  -122.26|   37.84|              42.0|     2555.0|         665.0|    1206.0|     595.0|       2.0804|          226700.0|       NEAR BAY|\n",
      "|  -122.25|   37.84|              52.0|     3549.0|         707.0|    1551.0|     714.0|       3.6912|          261100.0|       NEAR BAY|\n",
      "+---------+--------+------------------+-----------+--------------+----------+----------+-------------+------------------+---------------+\n",
      "only showing top 10 rows\n",
      "\n"
     ]
    }
   ],
   "source": [
    "# Прочитаем данные\n",
    "df_housing = spark.read.csv('/datasets/housing.csv', inferSchema=True, header=True)\n",
    "df_housing.show(10)"
   ]
  },
  {
   "cell_type": "code",
   "execution_count": 4,
   "id": "9644d48f",
   "metadata": {},
   "outputs": [
    {
     "name": "stdout",
     "output_type": "stream",
     "text": [
      "               column    type\n",
      "0           longitude  double\n",
      "1            latitude  double\n",
      "2  housing_median_age  double\n",
      "3         total_rooms  double\n",
      "4      total_bedrooms  double\n",
      "5          population  double\n",
      "6          households  double\n",
      "7       median_income  double\n",
      "8  median_house_value  double\n",
      "9     ocean_proximity  string\n"
     ]
    }
   ],
   "source": [
    "# Выведем типы данных и названия колонок\n",
    "print(pd.DataFrame(df_housing.dtypes, columns=['column', 'type']).head(10))\n"
   ]
  },
  {
   "cell_type": "code",
   "execution_count": 5,
   "id": "87ed74d6",
   "metadata": {},
   "outputs": [
    {
     "name": "stderr",
     "output_type": "stream",
     "text": [
      "                                                                                \r"
     ]
    },
    {
     "data": {
      "text/html": [
       "<div>\n",
       "<style scoped>\n",
       "    .dataframe tbody tr th:only-of-type {\n",
       "        vertical-align: middle;\n",
       "    }\n",
       "\n",
       "    .dataframe tbody tr th {\n",
       "        vertical-align: top;\n",
       "    }\n",
       "\n",
       "    .dataframe thead th {\n",
       "        text-align: right;\n",
       "    }\n",
       "</style>\n",
       "<table border=\"1\" class=\"dataframe\">\n",
       "  <thead>\n",
       "    <tr style=\"text-align: right;\">\n",
       "      <th></th>\n",
       "      <th>summary</th>\n",
       "      <th>longitude</th>\n",
       "      <th>latitude</th>\n",
       "      <th>housing_median_age</th>\n",
       "      <th>total_rooms</th>\n",
       "      <th>total_bedrooms</th>\n",
       "      <th>population</th>\n",
       "      <th>households</th>\n",
       "      <th>median_income</th>\n",
       "      <th>median_house_value</th>\n",
       "      <th>ocean_proximity</th>\n",
       "    </tr>\n",
       "  </thead>\n",
       "  <tbody>\n",
       "    <tr>\n",
       "      <th>0</th>\n",
       "      <td>count</td>\n",
       "      <td>20640</td>\n",
       "      <td>20640</td>\n",
       "      <td>20640</td>\n",
       "      <td>20640</td>\n",
       "      <td>20433</td>\n",
       "      <td>20640</td>\n",
       "      <td>20640</td>\n",
       "      <td>20640</td>\n",
       "      <td>20640</td>\n",
       "      <td>20640</td>\n",
       "    </tr>\n",
       "    <tr>\n",
       "      <th>1</th>\n",
       "      <td>mean</td>\n",
       "      <td>-119.56970445736148</td>\n",
       "      <td>35.6318614341087</td>\n",
       "      <td>28.639486434108527</td>\n",
       "      <td>2635.7630813953488</td>\n",
       "      <td>537.8705525375618</td>\n",
       "      <td>1425.4767441860465</td>\n",
       "      <td>499.5396802325581</td>\n",
       "      <td>3.8706710029070246</td>\n",
       "      <td>206855.81690891474</td>\n",
       "      <td>None</td>\n",
       "    </tr>\n",
       "    <tr>\n",
       "      <th>2</th>\n",
       "      <td>stddev</td>\n",
       "      <td>2.003531723502584</td>\n",
       "      <td>2.135952397457101</td>\n",
       "      <td>12.58555761211163</td>\n",
       "      <td>2181.6152515827944</td>\n",
       "      <td>421.38507007403115</td>\n",
       "      <td>1132.46212176534</td>\n",
       "      <td>382.3297528316098</td>\n",
       "      <td>1.899821717945263</td>\n",
       "      <td>115395.61587441359</td>\n",
       "      <td>None</td>\n",
       "    </tr>\n",
       "    <tr>\n",
       "      <th>3</th>\n",
       "      <td>min</td>\n",
       "      <td>-124.35</td>\n",
       "      <td>32.54</td>\n",
       "      <td>1.0</td>\n",
       "      <td>2.0</td>\n",
       "      <td>1.0</td>\n",
       "      <td>3.0</td>\n",
       "      <td>1.0</td>\n",
       "      <td>0.4999</td>\n",
       "      <td>14999.0</td>\n",
       "      <td>&lt;1H OCEAN</td>\n",
       "    </tr>\n",
       "    <tr>\n",
       "      <th>4</th>\n",
       "      <td>max</td>\n",
       "      <td>-114.31</td>\n",
       "      <td>41.95</td>\n",
       "      <td>52.0</td>\n",
       "      <td>39320.0</td>\n",
       "      <td>6445.0</td>\n",
       "      <td>35682.0</td>\n",
       "      <td>6082.0</td>\n",
       "      <td>15.0001</td>\n",
       "      <td>500001.0</td>\n",
       "      <td>NEAR OCEAN</td>\n",
       "    </tr>\n",
       "  </tbody>\n",
       "</table>\n",
       "</div>"
      ],
      "text/plain": [
       "  summary            longitude           latitude  housing_median_age  \\\n",
       "0   count                20640              20640               20640   \n",
       "1    mean  -119.56970445736148   35.6318614341087  28.639486434108527   \n",
       "2  stddev    2.003531723502584  2.135952397457101   12.58555761211163   \n",
       "3     min              -124.35              32.54                 1.0   \n",
       "4     max              -114.31              41.95                52.0   \n",
       "\n",
       "          total_rooms      total_bedrooms          population  \\\n",
       "0               20640               20433               20640   \n",
       "1  2635.7630813953488   537.8705525375618  1425.4767441860465   \n",
       "2  2181.6152515827944  421.38507007403115    1132.46212176534   \n",
       "3                 2.0                 1.0                 3.0   \n",
       "4             39320.0              6445.0             35682.0   \n",
       "\n",
       "          households       median_income  median_house_value ocean_proximity  \n",
       "0              20640               20640               20640           20640  \n",
       "1  499.5396802325581  3.8706710029070246  206855.81690891474            None  \n",
       "2  382.3297528316098   1.899821717945263  115395.61587441359            None  \n",
       "3                1.0              0.4999             14999.0       <1H OCEAN  \n",
       "4             6082.0             15.0001            500001.0      NEAR OCEAN  "
      ]
     },
     "execution_count": 5,
     "metadata": {},
     "output_type": "execute_result"
    }
   ],
   "source": [
    "# Выведем основные метрики распределений данных \n",
    "df_housing.describe().toPandas()"
   ]
  },
  {
   "cell_type": "code",
   "execution_count": 6,
   "id": "8e74160c",
   "metadata": {},
   "outputs": [
    {
     "name": "stdout",
     "output_type": "stream",
     "text": [
      "longitude 0\n",
      "latitude 0\n",
      "housing_median_age 0\n",
      "total_rooms 0\n",
      "total_bedrooms 207\n",
      "population 0\n",
      "households 0\n",
      "median_income 0\n",
      "median_house_value 0\n",
      "ocean_proximity 20640\n"
     ]
    }
   ],
   "source": [
    "# выведем пропущенные значения в каждой колонке\n",
    "columns = df_housing.columns\n",
    "\n",
    "for column in columns:\n",
    "    check_col = F.col(column).cast('float')\n",
    "    print(column, df_housing.filter(check_col.isNull()).count())"
   ]
  },
  {
   "cell_type": "markdown",
   "id": "a34a1650",
   "metadata": {},
   "source": [
    "Только в столбце 'total_bedrooms' у нас выявлено 207 пропусков, что составляет около 1%. Заменим пропуски на среднее значение 538 для столбца 'total_bedrooms', полученное нами ранее при выводе describe()."
   ]
  },
  {
   "cell_type": "code",
   "execution_count": 7,
   "id": "edbb1df5",
   "metadata": {},
   "outputs": [],
   "source": [
    "#df_housing = df_housing.na.drop(how='any')\n",
    "df_housing = df_housing.fillna(538, subset=['total_bedrooms'])"
   ]
  },
  {
   "cell_type": "code",
   "execution_count": 8,
   "id": "6b67b5cc",
   "metadata": {},
   "outputs": [
    {
     "name": "stdout",
     "output_type": "stream",
     "text": [
      "longitude 0\n",
      "latitude 0\n",
      "housing_median_age 0\n",
      "total_rooms 0\n",
      "total_bedrooms 0\n",
      "population 0\n",
      "households 0\n",
      "median_income 0\n",
      "median_house_value 0\n",
      "ocean_proximity 20640\n"
     ]
    }
   ],
   "source": [
    "# Проверим результат после удаления пропусков\n",
    "columns = df_housing.columns\n",
    "\n",
    "for column in columns:\n",
    "    check_col = F.col(column).cast('float')\n",
    "    print(column, df_housing.filter(check_col.isNull()).count())"
   ]
  },
  {
   "cell_type": "markdown",
   "id": "2afe448d",
   "metadata": {},
   "source": [
    "Пропуски не найдены."
   ]
  },
  {
   "cell_type": "code",
   "execution_count": 9,
   "id": "c73bf5df",
   "metadata": {},
   "outputs": [],
   "source": [
    "# Разделим колонки на два типа: числовые и категориальные\n",
    "categorical_cols = ['ocean_proximity']\n",
    "numerical_cols  = [\"longitude\", \"latitude\", \"housing_median_age\", \"total_rooms\", \"total_bedrooms\", \"population\", \"households\", \"median_income\"]\n",
    "target = \"median_house_value\" "
   ]
  },
  {
   "cell_type": "markdown",
   "id": "d3b2d816",
   "metadata": {},
   "source": [
    "В первую очередь трансформируем категориальные признаки с помощью трансформера StringIndexer. Он переводит текстовые категории в числовое представление. Затем создадим OHE-кодирование."
   ]
  },
  {
   "cell_type": "code",
   "execution_count": 10,
   "id": "e837a6d1",
   "metadata": {},
   "outputs": [
    {
     "name": "stderr",
     "output_type": "stream",
     "text": [
      "                                                                                \r"
     ]
    }
   ],
   "source": [
    "# Трансформируем категориальные признаки\n",
    "indexer = StringIndexer(inputCols=categorical_cols, \n",
    "                        outputCols=[c+'_idx' for c in categorical_cols]) \n",
    "df_housing = indexer.fit(df_housing).transform(df_housing)"
   ]
  },
  {
   "cell_type": "code",
   "execution_count": 11,
   "id": "cfe6e2b2",
   "metadata": {
    "scrolled": false
   },
   "outputs": [
    {
     "data": {
      "text/html": [
       "<div>\n",
       "<style scoped>\n",
       "    .dataframe tbody tr th:only-of-type {\n",
       "        vertical-align: middle;\n",
       "    }\n",
       "\n",
       "    .dataframe tbody tr th {\n",
       "        vertical-align: top;\n",
       "    }\n",
       "\n",
       "    .dataframe thead th {\n",
       "        text-align: right;\n",
       "    }\n",
       "</style>\n",
       "<table border=\"1\" class=\"dataframe\">\n",
       "  <thead>\n",
       "    <tr style=\"text-align: right;\">\n",
       "      <th></th>\n",
       "      <th>longitude</th>\n",
       "      <th>latitude</th>\n",
       "      <th>housing_median_age</th>\n",
       "      <th>total_rooms</th>\n",
       "      <th>total_bedrooms</th>\n",
       "      <th>population</th>\n",
       "      <th>households</th>\n",
       "      <th>median_income</th>\n",
       "      <th>median_house_value</th>\n",
       "      <th>ocean_proximity</th>\n",
       "      <th>ocean_proximity_idx</th>\n",
       "      <th>ocean_proximity_ohe</th>\n",
       "    </tr>\n",
       "  </thead>\n",
       "  <tbody>\n",
       "    <tr>\n",
       "      <th>0</th>\n",
       "      <td>-122.23</td>\n",
       "      <td>37.88</td>\n",
       "      <td>41.0</td>\n",
       "      <td>880.0</td>\n",
       "      <td>129.0</td>\n",
       "      <td>322.0</td>\n",
       "      <td>126.0</td>\n",
       "      <td>8.3252</td>\n",
       "      <td>452600.0</td>\n",
       "      <td>NEAR BAY</td>\n",
       "      <td>3.0</td>\n",
       "      <td>(0.0, 0.0, 0.0, 1.0)</td>\n",
       "    </tr>\n",
       "    <tr>\n",
       "      <th>1</th>\n",
       "      <td>-122.22</td>\n",
       "      <td>37.86</td>\n",
       "      <td>21.0</td>\n",
       "      <td>7099.0</td>\n",
       "      <td>1106.0</td>\n",
       "      <td>2401.0</td>\n",
       "      <td>1138.0</td>\n",
       "      <td>8.3014</td>\n",
       "      <td>358500.0</td>\n",
       "      <td>NEAR BAY</td>\n",
       "      <td>3.0</td>\n",
       "      <td>(0.0, 0.0, 0.0, 1.0)</td>\n",
       "    </tr>\n",
       "    <tr>\n",
       "      <th>2</th>\n",
       "      <td>-122.24</td>\n",
       "      <td>37.85</td>\n",
       "      <td>52.0</td>\n",
       "      <td>1467.0</td>\n",
       "      <td>190.0</td>\n",
       "      <td>496.0</td>\n",
       "      <td>177.0</td>\n",
       "      <td>7.2574</td>\n",
       "      <td>352100.0</td>\n",
       "      <td>NEAR BAY</td>\n",
       "      <td>3.0</td>\n",
       "      <td>(0.0, 0.0, 0.0, 1.0)</td>\n",
       "    </tr>\n",
       "    <tr>\n",
       "      <th>3</th>\n",
       "      <td>-122.25</td>\n",
       "      <td>37.85</td>\n",
       "      <td>52.0</td>\n",
       "      <td>1274.0</td>\n",
       "      <td>235.0</td>\n",
       "      <td>558.0</td>\n",
       "      <td>219.0</td>\n",
       "      <td>5.6431</td>\n",
       "      <td>341300.0</td>\n",
       "      <td>NEAR BAY</td>\n",
       "      <td>3.0</td>\n",
       "      <td>(0.0, 0.0, 0.0, 1.0)</td>\n",
       "    </tr>\n",
       "    <tr>\n",
       "      <th>4</th>\n",
       "      <td>-122.25</td>\n",
       "      <td>37.85</td>\n",
       "      <td>52.0</td>\n",
       "      <td>1627.0</td>\n",
       "      <td>280.0</td>\n",
       "      <td>565.0</td>\n",
       "      <td>259.0</td>\n",
       "      <td>3.8462</td>\n",
       "      <td>342200.0</td>\n",
       "      <td>NEAR BAY</td>\n",
       "      <td>3.0</td>\n",
       "      <td>(0.0, 0.0, 0.0, 1.0)</td>\n",
       "    </tr>\n",
       "  </tbody>\n",
       "</table>\n",
       "</div>"
      ],
      "text/plain": [
       "   longitude  latitude  housing_median_age  total_rooms  total_bedrooms  \\\n",
       "0    -122.23     37.88                41.0        880.0           129.0   \n",
       "1    -122.22     37.86                21.0       7099.0          1106.0   \n",
       "2    -122.24     37.85                52.0       1467.0           190.0   \n",
       "3    -122.25     37.85                52.0       1274.0           235.0   \n",
       "4    -122.25     37.85                52.0       1627.0           280.0   \n",
       "\n",
       "   population  households  median_income  median_house_value ocean_proximity  \\\n",
       "0       322.0       126.0         8.3252            452600.0        NEAR BAY   \n",
       "1      2401.0      1138.0         8.3014            358500.0        NEAR BAY   \n",
       "2       496.0       177.0         7.2574            352100.0        NEAR BAY   \n",
       "3       558.0       219.0         5.6431            341300.0        NEAR BAY   \n",
       "4       565.0       259.0         3.8462            342200.0        NEAR BAY   \n",
       "\n",
       "   ocean_proximity_idx   ocean_proximity_ohe  \n",
       "0                  3.0  (0.0, 0.0, 0.0, 1.0)  \n",
       "1                  3.0  (0.0, 0.0, 0.0, 1.0)  \n",
       "2                  3.0  (0.0, 0.0, 0.0, 1.0)  \n",
       "3                  3.0  (0.0, 0.0, 0.0, 1.0)  \n",
       "4                  3.0  (0.0, 0.0, 0.0, 1.0)  "
      ]
     },
     "execution_count": 11,
     "metadata": {},
     "output_type": "execute_result"
    }
   ],
   "source": [
    "# Преобразуем колонку с категориальными значениями техникой One hot encoding\n",
    "encoder = OneHotEncoder(inputCols=[c+'_idx' for c in categorical_cols],\n",
    "                        outputCols=[c+'_ohe' for c in categorical_cols])\n",
    "df_housing = encoder.fit(df_housing).transform(df_housing)\n",
    "\n",
    "df_housing.toPandas().head()"
   ]
  },
  {
   "cell_type": "markdown",
   "id": "5ba30e57",
   "metadata": {},
   "source": [
    "Объединим признаки в один вектор с помощью VectorAssembler"
   ]
  },
  {
   "cell_type": "code",
   "execution_count": 12,
   "id": "7ac52ec5",
   "metadata": {},
   "outputs": [],
   "source": [
    "categorical_assembler = VectorAssembler(inputCols=[c+'_ohe' for c in categorical_cols], outputCol=\"categorical_features\")\n",
    "df_housing = categorical_assembler.transform(df_housing) "
   ]
  },
  {
   "cell_type": "markdown",
   "id": "889405bd",
   "metadata": {},
   "source": [
    "Числовые признаки трансформируем путем шкалирования значений, чтобы сильные выбросы не смещали предсказания модели."
   ]
  },
  {
   "cell_type": "code",
   "execution_count": 13,
   "id": "56c0b5d1",
   "metadata": {},
   "outputs": [
    {
     "name": "stderr",
     "output_type": "stream",
     "text": [
      "                                                                                \r"
     ]
    }
   ],
   "source": [
    "numerical_assembler = VectorAssembler(inputCols=numerical_cols, outputCol=\"numerical_features\")\n",
    "df_housing = numerical_assembler.transform(df_housing) \n",
    "\n",
    "standardScaler = StandardScaler(inputCol='numerical_features', outputCol=\"numerical_features_scaled\", withMean=True)\n",
    "df_housing = standardScaler.fit(df_housing).transform(df_housing) "
   ]
  },
  {
   "cell_type": "markdown",
   "id": "77a6a6e8",
   "metadata": {},
   "source": [
    "Далее необходимо собрать трансформированные категорийные и числовые признаки с помощью VectorAssembler."
   ]
  },
  {
   "cell_type": "code",
   "execution_count": 14,
   "id": "1e626a69",
   "metadata": {},
   "outputs": [
    {
     "name": "stdout",
     "output_type": "stream",
     "text": [
      "+--------------------+-------------------------+\n",
      "|categorical_features|numerical_features_scaled|\n",
      "+--------------------+-------------------------+\n",
      "|       (4,[3],[1.0])|     [-1.3278030546902...|\n",
      "|       (4,[3],[1.0])|     [-1.3228118684350...|\n",
      "|       (4,[3],[1.0])|     [-1.3327942409452...|\n",
      "+--------------------+-------------------------+\n",
      "only showing top 3 rows\n",
      "\n"
     ]
    }
   ],
   "source": [
    "all_features = ['categorical_features','numerical_features_scaled']\n",
    "\n",
    "final_assembler = VectorAssembler(inputCols=all_features, \n",
    "                                  outputCol=\"features\") \n",
    "df_housing = final_assembler.transform(df_housing)\n",
    "\n",
    "df_housing.select(all_features).show(3) "
   ]
  },
  {
   "cell_type": "markdown",
   "id": "9f0a82f3",
   "metadata": {
    "id": "9f0a82f3"
   },
   "source": [
    "# Обучение моделей"
   ]
  },
  {
   "cell_type": "markdown",
   "id": "7808e39c",
   "metadata": {
    "id": "bddb08c4"
   },
   "source": [
    "Перед обучением модели разобьем наш датасет на выборки"
   ]
  },
  {
   "cell_type": "code",
   "execution_count": 15,
   "id": "750c9672",
   "metadata": {},
   "outputs": [
    {
     "name": "stderr",
     "output_type": "stream",
     "text": [
      "                                                                                \r"
     ]
    },
    {
     "name": "stdout",
     "output_type": "stream",
     "text": [
      "16490 4150\n"
     ]
    },
    {
     "name": "stderr",
     "output_type": "stream",
     "text": [
      "                                                                                \r"
     ]
    }
   ],
   "source": [
    "train_data, test_data = df_housing.randomSplit([.8,.2], seed=RANDOM_SEED)\n",
    "print(train_data.count(), test_data.count()) "
   ]
  },
  {
   "cell_type": "markdown",
   "id": "88bd18d5",
   "metadata": {},
   "source": [
    "По условиям задачи нам необходимо подготовить две модели линейной регрессии. Одна с использованием всех данных из файла, другая - используя только числовые признаки, исключив категориальные."
   ]
  },
  {
   "cell_type": "code",
   "execution_count": 16,
   "id": "160f1e6b",
   "metadata": {},
   "outputs": [
    {
     "name": "stderr",
     "output_type": "stream",
     "text": [
      "24/11/23 22:53:28 WARN Instrumentation: [d8dfe2ca] regParam is zero, which might cause numerical instability and overfitting.\n",
      "24/11/23 22:53:29 WARN BLAS: Failed to load implementation from: com.github.fommil.netlib.NativeSystemBLAS\n",
      "24/11/23 22:53:29 WARN BLAS: Failed to load implementation from: com.github.fommil.netlib.NativeRefBLAS\n",
      "24/11/23 22:53:30 WARN LAPACK: Failed to load implementation from: com.github.fommil.netlib.NativeSystemLAPACK\n",
      "24/11/23 22:53:30 WARN LAPACK: Failed to load implementation from: com.github.fommil.netlib.NativeRefLAPACK\n",
      "                                                                                \r"
     ]
    }
   ],
   "source": [
    "# обучим первую модель\n",
    "lr = LinearRegression(labelCol=target, featuresCol='features')\n",
    "model = lr.fit(train_data) "
   ]
  },
  {
   "cell_type": "code",
   "execution_count": 17,
   "id": "b5638b6d",
   "metadata": {},
   "outputs": [
    {
     "name": "stderr",
     "output_type": "stream",
     "text": [
      "                                                                                \r"
     ]
    },
    {
     "name": "stdout",
     "output_type": "stream",
     "text": [
      "RMSE 68180.8238732294\n",
      "MAE 49698.78254468224\n",
      "R2 0.659289160949233\n"
     ]
    }
   ],
   "source": [
    "# запишем предсказания на тестовой выборке\n",
    "predictions = model.transform(test_data)\n",
    "# Сохраним предсказания и ответы в отдельную переменную\n",
    "results = predictions.select(['prediction', target])\n",
    "# Создадим RDD для расчета метрик\n",
    "results_collect = results.collect()\n",
    "results_list = [ (float(i[0]), float(i[1])) for i in results_collect]\n",
    "scoreAndLabels = spark.sparkContext.parallelize(results_list)\n",
    " \n",
    "metrics = RegressionMetrics(scoreAndLabels)\n",
    "\n",
    "print('RMSE', metrics.rootMeanSquaredError) \n",
    "print('MAE', metrics.meanAbsoluteError) \n",
    "print('R2', metrics.r2) "
   ]
  },
  {
   "cell_type": "code",
   "execution_count": 18,
   "id": "fc9b540e",
   "metadata": {},
   "outputs": [
    {
     "name": "stderr",
     "output_type": "stream",
     "text": [
      "24/11/23 22:53:35 WARN Instrumentation: [316df805] regParam is zero, which might cause numerical instability and overfitting.\n",
      "                                                                                \r"
     ]
    },
    {
     "name": "stdout",
     "output_type": "stream",
     "text": [
      "RMSE 69162.12825063201\n",
      "MAE 50871.4361149453\n",
      "R2 0.6494111028837695\n"
     ]
    }
   ],
   "source": [
    "# Повторим аналогичные операции для модели на количественных признаках\n",
    "lr = LinearRegression(labelCol=target, featuresCol='numerical_features_scaled')\n",
    "model = lr.fit(train_data)\n",
    "# запишем предсказания на тестовой выборке\n",
    "predictions = model.transform(test_data)\n",
    "# Сохраним предсказания и ответы в отдельную переменную\n",
    "results = predictions.select(['prediction', target])\n",
    "# Создадим RDD для расчета метрик\n",
    "results_collect = results.collect()\n",
    "results_list = [ (float(i[0]), float(i[1])) for i in results_collect]\n",
    "scoreAndLabels = spark.sparkContext.parallelize(results_list)\n",
    " \n",
    "metrics = RegressionMetrics(scoreAndLabels)\n",
    "\n",
    "print('RMSE', metrics.rootMeanSquaredError) \n",
    "print('MAE', metrics.meanAbsoluteError) \n",
    "print('R2', metrics.r2)"
   ]
  },
  {
   "cell_type": "markdown",
   "id": "757fd103",
   "metadata": {
    "id": "757fd103"
   },
   "source": [
    "# Анализ результатов"
   ]
  },
  {
   "cell_type": "markdown",
   "id": "0bb863a3",
   "metadata": {},
   "source": [
    "В итоге мы получили следующие результаты согласно наших метрик:\n",
    "<br>\n",
    "RMSE (меньше-лучше) - модель на полном наборе данных лучше чем модель на количественных признаках\n",
    "<br>\n",
    "MAE (меньше-лучше) - модель на полном наборе данных лучше чем модель на количественных признаках\n",
    "<br>\n",
    "R2 (больше-лучше) - модель на полном наборе данных лучше чем модель на количественных признаках\n",
    "<br>\n",
    "\n",
    "Таким образом, по всем трем метрикам модель на полном наборе данных превосходит модель на количественных признаках."
   ]
  }
 ],
 "metadata": {
  "ExecuteTimeLog": [
   {
    "duration": 594,
    "start_time": "2024-11-18T19:15:03.380Z"
   },
   {
    "duration": 781,
    "start_time": "2024-11-20T19:11:40.593Z"
   },
   {
    "duration": 77,
    "start_time": "2024-11-20T19:11:43.974Z"
   },
   {
    "duration": 15848,
    "start_time": "2024-11-20T19:22:09.083Z"
   },
   {
    "duration": 9755,
    "start_time": "2024-11-20T19:22:30.381Z"
   },
   {
    "duration": 50,
    "start_time": "2024-11-20T20:09:47.091Z"
   },
   {
    "duration": 4896,
    "start_time": "2024-11-20T20:44:51.859Z"
   },
   {
    "duration": 97,
    "start_time": "2024-11-20T21:18:28.800Z"
   },
   {
    "duration": 342,
    "start_time": "2024-11-20T21:25:06.914Z"
   },
   {
    "duration": 13,
    "start_time": "2024-11-20T21:28:17.630Z"
   },
   {
    "duration": 4359,
    "start_time": "2024-11-20T21:28:27.870Z"
   },
   {
    "duration": 4427,
    "start_time": "2024-11-20T21:29:01.535Z"
   },
   {
    "duration": 14,
    "start_time": "2024-11-20T21:30:39.399Z"
   },
   {
    "duration": 14,
    "start_time": "2024-11-20T21:30:52.796Z"
   },
   {
    "duration": 15,
    "start_time": "2024-11-20T21:38:18.075Z"
   },
   {
    "duration": 3177,
    "start_time": "2024-11-20T21:38:42.261Z"
   },
   {
    "duration": 3291,
    "start_time": "2024-11-20T21:48:08.446Z"
   },
   {
    "duration": 16,
    "start_time": "2024-11-20T21:48:29.587Z"
   },
   {
    "duration": 19,
    "start_time": "2024-11-20T21:48:41.076Z"
   },
   {
    "duration": 3014,
    "start_time": "2024-11-20T21:48:56.923Z"
   },
   {
    "duration": 18,
    "start_time": "2024-11-20T22:01:39.127Z"
   },
   {
    "duration": 2442,
    "start_time": "2024-11-20T22:02:05.907Z"
   },
   {
    "duration": 2558,
    "start_time": "2024-11-20T22:06:59.327Z"
   },
   {
    "duration": 2382,
    "start_time": "2024-11-20T22:07:09.729Z"
   },
   {
    "duration": 2279,
    "start_time": "2024-11-20T22:07:16.408Z"
   },
   {
    "duration": 157,
    "start_time": "2024-11-20T22:07:55.986Z"
   },
   {
    "duration": 1958,
    "start_time": "2024-11-20T22:10:08.350Z"
   },
   {
    "duration": 12,
    "start_time": "2024-11-20T22:10:19.091Z"
   },
   {
    "duration": 12,
    "start_time": "2024-11-20T22:10:29.699Z"
   },
   {
    "duration": 1731,
    "start_time": "2024-11-20T22:11:01.009Z"
   },
   {
    "duration": 1780,
    "start_time": "2024-11-20T22:11:49.560Z"
   },
   {
    "duration": 19,
    "start_time": "2024-11-20T22:13:40.892Z"
   },
   {
    "duration": 3654,
    "start_time": "2024-11-20T22:13:53.725Z"
   },
   {
    "duration": 4,
    "start_time": "2024-11-20T22:29:26.839Z"
   },
   {
    "duration": 38,
    "start_time": "2024-11-20T22:42:58.616Z"
   },
   {
    "duration": 118,
    "start_time": "2024-11-20T22:43:31.807Z"
   },
   {
    "duration": 129,
    "start_time": "2024-11-20T22:46:21.815Z"
   },
   {
    "duration": 111,
    "start_time": "2024-11-20T22:47:01.374Z"
   },
   {
    "duration": 116,
    "start_time": "2024-11-20T22:49:07.744Z"
   },
   {
    "duration": 620,
    "start_time": "2024-11-21T09:37:49.781Z"
   },
   {
    "duration": 14399,
    "start_time": "2024-11-21T09:37:50.403Z"
   },
   {
    "duration": 7957,
    "start_time": "2024-11-21T09:38:04.804Z"
   },
   {
    "duration": 37,
    "start_time": "2024-11-21T09:38:12.762Z"
   },
   {
    "duration": 3672,
    "start_time": "2024-11-21T09:38:12.802Z"
   },
   {
    "duration": 3693,
    "start_time": "2024-11-21T09:38:16.475Z"
   },
   {
    "duration": 16,
    "start_time": "2024-11-21T09:38:20.170Z"
   },
   {
    "duration": 3613,
    "start_time": "2024-11-21T09:38:20.187Z"
   },
   {
    "duration": 2,
    "start_time": "2024-11-21T09:38:23.802Z"
   },
   {
    "duration": 260,
    "start_time": "2024-11-21T09:38:23.806Z"
   },
   {
    "duration": 97,
    "start_time": "2024-11-21T09:44:34.465Z"
   },
   {
    "duration": 728,
    "start_time": "2024-11-21T19:26:36.934Z"
   },
   {
    "duration": 14691,
    "start_time": "2024-11-21T19:26:37.664Z"
   },
   {
    "duration": 8292,
    "start_time": "2024-11-21T19:26:52.357Z"
   },
   {
    "duration": 106,
    "start_time": "2024-11-21T19:27:00.651Z"
   },
   {
    "duration": 4163,
    "start_time": "2024-11-21T19:27:00.759Z"
   },
   {
    "duration": 3842,
    "start_time": "2024-11-21T19:27:04.924Z"
   },
   {
    "duration": 67,
    "start_time": "2024-11-21T19:27:08.768Z"
   },
   {
    "duration": 3993,
    "start_time": "2024-11-21T19:27:08.836Z"
   },
   {
    "duration": 3,
    "start_time": "2024-11-21T19:27:12.831Z"
   },
   {
    "duration": 396,
    "start_time": "2024-11-21T19:27:12.836Z"
   },
   {
    "duration": 1422,
    "start_time": "2024-11-21T19:31:04.719Z"
   },
   {
    "duration": 95,
    "start_time": "2024-11-21T19:31:17.735Z"
   },
   {
    "duration": 97,
    "start_time": "2024-11-21T19:31:44.619Z"
   },
   {
    "duration": 5,
    "start_time": "2024-11-21T19:59:09.190Z"
   },
   {
    "duration": 22,
    "start_time": "2024-11-21T19:59:09.197Z"
   },
   {
    "duration": 902,
    "start_time": "2024-11-21T19:59:09.221Z"
   },
   {
    "duration": 11,
    "start_time": "2024-11-21T19:59:10.128Z"
   },
   {
    "duration": 1304,
    "start_time": "2024-11-21T19:59:10.142Z"
   },
   {
    "duration": 2355,
    "start_time": "2024-11-21T19:59:11.447Z"
   },
   {
    "duration": 13,
    "start_time": "2024-11-21T19:59:13.821Z"
   },
   {
    "duration": 2598,
    "start_time": "2024-11-21T19:59:13.835Z"
   },
   {
    "duration": 3,
    "start_time": "2024-11-21T19:59:16.436Z"
   },
   {
    "duration": 485,
    "start_time": "2024-11-21T19:59:16.441Z"
   },
   {
    "duration": 1380,
    "start_time": "2024-11-21T19:59:16.932Z"
   },
   {
    "duration": 20,
    "start_time": "2024-11-21T20:30:45.221Z"
   },
   {
    "duration": 1253,
    "start_time": "2024-11-21T20:31:26.696Z"
   },
   {
    "duration": 96,
    "start_time": "2024-11-21T20:32:51.685Z"
   },
   {
    "duration": 26,
    "start_time": "2024-11-21T20:43:53.810Z"
   },
   {
    "duration": 284,
    "start_time": "2024-11-21T20:43:58.323Z"
   },
   {
    "duration": 5,
    "start_time": "2024-11-21T20:47:56.652Z"
   },
   {
    "duration": 1904,
    "start_time": "2024-11-21T20:48:05.163Z"
   },
   {
    "duration": 701,
    "start_time": "2024-11-22T21:12:39.635Z"
   },
   {
    "duration": 15173,
    "start_time": "2024-11-22T21:12:40.338Z"
   },
   {
    "duration": 8792,
    "start_time": "2024-11-22T21:12:55.514Z"
   },
   {
    "duration": 103,
    "start_time": "2024-11-22T21:13:04.308Z"
   },
   {
    "duration": 4207,
    "start_time": "2024-11-22T21:13:04.414Z"
   },
   {
    "duration": 4608,
    "start_time": "2024-11-22T21:13:08.623Z"
   },
   {
    "duration": 72,
    "start_time": "2024-11-22T21:13:13.233Z"
   },
   {
    "duration": 3993,
    "start_time": "2024-11-22T21:13:13.307Z"
   },
   {
    "duration": 3,
    "start_time": "2024-11-22T21:13:17.302Z"
   },
   {
    "duration": 1604,
    "start_time": "2024-11-22T21:13:17.307Z"
   },
   {
    "duration": 2590,
    "start_time": "2024-11-22T21:13:18.913Z"
   },
   {
    "duration": 99,
    "start_time": "2024-11-22T21:13:21.504Z"
   },
   {
    "duration": 1332,
    "start_time": "2024-11-22T21:13:21.605Z"
   },
   {
    "duration": 499,
    "start_time": "2024-11-22T21:13:23.002Z"
   },
   {
    "duration": 3208,
    "start_time": "2024-11-22T21:13:23.503Z"
   },
   {
    "duration": 0,
    "start_time": "2024-11-22T22:41:42.605Z"
   },
   {
    "duration": 0,
    "start_time": "2024-11-22T22:41:42.606Z"
   },
   {
    "duration": 0,
    "start_time": "2024-11-22T22:50:37.008Z"
   },
   {
    "duration": 8,
    "start_time": "2024-11-22T22:50:51.754Z"
   },
   {
    "duration": 12,
    "start_time": "2024-11-22T22:52:16.647Z"
   },
   {
    "duration": 6,
    "start_time": "2024-11-22T22:52:40.832Z"
   },
   {
    "duration": 0,
    "start_time": "2024-11-22T22:54:22.403Z"
   },
   {
    "duration": 211366,
    "start_time": "2024-11-22T22:54:27.156Z"
   },
   {
    "duration": 115,
    "start_time": "2024-11-22T23:01:05.190Z"
   },
   {
    "duration": 16,
    "start_time": "2024-11-22T23:01:41.209Z"
   },
   {
    "duration": 747,
    "start_time": "2024-11-22T23:02:05.480Z"
   },
   {
    "duration": 14993,
    "start_time": "2024-11-22T23:02:06.229Z"
   },
   {
    "duration": 8781,
    "start_time": "2024-11-22T23:02:21.227Z"
   },
   {
    "duration": 104,
    "start_time": "2024-11-22T23:02:30.010Z"
   },
   {
    "duration": 4219,
    "start_time": "2024-11-22T23:02:30.116Z"
   },
   {
    "duration": 4698,
    "start_time": "2024-11-22T23:02:34.337Z"
   },
   {
    "duration": 80,
    "start_time": "2024-11-22T23:02:39.037Z"
   },
   {
    "duration": 4248,
    "start_time": "2024-11-22T23:02:39.119Z"
   },
   {
    "duration": 3,
    "start_time": "2024-11-22T23:02:43.369Z"
   },
   {
    "duration": 1563,
    "start_time": "2024-11-22T23:02:43.373Z"
   },
   {
    "duration": 2802,
    "start_time": "2024-11-22T23:02:44.937Z"
   },
   {
    "duration": 95,
    "start_time": "2024-11-22T23:02:47.741Z"
   },
   {
    "duration": 1233,
    "start_time": "2024-11-22T23:02:47.899Z"
   },
   {
    "duration": 406,
    "start_time": "2024-11-22T23:02:49.199Z"
   },
   {
    "duration": 3507,
    "start_time": "2024-11-22T23:02:49.607Z"
   },
   {
    "duration": 4502,
    "start_time": "2024-11-22T23:02:53.116Z"
   },
   {
    "duration": 215,
    "start_time": "2024-11-22T23:02:57.620Z"
   },
   {
    "duration": 2175,
    "start_time": "2024-11-22T23:04:36.248Z"
   },
   {
    "duration": 4259,
    "start_time": "2024-11-22T23:07:51.349Z"
   },
   {
    "duration": 700,
    "start_time": "2024-11-22T23:21:52.836Z"
   },
   {
    "duration": 15300,
    "start_time": "2024-11-22T23:21:53.538Z"
   },
   {
    "duration": 8888,
    "start_time": "2024-11-22T23:22:08.842Z"
   },
   {
    "duration": 108,
    "start_time": "2024-11-22T23:22:17.732Z"
   },
   {
    "duration": 4417,
    "start_time": "2024-11-22T23:22:17.899Z"
   },
   {
    "duration": 3990,
    "start_time": "2024-11-22T23:22:22.318Z"
   },
   {
    "duration": 23,
    "start_time": "2024-11-22T23:22:26.312Z"
   },
   {
    "duration": 4366,
    "start_time": "2024-11-22T23:22:26.337Z"
   },
   {
    "duration": 4,
    "start_time": "2024-11-22T23:22:30.704Z"
   },
   {
    "duration": 1695,
    "start_time": "2024-11-22T23:22:30.709Z"
   },
   {
    "duration": 2447,
    "start_time": "2024-11-22T23:22:32.406Z"
   },
   {
    "duration": 60,
    "start_time": "2024-11-22T23:22:34.854Z"
   },
   {
    "duration": 1204,
    "start_time": "2024-11-22T23:22:34.916Z"
   },
   {
    "duration": 494,
    "start_time": "2024-11-22T23:22:36.123Z"
   },
   {
    "duration": 2998,
    "start_time": "2024-11-22T23:22:36.619Z"
   },
   {
    "duration": 3594,
    "start_time": "2024-11-22T23:22:39.619Z"
   },
   {
    "duration": 2010,
    "start_time": "2024-11-22T23:22:43.215Z"
   },
   {
    "duration": 4497,
    "start_time": "2024-11-22T23:22:45.226Z"
   },
   {
    "duration": 793,
    "start_time": "2024-11-23T21:11:01.805Z"
   },
   {
    "duration": 17158,
    "start_time": "2024-11-23T21:11:02.600Z"
   },
   {
    "duration": 11368,
    "start_time": "2024-11-23T21:11:19.762Z"
   },
   {
    "duration": 102,
    "start_time": "2024-11-23T21:11:31.132Z"
   },
   {
    "duration": 5121,
    "start_time": "2024-11-23T21:11:31.236Z"
   },
   {
    "duration": 5217,
    "start_time": "2024-11-23T21:11:36.358Z"
   },
   {
    "duration": 47,
    "start_time": "2024-11-23T21:49:26.163Z"
   },
   {
    "duration": 3946,
    "start_time": "2024-11-23T21:49:36.131Z"
   },
   {
    "duration": 4,
    "start_time": "2024-11-23T22:39:39.179Z"
   },
   {
    "duration": 1560,
    "start_time": "2024-11-23T22:39:39.185Z"
   },
   {
    "duration": 2213,
    "start_time": "2024-11-23T22:39:40.746Z"
   },
   {
    "duration": 75,
    "start_time": "2024-11-23T22:39:42.961Z"
   },
   {
    "duration": 1419,
    "start_time": "2024-11-23T22:39:43.039Z"
   },
   {
    "duration": 438,
    "start_time": "2024-11-23T22:39:44.521Z"
   },
   {
    "duration": 2682,
    "start_time": "2024-11-23T22:39:44.961Z"
   },
   {
    "duration": 4317,
    "start_time": "2024-11-23T22:39:47.645Z"
   },
   {
    "duration": 2818,
    "start_time": "2024-11-23T22:39:52.021Z"
   },
   {
    "duration": 4699,
    "start_time": "2024-11-23T22:39:54.841Z"
   },
   {
    "duration": 722,
    "start_time": "2024-11-23T22:52:39.746Z"
   },
   {
    "duration": 15768,
    "start_time": "2024-11-23T22:52:40.471Z"
   },
   {
    "duration": 10086,
    "start_time": "2024-11-23T22:52:56.243Z"
   },
   {
    "duration": 109,
    "start_time": "2024-11-23T22:53:06.330Z"
   },
   {
    "duration": 4383,
    "start_time": "2024-11-23T22:53:06.442Z"
   },
   {
    "duration": 4915,
    "start_time": "2024-11-23T22:53:10.826Z"
   },
   {
    "duration": 95,
    "start_time": "2024-11-23T22:53:15.743Z"
   },
   {
    "duration": 3089,
    "start_time": "2024-11-23T22:53:15.840Z"
   },
   {
    "duration": 3,
    "start_time": "2024-11-23T22:53:18.931Z"
   },
   {
    "duration": 1711,
    "start_time": "2024-11-23T22:53:18.936Z"
   },
   {
    "duration": 2585,
    "start_time": "2024-11-23T22:53:20.648Z"
   },
   {
    "duration": 42,
    "start_time": "2024-11-23T22:53:23.235Z"
   },
   {
    "duration": 1253,
    "start_time": "2024-11-23T22:53:23.279Z"
   },
   {
    "duration": 498,
    "start_time": "2024-11-23T22:53:24.534Z"
   },
   {
    "duration": 3087,
    "start_time": "2024-11-23T22:53:25.034Z"
   },
   {
    "duration": 4335,
    "start_time": "2024-11-23T22:53:28.123Z"
   },
   {
    "duration": 2931,
    "start_time": "2024-11-23T22:53:32.522Z"
   },
   {
    "duration": 4768,
    "start_time": "2024-11-23T22:53:35.456Z"
   }
  ],
  "colab": {
   "name": "PySparkSprint.ipynb",
   "provenance": []
  },
  "kernelspec": {
   "display_name": "Python 3 (ipykernel)",
   "language": "python",
   "name": "python3"
  },
  "language_info": {
   "codemirror_mode": {
    "name": "ipython",
    "version": 3
   },
   "file_extension": ".py",
   "mimetype": "text/x-python",
   "name": "python",
   "nbconvert_exporter": "python",
   "pygments_lexer": "ipython3",
   "version": "3.11.5"
  },
  "toc": {
   "base_numbering": 1,
   "nav_menu": {},
   "number_sections": true,
   "sideBar": true,
   "skip_h1_title": true,
   "title_cell": "Table of Contents",
   "title_sidebar": "Contents",
   "toc_cell": false,
   "toc_position": {},
   "toc_section_display": true,
   "toc_window_display": false
  }
 },
 "nbformat": 4,
 "nbformat_minor": 5
}
